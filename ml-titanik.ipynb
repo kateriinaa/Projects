{
 "cells": [
  {
   "cell_type": "code",
   "execution_count": 1,
   "id": "06bda55e",
   "metadata": {
    "_cell_guid": "b1076dfc-b9ad-4769-8c92-a6c4dae69d19",
    "_uuid": "8f2839f25d086af736a60e9eeb907d3b93b6e0e5",
    "execution": {
     "iopub.execute_input": "2022-01-07T18:26:45.516156Z",
     "iopub.status.busy": "2022-01-07T18:26:45.514287Z",
     "iopub.status.idle": "2022-01-07T18:26:47.066071Z",
     "shell.execute_reply": "2022-01-07T18:26:47.067145Z",
     "shell.execute_reply.started": "2022-01-07T18:25:20.498705Z"
    },
    "papermill": {
     "duration": 1.57668,
     "end_time": "2022-01-07T18:26:47.067649",
     "exception": false,
     "start_time": "2022-01-07T18:26:45.490969",
     "status": "completed"
    },
    "tags": []
   },
   "outputs": [
    {
     "name": "stdout",
     "output_type": "stream",
     "text": [
      "/kaggle/input/titanic/train.csv\n",
      "/kaggle/input/titanic/test.csv\n",
      "/kaggle/input/titanic/gender_submission.csv\n"
     ]
    }
   ],
   "source": [
    "\n",
    "import numpy as np \n",
    "import pandas as pd \n",
    "import matplotlib.pyplot as plt\n",
    "import seaborn as sns\n",
    "from scipy import stats as st\n",
    "import math \n",
    "from sklearn.model_selection import RandomizedSearchCV\n",
    "from sklearn.ensemble import RandomForestClassifier\n",
    "from sklearn.tree import DecisionTreeClassifier\n",
    "from xgboost import XGBClassifier\n",
    "from sklearn.neighbors import KNeighborsClassifier\n",
    "from sklearn.ensemble import AdaBoostClassifier\n",
    "from sklearn.metrics import roc_curve, roc_auc_score\n",
    "\n",
    "from sklearn.model_selection import train_test_split\n",
    "from sklearn.preprocessing import StandardScaler\n",
    "\n",
    "import os\n",
    "for dirname, _, filenames in os.walk('/kaggle/input'):\n",
    "    for filename in filenames:\n",
    "        print(os.path.join(dirname, filename))\n",
    "\n"
   ]
  },
  {
   "cell_type": "markdown",
   "id": "d227050e",
   "metadata": {
    "papermill": {
     "duration": 0.017502,
     "end_time": "2022-01-07T18:26:47.104194",
     "exception": false,
     "start_time": "2022-01-07T18:26:47.086692",
     "status": "completed"
    },
    "tags": []
   },
   "source": [
    "# 1. Exploring the data"
   ]
  },
  {
   "cell_type": "code",
   "execution_count": 2,
   "id": "d4831572",
   "metadata": {
    "execution": {
     "iopub.execute_input": "2022-01-07T18:26:47.142891Z",
     "iopub.status.busy": "2022-01-07T18:26:47.142132Z",
     "iopub.status.idle": "2022-01-07T18:26:47.180218Z",
     "shell.execute_reply": "2022-01-07T18:26:47.179645Z",
     "shell.execute_reply.started": "2022-01-07T18:25:22.107768Z"
    },
    "papermill": {
     "duration": 0.05855,
     "end_time": "2022-01-07T18:26:47.180371",
     "exception": false,
     "start_time": "2022-01-07T18:26:47.121821",
     "status": "completed"
    },
    "tags": []
   },
   "outputs": [],
   "source": [
    "data = pd.read_csv('/kaggle/input/titanic/train.csv')\n",
    "data_test = pd.read_csv('/kaggle/input/titanic/test.csv')"
   ]
  },
  {
   "cell_type": "code",
   "execution_count": 3,
   "id": "ae946638",
   "metadata": {
    "execution": {
     "iopub.execute_input": "2022-01-07T18:26:47.219849Z",
     "iopub.status.busy": "2022-01-07T18:26:47.219165Z",
     "iopub.status.idle": "2022-01-07T18:26:47.243056Z",
     "shell.execute_reply": "2022-01-07T18:26:47.243553Z",
     "shell.execute_reply.started": "2022-01-07T18:25:22.143546Z"
    },
    "papermill": {
     "duration": 0.045081,
     "end_time": "2022-01-07T18:26:47.243730",
     "exception": false,
     "start_time": "2022-01-07T18:26:47.198649",
     "status": "completed"
    },
    "tags": []
   },
   "outputs": [
    {
     "data": {
      "text/html": [
       "<div>\n",
       "<style scoped>\n",
       "    .dataframe tbody tr th:only-of-type {\n",
       "        vertical-align: middle;\n",
       "    }\n",
       "\n",
       "    .dataframe tbody tr th {\n",
       "        vertical-align: top;\n",
       "    }\n",
       "\n",
       "    .dataframe thead th {\n",
       "        text-align: right;\n",
       "    }\n",
       "</style>\n",
       "<table border=\"1\" class=\"dataframe\">\n",
       "  <thead>\n",
       "    <tr style=\"text-align: right;\">\n",
       "      <th></th>\n",
       "      <th>PassengerId</th>\n",
       "      <th>Survived</th>\n",
       "      <th>Pclass</th>\n",
       "      <th>Name</th>\n",
       "      <th>Sex</th>\n",
       "      <th>Age</th>\n",
       "      <th>SibSp</th>\n",
       "      <th>Parch</th>\n",
       "      <th>Ticket</th>\n",
       "      <th>Fare</th>\n",
       "      <th>Cabin</th>\n",
       "      <th>Embarked</th>\n",
       "    </tr>\n",
       "  </thead>\n",
       "  <tbody>\n",
       "    <tr>\n",
       "      <th>0</th>\n",
       "      <td>1</td>\n",
       "      <td>0</td>\n",
       "      <td>3</td>\n",
       "      <td>Braund, Mr. Owen Harris</td>\n",
       "      <td>male</td>\n",
       "      <td>22.0</td>\n",
       "      <td>1</td>\n",
       "      <td>0</td>\n",
       "      <td>A/5 21171</td>\n",
       "      <td>7.2500</td>\n",
       "      <td>NaN</td>\n",
       "      <td>S</td>\n",
       "    </tr>\n",
       "    <tr>\n",
       "      <th>1</th>\n",
       "      <td>2</td>\n",
       "      <td>1</td>\n",
       "      <td>1</td>\n",
       "      <td>Cumings, Mrs. John Bradley (Florence Briggs Th...</td>\n",
       "      <td>female</td>\n",
       "      <td>38.0</td>\n",
       "      <td>1</td>\n",
       "      <td>0</td>\n",
       "      <td>PC 17599</td>\n",
       "      <td>71.2833</td>\n",
       "      <td>C85</td>\n",
       "      <td>C</td>\n",
       "    </tr>\n",
       "    <tr>\n",
       "      <th>2</th>\n",
       "      <td>3</td>\n",
       "      <td>1</td>\n",
       "      <td>3</td>\n",
       "      <td>Heikkinen, Miss. Laina</td>\n",
       "      <td>female</td>\n",
       "      <td>26.0</td>\n",
       "      <td>0</td>\n",
       "      <td>0</td>\n",
       "      <td>STON/O2. 3101282</td>\n",
       "      <td>7.9250</td>\n",
       "      <td>NaN</td>\n",
       "      <td>S</td>\n",
       "    </tr>\n",
       "    <tr>\n",
       "      <th>3</th>\n",
       "      <td>4</td>\n",
       "      <td>1</td>\n",
       "      <td>1</td>\n",
       "      <td>Futrelle, Mrs. Jacques Heath (Lily May Peel)</td>\n",
       "      <td>female</td>\n",
       "      <td>35.0</td>\n",
       "      <td>1</td>\n",
       "      <td>0</td>\n",
       "      <td>113803</td>\n",
       "      <td>53.1000</td>\n",
       "      <td>C123</td>\n",
       "      <td>S</td>\n",
       "    </tr>\n",
       "    <tr>\n",
       "      <th>4</th>\n",
       "      <td>5</td>\n",
       "      <td>0</td>\n",
       "      <td>3</td>\n",
       "      <td>Allen, Mr. William Henry</td>\n",
       "      <td>male</td>\n",
       "      <td>35.0</td>\n",
       "      <td>0</td>\n",
       "      <td>0</td>\n",
       "      <td>373450</td>\n",
       "      <td>8.0500</td>\n",
       "      <td>NaN</td>\n",
       "      <td>S</td>\n",
       "    </tr>\n",
       "  </tbody>\n",
       "</table>\n",
       "</div>"
      ],
      "text/plain": [
       "   PassengerId  Survived  Pclass  \\\n",
       "0            1         0       3   \n",
       "1            2         1       1   \n",
       "2            3         1       3   \n",
       "3            4         1       1   \n",
       "4            5         0       3   \n",
       "\n",
       "                                                Name     Sex   Age  SibSp  \\\n",
       "0                            Braund, Mr. Owen Harris    male  22.0      1   \n",
       "1  Cumings, Mrs. John Bradley (Florence Briggs Th...  female  38.0      1   \n",
       "2                             Heikkinen, Miss. Laina  female  26.0      0   \n",
       "3       Futrelle, Mrs. Jacques Heath (Lily May Peel)  female  35.0      1   \n",
       "4                           Allen, Mr. William Henry    male  35.0      0   \n",
       "\n",
       "   Parch            Ticket     Fare Cabin Embarked  \n",
       "0      0         A/5 21171   7.2500   NaN        S  \n",
       "1      0          PC 17599  71.2833   C85        C  \n",
       "2      0  STON/O2. 3101282   7.9250   NaN        S  \n",
       "3      0            113803  53.1000  C123        S  \n",
       "4      0            373450   8.0500   NaN        S  "
      ]
     },
     "execution_count": 3,
     "metadata": {},
     "output_type": "execute_result"
    }
   ],
   "source": [
    "data.head()"
   ]
  },
  {
   "cell_type": "code",
   "execution_count": 4,
   "id": "97681443",
   "metadata": {
    "execution": {
     "iopub.execute_input": "2022-01-07T18:26:47.283391Z",
     "iopub.status.busy": "2022-01-07T18:26:47.282753Z",
     "iopub.status.idle": "2022-01-07T18:26:47.308785Z",
     "shell.execute_reply": "2022-01-07T18:26:47.309504Z",
     "shell.execute_reply.started": "2022-01-07T18:25:22.172081Z"
    },
    "papermill": {
     "duration": 0.047706,
     "end_time": "2022-01-07T18:26:47.309753",
     "exception": false,
     "start_time": "2022-01-07T18:26:47.262047",
     "status": "completed"
    },
    "tags": []
   },
   "outputs": [
    {
     "name": "stdout",
     "output_type": "stream",
     "text": [
      "<class 'pandas.core.frame.DataFrame'>\n",
      "RangeIndex: 891 entries, 0 to 890\n",
      "Data columns (total 12 columns):\n",
      " #   Column       Non-Null Count  Dtype  \n",
      "---  ------       --------------  -----  \n",
      " 0   PassengerId  891 non-null    int64  \n",
      " 1   Survived     891 non-null    int64  \n",
      " 2   Pclass       891 non-null    int64  \n",
      " 3   Name         891 non-null    object \n",
      " 4   Sex          891 non-null    object \n",
      " 5   Age          714 non-null    float64\n",
      " 6   SibSp        891 non-null    int64  \n",
      " 7   Parch        891 non-null    int64  \n",
      " 8   Ticket       891 non-null    object \n",
      " 9   Fare         891 non-null    float64\n",
      " 10  Cabin        204 non-null    object \n",
      " 11  Embarked     889 non-null    object \n",
      "dtypes: float64(2), int64(5), object(5)\n",
      "memory usage: 83.7+ KB\n"
     ]
    }
   ],
   "source": [
    "data.info()"
   ]
  },
  {
   "cell_type": "code",
   "execution_count": 5,
   "id": "9ff33725",
   "metadata": {
    "execution": {
     "iopub.execute_input": "2022-01-07T18:26:47.351601Z",
     "iopub.status.busy": "2022-01-07T18:26:47.350946Z",
     "iopub.status.idle": "2022-01-07T18:26:47.365667Z",
     "shell.execute_reply": "2022-01-07T18:26:47.366299Z",
     "shell.execute_reply.started": "2022-01-07T18:25:22.198304Z"
    },
    "papermill": {
     "duration": 0.037057,
     "end_time": "2022-01-07T18:26:47.366476",
     "exception": false,
     "start_time": "2022-01-07T18:26:47.329419",
     "status": "completed"
    },
    "tags": []
   },
   "outputs": [
    {
     "data": {
      "text/html": [
       "<div>\n",
       "<style scoped>\n",
       "    .dataframe tbody tr th:only-of-type {\n",
       "        vertical-align: middle;\n",
       "    }\n",
       "\n",
       "    .dataframe tbody tr th {\n",
       "        vertical-align: top;\n",
       "    }\n",
       "\n",
       "    .dataframe thead th {\n",
       "        text-align: right;\n",
       "    }\n",
       "</style>\n",
       "<table border=\"1\" class=\"dataframe\">\n",
       "  <thead>\n",
       "    <tr style=\"text-align: right;\">\n",
       "      <th></th>\n",
       "      <th>PassengerId</th>\n",
       "      <th>Pclass</th>\n",
       "      <th>Name</th>\n",
       "      <th>Sex</th>\n",
       "      <th>Age</th>\n",
       "      <th>SibSp</th>\n",
       "      <th>Parch</th>\n",
       "      <th>Ticket</th>\n",
       "      <th>Fare</th>\n",
       "      <th>Cabin</th>\n",
       "      <th>Embarked</th>\n",
       "    </tr>\n",
       "  </thead>\n",
       "  <tbody>\n",
       "    <tr>\n",
       "      <th>0</th>\n",
       "      <td>892</td>\n",
       "      <td>3</td>\n",
       "      <td>Kelly, Mr. James</td>\n",
       "      <td>male</td>\n",
       "      <td>34.5</td>\n",
       "      <td>0</td>\n",
       "      <td>0</td>\n",
       "      <td>330911</td>\n",
       "      <td>7.8292</td>\n",
       "      <td>NaN</td>\n",
       "      <td>Q</td>\n",
       "    </tr>\n",
       "    <tr>\n",
       "      <th>1</th>\n",
       "      <td>893</td>\n",
       "      <td>3</td>\n",
       "      <td>Wilkes, Mrs. James (Ellen Needs)</td>\n",
       "      <td>female</td>\n",
       "      <td>47.0</td>\n",
       "      <td>1</td>\n",
       "      <td>0</td>\n",
       "      <td>363272</td>\n",
       "      <td>7.0000</td>\n",
       "      <td>NaN</td>\n",
       "      <td>S</td>\n",
       "    </tr>\n",
       "    <tr>\n",
       "      <th>2</th>\n",
       "      <td>894</td>\n",
       "      <td>2</td>\n",
       "      <td>Myles, Mr. Thomas Francis</td>\n",
       "      <td>male</td>\n",
       "      <td>62.0</td>\n",
       "      <td>0</td>\n",
       "      <td>0</td>\n",
       "      <td>240276</td>\n",
       "      <td>9.6875</td>\n",
       "      <td>NaN</td>\n",
       "      <td>Q</td>\n",
       "    </tr>\n",
       "    <tr>\n",
       "      <th>3</th>\n",
       "      <td>895</td>\n",
       "      <td>3</td>\n",
       "      <td>Wirz, Mr. Albert</td>\n",
       "      <td>male</td>\n",
       "      <td>27.0</td>\n",
       "      <td>0</td>\n",
       "      <td>0</td>\n",
       "      <td>315154</td>\n",
       "      <td>8.6625</td>\n",
       "      <td>NaN</td>\n",
       "      <td>S</td>\n",
       "    </tr>\n",
       "    <tr>\n",
       "      <th>4</th>\n",
       "      <td>896</td>\n",
       "      <td>3</td>\n",
       "      <td>Hirvonen, Mrs. Alexander (Helga E Lindqvist)</td>\n",
       "      <td>female</td>\n",
       "      <td>22.0</td>\n",
       "      <td>1</td>\n",
       "      <td>1</td>\n",
       "      <td>3101298</td>\n",
       "      <td>12.2875</td>\n",
       "      <td>NaN</td>\n",
       "      <td>S</td>\n",
       "    </tr>\n",
       "  </tbody>\n",
       "</table>\n",
       "</div>"
      ],
      "text/plain": [
       "   PassengerId  Pclass                                          Name     Sex  \\\n",
       "0          892       3                              Kelly, Mr. James    male   \n",
       "1          893       3              Wilkes, Mrs. James (Ellen Needs)  female   \n",
       "2          894       2                     Myles, Mr. Thomas Francis    male   \n",
       "3          895       3                              Wirz, Mr. Albert    male   \n",
       "4          896       3  Hirvonen, Mrs. Alexander (Helga E Lindqvist)  female   \n",
       "\n",
       "    Age  SibSp  Parch   Ticket     Fare Cabin Embarked  \n",
       "0  34.5      0      0   330911   7.8292   NaN        Q  \n",
       "1  47.0      1      0   363272   7.0000   NaN        S  \n",
       "2  62.0      0      0   240276   9.6875   NaN        Q  \n",
       "3  27.0      0      0   315154   8.6625   NaN        S  \n",
       "4  22.0      1      1  3101298  12.2875   NaN        S  "
      ]
     },
     "execution_count": 5,
     "metadata": {},
     "output_type": "execute_result"
    }
   ],
   "source": [
    "data_test.head()"
   ]
  },
  {
   "cell_type": "code",
   "execution_count": 6,
   "id": "19022d42",
   "metadata": {
    "execution": {
     "iopub.execute_input": "2022-01-07T18:26:47.408145Z",
     "iopub.status.busy": "2022-01-07T18:26:47.407506Z",
     "iopub.status.idle": "2022-01-07T18:26:47.419564Z",
     "shell.execute_reply": "2022-01-07T18:26:47.420308Z",
     "shell.execute_reply.started": "2022-01-07T18:25:22.215917Z"
    },
    "papermill": {
     "duration": 0.034754,
     "end_time": "2022-01-07T18:26:47.420531",
     "exception": false,
     "start_time": "2022-01-07T18:26:47.385777",
     "status": "completed"
    },
    "tags": []
   },
   "outputs": [
    {
     "name": "stdout",
     "output_type": "stream",
     "text": [
      "<class 'pandas.core.frame.DataFrame'>\n",
      "RangeIndex: 418 entries, 0 to 417\n",
      "Data columns (total 11 columns):\n",
      " #   Column       Non-Null Count  Dtype  \n",
      "---  ------       --------------  -----  \n",
      " 0   PassengerId  418 non-null    int64  \n",
      " 1   Pclass       418 non-null    int64  \n",
      " 2   Name         418 non-null    object \n",
      " 3   Sex          418 non-null    object \n",
      " 4   Age          332 non-null    float64\n",
      " 5   SibSp        418 non-null    int64  \n",
      " 6   Parch        418 non-null    int64  \n",
      " 7   Ticket       418 non-null    object \n",
      " 8   Fare         417 non-null    float64\n",
      " 9   Cabin        91 non-null     object \n",
      " 10  Embarked     418 non-null    object \n",
      "dtypes: float64(2), int64(4), object(5)\n",
      "memory usage: 36.0+ KB\n"
     ]
    }
   ],
   "source": [
    "data_test.info()"
   ]
  },
  {
   "cell_type": "code",
   "execution_count": 7,
   "id": "197d8b57",
   "metadata": {
    "execution": {
     "iopub.execute_input": "2022-01-07T18:26:47.464882Z",
     "iopub.status.busy": "2022-01-07T18:26:47.464218Z",
     "iopub.status.idle": "2022-01-07T18:26:47.500255Z",
     "shell.execute_reply": "2022-01-07T18:26:47.498963Z",
     "shell.execute_reply.started": "2022-01-07T18:25:22.240851Z"
    },
    "papermill": {
     "duration": 0.059456,
     "end_time": "2022-01-07T18:26:47.500494",
     "exception": false,
     "start_time": "2022-01-07T18:26:47.441038",
     "status": "completed"
    },
    "tags": []
   },
   "outputs": [
    {
     "name": "stdout",
     "output_type": "stream",
     "text": [
      "<class 'pandas.core.frame.DataFrame'>\n",
      "Int64Index: 889 entries, 0 to 890\n",
      "Data columns (total 14 columns):\n",
      " #   Column       Non-Null Count  Dtype  \n",
      "---  ------       --------------  -----  \n",
      " 0   PassengerId  889 non-null    int64  \n",
      " 1   Survived     889 non-null    int64  \n",
      " 2   Pclass       889 non-null    int64  \n",
      " 3   Name         889 non-null    object \n",
      " 4   Sex          889 non-null    object \n",
      " 5   Age          889 non-null    float64\n",
      " 6   SibSp        889 non-null    int64  \n",
      " 7   Parch        889 non-null    int64  \n",
      " 8   Ticket       889 non-null    object \n",
      " 9   Fare         889 non-null    float64\n",
      " 10  Embarked     889 non-null    object \n",
      " 11  name         889 non-null    object \n",
      " 12  status       889 non-null    object \n",
      " 13  surname      889 non-null    object \n",
      "dtypes: float64(2), int64(5), object(7)\n",
      "memory usage: 104.2+ KB\n"
     ]
    }
   ],
   "source": [
    "data[['name','status']] = pd.DataFrame(data.Name.str.split(', ',1).tolist(),columns = ['name','status'])\n",
    "data[['status','surname']] = pd.DataFrame(data.status.str.split('. ',1).tolist(),columns = ['status','surname'])\n",
    "data.loc[data['status'] == 'th', 'status'] = 'Countess'\n",
    "data['Age'] = data['Age'].fillna(data.groupby(data['status'])['Age'].transform('median'))\n",
    "data = data.drop(['Cabin'], axis = 1)\n",
    "data = data[data.Embarked.notnull()]\n",
    "data.info()"
   ]
  },
  {
   "cell_type": "code",
   "execution_count": 8,
   "id": "39c7a68d",
   "metadata": {
    "execution": {
     "iopub.execute_input": "2022-01-07T18:26:47.562611Z",
     "iopub.status.busy": "2022-01-07T18:26:47.561958Z",
     "iopub.status.idle": "2022-01-07T18:26:47.575559Z",
     "shell.execute_reply": "2022-01-07T18:26:47.576784Z",
     "shell.execute_reply.started": "2022-01-07T18:25:22.278904Z"
    },
    "papermill": {
     "duration": 0.055593,
     "end_time": "2022-01-07T18:26:47.577081",
     "exception": false,
     "start_time": "2022-01-07T18:26:47.521488",
     "status": "completed"
    },
    "tags": []
   },
   "outputs": [
    {
     "name": "stdout",
     "output_type": "stream",
     "text": [
      "<class 'pandas.core.frame.DataFrame'>\n",
      "RangeIndex: 418 entries, 0 to 417\n",
      "Data columns (total 13 columns):\n",
      " #   Column       Non-Null Count  Dtype  \n",
      "---  ------       --------------  -----  \n",
      " 0   PassengerId  418 non-null    int64  \n",
      " 1   Pclass       418 non-null    int64  \n",
      " 2   Name         418 non-null    object \n",
      " 3   Sex          418 non-null    object \n",
      " 4   Age          418 non-null    float64\n",
      " 5   SibSp        418 non-null    int64  \n",
      " 6   Parch        418 non-null    int64  \n",
      " 7   Ticket       418 non-null    object \n",
      " 8   Fare         418 non-null    float64\n",
      " 9   Embarked     418 non-null    object \n",
      " 10  name         418 non-null    object \n",
      " 11  status       418 non-null    object \n",
      " 12  surname      418 non-null    object \n",
      "dtypes: float64(2), int64(4), object(7)\n",
      "memory usage: 42.6+ KB\n"
     ]
    }
   ],
   "source": [
    "data_test[['name','status']] = pd.DataFrame(data_test.Name.str.split(', ',1).tolist(),columns = ['name','status'])\n",
    "data_test[['status','surname']] = pd.DataFrame(data_test.status.str.split('. ',1).tolist(),columns = ['status','surname'])\n",
    "\n",
    "data_test['Age'] = data_test['Age'].fillna(data_test.groupby(data_test['status'])['Age'].transform('median'))\n",
    "data_test = data_test.drop(['Cabin'], axis = 1)\n",
    "\n",
    "data_test['Age'] = data_test['Age'].fillna(data.groupby(data['status'])['Age'].transform('median'))\n",
    "data_test['Fare'] = data_test['Fare'].fillna(data.groupby(data['status'])['Fare'].transform('median'))\n",
    "\n",
    "data_test.info()"
   ]
  },
  {
   "cell_type": "code",
   "execution_count": 9,
   "id": "14c5e076",
   "metadata": {
    "execution": {
     "iopub.execute_input": "2022-01-07T18:26:47.622040Z",
     "iopub.status.busy": "2022-01-07T18:26:47.621405Z",
     "iopub.status.idle": "2022-01-07T18:26:49.372772Z",
     "shell.execute_reply": "2022-01-07T18:26:49.372226Z",
     "shell.execute_reply.started": "2022-01-07T18:25:22.309125Z"
    },
    "papermill": {
     "duration": 1.774504,
     "end_time": "2022-01-07T18:26:49.372930",
     "exception": false,
     "start_time": "2022-01-07T18:26:47.598426",
     "status": "completed"
    },
    "tags": []
   },
   "outputs": [
    {
     "data": {
      "text/plain": [
       "<function matplotlib.pyplot.show(close=None, block=None)>"
      ]
     },
     "execution_count": 9,
     "metadata": {},
     "output_type": "execute_result"
    },
    {
     "data": {
      "image/png": "[encoded data removed]",
      "text/plain": [
       "<Figure size 411.875x360 with 6 Axes>"
      ]
     },
     "metadata": {
      "needs_background": "light"
     },
     "output_type": "display_data"
    }
   ],
   "source": [
    "sns.pairplot(data[['Fare',  'Age', 'Survived']], hue = 'Survived', plot_kws = {'alpha' : .2}, palette = 'seismic_r')\n",
    "plt.show"
   ]
  },
  {
   "cell_type": "code",
   "execution_count": 10,
   "id": "85c41a21",
   "metadata": {
    "execution": {
     "iopub.execute_input": "2022-01-07T18:26:49.424876Z",
     "iopub.status.busy": "2022-01-07T18:26:49.424188Z",
     "iopub.status.idle": "2022-01-07T18:26:49.840363Z",
     "shell.execute_reply": "2022-01-07T18:26:49.839752Z",
     "shell.execute_reply.started": "2022-01-07T18:25:24.094516Z"
    },
    "papermill": {
     "duration": 0.445558,
     "end_time": "2022-01-07T18:26:49.840518",
     "exception": false,
     "start_time": "2022-01-07T18:26:49.394960",
     "status": "completed"
    },
    "tags": []
   },
   "outputs": [
    {
     "data": {
      "text/plain": [
       "Text(0.5, 1.0, 'Triangle Correlation Heatmap')"
      ]
     },
     "execution_count": 10,
     "metadata": {},
     "output_type": "execute_result"
    },
    {
     "data": {
      "image/png": "[encoded data removed]",
      "text/plain": [
       "<Figure size 432x288 with 2 Axes>"
      ]
     },
     "metadata": {
      "needs_background": "light"
     },
     "output_type": "display_data"
    }
   ],
   "source": [
    "mask = np.triu(np.ones_like(data.corr(), dtype=np.bool)) \n",
    "heatmap = sns.heatmap(data.corr(), annot = True, mask=mask, cmap=\"YlGnBu\",vmin=-1, vmax=1)\n",
    "heatmap.set_title('Triangle Correlation Heatmap', fontdict={'fontsize':18}, pad=16)"
   ]
  },
  {
   "cell_type": "markdown",
   "id": "d6f89151",
   "metadata": {
    "papermill": {
     "duration": 0.023311,
     "end_time": "2022-01-07T18:26:49.887618",
     "exception": false,
     "start_time": "2022-01-07T18:26:49.864307",
     "status": "completed"
    },
    "tags": []
   },
   "source": [
    "# 2. ML"
   ]
  },
  {
   "cell_type": "code",
   "execution_count": 11,
   "id": "ab6507af",
   "metadata": {
    "execution": {
     "iopub.execute_input": "2022-01-07T18:26:49.939929Z",
     "iopub.status.busy": "2022-01-07T18:26:49.938873Z",
     "iopub.status.idle": "2022-01-07T18:26:49.951431Z",
     "shell.execute_reply": "2022-01-07T18:26:49.951921Z",
     "shell.execute_reply.started": "2022-01-07T18:25:24.530283Z"
    },
    "papermill": {
     "duration": 0.040707,
     "end_time": "2022-01-07T18:26:49.952118",
     "exception": false,
     "start_time": "2022-01-07T18:26:49.911411",
     "status": "completed"
    },
    "tags": []
   },
   "outputs": [],
   "source": [
    "data = data.drop(['PassengerId', 'Name', 'Ticket', 'name', 'surname'], axis = 1)\n",
    "data_ohe = pd.get_dummies(data, drop_first=True)\n",
    "\n",
    "data_id_test = data_test['PassengerId']"
   ]
  },
  {
   "cell_type": "code",
   "execution_count": 12,
   "id": "ab53d6aa",
   "metadata": {
    "execution": {
     "iopub.execute_input": "2022-01-07T18:26:50.013005Z",
     "iopub.status.busy": "2022-01-07T18:26:50.011890Z",
     "iopub.status.idle": "2022-01-07T18:26:50.031691Z",
     "shell.execute_reply": "2022-01-07T18:26:50.032418Z",
     "shell.execute_reply.started": "2022-01-07T18:25:24.547027Z"
    },
    "papermill": {
     "duration": 0.055608,
     "end_time": "2022-01-07T18:26:50.032646",
     "exception": false,
     "start_time": "2022-01-07T18:26:49.977038",
     "status": "completed"
    },
    "tags": []
   },
   "outputs": [
    {
     "name": "stdout",
     "output_type": "stream",
     "text": [
      "<class 'pandas.core.frame.DataFrame'>\n",
      "RangeIndex: 418 entries, 0 to 417\n",
      "Data columns (total 24 columns):\n",
      " #   Column           Non-Null Count  Dtype  \n",
      "---  ------           --------------  -----  \n",
      " 0   Pclass           418 non-null    int64  \n",
      " 1   Age              418 non-null    float64\n",
      " 2   SibSp            418 non-null    int64  \n",
      " 3   Parch            418 non-null    int64  \n",
      " 4   Fare             418 non-null    float64\n",
      " 5   Sex_male         418 non-null    uint8  \n",
      " 6   Embarked_Q       418 non-null    uint8  \n",
      " 7   Embarked_S       418 non-null    uint8  \n",
      " 8   status_Don       418 non-null    uint8  \n",
      " 9   status_Dr        418 non-null    uint8  \n",
      " 10  status_Master    418 non-null    uint8  \n",
      " 11  status_Miss      418 non-null    uint8  \n",
      " 12  status_Mr        418 non-null    uint8  \n",
      " 13  status_Mrs       418 non-null    uint8  \n",
      " 14  status_Ms        418 non-null    int64  \n",
      " 15  status_Rev       418 non-null    uint8  \n",
      " 16  status_Col       418 non-null    int64  \n",
      " 17  status_Countess  418 non-null    int64  \n",
      " 18  status_Jonkheer  418 non-null    int64  \n",
      " 19  status_Lady      418 non-null    int64  \n",
      " 20  status_Major     418 non-null    int64  \n",
      " 21  status_Mlle      418 non-null    int64  \n",
      " 22  status_Mme       418 non-null    int64  \n",
      " 23  status_Sir       418 non-null    int64  \n",
      "dtypes: float64(2), int64(12), uint8(10)\n",
      "memory usage: 49.9 KB\n"
     ]
    }
   ],
   "source": [
    "data_test = data_test.drop(['PassengerId', 'Name', 'Ticket', 'name', 'surname'], axis = 1)\n",
    "data_test_ohe = pd.get_dummies(data_test, drop_first=True)\n",
    "\n",
    "data_test_ohe = data_test_ohe.rename(columns={'status_Dona': 'status_Don'})\n",
    "data_test_ohe[['status_Col','status_Countess' , 'status_Jonkheer', 'status_Lady', 'status_Major', 'status_Mlle', 'status_Mme','status_Ms', 'status_Sir' ]] = 0\n",
    "\n",
    "\n",
    "data_test_ohe.info()"
   ]
  },
  {
   "cell_type": "code",
   "execution_count": 13,
   "id": "1b0acbb6",
   "metadata": {
    "execution": {
     "iopub.execute_input": "2022-01-07T18:26:50.086299Z",
     "iopub.status.busy": "2022-01-07T18:26:50.085633Z",
     "iopub.status.idle": "2022-01-07T18:26:50.095789Z",
     "shell.execute_reply": "2022-01-07T18:26:50.096483Z",
     "shell.execute_reply.started": "2022-01-07T18:25:24.582945Z"
    },
    "papermill": {
     "duration": 0.038344,
     "end_time": "2022-01-07T18:26:50.096656",
     "exception": false,
     "start_time": "2022-01-07T18:26:50.058312",
     "status": "completed"
    },
    "tags": []
   },
   "outputs": [
    {
     "data": {
      "text/html": [
       "<div>\n",
       "<style scoped>\n",
       "    .dataframe tbody tr th:only-of-type {\n",
       "        vertical-align: middle;\n",
       "    }\n",
       "\n",
       "    .dataframe tbody tr th {\n",
       "        vertical-align: top;\n",
       "    }\n",
       "\n",
       "    .dataframe thead th {\n",
       "        text-align: right;\n",
       "    }\n",
       "</style>\n",
       "<table border=\"1\" class=\"dataframe\">\n",
       "  <thead>\n",
       "    <tr style=\"text-align: right;\">\n",
       "      <th></th>\n",
       "      <th>PassengerId</th>\n",
       "    </tr>\n",
       "  </thead>\n",
       "  <tbody>\n",
       "    <tr>\n",
       "      <th>0</th>\n",
       "      <td>892</td>\n",
       "    </tr>\n",
       "    <tr>\n",
       "      <th>1</th>\n",
       "      <td>893</td>\n",
       "    </tr>\n",
       "    <tr>\n",
       "      <th>2</th>\n",
       "      <td>894</td>\n",
       "    </tr>\n",
       "    <tr>\n",
       "      <th>3</th>\n",
       "      <td>895</td>\n",
       "    </tr>\n",
       "    <tr>\n",
       "      <th>4</th>\n",
       "      <td>896</td>\n",
       "    </tr>\n",
       "    <tr>\n",
       "      <th>...</th>\n",
       "      <td>...</td>\n",
       "    </tr>\n",
       "    <tr>\n",
       "      <th>413</th>\n",
       "      <td>1305</td>\n",
       "    </tr>\n",
       "    <tr>\n",
       "      <th>414</th>\n",
       "      <td>1306</td>\n",
       "    </tr>\n",
       "    <tr>\n",
       "      <th>415</th>\n",
       "      <td>1307</td>\n",
       "    </tr>\n",
       "    <tr>\n",
       "      <th>416</th>\n",
       "      <td>1308</td>\n",
       "    </tr>\n",
       "    <tr>\n",
       "      <th>417</th>\n",
       "      <td>1309</td>\n",
       "    </tr>\n",
       "  </tbody>\n",
       "</table>\n",
       "<p>418 rows × 1 columns</p>\n",
       "</div>"
      ],
      "text/plain": [
       "     PassengerId\n",
       "0            892\n",
       "1            893\n",
       "2            894\n",
       "3            895\n",
       "4            896\n",
       "..           ...\n",
       "413         1305\n",
       "414         1306\n",
       "415         1307\n",
       "416         1308\n",
       "417         1309\n",
       "\n",
       "[418 rows x 1 columns]"
      ]
     },
     "execution_count": 13,
     "metadata": {},
     "output_type": "execute_result"
    }
   ],
   "source": [
    "pd.DataFrame(data_id_test)"
   ]
  },
  {
   "cell_type": "code",
   "execution_count": 14,
   "id": "e39046ff",
   "metadata": {
    "execution": {
     "iopub.execute_input": "2022-01-07T18:26:50.148899Z",
     "iopub.status.busy": "2022-01-07T18:26:50.148261Z",
     "iopub.status.idle": "2022-01-07T18:26:50.162281Z",
     "shell.execute_reply": "2022-01-07T18:26:50.163036Z",
     "shell.execute_reply.started": "2022-01-07T18:25:24.594581Z"
    },
    "papermill": {
     "duration": 0.042042,
     "end_time": "2022-01-07T18:26:50.163269",
     "exception": false,
     "start_time": "2022-01-07T18:26:50.121227",
     "status": "completed"
    },
    "tags": []
   },
   "outputs": [
    {
     "name": "stdout",
     "output_type": "stream",
     "text": [
      "<class 'pandas.core.frame.DataFrame'>\n",
      "Int64Index: 889 entries, 0 to 890\n",
      "Data columns (total 25 columns):\n",
      " #   Column           Non-Null Count  Dtype  \n",
      "---  ------           --------------  -----  \n",
      " 0   Survived         889 non-null    int64  \n",
      " 1   Pclass           889 non-null    int64  \n",
      " 2   Age              889 non-null    float64\n",
      " 3   SibSp            889 non-null    int64  \n",
      " 4   Parch            889 non-null    int64  \n",
      " 5   Fare             889 non-null    float64\n",
      " 6   Sex_male         889 non-null    uint8  \n",
      " 7   Embarked_Q       889 non-null    uint8  \n",
      " 8   Embarked_S       889 non-null    uint8  \n",
      " 9   status_Col       889 non-null    uint8  \n",
      " 10  status_Countess  889 non-null    uint8  \n",
      " 11  status_Don       889 non-null    uint8  \n",
      " 12  status_Dr        889 non-null    uint8  \n",
      " 13  status_Jonkheer  889 non-null    uint8  \n",
      " 14  status_Lady      889 non-null    uint8  \n",
      " 15  status_Major     889 non-null    uint8  \n",
      " 16  status_Master    889 non-null    uint8  \n",
      " 17  status_Miss      889 non-null    uint8  \n",
      " 18  status_Mlle      889 non-null    uint8  \n",
      " 19  status_Mme       889 non-null    uint8  \n",
      " 20  status_Mr        889 non-null    uint8  \n",
      " 21  status_Mrs       889 non-null    uint8  \n",
      " 22  status_Ms        889 non-null    uint8  \n",
      " 23  status_Rev       889 non-null    uint8  \n",
      " 24  status_Sir       889 non-null    uint8  \n",
      "dtypes: float64(2), int64(4), uint8(19)\n",
      "memory usage: 97.4 KB\n"
     ]
    }
   ],
   "source": [
    "data_ohe.info()"
   ]
  },
  {
   "cell_type": "code",
   "execution_count": 15,
   "id": "56f8a8bd",
   "metadata": {
    "execution": {
     "iopub.execute_input": "2022-01-07T18:26:50.228789Z",
     "iopub.status.busy": "2022-01-07T18:26:50.227956Z",
     "iopub.status.idle": "2022-01-07T18:26:50.266229Z",
     "shell.execute_reply": "2022-01-07T18:26:50.266723Z",
     "shell.execute_reply.started": "2022-01-07T18:25:24.619581Z"
    },
    "papermill": {
     "duration": 0.072121,
     "end_time": "2022-01-07T18:26:50.266924",
     "exception": false,
     "start_time": "2022-01-07T18:26:50.194803",
     "status": "completed"
    },
    "tags": []
   },
   "outputs": [
    {
     "name": "stdout",
     "output_type": "stream",
     "text": [
      "(666, 24) (666,)\n",
      "(223, 24) (223,)\n",
      "(418, 24)\n"
     ]
    },
    {
     "name": "stderr",
     "output_type": "stream",
     "text": [
      "/opt/conda/lib/python3.7/site-packages/pandas/core/frame.py:3673: SettingWithCopyWarning: \n",
      "A value is trying to be set on a copy of a slice from a DataFrame.\n",
      "Try using .loc[row_indexer,col_indexer] = value instead\n",
      "\n",
      "See the caveats in the documentation: https://pandas.pydata.org/pandas-docs/stable/user_guide/indexing.html#returning-a-view-versus-a-copy\n",
      "  self[col] = igetitem(value, i)\n",
      "/opt/conda/lib/python3.7/site-packages/pandas/core/frame.py:3673: SettingWithCopyWarning: \n",
      "A value is trying to be set on a copy of a slice from a DataFrame.\n",
      "Try using .loc[row_indexer,col_indexer] = value instead\n",
      "\n",
      "See the caveats in the documentation: https://pandas.pydata.org/pandas-docs/stable/user_guide/indexing.html#returning-a-view-versus-a-copy\n",
      "  self[col] = igetitem(value, i)\n"
     ]
    }
   ],
   "source": [
    "data_features = data_ohe.drop(['Survived'], axis = 1)\n",
    "data_target = data_ohe['Survived']\n",
    "\n",
    "features_train, features_valid, target_train, target_valid = train_test_split(\n",
    "        data_features, data_target, test_size=0.25, random_state=12345) \n",
    "\n",
    "numeric = ['Fare', 'SibSp', 'Age', 'Parch']\n",
    "scaler = StandardScaler()\n",
    "features_train[numeric] = scaler.fit_transform(features_train[numeric]) \n",
    "features_valid[numeric] = scaler.fit_transform(features_valid[numeric]) \n",
    "data_test_ohe[numeric] = scaler.fit_transform(data_test_ohe[numeric]) \n",
    "\n",
    "import warnings\n",
    "warnings.filterwarnings('ignore')\n",
    "\n",
    "print(features_train.shape, target_train.shape)\n",
    "print(features_valid.shape, target_valid.shape)\n",
    "print(data_test_ohe.shape)\n",
    "\n",
    "warnings.filterwarnings('ignore')"
   ]
  },
  {
   "cell_type": "code",
   "execution_count": 16,
   "id": "c1e2fc2e",
   "metadata": {
    "execution": {
     "iopub.execute_input": "2022-01-07T18:26:50.333884Z",
     "iopub.status.busy": "2022-01-07T18:26:50.333161Z",
     "iopub.status.idle": "2022-01-07T18:27:06.686905Z",
     "shell.execute_reply": "2022-01-07T18:27:06.686114Z",
     "shell.execute_reply.started": "2022-01-07T18:25:24.667651Z"
    },
    "papermill": {
     "duration": 16.394705,
     "end_time": "2022-01-07T18:27:06.687073",
     "exception": false,
     "start_time": "2022-01-07T18:26:50.292368",
     "status": "completed"
    },
    "tags": []
   },
   "outputs": [
    {
     "name": "stdout",
     "output_type": "stream",
     "text": [
      "DecisionTreeClassifier {'max_depth': 7, 'criterion': 'entropy'}\n",
      "RandomForestClassifier {'n_estimators': 46, 'min_samples_split': 6, 'min_samples_leaf': 1, 'max_features': 'log2', 'max_depth': 11, 'criterion': 'gini'}\n",
      "XGBClassifier {'n_estimators': 81, 'max_depth': 2, 'eval_metric': 'mlogloss'}\n",
      "KNeighborsClassifier {'weights': 'uniform', 'n_neighbors': 5}\n",
      "AdaBoostClassifier {'base_estimator__splitter': 'random', 'base_estimator__criterion': 'entropy'}\n"
     ]
    },
    {
     "data": {
      "text/plain": [
       "{'base_estimator__splitter': 'random', 'base_estimator__criterion': 'entropy'}"
      ]
     },
     "execution_count": 16,
     "metadata": {},
     "output_type": "execute_result"
    }
   ],
   "source": [
    "scores = []\n",
    "def search(model, parametrs, model_name):\n",
    "    search = RandomizedSearchCV(model, parametrs, cv=5)\n",
    "    search.fit(features_train, target_train)\n",
    "    predicted_valid = search.predict(features_valid)\n",
    "    print(model_name, search.best_params_)\n",
    "    scores.append(pd.Series({\n",
    "        'Estimator' : model_name, \n",
    "        'best_parameter': search.best_params_, \n",
    "        'best_score': search.best_score_\n",
    "    }))\n",
    "    return search.best_params_\n",
    "    warnings.filterwarnings('ignore')\n",
    "\n",
    "decision_param = search(DecisionTreeClassifier(random_state = 12345),{'max_depth': range (1,13, 1),'criterion': ['gini', 'entropy']} , 'DecisionTreeClassifier')\n",
    "\n",
    "param_random = search(RandomForestClassifier(random_state = 12345),{  \n",
    "              'n_estimators': range (1, 51, 5),\n",
    "              'max_depth': range (1,13, 2),\n",
    "              'min_samples_leaf': range (1,8),\n",
    "              'min_samples_split': range (2,10,2),\n",
    "              'criterion': ['gini', 'entropy'] ,\n",
    "              'max_features': ['auto', 'sqrt', 'log2']} , 'RandomForestClassifier')\n",
    "\n",
    "param_XGBClassifier = search(XGBClassifier(random_state = 12345), { 'eval_metric' : ['mlogloss'],\n",
    "    'max_depth': range (1,13, 1),\n",
    "    'n_estimators': range(1, 400, 20)}, 'XGBClassifier')\n",
    "warnings.filterwarnings('ignore')\n",
    "\n",
    "param_kn = search(KNeighborsClassifier(), {\n",
    "    'n_neighbors': range (1,20, 1), 'weights': ['distance', 'uniform']\n",
    "    }, 'KNeighborsClassifier')\n",
    "\n",
    "search(AdaBoostClassifier(base_estimator = DecisionTreeClassifier(random_state = 12345)),{\n",
    "    'base_estimator__criterion' : [\"gini\", \"entropy\"],\n",
    "    \"base_estimator__splitter\" :   [\"best\", \"random\"],\n",
    "    }, 'AdaBoostClassifier' )"
   ]
  },
  {
   "cell_type": "code",
   "execution_count": 17,
   "id": "809b9a96",
   "metadata": {
    "execution": {
     "iopub.execute_input": "2022-01-07T18:27:06.745974Z",
     "iopub.status.busy": "2022-01-07T18:27:06.745246Z",
     "iopub.status.idle": "2022-01-07T18:27:06.758629Z",
     "shell.execute_reply": "2022-01-07T18:27:06.758130Z",
     "shell.execute_reply.started": "2022-01-07T18:25:39.788854Z"
    },
    "papermill": {
     "duration": 0.043695,
     "end_time": "2022-01-07T18:27:06.758772",
     "exception": false,
     "start_time": "2022-01-07T18:27:06.715077",
     "status": "completed"
    },
    "tags": []
   },
   "outputs": [
    {
     "data": {
      "text/html": [
       "<div>\n",
       "<style scoped>\n",
       "    .dataframe tbody tr th:only-of-type {\n",
       "        vertical-align: middle;\n",
       "    }\n",
       "\n",
       "    .dataframe tbody tr th {\n",
       "        vertical-align: top;\n",
       "    }\n",
       "\n",
       "    .dataframe thead th {\n",
       "        text-align: right;\n",
       "    }\n",
       "</style>\n",
       "<table border=\"1\" class=\"dataframe\">\n",
       "  <thead>\n",
       "    <tr style=\"text-align: right;\">\n",
       "      <th></th>\n",
       "      <th>best_parameter</th>\n",
       "      <th>best_score</th>\n",
       "    </tr>\n",
       "    <tr>\n",
       "      <th>Estimator</th>\n",
       "      <th></th>\n",
       "      <th></th>\n",
       "    </tr>\n",
       "  </thead>\n",
       "  <tbody>\n",
       "    <tr>\n",
       "      <th>DecisionTreeClassifier</th>\n",
       "      <td>{'max_depth': 7, 'criterion': 'entropy'}</td>\n",
       "      <td>0.839322</td>\n",
       "    </tr>\n",
       "    <tr>\n",
       "      <th>RandomForestClassifier</th>\n",
       "      <td>{'n_estimators': 46, 'min_samples_split': 6, '...</td>\n",
       "      <td>0.837807</td>\n",
       "    </tr>\n",
       "    <tr>\n",
       "      <th>XGBClassifier</th>\n",
       "      <td>{'n_estimators': 81, 'max_depth': 2, 'eval_met...</td>\n",
       "      <td>0.852834</td>\n",
       "    </tr>\n",
       "    <tr>\n",
       "      <th>KNeighborsClassifier</th>\n",
       "      <td>{'weights': 'uniform', 'n_neighbors': 5}</td>\n",
       "      <td>0.830345</td>\n",
       "    </tr>\n",
       "    <tr>\n",
       "      <th>AdaBoostClassifier</th>\n",
       "      <td>{'base_estimator__splitter': 'random', 'base_e...</td>\n",
       "      <td>0.812299</td>\n",
       "    </tr>\n",
       "  </tbody>\n",
       "</table>\n",
       "</div>"
      ],
      "text/plain": [
       "                                                           best_parameter  \\\n",
       "Estimator                                                                   \n",
       "DecisionTreeClassifier           {'max_depth': 7, 'criterion': 'entropy'}   \n",
       "RandomForestClassifier  {'n_estimators': 46, 'min_samples_split': 6, '...   \n",
       "XGBClassifier           {'n_estimators': 81, 'max_depth': 2, 'eval_met...   \n",
       "KNeighborsClassifier             {'weights': 'uniform', 'n_neighbors': 5}   \n",
       "AdaBoostClassifier      {'base_estimator__splitter': 'random', 'base_e...   \n",
       "\n",
       "                       best_score  \n",
       "Estimator                          \n",
       "DecisionTreeClassifier   0.839322  \n",
       "RandomForestClassifier   0.837807  \n",
       "XGBClassifier            0.852834  \n",
       "KNeighborsClassifier     0.830345  \n",
       "AdaBoostClassifier       0.812299  "
      ]
     },
     "execution_count": 17,
     "metadata": {},
     "output_type": "execute_result"
    }
   ],
   "source": [
    "results = pd.concat(scores, axis=1).T.set_index('Estimator')   \n",
    "results"
   ]
  },
  {
   "cell_type": "code",
   "execution_count": 18,
   "id": "ef18e8b6",
   "metadata": {
    "execution": {
     "iopub.execute_input": "2022-01-07T18:27:06.819183Z",
     "iopub.status.busy": "2022-01-07T18:27:06.818463Z",
     "iopub.status.idle": "2022-01-07T18:27:07.789607Z",
     "shell.execute_reply": "2022-01-07T18:27:07.790108Z",
     "shell.execute_reply.started": "2022-01-07T18:25:39.805447Z"
    },
    "papermill": {
     "duration": 1.003528,
     "end_time": "2022-01-07T18:27:07.790297",
     "exception": false,
     "start_time": "2022-01-07T18:27:06.786769",
     "status": "completed"
    },
    "tags": []
   },
   "outputs": [
    {
     "name": "stdout",
     "output_type": "stream",
     "text": [
      "RandomForestClassifier\n",
      "auc_roc:  0.8258\n"
     ]
    },
    {
     "data": {
      "image/png": "[encoded data removed]",
      "text/plain": [
       "<Figure size 432x288 with 1 Axes>"
      ]
     },
     "metadata": {
      "needs_background": "light"
     },
     "output_type": "display_data"
    },
    {
     "name": "stdout",
     "output_type": "stream",
     "text": [
      "XGBClassifier\n",
      "auc_roc:  0.837\n"
     ]
    },
    {
     "data": {
      "image/png": "[encoded data removed]",
      "text/plain": [
       "<Figure size 432x288 with 1 Axes>"
      ]
     },
     "metadata": {
      "needs_background": "light"
     },
     "output_type": "display_data"
    },
    {
     "name": "stdout",
     "output_type": "stream",
     "text": [
      "KNeighborsClassifier\n",
      "auc_roc:  0.8336\n"
     ]
    },
    {
     "data": {
      "image/png": "[encoded data removed]",
      "text/plain": [
       "<Figure size 432x288 with 1 Axes>"
      ]
     },
     "metadata": {
      "needs_background": "light"
     },
     "output_type": "display_data"
    },
    {
     "name": "stdout",
     "output_type": "stream",
     "text": [
      "DecisionTreeClassifier\n",
      "auc_roc:  0.7741\n"
     ]
    },
    {
     "data": {
      "image/png": "[encoded data removed]",
      "text/plain": [
       "<Figure size 432x288 with 1 Axes>"
      ]
     },
     "metadata": {
      "needs_background": "light"
     },
     "output_type": "display_data"
    }
   ],
   "source": [
    "def roc(model, model_name):\n",
    "  model.fit(features_train, target_train)\n",
    "  probabilities_valid = model.predict_proba(features_valid)\n",
    "  probabilities_one_valid = probabilities_valid[:, 1]\n",
    "  print(model_name)\n",
    "  print('auc_roc: ', roc_auc_score(target_valid, probabilities_one_valid).round(4))\n",
    "  fpr, tpr, thresholds = roc_curve(target_valid,probabilities_one_valid)\n",
    "  \n",
    "  plt.figure()\n",
    "  plt.plot([0, 1], [0, 1], linestyle = '--')\n",
    "  plt.plot(fpr, tpr)\n",
    "  plt.xlim([0,1]) \n",
    "  plt.ylim([0,1])\n",
    "  plt.xlabel('False Positive Rate')\n",
    "  plt.ylabel('True Positive Rate')\n",
    "  plt.title('ROC')\n",
    "  plt.show()\n",
    "\n",
    "roc(RandomForestClassifier( **param_random, random_state = 12345), 'RandomForestClassifier')\n",
    "\n",
    "roc(XGBClassifier(**param_XGBClassifier, random_state = 12345), 'XGBClassifier')\n",
    "\n",
    "roc(KNeighborsClassifier(**param_kn), 'KNeighborsClassifier')\n",
    "\n",
    "roc(DecisionTreeClassifier(**decision_param, random_state = 12345), 'DecisionTreeClassifier')"
   ]
  },
  {
   "cell_type": "code",
   "execution_count": 19,
   "id": "2924f7ce",
   "metadata": {
    "execution": {
     "iopub.execute_input": "2022-01-07T18:27:07.866307Z",
     "iopub.status.busy": "2022-01-07T18:27:07.865590Z",
     "iopub.status.idle": "2022-01-07T18:27:07.983299Z",
     "shell.execute_reply": "2022-01-07T18:27:07.983777Z",
     "shell.execute_reply.started": "2022-01-07T18:25:40.739316Z"
    },
    "papermill": {
     "duration": 0.160021,
     "end_time": "2022-01-07T18:27:07.984002",
     "exception": false,
     "start_time": "2022-01-07T18:27:07.823981",
     "status": "completed"
    },
    "tags": []
   },
   "outputs": [
    {
     "name": "stdout",
     "output_type": "stream",
     "text": [
      "     PassengerId  Survived\n",
      "0            892         0\n",
      "1            893         0\n",
      "2            894         0\n",
      "3            895         0\n",
      "4            896         0\n",
      "..           ...       ...\n",
      "413         1305         0\n",
      "414         1306         1\n",
      "415         1307         0\n",
      "416         1308         0\n",
      "417         1309         1\n",
      "\n",
      "[418 rows x 2 columns]\n",
      "Your submission was successfully saved!\n"
     ]
    }
   ],
   "source": [
    "model = RandomForestClassifier( **param_random, random_state = 12345)\n",
    "model.fit(features_train, target_train)\n",
    "\n",
    "predicts = model.predict(data_test_ohe)\n",
    "\n",
    "output = pd.DataFrame({'PassengerId': data_id_test, 'Survived': predicts})\n",
    "\n",
    "output.to_csv('my_submission_titanik.csv', index=False)\n",
    "print(output)\n",
    "print(\"Your submission was successfully saved!\")"
   ]
  }
 ],
 "metadata": {
  "kernelspec": {
   "display_name": "Python 3",
   "language": "python",
   "name": "python3"
  },
  "language_info": {
   "codemirror_mode": {
    "name": "ipython",
    "version": 3
   },
   "file_extension": ".py",
   "mimetype": "text/x-python",
   "name": "python",
   "nbconvert_exporter": "python",
   "pygments_lexer": "ipython3",
   "version": "3.7.10"
  },
  "papermill": {
   "default_parameters": {},
   "duration": 32.881164,
   "end_time": "2022-01-07T18:27:09.538978",
   "environment_variables": {},
   "exception": null,
   "input_path": "__notebook__.ipynb",
   "output_path": "__notebook__.ipynb",
   "parameters": {},
   "start_time": "2022-01-07T18:26:36.657814",
   "version": "2.3.3"
  }
 },
 "nbformat": 4,
 "nbformat_minor": 5
}
