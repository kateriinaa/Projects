{
 "cells": [
  {
   "cell_type": "markdown",
   "metadata": {},
   "source": [
    "#  Сборный проект 1\n",
    "\n",
    "Интернет-магазин «Стримчик» продаёт по всему миру компьютерные игры. Из открытых источников доступны исторические данные о продажах игр, оценки пользователей и экспертов, жанры и платформы (например, Xbox или PlayStation). Нужно выявить определяющие успешность игры закономерности. Это позволит сделать ставку на потенциально популярный продукт и спланировать рекламные кампании.\n",
    "\n",
    "Описание данных\n",
    "- Name — название игры\n",
    "- Platform — платформа\n",
    "- Year_of_Release — год выпуска\n",
    "- Genre — жанр игры\n",
    "- NA_sales — продажи в Северной Америке (миллионы проданных копий)\n",
    "- EU_sales — продажи в Европе (миллионы проданных копий)\n",
    "- JP_sales — продажи в Японии (миллионы проданных копий)\n",
    "- Other_sales — продажи в других странах (миллионы проданных копий)\n",
    "- Critic_Score — оценка критиков (максимум 100)\n",
    "- User_Score — оценка пользователей (максимум 10)\n",
    "- Rating — рейтинг от организации ESRB (англ. Entertainment Software Rating Board). Эта ассоциация определяет рейтинг компьютерных игр и присваивает им подходящую возрастную категорию.\n",
    " - «EC» («Early childhood») — «Для детей младшего возраста»\n",
    " - «E» («Everyone») — «Для всех». Первоначально \"K-A\" (\"Kids to Adults\")\n",
    " - «E10+» («Everyone 10 and older») — «Для всех от 10 лет и старше»\n",
    " - «T» («Teen») — «Подросткам»\n",
    " - «M» («Mature») — «Для взрослых»\n",
    " - «AO» («Adults Only 18+») — «Только для взрослых»\n",
    " - «RP» («Rating Pending») — «Рейтинг ожидается»\n",
    "\n",
    "\n",
    "Данные за 2016 год могут быть неполными."
   ]
  },
  {
   "cell_type": "markdown",
   "metadata": {},
   "source": [
    "<div class=\"alert alert-success\" style=\"border-radius: 15px; box-shadow: 4px 4px 4px; border: 1px solid \">\n",
    "<b> Комментарий ревьюера</b>\n",
    "    \n",
    "Хорошо, что добавляешь краткое описание задачи и данных. Это не помешает, когда ты вернешься к проекту через некоторое время, чтобы что-то посмотреть (такое часто бывает). Кроме того, так работа выглядит презентабельнее.   \n",
    "</div>"
   ]
  },
  {
   "cell_type": "code",
   "execution_count": 1,
   "metadata": {},
   "outputs": [],
   "source": [
    "import pandas as pd\n",
    "import numpy as np\n",
    "import matplotlib.pyplot as plt\n",
    "from collections import Counter\n",
    "import seaborn as sns\n",
    "from scipy import stats as st\n",
    "import math"
   ]
  },
  {
   "cell_type": "markdown",
   "metadata": {},
   "source": [
    "## Шаг 1. Импорт файла "
   ]
  },
  {
   "cell_type": "code",
   "execution_count": 2,
   "metadata": {},
   "outputs": [
    {
     "data": {
      "text/html": [
       "<div>\n",
       "<style scoped>\n",
       "    .dataframe tbody tr th:only-of-type {\n",
       "        vertical-align: middle;\n",
       "    }\n",
       "\n",
       "    .dataframe tbody tr th {\n",
       "        vertical-align: top;\n",
       "    }\n",
       "\n",
       "    .dataframe thead th {\n",
       "        text-align: right;\n",
       "    }\n",
       "</style>\n",
       "<table border=\"1\" class=\"dataframe\">\n",
       "  <thead>\n",
       "    <tr style=\"text-align: right;\">\n",
       "      <th></th>\n",
       "      <th>Name</th>\n",
       "      <th>Platform</th>\n",
       "      <th>Year_of_Release</th>\n",
       "      <th>Genre</th>\n",
       "      <th>NA_sales</th>\n",
       "      <th>EU_sales</th>\n",
       "      <th>JP_sales</th>\n",
       "      <th>Other_sales</th>\n",
       "      <th>Critic_Score</th>\n",
       "      <th>User_Score</th>\n",
       "      <th>Rating</th>\n",
       "    </tr>\n",
       "  </thead>\n",
       "  <tbody>\n",
       "    <tr>\n",
       "      <td>0</td>\n",
       "      <td>Wii Sports</td>\n",
       "      <td>Wii</td>\n",
       "      <td>2006.0</td>\n",
       "      <td>Sports</td>\n",
       "      <td>41.36</td>\n",
       "      <td>28.96</td>\n",
       "      <td>3.77</td>\n",
       "      <td>8.45</td>\n",
       "      <td>76.0</td>\n",
       "      <td>8</td>\n",
       "      <td>E</td>\n",
       "    </tr>\n",
       "    <tr>\n",
       "      <td>1</td>\n",
       "      <td>Super Mario Bros.</td>\n",
       "      <td>NES</td>\n",
       "      <td>1985.0</td>\n",
       "      <td>Platform</td>\n",
       "      <td>29.08</td>\n",
       "      <td>3.58</td>\n",
       "      <td>6.81</td>\n",
       "      <td>0.77</td>\n",
       "      <td>NaN</td>\n",
       "      <td>NaN</td>\n",
       "      <td>NaN</td>\n",
       "    </tr>\n",
       "    <tr>\n",
       "      <td>2</td>\n",
       "      <td>Mario Kart Wii</td>\n",
       "      <td>Wii</td>\n",
       "      <td>2008.0</td>\n",
       "      <td>Racing</td>\n",
       "      <td>15.68</td>\n",
       "      <td>12.76</td>\n",
       "      <td>3.79</td>\n",
       "      <td>3.29</td>\n",
       "      <td>82.0</td>\n",
       "      <td>8.3</td>\n",
       "      <td>E</td>\n",
       "    </tr>\n",
       "    <tr>\n",
       "      <td>3</td>\n",
       "      <td>Wii Sports Resort</td>\n",
       "      <td>Wii</td>\n",
       "      <td>2009.0</td>\n",
       "      <td>Sports</td>\n",
       "      <td>15.61</td>\n",
       "      <td>10.93</td>\n",
       "      <td>3.28</td>\n",
       "      <td>2.95</td>\n",
       "      <td>80.0</td>\n",
       "      <td>8</td>\n",
       "      <td>E</td>\n",
       "    </tr>\n",
       "    <tr>\n",
       "      <td>4</td>\n",
       "      <td>Pokemon Red/Pokemon Blue</td>\n",
       "      <td>GB</td>\n",
       "      <td>1996.0</td>\n",
       "      <td>Role-Playing</td>\n",
       "      <td>11.27</td>\n",
       "      <td>8.89</td>\n",
       "      <td>10.22</td>\n",
       "      <td>1.00</td>\n",
       "      <td>NaN</td>\n",
       "      <td>NaN</td>\n",
       "      <td>NaN</td>\n",
       "    </tr>\n",
       "    <tr>\n",
       "      <td>...</td>\n",
       "      <td>...</td>\n",
       "      <td>...</td>\n",
       "      <td>...</td>\n",
       "      <td>...</td>\n",
       "      <td>...</td>\n",
       "      <td>...</td>\n",
       "      <td>...</td>\n",
       "      <td>...</td>\n",
       "      <td>...</td>\n",
       "      <td>...</td>\n",
       "      <td>...</td>\n",
       "    </tr>\n",
       "    <tr>\n",
       "      <td>16710</td>\n",
       "      <td>Samurai Warriors: Sanada Maru</td>\n",
       "      <td>PS3</td>\n",
       "      <td>2016.0</td>\n",
       "      <td>Action</td>\n",
       "      <td>0.00</td>\n",
       "      <td>0.00</td>\n",
       "      <td>0.01</td>\n",
       "      <td>0.00</td>\n",
       "      <td>NaN</td>\n",
       "      <td>NaN</td>\n",
       "      <td>NaN</td>\n",
       "    </tr>\n",
       "    <tr>\n",
       "      <td>16711</td>\n",
       "      <td>LMA Manager 2007</td>\n",
       "      <td>X360</td>\n",
       "      <td>2006.0</td>\n",
       "      <td>Sports</td>\n",
       "      <td>0.00</td>\n",
       "      <td>0.01</td>\n",
       "      <td>0.00</td>\n",
       "      <td>0.00</td>\n",
       "      <td>NaN</td>\n",
       "      <td>NaN</td>\n",
       "      <td>NaN</td>\n",
       "    </tr>\n",
       "    <tr>\n",
       "      <td>16712</td>\n",
       "      <td>Haitaka no Psychedelica</td>\n",
       "      <td>PSV</td>\n",
       "      <td>2016.0</td>\n",
       "      <td>Adventure</td>\n",
       "      <td>0.00</td>\n",
       "      <td>0.00</td>\n",
       "      <td>0.01</td>\n",
       "      <td>0.00</td>\n",
       "      <td>NaN</td>\n",
       "      <td>NaN</td>\n",
       "      <td>NaN</td>\n",
       "    </tr>\n",
       "    <tr>\n",
       "      <td>16713</td>\n",
       "      <td>Spirits &amp; Spells</td>\n",
       "      <td>GBA</td>\n",
       "      <td>2003.0</td>\n",
       "      <td>Platform</td>\n",
       "      <td>0.01</td>\n",
       "      <td>0.00</td>\n",
       "      <td>0.00</td>\n",
       "      <td>0.00</td>\n",
       "      <td>NaN</td>\n",
       "      <td>NaN</td>\n",
       "      <td>NaN</td>\n",
       "    </tr>\n",
       "    <tr>\n",
       "      <td>16714</td>\n",
       "      <td>Winning Post 8 2016</td>\n",
       "      <td>PSV</td>\n",
       "      <td>2016.0</td>\n",
       "      <td>Simulation</td>\n",
       "      <td>0.00</td>\n",
       "      <td>0.00</td>\n",
       "      <td>0.01</td>\n",
       "      <td>0.00</td>\n",
       "      <td>NaN</td>\n",
       "      <td>NaN</td>\n",
       "      <td>NaN</td>\n",
       "    </tr>\n",
       "  </tbody>\n",
       "</table>\n",
       "<p>16715 rows × 11 columns</p>\n",
       "</div>"
      ],
      "text/plain": [
       "                                Name Platform  Year_of_Release         Genre  \\\n",
       "0                         Wii Sports      Wii           2006.0        Sports   \n",
       "1                  Super Mario Bros.      NES           1985.0      Platform   \n",
       "2                     Mario Kart Wii      Wii           2008.0        Racing   \n",
       "3                  Wii Sports Resort      Wii           2009.0        Sports   \n",
       "4           Pokemon Red/Pokemon Blue       GB           1996.0  Role-Playing   \n",
       "...                              ...      ...              ...           ...   \n",
       "16710  Samurai Warriors: Sanada Maru      PS3           2016.0        Action   \n",
       "16711               LMA Manager 2007     X360           2006.0        Sports   \n",
       "16712        Haitaka no Psychedelica      PSV           2016.0     Adventure   \n",
       "16713               Spirits & Spells      GBA           2003.0      Platform   \n",
       "16714            Winning Post 8 2016      PSV           2016.0    Simulation   \n",
       "\n",
       "       NA_sales  EU_sales  JP_sales  Other_sales  Critic_Score User_Score  \\\n",
       "0         41.36     28.96      3.77         8.45          76.0          8   \n",
       "1         29.08      3.58      6.81         0.77           NaN        NaN   \n",
       "2         15.68     12.76      3.79         3.29          82.0        8.3   \n",
       "3         15.61     10.93      3.28         2.95          80.0          8   \n",
       "4         11.27      8.89     10.22         1.00           NaN        NaN   \n",
       "...         ...       ...       ...          ...           ...        ...   \n",
       "16710      0.00      0.00      0.01         0.00           NaN        NaN   \n",
       "16711      0.00      0.01      0.00         0.00           NaN        NaN   \n",
       "16712      0.00      0.00      0.01         0.00           NaN        NaN   \n",
       "16713      0.01      0.00      0.00         0.00           NaN        NaN   \n",
       "16714      0.00      0.00      0.01         0.00           NaN        NaN   \n",
       "\n",
       "      Rating  \n",
       "0          E  \n",
       "1        NaN  \n",
       "2          E  \n",
       "3          E  \n",
       "4        NaN  \n",
       "...      ...  \n",
       "16710    NaN  \n",
       "16711    NaN  \n",
       "16712    NaN  \n",
       "16713    NaN  \n",
       "16714    NaN  \n",
       "\n",
       "[16715 rows x 11 columns]"
      ]
     },
     "execution_count": 2,
     "metadata": {},
     "output_type": "execute_result"
    }
   ],
   "source": [
    "data = pd.read_csv('/datasets/games.csv')\n",
    "data"
   ]
  },
  {
   "cell_type": "code",
   "execution_count": 3,
   "metadata": {},
   "outputs": [
    {
     "name": "stdout",
     "output_type": "stream",
     "text": [
      "<class 'pandas.core.frame.DataFrame'>\n",
      "RangeIndex: 16715 entries, 0 to 16714\n",
      "Data columns (total 11 columns):\n",
      "Name               16713 non-null object\n",
      "Platform           16715 non-null object\n",
      "Year_of_Release    16446 non-null float64\n",
      "Genre              16713 non-null object\n",
      "NA_sales           16715 non-null float64\n",
      "EU_sales           16715 non-null float64\n",
      "JP_sales           16715 non-null float64\n",
      "Other_sales        16715 non-null float64\n",
      "Critic_Score       8137 non-null float64\n",
      "User_Score         10014 non-null object\n",
      "Rating             9949 non-null object\n",
      "dtypes: float64(6), object(5)\n",
      "memory usage: 1.4+ MB\n"
     ]
    }
   ],
   "source": [
    "data.info()"
   ]
  },
  {
   "cell_type": "code",
   "execution_count": 4,
   "metadata": {},
   "outputs": [
    {
     "data": {
      "text/html": [
       "<div>\n",
       "<style scoped>\n",
       "    .dataframe tbody tr th:only-of-type {\n",
       "        vertical-align: middle;\n",
       "    }\n",
       "\n",
       "    .dataframe tbody tr th {\n",
       "        vertical-align: top;\n",
       "    }\n",
       "\n",
       "    .dataframe thead th {\n",
       "        text-align: right;\n",
       "    }\n",
       "</style>\n",
       "<table border=\"1\" class=\"dataframe\">\n",
       "  <thead>\n",
       "    <tr style=\"text-align: right;\">\n",
       "      <th></th>\n",
       "      <th>Name</th>\n",
       "      <th>Platform</th>\n",
       "      <th>Year_of_Release</th>\n",
       "      <th>Genre</th>\n",
       "      <th>NA_sales</th>\n",
       "      <th>EU_sales</th>\n",
       "      <th>JP_sales</th>\n",
       "      <th>Other_sales</th>\n",
       "      <th>Critic_Score</th>\n",
       "      <th>User_Score</th>\n",
       "      <th>Rating</th>\n",
       "    </tr>\n",
       "  </thead>\n",
       "  <tbody>\n",
       "    <tr>\n",
       "      <td>659</td>\n",
       "      <td>NaN</td>\n",
       "      <td>GEN</td>\n",
       "      <td>1993.0</td>\n",
       "      <td>NaN</td>\n",
       "      <td>1.78</td>\n",
       "      <td>0.53</td>\n",
       "      <td>0.00</td>\n",
       "      <td>0.08</td>\n",
       "      <td>NaN</td>\n",
       "      <td>NaN</td>\n",
       "      <td>NaN</td>\n",
       "    </tr>\n",
       "    <tr>\n",
       "      <td>14244</td>\n",
       "      <td>NaN</td>\n",
       "      <td>GEN</td>\n",
       "      <td>1993.0</td>\n",
       "      <td>NaN</td>\n",
       "      <td>0.00</td>\n",
       "      <td>0.00</td>\n",
       "      <td>0.03</td>\n",
       "      <td>0.00</td>\n",
       "      <td>NaN</td>\n",
       "      <td>NaN</td>\n",
       "      <td>NaN</td>\n",
       "    </tr>\n",
       "  </tbody>\n",
       "</table>\n",
       "</div>"
      ],
      "text/plain": [
       "      Name Platform  Year_of_Release Genre  NA_sales  EU_sales  JP_sales  \\\n",
       "659    NaN      GEN           1993.0   NaN      1.78      0.53      0.00   \n",
       "14244  NaN      GEN           1993.0   NaN      0.00      0.00      0.03   \n",
       "\n",
       "       Other_sales  Critic_Score User_Score Rating  \n",
       "659           0.08           NaN        NaN    NaN  \n",
       "14244         0.00           NaN        NaN    NaN  "
      ]
     },
     "execution_count": 4,
     "metadata": {},
     "output_type": "execute_result"
    }
   ],
   "source": [
    "# пустые значения в столбце имени\n",
    "pd.DataFrame(data[data['Name'].isnull()])"
   ]
  },
  {
   "cell_type": "code",
   "execution_count": 5,
   "metadata": {},
   "outputs": [
    {
     "data": {
      "text/html": [
       "<div>\n",
       "<style scoped>\n",
       "    .dataframe tbody tr th:only-of-type {\n",
       "        vertical-align: middle;\n",
       "    }\n",
       "\n",
       "    .dataframe tbody tr th {\n",
       "        vertical-align: top;\n",
       "    }\n",
       "\n",
       "    .dataframe thead th {\n",
       "        text-align: right;\n",
       "    }\n",
       "</style>\n",
       "<table border=\"1\" class=\"dataframe\">\n",
       "  <thead>\n",
       "    <tr style=\"text-align: right;\">\n",
       "      <th></th>\n",
       "      <th>Name</th>\n",
       "      <th>Platform</th>\n",
       "      <th>Year_of_Release</th>\n",
       "      <th>Genre</th>\n",
       "      <th>NA_sales</th>\n",
       "      <th>EU_sales</th>\n",
       "      <th>JP_sales</th>\n",
       "      <th>Other_sales</th>\n",
       "      <th>Critic_Score</th>\n",
       "      <th>User_Score</th>\n",
       "      <th>Rating</th>\n",
       "    </tr>\n",
       "  </thead>\n",
       "  <tbody>\n",
       "    <tr>\n",
       "      <td>13672</td>\n",
       "      <td>Clockwork Empires</td>\n",
       "      <td>PC</td>\n",
       "      <td>NaN</td>\n",
       "      <td>Strategy</td>\n",
       "      <td>0.0</td>\n",
       "      <td>0.04</td>\n",
       "      <td>0.0</td>\n",
       "      <td>0.00</td>\n",
       "      <td>58.0</td>\n",
       "      <td>3.8</td>\n",
       "      <td>RP</td>\n",
       "    </tr>\n",
       "    <tr>\n",
       "      <td>14270</td>\n",
       "      <td>Supreme Ruler: Cold War</td>\n",
       "      <td>PC</td>\n",
       "      <td>2011.0</td>\n",
       "      <td>Strategy</td>\n",
       "      <td>0.0</td>\n",
       "      <td>0.03</td>\n",
       "      <td>0.0</td>\n",
       "      <td>0.01</td>\n",
       "      <td>63.0</td>\n",
       "      <td>6.8</td>\n",
       "      <td>RP</td>\n",
       "    </tr>\n",
       "    <tr>\n",
       "      <td>16180</td>\n",
       "      <td>WRC: FIA World Rally Championship</td>\n",
       "      <td>PC</td>\n",
       "      <td>NaN</td>\n",
       "      <td>Racing</td>\n",
       "      <td>0.0</td>\n",
       "      <td>0.01</td>\n",
       "      <td>0.0</td>\n",
       "      <td>0.00</td>\n",
       "      <td>65.0</td>\n",
       "      <td>NaN</td>\n",
       "      <td>RP</td>\n",
       "    </tr>\n",
       "  </tbody>\n",
       "</table>\n",
       "</div>"
      ],
      "text/plain": [
       "                                    Name Platform  Year_of_Release     Genre  \\\n",
       "13672                  Clockwork Empires       PC              NaN  Strategy   \n",
       "14270            Supreme Ruler: Cold War       PC           2011.0  Strategy   \n",
       "16180  WRC: FIA World Rally Championship       PC              NaN    Racing   \n",
       "\n",
       "       NA_sales  EU_sales  JP_sales  Other_sales  Critic_Score User_Score  \\\n",
       "13672       0.0      0.04       0.0         0.00          58.0        3.8   \n",
       "14270       0.0      0.03       0.0         0.01          63.0        6.8   \n",
       "16180       0.0      0.01       0.0         0.00          65.0        NaN   \n",
       "\n",
       "      Rating  \n",
       "13672     RP  \n",
       "14270     RP  \n",
       "16180     RP  "
      ]
     },
     "execution_count": 5,
     "metadata": {},
     "output_type": "execute_result"
    }
   ],
   "source": [
    "pd.DataFrame(data[data['Rating']=='RP'])"
   ]
  },
  {
   "cell_type": "code",
   "execution_count": 6,
   "metadata": {},
   "outputs": [
    {
     "data": {
      "text/html": [
       "<div>\n",
       "<style scoped>\n",
       "    .dataframe tbody tr th:only-of-type {\n",
       "        vertical-align: middle;\n",
       "    }\n",
       "\n",
       "    .dataframe tbody tr th {\n",
       "        vertical-align: top;\n",
       "    }\n",
       "\n",
       "    .dataframe thead th {\n",
       "        text-align: right;\n",
       "    }\n",
       "</style>\n",
       "<table border=\"1\" class=\"dataframe\">\n",
       "  <thead>\n",
       "    <tr style=\"text-align: right;\">\n",
       "      <th></th>\n",
       "      <th>Name</th>\n",
       "      <th>Platform</th>\n",
       "      <th>Year_of_Release</th>\n",
       "      <th>Genre</th>\n",
       "      <th>NA_sales</th>\n",
       "      <th>EU_sales</th>\n",
       "      <th>JP_sales</th>\n",
       "      <th>Other_sales</th>\n",
       "      <th>Critic_Score</th>\n",
       "      <th>User_Score</th>\n",
       "      <th>Rating</th>\n",
       "    </tr>\n",
       "  </thead>\n",
       "  <tbody>\n",
       "    <tr>\n",
       "      <td>183</td>\n",
       "      <td>Madden NFL 2004</td>\n",
       "      <td>PS2</td>\n",
       "      <td>NaN</td>\n",
       "      <td>Sports</td>\n",
       "      <td>4.26</td>\n",
       "      <td>0.26</td>\n",
       "      <td>0.01</td>\n",
       "      <td>0.71</td>\n",
       "      <td>94.0</td>\n",
       "      <td>8.5</td>\n",
       "      <td>E</td>\n",
       "    </tr>\n",
       "    <tr>\n",
       "      <td>377</td>\n",
       "      <td>FIFA Soccer 2004</td>\n",
       "      <td>PS2</td>\n",
       "      <td>NaN</td>\n",
       "      <td>Sports</td>\n",
       "      <td>0.59</td>\n",
       "      <td>2.36</td>\n",
       "      <td>0.04</td>\n",
       "      <td>0.51</td>\n",
       "      <td>84.0</td>\n",
       "      <td>6.4</td>\n",
       "      <td>E</td>\n",
       "    </tr>\n",
       "    <tr>\n",
       "      <td>456</td>\n",
       "      <td>LEGO Batman: The Videogame</td>\n",
       "      <td>Wii</td>\n",
       "      <td>NaN</td>\n",
       "      <td>Action</td>\n",
       "      <td>1.80</td>\n",
       "      <td>0.97</td>\n",
       "      <td>0.00</td>\n",
       "      <td>0.29</td>\n",
       "      <td>74.0</td>\n",
       "      <td>7.9</td>\n",
       "      <td>E10+</td>\n",
       "    </tr>\n",
       "    <tr>\n",
       "      <td>475</td>\n",
       "      <td>wwe Smackdown vs. Raw 2006</td>\n",
       "      <td>PS2</td>\n",
       "      <td>NaN</td>\n",
       "      <td>Fighting</td>\n",
       "      <td>1.57</td>\n",
       "      <td>1.02</td>\n",
       "      <td>0.00</td>\n",
       "      <td>0.41</td>\n",
       "      <td>NaN</td>\n",
       "      <td>NaN</td>\n",
       "      <td>NaN</td>\n",
       "    </tr>\n",
       "    <tr>\n",
       "      <td>609</td>\n",
       "      <td>Space Invaders</td>\n",
       "      <td>2600</td>\n",
       "      <td>NaN</td>\n",
       "      <td>Shooter</td>\n",
       "      <td>2.36</td>\n",
       "      <td>0.14</td>\n",
       "      <td>0.00</td>\n",
       "      <td>0.03</td>\n",
       "      <td>NaN</td>\n",
       "      <td>NaN</td>\n",
       "      <td>NaN</td>\n",
       "    </tr>\n",
       "    <tr>\n",
       "      <td>...</td>\n",
       "      <td>...</td>\n",
       "      <td>...</td>\n",
       "      <td>...</td>\n",
       "      <td>...</td>\n",
       "      <td>...</td>\n",
       "      <td>...</td>\n",
       "      <td>...</td>\n",
       "      <td>...</td>\n",
       "      <td>...</td>\n",
       "      <td>...</td>\n",
       "      <td>...</td>\n",
       "    </tr>\n",
       "    <tr>\n",
       "      <td>16373</td>\n",
       "      <td>PDC World Championship Darts 2008</td>\n",
       "      <td>PSP</td>\n",
       "      <td>NaN</td>\n",
       "      <td>Sports</td>\n",
       "      <td>0.01</td>\n",
       "      <td>0.00</td>\n",
       "      <td>0.00</td>\n",
       "      <td>0.00</td>\n",
       "      <td>43.0</td>\n",
       "      <td>tbd</td>\n",
       "      <td>E10+</td>\n",
       "    </tr>\n",
       "    <tr>\n",
       "      <td>16405</td>\n",
       "      <td>Freaky Flyers</td>\n",
       "      <td>GC</td>\n",
       "      <td>NaN</td>\n",
       "      <td>Racing</td>\n",
       "      <td>0.01</td>\n",
       "      <td>0.00</td>\n",
       "      <td>0.00</td>\n",
       "      <td>0.00</td>\n",
       "      <td>69.0</td>\n",
       "      <td>6.5</td>\n",
       "      <td>T</td>\n",
       "    </tr>\n",
       "    <tr>\n",
       "      <td>16448</td>\n",
       "      <td>Inversion</td>\n",
       "      <td>PC</td>\n",
       "      <td>NaN</td>\n",
       "      <td>Shooter</td>\n",
       "      <td>0.01</td>\n",
       "      <td>0.00</td>\n",
       "      <td>0.00</td>\n",
       "      <td>0.00</td>\n",
       "      <td>59.0</td>\n",
       "      <td>6.7</td>\n",
       "      <td>M</td>\n",
       "    </tr>\n",
       "    <tr>\n",
       "      <td>16458</td>\n",
       "      <td>Hakuouki: Shinsengumi Kitan</td>\n",
       "      <td>PS3</td>\n",
       "      <td>NaN</td>\n",
       "      <td>Adventure</td>\n",
       "      <td>0.01</td>\n",
       "      <td>0.00</td>\n",
       "      <td>0.00</td>\n",
       "      <td>0.00</td>\n",
       "      <td>NaN</td>\n",
       "      <td>NaN</td>\n",
       "      <td>NaN</td>\n",
       "    </tr>\n",
       "    <tr>\n",
       "      <td>16522</td>\n",
       "      <td>Virtua Quest</td>\n",
       "      <td>GC</td>\n",
       "      <td>NaN</td>\n",
       "      <td>Role-Playing</td>\n",
       "      <td>0.01</td>\n",
       "      <td>0.00</td>\n",
       "      <td>0.00</td>\n",
       "      <td>0.00</td>\n",
       "      <td>55.0</td>\n",
       "      <td>5.5</td>\n",
       "      <td>T</td>\n",
       "    </tr>\n",
       "  </tbody>\n",
       "</table>\n",
       "<p>269 rows × 11 columns</p>\n",
       "</div>"
      ],
      "text/plain": [
       "                                    Name Platform  Year_of_Release  \\\n",
       "183                      Madden NFL 2004      PS2              NaN   \n",
       "377                     FIFA Soccer 2004      PS2              NaN   \n",
       "456           LEGO Batman: The Videogame      Wii              NaN   \n",
       "475           wwe Smackdown vs. Raw 2006      PS2              NaN   \n",
       "609                       Space Invaders     2600              NaN   \n",
       "...                                  ...      ...              ...   \n",
       "16373  PDC World Championship Darts 2008      PSP              NaN   \n",
       "16405                      Freaky Flyers       GC              NaN   \n",
       "16448                          Inversion       PC              NaN   \n",
       "16458        Hakuouki: Shinsengumi Kitan      PS3              NaN   \n",
       "16522                       Virtua Quest       GC              NaN   \n",
       "\n",
       "              Genre  NA_sales  EU_sales  JP_sales  Other_sales  Critic_Score  \\\n",
       "183          Sports      4.26      0.26      0.01         0.71          94.0   \n",
       "377          Sports      0.59      2.36      0.04         0.51          84.0   \n",
       "456          Action      1.80      0.97      0.00         0.29          74.0   \n",
       "475        Fighting      1.57      1.02      0.00         0.41           NaN   \n",
       "609         Shooter      2.36      0.14      0.00         0.03           NaN   \n",
       "...             ...       ...       ...       ...          ...           ...   \n",
       "16373        Sports      0.01      0.00      0.00         0.00          43.0   \n",
       "16405        Racing      0.01      0.00      0.00         0.00          69.0   \n",
       "16448       Shooter      0.01      0.00      0.00         0.00          59.0   \n",
       "16458     Adventure      0.01      0.00      0.00         0.00           NaN   \n",
       "16522  Role-Playing      0.01      0.00      0.00         0.00          55.0   \n",
       "\n",
       "      User_Score Rating  \n",
       "183          8.5      E  \n",
       "377          6.4      E  \n",
       "456          7.9   E10+  \n",
       "475          NaN    NaN  \n",
       "609          NaN    NaN  \n",
       "...          ...    ...  \n",
       "16373        tbd   E10+  \n",
       "16405        6.5      T  \n",
       "16448        6.7      M  \n",
       "16458        NaN    NaN  \n",
       "16522        5.5      T  \n",
       "\n",
       "[269 rows x 11 columns]"
      ]
     },
     "execution_count": 6,
     "metadata": {},
     "output_type": "execute_result"
    }
   ],
   "source": [
    "# пустые значения в столбце года\n",
    "pd.DataFrame(data[data['Year_of_Release'].isnull()])"
   ]
  },
  {
   "cell_type": "code",
   "execution_count": 7,
   "metadata": {},
   "outputs": [
    {
     "data": {
      "text/plain": [
       "Name                0.011965\n",
       "Platform            0.000000\n",
       "Year_of_Release     1.609333\n",
       "Genre               0.011965\n",
       "NA_sales            0.000000\n",
       "EU_sales            0.000000\n",
       "JP_sales            0.000000\n",
       "Other_sales         0.000000\n",
       "Critic_Score       51.319174\n",
       "User_Score         40.089740\n",
       "Rating             40.478612\n",
       "dtype: float64"
      ]
     },
     "execution_count": 7,
     "metadata": {},
     "output_type": "execute_result"
    }
   ],
   "source": [
    "# процент пропусков\n",
    "data.isnull().mean() * 100"
   ]
  },
  {
   "cell_type": "code",
   "execution_count": 8,
   "metadata": {
    "scrolled": false
   },
   "outputs": [
    {
     "name": "stdout",
     "output_type": "stream",
     "text": [
      "Name\n",
      "['Wii Sports' 'Super Mario Bros.' 'Mario Kart Wii' ...\n",
      " 'Woody Woodpecker in Crazy Castle 5' 'LMA Manager 2007'\n",
      " 'Haitaka no Psychedelica']\n",
      "\n",
      "Platform\n",
      "['Wii' 'NES' 'GB' 'DS' 'X360' 'PS3' 'PS2' 'SNES' 'GBA' 'PS4' '3DS' 'N64'\n",
      " 'PS' 'XB' 'PC' '2600' 'PSP' 'XOne' 'WiiU' 'GC' 'GEN' 'DC' 'PSV' 'SAT'\n",
      " 'SCD' 'WS' 'NG' 'TG16' '3DO' 'GG' 'PCFX']\n",
      "\n",
      "Year_of_Release\n",
      "[2006. 1985. 2008. 2009. 1996. 1989. 1984. 2005. 1999. 2007. 2010. 2013.\n",
      " 2004. 1990. 1988. 2002. 2001. 2011. 1998. 2015. 2012. 2014. 1992. 1997.\n",
      " 1993. 1994. 1982. 2016. 2003. 1986. 2000.   nan 1995. 1991. 1981. 1987.\n",
      " 1980. 1983.]\n",
      "\n",
      "Genre\n",
      "['Sports' 'Platform' 'Racing' 'Role-Playing' 'Puzzle' 'Misc' 'Shooter'\n",
      " 'Simulation' 'Action' 'Fighting' 'Adventure' 'Strategy' nan]\n",
      "\n",
      "NA_sales\n",
      "[4.136e+01 2.908e+01 1.568e+01 1.561e+01 1.127e+01 2.320e+01 1.128e+01\n",
      " 1.396e+01 1.444e+01 2.693e+01 9.050e+00 9.710e+00 9.000e+00 8.920e+00\n",
      " 1.500e+01 9.010e+00 7.020e+00 9.430e+00 1.278e+01 4.740e+00 6.380e+00\n",
      " 1.083e+01 9.540e+00 9.660e+00 8.410e+00 6.060e+00 3.430e+00 5.510e+00\n",
      " 6.850e+00 9.040e+00 5.890e+00 6.030e+00 9.700e+00 5.280e+00 4.990e+00\n",
      " 8.250e+00 8.520e+00 5.540e+00 6.990e+00 6.620e+00 5.030e+00 5.990e+00\n",
      " 3.960e+00 2.500e+00 7.970e+00 6.910e+00 4.340e+00 4.350e+00 3.010e+00\n",
      " 6.160e+00 6.760e+00 4.020e+00 4.890e+00 2.960e+00 4.760e+00 5.010e+00\n",
      " 6.730e+00 5.950e+00 3.660e+00 5.550e+00 7.040e+00 6.650e+00 3.880e+00\n",
      " 5.800e+00 4.100e+00 5.930e+00 4.360e+00 5.700e+00 2.030e+00 4.400e+00\n",
      " 5.050e+00 3.540e+00 1.120e+00 6.820e+00 1.750e+00 3.740e+00 1.060e+00\n",
      " 2.790e+00 2.910e+00 9.900e-01 2.570e+00 2.990e+00 2.280e+00 7.280e+00\n",
      " 2.760e+00 2.900e+00 2.810e+00 6.600e-01 3.780e+00 3.270e+00 3.560e+00\n",
      " 5.390e+00 4.590e+00 4.810e+00 4.460e+00 3.480e+00 2.850e+00 2.530e+00\n",
      " 2.980e+00 3.680e+00 3.150e+00 4.410e+00 4.120e+00 2.710e+00 2.930e+00\n",
      " 3.230e+00 4.050e+00 4.150e+00 2.770e+00 3.450e+00 3.110e+00 8.400e-01\n",
      " 1.660e+00 7.800e-01 2.640e+00 3.170e+00 4.980e+00 2.550e+00 3.640e+00\n",
      " 3.700e+00 4.010e+00 2.470e+00 8.000e-02 3.920e+00 8.000e-01 2.450e+00\n",
      " 4.470e+00 3.180e+00 2.630e+00 1.880e+00 2.410e+00 2.800e+00 6.300e-01\n",
      " 2.260e+00 2.490e+00 3.570e+00 3.070e+00 2.970e+00 2.950e+00 2.540e+00\n",
      " 3.280e+00 3.140e+00 4.700e-01 2.620e+00 3.210e+00 2.070e+00 2.730e+00\n",
      " 1.850e+00 2.180e+00 1.740e+00 3.020e+00 1.620e+00 3.130e+00 1.920e+00\n",
      " 3.330e+00 3.220e+00 2.300e+00 4.260e+00 9.700e-01 6.500e-01 1.210e+00\n",
      " 1.090e+00 2.100e+00 2.440e+00 1.980e+00 3.810e+00 3.590e+00 1.630e+00\n",
      " 1.960e+00 3.400e+00 6.100e-01 2.050e+00 1.700e+00 3.420e+00 3.360e+00\n",
      " 3.490e+00 3.050e+00 1.830e+00 2.310e+00 3.980e+00 0.000e+00 2.600e+00\n",
      " 1.910e+00 2.740e+00 2.830e+00 2.360e+00 1.730e+00 1.940e+00 2.290e+00\n",
      " 1.820e+00 2.420e+00 3.040e+00 1.800e+00 2.080e+00 1.870e+00 4.180e+00\n",
      " 3.190e+00 4.210e+00 3.630e+00 2.780e+00 2.000e-01 1.610e+00 1.540e+00\n",
      " 2.520e+00 2.660e+00 1.000e-01 2.820e+00 2.190e+00 1.560e+00 3.030e+00\n",
      " 2.200e+00 2.090e+00 2.110e+00 1.480e+00 4.000e+00 5.800e-01 2.510e+00\n",
      " 3.000e+00 2.240e+00 1.460e+00 1.410e+00 9.200e-01 8.800e-01 1.280e+00\n",
      " 2.250e+00 3.380e+00 2.040e+00 3.790e+00 4.030e+00 1.650e+00 7.100e-01\n",
      " 1.420e+00 1.100e+00 2.320e+00 1.200e-01 2.350e+00 2.120e+00 1.400e+00\n",
      " 1.680e+00 1.130e+00 1.220e+00 2.670e+00 1.020e+00 1.190e+00 1.530e+00\n",
      " 2.150e+00 9.000e-01 1.970e+00 6.800e-01 1.160e+00 9.300e-01 1.440e+00\n",
      " 1.600e-01 2.130e+00 2.210e+00 1.780e+00 8.600e-01 1.350e+00 1.050e+00\n",
      " 2.230e+00 2.400e+00 1.370e+00 1.300e+00 1.950e+00 1.930e+00 1.330e+00\n",
      " 1.490e+00 1.580e+00 5.000e-02 6.000e-01 2.020e+00 2.380e+00 1.600e+00\n",
      " 2.010e+00 1.570e+00 1.230e+00 1.900e+00 2.140e+00 1.170e+00 2.270e+00\n",
      " 1.640e+00 5.900e-01 1.550e+00 4.600e-01 8.100e-01 1.450e+00 2.700e-01\n",
      " 1.470e+00 1.990e+00 1.500e+00 9.000e-02 2.610e+00 1.890e+00 5.000e-01\n",
      " 8.900e-01 9.500e-01 2.340e+00 7.200e-01 1.720e+00 1.180e+00 1.760e+00\n",
      " 7.300e-01 1.270e+00 2.060e+00 5.500e-01 1.520e+00 1.690e+00 2.170e+00\n",
      " 5.100e-01 1.000e+00 1.290e+00 1.380e+00 1.150e+00 1.670e+00 1.360e+00\n",
      " 1.010e+00 1.040e+00 1.840e+00 2.220e+00 7.900e-01 1.510e+00 1.070e+00\n",
      " 1.320e+00 1.590e+00 2.000e-02 2.900e-01 1.250e+00 2.560e+00 1.430e+00\n",
      " 1.200e+00 4.100e-01 2.800e-01 4.300e-01 6.900e-01 2.000e+00 7.600e-01\n",
      " 1.860e+00 4.800e-01 6.200e-01 1.310e+00 3.700e-01 1.500e-01 6.400e-01\n",
      " 2.600e-01 4.900e-01 1.110e+00 1.300e-01 1.810e+00 1.030e+00 1.260e+00\n",
      " 8.700e-01 7.700e-01 9.600e-01 1.390e+00 1.080e+00 8.500e-01 9.100e-01\n",
      " 3.000e-01 3.800e-01 9.400e-01 7.000e-02 1.340e+00 1.240e+00 3.400e-01\n",
      " 1.400e-01 1.000e-02 5.200e-01 8.200e-01 8.300e-01 1.100e-01 2.500e-01\n",
      " 1.770e+00 3.600e-01 7.500e-01 7.400e-01 1.800e-01 2.200e-01 5.300e-01\n",
      " 4.200e-01 3.200e-01 3.900e-01 2.400e-01 2.300e-01 6.000e-02 4.500e-01\n",
      " 7.000e-01 6.700e-01 3.500e-01 5.600e-01 1.140e+00 9.800e-01 5.700e-01\n",
      " 5.400e-01 4.000e-02 1.700e-01 4.400e-01 3.000e-02 3.300e-01 3.100e-01\n",
      " 4.000e-01 2.100e-01 1.900e-01]\n",
      "\n",
      "EU_sales\n",
      "[2.896e+01 3.580e+00 1.276e+01 1.093e+01 8.890e+00 2.260e+00 9.140e+00\n",
      " 9.180e+00 6.940e+00 6.300e-01 1.095e+01 7.470e+00 6.180e+00 8.030e+00\n",
      " 4.890e+00 8.490e+00 9.090e+00 4.000e-01 3.750e+00 9.200e+00 4.460e+00\n",
      " 2.710e+00 3.440e+00 5.140e+00 5.490e+00 3.900e+00 5.350e+00 3.170e+00\n",
      " 5.090e+00 4.240e+00 5.040e+00 5.860e+00 3.680e+00 4.190e+00 5.730e+00\n",
      " 3.590e+00 4.510e+00 2.550e+00 4.020e+00 4.370e+00 6.310e+00 3.450e+00\n",
      " 2.810e+00 2.850e+00 3.490e+00 1.000e-02 3.350e+00 2.040e+00 3.070e+00\n",
      " 3.870e+00 3.000e+00 4.820e+00 3.640e+00 2.150e+00 3.690e+00 2.650e+00\n",
      " 2.560e+00 3.110e+00 3.140e+00 1.940e+00 1.950e+00 2.470e+00 2.280e+00\n",
      " 3.420e+00 3.630e+00 2.360e+00 1.710e+00 1.850e+00 2.790e+00 1.240e+00\n",
      " 6.120e+00 1.530e+00 3.470e+00 2.240e+00 5.010e+00 2.010e+00 1.720e+00\n",
      " 2.070e+00 6.420e+00 3.860e+00 4.500e-01 3.480e+00 1.890e+00 5.750e+00\n",
      " 2.170e+00 1.370e+00 2.350e+00 1.180e+00 2.110e+00 1.880e+00 2.830e+00\n",
      " 2.990e+00 2.890e+00 3.270e+00 2.220e+00 2.140e+00 1.450e+00 1.750e+00\n",
      " 1.040e+00 1.770e+00 3.020e+00 2.750e+00 2.160e+00 1.900e+00 2.590e+00\n",
      " 2.200e+00 4.300e+00 9.300e-01 2.530e+00 2.520e+00 1.790e+00 1.300e+00\n",
      " 2.600e+00 1.580e+00 1.200e+00 1.560e+00 1.340e+00 1.260e+00 8.300e-01\n",
      " 6.210e+00 2.800e+00 1.590e+00 1.730e+00 4.330e+00 1.830e+00 0.000e+00\n",
      " 2.180e+00 1.980e+00 1.470e+00 6.700e-01 1.550e+00 1.910e+00 6.900e-01\n",
      " 6.000e-01 1.930e+00 1.640e+00 5.500e-01 2.190e+00 1.110e+00 2.290e+00\n",
      " 2.500e+00 9.600e-01 1.210e+00 1.120e+00 7.700e-01 1.690e+00 1.080e+00\n",
      " 7.900e-01 2.370e+00 2.460e+00 2.600e-01 7.500e-01 1.250e+00 2.430e+00\n",
      " 9.800e-01 7.400e-01 2.230e+00 6.100e-01 2.450e+00 1.410e+00 1.800e+00\n",
      " 3.280e+00 1.160e+00 1.990e+00 1.380e+00 1.360e+00 1.170e+00 1.190e+00\n",
      " 9.900e-01 1.680e+00 2.000e+00 1.330e+00 1.570e+00 1.480e+00 2.100e+00\n",
      " 1.270e+00 1.970e+00 9.100e-01 1.390e+00 1.960e+00 2.400e-01 1.510e+00\n",
      " 1.400e-01 1.290e+00 2.390e+00 1.030e+00 5.000e-01 5.800e-01 1.310e+00\n",
      " 2.020e+00 1.320e+00 1.010e+00 2.270e+00 2.300e+00 1.820e+00 2.780e+00\n",
      " 4.400e-01 4.800e-01 2.700e-01 2.100e-01 2.480e+00 5.100e-01 1.520e+00\n",
      " 4.000e-02 2.800e-01 1.350e+00 8.700e-01 2.130e+00 1.130e+00 1.760e+00\n",
      " 7.600e-01 2.120e+00 6.600e-01 1.600e+00 1.440e+00 1.430e+00 1.700e+00\n",
      " 4.700e-01 1.870e+00 8.600e-01 7.300e-01 1.280e+00 8.100e-01 1.090e+00\n",
      " 6.800e-01 1.220e+00 1.400e+00 1.020e+00 1.490e+00 1.140e+00 4.900e-01\n",
      " 9.000e-01 3.800e-01 1.420e+00 9.500e-01 1.620e+00 7.100e-01 1.050e+00\n",
      " 9.200e-01 3.300e-01 3.000e-01 1.670e+00 1.000e+00 8.900e-01 1.000e-01\n",
      " 7.200e-01 5.900e-01 5.600e-01 1.600e-01 9.700e-01 6.200e-01 8.500e-01\n",
      " 9.400e-01 8.800e-01 8.400e-01 1.060e+00 2.000e-01 1.150e+00 8.000e-01\n",
      " 1.100e+00 7.000e-01 1.920e+00 3.200e-01 1.500e-01 5.300e-01 9.000e-02\n",
      " 1.460e+00 2.900e-01 2.200e-01 1.230e+00 7.000e-02 1.700e-01 5.400e-01\n",
      " 3.600e-01 3.100e-01 1.840e+00 5.200e-01 1.100e-01 6.400e-01 1.200e-01\n",
      " 2.050e+00 1.630e+00 8.200e-01 8.000e-02 5.700e-01 1.650e+00 1.900e-01\n",
      " 2.000e-02 4.300e-01 2.500e-01 1.500e+00 1.800e-01 3.900e-01 1.300e-01\n",
      " 1.070e+00 4.600e-01 4.100e-01 6.000e-02 3.000e-02 3.700e-01 5.000e-02\n",
      " 2.300e-01 6.500e-01 4.200e-01 3.400e-01 3.500e-01 7.800e-01]\n",
      "\n",
      "JP_sales\n",
      "[3.770e+00 6.810e+00 3.790e+00 3.280e+00 1.022e+01 4.220e+00 6.500e+00\n",
      " 2.930e+00 4.700e+00 2.800e-01 1.930e+00 4.130e+00 7.200e+00 3.600e+00\n",
      " 2.400e-01 2.530e+00 9.800e-01 4.100e-01 3.540e+00 4.160e+00 6.040e+00\n",
      " 4.180e+00 3.840e+00 6.000e-02 4.700e-01 5.380e+00 5.320e+00 5.650e+00\n",
      " 1.870e+00 1.300e-01 3.120e+00 3.600e-01 1.100e-01 4.350e+00 6.500e-01\n",
      " 7.000e-02 8.000e-02 4.900e-01 3.000e-01 2.660e+00 2.690e+00 4.800e-01\n",
      " 3.800e-01 5.330e+00 1.910e+00 3.960e+00 3.100e+00 1.100e+00 1.200e+00\n",
      " 1.400e-01 2.540e+00 2.140e+00 8.100e-01 2.120e+00 4.400e-01 3.150e+00\n",
      " 1.250e+00 4.000e-02 0.000e+00 2.470e+00 2.230e+00 1.690e+00 1.000e-02\n",
      " 3.000e+00 2.000e-02 4.390e+00 1.980e+00 1.000e-01 3.810e+00 5.000e-02\n",
      " 2.490e+00 1.580e+00 3.140e+00 2.730e+00 6.600e-01 2.200e-01 3.630e+00\n",
      " 1.450e+00 1.310e+00 2.430e+00 7.000e-01 3.500e-01 1.400e+00 6.000e-01\n",
      " 2.260e+00 1.420e+00 1.280e+00 1.390e+00 8.700e-01 1.700e-01 9.400e-01\n",
      " 1.900e-01 2.100e-01 1.600e+00 1.600e-01 1.030e+00 2.500e-01 2.060e+00\n",
      " 1.490e+00 1.290e+00 9.000e-02 2.870e+00 3.000e-02 7.800e-01 8.300e-01\n",
      " 2.330e+00 2.020e+00 1.360e+00 1.810e+00 1.970e+00 9.100e-01 9.900e-01\n",
      " 9.500e-01 2.000e+00 1.010e+00 2.780e+00 2.110e+00 1.090e+00 2.000e-01\n",
      " 1.900e+00 1.270e+00 3.610e+00 1.570e+00 2.200e+00 1.700e+00 1.080e+00\n",
      " 1.500e-01 1.110e+00 2.900e-01 1.540e+00 1.200e-01 8.900e-01 4.870e+00\n",
      " 1.520e+00 1.320e+00 1.150e+00 4.100e+00 1.460e+00 4.600e-01 1.050e+00\n",
      " 1.610e+00 2.600e-01 1.380e+00 6.200e-01 7.300e-01 5.700e-01 3.100e-01\n",
      " 5.800e-01 1.760e+00 2.100e+00 9.000e-01 5.100e-01 6.400e-01 2.460e+00\n",
      " 2.300e-01 3.700e-01 9.200e-01 1.070e+00 2.620e+00 1.120e+00 5.400e-01\n",
      " 2.700e-01 5.900e-01 3.670e+00 5.500e-01 1.750e+00 3.440e+00 3.300e-01\n",
      " 2.550e+00 2.320e+00 2.790e+00 7.400e-01 3.180e+00 8.200e-01 7.700e-01\n",
      " 4.000e-01 2.350e+00 3.190e+00 8.000e-01 7.600e-01 3.030e+00 8.800e-01\n",
      " 4.500e-01 1.160e+00 3.400e-01 1.190e+00 1.130e+00 2.130e+00 1.960e+00\n",
      " 7.100e-01 1.040e+00 2.680e+00 6.800e-01 2.650e+00 9.600e-01 2.410e+00\n",
      " 5.200e-01 1.800e-01 1.340e+00 1.480e+00 2.340e+00 1.060e+00 1.210e+00\n",
      " 2.290e+00 1.630e+00 2.050e+00 2.170e+00 1.560e+00 1.350e+00 1.330e+00\n",
      " 6.300e-01 7.900e-01 7.500e-01 5.300e-01 1.530e+00 1.300e+00 3.900e-01\n",
      " 6.900e-01 4.200e-01 9.300e-01 5.600e-01 8.400e-01 7.200e-01 3.200e-01\n",
      " 1.710e+00 1.650e+00 6.100e-01 1.510e+00 1.500e+00 1.440e+00 1.240e+00\n",
      " 1.180e+00 1.370e+00 1.000e+00 1.260e+00 8.500e-01 4.300e-01 6.700e-01\n",
      " 1.140e+00 8.600e-01 1.170e+00 5.000e-01 1.020e+00 9.700e-01]\n",
      "\n",
      "Other_sales\n",
      "[8.450e+00 7.700e-01 3.290e+00 2.950e+00 1.000e+00 5.800e-01 2.880e+00\n",
      " 2.840e+00 2.240e+00 4.700e-01 2.740e+00 1.900e+00 7.100e-01 2.150e+00\n",
      " 1.690e+00 1.770e+00 3.960e+00 1.057e+01 5.500e-01 2.040e+00 1.360e+00\n",
      " 4.200e-01 4.600e-01 1.410e+00 1.780e+00 5.000e-01 1.180e+00 8.000e-01\n",
      " 1.160e+00 1.320e+00 5.900e-01 2.380e+00 1.130e+00 7.800e-01 2.420e+00\n",
      " 1.120e+00 1.280e+00 1.570e+00 1.300e+00 1.010e+00 9.100e-01 1.790e+00\n",
      " 1.970e+00 8.600e-01 1.210e+00 2.300e-01 7.600e-01 7.400e-01 7.530e+00\n",
      " 2.900e-01 1.030e+00 5.200e-01 2.110e+00 1.600e+00 1.610e+00 3.500e-01\n",
      " 9.700e-01 1.060e+00 6.300e-01 1.500e-01 7.900e-01 9.600e-01 1.250e+00\n",
      " 9.000e-01 8.100e-01 3.900e-01 6.800e-01 8.500e-01 1.800e-01 8.000e-02\n",
      " 6.700e-01 7.000e-01 4.100e-01 3.300e-01 6.000e-01 5.400e-01 1.730e+00\n",
      " 1.230e+00 1.600e-01 1.110e+00 3.100e-01 4.800e-01 6.200e-01 1.900e-01\n",
      " 6.900e-01 1.020e+00 7.300e-01 1.080e+00 4.500e-01 2.800e-01 5.100e-01\n",
      " 2.200e-01 1.090e+00 9.900e-01 3.000e-01 6.400e-01 6.600e-01 9.800e-01\n",
      " 1.390e+00 1.400e-01 1.370e+00 7.000e-02 2.100e-01 6.100e-01 1.700e-01\n",
      " 1.200e-01 0.000e+00 7.200e-01 2.400e-01 8.200e-01 1.740e+00 8.700e-01\n",
      " 9.200e-01 5.700e-01 1.100e-01 4.000e-02 5.600e-01 2.000e-01 3.400e-01\n",
      " 9.000e-02 8.300e-01 4.400e-01 6.000e-02 3.200e-01 3.800e-01 1.480e+00\n",
      " 3.700e-01 1.000e-01 2.500e-01 3.600e-01 1.300e-01 4.300e-01 5.000e-02\n",
      " 2.000e-02 2.600e-01 4.000e-01 7.500e-01 1.930e+00 8.400e-01 5.300e-01\n",
      " 8.900e-01 1.670e+00 2.700e-01 2.930e+00 4.900e-01 1.000e-02 2.460e+00\n",
      " 3.000e-02 1.510e+00 2.050e+00 1.680e+00 1.820e+00 1.330e+00 9.400e-01\n",
      " 9.300e-01]\n",
      "\n",
      "Critic_Score\n",
      "[76. nan 82. 80. 89. 58. 87. 91. 61. 97. 95. 77. 88. 83. 94. 93. 85. 86.\n",
      " 98. 96. 90. 84. 73. 74. 78. 92. 71. 72. 68. 62. 49. 67. 81. 66. 56. 79.\n",
      " 70. 59. 64. 75. 60. 63. 69. 50. 25. 42. 44. 55. 48. 57. 29. 47. 65. 54.\n",
      " 20. 53. 37. 38. 33. 52. 30. 32. 43. 45. 51. 40. 46. 39. 34. 35. 41. 36.\n",
      " 28. 31. 27. 26. 19. 23. 24. 21. 17. 22. 13.]\n",
      "\n",
      "User_Score\n",
      "['8' nan '8.3' '8.5' '6.6' '8.4' '8.6' '7.7' '6.3' '7.4' '8.2' '9' '7.9'\n",
      " '8.1' '8.7' '7.1' '3.4' '5.3' '4.8' '3.2' '8.9' '6.4' '7.8' '7.5' '2.6'\n",
      " '7.2' '9.2' '7' '7.3' '4.3' '7.6' '5.7' '5' '9.1' '6.5' 'tbd' '8.8' '6.9'\n",
      " '9.4' '6.8' '6.1' '6.7' '5.4' '4' '4.9' '4.5' '9.3' '6.2' '4.2' '6' '3.7'\n",
      " '4.1' '5.8' '5.6' '5.5' '4.4' '4.6' '5.9' '3.9' '3.1' '2.9' '5.2' '3.3'\n",
      " '4.7' '5.1' '3.5' '2.5' '1.9' '3' '2.7' '2.2' '2' '9.5' '2.1' '3.6' '2.8'\n",
      " '1.8' '3.8' '0' '1.6' '9.6' '2.4' '1.7' '1.1' '0.3' '1.5' '0.7' '1.2'\n",
      " '2.3' '0.5' '1.3' '0.2' '0.6' '1.4' '0.9' '1' '9.7']\n",
      "\n",
      "Rating\n",
      "['E' nan 'M' 'T' 'E10+' 'K-A' 'AO' 'EC' 'RP']\n",
      "\n"
     ]
    }
   ],
   "source": [
    "# уникальные значения\n",
    "for _ in data:\n",
    "    print(_)\n",
    "    print(data[_].unique())\n",
    "    print()"
   ]
  },
  {
   "cell_type": "markdown",
   "metadata": {},
   "source": [
    "**Вывод 1**\n",
    "\n",
    "*Файл импортирован, представлен процент пропусков, приведены уникальные значения по столбцам*\n",
    "\n",
    "\n",
    "* пустой рейтинг можно попробовать заменить исходя из жанра или «RP» («Rating Pending») — «Рейтинг ожидается» поставить\n",
    "* две строки с пропущенными именами можно удалить (уйдут пропуски с жанром)\n",
    "* Critic_Score и User_Score определить по какой метрике восставить пропущенные значения (по рейтингу)\n",
    "* рейтинг \"K-A\" (\"Kids to Adults\") можно изменить на «E» («Everyone») — «Для всех»\n",
    "* в User_Score есть tbd, заменить на медианные значения исходя из рейтинга\n",
    "* изменить пропущенные значения по году на медианные по платформе (так как все платформы выходили в разные года)"
   ]
  },
  {
   "cell_type": "markdown",
   "metadata": {},
   "source": [
    "<div class=\"alert alert-success\" style=\"border-radius: 15px; box-shadow: 4px 4px 4px; border: 1px solid \">\n",
    "<b> Комментарий ревьюера</b>\n",
    "    \n",
    "Хорошая вводная часть.</div>"
   ]
  },
  {
   "cell_type": "markdown",
   "metadata": {},
   "source": [
    "## Шаг 2. Подготовка данных"
   ]
  },
  {
   "cell_type": "code",
   "execution_count": 9,
   "metadata": {},
   "outputs": [
    {
     "name": "stderr",
     "output_type": "stream",
     "text": [
      "/opt/conda/lib/python3.7/site-packages/ipykernel_launcher.py:8: SettingWithCopyWarning: \n",
      "A value is trying to be set on a copy of a slice from a DataFrame.\n",
      "Try using .loc[row_indexer,col_indexer] = value instead\n",
      "\n",
      "See the caveats in the documentation: http://pandas.pydata.org/pandas-docs/stable/user_guide/indexing.html#returning-a-view-versus-a-copy\n",
      "  \n",
      "/opt/conda/lib/python3.7/site-packages/ipykernel_launcher.py:9: SettingWithCopyWarning: \n",
      "A value is trying to be set on a copy of a slice from a DataFrame.\n",
      "Try using .loc[row_indexer,col_indexer] = value instead\n",
      "\n",
      "See the caveats in the documentation: http://pandas.pydata.org/pandas-docs/stable/user_guide/indexing.html#returning-a-view-versus-a-copy\n",
      "  if __name__ == '__main__':\n",
      "/opt/conda/lib/python3.7/site-packages/pandas/core/indexing.py:494: SettingWithCopyWarning: \n",
      "A value is trying to be set on a copy of a slice from a DataFrame.\n",
      "Try using .loc[row_indexer,col_indexer] = value instead\n",
      "\n",
      "See the caveats in the documentation: http://pandas.pydata.org/pandas-docs/stable/user_guide/indexing.html#returning-a-view-versus-a-copy\n",
      "  self.obj[item] = s\n"
     ]
    }
   ],
   "source": [
    "# названия столбцов к нижнему регистру\n",
    "data.columns = data.columns.str.lower()\n",
    "\n",
    "# удалить 2 строчки с пропущенными именами, небольшая потеря данных\n",
    "data = data[data.name.notnull()]\n",
    "\n",
    "# пустые значения по году заменить на медианные, исходя из платформы\n",
    "data['year_of_release'] = data['year_of_release'].fillna(data.groupby(data['platform'])['year_of_release'].transform('median'))\n",
    "data['year_of_release'] = data['year_of_release'].astype('int64')\n",
    "\n",
    "# изменение рейтинга 'K-A' на 'E'. так как раньше 'E' называлось 'K-A'\n",
    "data.loc[data['rating'] == 'K-A', 'rating'] = 'E'\n",
    "\n",
    "\n",
    "import warnings\n",
    "warnings.filterwarnings('ignore')"
   ]
  },
  {
   "cell_type": "markdown",
   "metadata": {},
   "source": [
    "<div class=\"alert alert-success\" style=\"border-radius: 15px; box-shadow: 4px 4px 4px; border: 1px solid \">\n",
    "<b> Комментарий ревьюера</b>\n",
    "    \n",
    "Год действительно можно заполнить с помощью медианы по платформам. Все-таки у всех консолей есть определенный срок жизни. Еще год можно найти в названии или же посмотреть год выпуска игры на других платформах, если они там указан.\n",
    "\n",
    "\n",
    "Кстати, предупреждения можно отключать:    \n",
    "</div>\n",
    "\n",
    "```python\n",
    "\n",
    "import warnings\n",
    "warnings.filterwarnings('ignore')\n",
    "```"
   ]
  },
  {
   "cell_type": "code",
   "execution_count": 10,
   "metadata": {},
   "outputs": [
    {
     "data": {
      "text/html": [
       "<div>\n",
       "<style scoped>\n",
       "    .dataframe tbody tr th:only-of-type {\n",
       "        vertical-align: middle;\n",
       "    }\n",
       "\n",
       "    .dataframe tbody tr th {\n",
       "        vertical-align: top;\n",
       "    }\n",
       "\n",
       "    .dataframe thead th {\n",
       "        text-align: right;\n",
       "    }\n",
       "</style>\n",
       "<table border=\"1\" class=\"dataframe\">\n",
       "  <thead>\n",
       "    <tr style=\"text-align: right;\">\n",
       "      <th></th>\n",
       "      <th></th>\n",
       "      <th>rating_count</th>\n",
       "    </tr>\n",
       "    <tr>\n",
       "      <th>genre</th>\n",
       "      <th>rating</th>\n",
       "      <th></th>\n",
       "    </tr>\n",
       "  </thead>\n",
       "  <tbody>\n",
       "    <tr>\n",
       "      <td rowspan=\"6\" valign=\"top\">Action</td>\n",
       "      <td>T</td>\n",
       "      <td>681</td>\n",
       "    </tr>\n",
       "    <tr>\n",
       "      <td>M</td>\n",
       "      <td>608</td>\n",
       "    </tr>\n",
       "    <tr>\n",
       "      <td>E10+</td>\n",
       "      <td>481</td>\n",
       "    </tr>\n",
       "    <tr>\n",
       "      <td>E</td>\n",
       "      <td>416</td>\n",
       "    </tr>\n",
       "    <tr>\n",
       "      <td>AO</td>\n",
       "      <td>1</td>\n",
       "    </tr>\n",
       "    <tr>\n",
       "      <td>EC</td>\n",
       "      <td>1</td>\n",
       "    </tr>\n",
       "    <tr>\n",
       "      <td rowspan=\"5\" valign=\"top\">Adventure</td>\n",
       "      <td>E</td>\n",
       "      <td>162</td>\n",
       "    </tr>\n",
       "    <tr>\n",
       "      <td>T</td>\n",
       "      <td>115</td>\n",
       "    </tr>\n",
       "    <tr>\n",
       "      <td>M</td>\n",
       "      <td>99</td>\n",
       "    </tr>\n",
       "    <tr>\n",
       "      <td>E10+</td>\n",
       "      <td>68</td>\n",
       "    </tr>\n",
       "    <tr>\n",
       "      <td>EC</td>\n",
       "      <td>2</td>\n",
       "    </tr>\n",
       "    <tr>\n",
       "      <td rowspan=\"4\" valign=\"top\">Fighting</td>\n",
       "      <td>T</td>\n",
       "      <td>362</td>\n",
       "    </tr>\n",
       "    <tr>\n",
       "      <td>M</td>\n",
       "      <td>49</td>\n",
       "    </tr>\n",
       "    <tr>\n",
       "      <td>E10+</td>\n",
       "      <td>19</td>\n",
       "    </tr>\n",
       "    <tr>\n",
       "      <td>E</td>\n",
       "      <td>8</td>\n",
       "    </tr>\n",
       "    <tr>\n",
       "      <td rowspan=\"5\" valign=\"top\">Misc</td>\n",
       "      <td>E</td>\n",
       "      <td>458</td>\n",
       "    </tr>\n",
       "    <tr>\n",
       "      <td>T</td>\n",
       "      <td>239</td>\n",
       "    </tr>\n",
       "    <tr>\n",
       "      <td>E10+</td>\n",
       "      <td>167</td>\n",
       "    </tr>\n",
       "    <tr>\n",
       "      <td>M</td>\n",
       "      <td>13</td>\n",
       "    </tr>\n",
       "    <tr>\n",
       "      <td>EC</td>\n",
       "      <td>5</td>\n",
       "    </tr>\n",
       "    <tr>\n",
       "      <td rowspan=\"4\" valign=\"top\">Platform</td>\n",
       "      <td>E</td>\n",
       "      <td>358</td>\n",
       "    </tr>\n",
       "    <tr>\n",
       "      <td>E10+</td>\n",
       "      <td>144</td>\n",
       "    </tr>\n",
       "    <tr>\n",
       "      <td>T</td>\n",
       "      <td>64</td>\n",
       "    </tr>\n",
       "    <tr>\n",
       "      <td>M</td>\n",
       "      <td>3</td>\n",
       "    </tr>\n",
       "    <tr>\n",
       "      <td rowspan=\"3\" valign=\"top\">Puzzle</td>\n",
       "      <td>E</td>\n",
       "      <td>289</td>\n",
       "    </tr>\n",
       "    <tr>\n",
       "      <td>E10+</td>\n",
       "      <td>43</td>\n",
       "    </tr>\n",
       "    <tr>\n",
       "      <td>T</td>\n",
       "      <td>10</td>\n",
       "    </tr>\n",
       "    <tr>\n",
       "      <td rowspan=\"5\" valign=\"top\">Racing</td>\n",
       "      <td>E</td>\n",
       "      <td>585</td>\n",
       "    </tr>\n",
       "    <tr>\n",
       "      <td>T</td>\n",
       "      <td>172</td>\n",
       "    </tr>\n",
       "    <tr>\n",
       "      <td>E10+</td>\n",
       "      <td>96</td>\n",
       "    </tr>\n",
       "    <tr>\n",
       "      <td>M</td>\n",
       "      <td>18</td>\n",
       "    </tr>\n",
       "    <tr>\n",
       "      <td>RP</td>\n",
       "      <td>1</td>\n",
       "    </tr>\n",
       "    <tr>\n",
       "      <td rowspan=\"4\" valign=\"top\">Role-Playing</td>\n",
       "      <td>T</td>\n",
       "      <td>420</td>\n",
       "    </tr>\n",
       "    <tr>\n",
       "      <td>M</td>\n",
       "      <td>162</td>\n",
       "    </tr>\n",
       "    <tr>\n",
       "      <td>E10+</td>\n",
       "      <td>111</td>\n",
       "    </tr>\n",
       "    <tr>\n",
       "      <td>E</td>\n",
       "      <td>84</td>\n",
       "    </tr>\n",
       "    <tr>\n",
       "      <td rowspan=\"4\" valign=\"top\">Shooter</td>\n",
       "      <td>M</td>\n",
       "      <td>565</td>\n",
       "    </tr>\n",
       "    <tr>\n",
       "      <td>T</td>\n",
       "      <td>348</td>\n",
       "    </tr>\n",
       "    <tr>\n",
       "      <td>E10+</td>\n",
       "      <td>58</td>\n",
       "    </tr>\n",
       "    <tr>\n",
       "      <td>E</td>\n",
       "      <td>48</td>\n",
       "    </tr>\n",
       "    <tr>\n",
       "      <td rowspan=\"4\" valign=\"top\">Simulation</td>\n",
       "      <td>E</td>\n",
       "      <td>325</td>\n",
       "    </tr>\n",
       "    <tr>\n",
       "      <td>T</td>\n",
       "      <td>190</td>\n",
       "    </tr>\n",
       "    <tr>\n",
       "      <td>E10+</td>\n",
       "      <td>48</td>\n",
       "    </tr>\n",
       "    <tr>\n",
       "      <td>M</td>\n",
       "      <td>5</td>\n",
       "    </tr>\n",
       "    <tr>\n",
       "      <td rowspan=\"4\" valign=\"top\">Sports</td>\n",
       "      <td>E</td>\n",
       "      <td>1188</td>\n",
       "    </tr>\n",
       "    <tr>\n",
       "      <td>T</td>\n",
       "      <td>198</td>\n",
       "    </tr>\n",
       "    <tr>\n",
       "      <td>E10+</td>\n",
       "      <td>107</td>\n",
       "    </tr>\n",
       "    <tr>\n",
       "      <td>M</td>\n",
       "      <td>16</td>\n",
       "    </tr>\n",
       "    <tr>\n",
       "      <td rowspan=\"5\" valign=\"top\">Strategy</td>\n",
       "      <td>T</td>\n",
       "      <td>162</td>\n",
       "    </tr>\n",
       "    <tr>\n",
       "      <td>E10+</td>\n",
       "      <td>78</td>\n",
       "    </tr>\n",
       "    <tr>\n",
       "      <td>E</td>\n",
       "      <td>72</td>\n",
       "    </tr>\n",
       "    <tr>\n",
       "      <td>M</td>\n",
       "      <td>25</td>\n",
       "    </tr>\n",
       "    <tr>\n",
       "      <td>RP</td>\n",
       "      <td>2</td>\n",
       "    </tr>\n",
       "  </tbody>\n",
       "</table>\n",
       "</div>"
      ],
      "text/plain": [
       "                     rating_count\n",
       "genre        rating              \n",
       "Action       T                681\n",
       "             M                608\n",
       "             E10+             481\n",
       "             E                416\n",
       "             AO                 1\n",
       "             EC                 1\n",
       "Adventure    E                162\n",
       "             T                115\n",
       "             M                 99\n",
       "             E10+              68\n",
       "             EC                 2\n",
       "Fighting     T                362\n",
       "             M                 49\n",
       "             E10+              19\n",
       "             E                  8\n",
       "Misc         E                458\n",
       "             T                239\n",
       "             E10+             167\n",
       "             M                 13\n",
       "             EC                 5\n",
       "Platform     E                358\n",
       "             E10+             144\n",
       "             T                 64\n",
       "             M                  3\n",
       "Puzzle       E                289\n",
       "             E10+              43\n",
       "             T                 10\n",
       "Racing       E                585\n",
       "             T                172\n",
       "             E10+              96\n",
       "             M                 18\n",
       "             RP                 1\n",
       "Role-Playing T                420\n",
       "             M                162\n",
       "             E10+             111\n",
       "             E                 84\n",
       "Shooter      M                565\n",
       "             T                348\n",
       "             E10+              58\n",
       "             E                 48\n",
       "Simulation   E                325\n",
       "             T                190\n",
       "             E10+              48\n",
       "             M                  5\n",
       "Sports       E               1188\n",
       "             T                198\n",
       "             E10+             107\n",
       "             M                 16\n",
       "Strategy     T                162\n",
       "             E10+              78\n",
       "             E                 72\n",
       "             M                 25\n",
       "             RP                 2"
      ]
     },
     "execution_count": 10,
     "metadata": {},
     "output_type": "execute_result"
    }
   ],
   "source": [
    "# поиск наиболее популярного рейтинга по каждому жанру, чтоб присвоить его пропущенным рейтингам по жанрам\n",
    "rating_genre = pd.DataFrame(data.groupby('genre')['rating'].value_counts())\n",
    "rating_genre.columns = ['rating_count']\n",
    "rating_genre"
   ]
  },
  {
   "cell_type": "code",
   "execution_count": 11,
   "metadata": {},
   "outputs": [
    {
     "data": {
      "text/html": [
       "<div>\n",
       "<style scoped>\n",
       "    .dataframe tbody tr th:only-of-type {\n",
       "        vertical-align: middle;\n",
       "    }\n",
       "\n",
       "    .dataframe tbody tr th {\n",
       "        vertical-align: top;\n",
       "    }\n",
       "\n",
       "    .dataframe thead th {\n",
       "        text-align: right;\n",
       "    }\n",
       "</style>\n",
       "<table border=\"1\" class=\"dataframe\">\n",
       "  <thead>\n",
       "    <tr style=\"text-align: right;\">\n",
       "      <th>rating</th>\n",
       "      <th>AO</th>\n",
       "      <th>E</th>\n",
       "      <th>E10+</th>\n",
       "      <th>EC</th>\n",
       "      <th>M</th>\n",
       "      <th>RP</th>\n",
       "      <th>T</th>\n",
       "    </tr>\n",
       "    <tr>\n",
       "      <th>genre</th>\n",
       "      <th></th>\n",
       "      <th></th>\n",
       "      <th></th>\n",
       "      <th></th>\n",
       "      <th></th>\n",
       "      <th></th>\n",
       "      <th></th>\n",
       "    </tr>\n",
       "  </thead>\n",
       "  <tbody>\n",
       "    <tr>\n",
       "      <td>Action</td>\n",
       "      <td>1.0</td>\n",
       "      <td>416.0</td>\n",
       "      <td>481.0</td>\n",
       "      <td>1.0</td>\n",
       "      <td>608.0</td>\n",
       "      <td>NaN</td>\n",
       "      <td>681.0</td>\n",
       "    </tr>\n",
       "    <tr>\n",
       "      <td>Adventure</td>\n",
       "      <td>NaN</td>\n",
       "      <td>162.0</td>\n",
       "      <td>68.0</td>\n",
       "      <td>2.0</td>\n",
       "      <td>99.0</td>\n",
       "      <td>NaN</td>\n",
       "      <td>115.0</td>\n",
       "    </tr>\n",
       "    <tr>\n",
       "      <td>Fighting</td>\n",
       "      <td>NaN</td>\n",
       "      <td>8.0</td>\n",
       "      <td>19.0</td>\n",
       "      <td>NaN</td>\n",
       "      <td>49.0</td>\n",
       "      <td>NaN</td>\n",
       "      <td>362.0</td>\n",
       "    </tr>\n",
       "    <tr>\n",
       "      <td>Misc</td>\n",
       "      <td>NaN</td>\n",
       "      <td>458.0</td>\n",
       "      <td>167.0</td>\n",
       "      <td>5.0</td>\n",
       "      <td>13.0</td>\n",
       "      <td>NaN</td>\n",
       "      <td>239.0</td>\n",
       "    </tr>\n",
       "    <tr>\n",
       "      <td>Platform</td>\n",
       "      <td>NaN</td>\n",
       "      <td>358.0</td>\n",
       "      <td>144.0</td>\n",
       "      <td>NaN</td>\n",
       "      <td>3.0</td>\n",
       "      <td>NaN</td>\n",
       "      <td>64.0</td>\n",
       "    </tr>\n",
       "    <tr>\n",
       "      <td>Puzzle</td>\n",
       "      <td>NaN</td>\n",
       "      <td>289.0</td>\n",
       "      <td>43.0</td>\n",
       "      <td>NaN</td>\n",
       "      <td>NaN</td>\n",
       "      <td>NaN</td>\n",
       "      <td>10.0</td>\n",
       "    </tr>\n",
       "    <tr>\n",
       "      <td>Racing</td>\n",
       "      <td>NaN</td>\n",
       "      <td>585.0</td>\n",
       "      <td>96.0</td>\n",
       "      <td>NaN</td>\n",
       "      <td>18.0</td>\n",
       "      <td>1.0</td>\n",
       "      <td>172.0</td>\n",
       "    </tr>\n",
       "    <tr>\n",
       "      <td>Role-Playing</td>\n",
       "      <td>NaN</td>\n",
       "      <td>84.0</td>\n",
       "      <td>111.0</td>\n",
       "      <td>NaN</td>\n",
       "      <td>162.0</td>\n",
       "      <td>NaN</td>\n",
       "      <td>420.0</td>\n",
       "    </tr>\n",
       "    <tr>\n",
       "      <td>Shooter</td>\n",
       "      <td>NaN</td>\n",
       "      <td>48.0</td>\n",
       "      <td>58.0</td>\n",
       "      <td>NaN</td>\n",
       "      <td>565.0</td>\n",
       "      <td>NaN</td>\n",
       "      <td>348.0</td>\n",
       "    </tr>\n",
       "    <tr>\n",
       "      <td>Simulation</td>\n",
       "      <td>NaN</td>\n",
       "      <td>325.0</td>\n",
       "      <td>48.0</td>\n",
       "      <td>NaN</td>\n",
       "      <td>5.0</td>\n",
       "      <td>NaN</td>\n",
       "      <td>190.0</td>\n",
       "    </tr>\n",
       "    <tr>\n",
       "      <td>Sports</td>\n",
       "      <td>NaN</td>\n",
       "      <td>1188.0</td>\n",
       "      <td>107.0</td>\n",
       "      <td>NaN</td>\n",
       "      <td>16.0</td>\n",
       "      <td>NaN</td>\n",
       "      <td>198.0</td>\n",
       "    </tr>\n",
       "    <tr>\n",
       "      <td>Strategy</td>\n",
       "      <td>NaN</td>\n",
       "      <td>72.0</td>\n",
       "      <td>78.0</td>\n",
       "      <td>NaN</td>\n",
       "      <td>25.0</td>\n",
       "      <td>2.0</td>\n",
       "      <td>162.0</td>\n",
       "    </tr>\n",
       "  </tbody>\n",
       "</table>\n",
       "</div>"
      ],
      "text/plain": [
       "rating         AO       E   E10+   EC      M   RP      T\n",
       "genre                                                   \n",
       "Action        1.0   416.0  481.0  1.0  608.0  NaN  681.0\n",
       "Adventure     NaN   162.0   68.0  2.0   99.0  NaN  115.0\n",
       "Fighting      NaN     8.0   19.0  NaN   49.0  NaN  362.0\n",
       "Misc          NaN   458.0  167.0  5.0   13.0  NaN  239.0\n",
       "Platform      NaN   358.0  144.0  NaN    3.0  NaN   64.0\n",
       "Puzzle        NaN   289.0   43.0  NaN    NaN  NaN   10.0\n",
       "Racing        NaN   585.0   96.0  NaN   18.0  1.0  172.0\n",
       "Role-Playing  NaN    84.0  111.0  NaN  162.0  NaN  420.0\n",
       "Shooter       NaN    48.0   58.0  NaN  565.0  NaN  348.0\n",
       "Simulation    NaN   325.0   48.0  NaN    5.0  NaN  190.0\n",
       "Sports        NaN  1188.0  107.0  NaN   16.0  NaN  198.0\n",
       "Strategy      NaN    72.0   78.0  NaN   25.0  2.0  162.0"
      ]
     },
     "execution_count": 11,
     "metadata": {},
     "output_type": "execute_result"
    }
   ],
   "source": [
    "# также информация по жанрам и рейтингам в другом виде\n",
    "rating_genre.pivot_table(values = 'rating_count', index = 'genre' , columns = 'rating')"
   ]
  },
  {
   "cell_type": "code",
   "execution_count": 12,
   "metadata": {},
   "outputs": [],
   "source": [
    "# заполнение пропусков 0 для дальнейшей корректировки\n",
    "#data['rating'] = data['rating'].fillna(0)\n",
    "#data\n",
    "warnings.filterwarnings('ignore')"
   ]
  },
  {
   "cell_type": "code",
   "execution_count": 13,
   "metadata": {},
   "outputs": [
    {
     "data": {
      "text/html": [
       "<div>\n",
       "<style scoped>\n",
       "    .dataframe tbody tr th:only-of-type {\n",
       "        vertical-align: middle;\n",
       "    }\n",
       "\n",
       "    .dataframe tbody tr th {\n",
       "        vertical-align: top;\n",
       "    }\n",
       "\n",
       "    .dataframe thead th {\n",
       "        text-align: right;\n",
       "    }\n",
       "</style>\n",
       "<table border=\"1\" class=\"dataframe\">\n",
       "  <thead>\n",
       "    <tr style=\"text-align: right;\">\n",
       "      <th></th>\n",
       "      <th>name</th>\n",
       "      <th>platform</th>\n",
       "      <th>year_of_release</th>\n",
       "      <th>genre</th>\n",
       "      <th>na_sales</th>\n",
       "      <th>eu_sales</th>\n",
       "      <th>jp_sales</th>\n",
       "      <th>other_sales</th>\n",
       "      <th>critic_score</th>\n",
       "      <th>user_score</th>\n",
       "      <th>rating</th>\n",
       "    </tr>\n",
       "  </thead>\n",
       "  <tbody>\n",
       "    <tr>\n",
       "      <td>13671</td>\n",
       "      <td>Bloody Roar Extreme</td>\n",
       "      <td>XB</td>\n",
       "      <td>2003</td>\n",
       "      <td>Fighting</td>\n",
       "      <td>0.03</td>\n",
       "      <td>0.01</td>\n",
       "      <td>0.00</td>\n",
       "      <td>0.00</td>\n",
       "      <td>61.0</td>\n",
       "      <td>8.6</td>\n",
       "      <td>T</td>\n",
       "    </tr>\n",
       "    <tr>\n",
       "      <td>13672</td>\n",
       "      <td>Clockwork Empires</td>\n",
       "      <td>PC</td>\n",
       "      <td>2010</td>\n",
       "      <td>Strategy</td>\n",
       "      <td>0.00</td>\n",
       "      <td>0.04</td>\n",
       "      <td>0.00</td>\n",
       "      <td>0.00</td>\n",
       "      <td>58.0</td>\n",
       "      <td>3.8</td>\n",
       "      <td>RP</td>\n",
       "    </tr>\n",
       "    <tr>\n",
       "      <td>13673</td>\n",
       "      <td>Split/Second</td>\n",
       "      <td>PC</td>\n",
       "      <td>2010</td>\n",
       "      <td>Racing</td>\n",
       "      <td>0.00</td>\n",
       "      <td>0.04</td>\n",
       "      <td>0.00</td>\n",
       "      <td>0.01</td>\n",
       "      <td>79.0</td>\n",
       "      <td>8.2</td>\n",
       "      <td>E10+</td>\n",
       "    </tr>\n",
       "    <tr>\n",
       "      <td>13674</td>\n",
       "      <td>Tennis Masters Series 2003</td>\n",
       "      <td>XB</td>\n",
       "      <td>2002</td>\n",
       "      <td>Sports</td>\n",
       "      <td>0.03</td>\n",
       "      <td>0.01</td>\n",
       "      <td>0.00</td>\n",
       "      <td>0.00</td>\n",
       "      <td>67.0</td>\n",
       "      <td>tbd</td>\n",
       "      <td>E</td>\n",
       "    </tr>\n",
       "    <tr>\n",
       "      <td>13675</td>\n",
       "      <td>Resident Evil 6</td>\n",
       "      <td>PC</td>\n",
       "      <td>2012</td>\n",
       "      <td>Shooter</td>\n",
       "      <td>0.00</td>\n",
       "      <td>0.04</td>\n",
       "      <td>0.00</td>\n",
       "      <td>0.00</td>\n",
       "      <td>69.0</td>\n",
       "      <td>5.9</td>\n",
       "      <td>M</td>\n",
       "    </tr>\n",
       "    <tr>\n",
       "      <td>...</td>\n",
       "      <td>...</td>\n",
       "      <td>...</td>\n",
       "      <td>...</td>\n",
       "      <td>...</td>\n",
       "      <td>...</td>\n",
       "      <td>...</td>\n",
       "      <td>...</td>\n",
       "      <td>...</td>\n",
       "      <td>...</td>\n",
       "      <td>...</td>\n",
       "      <td>...</td>\n",
       "    </tr>\n",
       "    <tr>\n",
       "      <td>16710</td>\n",
       "      <td>Samurai Warriors: Sanada Maru</td>\n",
       "      <td>PS3</td>\n",
       "      <td>2016</td>\n",
       "      <td>Action</td>\n",
       "      <td>0.00</td>\n",
       "      <td>0.00</td>\n",
       "      <td>0.01</td>\n",
       "      <td>0.00</td>\n",
       "      <td>NaN</td>\n",
       "      <td>NaN</td>\n",
       "      <td>NaN</td>\n",
       "    </tr>\n",
       "    <tr>\n",
       "      <td>16711</td>\n",
       "      <td>LMA Manager 2007</td>\n",
       "      <td>X360</td>\n",
       "      <td>2006</td>\n",
       "      <td>Sports</td>\n",
       "      <td>0.00</td>\n",
       "      <td>0.01</td>\n",
       "      <td>0.00</td>\n",
       "      <td>0.00</td>\n",
       "      <td>NaN</td>\n",
       "      <td>NaN</td>\n",
       "      <td>NaN</td>\n",
       "    </tr>\n",
       "    <tr>\n",
       "      <td>16712</td>\n",
       "      <td>Haitaka no Psychedelica</td>\n",
       "      <td>PSV</td>\n",
       "      <td>2016</td>\n",
       "      <td>Adventure</td>\n",
       "      <td>0.00</td>\n",
       "      <td>0.00</td>\n",
       "      <td>0.01</td>\n",
       "      <td>0.00</td>\n",
       "      <td>NaN</td>\n",
       "      <td>NaN</td>\n",
       "      <td>NaN</td>\n",
       "    </tr>\n",
       "    <tr>\n",
       "      <td>16713</td>\n",
       "      <td>Spirits &amp; Spells</td>\n",
       "      <td>GBA</td>\n",
       "      <td>2003</td>\n",
       "      <td>Platform</td>\n",
       "      <td>0.01</td>\n",
       "      <td>0.00</td>\n",
       "      <td>0.00</td>\n",
       "      <td>0.00</td>\n",
       "      <td>NaN</td>\n",
       "      <td>NaN</td>\n",
       "      <td>NaN</td>\n",
       "    </tr>\n",
       "    <tr>\n",
       "      <td>16714</td>\n",
       "      <td>Winning Post 8 2016</td>\n",
       "      <td>PSV</td>\n",
       "      <td>2016</td>\n",
       "      <td>Simulation</td>\n",
       "      <td>0.00</td>\n",
       "      <td>0.00</td>\n",
       "      <td>0.01</td>\n",
       "      <td>0.00</td>\n",
       "      <td>NaN</td>\n",
       "      <td>NaN</td>\n",
       "      <td>NaN</td>\n",
       "    </tr>\n",
       "  </tbody>\n",
       "</table>\n",
       "<p>3043 rows × 11 columns</p>\n",
       "</div>"
      ],
      "text/plain": [
       "                                name platform  year_of_release       genre  \\\n",
       "13671            Bloody Roar Extreme       XB             2003    Fighting   \n",
       "13672              Clockwork Empires       PC             2010    Strategy   \n",
       "13673                   Split/Second       PC             2010      Racing   \n",
       "13674     Tennis Masters Series 2003       XB             2002      Sports   \n",
       "13675                Resident Evil 6       PC             2012     Shooter   \n",
       "...                              ...      ...              ...         ...   \n",
       "16710  Samurai Warriors: Sanada Maru      PS3             2016      Action   \n",
       "16711               LMA Manager 2007     X360             2006      Sports   \n",
       "16712        Haitaka no Psychedelica      PSV             2016   Adventure   \n",
       "16713               Spirits & Spells      GBA             2003    Platform   \n",
       "16714            Winning Post 8 2016      PSV             2016  Simulation   \n",
       "\n",
       "       na_sales  eu_sales  jp_sales  other_sales  critic_score user_score  \\\n",
       "13671      0.03      0.01      0.00         0.00          61.0        8.6   \n",
       "13672      0.00      0.04      0.00         0.00          58.0        3.8   \n",
       "13673      0.00      0.04      0.00         0.01          79.0        8.2   \n",
       "13674      0.03      0.01      0.00         0.00          67.0        tbd   \n",
       "13675      0.00      0.04      0.00         0.00          69.0        5.9   \n",
       "...         ...       ...       ...          ...           ...        ...   \n",
       "16710      0.00      0.00      0.01         0.00           NaN        NaN   \n",
       "16711      0.00      0.01      0.00         0.00           NaN        NaN   \n",
       "16712      0.00      0.00      0.01         0.00           NaN        NaN   \n",
       "16713      0.01      0.00      0.00         0.00           NaN        NaN   \n",
       "16714      0.00      0.00      0.01         0.00           NaN        NaN   \n",
       "\n",
       "      rating  \n",
       "13671      T  \n",
       "13672     RP  \n",
       "13673   E10+  \n",
       "13674      E  \n",
       "13675      M  \n",
       "...      ...  \n",
       "16710    NaN  \n",
       "16711    NaN  \n",
       "16712    NaN  \n",
       "16713    NaN  \n",
       "16714    NaN  \n",
       "\n",
       "[3043 rows x 11 columns]"
      ]
     },
     "execution_count": 13,
     "metadata": {},
     "output_type": "execute_result"
    }
   ],
   "source": [
    "# заполнение пропусков вручную, возможно ли это сделать по-другому?\n",
    "#data.loc[(data['rating'] == 0) & (data['genre'] == 'Adventure'), 'rating'] = 'E'\n",
    "#data.loc[(data['rating'] == 0) & (data['genre'] == 'Misc'), 'rating'] = 'E'\n",
    "#data.loc[(data['rating'] == 0) & (data['genre'] == 'Platform'), 'rating'] = 'E'\n",
    "#data.loc[(data['rating'] == 0) & (data['genre'] == 'Puzzle'), 'rating'] = 'E'\n",
    "#data.loc[(data['rating'] == 0) & (data['genre'] == 'Racing'), 'rating'] = 'E'\n",
    "#data.loc[(data['rating'] == 0) & (data['genre'] == 'Simulation'), 'rating'] = 'E'\n",
    "#data.loc[(data['rating'] == 0) & (data['genre'] == 'Sports'), 'rating'] = 'E'\n",
    "\n",
    "#data.loc[(data['rating'] == 0) & (data['genre'] == 'Action'), 'rating'] = 'T'\n",
    "#data.loc[(data['rating'] == 0) & (data['genre'] == 'Fighting'), 'rating'] = 'T'\n",
    "#data.loc[(data['rating'] == 0) & (data['genre'] == 'Role-Playing'), 'rating'] = 'T'\n",
    "#data.loc[(data['rating'] == 0) & (data['genre'] == 'Strategy'), 'rating'] = 'T'\n",
    "\n",
    "#data.loc[(data['rating'] == 0) & (data['genre'] == 'Shooter'), 'rating'] = 'M'\n",
    "data[13670:]"
   ]
  },
  {
   "cell_type": "markdown",
   "metadata": {},
   "source": [
    "<div class=\"alert alert-warning\" style=\"border-radius: 15px; box-shadow: 4px 4px 4px; border: 1px solid \">\n",
    "<b> Комментарий ревьюера</b>\n",
    "    \n",
    "Такая замена может сильно искажать данные. Шутеры могут быть как для детей, так и для взрослых. Кроме того, перед заполнением следует убедиться в случайности пропусков. Если с годом все понятно (год точно должен быть), то с возрастным рейтингом не все так однозначно. Тем более, что здесь речь о маркировке конкретной организации, а рынки в данных разные: Запад и Восток. \n",
    "</div>\n",
    "\n"
   ]
  },
  {
   "cell_type": "code",
   "execution_count": 14,
   "metadata": {},
   "outputs": [],
   "source": [
    "# замена 'tbd' на nan, подсчет средних и медиан по рейтингу\n",
    "data.loc[data['user_score'] == 'tbd', 'user_score'] = np.nan\n",
    "data['user_score'] = data['user_score'].astype('float64')\n",
    "#data.groupby('rating')['user_score'].agg(['median','mean'])\n",
    "\n",
    "warnings.filterwarnings('ignore')"
   ]
  },
  {
   "cell_type": "markdown",
   "metadata": {},
   "source": [
    "<div class=\"alert alert-warning\" style=\"border-radius: 15px; box-shadow: 4px 4px 4px; border: 1px solid \">\n",
    "<b> Комментарий ревьюера </b>\n",
    "    \n",
    "Описательные комментарии лучше выносить в отдельные ячейки типа Makrdown. Комментарии в коде должны быть лаконичными и отвечать на вопрос *Что делаем?*, а не *Почему?* или *Для чего?*. При этом, только сложный код обычно сопровождают комментариями, где действительно без пояснений трудно разобраться. Примитивный код можно не комментировать :) \n",
    "</div>"
   ]
  },
  {
   "cell_type": "code",
   "execution_count": 15,
   "metadata": {},
   "outputs": [],
   "source": [
    "# меняем пропущенные значения в user_score и critic_score средними значениями по рейтингу,\n",
    "#по рейтингу EC все столбцы с пропусками, поэтому ставим в critic_score значение 7 (user_score)\n",
    "#data['user_score'] = data['user_score'].fillna(data.groupby(data['rating'])['user_score'].transform('mean'))\n",
    "#data['critic_score'] = data['critic_score'].fillna(data.groupby(data['rating'])['critic_score'].transform('mean'))\n",
    "#data.loc[(data['rating'] == 'EC') , 'critic_score'] = 7"
   ]
  },
  {
   "cell_type": "markdown",
   "metadata": {},
   "source": [
    "<div class=\"alert alert-warning\" style=\"border-radius: 15px; box-shadow: 4px 4px 4px; border: 1px solid \">\n",
    "<b> Комментарий ревьюера </b>\n",
    "    \n",
    "- То же самое. Оценка это субъективная штука. Разве можем мы без искажения данных заменять на среднее? \n",
    "    \n",
    "    \n",
    "- > по рейтингу EC все столбцы с пропусками\n",
    "    \n",
    "    Может, на то есть причина?\n",
    "    \n",
    "    \n",
    "- > поэтому ставим в critic_score значение 7 (user_score)\n",
    "    \n",
    "    Почему 7?\n",
    "    \n",
    "    \n",
    "Не забывай, что пропуски можно и игнорировать или же заменять на маркер.    \n",
    "</div>\n",
    "\n",
    "<div class=\"alert alert-comment\" style=\"border-radius: 15px; box-shadow: 4px 4px 4px; border: 1px solid \">\n",
    "<h2> Комментарий студента</h2>\n",
    "\n",
    "Убрала замену пропусков в user_score, critic_score и rating\n",
    "\n",
    "Что значит заменять на маркер? на None или число? </div>"
   ]
  },
  {
   "cell_type": "markdown",
   "metadata": {},
   "source": [
    "<div class=\"alert alert-success\" style=\"border-radius: 15px; box-shadow: 4px 4px 4px; border: 1px solid \">\n",
    "<h2> Комментарий ревьюера 2</h2>\n",
    "    \n",
    "Маркер это значение, которое явно выбивается из выборки. Для столбца оценок, где числа меняются от 1 до 10, маркером может быть число 0 или 115. В общем, это значение, по которому мы сразу можем понять, что там раньше был пропуск. </div>"
   ]
  },
  {
   "cell_type": "code",
   "execution_count": 16,
   "metadata": {},
   "outputs": [
    {
     "name": "stdout",
     "output_type": "stream",
     "text": [
      "<class 'pandas.core.frame.DataFrame'>\n",
      "Int64Index: 16713 entries, 0 to 16714\n",
      "Data columns (total 11 columns):\n",
      "name               16713 non-null object\n",
      "platform           16713 non-null object\n",
      "year_of_release    16713 non-null int64\n",
      "genre              16713 non-null object\n",
      "na_sales           16713 non-null float64\n",
      "eu_sales           16713 non-null float64\n",
      "jp_sales           16713 non-null float64\n",
      "other_sales        16713 non-null float64\n",
      "critic_score       8137 non-null float64\n",
      "user_score         7590 non-null float64\n",
      "rating             9949 non-null object\n",
      "dtypes: float64(6), int64(1), object(4)\n",
      "memory usage: 1.5+ MB\n"
     ]
    }
   ],
   "source": [
    "data.info()"
   ]
  },
  {
   "cell_type": "code",
   "execution_count": 17,
   "metadata": {},
   "outputs": [
    {
     "data": {
      "text/html": [
       "<div>\n",
       "<style scoped>\n",
       "    .dataframe tbody tr th:only-of-type {\n",
       "        vertical-align: middle;\n",
       "    }\n",
       "\n",
       "    .dataframe tbody tr th {\n",
       "        vertical-align: top;\n",
       "    }\n",
       "\n",
       "    .dataframe thead th {\n",
       "        text-align: right;\n",
       "    }\n",
       "</style>\n",
       "<table border=\"1\" class=\"dataframe\">\n",
       "  <thead>\n",
       "    <tr style=\"text-align: right;\">\n",
       "      <th></th>\n",
       "      <th>name</th>\n",
       "      <th>platform</th>\n",
       "      <th>year_of_release</th>\n",
       "      <th>genre</th>\n",
       "      <th>na_sales</th>\n",
       "      <th>eu_sales</th>\n",
       "      <th>jp_sales</th>\n",
       "      <th>other_sales</th>\n",
       "      <th>critic_score</th>\n",
       "      <th>user_score</th>\n",
       "      <th>rating</th>\n",
       "    </tr>\n",
       "  </thead>\n",
       "  <tbody>\n",
       "    <tr>\n",
       "      <td>0</td>\n",
       "      <td>Wii Sports</td>\n",
       "      <td>Wii</td>\n",
       "      <td>2006</td>\n",
       "      <td>Sports</td>\n",
       "      <td>41.36</td>\n",
       "      <td>28.96</td>\n",
       "      <td>3.77</td>\n",
       "      <td>8.45</td>\n",
       "      <td>76.0</td>\n",
       "      <td>8.0</td>\n",
       "      <td>E</td>\n",
       "    </tr>\n",
       "    <tr>\n",
       "      <td>1</td>\n",
       "      <td>Super Mario Bros.</td>\n",
       "      <td>NES</td>\n",
       "      <td>1985</td>\n",
       "      <td>Platform</td>\n",
       "      <td>29.08</td>\n",
       "      <td>3.58</td>\n",
       "      <td>6.81</td>\n",
       "      <td>0.77</td>\n",
       "      <td>NaN</td>\n",
       "      <td>NaN</td>\n",
       "      <td>NaN</td>\n",
       "    </tr>\n",
       "    <tr>\n",
       "      <td>2</td>\n",
       "      <td>Mario Kart Wii</td>\n",
       "      <td>Wii</td>\n",
       "      <td>2008</td>\n",
       "      <td>Racing</td>\n",
       "      <td>15.68</td>\n",
       "      <td>12.76</td>\n",
       "      <td>3.79</td>\n",
       "      <td>3.29</td>\n",
       "      <td>82.0</td>\n",
       "      <td>8.3</td>\n",
       "      <td>E</td>\n",
       "    </tr>\n",
       "    <tr>\n",
       "      <td>3</td>\n",
       "      <td>Wii Sports Resort</td>\n",
       "      <td>Wii</td>\n",
       "      <td>2009</td>\n",
       "      <td>Sports</td>\n",
       "      <td>15.61</td>\n",
       "      <td>10.93</td>\n",
       "      <td>3.28</td>\n",
       "      <td>2.95</td>\n",
       "      <td>80.0</td>\n",
       "      <td>8.0</td>\n",
       "      <td>E</td>\n",
       "    </tr>\n",
       "    <tr>\n",
       "      <td>4</td>\n",
       "      <td>Pokemon Red/Pokemon Blue</td>\n",
       "      <td>GB</td>\n",
       "      <td>1996</td>\n",
       "      <td>Role-Playing</td>\n",
       "      <td>11.27</td>\n",
       "      <td>8.89</td>\n",
       "      <td>10.22</td>\n",
       "      <td>1.00</td>\n",
       "      <td>NaN</td>\n",
       "      <td>NaN</td>\n",
       "      <td>NaN</td>\n",
       "    </tr>\n",
       "    <tr>\n",
       "      <td>5</td>\n",
       "      <td>Tetris</td>\n",
       "      <td>GB</td>\n",
       "      <td>1989</td>\n",
       "      <td>Puzzle</td>\n",
       "      <td>23.20</td>\n",
       "      <td>2.26</td>\n",
       "      <td>4.22</td>\n",
       "      <td>0.58</td>\n",
       "      <td>NaN</td>\n",
       "      <td>NaN</td>\n",
       "      <td>NaN</td>\n",
       "    </tr>\n",
       "    <tr>\n",
       "      <td>6</td>\n",
       "      <td>New Super Mario Bros.</td>\n",
       "      <td>DS</td>\n",
       "      <td>2006</td>\n",
       "      <td>Platform</td>\n",
       "      <td>11.28</td>\n",
       "      <td>9.14</td>\n",
       "      <td>6.50</td>\n",
       "      <td>2.88</td>\n",
       "      <td>89.0</td>\n",
       "      <td>8.5</td>\n",
       "      <td>E</td>\n",
       "    </tr>\n",
       "    <tr>\n",
       "      <td>7</td>\n",
       "      <td>Wii Play</td>\n",
       "      <td>Wii</td>\n",
       "      <td>2006</td>\n",
       "      <td>Misc</td>\n",
       "      <td>13.96</td>\n",
       "      <td>9.18</td>\n",
       "      <td>2.93</td>\n",
       "      <td>2.84</td>\n",
       "      <td>58.0</td>\n",
       "      <td>6.6</td>\n",
       "      <td>E</td>\n",
       "    </tr>\n",
       "    <tr>\n",
       "      <td>8</td>\n",
       "      <td>New Super Mario Bros. Wii</td>\n",
       "      <td>Wii</td>\n",
       "      <td>2009</td>\n",
       "      <td>Platform</td>\n",
       "      <td>14.44</td>\n",
       "      <td>6.94</td>\n",
       "      <td>4.70</td>\n",
       "      <td>2.24</td>\n",
       "      <td>87.0</td>\n",
       "      <td>8.4</td>\n",
       "      <td>E</td>\n",
       "    </tr>\n",
       "    <tr>\n",
       "      <td>9</td>\n",
       "      <td>Duck Hunt</td>\n",
       "      <td>NES</td>\n",
       "      <td>1984</td>\n",
       "      <td>Shooter</td>\n",
       "      <td>26.93</td>\n",
       "      <td>0.63</td>\n",
       "      <td>0.28</td>\n",
       "      <td>0.47</td>\n",
       "      <td>NaN</td>\n",
       "      <td>NaN</td>\n",
       "      <td>NaN</td>\n",
       "    </tr>\n",
       "    <tr>\n",
       "      <td>10</td>\n",
       "      <td>Nintendogs</td>\n",
       "      <td>DS</td>\n",
       "      <td>2005</td>\n",
       "      <td>Simulation</td>\n",
       "      <td>9.05</td>\n",
       "      <td>10.95</td>\n",
       "      <td>1.93</td>\n",
       "      <td>2.74</td>\n",
       "      <td>NaN</td>\n",
       "      <td>NaN</td>\n",
       "      <td>NaN</td>\n",
       "    </tr>\n",
       "    <tr>\n",
       "      <td>11</td>\n",
       "      <td>Mario Kart DS</td>\n",
       "      <td>DS</td>\n",
       "      <td>2005</td>\n",
       "      <td>Racing</td>\n",
       "      <td>9.71</td>\n",
       "      <td>7.47</td>\n",
       "      <td>4.13</td>\n",
       "      <td>1.90</td>\n",
       "      <td>91.0</td>\n",
       "      <td>8.6</td>\n",
       "      <td>E</td>\n",
       "    </tr>\n",
       "    <tr>\n",
       "      <td>12</td>\n",
       "      <td>Pokemon Gold/Pokemon Silver</td>\n",
       "      <td>GB</td>\n",
       "      <td>1999</td>\n",
       "      <td>Role-Playing</td>\n",
       "      <td>9.00</td>\n",
       "      <td>6.18</td>\n",
       "      <td>7.20</td>\n",
       "      <td>0.71</td>\n",
       "      <td>NaN</td>\n",
       "      <td>NaN</td>\n",
       "      <td>NaN</td>\n",
       "    </tr>\n",
       "    <tr>\n",
       "      <td>13</td>\n",
       "      <td>Wii Fit</td>\n",
       "      <td>Wii</td>\n",
       "      <td>2007</td>\n",
       "      <td>Sports</td>\n",
       "      <td>8.92</td>\n",
       "      <td>8.03</td>\n",
       "      <td>3.60</td>\n",
       "      <td>2.15</td>\n",
       "      <td>80.0</td>\n",
       "      <td>7.7</td>\n",
       "      <td>E</td>\n",
       "    </tr>\n",
       "    <tr>\n",
       "      <td>14</td>\n",
       "      <td>Kinect Adventures!</td>\n",
       "      <td>X360</td>\n",
       "      <td>2010</td>\n",
       "      <td>Misc</td>\n",
       "      <td>15.00</td>\n",
       "      <td>4.89</td>\n",
       "      <td>0.24</td>\n",
       "      <td>1.69</td>\n",
       "      <td>61.0</td>\n",
       "      <td>6.3</td>\n",
       "      <td>E</td>\n",
       "    </tr>\n",
       "  </tbody>\n",
       "</table>\n",
       "</div>"
      ],
      "text/plain": [
       "                           name platform  year_of_release         genre  \\\n",
       "0                    Wii Sports      Wii             2006        Sports   \n",
       "1             Super Mario Bros.      NES             1985      Platform   \n",
       "2                Mario Kart Wii      Wii             2008        Racing   \n",
       "3             Wii Sports Resort      Wii             2009        Sports   \n",
       "4      Pokemon Red/Pokemon Blue       GB             1996  Role-Playing   \n",
       "5                        Tetris       GB             1989        Puzzle   \n",
       "6         New Super Mario Bros.       DS             2006      Platform   \n",
       "7                      Wii Play      Wii             2006          Misc   \n",
       "8     New Super Mario Bros. Wii      Wii             2009      Platform   \n",
       "9                     Duck Hunt      NES             1984       Shooter   \n",
       "10                   Nintendogs       DS             2005    Simulation   \n",
       "11                Mario Kart DS       DS             2005        Racing   \n",
       "12  Pokemon Gold/Pokemon Silver       GB             1999  Role-Playing   \n",
       "13                      Wii Fit      Wii             2007        Sports   \n",
       "14           Kinect Adventures!     X360             2010          Misc   \n",
       "\n",
       "    na_sales  eu_sales  jp_sales  other_sales  critic_score  user_score rating  \n",
       "0      41.36     28.96      3.77         8.45          76.0         8.0      E  \n",
       "1      29.08      3.58      6.81         0.77           NaN         NaN    NaN  \n",
       "2      15.68     12.76      3.79         3.29          82.0         8.3      E  \n",
       "3      15.61     10.93      3.28         2.95          80.0         8.0      E  \n",
       "4      11.27      8.89     10.22         1.00           NaN         NaN    NaN  \n",
       "5      23.20      2.26      4.22         0.58           NaN         NaN    NaN  \n",
       "6      11.28      9.14      6.50         2.88          89.0         8.5      E  \n",
       "7      13.96      9.18      2.93         2.84          58.0         6.6      E  \n",
       "8      14.44      6.94      4.70         2.24          87.0         8.4      E  \n",
       "9      26.93      0.63      0.28         0.47           NaN         NaN    NaN  \n",
       "10      9.05     10.95      1.93         2.74           NaN         NaN    NaN  \n",
       "11      9.71      7.47      4.13         1.90          91.0         8.6      E  \n",
       "12      9.00      6.18      7.20         0.71           NaN         NaN    NaN  \n",
       "13      8.92      8.03      3.60         2.15          80.0         7.7      E  \n",
       "14     15.00      4.89      0.24         1.69          61.0         6.3      E  "
      ]
     },
     "execution_count": 17,
     "metadata": {},
     "output_type": "execute_result"
    }
   ],
   "source": [
    "data.head(15)"
   ]
  },
  {
   "cell_type": "code",
   "execution_count": 18,
   "metadata": {},
   "outputs": [
    {
     "data": {
      "text/plain": [
       "0"
      ]
     },
     "execution_count": 18,
     "metadata": {},
     "output_type": "execute_result"
    }
   ],
   "source": [
    "data.duplicated(keep = False).sum()"
   ]
  },
  {
   "cell_type": "markdown",
   "metadata": {},
   "source": [
    "**Вывод 2**\n",
    "\n",
    "*Произведена обработка данных:*\n",
    "1. названия столбцов приведены к нижнему регистру\n",
    "2. удалены 2 строчки с пропущенными именами\n",
    "3. пустые значения по году заменены на медианные, исходя из платформы\n",
    "4. измененен рейтинг 'K-A' на 'E', так как раньше 'E' называлось 'K-A'\n",
    "\n",
    "\n",
    "*Общее количество строк 16713, дубликатов нет, есть пропуски в user_score, critic_score и rating*"
   ]
  },
  {
   "cell_type": "markdown",
   "metadata": {},
   "source": [
    "## Шаг 3. Исследование данных"
   ]
  },
  {
   "cell_type": "code",
   "execution_count": 19,
   "metadata": {},
   "outputs": [],
   "source": [
    "# суммарные продажи, добавлен столбец\n",
    "data['all_sales'] = data[['na_sales','eu_sales','jp_sales','other_sales']].sum(axis = 1)\n",
    "\n",
    "warnings.filterwarnings('ignore')"
   ]
  },
  {
   "cell_type": "code",
   "execution_count": 20,
   "metadata": {},
   "outputs": [
    {
     "data": {
      "text/plain": [
       "[(2009, 1476),\n",
       " (2008, 1457),\n",
       " (2010, 1302),\n",
       " (2007, 1197),\n",
       " (2011, 1161),\n",
       " (2006, 1006),\n",
       " (2005, 973),\n",
       " (2002, 829),\n",
       " (2003, 800),\n",
       " (2004, 783),\n",
       " (2012, 653),\n",
       " (2015, 606),\n",
       " (2014, 582),\n",
       " (2013, 552),\n",
       " (2016, 502)]"
      ]
     },
     "execution_count": 20,
     "metadata": {},
     "output_type": "execute_result"
    }
   ],
   "source": [
    "# по количеству выпущенных игр можно в дальнейшем брать период с 2007 по 2016 год (последние 10 лет)\n",
    "Counter(data['year_of_release']).most_common(15)"
   ]
  },
  {
   "cell_type": "code",
   "execution_count": 21,
   "metadata": {},
   "outputs": [
    {
     "data": {
      "text/plain": [
       "Text(0, 0.5, 'Количество выпущенных игр')"
      ]
     },
     "execution_count": 21,
     "metadata": {},
     "output_type": "execute_result"
    },
    {
     "data": {
      "image/png": "[encoded data removed]",
      "text/plain": [
       "<Figure size 432x360 with 1 Axes>"
      ]
     },
     "metadata": {
      "needs_background": "light"
     },
     "output_type": "display_data"
    }
   ],
   "source": [
    "data.hist('year_of_release', bins = 25, figsize = (6,5))\n",
    "plt.title ('Выпуск игр по годам')\n",
    "plt.xlabel('Год')\n",
    "plt.ylabel('Количество выпущенных игр')"
   ]
  },
  {
   "cell_type": "markdown",
   "metadata": {},
   "source": [
    "<div class=\"alert alert-success\" style=\"border-radius: 15px; box-shadow: 4px 4px 4px; border: 1px solid \">\n",
    "<b> Комментарий ревьюера</b>\n",
    "    \n",
    "Очень хорошая визуализация. Уже по ней можно прикинуть актуальный период.    \n",
    "</div>\n",
    "<div class=\"alert alert-warning\" style=\"border-radius: 15px; box-shadow: 4px 4px 4px; border: 1px solid \">\n",
    "<b> Комментарий ревьюера</b>\n",
    "\n",
    "Графики желательно подписывать: заголовок + подписи осей. </div>\n",
    "\n",
    "<div class=\"alert alert-comment\" style=\"border-radius: 15px; box-shadow: 4px 4px 4px; border: 1px solid \">\n",
    "<h2> Комментарий студента</h2>\n",
    "\n",
    "График подписала: заголовок + подписи осей. </div>"
   ]
  },
  {
   "cell_type": "markdown",
   "metadata": {},
   "source": [
    "**Вывод 3.1**\n",
    "\n",
    "* *Игры стали набирать популярность начиная с 2000 года*\n",
    "* *Для исследования в дальнейшем можно взять период с 2013 по 2016 год, так как в 2013 году немного снизился выпуск игр, но в дальнейшем он начал расти*\n"
   ]
  },
  {
   "cell_type": "code",
   "execution_count": 22,
   "metadata": {},
   "outputs": [
    {
     "data": {
      "text/html": [
       "<div>\n",
       "<style scoped>\n",
       "    .dataframe tbody tr th:only-of-type {\n",
       "        vertical-align: middle;\n",
       "    }\n",
       "\n",
       "    .dataframe tbody tr th {\n",
       "        vertical-align: top;\n",
       "    }\n",
       "\n",
       "    .dataframe thead th {\n",
       "        text-align: right;\n",
       "    }\n",
       "</style>\n",
       "<table border=\"1\" class=\"dataframe\">\n",
       "  <thead>\n",
       "    <tr style=\"text-align: right;\">\n",
       "      <th></th>\n",
       "      <th>all_sales</th>\n",
       "    </tr>\n",
       "    <tr>\n",
       "      <th>platform</th>\n",
       "      <th></th>\n",
       "    </tr>\n",
       "  </thead>\n",
       "  <tbody>\n",
       "    <tr>\n",
       "      <td>PS2</td>\n",
       "      <td>1255.77</td>\n",
       "    </tr>\n",
       "    <tr>\n",
       "      <td>X360</td>\n",
       "      <td>971.42</td>\n",
       "    </tr>\n",
       "    <tr>\n",
       "      <td>PS3</td>\n",
       "      <td>939.65</td>\n",
       "    </tr>\n",
       "    <tr>\n",
       "      <td>Wii</td>\n",
       "      <td>907.51</td>\n",
       "    </tr>\n",
       "    <tr>\n",
       "      <td>DS</td>\n",
       "      <td>806.12</td>\n",
       "    </tr>\n",
       "    <tr>\n",
       "      <td>PS</td>\n",
       "      <td>730.86</td>\n",
       "    </tr>\n",
       "    <tr>\n",
       "      <td>GBA</td>\n",
       "      <td>317.85</td>\n",
       "    </tr>\n",
       "    <tr>\n",
       "      <td>PS4</td>\n",
       "      <td>314.14</td>\n",
       "    </tr>\n",
       "    <tr>\n",
       "      <td>PSP</td>\n",
       "      <td>294.05</td>\n",
       "    </tr>\n",
       "    <tr>\n",
       "      <td>PC</td>\n",
       "      <td>259.52</td>\n",
       "    </tr>\n",
       "    <tr>\n",
       "      <td>3DS</td>\n",
       "      <td>259.00</td>\n",
       "    </tr>\n",
       "    <tr>\n",
       "      <td>XB</td>\n",
       "      <td>257.74</td>\n",
       "    </tr>\n",
       "    <tr>\n",
       "      <td>GB</td>\n",
       "      <td>255.46</td>\n",
       "    </tr>\n",
       "    <tr>\n",
       "      <td>NES</td>\n",
       "      <td>251.05</td>\n",
       "    </tr>\n",
       "    <tr>\n",
       "      <td>N64</td>\n",
       "      <td>218.68</td>\n",
       "    </tr>\n",
       "    <tr>\n",
       "      <td>SNES</td>\n",
       "      <td>200.04</td>\n",
       "    </tr>\n",
       "    <tr>\n",
       "      <td>GC</td>\n",
       "      <td>198.93</td>\n",
       "    </tr>\n",
       "    <tr>\n",
       "      <td>XOne</td>\n",
       "      <td>159.32</td>\n",
       "    </tr>\n",
       "    <tr>\n",
       "      <td>2600</td>\n",
       "      <td>96.98</td>\n",
       "    </tr>\n",
       "    <tr>\n",
       "      <td>WiiU</td>\n",
       "      <td>82.19</td>\n",
       "    </tr>\n",
       "    <tr>\n",
       "      <td>PSV</td>\n",
       "      <td>54.07</td>\n",
       "    </tr>\n",
       "    <tr>\n",
       "      <td>SAT</td>\n",
       "      <td>33.59</td>\n",
       "    </tr>\n",
       "    <tr>\n",
       "      <td>GEN</td>\n",
       "      <td>28.35</td>\n",
       "    </tr>\n",
       "    <tr>\n",
       "      <td>DC</td>\n",
       "      <td>15.95</td>\n",
       "    </tr>\n",
       "    <tr>\n",
       "      <td>SCD</td>\n",
       "      <td>1.86</td>\n",
       "    </tr>\n",
       "    <tr>\n",
       "      <td>NG</td>\n",
       "      <td>1.44</td>\n",
       "    </tr>\n",
       "    <tr>\n",
       "      <td>WS</td>\n",
       "      <td>1.42</td>\n",
       "    </tr>\n",
       "    <tr>\n",
       "      <td>TG16</td>\n",
       "      <td>0.16</td>\n",
       "    </tr>\n",
       "    <tr>\n",
       "      <td>3DO</td>\n",
       "      <td>0.10</td>\n",
       "    </tr>\n",
       "    <tr>\n",
       "      <td>GG</td>\n",
       "      <td>0.04</td>\n",
       "    </tr>\n",
       "    <tr>\n",
       "      <td>PCFX</td>\n",
       "      <td>0.03</td>\n",
       "    </tr>\n",
       "  </tbody>\n",
       "</table>\n",
       "</div>"
      ],
      "text/plain": [
       "          all_sales\n",
       "platform           \n",
       "PS2         1255.77\n",
       "X360         971.42\n",
       "PS3          939.65\n",
       "Wii          907.51\n",
       "DS           806.12\n",
       "PS           730.86\n",
       "GBA          317.85\n",
       "PS4          314.14\n",
       "PSP          294.05\n",
       "PC           259.52\n",
       "3DS          259.00\n",
       "XB           257.74\n",
       "GB           255.46\n",
       "NES          251.05\n",
       "N64          218.68\n",
       "SNES         200.04\n",
       "GC           198.93\n",
       "XOne         159.32\n",
       "2600          96.98\n",
       "WiiU          82.19\n",
       "PSV           54.07\n",
       "SAT           33.59\n",
       "GEN           28.35\n",
       "DC            15.95\n",
       "SCD            1.86\n",
       "NG             1.44\n",
       "WS             1.42\n",
       "TG16           0.16\n",
       "3DO            0.10\n",
       "GG             0.04\n",
       "PCFX           0.03"
      ]
     },
     "execution_count": 22,
     "metadata": {},
     "output_type": "execute_result"
    }
   ],
   "source": [
    "pd.DataFrame(data.groupby('platform')['all_sales'].sum()).sort_values('all_sales', ascending = False)"
   ]
  },
  {
   "cell_type": "code",
   "execution_count": 23,
   "metadata": {},
   "outputs": [
    {
     "data": {
      "text/html": [
       "<div>\n",
       "<style scoped>\n",
       "    .dataframe tbody tr th:only-of-type {\n",
       "        vertical-align: middle;\n",
       "    }\n",
       "\n",
       "    .dataframe tbody tr th {\n",
       "        vertical-align: top;\n",
       "    }\n",
       "\n",
       "    .dataframe thead th {\n",
       "        text-align: right;\n",
       "    }\n",
       "</style>\n",
       "<table border=\"1\" class=\"dataframe\">\n",
       "  <thead>\n",
       "    <tr style=\"text-align: right;\">\n",
       "      <th></th>\n",
       "      <th></th>\n",
       "      <th>all_sales</th>\n",
       "    </tr>\n",
       "    <tr>\n",
       "      <th>platform</th>\n",
       "      <th>year_of_release</th>\n",
       "      <th></th>\n",
       "    </tr>\n",
       "  </thead>\n",
       "  <tbody>\n",
       "    <tr>\n",
       "      <td>Wii</td>\n",
       "      <td>2009</td>\n",
       "      <td>223.30</td>\n",
       "    </tr>\n",
       "    <tr>\n",
       "      <td rowspan=\"4\" valign=\"top\">PS2</td>\n",
       "      <td>2004</td>\n",
       "      <td>211.81</td>\n",
       "    </tr>\n",
       "    <tr>\n",
       "      <td>2002</td>\n",
       "      <td>205.38</td>\n",
       "    </tr>\n",
       "    <tr>\n",
       "      <td>2003</td>\n",
       "      <td>184.31</td>\n",
       "    </tr>\n",
       "    <tr>\n",
       "      <td>2005</td>\n",
       "      <td>182.87</td>\n",
       "    </tr>\n",
       "    <tr>\n",
       "      <td>X360</td>\n",
       "      <td>2010</td>\n",
       "      <td>180.21</td>\n",
       "    </tr>\n",
       "    <tr>\n",
       "      <td>PS</td>\n",
       "      <td>1998</td>\n",
       "      <td>172.77</td>\n",
       "    </tr>\n",
       "    <tr>\n",
       "      <td>Wii</td>\n",
       "      <td>2008</td>\n",
       "      <td>171.32</td>\n",
       "    </tr>\n",
       "    <tr>\n",
       "      <td>PS2</td>\n",
       "      <td>2001</td>\n",
       "      <td>166.43</td>\n",
       "    </tr>\n",
       "    <tr>\n",
       "      <td>PS3</td>\n",
       "      <td>2011</td>\n",
       "      <td>165.09</td>\n",
       "    </tr>\n",
       "    <tr>\n",
       "      <td>Wii</td>\n",
       "      <td>2007</td>\n",
       "      <td>152.77</td>\n",
       "    </tr>\n",
       "    <tr>\n",
       "      <td rowspan=\"2\" valign=\"top\">DS</td>\n",
       "      <td>2008</td>\n",
       "      <td>148.65</td>\n",
       "    </tr>\n",
       "    <tr>\n",
       "      <td>2007</td>\n",
       "      <td>146.94</td>\n",
       "    </tr>\n",
       "    <tr>\n",
       "      <td>PS</td>\n",
       "      <td>1999</td>\n",
       "      <td>144.53</td>\n",
       "    </tr>\n",
       "    <tr>\n",
       "      <td>X360</td>\n",
       "      <td>2011</td>\n",
       "      <td>143.84</td>\n",
       "    </tr>\n",
       "    <tr>\n",
       "      <td>PS3</td>\n",
       "      <td>2010</td>\n",
       "      <td>142.17</td>\n",
       "    </tr>\n",
       "    <tr>\n",
       "      <td>Wii</td>\n",
       "      <td>2006</td>\n",
       "      <td>137.15</td>\n",
       "    </tr>\n",
       "    <tr>\n",
       "      <td>PS</td>\n",
       "      <td>1997</td>\n",
       "      <td>136.17</td>\n",
       "    </tr>\n",
       "    <tr>\n",
       "      <td>X360</td>\n",
       "      <td>2008</td>\n",
       "      <td>135.26</td>\n",
       "    </tr>\n",
       "    <tr>\n",
       "      <td>PS3</td>\n",
       "      <td>2009</td>\n",
       "      <td>130.93</td>\n",
       "    </tr>\n",
       "    <tr>\n",
       "      <td>DS</td>\n",
       "      <td>2005</td>\n",
       "      <td>130.14</td>\n",
       "    </tr>\n",
       "    <tr>\n",
       "      <td>Wii</td>\n",
       "      <td>2010</td>\n",
       "      <td>127.95</td>\n",
       "    </tr>\n",
       "    <tr>\n",
       "      <td>X360</td>\n",
       "      <td>2009</td>\n",
       "      <td>120.29</td>\n",
       "    </tr>\n",
       "    <tr>\n",
       "      <td rowspan=\"2\" valign=\"top\">DS</td>\n",
       "      <td>2006</td>\n",
       "      <td>119.81</td>\n",
       "    </tr>\n",
       "    <tr>\n",
       "      <td>2009</td>\n",
       "      <td>119.54</td>\n",
       "    </tr>\n",
       "    <tr>\n",
       "      <td>PS4</td>\n",
       "      <td>2015</td>\n",
       "      <td>118.90</td>\n",
       "    </tr>\n",
       "    <tr>\n",
       "      <td rowspan=\"3\" valign=\"top\">PS3</td>\n",
       "      <td>2008</td>\n",
       "      <td>118.52</td>\n",
       "    </tr>\n",
       "    <tr>\n",
       "      <td>2013</td>\n",
       "      <td>113.25</td>\n",
       "    </tr>\n",
       "    <tr>\n",
       "      <td>2012</td>\n",
       "      <td>107.36</td>\n",
       "    </tr>\n",
       "    <tr>\n",
       "      <td>PS2</td>\n",
       "      <td>2006</td>\n",
       "      <td>103.42</td>\n",
       "    </tr>\n",
       "  </tbody>\n",
       "</table>\n",
       "</div>"
      ],
      "text/plain": [
       "                          all_sales\n",
       "platform year_of_release           \n",
       "Wii      2009                223.30\n",
       "PS2      2004                211.81\n",
       "         2002                205.38\n",
       "         2003                184.31\n",
       "         2005                182.87\n",
       "X360     2010                180.21\n",
       "PS       1998                172.77\n",
       "Wii      2008                171.32\n",
       "PS2      2001                166.43\n",
       "PS3      2011                165.09\n",
       "Wii      2007                152.77\n",
       "DS       2008                148.65\n",
       "         2007                146.94\n",
       "PS       1999                144.53\n",
       "X360     2011                143.84\n",
       "PS3      2010                142.17\n",
       "Wii      2006                137.15\n",
       "PS       1997                136.17\n",
       "X360     2008                135.26\n",
       "PS3      2009                130.93\n",
       "DS       2005                130.14\n",
       "Wii      2010                127.95\n",
       "X360     2009                120.29\n",
       "DS       2006                119.81\n",
       "         2009                119.54\n",
       "PS4      2015                118.90\n",
       "PS3      2008                118.52\n",
       "         2013                113.25\n",
       "         2012                107.36\n",
       "PS2      2006                103.42"
      ]
     },
     "execution_count": 23,
     "metadata": {},
     "output_type": "execute_result"
    }
   ],
   "source": [
    "pd.DataFrame(data.groupby(['platform','year_of_release'])['all_sales'].sum()).sort_values('all_sales', \n",
    "                                                                                          ascending = False).head(30)"
   ]
  },
  {
   "cell_type": "code",
   "execution_count": 24,
   "metadata": {},
   "outputs": [
    {
     "data": {
      "text/plain": [
       "Text(0.5, 1.0, 'Sales/Year')"
      ]
     },
     "execution_count": 24,
     "metadata": {},
     "output_type": "execute_result"
    },
    {
     "data": {
      "image/png": "[encoded data removed]",
      "text/plain": [
       "<Figure size 1152x360 with 1 Axes>"
      ]
     },
     "metadata": {
      "needs_background": "light"
     },
     "output_type": "display_data"
    }
   ],
   "source": [
    "data.plot(x = 'year_of_release' , y = 'all_sales', style = 'yo', alpha = 0.4, figsize = (16,5), xlim = (1979, 2017),\n",
    "          grid = True)\n",
    "plt.xlabel('Year')\n",
    "plt.ylabel('Sales')\n",
    "plt.title('Sales/Year')"
   ]
  },
  {
   "cell_type": "code",
   "execution_count": 25,
   "metadata": {},
   "outputs": [
    {
     "data": {
      "text/plain": [
       "<matplotlib.legend.Legend at 0x7f5b3b21b810>"
      ]
     },
     "execution_count": 25,
     "metadata": {},
     "output_type": "execute_result"
    },
    {
     "data": {
      "image/png": "[encoded data removed]",
      "text/plain": [
       "<Figure size 1152x360 with 1 Axes>"
      ]
     },
     "metadata": {
      "needs_background": "light"
     },
     "output_type": "display_data"
    }
   ],
   "source": [
    "# как это оформить короче, например, с помощью subplot? \n",
    "fig, ax = plt.subplots(figsize = (16,5))\n",
    "data.query('platform == (\"PS2\")').groupby('year_of_release')['all_sales'].sum().plot(x = 'year_of_release', \n",
    "                                                                                   y = 'all_sales', \n",
    "                                                                                   style = 'yo-',\n",
    "                                                                                    xlim = (1979, 2017),\n",
    "                                                                                    ax = ax)\n",
    "data.query('platform == (\"X360\")').groupby('year_of_release')['all_sales'].sum().plot(x = 'year_of_release', \n",
    "                                                                                   y = 'all_sales', \n",
    "                                                                                   style = 'ro-',\n",
    "                                                                                     xlim = (1979, 2017), \n",
    "                                                                                     ax = ax)\n",
    "data.query('platform == (\"PS3\")').groupby('year_of_release')['all_sales'].sum().plot(x = 'year_of_release', \n",
    "                                                                                   y = 'all_sales', \n",
    "                                                                                   style = 'o-', \n",
    "                                                                                    xlim = (1979, 2017), \n",
    "                                                                                    ax = ax)\n",
    "data.query('platform == (\"Wii\")').groupby('year_of_release')['all_sales'].sum().plot(x = 'year_of_release', \n",
    "                                                                                   y = 'all_sales', \n",
    "                                                                                   style = 'go-', \n",
    "                                                                                    xlim = (1979, 2017), \n",
    "                                                                                    ax = ax)\n",
    "data.query('platform == (\"DS\")').groupby('year_of_release')['all_sales'].sum().plot(x = 'year_of_release', \n",
    "                                                                                   y = 'all_sales', \n",
    "                                                                                   style = 'o--', \n",
    "                                                                                   xlim = (1979, 2017), \n",
    "                                                                                   ax = ax)\n",
    "data.query('platform == (\"PS\")').groupby('year_of_release')['all_sales'].sum().plot(x = 'year_of_release', \n",
    "                                                                                   y = 'all_sales', \n",
    "                                                                                   style = 'bo--',  \n",
    "                                                                                   xlim = (1979, 2017), \n",
    "                                                                                   ax = ax)\n",
    "data.query('platform == (\"GBA\")').groupby('year_of_release')['all_sales'].sum().plot(x = 'year_of_release', \n",
    "                                                                                   y = 'all_sales', \n",
    "                                                                                   style = 'mo-',\n",
    "                                                                                   xlim = (1979, 2017), \n",
    "                                                                                   ax = ax)\n",
    "data.query('platform == (\"XOne\")').groupby('year_of_release')['all_sales'].sum().plot(x = 'year_of_release', \n",
    "                                                                                   y = 'all_sales', \n",
    "                                                                                   style = 'ko-',\n",
    "                                                                                   xlim = (1979, 2017), \n",
    "                                                                                   ax = ax)\n",
    "data.query('platform == (\"PS4\")').groupby('year_of_release')['all_sales'].sum().plot(x = 'year_of_release', \n",
    "                                                                                   y = 'all_sales', \n",
    "                                                                                   style = 'ko--',\n",
    "                                                                                   xlim = (1979, 2017), \n",
    "                                                                                   ax = ax)\n",
    "plt.xlabel('Year')\n",
    "plt.ylabel('Sales')\n",
    "plt.title('Sales/Year by platform')\n",
    "plt.grid(True)\n",
    "ax.legend([\"PS2\",\"X360\",\"PS3\",\"Wii\",\"DS\", \"PS\",\"GBA\",'XOne',\"PS4\"])"
   ]
  },
  {
   "cell_type": "markdown",
   "metadata": {},
   "source": [
    "<div class=\"alert alert-success\" style=\"border-radius: 15px; box-shadow: 4px 4px 4px; border: 1px solid \">\n",
    "<b> Комментарий ревьюера</b>\n",
    " \n",
    "Оформить можно с помощью цикла или сводной таблицы. \n",
    "</div>"
   ]
  },
  {
   "cell_type": "markdown",
   "metadata": {},
   "source": [
    "**Вывод 3.2**\n",
    "\n",
    "* *Исходя из общих продаж, наибольшей популярностью обладали платформы PS2,X360,PS3,Wii и некоторые другие, по которым и был построен график* \n",
    "* *Исходя из графика стало понятно, что платформы популярны как правило 4-5 лет, жизненный цикл платформ составляет 8-9 лет*\n",
    "* *График продаж по годам показал, что продажи игр постепенно увеличивались, а с 2000 активно начали расти*\n",
    "* *Наиболее прибыльными были: приставка Wii в 2009 году, PS2 в 2002-2005 годах, X360 в 2010 году*\t"
   ]
  },
  {
   "cell_type": "markdown",
   "metadata": {},
   "source": [
    "<div class=\"alert alert-danger\" style=\"border-radius: 15px; box-shadow: 4px 4px 4px; border: 1px solid \">\n",
    "<b> Комментарий ревьюера</b>\n",
    "  \n",
    "    \n",
    "- А по циклу жизни что можно сказать? Как я понимаю, 4-5 лет это период популярности.\n",
    "    \n",
    "    \n",
    "- Если период с 2007 взят как актуальный, то это неверно. Решая эту задачу, я тоже сначала взяла лет 10. Но потом до меня дошло, что рынок динамичен, все меняется. Некогда популярный жанр за 10 лет может стать не таким популярным. И наоборот. Так что за это время несколько поколений сменятся :) А мы зацепим мертвые платформы и неактуальные предпочтения пользователей. Да и очевидно, что платформа, появившаяся в 2004 году и ставшая очень популярной, набрала больше продаж, чем новенькая консоль, у которой все еще впереди. Индустрия развивается, игры становятся лучше, графика лучше, а пользователи — более требовательными. В таких задачах нам нужна свежная информация, свежая оценка. Если прогнозируем на 2017 год, то какая разница, что было 10 лет назад? Потенциально прибыльные платформы мы можем легко отобрать по графикам и таблице прадаж. Но пользовательские портреты могут поменяться. Если взглянуть на столбчатую диаграмму продаж, то по ней можно понять, в какой год произошла стабилизация рынка после бурных продаж. \n",
    "    \n",
    "   \n",
    "</div>\n",
    "\n",
    "<div class=\"alert alert-comment\" style=\"border-radius: 15px; box-shadow: 4px 4px 4px; border: 1px solid \">\n",
    "<h2> Комментарий студента</h2>\n",
    "\n",
    "Добавила вывод по жизненному циклу\n",
    "\n",
    "Период взяла с 2013 года по 2016 год теперь, изменила вывод 3.1 </div>"
   ]
  },
  {
   "cell_type": "markdown",
   "metadata": {},
   "source": [
    "<div class=\"alert alert-success\" style=\"border-radius: 15px; box-shadow: 4px 4px 4px; border: 1px solid \">\n",
    "<h2> Комментарий ревьюера 2</h2>\n",
    "    \n",
    "Отлично :) </div>"
   ]
  },
  {
   "cell_type": "code",
   "execution_count": 26,
   "metadata": {},
   "outputs": [
    {
     "data": {
      "text/html": [
       "<div>\n",
       "<style scoped>\n",
       "    .dataframe tbody tr th:only-of-type {\n",
       "        vertical-align: middle;\n",
       "    }\n",
       "\n",
       "    .dataframe tbody tr th {\n",
       "        vertical-align: top;\n",
       "    }\n",
       "\n",
       "    .dataframe thead th {\n",
       "        text-align: right;\n",
       "    }\n",
       "</style>\n",
       "<table border=\"1\" class=\"dataframe\">\n",
       "  <thead>\n",
       "    <tr style=\"text-align: right;\">\n",
       "      <th></th>\n",
       "      <th>name</th>\n",
       "      <th>platform</th>\n",
       "      <th>year_of_release</th>\n",
       "      <th>genre</th>\n",
       "      <th>na_sales</th>\n",
       "      <th>eu_sales</th>\n",
       "      <th>jp_sales</th>\n",
       "      <th>other_sales</th>\n",
       "      <th>critic_score</th>\n",
       "      <th>user_score</th>\n",
       "      <th>rating</th>\n",
       "      <th>all_sales</th>\n",
       "    </tr>\n",
       "  </thead>\n",
       "  <tbody>\n",
       "    <tr>\n",
       "      <td>16</td>\n",
       "      <td>Grand Theft Auto V</td>\n",
       "      <td>PS3</td>\n",
       "      <td>2013</td>\n",
       "      <td>Action</td>\n",
       "      <td>7.02</td>\n",
       "      <td>9.09</td>\n",
       "      <td>0.98</td>\n",
       "      <td>3.96</td>\n",
       "      <td>97.0</td>\n",
       "      <td>8.2</td>\n",
       "      <td>M</td>\n",
       "      <td>21.05</td>\n",
       "    </tr>\n",
       "    <tr>\n",
       "      <td>23</td>\n",
       "      <td>Grand Theft Auto V</td>\n",
       "      <td>X360</td>\n",
       "      <td>2013</td>\n",
       "      <td>Action</td>\n",
       "      <td>9.66</td>\n",
       "      <td>5.14</td>\n",
       "      <td>0.06</td>\n",
       "      <td>1.41</td>\n",
       "      <td>97.0</td>\n",
       "      <td>8.1</td>\n",
       "      <td>M</td>\n",
       "      <td>16.27</td>\n",
       "    </tr>\n",
       "    <tr>\n",
       "      <td>31</td>\n",
       "      <td>Call of Duty: Black Ops 3</td>\n",
       "      <td>PS4</td>\n",
       "      <td>2015</td>\n",
       "      <td>Shooter</td>\n",
       "      <td>6.03</td>\n",
       "      <td>5.86</td>\n",
       "      <td>0.36</td>\n",
       "      <td>2.38</td>\n",
       "      <td>NaN</td>\n",
       "      <td>NaN</td>\n",
       "      <td>NaN</td>\n",
       "      <td>14.63</td>\n",
       "    </tr>\n",
       "    <tr>\n",
       "      <td>33</td>\n",
       "      <td>Pokemon X/Pokemon Y</td>\n",
       "      <td>3DS</td>\n",
       "      <td>2013</td>\n",
       "      <td>Role-Playing</td>\n",
       "      <td>5.28</td>\n",
       "      <td>4.19</td>\n",
       "      <td>4.35</td>\n",
       "      <td>0.78</td>\n",
       "      <td>NaN</td>\n",
       "      <td>NaN</td>\n",
       "      <td>NaN</td>\n",
       "      <td>14.60</td>\n",
       "    </tr>\n",
       "    <tr>\n",
       "      <td>42</td>\n",
       "      <td>Grand Theft Auto V</td>\n",
       "      <td>PS4</td>\n",
       "      <td>2014</td>\n",
       "      <td>Action</td>\n",
       "      <td>3.96</td>\n",
       "      <td>6.31</td>\n",
       "      <td>0.38</td>\n",
       "      <td>1.97</td>\n",
       "      <td>97.0</td>\n",
       "      <td>8.3</td>\n",
       "      <td>M</td>\n",
       "      <td>12.62</td>\n",
       "    </tr>\n",
       "    <tr>\n",
       "      <td>...</td>\n",
       "      <td>...</td>\n",
       "      <td>...</td>\n",
       "      <td>...</td>\n",
       "      <td>...</td>\n",
       "      <td>...</td>\n",
       "      <td>...</td>\n",
       "      <td>...</td>\n",
       "      <td>...</td>\n",
       "      <td>...</td>\n",
       "      <td>...</td>\n",
       "      <td>...</td>\n",
       "      <td>...</td>\n",
       "    </tr>\n",
       "    <tr>\n",
       "      <td>16703</td>\n",
       "      <td>Strawberry Nauts</td>\n",
       "      <td>PSV</td>\n",
       "      <td>2016</td>\n",
       "      <td>Adventure</td>\n",
       "      <td>0.00</td>\n",
       "      <td>0.00</td>\n",
       "      <td>0.01</td>\n",
       "      <td>0.00</td>\n",
       "      <td>NaN</td>\n",
       "      <td>NaN</td>\n",
       "      <td>NaN</td>\n",
       "      <td>0.01</td>\n",
       "    </tr>\n",
       "    <tr>\n",
       "      <td>16707</td>\n",
       "      <td>Aiyoku no Eustia</td>\n",
       "      <td>PSV</td>\n",
       "      <td>2014</td>\n",
       "      <td>Misc</td>\n",
       "      <td>0.00</td>\n",
       "      <td>0.00</td>\n",
       "      <td>0.01</td>\n",
       "      <td>0.00</td>\n",
       "      <td>NaN</td>\n",
       "      <td>NaN</td>\n",
       "      <td>NaN</td>\n",
       "      <td>0.01</td>\n",
       "    </tr>\n",
       "    <tr>\n",
       "      <td>16710</td>\n",
       "      <td>Samurai Warriors: Sanada Maru</td>\n",
       "      <td>PS3</td>\n",
       "      <td>2016</td>\n",
       "      <td>Action</td>\n",
       "      <td>0.00</td>\n",
       "      <td>0.00</td>\n",
       "      <td>0.01</td>\n",
       "      <td>0.00</td>\n",
       "      <td>NaN</td>\n",
       "      <td>NaN</td>\n",
       "      <td>NaN</td>\n",
       "      <td>0.01</td>\n",
       "    </tr>\n",
       "    <tr>\n",
       "      <td>16712</td>\n",
       "      <td>Haitaka no Psychedelica</td>\n",
       "      <td>PSV</td>\n",
       "      <td>2016</td>\n",
       "      <td>Adventure</td>\n",
       "      <td>0.00</td>\n",
       "      <td>0.00</td>\n",
       "      <td>0.01</td>\n",
       "      <td>0.00</td>\n",
       "      <td>NaN</td>\n",
       "      <td>NaN</td>\n",
       "      <td>NaN</td>\n",
       "      <td>0.01</td>\n",
       "    </tr>\n",
       "    <tr>\n",
       "      <td>16714</td>\n",
       "      <td>Winning Post 8 2016</td>\n",
       "      <td>PSV</td>\n",
       "      <td>2016</td>\n",
       "      <td>Simulation</td>\n",
       "      <td>0.00</td>\n",
       "      <td>0.00</td>\n",
       "      <td>0.01</td>\n",
       "      <td>0.00</td>\n",
       "      <td>NaN</td>\n",
       "      <td>NaN</td>\n",
       "      <td>NaN</td>\n",
       "      <td>0.01</td>\n",
       "    </tr>\n",
       "  </tbody>\n",
       "</table>\n",
       "<p>2242 rows × 12 columns</p>\n",
       "</div>"
      ],
      "text/plain": [
       "                                name platform  year_of_release         genre  \\\n",
       "16                Grand Theft Auto V      PS3             2013        Action   \n",
       "23                Grand Theft Auto V     X360             2013        Action   \n",
       "31         Call of Duty: Black Ops 3      PS4             2015       Shooter   \n",
       "33               Pokemon X/Pokemon Y      3DS             2013  Role-Playing   \n",
       "42                Grand Theft Auto V      PS4             2014        Action   \n",
       "...                              ...      ...              ...           ...   \n",
       "16703               Strawberry Nauts      PSV             2016     Adventure   \n",
       "16707               Aiyoku no Eustia      PSV             2014          Misc   \n",
       "16710  Samurai Warriors: Sanada Maru      PS3             2016        Action   \n",
       "16712        Haitaka no Psychedelica      PSV             2016     Adventure   \n",
       "16714            Winning Post 8 2016      PSV             2016    Simulation   \n",
       "\n",
       "       na_sales  eu_sales  jp_sales  other_sales  critic_score  user_score  \\\n",
       "16         7.02      9.09      0.98         3.96          97.0         8.2   \n",
       "23         9.66      5.14      0.06         1.41          97.0         8.1   \n",
       "31         6.03      5.86      0.36         2.38           NaN         NaN   \n",
       "33         5.28      4.19      4.35         0.78           NaN         NaN   \n",
       "42         3.96      6.31      0.38         1.97          97.0         8.3   \n",
       "...         ...       ...       ...          ...           ...         ...   \n",
       "16703      0.00      0.00      0.01         0.00           NaN         NaN   \n",
       "16707      0.00      0.00      0.01         0.00           NaN         NaN   \n",
       "16710      0.00      0.00      0.01         0.00           NaN         NaN   \n",
       "16712      0.00      0.00      0.01         0.00           NaN         NaN   \n",
       "16714      0.00      0.00      0.01         0.00           NaN         NaN   \n",
       "\n",
       "      rating  all_sales  \n",
       "16         M      21.05  \n",
       "23         M      16.27  \n",
       "31       NaN      14.63  \n",
       "33       NaN      14.60  \n",
       "42         M      12.62  \n",
       "...      ...        ...  \n",
       "16703    NaN       0.01  \n",
       "16707    NaN       0.01  \n",
       "16710    NaN       0.01  \n",
       "16712    NaN       0.01  \n",
       "16714    NaN       0.01  \n",
       "\n",
       "[2242 rows x 12 columns]"
      ]
     },
     "execution_count": 26,
     "metadata": {},
     "output_type": "execute_result"
    }
   ],
   "source": [
    "# данные изменены по году\n",
    "data = data.query('year_of_release >= 2013')\n",
    "data"
   ]
  },
  {
   "cell_type": "code",
   "execution_count": 27,
   "metadata": {},
   "outputs": [
    {
     "data": {
      "image/png": "[encoded data removed]",
      "text/plain": [
       "<Figure size 1152x720 with 1 Axes>"
      ]
     },
     "metadata": {
      "needs_background": "light"
     },
     "output_type": "display_data"
    }
   ],
   "source": [
    "data.boxplot('all_sales', by = 'platform', figsize = (16,10), rot=45)\n",
    "plt.ylim(0, 10)\n",
    "plt.minorticks_on()\n",
    "plt.grid(which='minor', \n",
    "        color = 'b', \n",
    "        linestyle = ':')"
   ]
  },
  {
   "cell_type": "markdown",
   "metadata": {},
   "source": [
    "**Вывод по boxplot**: По диаграмме размаха видно, что наиболее успешными по продажам были игры на платформах X360,PS4,XOne,PS3,Wii большая часть значений лежит в области до 0,75 миллионов проданных копий; наблюдается большое число выбросов по PS3, PS4, 3DS"
   ]
  },
  {
   "cell_type": "markdown",
   "metadata": {},
   "source": [
    "<div class=\"alert alert-warning\" style=\"border-radius: 15px; box-shadow: 4px 4px 4px; border: 1px solid \">\n",
    "<b> Комментарий ревьюера</b>\n",
    "    \n",
    "Что можно сказать про выбросы? Не все клиенты умеют правильно интерпретировать подобные диаграммы.  Пожалуйста, добавь пару слов про этот боксплот и про выбросы.  \n",
    "</div>\n",
    "\n",
    "<div class=\"alert alert-comment\" style=\"border-radius: 15px; box-shadow: 4px 4px 4px; border: 1px solid \">\n",
    "<h2> Комментарий студента</h2>\n",
    "\n",
    "Добавила вывод по boxplot</div>\n",
    "\n",
    "<div class=\"alert alert-success\" style=\"border-radius: 15px; box-shadow: 4px 4px 4px; border: 1px solid \">\n",
    "<h2> Комментарий ревьюера 2</h2>\n",
    "    \n",
    "Да, выбросов немало. Это какие-то популярные игры, судя по всему. Я бы даже сказала *бестселлеры*. И это очень показательная штука. Посмотри на 3DS. Маленький ящик и много выбросов. Это говорит о том, что большАя часть объема продаж делается за счет этих выбросов. В то же время у XOne ситуация иная: большой бокс, длинный ус и мало выбросов. Это свидетельствует о том, что на XOne покупают самые разные игры, причем, в немалом количестве. \n",
    "</div>"
   ]
  },
  {
   "cell_type": "code",
   "execution_count": 28,
   "metadata": {
    "scrolled": false
   },
   "outputs": [
    {
     "data": {
      "text/plain": [
       "platform  year_of_release\n",
       "3DS       2013                57.76\n",
       "          2014                43.76\n",
       "          2015                27.78\n",
       "          2016                15.14\n",
       "DS        2013                 1.54\n",
       "PC        2013                12.38\n",
       "          2014                13.28\n",
       "          2015                 8.52\n",
       "          2016                 5.25\n",
       "PS3       2013               113.25\n",
       "          2014                47.76\n",
       "          2015                16.82\n",
       "          2016                 3.60\n",
       "PS4       2013                25.99\n",
       "          2014               100.00\n",
       "          2015               118.90\n",
       "          2016                69.25\n",
       "PSP       2013                 3.14\n",
       "          2014                 0.24\n",
       "          2015                 0.12\n",
       "PSV       2013                10.59\n",
       "          2014                12.16\n",
       "          2015                 6.25\n",
       "          2016                 4.25\n",
       "Wii       2013                 8.59\n",
       "          2014                 3.75\n",
       "          2015                 1.14\n",
       "          2016                 0.18\n",
       "WiiU      2013                21.65\n",
       "          2014                22.03\n",
       "          2015                16.35\n",
       "          2016                 4.60\n",
       "X360      2013                88.58\n",
       "          2014                34.74\n",
       "          2015                11.96\n",
       "          2016                 1.52\n",
       "XOne      2013                18.96\n",
       "          2014                54.07\n",
       "          2015                60.14\n",
       "          2016                26.15\n",
       "Name: all_sales, dtype: float64"
      ]
     },
     "execution_count": 28,
     "metadata": {},
     "output_type": "execute_result"
    }
   ],
   "source": [
    "# XOne и PS4 потенциально прибыльные платформы\n",
    "data.query('year_of_release >= 2013').groupby(['platform','year_of_release'])['all_sales'].sum()"
   ]
  },
  {
   "cell_type": "markdown",
   "metadata": {},
   "source": [
    "**Вывод**: по всем платформам наблюдается снижение продаж в 2016 году по сравнению с предыдущими годами(2013-2015). Платформы PS4 и XOne имеют наибольшие продажи в 2016 году, что говорит о перспективности данных платформ"
   ]
  },
  {
   "cell_type": "markdown",
   "metadata": {},
   "source": [
    "<div class=\"alert alert-warning\" style=\"border-radius: 15px; box-shadow: 4px 4px 4px; border: 1px solid \">\n",
    "<b> Комментарий ревьюера</b>\n",
    "    \n",
    "- Для чего этот срез по датам?\n",
    "\n",
    "\n",
    "- В комментарии к коду ответ на вопрос задачи? :) Стоит для этого выделить Markdown ячейку. Не мешает и добавить пару слов о том, почему именно они выбраны. Ниже ты пишешь, что они выбраны \n",
    ">  исходя из графика 'Sales/Year by platform' и данных о продажах\n",
    "\n",
    "\n",
    "но это мало о чем говорит.</div>\n",
    "\n",
    "<div class=\"alert alert-comment\" style=\"border-radius: 15px; box-shadow: 4px 4px 4px; border: 1px solid \">\n",
    "<h2> Комментарий студента</h2>\n",
    "\n",
    "Добавила вывод по срезу</div>"
   ]
  },
  {
   "cell_type": "markdown",
   "metadata": {},
   "source": [
    "<div class=\"alert alert-success\" style=\"border-radius: 15px; box-shadow: 4px 4px 4px; border: 1px solid \">\n",
    "<h2> Комментарий ревьюера 2</h2>\n",
    "    \n",
    "Супер! Я бы еще добавила 3DS. Продажи они пока держит.</div>"
   ]
  },
  {
   "cell_type": "code",
   "execution_count": 29,
   "metadata": {},
   "outputs": [
    {
     "name": "stdout",
     "output_type": "stream",
     "text": [
      "critic_score and sales: 0.40656790206178095\n",
      "user_score and sales: -0.031957110204556424\n"
     ]
    }
   ],
   "source": [
    "data1 = data.query('(platform == \"PS4\") ')\n",
    "print('critic_score and sales:', data1['critic_score'].corr(data1['all_sales']))\n",
    "print('user_score and sales:', data1['user_score'].corr(data1['all_sales']))"
   ]
  },
  {
   "cell_type": "code",
   "execution_count": 30,
   "metadata": {},
   "outputs": [
    {
     "data": {
      "text/plain": [
       "<matplotlib.axes._subplots.AxesSubplot at 0x7f5b3b291d50>"
      ]
     },
     "execution_count": 30,
     "metadata": {},
     "output_type": "execute_result"
    },
    {
     "data": {
      "image/png": "[encoded data removed]",
      "text/plain": [
       "<Figure size 432x288 with 1 Axes>"
      ]
     },
     "metadata": {
      "needs_background": "light"
     },
     "output_type": "display_data"
    },
    {
     "data": {
      "image/png": "[encoded data removed]",
      "text/plain": [
       "<Figure size 432x288 with 1 Axes>"
      ]
     },
     "metadata": {
      "needs_background": "light"
     },
     "output_type": "display_data"
    }
   ],
   "source": [
    "data1.plot(x = 'critic_score', y = 'all_sales', kind = 'scatter')\n",
    "data1.plot(x = 'user_score', y = 'all_sales', kind = 'scatter')"
   ]
  },
  {
   "cell_type": "code",
   "execution_count": 31,
   "metadata": {},
   "outputs": [
    {
     "name": "stdout",
     "output_type": "stream",
     "text": [
      "critic_score and sales: 0.4169983280084017\n",
      "user_score and sales: -0.06892505328279414\n"
     ]
    }
   ],
   "source": [
    "data2 = data.query('platform == \"XOne\"')\n",
    "print('critic_score and sales:', data2['critic_score'].corr(data2['all_sales']))\n",
    "print('user_score and sales:', data2['user_score'].corr(data2['all_sales']))"
   ]
  },
  {
   "cell_type": "code",
   "execution_count": 32,
   "metadata": {},
   "outputs": [
    {
     "data": {
      "text/plain": [
       "<matplotlib.axes._subplots.AxesSubplot at 0x7f5b391aa6d0>"
      ]
     },
     "execution_count": 32,
     "metadata": {},
     "output_type": "execute_result"
    },
    {
     "data": {
      "image/png": "[encoded data removed]",
      "text/plain": [
       "<Figure size 432x288 with 1 Axes>"
      ]
     },
     "metadata": {
      "needs_background": "light"
     },
     "output_type": "display_data"
    },
    {
     "data": {
      "image/png": "[encoded data removed]",
      "text/plain": [
       "<Figure size 432x288 with 1 Axes>"
      ]
     },
     "metadata": {
      "needs_background": "light"
     },
     "output_type": "display_data"
    }
   ],
   "source": [
    "data2.plot(x = 'critic_score', y = 'all_sales', kind = 'scatter')\n",
    "data2.plot(x = 'user_score', y = 'all_sales', kind = 'scatter')"
   ]
  },
  {
   "cell_type": "code",
   "execution_count": 33,
   "metadata": {},
   "outputs": [
    {
     "data": {
      "text/html": [
       "<div>\n",
       "<style scoped>\n",
       "    .dataframe tbody tr th:only-of-type {\n",
       "        vertical-align: middle;\n",
       "    }\n",
       "\n",
       "    .dataframe tbody tr th {\n",
       "        vertical-align: top;\n",
       "    }\n",
       "\n",
       "    .dataframe thead th {\n",
       "        text-align: right;\n",
       "    }\n",
       "</style>\n",
       "<table border=\"1\" class=\"dataframe\">\n",
       "  <thead>\n",
       "    <tr style=\"text-align: right;\">\n",
       "      <th></th>\n",
       "      <th>sum</th>\n",
       "      <th>count</th>\n",
       "      <th>median</th>\n",
       "      <th>mean</th>\n",
       "    </tr>\n",
       "    <tr>\n",
       "      <th>genre</th>\n",
       "      <th></th>\n",
       "      <th></th>\n",
       "      <th></th>\n",
       "      <th></th>\n",
       "    </tr>\n",
       "  </thead>\n",
       "  <tbody>\n",
       "    <tr>\n",
       "      <td>Shooter</td>\n",
       "      <td>233.05</td>\n",
       "      <td>188</td>\n",
       "      <td>0.445</td>\n",
       "      <td>1.239628</td>\n",
       "    </tr>\n",
       "    <tr>\n",
       "      <td>Sports</td>\n",
       "      <td>150.67</td>\n",
       "      <td>215</td>\n",
       "      <td>0.240</td>\n",
       "      <td>0.700791</td>\n",
       "    </tr>\n",
       "    <tr>\n",
       "      <td>Platform</td>\n",
       "      <td>42.63</td>\n",
       "      <td>74</td>\n",
       "      <td>0.225</td>\n",
       "      <td>0.576081</td>\n",
       "    </tr>\n",
       "    <tr>\n",
       "      <td>Role-Playing</td>\n",
       "      <td>146.18</td>\n",
       "      <td>294</td>\n",
       "      <td>0.125</td>\n",
       "      <td>0.497211</td>\n",
       "    </tr>\n",
       "    <tr>\n",
       "      <td>Racing</td>\n",
       "      <td>39.98</td>\n",
       "      <td>86</td>\n",
       "      <td>0.115</td>\n",
       "      <td>0.464884</td>\n",
       "    </tr>\n",
       "    <tr>\n",
       "      <td>Fighting</td>\n",
       "      <td>35.31</td>\n",
       "      <td>80</td>\n",
       "      <td>0.125</td>\n",
       "      <td>0.441375</td>\n",
       "    </tr>\n",
       "    <tr>\n",
       "      <td>Action</td>\n",
       "      <td>322.27</td>\n",
       "      <td>767</td>\n",
       "      <td>0.110</td>\n",
       "      <td>0.420169</td>\n",
       "    </tr>\n",
       "    <tr>\n",
       "      <td>Misc</td>\n",
       "      <td>62.82</td>\n",
       "      <td>155</td>\n",
       "      <td>0.100</td>\n",
       "      <td>0.405290</td>\n",
       "    </tr>\n",
       "    <tr>\n",
       "      <td>Simulation</td>\n",
       "      <td>22.25</td>\n",
       "      <td>64</td>\n",
       "      <td>0.105</td>\n",
       "      <td>0.347656</td>\n",
       "    </tr>\n",
       "    <tr>\n",
       "      <td>Puzzle</td>\n",
       "      <td>3.17</td>\n",
       "      <td>17</td>\n",
       "      <td>0.060</td>\n",
       "      <td>0.186471</td>\n",
       "    </tr>\n",
       "    <tr>\n",
       "      <td>Strategy</td>\n",
       "      <td>10.08</td>\n",
       "      <td>56</td>\n",
       "      <td>0.080</td>\n",
       "      <td>0.180000</td>\n",
       "    </tr>\n",
       "    <tr>\n",
       "      <td>Adventure</td>\n",
       "      <td>23.73</td>\n",
       "      <td>246</td>\n",
       "      <td>0.030</td>\n",
       "      <td>0.096463</td>\n",
       "    </tr>\n",
       "  </tbody>\n",
       "</table>\n",
       "</div>"
      ],
      "text/plain": [
       "                 sum  count  median      mean\n",
       "genre                                        \n",
       "Shooter       233.05    188   0.445  1.239628\n",
       "Sports        150.67    215   0.240  0.700791\n",
       "Platform       42.63     74   0.225  0.576081\n",
       "Role-Playing  146.18    294   0.125  0.497211\n",
       "Racing         39.98     86   0.115  0.464884\n",
       "Fighting       35.31     80   0.125  0.441375\n",
       "Action        322.27    767   0.110  0.420169\n",
       "Misc           62.82    155   0.100  0.405290\n",
       "Simulation     22.25     64   0.105  0.347656\n",
       "Puzzle          3.17     17   0.060  0.186471\n",
       "Strategy       10.08     56   0.080  0.180000\n",
       "Adventure      23.73    246   0.030  0.096463"
      ]
     },
     "execution_count": 33,
     "metadata": {},
     "output_type": "execute_result"
    }
   ],
   "source": [
    "pd.DataFrame(data.groupby('genre')['all_sales'].agg(['sum','count','median','mean']).sort_values(by = 'mean', ascending = False))"
   ]
  },
  {
   "cell_type": "markdown",
   "metadata": {},
   "source": [
    "**Вывод 3.3**\n",
    "\n",
    "* *По диаграмме размаха видно, что наиболее успешными по продажам были игры на платформах GBA,X360,PS2,XOne,PS3, большая часть значений лежит в области до 0,75-1 миллионов проданных копий*\n",
    "* *XOne и PS4 потенциально прибыльные платформы, исходя из графика 'Sales/Year by platform' и данных о продажах*\n",
    "* *Наблюдается прямая зависимость между отзывами критиков и продажами для платформ XOne и PS4, корреляция между пользовательскими отзывами и продажами отсутствует*\n",
    "* *Наиболее прибыльными являются жанры шутер и спортивные игры, наименее прибыльными пазлы, приключения и стратегии*"
   ]
  },
  {
   "cell_type": "markdown",
   "metadata": {},
   "source": [
    "<div class=\"alert alert-success\" style=\"border-radius: 15px; box-shadow: 4px 4px 4px; border: 1px solid \">\n",
    "<b> Комментарий ревьюера</b>\n",
    "    \n",
    "А еще критиков меньше и они редко ставят низкие оценки. \n",
    "</div>\n",
    "\n",
    "<div class=\"alert alert-warning\" style=\"border-radius: 15px; box-shadow: 4px 4px 4px; border: 1px solid \">\n",
    "<b> Комментарий ревьюера</b>\n",
    "    \n",
    "Результаты желательно комментировать сразу, чтобы клиенту не пришлось мотать отчет туда-сюда.</div>\n",
    "\n",
    "<div class=\"alert alert-warning\" style=\"border-radius: 15px; box-shadow: 4px 4px 4px; border: 1px solid \">\n",
    "<b> Комментарий ревьюера</b>\n",
    "    \n",
    "> Наиболее прибыльными являются жанры экшн, шутер и спортивные игры\n",
    "\n",
    "\n",
    "Выше выведены суммарные продажи. А если игр жанра экшн 3000, а игр жанра шутер всего 200? Тогда нельзя будет говорить, что экшн более успешен в продажах. \n",
    "\n",
    "\n",
    "О прибыли тут точно гвоорить нельзя, т.к. у нас объемы в проданных копиях, а не в деньгах. Да и себестоимость неизвестна. Но вот успешность продаж мы определить можем. Для этого достаточно сделать то же самое, но со средними или медианными продажами. </div>\n",
    "\n",
    "\n",
    "<div class=\"alert alert-comment\" style=\"border-radius: 15px; box-shadow: 4px 4px 4px; border: 1px solid \">\n",
    "<h2> Комментарий студента</h2>\n",
    "\n",
    "Добавлены столбики со средними и медианными значениями, исходя из которых были выбраны наиболее успешные/неуспешных жанры</div>\n",
    "\n",
    "<div class=\"alert alert-success\" style=\"border-radius: 15px; box-shadow: 4px 4px 4px; border: 1px solid \">\n",
    "<h2> Комментарий ревьюера 2</h2>\n",
    "    \n",
    "Получается, что экшн делает продажи только за счет большего количества игр и большого количества бестселлеров :)</div>"
   ]
  },
  {
   "cell_type": "markdown",
   "metadata": {},
   "source": [
    "## Шаг 4. Портрет пользователя каждого региона"
   ]
  },
  {
   "cell_type": "markdown",
   "metadata": {},
   "source": [
    "- NA_sales — продажи в Северной Америке (миллионы проданных копий)\n",
    "- EU_sales — продажи в Европе (миллионы проданных копий)\n",
    "- JP_sales — продажи в Японии (миллионы проданных копий)\n",
    "\n",
    "\n",
    "- «EC» («Early childhood») — «Для детей младшего возраста»\n",
    "- «E» («Everyone») — «Для всех». Первоначально \"K-A\" (\"Kids to Adults\")\n",
    "- «E10+» («Everyone 10 and older») — «Для всех от 10 лет и старше»\n",
    "- «T» («Teen») — «Подросткам»\n",
    "- «M» («Mature») — «Для взрослых»\n",
    "- «AO» («Adults Only 18+») — «Только для взрослых»\n",
    "- «RP» («Rating Pending») — «Рейтинг ожидается»"
   ]
  },
  {
   "cell_type": "code",
   "execution_count": 34,
   "metadata": {},
   "outputs": [
    {
     "data": {
      "text/html": [
       "<div>\n",
       "<style scoped>\n",
       "    .dataframe tbody tr th:only-of-type {\n",
       "        vertical-align: middle;\n",
       "    }\n",
       "\n",
       "    .dataframe tbody tr th {\n",
       "        vertical-align: top;\n",
       "    }\n",
       "\n",
       "    .dataframe thead th {\n",
       "        text-align: right;\n",
       "    }\n",
       "</style>\n",
       "<table border=\"1\" class=\"dataframe\">\n",
       "  <thead>\n",
       "    <tr style=\"text-align: right;\">\n",
       "      <th></th>\n",
       "      <th>na_sales</th>\n",
       "    </tr>\n",
       "    <tr>\n",
       "      <th>platform</th>\n",
       "      <th></th>\n",
       "    </tr>\n",
       "  </thead>\n",
       "  <tbody>\n",
       "    <tr>\n",
       "      <td>PS4</td>\n",
       "      <td>24.79</td>\n",
       "    </tr>\n",
       "    <tr>\n",
       "      <td>XOne</td>\n",
       "      <td>21.23</td>\n",
       "    </tr>\n",
       "    <tr>\n",
       "      <td>X360</td>\n",
       "      <td>18.62</td>\n",
       "    </tr>\n",
       "    <tr>\n",
       "      <td>PS3</td>\n",
       "      <td>14.48</td>\n",
       "    </tr>\n",
       "    <tr>\n",
       "      <td>3DS</td>\n",
       "      <td>8.90</td>\n",
       "    </tr>\n",
       "  </tbody>\n",
       "</table>\n",
       "</div>"
      ],
      "text/plain": [
       "          na_sales\n",
       "platform          \n",
       "PS4          24.79\n",
       "XOne         21.23\n",
       "X360         18.62\n",
       "PS3          14.48\n",
       "3DS           8.90"
      ]
     },
     "execution_count": 34,
     "metadata": {},
     "output_type": "execute_result"
    }
   ],
   "source": [
    "pd.DataFrame((data.groupby('platform')['na_sales'].sum()*100/\n",
    "              data['na_sales'].sum()).round(2).sort_values(ascending = False).head(5))"
   ]
  },
  {
   "cell_type": "code",
   "execution_count": 35,
   "metadata": {},
   "outputs": [
    {
     "data": {
      "text/html": [
       "<div>\n",
       "<style scoped>\n",
       "    .dataframe tbody tr th:only-of-type {\n",
       "        vertical-align: middle;\n",
       "    }\n",
       "\n",
       "    .dataframe tbody tr th {\n",
       "        vertical-align: top;\n",
       "    }\n",
       "\n",
       "    .dataframe thead th {\n",
       "        text-align: right;\n",
       "    }\n",
       "</style>\n",
       "<table border=\"1\" class=\"dataframe\">\n",
       "  <thead>\n",
       "    <tr style=\"text-align: right;\">\n",
       "      <th></th>\n",
       "      <th>eu_sales</th>\n",
       "    </tr>\n",
       "    <tr>\n",
       "      <th>platform</th>\n",
       "      <th></th>\n",
       "    </tr>\n",
       "  </thead>\n",
       "  <tbody>\n",
       "    <tr>\n",
       "      <td>PS4</td>\n",
       "      <td>35.95</td>\n",
       "    </tr>\n",
       "    <tr>\n",
       "      <td>PS3</td>\n",
       "      <td>17.28</td>\n",
       "    </tr>\n",
       "    <tr>\n",
       "      <td>XOne</td>\n",
       "      <td>13.14</td>\n",
       "    </tr>\n",
       "    <tr>\n",
       "      <td>X360</td>\n",
       "      <td>10.83</td>\n",
       "    </tr>\n",
       "    <tr>\n",
       "      <td>3DS</td>\n",
       "      <td>7.94</td>\n",
       "    </tr>\n",
       "  </tbody>\n",
       "</table>\n",
       "</div>"
      ],
      "text/plain": [
       "          eu_sales\n",
       "platform          \n",
       "PS4          35.95\n",
       "PS3          17.28\n",
       "XOne         13.14\n",
       "X360         10.83\n",
       "3DS           7.94"
      ]
     },
     "execution_count": 35,
     "metadata": {},
     "output_type": "execute_result"
    }
   ],
   "source": [
    "pd.DataFrame((data.groupby('platform')['eu_sales'].sum()*100/\n",
    "              data['eu_sales'].sum()).round(2).sort_values(ascending = False).head(5))"
   ]
  },
  {
   "cell_type": "code",
   "execution_count": 36,
   "metadata": {},
   "outputs": [
    {
     "data": {
      "text/html": [
       "<div>\n",
       "<style scoped>\n",
       "    .dataframe tbody tr th:only-of-type {\n",
       "        vertical-align: middle;\n",
       "    }\n",
       "\n",
       "    .dataframe tbody tr th {\n",
       "        vertical-align: top;\n",
       "    }\n",
       "\n",
       "    .dataframe thead th {\n",
       "        text-align: right;\n",
       "    }\n",
       "</style>\n",
       "<table border=\"1\" class=\"dataframe\">\n",
       "  <thead>\n",
       "    <tr style=\"text-align: right;\">\n",
       "      <th></th>\n",
       "      <th>jp_sales</th>\n",
       "    </tr>\n",
       "    <tr>\n",
       "      <th>platform</th>\n",
       "      <th></th>\n",
       "    </tr>\n",
       "  </thead>\n",
       "  <tbody>\n",
       "    <tr>\n",
       "      <td>3DS</td>\n",
       "      <td>48.16</td>\n",
       "    </tr>\n",
       "    <tr>\n",
       "      <td>PS3</td>\n",
       "      <td>16.57</td>\n",
       "    </tr>\n",
       "    <tr>\n",
       "      <td>PSV</td>\n",
       "      <td>13.24</td>\n",
       "    </tr>\n",
       "    <tr>\n",
       "      <td>PS4</td>\n",
       "      <td>11.33</td>\n",
       "    </tr>\n",
       "    <tr>\n",
       "      <td>WiiU</td>\n",
       "      <td>7.72</td>\n",
       "    </tr>\n",
       "  </tbody>\n",
       "</table>\n",
       "</div>"
      ],
      "text/plain": [
       "          jp_sales\n",
       "platform          \n",
       "3DS          48.16\n",
       "PS3          16.57\n",
       "PSV          13.24\n",
       "PS4          11.33\n",
       "WiiU          7.72"
      ]
     },
     "execution_count": 36,
     "metadata": {},
     "output_type": "execute_result"
    }
   ],
   "source": [
    "pd.DataFrame((data.groupby('platform')['jp_sales'].sum()*100/\n",
    "              data['jp_sales'].sum()).round(2).sort_values(ascending = False).head(5))"
   ]
  },
  {
   "cell_type": "markdown",
   "metadata": {},
   "source": [
    "<div class=\"alert alert-success\" style=\"border-radius: 15px; box-shadow: 4px 4px 4px; border: 1px solid \">\n",
    "<b> Комментарий ревьюера</b>\n",
    "    \n",
    "Похоже, что японцы больше любят портативные консоли и родной рынок.\n",
    "</div>"
   ]
  },
  {
   "cell_type": "code",
   "execution_count": 37,
   "metadata": {},
   "outputs": [
    {
     "data": {
      "text/html": [
       "<div>\n",
       "<style scoped>\n",
       "    .dataframe tbody tr th:only-of-type {\n",
       "        vertical-align: middle;\n",
       "    }\n",
       "\n",
       "    .dataframe tbody tr th {\n",
       "        vertical-align: top;\n",
       "    }\n",
       "\n",
       "    .dataframe thead th {\n",
       "        text-align: right;\n",
       "    }\n",
       "</style>\n",
       "<table border=\"1\" class=\"dataframe\">\n",
       "  <thead>\n",
       "    <tr style=\"text-align: right;\">\n",
       "      <th></th>\n",
       "      <th>all_sales</th>\n",
       "    </tr>\n",
       "    <tr>\n",
       "      <th>platform</th>\n",
       "      <th></th>\n",
       "    </tr>\n",
       "  </thead>\n",
       "  <tbody>\n",
       "    <tr>\n",
       "      <td>PS4</td>\n",
       "      <td>28.76</td>\n",
       "    </tr>\n",
       "    <tr>\n",
       "      <td>PS3</td>\n",
       "      <td>16.61</td>\n",
       "    </tr>\n",
       "    <tr>\n",
       "      <td>XOne</td>\n",
       "      <td>14.59</td>\n",
       "    </tr>\n",
       "    <tr>\n",
       "      <td>3DS</td>\n",
       "      <td>13.23</td>\n",
       "    </tr>\n",
       "    <tr>\n",
       "      <td>X360</td>\n",
       "      <td>12.53</td>\n",
       "    </tr>\n",
       "  </tbody>\n",
       "</table>\n",
       "</div>"
      ],
      "text/plain": [
       "          all_sales\n",
       "platform           \n",
       "PS4           28.76\n",
       "PS3           16.61\n",
       "XOne          14.59\n",
       "3DS           13.23\n",
       "X360          12.53"
      ]
     },
     "execution_count": 37,
     "metadata": {},
     "output_type": "execute_result"
    }
   ],
   "source": [
    "pd.DataFrame((data.groupby('platform')['all_sales'].sum()*100/\n",
    "              data['all_sales'].sum()).round(2).sort_values(ascending = False).head(5))"
   ]
  },
  {
   "cell_type": "code",
   "execution_count": 38,
   "metadata": {},
   "outputs": [
    {
     "data": {
      "text/html": [
       "<div>\n",
       "<style scoped>\n",
       "    .dataframe tbody tr th:only-of-type {\n",
       "        vertical-align: middle;\n",
       "    }\n",
       "\n",
       "    .dataframe tbody tr th {\n",
       "        vertical-align: top;\n",
       "    }\n",
       "\n",
       "    .dataframe thead th {\n",
       "        text-align: right;\n",
       "    }\n",
       "</style>\n",
       "<table border=\"1\" class=\"dataframe\">\n",
       "  <thead>\n",
       "    <tr style=\"text-align: right;\">\n",
       "      <th></th>\n",
       "      <th>na_sales</th>\n",
       "    </tr>\n",
       "    <tr>\n",
       "      <th>genre</th>\n",
       "      <th></th>\n",
       "    </tr>\n",
       "  </thead>\n",
       "  <tbody>\n",
       "    <tr>\n",
       "      <td>Action</td>\n",
       "      <td>28.78</td>\n",
       "    </tr>\n",
       "    <tr>\n",
       "      <td>Shooter</td>\n",
       "      <td>25.03</td>\n",
       "    </tr>\n",
       "    <tr>\n",
       "      <td>Sports</td>\n",
       "      <td>14.88</td>\n",
       "    </tr>\n",
       "    <tr>\n",
       "      <td>Role-Playing</td>\n",
       "      <td>10.60</td>\n",
       "    </tr>\n",
       "    <tr>\n",
       "      <td>Misc</td>\n",
       "      <td>6.27</td>\n",
       "    </tr>\n",
       "  </tbody>\n",
       "</table>\n",
       "</div>"
      ],
      "text/plain": [
       "              na_sales\n",
       "genre                 \n",
       "Action           28.78\n",
       "Shooter          25.03\n",
       "Sports           14.88\n",
       "Role-Playing     10.60\n",
       "Misc              6.27"
      ]
     },
     "execution_count": 38,
     "metadata": {},
     "output_type": "execute_result"
    }
   ],
   "source": [
    "pd.DataFrame((data.groupby('genre')['na_sales'].sum()*100/\n",
    "              data['na_sales'].sum()).round(2).sort_values(ascending = False).head(5))"
   ]
  },
  {
   "cell_type": "code",
   "execution_count": 39,
   "metadata": {},
   "outputs": [
    {
     "data": {
      "text/html": [
       "<div>\n",
       "<style scoped>\n",
       "    .dataframe tbody tr th:only-of-type {\n",
       "        vertical-align: middle;\n",
       "    }\n",
       "\n",
       "    .dataframe tbody tr th {\n",
       "        vertical-align: top;\n",
       "    }\n",
       "\n",
       "    .dataframe thead th {\n",
       "        text-align: right;\n",
       "    }\n",
       "</style>\n",
       "<table border=\"1\" class=\"dataframe\">\n",
       "  <thead>\n",
       "    <tr style=\"text-align: right;\">\n",
       "      <th></th>\n",
       "      <th>eu_sales</th>\n",
       "    </tr>\n",
       "    <tr>\n",
       "      <th>genre</th>\n",
       "      <th></th>\n",
       "    </tr>\n",
       "  </thead>\n",
       "  <tbody>\n",
       "    <tr>\n",
       "      <td>Action</td>\n",
       "      <td>30.15</td>\n",
       "    </tr>\n",
       "    <tr>\n",
       "      <td>Shooter</td>\n",
       "      <td>22.39</td>\n",
       "    </tr>\n",
       "    <tr>\n",
       "      <td>Sports</td>\n",
       "      <td>15.42</td>\n",
       "    </tr>\n",
       "    <tr>\n",
       "      <td>Role-Playing</td>\n",
       "      <td>9.43</td>\n",
       "    </tr>\n",
       "    <tr>\n",
       "      <td>Racing</td>\n",
       "      <td>5.14</td>\n",
       "    </tr>\n",
       "  </tbody>\n",
       "</table>\n",
       "</div>"
      ],
      "text/plain": [
       "              eu_sales\n",
       "genre                 \n",
       "Action           30.15\n",
       "Shooter          22.39\n",
       "Sports           15.42\n",
       "Role-Playing      9.43\n",
       "Racing            5.14"
      ]
     },
     "execution_count": 39,
     "metadata": {},
     "output_type": "execute_result"
    }
   ],
   "source": [
    "pd.DataFrame((data.groupby('genre')['eu_sales'].sum()*100/\n",
    "              data['eu_sales'].sum()).round(2).sort_values(ascending = False).head(5))"
   ]
  },
  {
   "cell_type": "code",
   "execution_count": 40,
   "metadata": {},
   "outputs": [
    {
     "data": {
      "text/html": [
       "<div>\n",
       "<style scoped>\n",
       "    .dataframe tbody tr th:only-of-type {\n",
       "        vertical-align: middle;\n",
       "    }\n",
       "\n",
       "    .dataframe tbody tr th {\n",
       "        vertical-align: top;\n",
       "    }\n",
       "\n",
       "    .dataframe thead th {\n",
       "        text-align: right;\n",
       "    }\n",
       "</style>\n",
       "<table border=\"1\" class=\"dataframe\">\n",
       "  <thead>\n",
       "    <tr style=\"text-align: right;\">\n",
       "      <th></th>\n",
       "      <th>jp_sales</th>\n",
       "    </tr>\n",
       "    <tr>\n",
       "      <th>genre</th>\n",
       "      <th></th>\n",
       "    </tr>\n",
       "  </thead>\n",
       "  <tbody>\n",
       "    <tr>\n",
       "      <td>Role-Playing</td>\n",
       "      <td>36.30</td>\n",
       "    </tr>\n",
       "    <tr>\n",
       "      <td>Action</td>\n",
       "      <td>28.74</td>\n",
       "    </tr>\n",
       "    <tr>\n",
       "      <td>Misc</td>\n",
       "      <td>6.53</td>\n",
       "    </tr>\n",
       "    <tr>\n",
       "      <td>Fighting</td>\n",
       "      <td>5.43</td>\n",
       "    </tr>\n",
       "    <tr>\n",
       "      <td>Shooter</td>\n",
       "      <td>4.69</td>\n",
       "    </tr>\n",
       "  </tbody>\n",
       "</table>\n",
       "</div>"
      ],
      "text/plain": [
       "              jp_sales\n",
       "genre                 \n",
       "Role-Playing     36.30\n",
       "Action           28.74\n",
       "Misc              6.53\n",
       "Fighting          5.43\n",
       "Shooter           4.69"
      ]
     },
     "execution_count": 40,
     "metadata": {},
     "output_type": "execute_result"
    }
   ],
   "source": [
    "pd.DataFrame((data.groupby('genre')['jp_sales'].sum()*100/\n",
    "              data['jp_sales'].sum()).round(2).sort_values(ascending = False).head(5))"
   ]
  },
  {
   "cell_type": "markdown",
   "metadata": {},
   "source": [
    "<div class=\"alert alert-success\" style=\"border-radius: 15px; box-shadow: 4px 4px 4px; border: 1px solid \">\n",
    "<b> Комментарий ревьюера</b>\n",
    "    \n",
    "А вот популярный на Западе шутер они совсем не любят.</div>"
   ]
  },
  {
   "cell_type": "code",
   "execution_count": 41,
   "metadata": {},
   "outputs": [
    {
     "data": {
      "text/html": [
       "<div>\n",
       "<style scoped>\n",
       "    .dataframe tbody tr th:only-of-type {\n",
       "        vertical-align: middle;\n",
       "    }\n",
       "\n",
       "    .dataframe tbody tr th {\n",
       "        vertical-align: top;\n",
       "    }\n",
       "\n",
       "    .dataframe thead th {\n",
       "        text-align: right;\n",
       "    }\n",
       "</style>\n",
       "<table border=\"1\" class=\"dataframe\">\n",
       "  <thead>\n",
       "    <tr style=\"text-align: right;\">\n",
       "      <th></th>\n",
       "      <th>all_sales</th>\n",
       "    </tr>\n",
       "    <tr>\n",
       "      <th>genre</th>\n",
       "      <th></th>\n",
       "    </tr>\n",
       "  </thead>\n",
       "  <tbody>\n",
       "    <tr>\n",
       "      <td>Action</td>\n",
       "      <td>29.51</td>\n",
       "    </tr>\n",
       "    <tr>\n",
       "      <td>Shooter</td>\n",
       "      <td>21.34</td>\n",
       "    </tr>\n",
       "    <tr>\n",
       "      <td>Sports</td>\n",
       "      <td>13.80</td>\n",
       "    </tr>\n",
       "    <tr>\n",
       "      <td>Role-Playing</td>\n",
       "      <td>13.38</td>\n",
       "    </tr>\n",
       "    <tr>\n",
       "      <td>Misc</td>\n",
       "      <td>5.75</td>\n",
       "    </tr>\n",
       "  </tbody>\n",
       "</table>\n",
       "</div>"
      ],
      "text/plain": [
       "              all_sales\n",
       "genre                  \n",
       "Action            29.51\n",
       "Shooter           21.34\n",
       "Sports            13.80\n",
       "Role-Playing      13.38\n",
       "Misc               5.75"
      ]
     },
     "execution_count": 41,
     "metadata": {},
     "output_type": "execute_result"
    }
   ],
   "source": [
    "pd.DataFrame((data.groupby('genre')['all_sales'].sum()*100/\n",
    "              data['all_sales'].sum()).round(2).sort_values(ascending = False).head(5))"
   ]
  },
  {
   "cell_type": "markdown",
   "metadata": {},
   "source": [
    "<div class=\"alert alert-danger\" style=\"border-radius: 15px; box-shadow: 4px 4px 4px; border: 1px solid\">\n",
    "<b> Комментарий ревьюера</b>\n",
    "    \n",
    "Здесь необходимо рассмотреть также и отсутствующий возрастной рейтинг, предварительно заменив его на маркерное значение. Эта задача является отличным примером того, что даже пропущенные значения могут нести в себе важную информацию. \n",
    "</div>\n",
    "\n",
    "<div class=\"alert alert-comment\" style=\"border-radius: 15px; box-shadow: 4px 4px 4px; border: 1px solid \">\n",
    "<h2> Комментарий студента</h2>\n",
    "\n",
    "Пустые значения рейтинга заменяем на 'Not given' </div>"
   ]
  },
  {
   "cell_type": "code",
   "execution_count": 42,
   "metadata": {},
   "outputs": [],
   "source": [
    "data['rating'] = data['rating'].fillna('Not given')"
   ]
  },
  {
   "cell_type": "code",
   "execution_count": 43,
   "metadata": {},
   "outputs": [
    {
     "data": {
      "text/html": [
       "<div>\n",
       "<style scoped>\n",
       "    .dataframe tbody tr th:only-of-type {\n",
       "        vertical-align: middle;\n",
       "    }\n",
       "\n",
       "    .dataframe tbody tr th {\n",
       "        vertical-align: top;\n",
       "    }\n",
       "\n",
       "    .dataframe thead th {\n",
       "        text-align: right;\n",
       "    }\n",
       "</style>\n",
       "<table border=\"1\" class=\"dataframe\">\n",
       "  <thead>\n",
       "    <tr style=\"text-align: right;\">\n",
       "      <th></th>\n",
       "      <th>na_sales</th>\n",
       "    </tr>\n",
       "    <tr>\n",
       "      <th>rating</th>\n",
       "      <th></th>\n",
       "    </tr>\n",
       "  </thead>\n",
       "  <tbody>\n",
       "    <tr>\n",
       "      <td>M</td>\n",
       "      <td>37.66</td>\n",
       "    </tr>\n",
       "    <tr>\n",
       "      <td>Not given</td>\n",
       "      <td>20.45</td>\n",
       "    </tr>\n",
       "    <tr>\n",
       "      <td>E</td>\n",
       "      <td>18.05</td>\n",
       "    </tr>\n",
       "    <tr>\n",
       "      <td>E10+</td>\n",
       "      <td>12.42</td>\n",
       "    </tr>\n",
       "    <tr>\n",
       "      <td>T</td>\n",
       "      <td>11.42</td>\n",
       "    </tr>\n",
       "  </tbody>\n",
       "</table>\n",
       "</div>"
      ],
      "text/plain": [
       "           na_sales\n",
       "rating             \n",
       "M             37.66\n",
       "Not given     20.45\n",
       "E             18.05\n",
       "E10+          12.42\n",
       "T             11.42"
      ]
     },
     "execution_count": 43,
     "metadata": {},
     "output_type": "execute_result"
    }
   ],
   "source": [
    "pd.DataFrame((data.groupby('rating')['na_sales'].sum()*100/\n",
    "              data['na_sales'].sum()).round(2).sort_values(ascending = False))"
   ]
  },
  {
   "cell_type": "code",
   "execution_count": 44,
   "metadata": {},
   "outputs": [
    {
     "data": {
      "text/html": [
       "<div>\n",
       "<style scoped>\n",
       "    .dataframe tbody tr th:only-of-type {\n",
       "        vertical-align: middle;\n",
       "    }\n",
       "\n",
       "    .dataframe tbody tr th {\n",
       "        vertical-align: top;\n",
       "    }\n",
       "\n",
       "    .dataframe thead th {\n",
       "        text-align: right;\n",
       "    }\n",
       "</style>\n",
       "<table border=\"1\" class=\"dataframe\">\n",
       "  <thead>\n",
       "    <tr style=\"text-align: right;\">\n",
       "      <th></th>\n",
       "      <th>eu_sales</th>\n",
       "    </tr>\n",
       "    <tr>\n",
       "      <th>rating</th>\n",
       "      <th></th>\n",
       "    </tr>\n",
       "  </thead>\n",
       "  <tbody>\n",
       "    <tr>\n",
       "      <td>M</td>\n",
       "      <td>37.03</td>\n",
       "    </tr>\n",
       "    <tr>\n",
       "      <td>E</td>\n",
       "      <td>21.24</td>\n",
       "    </tr>\n",
       "    <tr>\n",
       "      <td>Not given</td>\n",
       "      <td>20.10</td>\n",
       "    </tr>\n",
       "    <tr>\n",
       "      <td>E10+</td>\n",
       "      <td>10.93</td>\n",
       "    </tr>\n",
       "    <tr>\n",
       "      <td>T</td>\n",
       "      <td>10.70</td>\n",
       "    </tr>\n",
       "  </tbody>\n",
       "</table>\n",
       "</div>"
      ],
      "text/plain": [
       "           eu_sales\n",
       "rating             \n",
       "M             37.03\n",
       "E             21.24\n",
       "Not given     20.10\n",
       "E10+          10.93\n",
       "T             10.70"
      ]
     },
     "execution_count": 44,
     "metadata": {},
     "output_type": "execute_result"
    }
   ],
   "source": [
    "pd.DataFrame((data.groupby('rating')['eu_sales'].sum()*100/\n",
    "              data['eu_sales'].sum()).round(2).sort_values(ascending = False))"
   ]
  },
  {
   "cell_type": "code",
   "execution_count": 45,
   "metadata": {},
   "outputs": [
    {
     "data": {
      "text/html": [
       "<div>\n",
       "<style scoped>\n",
       "    .dataframe tbody tr th:only-of-type {\n",
       "        vertical-align: middle;\n",
       "    }\n",
       "\n",
       "    .dataframe tbody tr th {\n",
       "        vertical-align: top;\n",
       "    }\n",
       "\n",
       "    .dataframe thead th {\n",
       "        text-align: right;\n",
       "    }\n",
       "</style>\n",
       "<table border=\"1\" class=\"dataframe\">\n",
       "  <thead>\n",
       "    <tr style=\"text-align: right;\">\n",
       "      <th></th>\n",
       "      <th>jp_sales</th>\n",
       "    </tr>\n",
       "    <tr>\n",
       "      <th>rating</th>\n",
       "      <th></th>\n",
       "    </tr>\n",
       "  </thead>\n",
       "  <tbody>\n",
       "    <tr>\n",
       "      <td>Not given</td>\n",
       "      <td>60.40</td>\n",
       "    </tr>\n",
       "    <tr>\n",
       "      <td>T</td>\n",
       "      <td>14.66</td>\n",
       "    </tr>\n",
       "    <tr>\n",
       "      <td>E</td>\n",
       "      <td>10.75</td>\n",
       "    </tr>\n",
       "    <tr>\n",
       "      <td>M</td>\n",
       "      <td>10.01</td>\n",
       "    </tr>\n",
       "    <tr>\n",
       "      <td>E10+</td>\n",
       "      <td>4.18</td>\n",
       "    </tr>\n",
       "  </tbody>\n",
       "</table>\n",
       "</div>"
      ],
      "text/plain": [
       "           jp_sales\n",
       "rating             \n",
       "Not given     60.40\n",
       "T             14.66\n",
       "E             10.75\n",
       "M             10.01\n",
       "E10+           4.18"
      ]
     },
     "execution_count": 45,
     "metadata": {},
     "output_type": "execute_result"
    }
   ],
   "source": [
    "pd.DataFrame((data.groupby('rating')['jp_sales'].sum()*100/\n",
    "              data['jp_sales'].sum()).round(2).sort_values(ascending = False))"
   ]
  },
  {
   "cell_type": "markdown",
   "metadata": {},
   "source": [
    "<div class=\"alert alert-success\" style=\"border-radius: 15px; box-shadow: 4px 4px 4px; border: 1px solid \">\n",
    "<h2> Комментарий ревьюера 2</h2>\n",
    "\n",
    "Япония снова отличилась. Скорее всего, дело тут в том, что ESRB работает только на территории СА, в Японии есть аналогичная организация: CERO. Я думаю, что, с одной стороны, иностранным играм они (ESRB) не присваивают рейтинги, поскольку на них уже есть маркировка. Чтобы не было конфликта, так сказать. Так что вполне возможно, что часть игр это продукция Японии или же это корейские игры (там тоже своя организация). С другой стороны, раз они продают игры на своем рынке, то присвоение рейтинга может быть обязательным. Значит, дело еще может быть в том, что наша таблица это склейка двух таблиц: продажи на западе и на востоке. Так или иначе, это очень показательный пример. И именно разница в рынках (восточный и западный) наталкивает на мысль о неслучайности пропусков.\n",
    "\n",
    "</div>"
   ]
  },
  {
   "cell_type": "code",
   "execution_count": 46,
   "metadata": {},
   "outputs": [
    {
     "data": {
      "text/html": [
       "<div>\n",
       "<style scoped>\n",
       "    .dataframe tbody tr th:only-of-type {\n",
       "        vertical-align: middle;\n",
       "    }\n",
       "\n",
       "    .dataframe tbody tr th {\n",
       "        vertical-align: top;\n",
       "    }\n",
       "\n",
       "    .dataframe thead th {\n",
       "        text-align: right;\n",
       "    }\n",
       "</style>\n",
       "<table border=\"1\" class=\"dataframe\">\n",
       "  <thead>\n",
       "    <tr style=\"text-align: right;\">\n",
       "      <th></th>\n",
       "      <th>all_sales</th>\n",
       "    </tr>\n",
       "    <tr>\n",
       "      <th>rating</th>\n",
       "      <th></th>\n",
       "    </tr>\n",
       "  </thead>\n",
       "  <tbody>\n",
       "    <tr>\n",
       "      <td>M</td>\n",
       "      <td>34.03</td>\n",
       "    </tr>\n",
       "    <tr>\n",
       "      <td>Not given</td>\n",
       "      <td>25.38</td>\n",
       "    </tr>\n",
       "    <tr>\n",
       "      <td>E</td>\n",
       "      <td>18.34</td>\n",
       "    </tr>\n",
       "    <tr>\n",
       "      <td>T</td>\n",
       "      <td>11.63</td>\n",
       "    </tr>\n",
       "    <tr>\n",
       "      <td>E10+</td>\n",
       "      <td>10.61</td>\n",
       "    </tr>\n",
       "  </tbody>\n",
       "</table>\n",
       "</div>"
      ],
      "text/plain": [
       "           all_sales\n",
       "rating              \n",
       "M              34.03\n",
       "Not given      25.38\n",
       "E              18.34\n",
       "T              11.63\n",
       "E10+           10.61"
      ]
     },
     "execution_count": 46,
     "metadata": {},
     "output_type": "execute_result"
    }
   ],
   "source": [
    "pd.DataFrame((data.groupby('rating')['all_sales'].sum()*100/\n",
    "              data['all_sales'].sum()).round(2).sort_values(ascending = False))"
   ]
  },
  {
   "cell_type": "markdown",
   "metadata": {},
   "source": [
    "**Вывод 4**\n",
    "1. в Северной Америке предпочитают играть на PS4 в жанре экшн, шутер или спорт; самые продаваемые игры с рейтингом «M» («Mature») — «Для взрослых»\n",
    "2. в Европе предпочитают играть на PS4 в жанре экшн, шутер или спорт; самые продаваемые игры с рейтингом \"E\" («Everyone») — «Для всех» и «M» («Mature») — «Для взрослых»\n",
    "3. в Японии предпочитают играть на 3DS в жанре ролевых игр, экшн; самые продаваемые игры с рейтингом «T» («Teen») — «Подросткам»\n",
    "4. в мире в целом предпочитают играть на PS4 в жанре экшн, шутер; самые продаваемые игры с рейтингом «M» («Mature») — «Для взрослых»"
   ]
  },
  {
   "cell_type": "markdown",
   "metadata": {},
   "source": [
    "## Шаг 5. Гипотезы\n",
    "\n",
    "1. Средние пользовательские рейтинги платформ Xbox One и PC одинаковые\n",
    "\n",
    "Гипотеза о равенстве средних двух совокупностей: Н0 - средние равны, Н1 - средние не равны, критический уровень значимости 0.05\n",
    "\n",
    "\n",
    "2. Средние пользовательские рейтинги жанров Action (англ. «действие», экшен-игры) и Sports (англ. «спортивные соревнования») разные.\n",
    "\n",
    "Гипотеза о равенстве средних двух совокупностей: Н0 - средние равны, Н1 - средние не равны, критический уровень значимости 0.05"
   ]
  },
  {
   "cell_type": "code",
   "execution_count": 47,
   "metadata": {},
   "outputs": [
    {
     "name": "stdout",
     "output_type": "stream",
     "text": [
      "p-значение: [0.14012658]\n",
      "Не получилось отвергнуть нулевую гипотезу\n"
     ]
    }
   ],
   "source": [
    "data['user_score'] = data['user_score'].fillna(100500)\n",
    "xbox = data.loc[(data['platform'] == 'XOne')&(data['user_score']!=100500), ['user_score']]\n",
    "pc = data.loc[(data['platform'] == 'PC')&(data['user_score']!=100500), ['user_score']]\n",
    "\n",
    "alpha = 0.05\n",
    "results = st.ttest_ind(xbox,pc)\n",
    "print('p-значение:', results.pvalue)\n",
    "\n",
    "if (results.pvalue < 0.05):\n",
    "    print(\"Отвергаем нулевую гипотезу\")\n",
    "else:\n",
    "    print(\"Не получилось отвергнуть нулевую гипотезу\")"
   ]
  },
  {
   "cell_type": "markdown",
   "metadata": {},
   "source": [
    "*Полученное значение p-value выше критического уровня значимости, значит нулевая гипотеза не отвергается, средние пользовательские рейтинги платформ Xbox One и PC одинаковые*"
   ]
  },
  {
   "cell_type": "code",
   "execution_count": 48,
   "metadata": {},
   "outputs": [
    {
     "name": "stdout",
     "output_type": "stream",
     "text": [
      "p-значение: [9.64597811e-28]\n",
      "Отвергаем нулевую гипотезу\n"
     ]
    }
   ],
   "source": [
    "act = data.loc[(data['genre'] == 'Action')&(data['user_score']!=100500), ['user_score']]\n",
    "sport = data.loc[(data['genre'] == 'Sports')&(data['user_score']!=100500), ['user_score']]\n",
    "\n",
    "alpha = 0.05\n",
    "results = st.ttest_ind(act,sport)\n",
    "print('p-значение:', results.pvalue)\n",
    "\n",
    "if (results.pvalue < 0.05):\n",
    "    print(\"Отвергаем нулевую гипотезу\")\n",
    "else:\n",
    "    print(\"Не получилось отвергнуть нулевую гипотезу\")"
   ]
  },
  {
   "cell_type": "markdown",
   "metadata": {},
   "source": [
    "*Полученное значение p-value значительно ниже критического уровня значимости, значит нулевая гипотеза отвергается, средние пользовательские рейтинги жанров Action (англ. «действие», экшен-игры) и Sports (англ. «спортивные соревнования») разные*"
   ]
  },
  {
   "cell_type": "code",
   "execution_count": 49,
   "metadata": {},
   "outputs": [
    {
     "data": {
      "text/html": [
       "<div>\n",
       "<style scoped>\n",
       "    .dataframe tbody tr th:only-of-type {\n",
       "        vertical-align: middle;\n",
       "    }\n",
       "\n",
       "    .dataframe tbody tr th {\n",
       "        vertical-align: top;\n",
       "    }\n",
       "\n",
       "    .dataframe thead th {\n",
       "        text-align: right;\n",
       "    }\n",
       "</style>\n",
       "<table border=\"1\" class=\"dataframe\">\n",
       "  <thead>\n",
       "    <tr style=\"text-align: right;\">\n",
       "      <th></th>\n",
       "      <th>name</th>\n",
       "      <th>platform</th>\n",
       "      <th>year_of_release</th>\n",
       "      <th>genre</th>\n",
       "      <th>na_sales</th>\n",
       "      <th>eu_sales</th>\n",
       "      <th>jp_sales</th>\n",
       "      <th>other_sales</th>\n",
       "      <th>critic_score</th>\n",
       "      <th>user_score</th>\n",
       "      <th>rating</th>\n",
       "      <th>all_sales</th>\n",
       "    </tr>\n",
       "  </thead>\n",
       "  <tbody>\n",
       "    <tr>\n",
       "      <td>16</td>\n",
       "      <td>Grand Theft Auto V</td>\n",
       "      <td>PS3</td>\n",
       "      <td>2013</td>\n",
       "      <td>Action</td>\n",
       "      <td>7.02</td>\n",
       "      <td>9.09</td>\n",
       "      <td>0.98</td>\n",
       "      <td>3.96</td>\n",
       "      <td>97.0</td>\n",
       "      <td>8.2</td>\n",
       "      <td>M</td>\n",
       "      <td>21.05</td>\n",
       "    </tr>\n",
       "    <tr>\n",
       "      <td>23</td>\n",
       "      <td>Grand Theft Auto V</td>\n",
       "      <td>X360</td>\n",
       "      <td>2013</td>\n",
       "      <td>Action</td>\n",
       "      <td>9.66</td>\n",
       "      <td>5.14</td>\n",
       "      <td>0.06</td>\n",
       "      <td>1.41</td>\n",
       "      <td>97.0</td>\n",
       "      <td>8.1</td>\n",
       "      <td>M</td>\n",
       "      <td>16.27</td>\n",
       "    </tr>\n",
       "    <tr>\n",
       "      <td>31</td>\n",
       "      <td>Call of Duty: Black Ops 3</td>\n",
       "      <td>PS4</td>\n",
       "      <td>2015</td>\n",
       "      <td>Shooter</td>\n",
       "      <td>6.03</td>\n",
       "      <td>5.86</td>\n",
       "      <td>0.36</td>\n",
       "      <td>2.38</td>\n",
       "      <td>NaN</td>\n",
       "      <td>NaN</td>\n",
       "      <td>Not given</td>\n",
       "      <td>14.63</td>\n",
       "    </tr>\n",
       "    <tr>\n",
       "      <td>33</td>\n",
       "      <td>Pokemon X/Pokemon Y</td>\n",
       "      <td>3DS</td>\n",
       "      <td>2013</td>\n",
       "      <td>Role-Playing</td>\n",
       "      <td>5.28</td>\n",
       "      <td>4.19</td>\n",
       "      <td>4.35</td>\n",
       "      <td>0.78</td>\n",
       "      <td>NaN</td>\n",
       "      <td>NaN</td>\n",
       "      <td>Not given</td>\n",
       "      <td>14.60</td>\n",
       "    </tr>\n",
       "    <tr>\n",
       "      <td>42</td>\n",
       "      <td>Grand Theft Auto V</td>\n",
       "      <td>PS4</td>\n",
       "      <td>2014</td>\n",
       "      <td>Action</td>\n",
       "      <td>3.96</td>\n",
       "      <td>6.31</td>\n",
       "      <td>0.38</td>\n",
       "      <td>1.97</td>\n",
       "      <td>97.0</td>\n",
       "      <td>8.3</td>\n",
       "      <td>M</td>\n",
       "      <td>12.62</td>\n",
       "    </tr>\n",
       "    <tr>\n",
       "      <td>...</td>\n",
       "      <td>...</td>\n",
       "      <td>...</td>\n",
       "      <td>...</td>\n",
       "      <td>...</td>\n",
       "      <td>...</td>\n",
       "      <td>...</td>\n",
       "      <td>...</td>\n",
       "      <td>...</td>\n",
       "      <td>...</td>\n",
       "      <td>...</td>\n",
       "      <td>...</td>\n",
       "      <td>...</td>\n",
       "    </tr>\n",
       "    <tr>\n",
       "      <td>16703</td>\n",
       "      <td>Strawberry Nauts</td>\n",
       "      <td>PSV</td>\n",
       "      <td>2016</td>\n",
       "      <td>Adventure</td>\n",
       "      <td>0.00</td>\n",
       "      <td>0.00</td>\n",
       "      <td>0.01</td>\n",
       "      <td>0.00</td>\n",
       "      <td>NaN</td>\n",
       "      <td>NaN</td>\n",
       "      <td>Not given</td>\n",
       "      <td>0.01</td>\n",
       "    </tr>\n",
       "    <tr>\n",
       "      <td>16707</td>\n",
       "      <td>Aiyoku no Eustia</td>\n",
       "      <td>PSV</td>\n",
       "      <td>2014</td>\n",
       "      <td>Misc</td>\n",
       "      <td>0.00</td>\n",
       "      <td>0.00</td>\n",
       "      <td>0.01</td>\n",
       "      <td>0.00</td>\n",
       "      <td>NaN</td>\n",
       "      <td>NaN</td>\n",
       "      <td>Not given</td>\n",
       "      <td>0.01</td>\n",
       "    </tr>\n",
       "    <tr>\n",
       "      <td>16710</td>\n",
       "      <td>Samurai Warriors: Sanada Maru</td>\n",
       "      <td>PS3</td>\n",
       "      <td>2016</td>\n",
       "      <td>Action</td>\n",
       "      <td>0.00</td>\n",
       "      <td>0.00</td>\n",
       "      <td>0.01</td>\n",
       "      <td>0.00</td>\n",
       "      <td>NaN</td>\n",
       "      <td>NaN</td>\n",
       "      <td>Not given</td>\n",
       "      <td>0.01</td>\n",
       "    </tr>\n",
       "    <tr>\n",
       "      <td>16712</td>\n",
       "      <td>Haitaka no Psychedelica</td>\n",
       "      <td>PSV</td>\n",
       "      <td>2016</td>\n",
       "      <td>Adventure</td>\n",
       "      <td>0.00</td>\n",
       "      <td>0.00</td>\n",
       "      <td>0.01</td>\n",
       "      <td>0.00</td>\n",
       "      <td>NaN</td>\n",
       "      <td>NaN</td>\n",
       "      <td>Not given</td>\n",
       "      <td>0.01</td>\n",
       "    </tr>\n",
       "    <tr>\n",
       "      <td>16714</td>\n",
       "      <td>Winning Post 8 2016</td>\n",
       "      <td>PSV</td>\n",
       "      <td>2016</td>\n",
       "      <td>Simulation</td>\n",
       "      <td>0.00</td>\n",
       "      <td>0.00</td>\n",
       "      <td>0.01</td>\n",
       "      <td>0.00</td>\n",
       "      <td>NaN</td>\n",
       "      <td>NaN</td>\n",
       "      <td>Not given</td>\n",
       "      <td>0.01</td>\n",
       "    </tr>\n",
       "  </tbody>\n",
       "</table>\n",
       "<p>2242 rows × 12 columns</p>\n",
       "</div>"
      ],
      "text/plain": [
       "                                name platform  year_of_release         genre  \\\n",
       "16                Grand Theft Auto V      PS3             2013        Action   \n",
       "23                Grand Theft Auto V     X360             2013        Action   \n",
       "31         Call of Duty: Black Ops 3      PS4             2015       Shooter   \n",
       "33               Pokemon X/Pokemon Y      3DS             2013  Role-Playing   \n",
       "42                Grand Theft Auto V      PS4             2014        Action   \n",
       "...                              ...      ...              ...           ...   \n",
       "16703               Strawberry Nauts      PSV             2016     Adventure   \n",
       "16707               Aiyoku no Eustia      PSV             2014          Misc   \n",
       "16710  Samurai Warriors: Sanada Maru      PS3             2016        Action   \n",
       "16712        Haitaka no Psychedelica      PSV             2016     Adventure   \n",
       "16714            Winning Post 8 2016      PSV             2016    Simulation   \n",
       "\n",
       "       na_sales  eu_sales  jp_sales  other_sales  critic_score  user_score  \\\n",
       "16         7.02      9.09      0.98         3.96          97.0         8.2   \n",
       "23         9.66      5.14      0.06         1.41          97.0         8.1   \n",
       "31         6.03      5.86      0.36         2.38           NaN         NaN   \n",
       "33         5.28      4.19      4.35         0.78           NaN         NaN   \n",
       "42         3.96      6.31      0.38         1.97          97.0         8.3   \n",
       "...         ...       ...       ...          ...           ...         ...   \n",
       "16703      0.00      0.00      0.01         0.00           NaN         NaN   \n",
       "16707      0.00      0.00      0.01         0.00           NaN         NaN   \n",
       "16710      0.00      0.00      0.01         0.00           NaN         NaN   \n",
       "16712      0.00      0.00      0.01         0.00           NaN         NaN   \n",
       "16714      0.00      0.00      0.01         0.00           NaN         NaN   \n",
       "\n",
       "          rating  all_sales  \n",
       "16             M      21.05  \n",
       "23             M      16.27  \n",
       "31     Not given      14.63  \n",
       "33     Not given      14.60  \n",
       "42             M      12.62  \n",
       "...          ...        ...  \n",
       "16703  Not given       0.01  \n",
       "16707  Not given       0.01  \n",
       "16710  Not given       0.01  \n",
       "16712  Not given       0.01  \n",
       "16714  Not given       0.01  \n",
       "\n",
       "[2242 rows x 12 columns]"
      ]
     },
     "execution_count": 49,
     "metadata": {},
     "output_type": "execute_result"
    }
   ],
   "source": [
    "data.loc[data['user_score'] == 100500, 'user_score'] = np.nan\n",
    "data"
   ]
  },
  {
   "cell_type": "markdown",
   "metadata": {},
   "source": [
    "## Шаг 6. Общий вывод"
   ]
  },
  {
   "cell_type": "markdown",
   "metadata": {},
   "source": [
    "1. платформы популярны как правило 4-5 лет, жизненный цикл платформы 8-9 лет\n",
    "2. XOne и PS4 потенциально прибыльные платформы, исходя из графика 'Sales/Year by platform' и данных о продажах\n",
    "3. наиболее прибыльными являются жанры шутер и спортивные игры\n",
    "4. важным является отзыв критиков, он влияет на продажи игр на XOne и PS4\n",
    "5. для Америки стоит выпустить игру на PS4 в жанре экшн, шутер с рейтингом «M» («Mature») — «Для взрослых» \n",
    "6. для Европы стоит выпустить игру на PS4 в жанре экшн, шутер с рейтингом «M» («Mature») — «Для взрослых»\n",
    "7. в Японии существует своя линейка платформ DS, можно выпусктить игру на 3DS в жанре ролевых игр с рейтингом «T» («Teen») — «Подросткам»\n",
    "\n",
    "**По регионам**\n",
    "\n",
    "- Америка : PS4, XOne; Action, Shooter; рейтинг М\n",
    "\n",
    "- Европа: PS4, PS3;Action, Shooter; рейтинг М\n",
    "\n",
    "- Япония: 3DS, PS3; Role-Playing, Action; рейтинг T\n",
    "\n"
   ]
  },
  {
   "cell_type": "markdown",
   "metadata": {},
   "source": [
    "<div class=\"alert alert-warning\" style=\"border-radius: 15px; box-shadow: 4px 4px 4px; border: 1px solid\">\n",
    "<b> Комментарий ревьюера</b>\n",
    "    \n",
    "Вывод хороший. Будет здорово, если добавишь конкретику по регионам:  2-3 консоли, 2-3 жанра и рейтинги. Также не забудь обновить вывод после внесения изменений. </div>\n",
    "\n",
    "<div class=\"alert alert-danger\" style=\"border-radius: 15px; box-shadow: 4px 4px 4px; border: 1px solid\">\n",
    "<b> Комментарий ревьюера</b>\n",
    "    \n",
    ">не стоит ориентироваться на этот рынок\n",
    "\n",
    "Такие советы заказчику лучше не давать. Нам дают данные по продажам в ЕС, СА и Японии не просто так. Если там совсем другой рынок, то надо об этом написать подробнее, но не говорить заказчику, что он зря возлагает надежды на тот или иной рынок. Да и почему не стоит ориентироваться, если портрет клиента у нас есть? Надо не избегать особенностей, а подстраиваться под них, если мы хотим получать прибыль. Это как отказаться от работы с некоторыми клиентами, потому что  у них необычные задачи или датасеты :)  </div>\n",
    "\n",
    "<div class=\"alert alert-comment\" style=\"border-radius: 15px; box-shadow: 4px 4px 4px; border: 1px solid \">\n",
    "<h2> Комментарий студента</h2>\n",
    "\n",
    "Изменила вывод </div>\n",
    "\n",
    "<div class=\"alert alert-success\" style=\"border-radius: 15px; box-shadow: 4px 4px 4px; border: 1px solid \">\n",
    "<h2> Комментарий ревьюера 2</h2>\n",
    "\n",
    "Теперь все отлично :)\n",
    "\n",
    "</div>"
   ]
  }
 ],
 "metadata": {
  "ExecuteTimeLog": [
   {
    "duration": 961,
    "start_time": "2021-08-02T06:54:55.693Z"
   },
   {
    "duration": 281,
    "start_time": "2021-08-02T06:55:28.643Z"
   },
   {
    "duration": 78,
    "start_time": "2021-08-02T06:55:34.832Z"
   },
   {
    "duration": 21,
    "start_time": "2021-08-02T07:09:55.270Z"
   },
   {
    "duration": 8,
    "start_time": "2021-08-02T07:11:17.270Z"
   },
   {
    "duration": 379,
    "start_time": "2021-08-02T07:11:30.021Z"
   },
   {
    "duration": 13,
    "start_time": "2021-08-02T07:22:43.308Z"
   },
   {
    "duration": 21,
    "start_time": "2021-08-02T07:23:10.340Z"
   },
   {
    "duration": 33,
    "start_time": "2021-08-02T07:23:44.788Z"
   },
   {
    "duration": 241,
    "start_time": "2021-08-02T07:24:17.764Z"
   },
   {
    "duration": 496,
    "start_time": "2021-08-02T07:31:15.403Z"
   },
   {
    "duration": 1897,
    "start_time": "2021-08-02T07:31:22.780Z"
   },
   {
    "duration": -25,
    "start_time": "2021-08-02T07:31:24.704Z"
   },
   {
    "duration": -24,
    "start_time": "2021-08-02T07:31:24.705Z"
   },
   {
    "duration": -27,
    "start_time": "2021-08-02T07:31:24.709Z"
   },
   {
    "duration": -34,
    "start_time": "2021-08-02T07:31:24.717Z"
   },
   {
    "duration": 281,
    "start_time": "2021-08-02T07:32:24.127Z"
   },
   {
    "duration": 4,
    "start_time": "2021-08-02T07:32:27.943Z"
   },
   {
    "duration": 2160,
    "start_time": "2021-08-02T07:32:32.889Z"
   },
   {
    "duration": 80,
    "start_time": "2021-08-02T07:32:35.052Z"
   },
   {
    "duration": 28,
    "start_time": "2021-08-02T07:32:35.135Z"
   },
   {
    "duration": 20,
    "start_time": "2021-08-02T07:32:35.165Z"
   },
   {
    "duration": 12,
    "start_time": "2021-08-02T07:34:26.678Z"
   },
   {
    "duration": 18,
    "start_time": "2021-08-02T07:40:50.873Z"
   },
   {
    "duration": 12,
    "start_time": "2021-08-02T07:43:26.553Z"
   },
   {
    "duration": 35,
    "start_time": "2021-08-02T07:44:49.816Z"
   },
   {
    "duration": 33,
    "start_time": "2021-08-02T08:03:33.698Z"
   },
   {
    "duration": 34,
    "start_time": "2021-08-02T08:05:00.632Z"
   },
   {
    "duration": 386,
    "start_time": "2021-08-02T08:06:36.231Z"
   },
   {
    "duration": 6,
    "start_time": "2021-08-02T08:07:03.807Z"
   },
   {
    "duration": 42,
    "start_time": "2021-08-02T08:07:11.023Z"
   },
   {
    "duration": 4,
    "start_time": "2021-08-02T08:07:20.318Z"
   },
   {
    "duration": 6,
    "start_time": "2021-08-02T08:07:23.896Z"
   },
   {
    "duration": 284,
    "start_time": "2021-08-02T08:07:39.199Z"
   },
   {
    "duration": 266,
    "start_time": "2021-08-02T08:07:45.356Z"
   },
   {
    "duration": 1411,
    "start_time": "2021-08-02T08:07:55.499Z"
   },
   {
    "duration": 81,
    "start_time": "2021-08-02T08:07:56.913Z"
   },
   {
    "duration": 13,
    "start_time": "2021-08-02T08:07:56.997Z"
   },
   {
    "duration": 20,
    "start_time": "2021-08-02T08:07:57.012Z"
   },
   {
    "duration": 40,
    "start_time": "2021-08-02T08:07:57.035Z"
   },
   {
    "duration": 53,
    "start_time": "2021-08-02T08:07:57.078Z"
   },
   {
    "duration": 6,
    "start_time": "2021-08-02T08:07:57.163Z"
   },
   {
    "duration": 1688,
    "start_time": "2021-08-02T08:08:13.064Z"
   },
   {
    "duration": 107,
    "start_time": "2021-08-02T08:08:14.756Z"
   },
   {
    "duration": 21,
    "start_time": "2021-08-02T08:08:14.867Z"
   },
   {
    "duration": 29,
    "start_time": "2021-08-02T08:08:14.891Z"
   },
   {
    "duration": 51,
    "start_time": "2021-08-02T08:08:14.923Z"
   },
   {
    "duration": 37,
    "start_time": "2021-08-02T08:08:14.978Z"
   },
   {
    "duration": 4,
    "start_time": "2021-08-02T08:08:15.018Z"
   },
   {
    "duration": 29,
    "start_time": "2021-08-02T08:08:18.509Z"
   },
   {
    "duration": 5,
    "start_time": "2021-08-02T08:09:23.212Z"
   },
   {
    "duration": 1493,
    "start_time": "2021-08-02T08:11:30.247Z"
   },
   {
    "duration": 75,
    "start_time": "2021-08-02T08:11:31.743Z"
   },
   {
    "duration": 13,
    "start_time": "2021-08-02T08:11:31.821Z"
   },
   {
    "duration": 42,
    "start_time": "2021-08-02T08:11:31.837Z"
   },
   {
    "duration": 34,
    "start_time": "2021-08-02T08:11:31.882Z"
   },
   {
    "duration": 63,
    "start_time": "2021-08-02T08:11:31.919Z"
   },
   {
    "duration": 415,
    "start_time": "2021-08-02T08:11:31.984Z"
   },
   {
    "duration": 322,
    "start_time": "2021-08-02T08:12:14.870Z"
   },
   {
    "duration": 1669,
    "start_time": "2021-08-02T08:12:38.567Z"
   },
   {
    "duration": 75,
    "start_time": "2021-08-02T08:12:40.238Z"
   },
   {
    "duration": 14,
    "start_time": "2021-08-02T08:12:40.315Z"
   },
   {
    "duration": 38,
    "start_time": "2021-08-02T08:12:40.332Z"
   },
   {
    "duration": 19,
    "start_time": "2021-08-02T08:12:40.374Z"
   },
   {
    "duration": 39,
    "start_time": "2021-08-02T08:12:40.395Z"
   },
   {
    "duration": 456,
    "start_time": "2021-08-02T08:12:40.436Z"
   },
   {
    "duration": 288,
    "start_time": "2021-08-02T08:13:34.241Z"
   },
   {
    "duration": 1499,
    "start_time": "2021-08-02T08:13:39.335Z"
   },
   {
    "duration": 75,
    "start_time": "2021-08-02T08:13:40.837Z"
   },
   {
    "duration": 14,
    "start_time": "2021-08-02T08:13:40.918Z"
   },
   {
    "duration": 354,
    "start_time": "2021-08-02T08:13:40.935Z"
   },
   {
    "duration": 26,
    "start_time": "2021-08-02T08:13:41.291Z"
   },
   {
    "duration": 48,
    "start_time": "2021-08-02T08:13:41.320Z"
   },
   {
    "duration": 407,
    "start_time": "2021-08-02T08:13:41.370Z"
   },
   {
    "duration": 6493,
    "start_time": "2021-08-02T08:43:27.613Z"
   },
   {
    "duration": 1515,
    "start_time": "2021-08-02T08:43:37.740Z"
   },
   {
    "duration": 78,
    "start_time": "2021-08-02T08:43:39.259Z"
   },
   {
    "duration": 30,
    "start_time": "2021-08-02T08:43:39.340Z"
   },
   {
    "duration": 20,
    "start_time": "2021-08-02T08:43:39.373Z"
   },
   {
    "duration": 15,
    "start_time": "2021-08-02T08:43:39.396Z"
   },
   {
    "duration": 84,
    "start_time": "2021-08-02T08:43:39.414Z"
   },
   {
    "duration": 63,
    "start_time": "2021-08-02T08:43:39.501Z"
   },
   {
    "duration": 483,
    "start_time": "2021-08-02T08:43:39.568Z"
   },
   {
    "duration": 12835,
    "start_time": "2021-08-02T08:45:28.750Z"
   },
   {
    "duration": 1661,
    "start_time": "2021-08-02T08:45:55.585Z"
   },
   {
    "duration": 80,
    "start_time": "2021-08-02T08:45:57.248Z"
   },
   {
    "duration": 14,
    "start_time": "2021-08-02T08:45:57.332Z"
   },
   {
    "duration": 20,
    "start_time": "2021-08-02T08:45:57.362Z"
   },
   {
    "duration": 17,
    "start_time": "2021-08-02T08:45:57.384Z"
   },
   {
    "duration": 80,
    "start_time": "2021-08-02T08:45:57.404Z"
   },
   {
    "duration": 550,
    "start_time": "2021-08-02T08:45:57.488Z"
   },
   {
    "duration": -32,
    "start_time": "2021-08-02T08:45:58.072Z"
   },
   {
    "duration": 308,
    "start_time": "2021-08-02T08:46:14.095Z"
   },
   {
    "duration": 16,
    "start_time": "2021-08-02T08:46:30.289Z"
   },
   {
    "duration": 21,
    "start_time": "2021-08-02T08:46:46.383Z"
   },
   {
    "duration": 18,
    "start_time": "2021-08-02T08:49:33.377Z"
   },
   {
    "duration": 269,
    "start_time": "2021-08-02T09:10:46.504Z"
   },
   {
    "duration": 1458,
    "start_time": "2021-08-02T09:11:06.093Z"
   },
   {
    "duration": 77,
    "start_time": "2021-08-02T09:11:07.555Z"
   },
   {
    "duration": 27,
    "start_time": "2021-08-02T09:11:07.635Z"
   },
   {
    "duration": 20,
    "start_time": "2021-08-02T09:11:07.665Z"
   },
   {
    "duration": 34,
    "start_time": "2021-08-02T09:11:07.688Z"
   },
   {
    "duration": 74,
    "start_time": "2021-08-02T09:11:07.725Z"
   },
   {
    "duration": 20,
    "start_time": "2021-08-02T09:11:07.802Z"
   },
   {
    "duration": 437,
    "start_time": "2021-08-02T09:11:07.824Z"
   },
   {
    "duration": 265,
    "start_time": "2021-08-02T09:11:22.101Z"
   },
   {
    "duration": 2030,
    "start_time": "2021-08-02T09:11:29.662Z"
   },
   {
    "duration": 106,
    "start_time": "2021-08-02T09:11:31.696Z"
   },
   {
    "duration": 21,
    "start_time": "2021-08-02T09:11:31.806Z"
   },
   {
    "duration": 47,
    "start_time": "2021-08-02T09:11:31.831Z"
   },
   {
    "duration": 32,
    "start_time": "2021-08-02T09:11:31.882Z"
   },
   {
    "duration": 48,
    "start_time": "2021-08-02T09:11:31.917Z"
   },
   {
    "duration": 20,
    "start_time": "2021-08-02T09:11:31.969Z"
   },
   {
    "duration": 395,
    "start_time": "2021-08-02T09:11:31.992Z"
   },
   {
    "duration": -33,
    "start_time": "2021-08-02T09:11:32.423Z"
   },
   {
    "duration": 245,
    "start_time": "2021-08-02T09:39:10.655Z"
   },
   {
    "duration": 20,
    "start_time": "2021-08-02T09:39:17.885Z"
   },
   {
    "duration": 294,
    "start_time": "2021-08-02T09:39:29.287Z"
   },
   {
    "duration": 348,
    "start_time": "2021-08-02T09:39:42.103Z"
   },
   {
    "duration": 1442,
    "start_time": "2021-08-02T09:39:46.996Z"
   },
   {
    "duration": 79,
    "start_time": "2021-08-02T09:39:48.441Z"
   },
   {
    "duration": 23,
    "start_time": "2021-08-02T09:39:48.523Z"
   },
   {
    "duration": 37,
    "start_time": "2021-08-02T09:39:48.550Z"
   },
   {
    "duration": 20,
    "start_time": "2021-08-02T09:39:48.591Z"
   },
   {
    "duration": 85,
    "start_time": "2021-08-02T09:39:48.615Z"
   },
   {
    "duration": 500,
    "start_time": "2021-08-02T09:39:48.703Z"
   },
   {
    "duration": -35,
    "start_time": "2021-08-02T09:39:49.242Z"
   },
   {
    "duration": -35,
    "start_time": "2021-08-02T09:39:49.244Z"
   },
   {
    "duration": 269,
    "start_time": "2021-08-02T09:42:46.652Z"
   },
   {
    "duration": 8,
    "start_time": "2021-08-02T09:46:18.987Z"
   },
   {
    "duration": 1507,
    "start_time": "2021-08-02T09:46:23.741Z"
   },
   {
    "duration": 74,
    "start_time": "2021-08-02T09:46:25.251Z"
   },
   {
    "duration": 14,
    "start_time": "2021-08-02T09:46:25.328Z"
   },
   {
    "duration": 20,
    "start_time": "2021-08-02T09:46:25.361Z"
   },
   {
    "duration": 16,
    "start_time": "2021-08-02T09:46:25.383Z"
   },
   {
    "duration": 73,
    "start_time": "2021-08-02T09:46:25.401Z"
   },
   {
    "duration": 433,
    "start_time": "2021-08-02T09:46:25.477Z"
   },
   {
    "duration": -43,
    "start_time": "2021-08-02T09:46:25.956Z"
   },
   {
    "duration": -44,
    "start_time": "2021-08-02T09:46:25.958Z"
   },
   {
    "duration": 28,
    "start_time": "2021-08-02T09:46:31.929Z"
   },
   {
    "duration": 19,
    "start_time": "2021-08-02T09:46:49.131Z"
   },
   {
    "duration": 9,
    "start_time": "2021-08-02T09:47:00.346Z"
   },
   {
    "duration": 21,
    "start_time": "2021-08-02T09:47:01.978Z"
   },
   {
    "duration": 40,
    "start_time": "2021-08-02T09:47:08.714Z"
   },
   {
    "duration": 9,
    "start_time": "2021-08-02T09:47:33.330Z"
   },
   {
    "duration": 20,
    "start_time": "2021-08-02T09:47:35.762Z"
   },
   {
    "duration": 6148,
    "start_time": "2021-08-02T09:49:50.963Z"
   },
   {
    "duration": 1495,
    "start_time": "2021-08-02T09:49:59.354Z"
   },
   {
    "duration": 113,
    "start_time": "2021-08-02T09:50:00.851Z"
   },
   {
    "duration": 22,
    "start_time": "2021-08-02T09:50:00.967Z"
   },
   {
    "duration": 28,
    "start_time": "2021-08-02T09:50:00.992Z"
   },
   {
    "duration": 76,
    "start_time": "2021-08-02T09:50:01.024Z"
   },
   {
    "duration": 19,
    "start_time": "2021-08-02T09:50:01.105Z"
   },
   {
    "duration": 61,
    "start_time": "2021-08-02T09:50:01.127Z"
   },
   {
    "duration": 425,
    "start_time": "2021-08-02T09:50:01.191Z"
   },
   {
    "duration": -19,
    "start_time": "2021-08-02T09:50:01.637Z"
   },
   {
    "duration": -18,
    "start_time": "2021-08-02T09:50:01.638Z"
   },
   {
    "duration": -20,
    "start_time": "2021-08-02T09:50:01.642Z"
   },
   {
    "duration": -21,
    "start_time": "2021-08-02T09:50:01.644Z"
   },
   {
    "duration": 14,
    "start_time": "2021-08-02T09:55:57.196Z"
   },
   {
    "duration": 1931,
    "start_time": "2021-08-02T09:56:03.904Z"
   },
   {
    "duration": 107,
    "start_time": "2021-08-02T09:56:05.838Z"
   },
   {
    "duration": 21,
    "start_time": "2021-08-02T09:56:05.961Z"
   },
   {
    "duration": 36,
    "start_time": "2021-08-02T09:56:05.986Z"
   },
   {
    "duration": 61,
    "start_time": "2021-08-02T09:56:06.026Z"
   },
   {
    "duration": 37,
    "start_time": "2021-08-02T09:56:06.090Z"
   },
   {
    "duration": 43,
    "start_time": "2021-08-02T09:56:06.130Z"
   },
   {
    "duration": 413,
    "start_time": "2021-08-02T09:56:06.176Z"
   },
   {
    "duration": -28,
    "start_time": "2021-08-02T09:56:06.619Z"
   },
   {
    "duration": -29,
    "start_time": "2021-08-02T09:56:06.622Z"
   },
   {
    "duration": -32,
    "start_time": "2021-08-02T09:56:06.626Z"
   },
   {
    "duration": -35,
    "start_time": "2021-08-02T09:56:06.631Z"
   },
   {
    "duration": 15,
    "start_time": "2021-08-02T09:56:13.725Z"
   },
   {
    "duration": 4,
    "start_time": "2021-08-02T09:56:20.021Z"
   },
   {
    "duration": 14,
    "start_time": "2021-08-02T09:56:20.620Z"
   },
   {
    "duration": 12,
    "start_time": "2021-08-02T09:58:07.293Z"
   },
   {
    "duration": 1455,
    "start_time": "2021-08-02T09:58:15.892Z"
   },
   {
    "duration": 76,
    "start_time": "2021-08-02T09:58:17.350Z"
   },
   {
    "duration": 14,
    "start_time": "2021-08-02T09:58:17.430Z"
   },
   {
    "duration": 20,
    "start_time": "2021-08-02T09:58:17.463Z"
   },
   {
    "duration": 46,
    "start_time": "2021-08-02T09:58:17.485Z"
   },
   {
    "duration": 29,
    "start_time": "2021-08-02T09:58:17.534Z"
   },
   {
    "duration": 39,
    "start_time": "2021-08-02T09:58:17.566Z"
   },
   {
    "duration": 391,
    "start_time": "2021-08-02T09:58:17.608Z"
   },
   {
    "duration": -33,
    "start_time": "2021-08-02T09:58:18.035Z"
   },
   {
    "duration": -34,
    "start_time": "2021-08-02T09:58:18.038Z"
   },
   {
    "duration": -37,
    "start_time": "2021-08-02T09:58:18.042Z"
   },
   {
    "duration": -36,
    "start_time": "2021-08-02T09:58:18.043Z"
   },
   {
    "duration": 18,
    "start_time": "2021-08-02T09:58:20.472Z"
   },
   {
    "duration": 11,
    "start_time": "2021-08-02T09:58:24.088Z"
   },
   {
    "duration": 15,
    "start_time": "2021-08-02T09:58:26.415Z"
   },
   {
    "duration": 29,
    "start_time": "2021-08-02T09:58:31.871Z"
   },
   {
    "duration": 8177,
    "start_time": "2021-08-02T09:58:55.673Z"
   },
   {
    "duration": 6557,
    "start_time": "2021-08-02T09:59:58.629Z"
   },
   {
    "duration": 28,
    "start_time": "2021-08-02T10:00:53.729Z"
   },
   {
    "duration": 26,
    "start_time": "2021-08-02T10:01:03.977Z"
   },
   {
    "duration": 17,
    "start_time": "2021-08-02T10:01:11.320Z"
   },
   {
    "duration": 28,
    "start_time": "2021-08-02T10:01:33.648Z"
   },
   {
    "duration": 27,
    "start_time": "2021-08-02T10:01:50.713Z"
   },
   {
    "duration": 12,
    "start_time": "2021-08-02T10:02:04.576Z"
   },
   {
    "duration": 20,
    "start_time": "2021-08-02T10:02:06.072Z"
   },
   {
    "duration": 27,
    "start_time": "2021-08-02T10:02:07.136Z"
   },
   {
    "duration": 41,
    "start_time": "2021-08-02T10:02:15.503Z"
   },
   {
    "duration": 12,
    "start_time": "2021-08-02T10:02:27.991Z"
   },
   {
    "duration": 14,
    "start_time": "2021-08-02T10:02:28.457Z"
   },
   {
    "duration": 28,
    "start_time": "2021-08-02T10:02:28.849Z"
   },
   {
    "duration": 15,
    "start_time": "2021-08-02T10:05:11.985Z"
   },
   {
    "duration": 14,
    "start_time": "2021-08-02T10:05:12.752Z"
   },
   {
    "duration": 1424,
    "start_time": "2021-08-02T10:05:24.093Z"
   },
   {
    "duration": 75,
    "start_time": "2021-08-02T10:05:25.520Z"
   },
   {
    "duration": 14,
    "start_time": "2021-08-02T10:05:25.598Z"
   },
   {
    "duration": 20,
    "start_time": "2021-08-02T10:05:25.615Z"
   },
   {
    "duration": 30,
    "start_time": "2021-08-02T10:05:25.662Z"
   },
   {
    "duration": 23,
    "start_time": "2021-08-02T10:05:25.695Z"
   },
   {
    "duration": 86,
    "start_time": "2021-08-02T10:05:25.721Z"
   },
   {
    "duration": 432,
    "start_time": "2021-08-02T10:05:25.809Z"
   },
   {
    "duration": -40,
    "start_time": "2021-08-02T10:05:26.284Z"
   },
   {
    "duration": -46,
    "start_time": "2021-08-02T10:05:26.292Z"
   },
   {
    "duration": -47,
    "start_time": "2021-08-02T10:05:26.294Z"
   },
   {
    "duration": -49,
    "start_time": "2021-08-02T10:05:26.297Z"
   },
   {
    "duration": 15,
    "start_time": "2021-08-02T10:05:28.455Z"
   },
   {
    "duration": 14,
    "start_time": "2021-08-02T10:05:29.097Z"
   },
   {
    "duration": 27,
    "start_time": "2021-08-02T10:05:30.599Z"
   },
   {
    "duration": 20,
    "start_time": "2021-08-02T10:05:57.616Z"
   },
   {
    "duration": 15,
    "start_time": "2021-08-02T10:05:59.167Z"
   },
   {
    "duration": 29,
    "start_time": "2021-08-02T10:06:02.463Z"
   },
   {
    "duration": 1425,
    "start_time": "2021-08-02T10:06:08.187Z"
   },
   {
    "duration": 75,
    "start_time": "2021-08-02T10:06:09.615Z"
   },
   {
    "duration": 27,
    "start_time": "2021-08-02T10:06:09.695Z"
   },
   {
    "duration": 45,
    "start_time": "2021-08-02T10:06:09.725Z"
   },
   {
    "duration": 43,
    "start_time": "2021-08-02T10:06:09.773Z"
   },
   {
    "duration": 44,
    "start_time": "2021-08-02T10:06:09.819Z"
   },
   {
    "duration": 42,
    "start_time": "2021-08-02T10:06:09.865Z"
   },
   {
    "duration": 413,
    "start_time": "2021-08-02T10:06:09.910Z"
   },
   {
    "duration": -37,
    "start_time": "2021-08-02T10:06:10.363Z"
   },
   {
    "duration": -38,
    "start_time": "2021-08-02T10:06:10.365Z"
   },
   {
    "duration": -39,
    "start_time": "2021-08-02T10:06:10.367Z"
   },
   {
    "duration": -40,
    "start_time": "2021-08-02T10:06:10.370Z"
   },
   {
    "duration": 20,
    "start_time": "2021-08-02T10:06:13.832Z"
   },
   {
    "duration": 14,
    "start_time": "2021-08-02T10:06:14.264Z"
   },
   {
    "duration": 27,
    "start_time": "2021-08-02T10:06:15.696Z"
   },
   {
    "duration": 21,
    "start_time": "2021-08-02T10:07:23.896Z"
   },
   {
    "duration": 15,
    "start_time": "2021-08-02T10:07:24.394Z"
   },
   {
    "duration": 37,
    "start_time": "2021-08-02T10:07:46.304Z"
   },
   {
    "duration": 27,
    "start_time": "2021-08-02T10:10:18.305Z"
   },
   {
    "duration": 30,
    "start_time": "2021-08-02T10:10:42.240Z"
   },
   {
    "duration": 303,
    "start_time": "2021-08-02T10:10:54.232Z"
   },
   {
    "duration": 20,
    "start_time": "2021-08-02T10:11:06.344Z"
   },
   {
    "duration": 14,
    "start_time": "2021-08-02T10:11:08.120Z"
   },
   {
    "duration": 26,
    "start_time": "2021-08-02T10:11:09.088Z"
   },
   {
    "duration": 27,
    "start_time": "2021-08-02T10:11:16.177Z"
   },
   {
    "duration": 14,
    "start_time": "2021-08-02T10:11:16.592Z"
   },
   {
    "duration": 28,
    "start_time": "2021-08-02T10:11:17.177Z"
   },
   {
    "duration": 25,
    "start_time": "2021-08-02T10:43:39.310Z"
   },
   {
    "duration": 15,
    "start_time": "2021-08-02T10:43:40.117Z"
   },
   {
    "duration": 28,
    "start_time": "2021-08-02T10:43:41.103Z"
   },
   {
    "duration": 16,
    "start_time": "2021-08-02T10:44:01.173Z"
   },
   {
    "duration": 9,
    "start_time": "2021-08-02T10:44:39.919Z"
   },
   {
    "duration": 6700,
    "start_time": "2021-08-02T10:46:04.706Z"
   },
   {
    "duration": 1437,
    "start_time": "2021-08-02T10:46:18.980Z"
   },
   {
    "duration": 76,
    "start_time": "2021-08-02T10:46:20.420Z"
   },
   {
    "duration": 15,
    "start_time": "2021-08-02T10:46:20.499Z"
   },
   {
    "duration": 19,
    "start_time": "2021-08-02T10:46:20.516Z"
   },
   {
    "duration": 6,
    "start_time": "2021-08-02T10:46:20.562Z"
   },
   {
    "duration": 20,
    "start_time": "2021-08-02T10:46:20.570Z"
   },
   {
    "duration": 37,
    "start_time": "2021-08-02T10:46:20.592Z"
   },
   {
    "duration": 440,
    "start_time": "2021-08-02T10:46:20.664Z"
   },
   {
    "duration": -33,
    "start_time": "2021-08-02T10:46:21.140Z"
   },
   {
    "duration": -34,
    "start_time": "2021-08-02T10:46:21.143Z"
   },
   {
    "duration": -44,
    "start_time": "2021-08-02T10:46:21.154Z"
   },
   {
    "duration": -44,
    "start_time": "2021-08-02T10:46:21.156Z"
   },
   {
    "duration": -47,
    "start_time": "2021-08-02T10:46:21.160Z"
   },
   {
    "duration": 6156,
    "start_time": "2021-08-02T10:50:36.050Z"
   },
   {
    "duration": -43,
    "start_time": "2021-08-02T10:50:42.252Z"
   },
   {
    "duration": -55,
    "start_time": "2021-08-02T10:50:42.265Z"
   },
   {
    "duration": -61,
    "start_time": "2021-08-02T10:50:42.273Z"
   },
   {
    "duration": 293,
    "start_time": "2021-08-02T10:50:54.698Z"
   },
   {
    "duration": 318,
    "start_time": "2021-08-02T10:51:00.522Z"
   },
   {
    "duration": 20,
    "start_time": "2021-08-02T10:51:18.662Z"
   },
   {
    "duration": 14,
    "start_time": "2021-08-02T10:51:20.446Z"
   },
   {
    "duration": 31,
    "start_time": "2021-08-02T10:51:20.857Z"
   },
   {
    "duration": 13,
    "start_time": "2021-08-02T10:51:32.994Z"
   },
   {
    "duration": 28,
    "start_time": "2021-08-02T10:51:43.033Z"
   },
   {
    "duration": 25,
    "start_time": "2021-08-02T10:52:36.562Z"
   },
   {
    "duration": 15,
    "start_time": "2021-08-02T10:52:37.752Z"
   },
   {
    "duration": 31,
    "start_time": "2021-08-02T10:52:38.817Z"
   },
   {
    "duration": 28,
    "start_time": "2021-08-02T10:52:41.177Z"
   },
   {
    "duration": 41,
    "start_time": "2021-08-02T10:52:41.619Z"
   },
   {
    "duration": 1984,
    "start_time": "2021-08-02T10:53:17.646Z"
   },
   {
    "duration": 79,
    "start_time": "2021-08-02T10:53:19.634Z"
   },
   {
    "duration": 14,
    "start_time": "2021-08-02T10:53:19.720Z"
   },
   {
    "duration": 43,
    "start_time": "2021-08-02T10:53:19.737Z"
   },
   {
    "duration": 78,
    "start_time": "2021-08-02T10:53:19.784Z"
   },
   {
    "duration": 27,
    "start_time": "2021-08-02T10:53:19.866Z"
   },
   {
    "duration": 38,
    "start_time": "2021-08-02T10:53:19.895Z"
   },
   {
    "duration": 589,
    "start_time": "2021-08-02T10:53:19.964Z"
   },
   {
    "duration": -36,
    "start_time": "2021-08-02T10:53:20.593Z"
   },
   {
    "duration": -36,
    "start_time": "2021-08-02T10:53:20.595Z"
   },
   {
    "duration": -37,
    "start_time": "2021-08-02T10:53:20.597Z"
   },
   {
    "duration": -37,
    "start_time": "2021-08-02T10:53:20.598Z"
   },
   {
    "duration": -36,
    "start_time": "2021-08-02T10:53:20.599Z"
   },
   {
    "duration": -37,
    "start_time": "2021-08-02T10:53:20.602Z"
   },
   {
    "duration": 36,
    "start_time": "2021-08-02T10:53:24.381Z"
   },
   {
    "duration": 20,
    "start_time": "2021-08-02T10:53:24.839Z"
   },
   {
    "duration": 27,
    "start_time": "2021-08-02T10:53:28.978Z"
   },
   {
    "duration": 7,
    "start_time": "2021-08-02T10:53:29.403Z"
   },
   {
    "duration": 1508,
    "start_time": "2021-08-02T10:56:12.819Z"
   },
   {
    "duration": 82,
    "start_time": "2021-08-02T10:56:14.331Z"
   },
   {
    "duration": 14,
    "start_time": "2021-08-02T10:56:14.416Z"
   },
   {
    "duration": 44,
    "start_time": "2021-08-02T10:56:14.433Z"
   },
   {
    "duration": 32,
    "start_time": "2021-08-02T10:56:14.479Z"
   },
   {
    "duration": 19,
    "start_time": "2021-08-02T10:56:14.513Z"
   },
   {
    "duration": 40,
    "start_time": "2021-08-02T10:56:14.563Z"
   },
   {
    "duration": 4,
    "start_time": "2021-08-02T10:56:14.608Z"
   },
   {
    "duration": 11,
    "start_time": "2021-08-02T10:56:14.615Z"
   },
   {
    "duration": 64,
    "start_time": "2021-08-02T10:56:14.629Z"
   },
   {
    "duration": 16,
    "start_time": "2021-08-02T10:56:14.695Z"
   },
   {
    "duration": 60,
    "start_time": "2021-08-02T10:56:14.714Z"
   },
   {
    "duration": 16,
    "start_time": "2021-08-02T10:56:14.777Z"
   },
   {
    "duration": 7,
    "start_time": "2021-08-02T10:58:36.597Z"
   },
   {
    "duration": 245,
    "start_time": "2021-08-02T10:58:51.699Z"
   },
   {
    "duration": 49,
    "start_time": "2021-08-02T10:59:13.261Z"
   },
   {
    "duration": 7,
    "start_time": "2021-08-02T10:59:30.724Z"
   },
   {
    "duration": 64,
    "start_time": "2021-08-02T10:59:35.204Z"
   },
   {
    "duration": 22,
    "start_time": "2021-08-02T11:01:35.388Z"
   },
   {
    "duration": 406,
    "start_time": "2021-08-02T11:02:39.189Z"
   },
   {
    "duration": 562,
    "start_time": "2021-08-02T11:03:32.204Z"
   },
   {
    "duration": 72,
    "start_time": "2021-08-02T11:03:48.068Z"
   },
   {
    "duration": 86,
    "start_time": "2021-08-02T11:03:54.907Z"
   },
   {
    "duration": 1031,
    "start_time": "2021-08-02T11:04:00.692Z"
   },
   {
    "duration": 1012,
    "start_time": "2021-08-02T11:04:09.809Z"
   },
   {
    "duration": 1670,
    "start_time": "2021-08-02T11:04:18.992Z"
   },
   {
    "duration": 108,
    "start_time": "2021-08-02T11:04:20.665Z"
   },
   {
    "duration": 21,
    "start_time": "2021-08-02T11:04:20.777Z"
   },
   {
    "duration": 31,
    "start_time": "2021-08-02T11:04:20.802Z"
   },
   {
    "duration": 66,
    "start_time": "2021-08-02T11:04:20.836Z"
   },
   {
    "duration": 28,
    "start_time": "2021-08-02T11:04:20.906Z"
   },
   {
    "duration": 54,
    "start_time": "2021-08-02T11:04:20.961Z"
   },
   {
    "duration": 4,
    "start_time": "2021-08-02T11:04:21.018Z"
   },
   {
    "duration": 36,
    "start_time": "2021-08-02T11:04:21.026Z"
   },
   {
    "duration": 48,
    "start_time": "2021-08-02T11:04:21.065Z"
   },
   {
    "duration": 15,
    "start_time": "2021-08-02T11:04:21.116Z"
   },
   {
    "duration": 53,
    "start_time": "2021-08-02T11:04:21.133Z"
   },
   {
    "duration": 17,
    "start_time": "2021-08-02T11:04:21.189Z"
   },
   {
    "duration": 1166,
    "start_time": "2021-08-02T11:04:21.209Z"
   },
   {
    "duration": 20,
    "start_time": "2021-08-02T11:04:30.180Z"
   },
   {
    "duration": 21,
    "start_time": "2021-08-02T11:05:04.436Z"
   },
   {
    "duration": 20,
    "start_time": "2021-08-02T11:05:22.205Z"
   },
   {
    "duration": 16,
    "start_time": "2021-08-02T11:06:38.660Z"
   },
   {
    "duration": 24,
    "start_time": "2021-08-02T11:06:47.243Z"
   },
   {
    "duration": 235,
    "start_time": "2021-08-02T11:07:12.212Z"
   },
   {
    "duration": 22,
    "start_time": "2021-08-02T11:08:17.419Z"
   },
   {
    "duration": 16,
    "start_time": "2021-08-02T11:08:56.045Z"
   },
   {
    "duration": 23,
    "start_time": "2021-08-02T11:09:08.260Z"
   },
   {
    "duration": 296,
    "start_time": "2021-08-02T11:20:26.756Z"
   },
   {
    "duration": 1974,
    "start_time": "2021-08-02T11:20:33.326Z"
   },
   {
    "duration": 176,
    "start_time": "2021-08-02T11:20:35.303Z"
   },
   {
    "duration": 16,
    "start_time": "2021-08-02T11:20:35.482Z"
   },
   {
    "duration": 43,
    "start_time": "2021-08-02T11:20:35.501Z"
   },
   {
    "duration": 44,
    "start_time": "2021-08-02T11:20:35.547Z"
   },
   {
    "duration": 14,
    "start_time": "2021-08-02T11:20:35.593Z"
   },
   {
    "duration": 66,
    "start_time": "2021-08-02T11:20:35.609Z"
   },
   {
    "duration": 3,
    "start_time": "2021-08-02T11:20:35.678Z"
   },
   {
    "duration": 10,
    "start_time": "2021-08-02T11:20:35.686Z"
   },
   {
    "duration": 37,
    "start_time": "2021-08-02T11:20:35.700Z"
   },
   {
    "duration": 20,
    "start_time": "2021-08-02T11:20:35.764Z"
   },
   {
    "duration": 42,
    "start_time": "2021-08-02T11:20:35.787Z"
   },
   {
    "duration": 6,
    "start_time": "2021-08-02T11:20:35.863Z"
   },
   {
    "duration": 405,
    "start_time": "2021-08-02T11:20:35.872Z"
   },
   {
    "duration": 21,
    "start_time": "2021-08-02T11:20:42.648Z"
   },
   {
    "duration": 16,
    "start_time": "2021-08-02T11:20:54.739Z"
   },
   {
    "duration": 20,
    "start_time": "2021-08-02T11:21:04.888Z"
   },
   {
    "duration": 18,
    "start_time": "2021-08-02T11:25:27.294Z"
   },
   {
    "duration": 358,
    "start_time": "2021-08-02T11:25:49.672Z"
   },
   {
    "duration": 281,
    "start_time": "2021-08-02T11:25:55.887Z"
   },
   {
    "duration": 193,
    "start_time": "2021-08-02T11:26:05.760Z"
   },
   {
    "duration": 22,
    "start_time": "2021-08-02T11:26:08.960Z"
   },
   {
    "duration": 23,
    "start_time": "2021-08-02T11:27:02.441Z"
   },
   {
    "duration": 1076,
    "start_time": "2021-08-02T11:29:22.585Z"
   },
   {
    "duration": 22,
    "start_time": "2021-08-02T11:29:32.888Z"
   },
   {
    "duration": 14,
    "start_time": "2021-08-02T11:30:36.185Z"
   },
   {
    "duration": 18,
    "start_time": "2021-08-02T11:30:57.680Z"
   },
   {
    "duration": 17,
    "start_time": "2021-08-02T11:31:25.647Z"
   },
   {
    "duration": 25,
    "start_time": "2021-08-02T11:32:17.511Z"
   },
   {
    "duration": 113,
    "start_time": "2021-08-02T11:32:49.027Z"
   },
   {
    "duration": 268,
    "start_time": "2021-08-02T11:32:53.474Z"
   },
   {
    "duration": 27,
    "start_time": "2021-08-02T11:33:03.315Z"
   },
   {
    "duration": 27,
    "start_time": "2021-08-02T11:33:12.696Z"
   },
   {
    "duration": 61,
    "start_time": "2021-08-02T11:33:24.552Z"
   },
   {
    "duration": 21,
    "start_time": "2021-08-02T11:33:33.743Z"
   },
   {
    "duration": 20,
    "start_time": "2021-08-02T11:33:43.694Z"
   },
   {
    "duration": 32,
    "start_time": "2021-08-02T11:36:31.183Z"
   },
   {
    "duration": 26,
    "start_time": "2021-08-02T11:36:38.568Z"
   },
   {
    "duration": 288,
    "start_time": "2021-08-02T11:40:52.760Z"
   },
   {
    "duration": 18,
    "start_time": "2021-08-02T11:41:00.944Z"
   },
   {
    "duration": 79,
    "start_time": "2021-08-02T11:48:45.999Z"
   },
   {
    "duration": 307,
    "start_time": "2021-08-02T11:49:25.162Z"
   },
   {
    "duration": 184,
    "start_time": "2021-08-02T11:49:42.703Z"
   },
   {
    "duration": 18,
    "start_time": "2021-08-02T11:51:18.062Z"
   },
   {
    "duration": 10,
    "start_time": "2021-08-02T11:51:29.015Z"
   },
   {
    "duration": 23,
    "start_time": "2021-08-02T11:51:38.728Z"
   },
   {
    "duration": 19,
    "start_time": "2021-08-02T11:52:22.632Z"
   },
   {
    "duration": 280,
    "start_time": "2021-08-02T11:54:02.790Z"
   },
   {
    "duration": 292,
    "start_time": "2021-08-02T11:54:20.046Z"
   },
   {
    "duration": 289,
    "start_time": "2021-08-02T11:54:26.927Z"
   },
   {
    "duration": 1584,
    "start_time": "2021-08-02T11:54:35.069Z"
   },
   {
    "duration": 81,
    "start_time": "2021-08-02T11:54:36.656Z"
   },
   {
    "duration": 23,
    "start_time": "2021-08-02T11:54:36.740Z"
   },
   {
    "duration": 44,
    "start_time": "2021-08-02T11:54:36.766Z"
   },
   {
    "duration": 47,
    "start_time": "2021-08-02T11:54:36.812Z"
   },
   {
    "duration": 13,
    "start_time": "2021-08-02T11:54:36.862Z"
   },
   {
    "duration": 51,
    "start_time": "2021-08-02T11:54:36.878Z"
   },
   {
    "duration": 3,
    "start_time": "2021-08-02T11:54:36.931Z"
   },
   {
    "duration": 35,
    "start_time": "2021-08-02T11:54:36.938Z"
   },
   {
    "duration": 52,
    "start_time": "2021-08-02T11:54:36.975Z"
   },
   {
    "duration": 26,
    "start_time": "2021-08-02T11:54:37.029Z"
   },
   {
    "duration": 66,
    "start_time": "2021-08-02T11:54:37.058Z"
   },
   {
    "duration": 47,
    "start_time": "2021-08-02T11:54:37.128Z"
   },
   {
    "duration": 535,
    "start_time": "2021-08-02T11:54:37.178Z"
   },
   {
    "duration": -111,
    "start_time": "2021-08-02T11:54:37.826Z"
   },
   {
    "duration": 20,
    "start_time": "2021-08-02T11:54:47.809Z"
   },
   {
    "duration": 36,
    "start_time": "2021-08-02T11:55:20.242Z"
   },
   {
    "duration": 48,
    "start_time": "2021-08-02T11:55:54.432Z"
   },
   {
    "duration": 66,
    "start_time": "2021-08-02T11:56:11.684Z"
   },
   {
    "duration": 46,
    "start_time": "2021-08-02T11:56:22.849Z"
   },
   {
    "duration": 47,
    "start_time": "2021-08-02T11:56:40.451Z"
   },
   {
    "duration": 50,
    "start_time": "2021-08-02T11:57:00.016Z"
   },
   {
    "duration": 19,
    "start_time": "2021-08-02T11:57:04.152Z"
   },
   {
    "duration": 52,
    "start_time": "2021-08-02T11:57:04.552Z"
   },
   {
    "duration": 35,
    "start_time": "2021-08-02T12:03:39.632Z"
   },
   {
    "duration": 27,
    "start_time": "2021-08-02T12:04:38.177Z"
   },
   {
    "duration": 122,
    "start_time": "2021-08-02T12:04:54.753Z"
   },
   {
    "duration": 23,
    "start_time": "2021-08-02T12:05:02.675Z"
   },
   {
    "duration": 25,
    "start_time": "2021-08-02T12:05:15.481Z"
   },
   {
    "duration": 35,
    "start_time": "2021-08-02T12:05:23.561Z"
   },
   {
    "duration": 36,
    "start_time": "2021-08-02T12:05:35.897Z"
   },
   {
    "duration": 23,
    "start_time": "2021-08-02T12:06:18.522Z"
   },
   {
    "duration": 21,
    "start_time": "2021-08-02T12:06:42.864Z"
   },
   {
    "duration": 267,
    "start_time": "2021-08-02T12:20:39.737Z"
   },
   {
    "duration": 1506,
    "start_time": "2021-08-02T12:20:58.273Z"
   },
   {
    "duration": 77,
    "start_time": "2021-08-02T12:20:59.781Z"
   },
   {
    "duration": 14,
    "start_time": "2021-08-02T12:20:59.861Z"
   },
   {
    "duration": 22,
    "start_time": "2021-08-02T12:20:59.878Z"
   },
   {
    "duration": 32,
    "start_time": "2021-08-02T12:20:59.903Z"
   },
   {
    "duration": 17,
    "start_time": "2021-08-02T12:20:59.963Z"
   },
   {
    "duration": 40,
    "start_time": "2021-08-02T12:20:59.983Z"
   },
   {
    "duration": 37,
    "start_time": "2021-08-02T12:21:00.026Z"
   },
   {
    "duration": 4,
    "start_time": "2021-08-02T12:21:00.069Z"
   },
   {
    "duration": 38,
    "start_time": "2021-08-02T12:21:00.077Z"
   },
   {
    "duration": 362,
    "start_time": "2021-08-02T12:21:00.118Z"
   },
   {
    "duration": -45,
    "start_time": "2021-08-02T12:21:00.528Z"
   },
   {
    "duration": -47,
    "start_time": "2021-08-02T12:21:00.532Z"
   },
   {
    "duration": -51,
    "start_time": "2021-08-02T12:21:00.538Z"
   },
   {
    "duration": -52,
    "start_time": "2021-08-02T12:21:00.541Z"
   },
   {
    "duration": -58,
    "start_time": "2021-08-02T12:21:00.549Z"
   },
   {
    "duration": 238,
    "start_time": "2021-08-02T12:21:22.265Z"
   },
   {
    "duration": 287,
    "start_time": "2021-08-02T12:21:29.220Z"
   },
   {
    "duration": 336,
    "start_time": "2021-08-02T12:21:42.882Z"
   },
   {
    "duration": 87,
    "start_time": "2021-08-02T12:21:48.669Z"
   },
   {
    "duration": 1163,
    "start_time": "2021-08-02T12:21:55.505Z"
   },
   {
    "duration": 341,
    "start_time": "2021-08-02T12:35:07.713Z"
   },
   {
    "duration": 288,
    "start_time": "2021-08-02T12:35:15.529Z"
   },
   {
    "duration": 286,
    "start_time": "2021-08-02T12:35:19.336Z"
   },
   {
    "duration": 279,
    "start_time": "2021-08-02T12:38:09.128Z"
   },
   {
    "duration": 24,
    "start_time": "2021-08-02T12:38:19.136Z"
   },
   {
    "duration": 39,
    "start_time": "2021-08-02T12:38:19.736Z"
   },
   {
    "duration": 32,
    "start_time": "2021-08-02T12:38:53.545Z"
   },
   {
    "duration": 33,
    "start_time": "2021-08-02T12:39:01.761Z"
   },
   {
    "duration": 281,
    "start_time": "2021-08-02T12:45:48.330Z"
   },
   {
    "duration": 268,
    "start_time": "2021-08-02T12:46:08.775Z"
   },
   {
    "duration": 1465,
    "start_time": "2021-08-02T12:46:15.183Z"
   },
   {
    "duration": 78,
    "start_time": "2021-08-02T12:46:16.651Z"
   },
   {
    "duration": 15,
    "start_time": "2021-08-02T12:46:16.732Z"
   },
   {
    "duration": 20,
    "start_time": "2021-08-02T12:46:16.763Z"
   },
   {
    "duration": 49,
    "start_time": "2021-08-02T12:46:16.786Z"
   },
   {
    "duration": 32,
    "start_time": "2021-08-02T12:46:16.839Z"
   },
   {
    "duration": 37,
    "start_time": "2021-08-02T12:46:16.875Z"
   },
   {
    "duration": 3,
    "start_time": "2021-08-02T12:46:16.915Z"
   },
   {
    "duration": 14,
    "start_time": "2021-08-02T12:46:16.920Z"
   },
   {
    "duration": 49,
    "start_time": "2021-08-02T12:46:16.937Z"
   },
   {
    "duration": 511,
    "start_time": "2021-08-02T12:46:16.989Z"
   },
   {
    "duration": -24,
    "start_time": "2021-08-02T12:46:17.526Z"
   },
   {
    "duration": -64,
    "start_time": "2021-08-02T12:46:17.568Z"
   },
   {
    "duration": -64,
    "start_time": "2021-08-02T12:46:17.570Z"
   },
   {
    "duration": -64,
    "start_time": "2021-08-02T12:46:17.571Z"
   },
   {
    "duration": -63,
    "start_time": "2021-08-02T12:46:17.572Z"
   },
   {
    "duration": 302,
    "start_time": "2021-08-02T12:46:25.110Z"
   },
   {
    "duration": 290,
    "start_time": "2021-08-02T12:46:51.917Z"
   },
   {
    "duration": 1483,
    "start_time": "2021-08-02T12:47:01.748Z"
   },
   {
    "duration": 79,
    "start_time": "2021-08-02T12:47:03.233Z"
   },
   {
    "duration": 17,
    "start_time": "2021-08-02T12:47:03.317Z"
   },
   {
    "duration": 38,
    "start_time": "2021-08-02T12:47:03.337Z"
   },
   {
    "duration": 29,
    "start_time": "2021-08-02T12:47:03.378Z"
   },
   {
    "duration": 42,
    "start_time": "2021-08-02T12:47:03.409Z"
   },
   {
    "duration": 34,
    "start_time": "2021-08-02T12:47:03.463Z"
   },
   {
    "duration": 3,
    "start_time": "2021-08-02T12:47:03.500Z"
   },
   {
    "duration": 16,
    "start_time": "2021-08-02T12:47:03.507Z"
   },
   {
    "duration": 52,
    "start_time": "2021-08-02T12:47:03.525Z"
   },
   {
    "duration": 433,
    "start_time": "2021-08-02T12:47:03.580Z"
   },
   {
    "duration": -29,
    "start_time": "2021-08-02T12:47:04.044Z"
   },
   {
    "duration": -38,
    "start_time": "2021-08-02T12:47:04.055Z"
   },
   {
    "duration": -40,
    "start_time": "2021-08-02T12:47:04.058Z"
   },
   {
    "duration": -41,
    "start_time": "2021-08-02T12:47:04.060Z"
   },
   {
    "duration": -41,
    "start_time": "2021-08-02T12:47:04.061Z"
   },
   {
    "duration": 1104,
    "start_time": "2021-08-02T12:47:15.806Z"
   },
   {
    "duration": 13,
    "start_time": "2021-08-02T12:47:33.478Z"
   },
   {
    "duration": 15,
    "start_time": "2021-08-02T12:47:36.790Z"
   },
   {
    "duration": 40,
    "start_time": "2021-08-02T12:47:39.174Z"
   },
   {
    "duration": 14,
    "start_time": "2021-08-02T12:48:15.726Z"
   },
   {
    "duration": 40,
    "start_time": "2021-08-02T12:48:22.510Z"
   },
   {
    "duration": 300,
    "start_time": "2021-08-02T12:48:48.279Z"
   },
   {
    "duration": 38,
    "start_time": "2021-08-02T12:48:56.870Z"
   },
   {
    "duration": 39,
    "start_time": "2021-08-02T12:49:22.575Z"
   },
   {
    "duration": 37,
    "start_time": "2021-08-02T12:49:26.870Z"
   },
   {
    "duration": 37,
    "start_time": "2021-08-02T12:49:29.687Z"
   },
   {
    "duration": 1470,
    "start_time": "2021-08-02T12:49:34.274Z"
   },
   {
    "duration": 77,
    "start_time": "2021-08-02T12:49:35.747Z"
   },
   {
    "duration": 15,
    "start_time": "2021-08-02T12:49:35.827Z"
   },
   {
    "duration": 20,
    "start_time": "2021-08-02T12:49:35.863Z"
   },
   {
    "duration": 34,
    "start_time": "2021-08-02T12:49:35.886Z"
   },
   {
    "duration": 40,
    "start_time": "2021-08-02T12:49:35.922Z"
   },
   {
    "duration": 38,
    "start_time": "2021-08-02T12:49:35.965Z"
   },
   {
    "duration": 4,
    "start_time": "2021-08-02T12:49:36.009Z"
   },
   {
    "duration": 8,
    "start_time": "2021-08-02T12:49:36.016Z"
   },
   {
    "duration": 66,
    "start_time": "2021-08-02T12:49:36.027Z"
   },
   {
    "duration": 68,
    "start_time": "2021-08-02T12:49:36.096Z"
   },
   {
    "duration": 15,
    "start_time": "2021-08-02T12:49:36.166Z"
   },
   {
    "duration": 46,
    "start_time": "2021-08-02T12:49:36.184Z"
   },
   {
    "duration": 32,
    "start_time": "2021-08-02T12:49:36.234Z"
   },
   {
    "duration": 24,
    "start_time": "2021-08-02T12:49:36.269Z"
   },
   {
    "duration": 66,
    "start_time": "2021-08-02T12:49:36.296Z"
   },
   {
    "duration": 37,
    "start_time": "2021-08-02T12:50:55.094Z"
   },
   {
    "duration": 46,
    "start_time": "2021-08-02T12:51:28.806Z"
   },
   {
    "duration": 47,
    "start_time": "2021-08-02T12:51:50.034Z"
   },
   {
    "duration": 19,
    "start_time": "2021-08-02T12:51:54.225Z"
   },
   {
    "duration": 39,
    "start_time": "2021-08-02T12:52:07.500Z"
   },
   {
    "duration": 1397,
    "start_time": "2021-08-02T12:52:52.664Z"
   },
   {
    "duration": 10,
    "start_time": "2021-08-02T12:53:21.262Z"
   },
   {
    "duration": 70,
    "start_time": "2021-08-02T12:53:26.237Z"
   },
   {
    "duration": 44,
    "start_time": "2021-08-02T12:55:56.386Z"
   },
   {
    "duration": 44,
    "start_time": "2021-08-02T12:56:00.385Z"
   },
   {
    "duration": 51,
    "start_time": "2021-08-02T12:57:08.394Z"
   },
   {
    "duration": 51,
    "start_time": "2021-08-02T12:57:13.257Z"
   },
   {
    "duration": 300,
    "start_time": "2021-08-02T12:57:32.698Z"
   },
   {
    "duration": 283,
    "start_time": "2021-08-02T12:57:41.420Z"
   },
   {
    "duration": 317,
    "start_time": "2021-08-02T12:57:43.756Z"
   },
   {
    "duration": 1689,
    "start_time": "2021-08-02T12:57:47.590Z"
   },
   {
    "duration": 80,
    "start_time": "2021-08-02T12:57:49.282Z"
   },
   {
    "duration": 14,
    "start_time": "2021-08-02T12:57:49.365Z"
   },
   {
    "duration": 19,
    "start_time": "2021-08-02T12:57:49.382Z"
   },
   {
    "duration": 63,
    "start_time": "2021-08-02T12:57:49.403Z"
   },
   {
    "duration": 17,
    "start_time": "2021-08-02T12:57:49.468Z"
   },
   {
    "duration": 38,
    "start_time": "2021-08-02T12:57:49.488Z"
   },
   {
    "duration": 3,
    "start_time": "2021-08-02T12:57:49.528Z"
   },
   {
    "duration": 9,
    "start_time": "2021-08-02T12:57:49.564Z"
   },
   {
    "duration": 26,
    "start_time": "2021-08-02T12:57:49.576Z"
   },
   {
    "duration": 67,
    "start_time": "2021-08-02T12:57:49.604Z"
   },
   {
    "duration": 81,
    "start_time": "2021-08-02T12:57:49.674Z"
   },
   {
    "duration": 13,
    "start_time": "2021-08-02T12:57:49.758Z"
   },
   {
    "duration": 29,
    "start_time": "2021-08-02T12:57:49.774Z"
   },
   {
    "duration": 26,
    "start_time": "2021-08-02T12:57:49.805Z"
   },
   {
    "duration": 45,
    "start_time": "2021-08-02T12:57:49.834Z"
   },
   {
    "duration": 36,
    "start_time": "2021-08-02T12:57:49.881Z"
   },
   {
    "duration": 383,
    "start_time": "2021-08-02T12:58:55.415Z"
   },
   {
    "duration": 280,
    "start_time": "2021-08-02T12:59:28.922Z"
   },
   {
    "duration": 51,
    "start_time": "2021-08-02T12:59:34.091Z"
   },
   {
    "duration": 55,
    "start_time": "2021-08-02T13:00:30.263Z"
   },
   {
    "duration": 53,
    "start_time": "2021-08-02T13:00:35.066Z"
   },
   {
    "duration": 991,
    "start_time": "2021-08-02T13:03:13.359Z"
   },
   {
    "duration": 108,
    "start_time": "2021-08-02T13:03:42.460Z"
   },
   {
    "duration": 78,
    "start_time": "2021-08-02T13:03:48.196Z"
   },
   {
    "duration": 63,
    "start_time": "2021-08-02T13:05:10.474Z"
   },
   {
    "duration": 247,
    "start_time": "2021-08-02T13:06:00.959Z"
   },
   {
    "duration": 50,
    "start_time": "2021-08-02T13:06:11.066Z"
   },
   {
    "duration": 54,
    "start_time": "2021-08-02T13:07:03.864Z"
   },
   {
    "duration": 315,
    "start_time": "2021-08-02T13:07:17.375Z"
   },
   {
    "duration": 50,
    "start_time": "2021-08-02T13:07:25.491Z"
   },
   {
    "duration": 94,
    "start_time": "2021-08-02T13:09:03.283Z"
   },
   {
    "duration": 106,
    "start_time": "2021-08-02T13:09:11.330Z"
   },
   {
    "duration": 330,
    "start_time": "2021-08-02T13:14:36.853Z"
   },
   {
    "duration": 52,
    "start_time": "2021-08-02T13:14:50.266Z"
   },
   {
    "duration": 66,
    "start_time": "2021-08-02T13:15:55.496Z"
   },
   {
    "duration": 73,
    "start_time": "2021-08-02T13:16:51.958Z"
   },
   {
    "duration": 18,
    "start_time": "2021-08-02T13:17:30.026Z"
   },
   {
    "duration": 80,
    "start_time": "2021-08-02T13:18:05.487Z"
   },
   {
    "duration": 7,
    "start_time": "2021-08-02T13:18:12.410Z"
   },
   {
    "duration": 20,
    "start_time": "2021-08-02T13:18:17.626Z"
   },
   {
    "duration": 18,
    "start_time": "2021-08-02T13:18:53.353Z"
   },
   {
    "duration": 1458,
    "start_time": "2021-08-02T13:18:57.983Z"
   },
   {
    "duration": 77,
    "start_time": "2021-08-02T13:18:59.443Z"
   },
   {
    "duration": 20,
    "start_time": "2021-08-02T13:18:59.525Z"
   },
   {
    "duration": 34,
    "start_time": "2021-08-02T13:18:59.549Z"
   },
   {
    "duration": 44,
    "start_time": "2021-08-02T13:18:59.586Z"
   },
   {
    "duration": 15,
    "start_time": "2021-08-02T13:18:59.662Z"
   },
   {
    "duration": 41,
    "start_time": "2021-08-02T13:18:59.679Z"
   },
   {
    "duration": 3,
    "start_time": "2021-08-02T13:18:59.723Z"
   },
   {
    "duration": 5,
    "start_time": "2021-08-02T13:18:59.766Z"
   },
   {
    "duration": 29,
    "start_time": "2021-08-02T13:18:59.774Z"
   },
   {
    "duration": 57,
    "start_time": "2021-08-02T13:18:59.806Z"
   },
   {
    "duration": 36,
    "start_time": "2021-08-02T13:18:59.866Z"
   },
   {
    "duration": 177,
    "start_time": "2021-08-02T13:18:59.905Z"
   },
   {
    "duration": 13,
    "start_time": "2021-08-02T13:19:00.084Z"
   },
   {
    "duration": 37,
    "start_time": "2021-08-02T13:19:00.100Z"
   },
   {
    "duration": 24,
    "start_time": "2021-08-02T13:19:00.139Z"
   },
   {
    "duration": 41,
    "start_time": "2021-08-02T13:19:00.166Z"
   },
   {
    "duration": 54,
    "start_time": "2021-08-02T13:19:00.210Z"
   },
   {
    "duration": 32,
    "start_time": "2021-08-02T13:19:11.733Z"
   },
   {
    "duration": 24,
    "start_time": "2021-08-02T13:19:18.067Z"
   },
   {
    "duration": 1432,
    "start_time": "2021-08-02T13:19:22.201Z"
   },
   {
    "duration": 76,
    "start_time": "2021-08-02T13:19:23.637Z"
   },
   {
    "duration": 14,
    "start_time": "2021-08-02T13:19:23.716Z"
   },
   {
    "duration": 40,
    "start_time": "2021-08-02T13:19:23.733Z"
   },
   {
    "duration": 40,
    "start_time": "2021-08-02T13:19:23.776Z"
   },
   {
    "duration": 22,
    "start_time": "2021-08-02T13:19:23.819Z"
   },
   {
    "duration": 55,
    "start_time": "2021-08-02T13:19:23.844Z"
   },
   {
    "duration": 3,
    "start_time": "2021-08-02T13:19:23.903Z"
   },
   {
    "duration": 15,
    "start_time": "2021-08-02T13:19:23.909Z"
   },
   {
    "duration": 59,
    "start_time": "2021-08-02T13:19:23.927Z"
   },
   {
    "duration": 25,
    "start_time": "2021-08-02T13:19:23.989Z"
   },
   {
    "duration": 54,
    "start_time": "2021-08-02T13:19:24.017Z"
   },
   {
    "duration": 95,
    "start_time": "2021-08-02T13:19:24.073Z"
   },
   {
    "duration": 15,
    "start_time": "2021-08-02T13:19:24.170Z"
   },
   {
    "duration": 29,
    "start_time": "2021-08-02T13:19:24.187Z"
   },
   {
    "duration": 8,
    "start_time": "2021-08-02T13:19:24.218Z"
   },
   {
    "duration": 20,
    "start_time": "2021-08-02T13:19:24.261Z"
   },
   {
    "duration": 33,
    "start_time": "2021-08-02T13:19:24.283Z"
   },
   {
    "duration": 1537,
    "start_time": "2021-08-02T13:19:32.661Z"
   },
   {
    "duration": 106,
    "start_time": "2021-08-02T13:19:34.201Z"
   },
   {
    "duration": 18,
    "start_time": "2021-08-02T13:19:34.310Z"
   },
   {
    "duration": 42,
    "start_time": "2021-08-02T13:19:34.331Z"
   },
   {
    "duration": 34,
    "start_time": "2021-08-02T13:19:34.375Z"
   },
   {
    "duration": 14,
    "start_time": "2021-08-02T13:19:34.412Z"
   },
   {
    "duration": 65,
    "start_time": "2021-08-02T13:19:34.430Z"
   },
   {
    "duration": 3,
    "start_time": "2021-08-02T13:19:34.498Z"
   },
   {
    "duration": 4,
    "start_time": "2021-08-02T13:19:34.505Z"
   },
   {
    "duration": 64,
    "start_time": "2021-08-02T13:19:34.512Z"
   },
   {
    "duration": 23,
    "start_time": "2021-08-02T13:19:34.579Z"
   },
   {
    "duration": 59,
    "start_time": "2021-08-02T13:19:34.605Z"
   },
   {
    "duration": 75,
    "start_time": "2021-08-02T13:19:34.666Z"
   },
   {
    "duration": 29,
    "start_time": "2021-08-02T13:19:34.743Z"
   },
   {
    "duration": 28,
    "start_time": "2021-08-02T13:19:34.774Z"
   },
   {
    "duration": 8,
    "start_time": "2021-08-02T13:19:34.804Z"
   },
   {
    "duration": 63,
    "start_time": "2021-08-02T13:19:34.814Z"
   },
   {
    "duration": 32,
    "start_time": "2021-08-02T13:19:34.879Z"
   },
   {
    "duration": 20,
    "start_time": "2021-08-02T13:19:38.756Z"
   },
   {
    "duration": 1875,
    "start_time": "2021-08-02T13:19:47.772Z"
   },
   {
    "duration": 111,
    "start_time": "2021-08-02T13:19:49.650Z"
   },
   {
    "duration": 24,
    "start_time": "2021-08-02T13:19:49.766Z"
   },
   {
    "duration": 30,
    "start_time": "2021-08-02T13:19:49.794Z"
   },
   {
    "duration": 66,
    "start_time": "2021-08-02T13:19:49.827Z"
   },
   {
    "duration": 23,
    "start_time": "2021-08-02T13:19:49.897Z"
   },
   {
    "duration": 74,
    "start_time": "2021-08-02T13:19:49.923Z"
   },
   {
    "duration": 3,
    "start_time": "2021-08-02T13:19:50.000Z"
   },
   {
    "duration": 9,
    "start_time": "2021-08-02T13:19:50.006Z"
   },
   {
    "duration": 53,
    "start_time": "2021-08-02T13:19:50.018Z"
   },
   {
    "duration": 23,
    "start_time": "2021-08-02T13:19:50.073Z"
   },
   {
    "duration": 30,
    "start_time": "2021-08-02T13:19:50.099Z"
   },
   {
    "duration": 104,
    "start_time": "2021-08-02T13:19:50.131Z"
   },
   {
    "duration": 32,
    "start_time": "2021-08-02T13:19:50.238Z"
   },
   {
    "duration": 41,
    "start_time": "2021-08-02T13:19:50.272Z"
   },
   {
    "duration": 7,
    "start_time": "2021-08-02T13:19:50.316Z"
   },
   {
    "duration": 52,
    "start_time": "2021-08-02T13:19:50.325Z"
   },
   {
    "duration": 33,
    "start_time": "2021-08-02T13:19:50.379Z"
   },
   {
    "duration": 25,
    "start_time": "2021-08-02T13:20:36.683Z"
   },
   {
    "duration": 1484,
    "start_time": "2021-08-02T13:20:42.556Z"
   },
   {
    "duration": 75,
    "start_time": "2021-08-02T13:20:44.043Z"
   },
   {
    "duration": 18,
    "start_time": "2021-08-02T13:20:44.120Z"
   },
   {
    "duration": 35,
    "start_time": "2021-08-02T13:20:44.141Z"
   },
   {
    "duration": 48,
    "start_time": "2021-08-02T13:20:44.179Z"
   },
   {
    "duration": 54,
    "start_time": "2021-08-02T13:20:44.230Z"
   },
   {
    "duration": 46,
    "start_time": "2021-08-02T13:20:44.287Z"
   },
   {
    "duration": 3,
    "start_time": "2021-08-02T13:20:44.337Z"
   },
   {
    "duration": 20,
    "start_time": "2021-08-02T13:20:44.343Z"
   },
   {
    "duration": 41,
    "start_time": "2021-08-02T13:20:44.365Z"
   },
   {
    "duration": 21,
    "start_time": "2021-08-02T13:20:44.408Z"
   },
   {
    "duration": 38,
    "start_time": "2021-08-02T13:20:44.431Z"
   },
   {
    "duration": 38,
    "start_time": "2021-08-02T13:20:44.471Z"
   },
   {
    "duration": 94,
    "start_time": "2021-08-02T13:20:44.511Z"
   },
   {
    "duration": 16,
    "start_time": "2021-08-02T13:20:44.608Z"
   },
   {
    "duration": 57,
    "start_time": "2021-08-02T13:20:44.627Z"
   },
   {
    "duration": 9,
    "start_time": "2021-08-02T13:20:44.687Z"
   },
   {
    "duration": 25,
    "start_time": "2021-08-02T13:20:44.699Z"
   },
   {
    "duration": 63,
    "start_time": "2021-08-02T13:20:44.726Z"
   },
   {
    "duration": 72,
    "start_time": "2021-08-02T13:21:22.235Z"
   },
   {
    "duration": 29,
    "start_time": "2021-08-02T13:21:41.455Z"
   },
   {
    "duration": 29,
    "start_time": "2021-08-02T13:22:05.878Z"
   },
   {
    "duration": 1454,
    "start_time": "2021-08-02T13:22:11.315Z"
   },
   {
    "duration": 75,
    "start_time": "2021-08-02T13:22:12.772Z"
   },
   {
    "duration": 23,
    "start_time": "2021-08-02T13:22:12.850Z"
   },
   {
    "duration": 23,
    "start_time": "2021-08-02T13:22:12.876Z"
   },
   {
    "duration": 62,
    "start_time": "2021-08-02T13:22:12.901Z"
   },
   {
    "duration": 13,
    "start_time": "2021-08-02T13:22:12.966Z"
   },
   {
    "duration": 41,
    "start_time": "2021-08-02T13:22:12.982Z"
   },
   {
    "duration": 38,
    "start_time": "2021-08-02T13:22:13.026Z"
   },
   {
    "duration": 12,
    "start_time": "2021-08-02T13:22:13.069Z"
   },
   {
    "duration": 30,
    "start_time": "2021-08-02T13:22:13.084Z"
   },
   {
    "duration": 57,
    "start_time": "2021-08-02T13:22:13.117Z"
   },
   {
    "duration": 34,
    "start_time": "2021-08-02T13:22:13.176Z"
   },
   {
    "duration": 53,
    "start_time": "2021-08-02T13:22:13.212Z"
   },
   {
    "duration": 72,
    "start_time": "2021-08-02T13:22:13.268Z"
   },
   {
    "duration": 15,
    "start_time": "2021-08-02T13:22:13.363Z"
   },
   {
    "duration": 30,
    "start_time": "2021-08-02T13:22:13.380Z"
   },
   {
    "duration": 10,
    "start_time": "2021-08-02T13:22:13.412Z"
   },
   {
    "duration": 65,
    "start_time": "2021-08-02T13:22:13.425Z"
   },
   {
    "duration": 6,
    "start_time": "2021-08-02T13:57:05.073Z"
   },
   {
    "duration": 14,
    "start_time": "2021-08-02T13:57:08.436Z"
   },
   {
    "duration": 6983,
    "start_time": "2021-08-02T14:00:21.721Z"
   },
   {
    "duration": 1934,
    "start_time": "2021-08-02T14:00:35.375Z"
   },
   {
    "duration": 106,
    "start_time": "2021-08-02T14:00:37.313Z"
   },
   {
    "duration": 16,
    "start_time": "2021-08-02T14:00:37.423Z"
   },
   {
    "duration": 36,
    "start_time": "2021-08-02T14:00:37.442Z"
   },
   {
    "duration": 34,
    "start_time": "2021-08-02T14:00:37.481Z"
   },
   {
    "duration": 55,
    "start_time": "2021-08-02T14:00:37.519Z"
   },
   {
    "duration": 16,
    "start_time": "2021-08-02T14:00:37.577Z"
   },
   {
    "duration": 37,
    "start_time": "2021-08-02T14:00:37.596Z"
   },
   {
    "duration": 28,
    "start_time": "2021-08-02T14:00:37.635Z"
   },
   {
    "duration": 11,
    "start_time": "2021-08-02T14:00:37.665Z"
   },
   {
    "duration": 40,
    "start_time": "2021-08-02T14:00:37.679Z"
   },
   {
    "duration": 20,
    "start_time": "2021-08-02T14:00:37.721Z"
   },
   {
    "duration": 51,
    "start_time": "2021-08-02T14:00:37.744Z"
   },
   {
    "duration": 23,
    "start_time": "2021-08-02T14:00:37.797Z"
   },
   {
    "duration": 96,
    "start_time": "2021-08-02T14:00:37.822Z"
   },
   {
    "duration": 13,
    "start_time": "2021-08-02T14:00:37.921Z"
   },
   {
    "duration": 27,
    "start_time": "2021-08-02T14:00:37.937Z"
   },
   {
    "duration": 30,
    "start_time": "2021-08-02T14:01:54.626Z"
   },
   {
    "duration": 87,
    "start_time": "2021-08-02T14:02:03.330Z"
   },
   {
    "duration": 31,
    "start_time": "2021-08-02T14:02:09.273Z"
   },
   {
    "duration": 394,
    "start_time": "2021-08-02T16:49:16.464Z"
   },
   {
    "duration": 1466,
    "start_time": "2021-08-02T16:49:22.801Z"
   },
   {
    "duration": 77,
    "start_time": "2021-08-02T16:49:24.269Z"
   },
   {
    "duration": 13,
    "start_time": "2021-08-02T16:49:24.349Z"
   },
   {
    "duration": 41,
    "start_time": "2021-08-02T16:49:24.366Z"
   },
   {
    "duration": 42,
    "start_time": "2021-08-02T16:49:24.410Z"
   },
   {
    "duration": 49,
    "start_time": "2021-08-02T16:49:24.455Z"
   },
   {
    "duration": 34,
    "start_time": "2021-08-02T16:49:24.506Z"
   },
   {
    "duration": 43,
    "start_time": "2021-08-02T16:49:24.543Z"
   },
   {
    "duration": 12,
    "start_time": "2021-08-02T16:49:24.589Z"
   },
   {
    "duration": 13,
    "start_time": "2021-08-02T16:49:24.604Z"
   },
   {
    "duration": 34,
    "start_time": "2021-08-02T16:49:24.619Z"
   },
   {
    "duration": 45,
    "start_time": "2021-08-02T16:49:24.657Z"
   },
   {
    "duration": 33,
    "start_time": "2021-08-02T16:49:24.704Z"
   },
   {
    "duration": 64,
    "start_time": "2021-08-02T16:49:24.739Z"
   },
   {
    "duration": 77,
    "start_time": "2021-08-02T16:49:24.806Z"
   },
   {
    "duration": 42,
    "start_time": "2021-08-02T16:49:24.886Z"
   },
   {
    "duration": 23,
    "start_time": "2021-08-02T16:49:24.931Z"
   },
   {
    "duration": 14,
    "start_time": "2021-08-02T16:49:24.957Z"
   },
   {
    "duration": 6,
    "start_time": "2021-08-02T16:49:35.614Z"
   },
   {
    "duration": 10,
    "start_time": "2021-08-02T16:50:03.672Z"
   },
   {
    "duration": 30,
    "start_time": "2021-08-02T16:51:05.804Z"
   },
   {
    "duration": 489,
    "start_time": "2021-08-02T16:51:47.681Z"
   },
   {
    "duration": 33,
    "start_time": "2021-08-02T16:52:02.855Z"
   },
   {
    "duration": 7,
    "start_time": "2021-08-02T16:52:35.513Z"
   },
   {
    "duration": 23,
    "start_time": "2021-08-02T16:53:25.554Z"
   },
   {
    "duration": 8,
    "start_time": "2021-08-02T16:53:26.227Z"
   },
   {
    "duration": 24,
    "start_time": "2021-08-02T16:53:33.510Z"
   },
   {
    "duration": 7,
    "start_time": "2021-08-02T16:53:34.087Z"
   },
   {
    "duration": 18,
    "start_time": "2021-08-02T16:54:19.537Z"
   },
   {
    "duration": 1572,
    "start_time": "2021-08-02T17:01:26.376Z"
   },
   {
    "duration": 75,
    "start_time": "2021-08-02T17:01:27.951Z"
   },
   {
    "duration": 14,
    "start_time": "2021-08-02T17:01:28.029Z"
   },
   {
    "duration": 24,
    "start_time": "2021-08-02T17:01:28.046Z"
   },
   {
    "duration": 41,
    "start_time": "2021-08-02T17:01:28.072Z"
   },
   {
    "duration": 36,
    "start_time": "2021-08-02T17:01:28.116Z"
   },
   {
    "duration": 19,
    "start_time": "2021-08-02T17:01:28.155Z"
   },
   {
    "duration": 58,
    "start_time": "2021-08-02T17:01:28.177Z"
   },
   {
    "duration": 3,
    "start_time": "2021-08-02T17:01:28.239Z"
   },
   {
    "duration": 13,
    "start_time": "2021-08-02T17:01:28.245Z"
   },
   {
    "duration": 44,
    "start_time": "2021-08-02T17:01:28.261Z"
   },
   {
    "duration": 10,
    "start_time": "2021-08-02T17:01:28.308Z"
   },
   {
    "duration": 31,
    "start_time": "2021-08-02T17:01:28.321Z"
   },
   {
    "duration": 57,
    "start_time": "2021-08-02T17:01:28.355Z"
   },
   {
    "duration": 28,
    "start_time": "2021-08-02T17:01:28.414Z"
   },
   {
    "duration": 83,
    "start_time": "2021-08-02T17:01:28.445Z"
   },
   {
    "duration": 33,
    "start_time": "2021-08-02T17:01:28.531Z"
   },
   {
    "duration": 38,
    "start_time": "2021-08-02T17:01:28.566Z"
   },
   {
    "duration": 10,
    "start_time": "2021-08-02T17:01:28.606Z"
   },
   {
    "duration": 25,
    "start_time": "2021-08-02T17:02:02.327Z"
   },
   {
    "duration": 7,
    "start_time": "2021-08-02T17:02:02.378Z"
   },
   {
    "duration": 565,
    "start_time": "2021-08-02T17:03:20.420Z"
   },
   {
    "duration": 367,
    "start_time": "2021-08-02T17:03:54.633Z"
   },
   {
    "duration": 1531,
    "start_time": "2021-08-02T17:03:59.616Z"
   },
   {
    "duration": 76,
    "start_time": "2021-08-02T17:04:01.151Z"
   },
   {
    "duration": 15,
    "start_time": "2021-08-02T17:04:01.230Z"
   },
   {
    "duration": 26,
    "start_time": "2021-08-02T17:04:01.247Z"
   },
   {
    "duration": 35,
    "start_time": "2021-08-02T17:04:01.276Z"
   },
   {
    "duration": 54,
    "start_time": "2021-08-02T17:04:01.313Z"
   },
   {
    "duration": 35,
    "start_time": "2021-08-02T17:04:01.370Z"
   },
   {
    "duration": 36,
    "start_time": "2021-08-02T17:04:01.409Z"
   },
   {
    "duration": 3,
    "start_time": "2021-08-02T17:04:01.449Z"
   },
   {
    "duration": 11,
    "start_time": "2021-08-02T17:04:01.455Z"
   },
   {
    "duration": 37,
    "start_time": "2021-08-02T17:04:01.469Z"
   },
   {
    "duration": 7,
    "start_time": "2021-08-02T17:04:01.509Z"
   },
   {
    "duration": 57,
    "start_time": "2021-08-02T17:04:01.518Z"
   },
   {
    "duration": 54,
    "start_time": "2021-08-02T17:04:01.577Z"
   },
   {
    "duration": 33,
    "start_time": "2021-08-02T17:04:01.633Z"
   },
   {
    "duration": 70,
    "start_time": "2021-08-02T17:04:01.668Z"
   },
   {
    "duration": 30,
    "start_time": "2021-08-02T17:04:01.741Z"
   },
   {
    "duration": 42,
    "start_time": "2021-08-02T17:04:01.774Z"
   },
   {
    "duration": 10,
    "start_time": "2021-08-02T17:04:01.818Z"
   },
   {
    "duration": 12,
    "start_time": "2021-08-02T17:04:14.930Z"
   },
   {
    "duration": 6,
    "start_time": "2021-08-02T17:04:45.210Z"
   },
   {
    "duration": 494,
    "start_time": "2021-08-02T17:05:05.330Z"
   },
   {
    "duration": 412,
    "start_time": "2021-08-02T17:05:06.682Z"
   },
   {
    "duration": 1486,
    "start_time": "2021-08-02T17:05:12.158Z"
   },
   {
    "duration": 76,
    "start_time": "2021-08-02T17:05:13.647Z"
   },
   {
    "duration": 13,
    "start_time": "2021-08-02T17:05:13.727Z"
   },
   {
    "duration": 18,
    "start_time": "2021-08-02T17:05:13.743Z"
   },
   {
    "duration": 50,
    "start_time": "2021-08-02T17:05:13.764Z"
   },
   {
    "duration": 33,
    "start_time": "2021-08-02T17:05:13.817Z"
   },
   {
    "duration": 14,
    "start_time": "2021-08-02T17:05:13.852Z"
   },
   {
    "duration": 67,
    "start_time": "2021-08-02T17:05:13.868Z"
   },
   {
    "duration": 4,
    "start_time": "2021-08-02T17:05:13.939Z"
   },
   {
    "duration": 19,
    "start_time": "2021-08-02T17:05:13.945Z"
   },
   {
    "duration": 673,
    "start_time": "2021-08-02T17:05:13.966Z"
   },
   {
    "duration": -133,
    "start_time": "2021-08-02T17:05:14.775Z"
   },
   {
    "duration": -134,
    "start_time": "2021-08-02T17:05:14.778Z"
   },
   {
    "duration": -157,
    "start_time": "2021-08-02T17:05:14.803Z"
   },
   {
    "duration": -183,
    "start_time": "2021-08-02T17:05:14.831Z"
   },
   {
    "duration": -186,
    "start_time": "2021-08-02T17:05:14.836Z"
   },
   {
    "duration": -185,
    "start_time": "2021-08-02T17:05:14.838Z"
   },
   {
    "duration": -189,
    "start_time": "2021-08-02T17:05:14.844Z"
   },
   {
    "duration": 1442,
    "start_time": "2021-08-02T19:39:11.517Z"
   },
   {
    "duration": 81,
    "start_time": "2021-08-02T19:39:12.962Z"
   },
   {
    "duration": 16,
    "start_time": "2021-08-02T19:39:13.047Z"
   },
   {
    "duration": 50,
    "start_time": "2021-08-02T19:39:13.066Z"
   },
   {
    "duration": 23,
    "start_time": "2021-08-02T19:39:13.119Z"
   },
   {
    "duration": 55,
    "start_time": "2021-08-02T19:39:13.145Z"
   },
   {
    "duration": 13,
    "start_time": "2021-08-02T19:39:13.202Z"
   },
   {
    "duration": 37,
    "start_time": "2021-08-02T19:39:13.219Z"
   },
   {
    "duration": 3,
    "start_time": "2021-08-02T19:39:13.259Z"
   },
   {
    "duration": 6,
    "start_time": "2021-08-02T19:39:13.300Z"
   },
   {
    "duration": 488,
    "start_time": "2021-08-02T19:39:13.309Z"
   },
   {
    "duration": -64,
    "start_time": "2021-08-02T19:39:13.865Z"
   },
   {
    "duration": -65,
    "start_time": "2021-08-02T19:39:13.868Z"
   },
   {
    "duration": -66,
    "start_time": "2021-08-02T19:39:13.871Z"
   },
   {
    "duration": -70,
    "start_time": "2021-08-02T19:39:13.877Z"
   },
   {
    "duration": -70,
    "start_time": "2021-08-02T19:39:13.880Z"
   },
   {
    "duration": -81,
    "start_time": "2021-08-02T19:39:13.893Z"
   },
   {
    "duration": -89,
    "start_time": "2021-08-02T19:39:13.903Z"
   },
   {
    "duration": 340,
    "start_time": "2021-08-02T19:39:57.180Z"
   },
   {
    "duration": 339,
    "start_time": "2021-08-02T19:40:08.812Z"
   },
   {
    "duration": 360,
    "start_time": "2021-08-02T19:40:25.106Z"
   },
   {
    "duration": 1444,
    "start_time": "2021-08-02T19:40:32.411Z"
   },
   {
    "duration": 76,
    "start_time": "2021-08-02T19:40:33.857Z"
   },
   {
    "duration": 14,
    "start_time": "2021-08-02T19:40:33.936Z"
   },
   {
    "duration": 16,
    "start_time": "2021-08-02T19:40:33.953Z"
   },
   {
    "duration": 45,
    "start_time": "2021-08-02T19:40:33.972Z"
   },
   {
    "duration": 33,
    "start_time": "2021-08-02T19:40:34.020Z"
   },
   {
    "duration": 46,
    "start_time": "2021-08-02T19:40:34.056Z"
   },
   {
    "duration": 35,
    "start_time": "2021-08-02T19:40:34.105Z"
   },
   {
    "duration": 3,
    "start_time": "2021-08-02T19:40:34.143Z"
   },
   {
    "duration": 7,
    "start_time": "2021-08-02T19:40:34.148Z"
   },
   {
    "duration": 531,
    "start_time": "2021-08-02T19:40:34.157Z"
   },
   {
    "duration": -136,
    "start_time": "2021-08-02T19:40:34.827Z"
   },
   {
    "duration": -137,
    "start_time": "2021-08-02T19:40:34.830Z"
   },
   {
    "duration": -137,
    "start_time": "2021-08-02T19:40:34.832Z"
   },
   {
    "duration": -137,
    "start_time": "2021-08-02T19:40:34.834Z"
   },
   {
    "duration": -137,
    "start_time": "2021-08-02T19:40:34.836Z"
   },
   {
    "duration": -139,
    "start_time": "2021-08-02T19:40:34.839Z"
   },
   {
    "duration": -156,
    "start_time": "2021-08-02T19:40:34.857Z"
   },
   {
    "duration": 380,
    "start_time": "2021-08-02T19:41:25.987Z"
   },
   {
    "duration": 1507,
    "start_time": "2021-08-02T19:41:34.476Z"
   },
   {
    "duration": 82,
    "start_time": "2021-08-02T19:41:35.987Z"
   },
   {
    "duration": 33,
    "start_time": "2021-08-02T19:41:36.077Z"
   },
   {
    "duration": 23,
    "start_time": "2021-08-02T19:41:36.114Z"
   },
   {
    "duration": 70,
    "start_time": "2021-08-02T19:41:36.140Z"
   },
   {
    "duration": 40,
    "start_time": "2021-08-02T19:41:36.214Z"
   },
   {
    "duration": 52,
    "start_time": "2021-08-02T19:41:36.259Z"
   },
   {
    "duration": 44,
    "start_time": "2021-08-02T19:41:36.315Z"
   },
   {
    "duration": 4,
    "start_time": "2021-08-02T19:41:36.362Z"
   },
   {
    "duration": 4,
    "start_time": "2021-08-02T19:41:36.403Z"
   },
   {
    "duration": 565,
    "start_time": "2021-08-02T19:41:36.410Z"
   },
   {
    "duration": -36,
    "start_time": "2021-08-02T19:41:37.014Z"
   },
   {
    "duration": -40,
    "start_time": "2021-08-02T19:41:37.019Z"
   },
   {
    "duration": -41,
    "start_time": "2021-08-02T19:41:37.022Z"
   },
   {
    "duration": -57,
    "start_time": "2021-08-02T19:41:37.040Z"
   },
   {
    "duration": -59,
    "start_time": "2021-08-02T19:41:37.043Z"
   },
   {
    "duration": -60,
    "start_time": "2021-08-02T19:41:37.045Z"
   },
   {
    "duration": -60,
    "start_time": "2021-08-02T19:41:37.047Z"
   },
   {
    "duration": 1426,
    "start_time": "2021-08-02T19:42:23.840Z"
   },
   {
    "duration": 77,
    "start_time": "2021-08-02T19:42:25.269Z"
   },
   {
    "duration": 16,
    "start_time": "2021-08-02T19:42:25.356Z"
   },
   {
    "duration": 44,
    "start_time": "2021-08-02T19:42:25.374Z"
   },
   {
    "duration": 20,
    "start_time": "2021-08-02T19:42:25.421Z"
   },
   {
    "duration": 73,
    "start_time": "2021-08-02T19:42:25.444Z"
   },
   {
    "duration": 15,
    "start_time": "2021-08-02T19:42:25.520Z"
   },
   {
    "duration": 69,
    "start_time": "2021-08-02T19:42:25.540Z"
   },
   {
    "duration": 3,
    "start_time": "2021-08-02T19:42:25.612Z"
   },
   {
    "duration": 9,
    "start_time": "2021-08-02T19:42:25.617Z"
   },
   {
    "duration": 477,
    "start_time": "2021-08-02T19:42:25.628Z"
   },
   {
    "duration": -38,
    "start_time": "2021-08-02T19:42:26.145Z"
   },
   {
    "duration": -40,
    "start_time": "2021-08-02T19:42:26.148Z"
   },
   {
    "duration": -70,
    "start_time": "2021-08-02T19:42:26.180Z"
   },
   {
    "duration": -75,
    "start_time": "2021-08-02T19:42:26.186Z"
   },
   {
    "duration": -78,
    "start_time": "2021-08-02T19:42:26.191Z"
   },
   {
    "duration": -82,
    "start_time": "2021-08-02T19:42:26.196Z"
   },
   {
    "duration": -83,
    "start_time": "2021-08-02T19:42:26.198Z"
   },
   {
    "duration": 365,
    "start_time": "2021-08-02T19:42:37.786Z"
   },
   {
    "duration": 4,
    "start_time": "2021-08-02T19:42:52.963Z"
   },
   {
    "duration": 341,
    "start_time": "2021-08-02T19:42:53.540Z"
   },
   {
    "duration": 356,
    "start_time": "2021-08-02T19:42:57.097Z"
   },
   {
    "duration": 346,
    "start_time": "2021-08-02T19:42:58.705Z"
   },
   {
    "duration": 1669,
    "start_time": "2021-08-02T19:48:11.207Z"
   },
   {
    "duration": 78,
    "start_time": "2021-08-02T19:48:12.879Z"
   },
   {
    "duration": 16,
    "start_time": "2021-08-02T19:48:12.960Z"
   },
   {
    "duration": 6,
    "start_time": "2021-08-02T19:48:13.000Z"
   },
   {
    "duration": 31,
    "start_time": "2021-08-02T19:48:13.008Z"
   },
   {
    "duration": 19,
    "start_time": "2021-08-02T19:48:13.041Z"
   },
   {
    "duration": 39,
    "start_time": "2021-08-02T19:48:13.063Z"
   },
   {
    "duration": 55,
    "start_time": "2021-08-02T19:48:13.104Z"
   },
   {
    "duration": 3,
    "start_time": "2021-08-02T19:48:13.164Z"
   },
   {
    "duration": 12,
    "start_time": "2021-08-02T19:48:13.170Z"
   },
   {
    "duration": 547,
    "start_time": "2021-08-02T19:48:13.184Z"
   },
   {
    "duration": -34,
    "start_time": "2021-08-02T19:48:13.768Z"
   },
   {
    "duration": -35,
    "start_time": "2021-08-02T19:48:13.770Z"
   },
   {
    "duration": -38,
    "start_time": "2021-08-02T19:48:13.775Z"
   },
   {
    "duration": -51,
    "start_time": "2021-08-02T19:48:13.790Z"
   },
   {
    "duration": -52,
    "start_time": "2021-08-02T19:48:13.792Z"
   },
   {
    "duration": -55,
    "start_time": "2021-08-02T19:48:13.796Z"
   },
   {
    "duration": -55,
    "start_time": "2021-08-02T19:48:13.798Z"
   },
   {
    "duration": 361,
    "start_time": "2021-08-02T19:49:43.066Z"
   },
   {
    "duration": 1458,
    "start_time": "2021-08-02T19:49:50.914Z"
   },
   {
    "duration": 78,
    "start_time": "2021-08-02T19:49:52.375Z"
   },
   {
    "duration": 48,
    "start_time": "2021-08-02T19:49:52.461Z"
   },
   {
    "duration": 4,
    "start_time": "2021-08-02T19:49:52.512Z"
   },
   {
    "duration": 11,
    "start_time": "2021-08-02T19:49:52.519Z"
   },
   {
    "duration": 14,
    "start_time": "2021-08-02T19:49:52.532Z"
   },
   {
    "duration": 23,
    "start_time": "2021-08-02T19:49:52.549Z"
   },
   {
    "duration": 45,
    "start_time": "2021-08-02T19:49:52.600Z"
   },
   {
    "duration": 3,
    "start_time": "2021-08-02T19:49:52.648Z"
   },
   {
    "duration": 7,
    "start_time": "2021-08-02T19:49:52.653Z"
   },
   {
    "duration": 542,
    "start_time": "2021-08-02T19:49:52.662Z"
   },
   {
    "duration": -21,
    "start_time": "2021-08-02T19:49:53.228Z"
   },
   {
    "duration": -25,
    "start_time": "2021-08-02T19:49:53.234Z"
   },
   {
    "duration": -27,
    "start_time": "2021-08-02T19:49:53.237Z"
   },
   {
    "duration": -27,
    "start_time": "2021-08-02T19:49:53.239Z"
   },
   {
    "duration": -32,
    "start_time": "2021-08-02T19:49:53.245Z"
   },
   {
    "duration": -32,
    "start_time": "2021-08-02T19:49:53.247Z"
   },
   {
    "duration": -34,
    "start_time": "2021-08-02T19:49:53.251Z"
   },
   {
    "duration": 355,
    "start_time": "2021-08-02T19:50:28.719Z"
   },
   {
    "duration": 1429,
    "start_time": "2021-08-02T19:50:35.234Z"
   },
   {
    "duration": 75,
    "start_time": "2021-08-02T19:50:36.666Z"
   },
   {
    "duration": 14,
    "start_time": "2021-08-02T19:50:36.745Z"
   },
   {
    "duration": 11,
    "start_time": "2021-08-02T19:50:36.762Z"
   },
   {
    "duration": 13,
    "start_time": "2021-08-02T19:50:36.775Z"
   },
   {
    "duration": 3,
    "start_time": "2021-08-02T19:50:36.801Z"
   },
   {
    "duration": 28,
    "start_time": "2021-08-02T19:50:36.807Z"
   },
   {
    "duration": 62,
    "start_time": "2021-08-02T19:50:36.837Z"
   },
   {
    "duration": 3,
    "start_time": "2021-08-02T19:50:36.903Z"
   },
   {
    "duration": 17,
    "start_time": "2021-08-02T19:50:36.908Z"
   },
   {
    "duration": 15,
    "start_time": "2021-08-02T19:50:36.928Z"
   },
   {
    "duration": 522,
    "start_time": "2021-08-02T19:50:36.945Z"
   },
   {
    "duration": -99,
    "start_time": "2021-08-02T19:50:37.568Z"
   },
   {
    "duration": -99,
    "start_time": "2021-08-02T19:50:37.570Z"
   },
   {
    "duration": -99,
    "start_time": "2021-08-02T19:50:37.571Z"
   },
   {
    "duration": -126,
    "start_time": "2021-08-02T19:50:37.600Z"
   },
   {
    "duration": -128,
    "start_time": "2021-08-02T19:50:37.603Z"
   },
   {
    "duration": -127,
    "start_time": "2021-08-02T19:50:37.604Z"
   },
   {
    "duration": -128,
    "start_time": "2021-08-02T19:50:37.606Z"
   },
   {
    "duration": 1491,
    "start_time": "2021-08-02T19:51:02.885Z"
   },
   {
    "duration": 75,
    "start_time": "2021-08-02T19:51:04.378Z"
   },
   {
    "duration": 14,
    "start_time": "2021-08-02T19:51:04.456Z"
   },
   {
    "duration": 28,
    "start_time": "2021-08-02T19:51:04.472Z"
   },
   {
    "duration": 14,
    "start_time": "2021-08-02T19:51:04.503Z"
   },
   {
    "duration": 17,
    "start_time": "2021-08-02T19:51:04.520Z"
   },
   {
    "duration": 29,
    "start_time": "2021-08-02T19:51:04.539Z"
   },
   {
    "duration": 37,
    "start_time": "2021-08-02T19:51:04.572Z"
   },
   {
    "duration": 3,
    "start_time": "2021-08-02T19:51:04.612Z"
   },
   {
    "duration": 18,
    "start_time": "2021-08-02T19:51:04.617Z"
   },
   {
    "duration": 21,
    "start_time": "2021-08-02T19:51:04.638Z"
   },
   {
    "duration": 569,
    "start_time": "2021-08-02T19:51:04.662Z"
   },
   {
    "duration": -87,
    "start_time": "2021-08-02T19:51:05.320Z"
   },
   {
    "duration": -88,
    "start_time": "2021-08-02T19:51:05.323Z"
   },
   {
    "duration": -133,
    "start_time": "2021-08-02T19:51:05.369Z"
   },
   {
    "duration": -140,
    "start_time": "2021-08-02T19:51:05.377Z"
   },
   {
    "duration": -140,
    "start_time": "2021-08-02T19:51:05.379Z"
   },
   {
    "duration": -141,
    "start_time": "2021-08-02T19:51:05.381Z"
   },
   {
    "duration": -143,
    "start_time": "2021-08-02T19:51:05.384Z"
   },
   {
    "duration": 1580,
    "start_time": "2021-08-02T19:51:15.984Z"
   },
   {
    "duration": 77,
    "start_time": "2021-08-02T19:51:17.567Z"
   },
   {
    "duration": 16,
    "start_time": "2021-08-02T19:51:17.648Z"
   },
   {
    "duration": 3,
    "start_time": "2021-08-02T19:51:17.667Z"
   },
   {
    "duration": 11,
    "start_time": "2021-08-02T19:51:17.672Z"
   },
   {
    "duration": 6,
    "start_time": "2021-08-02T19:51:17.702Z"
   },
   {
    "duration": 19,
    "start_time": "2021-08-02T19:51:17.710Z"
   },
   {
    "duration": 90,
    "start_time": "2021-08-02T19:51:17.732Z"
   },
   {
    "duration": 3,
    "start_time": "2021-08-02T19:51:17.826Z"
   },
   {
    "duration": 6,
    "start_time": "2021-08-02T19:51:17.832Z"
   },
   {
    "duration": 23,
    "start_time": "2021-08-02T19:51:17.840Z"
   },
   {
    "duration": 544,
    "start_time": "2021-08-02T19:51:17.865Z"
   },
   {
    "duration": -108,
    "start_time": "2021-08-02T19:51:18.520Z"
   },
   {
    "duration": -110,
    "start_time": "2021-08-02T19:51:18.525Z"
   },
   {
    "duration": -110,
    "start_time": "2021-08-02T19:51:18.527Z"
   },
   {
    "duration": -110,
    "start_time": "2021-08-02T19:51:18.529Z"
   },
   {
    "duration": -111,
    "start_time": "2021-08-02T19:51:18.532Z"
   },
   {
    "duration": -111,
    "start_time": "2021-08-02T19:51:18.535Z"
   },
   {
    "duration": -111,
    "start_time": "2021-08-02T19:51:18.537Z"
   },
   {
    "duration": 1541,
    "start_time": "2021-08-02T19:51:30.848Z"
   },
   {
    "duration": 75,
    "start_time": "2021-08-02T19:51:32.392Z"
   },
   {
    "duration": 31,
    "start_time": "2021-08-02T19:51:32.471Z"
   },
   {
    "duration": 3,
    "start_time": "2021-08-02T19:51:32.505Z"
   },
   {
    "duration": 12,
    "start_time": "2021-08-02T19:51:32.510Z"
   },
   {
    "duration": 7,
    "start_time": "2021-08-02T19:51:32.524Z"
   },
   {
    "duration": 22,
    "start_time": "2021-08-02T19:51:32.534Z"
   },
   {
    "duration": 69,
    "start_time": "2021-08-02T19:51:32.559Z"
   },
   {
    "duration": 3,
    "start_time": "2021-08-02T19:51:32.632Z"
   },
   {
    "duration": 14,
    "start_time": "2021-08-02T19:51:32.638Z"
   },
   {
    "duration": 16,
    "start_time": "2021-08-02T19:51:32.655Z"
   },
   {
    "duration": 10,
    "start_time": "2021-08-02T19:51:32.673Z"
   },
   {
    "duration": 479,
    "start_time": "2021-08-02T19:51:32.702Z"
   },
   {
    "duration": -37,
    "start_time": "2021-08-02T19:51:33.220Z"
   },
   {
    "duration": -38,
    "start_time": "2021-08-02T19:51:33.224Z"
   },
   {
    "duration": -40,
    "start_time": "2021-08-02T19:51:33.228Z"
   },
   {
    "duration": -45,
    "start_time": "2021-08-02T19:51:33.235Z"
   },
   {
    "duration": -46,
    "start_time": "2021-08-02T19:51:33.238Z"
   },
   {
    "duration": -48,
    "start_time": "2021-08-02T19:51:33.242Z"
   },
   {
    "duration": 1485,
    "start_time": "2021-08-02T19:51:53.986Z"
   },
   {
    "duration": 75,
    "start_time": "2021-08-02T19:51:55.474Z"
   },
   {
    "duration": 14,
    "start_time": "2021-08-02T19:51:55.552Z"
   },
   {
    "duration": 31,
    "start_time": "2021-08-02T19:51:55.569Z"
   },
   {
    "duration": 4,
    "start_time": "2021-08-02T19:51:55.602Z"
   },
   {
    "duration": 6,
    "start_time": "2021-08-02T19:51:55.608Z"
   },
   {
    "duration": 17,
    "start_time": "2021-08-02T19:51:55.616Z"
   },
   {
    "duration": 71,
    "start_time": "2021-08-02T19:51:55.635Z"
   },
   {
    "duration": 3,
    "start_time": "2021-08-02T19:51:55.710Z"
   },
   {
    "duration": 8,
    "start_time": "2021-08-02T19:51:55.716Z"
   },
   {
    "duration": 570,
    "start_time": "2021-08-02T19:51:55.726Z"
   },
   {
    "duration": -59,
    "start_time": "2021-08-02T19:51:56.359Z"
   },
   {
    "duration": -62,
    "start_time": "2021-08-02T19:51:56.364Z"
   },
   {
    "duration": -68,
    "start_time": "2021-08-02T19:51:56.373Z"
   },
   {
    "duration": -68,
    "start_time": "2021-08-02T19:51:56.376Z"
   },
   {
    "duration": -67,
    "start_time": "2021-08-02T19:51:56.377Z"
   },
   {
    "duration": -77,
    "start_time": "2021-08-02T19:51:56.389Z"
   },
   {
    "duration": -78,
    "start_time": "2021-08-02T19:51:56.392Z"
   },
   {
    "duration": -79,
    "start_time": "2021-08-02T19:51:56.396Z"
   },
   {
    "duration": 1771,
    "start_time": "2021-08-02T19:52:12.926Z"
   },
   {
    "duration": 102,
    "start_time": "2021-08-02T19:52:14.700Z"
   },
   {
    "duration": 14,
    "start_time": "2021-08-02T19:52:14.805Z"
   },
   {
    "duration": 2,
    "start_time": "2021-08-02T19:52:14.822Z"
   },
   {
    "duration": 5,
    "start_time": "2021-08-02T19:52:14.827Z"
   },
   {
    "duration": 6,
    "start_time": "2021-08-02T19:52:14.834Z"
   },
   {
    "duration": 15,
    "start_time": "2021-08-02T19:52:14.842Z"
   },
   {
    "duration": 45,
    "start_time": "2021-08-02T19:52:14.861Z"
   },
   {
    "duration": 3,
    "start_time": "2021-08-02T19:52:14.909Z"
   },
   {
    "duration": 9,
    "start_time": "2021-08-02T19:52:14.914Z"
   },
   {
    "duration": 12,
    "start_time": "2021-08-02T19:52:14.926Z"
   },
   {
    "duration": 3,
    "start_time": "2021-08-02T19:52:14.940Z"
   },
   {
    "duration": 577,
    "start_time": "2021-08-02T19:52:14.946Z"
   },
   {
    "duration": -584,
    "start_time": "2021-08-02T19:52:16.110Z"
   },
   {
    "duration": -587,
    "start_time": "2021-08-02T19:52:16.114Z"
   },
   {
    "duration": -590,
    "start_time": "2021-08-02T19:52:16.119Z"
   },
   {
    "duration": -591,
    "start_time": "2021-08-02T19:52:16.121Z"
   },
   {
    "duration": -590,
    "start_time": "2021-08-02T19:52:16.122Z"
   },
   {
    "duration": -591,
    "start_time": "2021-08-02T19:52:16.124Z"
   },
   {
    "duration": 407,
    "start_time": "2021-08-02T19:52:41.297Z"
   },
   {
    "duration": 344,
    "start_time": "2021-08-02T19:52:52.514Z"
   },
   {
    "duration": 332,
    "start_time": "2021-08-02T19:52:56.544Z"
   },
   {
    "duration": 409,
    "start_time": "2021-08-02T19:53:00.994Z"
   },
   {
    "duration": 71,
    "start_time": "2021-08-02T19:53:07.162Z"
   },
   {
    "duration": 14,
    "start_time": "2021-08-02T19:53:09.643Z"
   },
   {
    "duration": 3,
    "start_time": "2021-08-02T19:53:10.511Z"
   },
   {
    "duration": 3,
    "start_time": "2021-08-02T19:53:11.084Z"
   },
   {
    "duration": 3,
    "start_time": "2021-08-02T19:53:11.626Z"
   },
   {
    "duration": 13,
    "start_time": "2021-08-02T19:53:12.274Z"
   },
   {
    "duration": 35,
    "start_time": "2021-08-02T19:53:13.310Z"
   },
   {
    "duration": 7,
    "start_time": "2021-08-02T19:53:14.274Z"
   },
   {
    "duration": 4,
    "start_time": "2021-08-02T19:53:15.255Z"
   },
   {
    "duration": 3,
    "start_time": "2021-08-02T19:53:16.930Z"
   },
   {
    "duration": 7,
    "start_time": "2021-08-02T19:53:17.486Z"
   },
   {
    "duration": 12,
    "start_time": "2021-08-02T19:53:20.770Z"
   },
   {
    "duration": 4,
    "start_time": "2021-08-02T19:53:21.666Z"
   },
   {
    "duration": 364,
    "start_time": "2021-08-02T19:53:22.623Z"
   },
   {
    "duration": 422,
    "start_time": "2021-08-02T19:53:30.275Z"
   },
   {
    "duration": 367,
    "start_time": "2021-08-02T19:53:31.191Z"
   },
   {
    "duration": 343,
    "start_time": "2021-08-02T19:53:31.896Z"
   },
   {
    "duration": 498,
    "start_time": "2021-08-02T19:53:33.094Z"
   },
   {
    "duration": 383,
    "start_time": "2021-08-02T19:53:34.616Z"
   },
   {
    "duration": 362,
    "start_time": "2021-08-02T19:53:35.974Z"
   },
   {
    "duration": 1564,
    "start_time": "2021-08-02T19:54:15.703Z"
   },
   {
    "duration": 81,
    "start_time": "2021-08-02T19:54:17.270Z"
   },
   {
    "duration": 18,
    "start_time": "2021-08-02T19:54:17.356Z"
   },
   {
    "duration": 4,
    "start_time": "2021-08-02T19:54:17.402Z"
   },
   {
    "duration": 8,
    "start_time": "2021-08-02T19:54:17.408Z"
   },
   {
    "duration": 7,
    "start_time": "2021-08-02T19:54:17.418Z"
   },
   {
    "duration": 15,
    "start_time": "2021-08-02T19:54:17.428Z"
   },
   {
    "duration": 73,
    "start_time": "2021-08-02T19:54:17.447Z"
   },
   {
    "duration": 7,
    "start_time": "2021-08-02T19:54:17.524Z"
   },
   {
    "duration": 7,
    "start_time": "2021-08-02T19:54:17.534Z"
   },
   {
    "duration": 6,
    "start_time": "2021-08-02T19:54:17.544Z"
   },
   {
    "duration": 51,
    "start_time": "2021-08-02T19:54:17.553Z"
   },
   {
    "duration": 12,
    "start_time": "2021-08-02T19:54:17.606Z"
   },
   {
    "duration": 3,
    "start_time": "2021-08-02T19:54:17.621Z"
   },
   {
    "duration": 511,
    "start_time": "2021-08-02T19:54:17.626Z"
   },
   {
    "duration": -77,
    "start_time": "2021-08-02T19:54:18.216Z"
   },
   {
    "duration": -79,
    "start_time": "2021-08-02T19:54:18.220Z"
   },
   {
    "duration": -80,
    "start_time": "2021-08-02T19:54:18.223Z"
   },
   {
    "duration": -93,
    "start_time": "2021-08-02T19:54:18.238Z"
   },
   {
    "duration": -97,
    "start_time": "2021-08-02T19:54:18.243Z"
   },
   {
    "duration": -98,
    "start_time": "2021-08-02T19:54:18.246Z"
   },
   {
    "duration": 358,
    "start_time": "2021-08-02T19:54:33.571Z"
   },
   {
    "duration": 1560,
    "start_time": "2021-08-02T19:54:42.846Z"
   },
   {
    "duration": 84,
    "start_time": "2021-08-02T19:54:44.410Z"
   },
   {
    "duration": 21,
    "start_time": "2021-08-02T19:54:44.503Z"
   },
   {
    "duration": 4,
    "start_time": "2021-08-02T19:54:44.528Z"
   },
   {
    "duration": 11,
    "start_time": "2021-08-02T19:54:44.535Z"
   },
   {
    "duration": 12,
    "start_time": "2021-08-02T19:54:44.549Z"
   },
   {
    "duration": 50,
    "start_time": "2021-08-02T19:54:44.564Z"
   },
   {
    "duration": 47,
    "start_time": "2021-08-02T19:54:44.618Z"
   },
   {
    "duration": 33,
    "start_time": "2021-08-02T19:54:44.671Z"
   },
   {
    "duration": 8,
    "start_time": "2021-08-02T19:54:44.707Z"
   },
   {
    "duration": 15,
    "start_time": "2021-08-02T19:54:44.718Z"
   },
   {
    "duration": 17,
    "start_time": "2021-08-02T19:54:44.736Z"
   },
   {
    "duration": 587,
    "start_time": "2021-08-02T19:54:44.756Z"
   },
   {
    "duration": -118,
    "start_time": "2021-08-02T19:54:45.464Z"
   },
   {
    "duration": -118,
    "start_time": "2021-08-02T19:54:45.467Z"
   },
   {
    "duration": -122,
    "start_time": "2021-08-02T19:54:45.473Z"
   },
   {
    "duration": -142,
    "start_time": "2021-08-02T19:54:45.496Z"
   },
   {
    "duration": -148,
    "start_time": "2021-08-02T19:54:45.505Z"
   },
   {
    "duration": -150,
    "start_time": "2021-08-02T19:54:45.510Z"
   },
   {
    "duration": -152,
    "start_time": "2021-08-02T19:54:45.514Z"
   },
   {
    "duration": -147,
    "start_time": "2021-08-02T19:54:45.516Z"
   },
   {
    "duration": 351,
    "start_time": "2021-08-02T19:56:23.160Z"
   },
   {
    "duration": 1432,
    "start_time": "2021-08-02T19:56:28.518Z"
   },
   {
    "duration": 77,
    "start_time": "2021-08-02T19:56:29.953Z"
   },
   {
    "duration": 13,
    "start_time": "2021-08-02T19:56:30.034Z"
   },
   {
    "duration": 8,
    "start_time": "2021-08-02T19:56:30.050Z"
   },
   {
    "duration": 23,
    "start_time": "2021-08-02T19:56:30.060Z"
   },
   {
    "duration": 27,
    "start_time": "2021-08-02T19:56:30.085Z"
   },
   {
    "duration": 28,
    "start_time": "2021-08-02T19:56:30.114Z"
   },
   {
    "duration": 46,
    "start_time": "2021-08-02T19:56:30.146Z"
   },
   {
    "duration": 8,
    "start_time": "2021-08-02T19:56:30.195Z"
   },
   {
    "duration": 17,
    "start_time": "2021-08-02T19:56:30.206Z"
   },
   {
    "duration": 41,
    "start_time": "2021-08-02T19:56:30.225Z"
   },
   {
    "duration": 19,
    "start_time": "2021-08-02T19:56:30.269Z"
   },
   {
    "duration": 492,
    "start_time": "2021-08-02T19:56:30.291Z"
   },
   {
    "duration": -60,
    "start_time": "2021-08-02T19:56:30.845Z"
   },
   {
    "duration": -63,
    "start_time": "2021-08-02T19:56:30.850Z"
   },
   {
    "duration": -64,
    "start_time": "2021-08-02T19:56:30.852Z"
   },
   {
    "duration": -64,
    "start_time": "2021-08-02T19:56:30.854Z"
   },
   {
    "duration": -84,
    "start_time": "2021-08-02T19:56:30.875Z"
   },
   {
    "duration": -89,
    "start_time": "2021-08-02T19:56:30.882Z"
   },
   {
    "duration": -91,
    "start_time": "2021-08-02T19:56:30.885Z"
   },
   {
    "duration": -95,
    "start_time": "2021-08-02T19:56:30.891Z"
   },
   {
    "duration": 443,
    "start_time": "2021-08-02T19:56:49.865Z"
   },
   {
    "duration": 1546,
    "start_time": "2021-08-02T19:56:55.764Z"
   },
   {
    "duration": 77,
    "start_time": "2021-08-02T19:56:57.313Z"
   },
   {
    "duration": 21,
    "start_time": "2021-08-02T19:56:57.393Z"
   },
   {
    "duration": 3,
    "start_time": "2021-08-02T19:56:57.418Z"
   },
   {
    "duration": 7,
    "start_time": "2021-08-02T19:56:57.423Z"
   },
   {
    "duration": 7,
    "start_time": "2021-08-02T19:56:57.433Z"
   },
   {
    "duration": 16,
    "start_time": "2021-08-02T19:56:57.443Z"
   },
   {
    "duration": 37,
    "start_time": "2021-08-02T19:56:57.500Z"
   },
   {
    "duration": 5,
    "start_time": "2021-08-02T19:56:57.541Z"
   },
   {
    "duration": 6,
    "start_time": "2021-08-02T19:56:57.549Z"
   },
   {
    "duration": 45,
    "start_time": "2021-08-02T19:56:57.557Z"
   },
   {
    "duration": 15,
    "start_time": "2021-08-02T19:56:57.604Z"
   },
   {
    "duration": 30,
    "start_time": "2021-08-02T19:56:57.621Z"
   },
   {
    "duration": 507,
    "start_time": "2021-08-02T19:56:57.653Z"
   },
   {
    "duration": -38,
    "start_time": "2021-08-02T19:56:58.200Z"
   },
   {
    "duration": -39,
    "start_time": "2021-08-02T19:56:58.203Z"
   },
   {
    "duration": -44,
    "start_time": "2021-08-02T19:56:58.210Z"
   },
   {
    "duration": -45,
    "start_time": "2021-08-02T19:56:58.213Z"
   },
   {
    "duration": -46,
    "start_time": "2021-08-02T19:56:58.215Z"
   },
   {
    "duration": -47,
    "start_time": "2021-08-02T19:56:58.218Z"
   },
   {
    "duration": -53,
    "start_time": "2021-08-02T19:56:58.225Z"
   },
   {
    "duration": -55,
    "start_time": "2021-08-02T19:56:58.229Z"
   },
   {
    "duration": 421,
    "start_time": "2021-08-02T19:57:17.424Z"
   },
   {
    "duration": 1430,
    "start_time": "2021-08-02T19:57:22.345Z"
   },
   {
    "duration": 79,
    "start_time": "2021-08-02T19:57:23.777Z"
   },
   {
    "duration": 15,
    "start_time": "2021-08-02T19:57:23.859Z"
   },
   {
    "duration": 25,
    "start_time": "2021-08-02T19:57:23.877Z"
   },
   {
    "duration": 5,
    "start_time": "2021-08-02T19:57:23.905Z"
   },
   {
    "duration": 5,
    "start_time": "2021-08-02T19:57:23.913Z"
   },
   {
    "duration": 21,
    "start_time": "2021-08-02T19:57:23.920Z"
   },
   {
    "duration": 87,
    "start_time": "2021-08-02T19:57:23.944Z"
   },
   {
    "duration": 7,
    "start_time": "2021-08-02T19:57:24.034Z"
   },
   {
    "duration": 5,
    "start_time": "2021-08-02T19:57:24.044Z"
   },
   {
    "duration": 10,
    "start_time": "2021-08-02T19:57:24.051Z"
   },
   {
    "duration": 48,
    "start_time": "2021-08-02T19:57:24.064Z"
   },
   {
    "duration": 29,
    "start_time": "2021-08-02T19:57:24.115Z"
   },
   {
    "duration": 11,
    "start_time": "2021-08-02T19:57:24.147Z"
   },
   {
    "duration": 498,
    "start_time": "2021-08-02T19:57:24.160Z"
   },
   {
    "duration": -111,
    "start_time": "2021-08-02T19:57:24.771Z"
   },
   {
    "duration": -112,
    "start_time": "2021-08-02T19:57:24.773Z"
   },
   {
    "duration": -114,
    "start_time": "2021-08-02T19:57:24.777Z"
   },
   {
    "duration": -116,
    "start_time": "2021-08-02T19:57:24.780Z"
   },
   {
    "duration": -118,
    "start_time": "2021-08-02T19:57:24.784Z"
   },
   {
    "duration": -118,
    "start_time": "2021-08-02T19:57:24.786Z"
   },
   {
    "duration": -120,
    "start_time": "2021-08-02T19:57:24.789Z"
   },
   {
    "duration": -119,
    "start_time": "2021-08-02T19:57:24.790Z"
   },
   {
    "duration": 366,
    "start_time": "2021-08-02T19:57:39.031Z"
   },
   {
    "duration": 1479,
    "start_time": "2021-08-02T19:57:44.092Z"
   },
   {
    "duration": 77,
    "start_time": "2021-08-02T19:57:45.573Z"
   },
   {
    "duration": 15,
    "start_time": "2021-08-02T19:57:45.656Z"
   },
   {
    "duration": 36,
    "start_time": "2021-08-02T19:57:45.674Z"
   },
   {
    "duration": 19,
    "start_time": "2021-08-02T19:57:45.713Z"
   },
   {
    "duration": 11,
    "start_time": "2021-08-02T19:57:45.734Z"
   },
   {
    "duration": 23,
    "start_time": "2021-08-02T19:57:45.748Z"
   },
   {
    "duration": 43,
    "start_time": "2021-08-02T19:57:45.775Z"
   },
   {
    "duration": 7,
    "start_time": "2021-08-02T19:57:45.823Z"
   },
   {
    "duration": 14,
    "start_time": "2021-08-02T19:57:45.832Z"
   },
   {
    "duration": 16,
    "start_time": "2021-08-02T19:57:45.849Z"
   },
   {
    "duration": 35,
    "start_time": "2021-08-02T19:57:45.868Z"
   },
   {
    "duration": 39,
    "start_time": "2021-08-02T19:57:45.905Z"
   },
   {
    "duration": 22,
    "start_time": "2021-08-02T19:57:45.947Z"
   },
   {
    "duration": 558,
    "start_time": "2021-08-02T19:57:45.972Z"
   },
   {
    "duration": -133,
    "start_time": "2021-08-02T19:57:46.666Z"
   },
   {
    "duration": -153,
    "start_time": "2021-08-02T19:57:46.687Z"
   },
   {
    "duration": -156,
    "start_time": "2021-08-02T19:57:46.692Z"
   },
   {
    "duration": -156,
    "start_time": "2021-08-02T19:57:46.694Z"
   },
   {
    "duration": -158,
    "start_time": "2021-08-02T19:57:46.697Z"
   },
   {
    "duration": -159,
    "start_time": "2021-08-02T19:57:46.700Z"
   },
   {
    "duration": -159,
    "start_time": "2021-08-02T19:57:46.702Z"
   },
   {
    "duration": -159,
    "start_time": "2021-08-02T19:57:46.704Z"
   },
   {
    "duration": 342,
    "start_time": "2021-08-02T19:57:56.783Z"
   },
   {
    "duration": 1444,
    "start_time": "2021-08-02T19:58:02.130Z"
   },
   {
    "duration": 77,
    "start_time": "2021-08-02T19:58:03.577Z"
   },
   {
    "duration": 15,
    "start_time": "2021-08-02T19:58:03.657Z"
   },
   {
    "duration": 25,
    "start_time": "2021-08-02T19:58:03.675Z"
   },
   {
    "duration": 3,
    "start_time": "2021-08-02T19:58:03.703Z"
   },
   {
    "duration": 8,
    "start_time": "2021-08-02T19:58:03.709Z"
   },
   {
    "duration": 16,
    "start_time": "2021-08-02T19:58:03.719Z"
   },
   {
    "duration": 82,
    "start_time": "2021-08-02T19:58:03.739Z"
   },
   {
    "duration": 6,
    "start_time": "2021-08-02T19:58:03.824Z"
   },
   {
    "duration": 16,
    "start_time": "2021-08-02T19:58:03.833Z"
   },
   {
    "duration": 21,
    "start_time": "2021-08-02T19:58:03.851Z"
   },
   {
    "duration": 17,
    "start_time": "2021-08-02T19:58:03.874Z"
   },
   {
    "duration": 51,
    "start_time": "2021-08-02T19:58:03.893Z"
   },
   {
    "duration": 22,
    "start_time": "2021-08-02T19:58:03.946Z"
   },
   {
    "duration": 514,
    "start_time": "2021-08-02T19:58:03.971Z"
   },
   {
    "duration": -145,
    "start_time": "2021-08-02T19:58:04.633Z"
   },
   {
    "duration": -147,
    "start_time": "2021-08-02T19:58:04.637Z"
   },
   {
    "duration": -150,
    "start_time": "2021-08-02T19:58:04.641Z"
   },
   {
    "duration": -157,
    "start_time": "2021-08-02T19:58:04.650Z"
   },
   {
    "duration": -158,
    "start_time": "2021-08-02T19:58:04.653Z"
   },
   {
    "duration": -173,
    "start_time": "2021-08-02T19:58:04.669Z"
   },
   {
    "duration": -177,
    "start_time": "2021-08-02T19:58:04.675Z"
   },
   {
    "duration": -178,
    "start_time": "2021-08-02T19:58:04.677Z"
   },
   {
    "duration": 357,
    "start_time": "2021-08-02T19:59:07.982Z"
   },
   {
    "duration": 1495,
    "start_time": "2021-08-02T19:59:12.970Z"
   },
   {
    "duration": 75,
    "start_time": "2021-08-02T19:59:14.468Z"
   },
   {
    "duration": 15,
    "start_time": "2021-08-02T19:59:14.546Z"
   },
   {
    "duration": 3,
    "start_time": "2021-08-02T19:59:14.564Z"
   },
   {
    "duration": 33,
    "start_time": "2021-08-02T19:59:14.569Z"
   },
   {
    "duration": 3,
    "start_time": "2021-08-02T19:59:14.606Z"
   },
   {
    "duration": 16,
    "start_time": "2021-08-02T19:59:14.611Z"
   },
   {
    "duration": 81,
    "start_time": "2021-08-02T19:59:14.631Z"
   },
   {
    "duration": 6,
    "start_time": "2021-08-02T19:59:14.729Z"
   },
   {
    "duration": 5,
    "start_time": "2021-08-02T19:59:14.738Z"
   },
   {
    "duration": 5,
    "start_time": "2021-08-02T19:59:14.746Z"
   },
   {
    "duration": 9,
    "start_time": "2021-08-02T19:59:14.754Z"
   },
   {
    "duration": 60,
    "start_time": "2021-08-02T19:59:14.765Z"
   },
   {
    "duration": 24,
    "start_time": "2021-08-02T19:59:14.828Z"
   },
   {
    "duration": 548,
    "start_time": "2021-08-02T19:59:14.855Z"
   },
   {
    "duration": -89,
    "start_time": "2021-08-02T19:59:15.496Z"
   },
   {
    "duration": -89,
    "start_time": "2021-08-02T19:59:15.498Z"
   },
   {
    "duration": -88,
    "start_time": "2021-08-02T19:59:15.500Z"
   },
   {
    "duration": -88,
    "start_time": "2021-08-02T19:59:15.502Z"
   },
   {
    "duration": -88,
    "start_time": "2021-08-02T19:59:15.504Z"
   },
   {
    "duration": -88,
    "start_time": "2021-08-02T19:59:15.506Z"
   },
   {
    "duration": -87,
    "start_time": "2021-08-02T19:59:15.508Z"
   },
   {
    "duration": -86,
    "start_time": "2021-08-02T19:59:15.509Z"
   },
   {
    "duration": 355,
    "start_time": "2021-08-02T19:59:50.051Z"
   },
   {
    "duration": 4,
    "start_time": "2021-08-02T19:59:54.536Z"
   },
   {
    "duration": 67,
    "start_time": "2021-08-02T19:59:55.441Z"
   },
   {
    "duration": 14,
    "start_time": "2021-08-02T19:59:56.104Z"
   },
   {
    "duration": 19,
    "start_time": "2021-08-02T19:59:56.652Z"
   },
   {
    "duration": 3,
    "start_time": "2021-08-02T19:59:58.063Z"
   },
   {
    "duration": 3,
    "start_time": "2021-08-02T19:59:58.244Z"
   },
   {
    "duration": 13,
    "start_time": "2021-08-02T19:59:58.443Z"
   },
   {
    "duration": 37,
    "start_time": "2021-08-02T19:59:58.621Z"
   },
   {
    "duration": 7,
    "start_time": "2021-08-02T19:59:58.829Z"
   },
   {
    "duration": 3,
    "start_time": "2021-08-02T19:59:59.012Z"
   },
   {
    "duration": 4,
    "start_time": "2021-08-02T20:00:00.219Z"
   },
   {
    "duration": 7,
    "start_time": "2021-08-02T20:00:00.744Z"
   },
   {
    "duration": 30,
    "start_time": "2021-08-02T20:00:01.811Z"
   },
   {
    "duration": 24,
    "start_time": "2021-08-02T20:00:03.304Z"
   },
   {
    "duration": 416,
    "start_time": "2021-08-02T20:00:26.612Z"
   },
   {
    "duration": 439,
    "start_time": "2021-08-02T20:04:27.184Z"
   },
   {
    "duration": 382,
    "start_time": "2021-08-02T20:04:59.198Z"
   },
   {
    "duration": 1990,
    "start_time": "2021-08-02T20:05:05.240Z"
   },
   {
    "duration": 107,
    "start_time": "2021-08-02T20:05:07.233Z"
   },
   {
    "duration": 21,
    "start_time": "2021-08-02T20:05:07.344Z"
   },
   {
    "duration": 54,
    "start_time": "2021-08-02T20:05:07.369Z"
   },
   {
    "duration": 18,
    "start_time": "2021-08-02T20:05:07.427Z"
   },
   {
    "duration": 25,
    "start_time": "2021-08-02T20:05:07.448Z"
   },
   {
    "duration": 33,
    "start_time": "2021-08-02T20:05:07.477Z"
   },
   {
    "duration": 53,
    "start_time": "2021-08-02T20:05:07.517Z"
   },
   {
    "duration": 27,
    "start_time": "2021-08-02T20:05:07.575Z"
   },
   {
    "duration": 4,
    "start_time": "2021-08-02T20:05:07.605Z"
   },
   {
    "duration": 5,
    "start_time": "2021-08-02T20:05:07.612Z"
   },
   {
    "duration": 32,
    "start_time": "2021-08-02T20:05:07.620Z"
   },
   {
    "duration": 58,
    "start_time": "2021-08-02T20:05:07.655Z"
   },
   {
    "duration": 507,
    "start_time": "2021-08-02T20:05:07.716Z"
   },
   {
    "duration": -66,
    "start_time": "2021-08-02T20:05:08.293Z"
   },
   {
    "duration": -66,
    "start_time": "2021-08-02T20:05:08.296Z"
   },
   {
    "duration": -67,
    "start_time": "2021-08-02T20:05:08.299Z"
   },
   {
    "duration": -66,
    "start_time": "2021-08-02T20:05:08.300Z"
   },
   {
    "duration": -66,
    "start_time": "2021-08-02T20:05:08.302Z"
   },
   {
    "duration": -65,
    "start_time": "2021-08-02T20:05:08.303Z"
   },
   {
    "duration": -63,
    "start_time": "2021-08-02T20:05:08.304Z"
   },
   {
    "duration": -67,
    "start_time": "2021-08-02T20:05:08.310Z"
   },
   {
    "duration": -68,
    "start_time": "2021-08-02T20:05:08.313Z"
   },
   {
    "duration": 1473,
    "start_time": "2021-08-02T20:05:17.314Z"
   },
   {
    "duration": 86,
    "start_time": "2021-08-02T20:05:18.790Z"
   },
   {
    "duration": 23,
    "start_time": "2021-08-02T20:05:18.879Z"
   },
   {
    "duration": 22,
    "start_time": "2021-08-02T20:05:18.906Z"
   },
   {
    "duration": 6,
    "start_time": "2021-08-02T20:05:18.930Z"
   },
   {
    "duration": 6,
    "start_time": "2021-08-02T20:05:18.939Z"
   },
   {
    "duration": 69,
    "start_time": "2021-08-02T20:05:18.948Z"
   },
   {
    "duration": 38,
    "start_time": "2021-08-02T20:05:19.020Z"
   },
   {
    "duration": 6,
    "start_time": "2021-08-02T20:05:19.062Z"
   },
   {
    "duration": 31,
    "start_time": "2021-08-02T20:05:19.071Z"
   },
   {
    "duration": 6,
    "start_time": "2021-08-02T20:05:19.104Z"
   },
   {
    "duration": 9,
    "start_time": "2021-08-02T20:05:19.113Z"
   },
   {
    "duration": 30,
    "start_time": "2021-08-02T20:05:19.125Z"
   },
   {
    "duration": 23,
    "start_time": "2021-08-02T20:05:19.201Z"
   },
   {
    "duration": 17,
    "start_time": "2021-08-02T20:05:19.227Z"
   },
   {
    "duration": 3,
    "start_time": "2021-08-02T20:05:19.247Z"
   },
   {
    "duration": 50,
    "start_time": "2021-08-02T20:05:19.253Z"
   },
   {
    "duration": 25,
    "start_time": "2021-08-02T20:05:19.306Z"
   },
   {
    "duration": 66,
    "start_time": "2021-08-02T20:05:19.334Z"
   },
   {
    "duration": 29,
    "start_time": "2021-08-02T20:05:19.403Z"
   },
   {
    "duration": 96,
    "start_time": "2021-08-02T20:05:19.434Z"
   },
   {
    "duration": 14,
    "start_time": "2021-08-02T20:05:19.532Z"
   },
   {
    "duration": 14,
    "start_time": "2021-08-02T20:05:19.548Z"
   },
   {
    "duration": 19,
    "start_time": "2021-08-02T20:07:03.558Z"
   },
   {
    "duration": 11,
    "start_time": "2021-08-02T20:07:33.258Z"
   },
   {
    "duration": 1600,
    "start_time": "2021-08-02T20:08:11.483Z"
   },
   {
    "duration": 82,
    "start_time": "2021-08-02T20:08:13.085Z"
   },
   {
    "duration": 32,
    "start_time": "2021-08-02T20:08:13.170Z"
   },
   {
    "duration": 24,
    "start_time": "2021-08-02T20:08:13.205Z"
   },
   {
    "duration": 3,
    "start_time": "2021-08-02T20:08:13.232Z"
   },
   {
    "duration": 10,
    "start_time": "2021-08-02T20:08:13.237Z"
   },
   {
    "duration": 63,
    "start_time": "2021-08-02T20:08:13.250Z"
   },
   {
    "duration": 43,
    "start_time": "2021-08-02T20:08:13.315Z"
   },
   {
    "duration": 38,
    "start_time": "2021-08-02T20:08:13.362Z"
   },
   {
    "duration": 4,
    "start_time": "2021-08-02T20:08:13.404Z"
   },
   {
    "duration": 9,
    "start_time": "2021-08-02T20:08:13.411Z"
   },
   {
    "duration": 15,
    "start_time": "2021-08-02T20:08:13.424Z"
   },
   {
    "duration": 74,
    "start_time": "2021-08-02T20:08:13.442Z"
   },
   {
    "duration": 3,
    "start_time": "2021-08-02T20:08:13.520Z"
   },
   {
    "duration": 11,
    "start_time": "2021-08-02T20:08:13.526Z"
   },
   {
    "duration": 75,
    "start_time": "2021-08-02T20:08:13.540Z"
   },
   {
    "duration": 34,
    "start_time": "2021-08-02T20:08:13.617Z"
   },
   {
    "duration": 66,
    "start_time": "2021-08-02T20:08:13.654Z"
   },
   {
    "duration": 97,
    "start_time": "2021-08-02T20:08:13.722Z"
   },
   {
    "duration": 14,
    "start_time": "2021-08-02T20:08:13.821Z"
   },
   {
    "duration": 14,
    "start_time": "2021-08-02T20:08:13.837Z"
   },
   {
    "duration": 74,
    "start_time": "2021-08-02T20:09:32.034Z"
   },
   {
    "duration": 77,
    "start_time": "2021-08-02T20:14:31.955Z"
   },
   {
    "duration": 73,
    "start_time": "2021-08-02T20:15:05.145Z"
   },
   {
    "duration": 64,
    "start_time": "2021-08-02T20:15:53.695Z"
   },
   {
    "duration": 64,
    "start_time": "2021-08-02T20:16:02.215Z"
   },
   {
    "duration": 65,
    "start_time": "2021-08-02T20:16:11.923Z"
   },
   {
    "duration": 1551,
    "start_time": "2021-08-02T20:16:19.210Z"
   },
   {
    "duration": 80,
    "start_time": "2021-08-02T20:16:20.764Z"
   },
   {
    "duration": 14,
    "start_time": "2021-08-02T20:16:20.847Z"
   },
   {
    "duration": 40,
    "start_time": "2021-08-02T20:16:20.864Z"
   },
   {
    "duration": 4,
    "start_time": "2021-08-02T20:16:20.909Z"
   },
   {
    "duration": 6,
    "start_time": "2021-08-02T20:16:20.916Z"
   },
   {
    "duration": 16,
    "start_time": "2021-08-02T20:16:20.925Z"
   },
   {
    "duration": 93,
    "start_time": "2021-08-02T20:16:20.947Z"
   },
   {
    "duration": 6,
    "start_time": "2021-08-02T20:16:21.044Z"
   },
   {
    "duration": 7,
    "start_time": "2021-08-02T20:16:21.053Z"
   },
   {
    "duration": 25,
    "start_time": "2021-08-02T20:16:21.063Z"
   },
   {
    "duration": 27,
    "start_time": "2021-08-02T20:16:21.090Z"
   },
   {
    "duration": 23,
    "start_time": "2021-08-02T20:16:21.120Z"
   },
   {
    "duration": 3,
    "start_time": "2021-08-02T20:16:21.145Z"
   },
   {
    "duration": 10,
    "start_time": "2021-08-02T20:16:21.150Z"
   },
   {
    "duration": 26,
    "start_time": "2021-08-02T20:16:21.210Z"
   },
   {
    "duration": 33,
    "start_time": "2021-08-02T20:16:21.238Z"
   },
   {
    "duration": 37,
    "start_time": "2021-08-02T20:16:21.300Z"
   },
   {
    "duration": 101,
    "start_time": "2021-08-02T20:16:21.340Z"
   },
   {
    "duration": 13,
    "start_time": "2021-08-02T20:16:21.444Z"
   },
   {
    "duration": 47,
    "start_time": "2021-08-02T20:16:21.460Z"
   },
   {
    "duration": 559,
    "start_time": "2021-08-02T20:18:17.197Z"
   },
   {
    "duration": 1525,
    "start_time": "2021-08-02T20:18:25.035Z"
   },
   {
    "duration": 82,
    "start_time": "2021-08-02T20:18:26.563Z"
   },
   {
    "duration": 14,
    "start_time": "2021-08-02T20:18:26.649Z"
   },
   {
    "duration": 48,
    "start_time": "2021-08-02T20:18:26.667Z"
   },
   {
    "duration": 5,
    "start_time": "2021-08-02T20:18:26.720Z"
   },
   {
    "duration": 8,
    "start_time": "2021-08-02T20:18:26.727Z"
   },
   {
    "duration": 28,
    "start_time": "2021-08-02T20:18:26.737Z"
   },
   {
    "duration": 70,
    "start_time": "2021-08-02T20:18:26.767Z"
   },
   {
    "duration": 6,
    "start_time": "2021-08-02T20:18:26.841Z"
   },
   {
    "duration": 6,
    "start_time": "2021-08-02T20:18:26.850Z"
   },
   {
    "duration": 10,
    "start_time": "2021-08-02T20:18:26.858Z"
   },
   {
    "duration": 34,
    "start_time": "2021-08-02T20:18:26.870Z"
   },
   {
    "duration": 31,
    "start_time": "2021-08-02T20:18:26.907Z"
   },
   {
    "duration": 4,
    "start_time": "2021-08-02T20:18:26.941Z"
   },
   {
    "duration": 57,
    "start_time": "2021-08-02T20:18:26.948Z"
   },
   {
    "duration": 542,
    "start_time": "2021-08-02T20:18:27.007Z"
   },
   {
    "duration": -130,
    "start_time": "2021-08-02T20:18:27.682Z"
   },
   {
    "duration": -131,
    "start_time": "2021-08-02T20:18:27.685Z"
   },
   {
    "duration": -131,
    "start_time": "2021-08-02T20:18:27.687Z"
   },
   {
    "duration": -131,
    "start_time": "2021-08-02T20:18:27.689Z"
   },
   {
    "duration": -131,
    "start_time": "2021-08-02T20:18:27.691Z"
   },
   {
    "duration": 425,
    "start_time": "2021-08-02T20:18:43.994Z"
   },
   {
    "duration": 359,
    "start_time": "2021-08-02T20:19:03.774Z"
   },
   {
    "duration": 21,
    "start_time": "2021-08-02T20:19:14.270Z"
   },
   {
    "duration": 50,
    "start_time": "2021-08-02T20:19:58.048Z"
   },
   {
    "duration": 31,
    "start_time": "2021-08-02T20:20:10.006Z"
   },
   {
    "duration": 66,
    "start_time": "2021-08-02T20:20:11.594Z"
   },
   {
    "duration": 108,
    "start_time": "2021-08-02T20:23:01.996Z"
   },
   {
    "duration": 1460,
    "start_time": "2021-08-02T20:23:10.512Z"
   },
   {
    "duration": 78,
    "start_time": "2021-08-02T20:23:11.975Z"
   },
   {
    "duration": 14,
    "start_time": "2021-08-02T20:23:12.057Z"
   },
   {
    "duration": 44,
    "start_time": "2021-08-02T20:23:12.074Z"
   },
   {
    "duration": 4,
    "start_time": "2021-08-02T20:23:12.120Z"
   },
   {
    "duration": 7,
    "start_time": "2021-08-02T20:23:12.126Z"
   },
   {
    "duration": 23,
    "start_time": "2021-08-02T20:23:12.136Z"
   },
   {
    "duration": 52,
    "start_time": "2021-08-02T20:23:12.203Z"
   },
   {
    "duration": 8,
    "start_time": "2021-08-02T20:23:12.259Z"
   },
   {
    "duration": 7,
    "start_time": "2021-08-02T20:23:12.270Z"
   },
   {
    "duration": 4,
    "start_time": "2021-08-02T20:23:12.306Z"
   },
   {
    "duration": 12,
    "start_time": "2021-08-02T20:23:12.313Z"
   },
   {
    "duration": 25,
    "start_time": "2021-08-02T20:23:12.328Z"
   },
   {
    "duration": 49,
    "start_time": "2021-08-02T20:23:12.356Z"
   },
   {
    "duration": 27,
    "start_time": "2021-08-02T20:23:12.408Z"
   },
   {
    "duration": 30,
    "start_time": "2021-08-02T20:23:12.437Z"
   },
   {
    "duration": 36,
    "start_time": "2021-08-02T20:23:12.470Z"
   },
   {
    "duration": 30,
    "start_time": "2021-08-02T20:23:12.509Z"
   },
   {
    "duration": 120,
    "start_time": "2021-08-02T20:23:12.541Z"
   },
   {
    "duration": 39,
    "start_time": "2021-08-02T20:23:12.664Z"
   },
   {
    "duration": 12,
    "start_time": "2021-08-02T20:23:12.705Z"
   },
   {
    "duration": 23,
    "start_time": "2021-08-02T20:26:01.577Z"
   },
   {
    "duration": 22,
    "start_time": "2021-08-02T20:29:10.196Z"
   },
   {
    "duration": 122,
    "start_time": "2021-08-02T20:31:38.605Z"
   },
   {
    "duration": 40,
    "start_time": "2021-08-02T20:31:54.170Z"
   },
   {
    "duration": 1522,
    "start_time": "2021-08-02T20:32:01.734Z"
   },
   {
    "duration": 85,
    "start_time": "2021-08-02T20:32:03.259Z"
   },
   {
    "duration": 15,
    "start_time": "2021-08-02T20:32:03.347Z"
   },
   {
    "duration": 49,
    "start_time": "2021-08-02T20:32:03.365Z"
   },
   {
    "duration": 5,
    "start_time": "2021-08-02T20:32:03.417Z"
   },
   {
    "duration": 13,
    "start_time": "2021-08-02T20:32:03.430Z"
   },
   {
    "duration": 34,
    "start_time": "2021-08-02T20:32:03.445Z"
   },
   {
    "duration": 61,
    "start_time": "2021-08-02T20:32:03.482Z"
   },
   {
    "duration": 6,
    "start_time": "2021-08-02T20:32:03.548Z"
   },
   {
    "duration": 16,
    "start_time": "2021-08-02T20:32:03.557Z"
   },
   {
    "duration": 37,
    "start_time": "2021-08-02T20:32:03.576Z"
   },
   {
    "duration": 19,
    "start_time": "2021-08-02T20:32:03.616Z"
   },
   {
    "duration": 35,
    "start_time": "2021-08-02T20:32:03.637Z"
   },
   {
    "duration": 10,
    "start_time": "2021-08-02T20:32:03.674Z"
   },
   {
    "duration": 36,
    "start_time": "2021-08-02T20:32:03.687Z"
   },
   {
    "duration": 31,
    "start_time": "2021-08-02T20:32:03.728Z"
   },
   {
    "duration": 41,
    "start_time": "2021-08-02T20:32:03.761Z"
   },
   {
    "duration": 37,
    "start_time": "2021-08-02T20:32:03.808Z"
   },
   {
    "duration": 137,
    "start_time": "2021-08-02T20:32:03.848Z"
   },
   {
    "duration": 132,
    "start_time": "2021-08-02T20:32:03.987Z"
   },
   {
    "duration": 14,
    "start_time": "2021-08-02T20:32:04.128Z"
   },
   {
    "duration": 12,
    "start_time": "2021-08-02T20:32:04.144Z"
   },
   {
    "duration": 562,
    "start_time": "2021-08-02T20:34:15.803Z"
   },
   {
    "duration": 330,
    "start_time": "2021-08-02T20:34:26.933Z"
   },
   {
    "duration": 1507,
    "start_time": "2021-08-02T20:34:37.073Z"
   },
   {
    "duration": 85,
    "start_time": "2021-08-02T20:34:38.583Z"
   },
   {
    "duration": 39,
    "start_time": "2021-08-02T20:34:38.671Z"
   },
   {
    "duration": 25,
    "start_time": "2021-08-02T20:34:38.713Z"
   },
   {
    "duration": 3,
    "start_time": "2021-08-02T20:34:38.741Z"
   },
   {
    "duration": 10,
    "start_time": "2021-08-02T20:34:38.747Z"
   },
   {
    "duration": 57,
    "start_time": "2021-08-02T20:34:38.760Z"
   },
   {
    "duration": 41,
    "start_time": "2021-08-02T20:34:38.820Z"
   },
   {
    "duration": 8,
    "start_time": "2021-08-02T20:34:38.866Z"
   },
   {
    "duration": 4,
    "start_time": "2021-08-02T20:34:38.908Z"
   },
   {
    "duration": 8,
    "start_time": "2021-08-02T20:34:38.914Z"
   },
   {
    "duration": 9,
    "start_time": "2021-08-02T20:34:38.929Z"
   },
   {
    "duration": 23,
    "start_time": "2021-08-02T20:34:38.941Z"
   },
   {
    "duration": 43,
    "start_time": "2021-08-02T20:34:38.967Z"
   },
   {
    "duration": 14,
    "start_time": "2021-08-02T20:34:39.012Z"
   },
   {
    "duration": 20,
    "start_time": "2021-08-02T20:34:39.029Z"
   },
   {
    "duration": 76,
    "start_time": "2021-08-02T20:34:39.052Z"
   },
   {
    "duration": 32,
    "start_time": "2021-08-02T20:34:39.130Z"
   },
   {
    "duration": 547,
    "start_time": "2021-08-02T20:34:39.165Z"
   },
   {
    "duration": -202,
    "start_time": "2021-08-02T20:34:39.917Z"
   },
   {
    "duration": -203,
    "start_time": "2021-08-02T20:34:39.919Z"
   },
   {
    "duration": -204,
    "start_time": "2021-08-02T20:34:39.921Z"
   },
   {
    "duration": 109,
    "start_time": "2021-08-02T20:35:25.332Z"
   },
   {
    "duration": 14,
    "start_time": "2021-08-02T20:35:27.480Z"
   },
   {
    "duration": 10,
    "start_time": "2021-08-02T20:35:27.650Z"
   },
   {
    "duration": 382,
    "start_time": "2021-08-02T20:37:18.206Z"
   },
   {
    "duration": 1430,
    "start_time": "2021-08-02T20:37:24.733Z"
   },
   {
    "duration": 80,
    "start_time": "2021-08-02T20:37:26.166Z"
   },
   {
    "duration": 14,
    "start_time": "2021-08-02T20:37:26.249Z"
   },
   {
    "duration": 57,
    "start_time": "2021-08-02T20:37:26.265Z"
   },
   {
    "duration": 9,
    "start_time": "2021-08-02T20:37:26.324Z"
   },
   {
    "duration": 6,
    "start_time": "2021-08-02T20:37:26.335Z"
   },
   {
    "duration": 18,
    "start_time": "2021-08-02T20:37:26.343Z"
   },
   {
    "duration": 90,
    "start_time": "2021-08-02T20:37:26.365Z"
   },
   {
    "duration": 7,
    "start_time": "2021-08-02T20:37:26.458Z"
   },
   {
    "duration": 7,
    "start_time": "2021-08-02T20:37:26.467Z"
   },
   {
    "duration": 18,
    "start_time": "2021-08-02T20:37:26.477Z"
   },
   {
    "duration": 20,
    "start_time": "2021-08-02T20:37:26.497Z"
   },
   {
    "duration": 34,
    "start_time": "2021-08-02T20:37:26.519Z"
   },
   {
    "duration": 552,
    "start_time": "2021-08-02T20:37:26.555Z"
   },
   {
    "duration": -137,
    "start_time": "2021-08-02T20:37:27.248Z"
   },
   {
    "duration": -137,
    "start_time": "2021-08-02T20:37:27.250Z"
   },
   {
    "duration": -137,
    "start_time": "2021-08-02T20:37:27.253Z"
   },
   {
    "duration": -137,
    "start_time": "2021-08-02T20:37:27.255Z"
   },
   {
    "duration": -138,
    "start_time": "2021-08-02T20:37:27.258Z"
   },
   {
    "duration": -136,
    "start_time": "2021-08-02T20:37:27.259Z"
   },
   {
    "duration": -136,
    "start_time": "2021-08-02T20:37:27.261Z"
   },
   {
    "duration": 364,
    "start_time": "2021-08-02T20:37:44.918Z"
   },
   {
    "duration": 384,
    "start_time": "2021-08-02T20:38:11.190Z"
   },
   {
    "duration": 1484,
    "start_time": "2021-08-02T20:38:18.684Z"
   },
   {
    "duration": 83,
    "start_time": "2021-08-02T20:38:20.171Z"
   },
   {
    "duration": 18,
    "start_time": "2021-08-02T20:38:20.258Z"
   },
   {
    "duration": 26,
    "start_time": "2021-08-02T20:38:20.302Z"
   },
   {
    "duration": 3,
    "start_time": "2021-08-02T20:38:20.330Z"
   },
   {
    "duration": 8,
    "start_time": "2021-08-02T20:38:20.336Z"
   },
   {
    "duration": 17,
    "start_time": "2021-08-02T20:38:20.346Z"
   },
   {
    "duration": 40,
    "start_time": "2021-08-02T20:38:20.402Z"
   },
   {
    "duration": 7,
    "start_time": "2021-08-02T20:38:20.446Z"
   },
   {
    "duration": 8,
    "start_time": "2021-08-02T20:38:20.456Z"
   },
   {
    "duration": 4,
    "start_time": "2021-08-02T20:38:20.510Z"
   },
   {
    "duration": 14,
    "start_time": "2021-08-02T20:38:20.517Z"
   },
   {
    "duration": 22,
    "start_time": "2021-08-02T20:38:20.534Z"
   },
   {
    "duration": 503,
    "start_time": "2021-08-02T20:38:20.559Z"
   },
   {
    "duration": -145,
    "start_time": "2021-08-02T20:38:21.210Z"
   },
   {
    "duration": -149,
    "start_time": "2021-08-02T20:38:21.216Z"
   },
   {
    "duration": -175,
    "start_time": "2021-08-02T20:38:21.244Z"
   },
   {
    "duration": -175,
    "start_time": "2021-08-02T20:38:21.246Z"
   },
   {
    "duration": -175,
    "start_time": "2021-08-02T20:38:21.248Z"
   },
   {
    "duration": -176,
    "start_time": "2021-08-02T20:38:21.251Z"
   },
   {
    "duration": -177,
    "start_time": "2021-08-02T20:38:21.254Z"
   },
   {
    "duration": 1424,
    "start_time": "2021-08-03T05:38:44.739Z"
   },
   {
    "duration": 88,
    "start_time": "2021-08-03T05:38:46.165Z"
   },
   {
    "duration": 21,
    "start_time": "2021-08-03T05:38:46.256Z"
   },
   {
    "duration": 44,
    "start_time": "2021-08-03T05:38:46.280Z"
   },
   {
    "duration": 11,
    "start_time": "2021-08-03T05:38:46.327Z"
   },
   {
    "duration": 9,
    "start_time": "2021-08-03T05:38:46.340Z"
   },
   {
    "duration": 16,
    "start_time": "2021-08-03T05:38:46.352Z"
   },
   {
    "duration": 76,
    "start_time": "2021-08-03T05:38:46.372Z"
   },
   {
    "duration": 9,
    "start_time": "2021-08-03T05:38:46.451Z"
   },
   {
    "duration": 11,
    "start_time": "2021-08-03T05:38:46.462Z"
   },
   {
    "duration": 7,
    "start_time": "2021-08-03T05:38:46.501Z"
   },
   {
    "duration": 8,
    "start_time": "2021-08-03T05:38:46.511Z"
   },
   {
    "duration": 28,
    "start_time": "2021-08-03T05:38:46.522Z"
   },
   {
    "duration": 489,
    "start_time": "2021-08-03T05:38:46.552Z"
   },
   {
    "duration": -37,
    "start_time": "2021-08-03T05:38:47.081Z"
   },
   {
    "duration": -42,
    "start_time": "2021-08-03T05:38:47.087Z"
   },
   {
    "duration": -42,
    "start_time": "2021-08-03T05:38:47.089Z"
   },
   {
    "duration": -43,
    "start_time": "2021-08-03T05:38:47.091Z"
   },
   {
    "duration": -45,
    "start_time": "2021-08-03T05:38:47.094Z"
   },
   {
    "duration": -45,
    "start_time": "2021-08-03T05:38:47.096Z"
   },
   {
    "duration": -45,
    "start_time": "2021-08-03T05:38:47.097Z"
   },
   {
    "duration": 8596,
    "start_time": "2021-08-03T05:39:03.230Z"
   },
   {
    "duration": -29,
    "start_time": "2021-08-03T05:39:11.857Z"
   },
   {
    "duration": 1435,
    "start_time": "2021-08-03T05:39:16.518Z"
   },
   {
    "duration": 83,
    "start_time": "2021-08-03T05:39:17.956Z"
   },
   {
    "duration": 14,
    "start_time": "2021-08-03T05:39:18.042Z"
   },
   {
    "duration": 20,
    "start_time": "2021-08-03T05:39:18.058Z"
   },
   {
    "duration": 41,
    "start_time": "2021-08-03T05:39:18.080Z"
   },
   {
    "duration": 33,
    "start_time": "2021-08-03T05:39:18.123Z"
   },
   {
    "duration": 13,
    "start_time": "2021-08-03T05:39:18.158Z"
   },
   {
    "duration": 46,
    "start_time": "2021-08-03T05:39:18.201Z"
   },
   {
    "duration": 8,
    "start_time": "2021-08-03T05:39:18.251Z"
   },
   {
    "duration": 7,
    "start_time": "2021-08-03T05:39:18.261Z"
   },
   {
    "duration": 38,
    "start_time": "2021-08-03T05:39:18.270Z"
   },
   {
    "duration": 9,
    "start_time": "2021-08-03T05:39:18.311Z"
   },
   {
    "duration": 26,
    "start_time": "2021-08-03T05:39:18.322Z"
   },
   {
    "duration": 485,
    "start_time": "2021-08-03T05:39:18.351Z"
   },
   {
    "duration": -25,
    "start_time": "2021-08-03T05:39:18.864Z"
   },
   {
    "duration": -27,
    "start_time": "2021-08-03T05:39:18.868Z"
   },
   {
    "duration": -38,
    "start_time": "2021-08-03T05:39:18.881Z"
   },
   {
    "duration": -39,
    "start_time": "2021-08-03T05:39:18.885Z"
   },
   {
    "duration": -40,
    "start_time": "2021-08-03T05:39:18.888Z"
   },
   {
    "duration": -41,
    "start_time": "2021-08-03T05:39:18.891Z"
   },
   {
    "duration": -41,
    "start_time": "2021-08-03T05:39:18.893Z"
   },
   {
    "duration": 26,
    "start_time": "2021-08-03T05:40:18.778Z"
   },
   {
    "duration": 369,
    "start_time": "2021-08-03T05:40:20.793Z"
   },
   {
    "duration": 7,
    "start_time": "2021-08-03T05:40:21.897Z"
   },
   {
    "duration": 381,
    "start_time": "2021-08-03T05:44:08.936Z"
   },
   {
    "duration": 1456,
    "start_time": "2021-08-03T05:45:25.411Z"
   },
   {
    "duration": 79,
    "start_time": "2021-08-03T05:45:26.869Z"
   },
   {
    "duration": 14,
    "start_time": "2021-08-03T05:45:26.951Z"
   },
   {
    "duration": 36,
    "start_time": "2021-08-03T05:45:26.968Z"
   },
   {
    "duration": 21,
    "start_time": "2021-08-03T05:45:27.007Z"
   },
   {
    "duration": 32,
    "start_time": "2021-08-03T05:45:27.031Z"
   },
   {
    "duration": 50,
    "start_time": "2021-08-03T05:45:27.065Z"
   },
   {
    "duration": 41,
    "start_time": "2021-08-03T05:45:27.117Z"
   },
   {
    "duration": 6,
    "start_time": "2021-08-03T05:45:27.162Z"
   },
   {
    "duration": 30,
    "start_time": "2021-08-03T05:45:27.171Z"
   },
   {
    "duration": 6,
    "start_time": "2021-08-03T05:45:27.205Z"
   },
   {
    "duration": 31,
    "start_time": "2021-08-03T05:45:27.214Z"
   },
   {
    "duration": 52,
    "start_time": "2021-08-03T05:45:27.248Z"
   },
   {
    "duration": 23,
    "start_time": "2021-08-03T05:45:27.303Z"
   },
   {
    "duration": 35,
    "start_time": "2021-08-03T05:45:27.328Z"
   },
   {
    "duration": 32,
    "start_time": "2021-08-03T05:45:27.401Z"
   },
   {
    "duration": 137,
    "start_time": "2021-08-03T05:45:27.436Z"
   },
   {
    "duration": 13,
    "start_time": "2021-08-03T05:45:27.576Z"
   },
   {
    "duration": 9,
    "start_time": "2021-08-03T05:45:27.601Z"
   },
   {
    "duration": 15,
    "start_time": "2021-08-03T05:45:58.819Z"
   },
   {
    "duration": 1482,
    "start_time": "2021-08-03T05:46:09.385Z"
   },
   {
    "duration": 77,
    "start_time": "2021-08-03T05:46:10.870Z"
   },
   {
    "duration": 15,
    "start_time": "2021-08-03T05:46:10.950Z"
   },
   {
    "duration": 35,
    "start_time": "2021-08-03T05:46:10.969Z"
   },
   {
    "duration": 22,
    "start_time": "2021-08-03T05:46:11.007Z"
   },
   {
    "duration": 30,
    "start_time": "2021-08-03T05:46:11.031Z"
   },
   {
    "duration": 44,
    "start_time": "2021-08-03T05:46:11.064Z"
   },
   {
    "duration": 36,
    "start_time": "2021-08-03T05:46:11.112Z"
   },
   {
    "duration": 6,
    "start_time": "2021-08-03T05:46:11.151Z"
   },
   {
    "duration": 42,
    "start_time": "2021-08-03T05:46:11.159Z"
   },
   {
    "duration": 7,
    "start_time": "2021-08-03T05:46:11.203Z"
   },
   {
    "duration": 29,
    "start_time": "2021-08-03T05:46:11.212Z"
   },
   {
    "duration": 17,
    "start_time": "2021-08-03T05:46:11.244Z"
   },
   {
    "duration": 52,
    "start_time": "2021-08-03T05:46:11.264Z"
   },
   {
    "duration": 35,
    "start_time": "2021-08-03T05:46:11.319Z"
   },
   {
    "duration": 64,
    "start_time": "2021-08-03T05:46:11.357Z"
   },
   {
    "duration": 127,
    "start_time": "2021-08-03T05:46:11.424Z"
   },
   {
    "duration": 14,
    "start_time": "2021-08-03T05:46:11.554Z"
   },
   {
    "duration": 31,
    "start_time": "2021-08-03T05:46:11.570Z"
   },
   {
    "duration": 475,
    "start_time": "2021-08-03T05:46:56.539Z"
   },
   {
    "duration": 1412,
    "start_time": "2021-08-03T05:47:04.151Z"
   },
   {
    "duration": 75,
    "start_time": "2021-08-03T05:47:05.566Z"
   },
   {
    "duration": 14,
    "start_time": "2021-08-03T05:47:05.644Z"
   },
   {
    "duration": 28,
    "start_time": "2021-08-03T05:47:05.660Z"
   },
   {
    "duration": 26,
    "start_time": "2021-08-03T05:47:05.701Z"
   },
   {
    "duration": 40,
    "start_time": "2021-08-03T05:47:05.730Z"
   },
   {
    "duration": 29,
    "start_time": "2021-08-03T05:47:05.773Z"
   },
   {
    "duration": 39,
    "start_time": "2021-08-03T05:47:05.808Z"
   },
   {
    "duration": 6,
    "start_time": "2021-08-03T05:47:05.850Z"
   },
   {
    "duration": 24,
    "start_time": "2021-08-03T05:47:05.859Z"
   },
   {
    "duration": 20,
    "start_time": "2021-08-03T05:47:05.885Z"
   },
   {
    "duration": 36,
    "start_time": "2021-08-03T05:47:05.907Z"
   },
   {
    "duration": 501,
    "start_time": "2021-08-03T05:47:05.946Z"
   },
   {
    "duration": -23,
    "start_time": "2021-08-03T05:47:06.472Z"
   },
   {
    "duration": -23,
    "start_time": "2021-08-03T05:47:06.473Z"
   },
   {
    "duration": -35,
    "start_time": "2021-08-03T05:47:06.487Z"
   },
   {
    "duration": -39,
    "start_time": "2021-08-03T05:47:06.492Z"
   },
   {
    "duration": -42,
    "start_time": "2021-08-03T05:47:06.496Z"
   },
   {
    "duration": -47,
    "start_time": "2021-08-03T05:47:06.503Z"
   },
   {
    "duration": 14,
    "start_time": "2021-08-03T05:47:13.960Z"
   },
   {
    "duration": 14,
    "start_time": "2021-08-03T05:49:43.399Z"
   },
   {
    "duration": 1476,
    "start_time": "2021-08-03T05:49:52.791Z"
   },
   {
    "duration": 75,
    "start_time": "2021-08-03T05:49:54.270Z"
   },
   {
    "duration": 14,
    "start_time": "2021-08-03T05:49:54.348Z"
   },
   {
    "duration": 35,
    "start_time": "2021-08-03T05:49:54.366Z"
   },
   {
    "duration": 20,
    "start_time": "2021-08-03T05:49:54.404Z"
   },
   {
    "duration": 34,
    "start_time": "2021-08-03T05:49:54.426Z"
   },
   {
    "duration": 44,
    "start_time": "2021-08-03T05:49:54.462Z"
   },
   {
    "duration": 38,
    "start_time": "2021-08-03T05:49:54.508Z"
   },
   {
    "duration": 6,
    "start_time": "2021-08-03T05:49:54.550Z"
   },
   {
    "duration": 42,
    "start_time": "2021-08-03T05:49:54.559Z"
   },
   {
    "duration": 5,
    "start_time": "2021-08-03T05:49:54.603Z"
   },
   {
    "duration": 36,
    "start_time": "2021-08-03T05:49:54.611Z"
   },
   {
    "duration": 20,
    "start_time": "2021-08-03T05:49:54.651Z"
   },
   {
    "duration": 20,
    "start_time": "2021-08-03T05:49:54.701Z"
   },
   {
    "duration": 34,
    "start_time": "2021-08-03T05:49:54.724Z"
   },
   {
    "duration": 58,
    "start_time": "2021-08-03T05:49:54.761Z"
   },
   {
    "duration": 127,
    "start_time": "2021-08-03T05:49:54.822Z"
   },
   {
    "duration": 13,
    "start_time": "2021-08-03T05:49:54.951Z"
   },
   {
    "duration": 8,
    "start_time": "2021-08-03T05:49:54.967Z"
   },
   {
    "duration": 17,
    "start_time": "2021-08-03T05:50:12.922Z"
   },
   {
    "duration": 1460,
    "start_time": "2021-08-03T05:50:19.712Z"
   },
   {
    "duration": 79,
    "start_time": "2021-08-03T05:50:21.175Z"
   },
   {
    "duration": 17,
    "start_time": "2021-08-03T05:50:21.258Z"
   },
   {
    "duration": 40,
    "start_time": "2021-08-03T05:50:21.279Z"
   },
   {
    "duration": 20,
    "start_time": "2021-08-03T05:50:21.322Z"
   },
   {
    "duration": 64,
    "start_time": "2021-08-03T05:50:21.345Z"
   },
   {
    "duration": 20,
    "start_time": "2021-08-03T05:50:21.412Z"
   },
   {
    "duration": 37,
    "start_time": "2021-08-03T05:50:21.434Z"
   },
   {
    "duration": 31,
    "start_time": "2021-08-03T05:50:21.475Z"
   },
   {
    "duration": 5,
    "start_time": "2021-08-03T05:50:21.508Z"
   },
   {
    "duration": 10,
    "start_time": "2021-08-03T05:50:21.515Z"
   },
   {
    "duration": 23,
    "start_time": "2021-08-03T05:50:21.528Z"
   },
   {
    "duration": 12,
    "start_time": "2021-08-03T05:50:21.553Z"
   },
   {
    "duration": 52,
    "start_time": "2021-08-03T05:50:21.567Z"
   },
   {
    "duration": 31,
    "start_time": "2021-08-03T05:50:21.621Z"
   },
   {
    "duration": 64,
    "start_time": "2021-08-03T05:50:21.655Z"
   },
   {
    "duration": 118,
    "start_time": "2021-08-03T05:50:21.722Z"
   },
   {
    "duration": 14,
    "start_time": "2021-08-03T05:50:21.842Z"
   },
   {
    "duration": 10,
    "start_time": "2021-08-03T05:50:21.858Z"
   },
   {
    "duration": 583,
    "start_time": "2021-08-03T05:50:50.169Z"
   },
   {
    "duration": 1914,
    "start_time": "2021-08-03T05:50:56.590Z"
   },
   {
    "duration": 101,
    "start_time": "2021-08-03T05:50:58.507Z"
   },
   {
    "duration": 15,
    "start_time": "2021-08-03T05:50:58.611Z"
   },
   {
    "duration": 21,
    "start_time": "2021-08-03T05:50:58.629Z"
   },
   {
    "duration": 52,
    "start_time": "2021-08-03T05:50:58.652Z"
   },
   {
    "duration": 32,
    "start_time": "2021-08-03T05:50:58.706Z"
   },
   {
    "duration": 19,
    "start_time": "2021-08-03T05:50:58.740Z"
   },
   {
    "duration": 68,
    "start_time": "2021-08-03T05:50:58.762Z"
   },
   {
    "duration": 7,
    "start_time": "2021-08-03T05:50:58.834Z"
   },
   {
    "duration": 4,
    "start_time": "2021-08-03T05:50:58.844Z"
   },
   {
    "duration": 5,
    "start_time": "2021-08-03T05:50:58.851Z"
   },
   {
    "duration": 62,
    "start_time": "2021-08-03T05:50:58.859Z"
   },
   {
    "duration": 525,
    "start_time": "2021-08-03T05:50:58.924Z"
   },
   {
    "duration": -59,
    "start_time": "2021-08-03T05:50:59.511Z"
   },
   {
    "duration": -61,
    "start_time": "2021-08-03T05:50:59.515Z"
   },
   {
    "duration": -62,
    "start_time": "2021-08-03T05:50:59.518Z"
   },
   {
    "duration": -63,
    "start_time": "2021-08-03T05:50:59.520Z"
   },
   {
    "duration": -65,
    "start_time": "2021-08-03T05:50:59.523Z"
   },
   {
    "duration": -65,
    "start_time": "2021-08-03T05:50:59.525Z"
   },
   {
    "duration": 367,
    "start_time": "2021-08-03T05:51:33.929Z"
   },
   {
    "duration": 19,
    "start_time": "2021-08-03T05:54:27.337Z"
   },
   {
    "duration": 22,
    "start_time": "2021-08-03T05:54:33.744Z"
   },
   {
    "duration": 357,
    "start_time": "2021-08-03T05:54:55.402Z"
   },
   {
    "duration": 1473,
    "start_time": "2021-08-03T05:57:02.202Z"
   },
   {
    "duration": 76,
    "start_time": "2021-08-03T05:57:03.678Z"
   },
   {
    "duration": 14,
    "start_time": "2021-08-03T05:57:03.757Z"
   },
   {
    "duration": 44,
    "start_time": "2021-08-03T05:57:03.773Z"
   },
   {
    "duration": 44,
    "start_time": "2021-08-03T05:57:03.820Z"
   },
   {
    "duration": 29,
    "start_time": "2021-08-03T05:57:03.868Z"
   },
   {
    "duration": 13,
    "start_time": "2021-08-03T05:57:03.900Z"
   },
   {
    "duration": 51,
    "start_time": "2021-08-03T05:57:03.916Z"
   },
   {
    "duration": 7,
    "start_time": "2021-08-03T05:57:03.970Z"
   },
   {
    "duration": 22,
    "start_time": "2021-08-03T05:57:03.979Z"
   },
   {
    "duration": 10,
    "start_time": "2021-08-03T05:57:04.003Z"
   },
   {
    "duration": 51,
    "start_time": "2021-08-03T05:57:04.015Z"
   },
   {
    "duration": 490,
    "start_time": "2021-08-03T05:57:04.069Z"
   },
   {
    "duration": -52,
    "start_time": "2021-08-03T05:57:04.614Z"
   },
   {
    "duration": -53,
    "start_time": "2021-08-03T05:57:04.616Z"
   },
   {
    "duration": -52,
    "start_time": "2021-08-03T05:57:04.617Z"
   },
   {
    "duration": -52,
    "start_time": "2021-08-03T05:57:04.618Z"
   },
   {
    "duration": -51,
    "start_time": "2021-08-03T05:57:04.619Z"
   },
   {
    "duration": -51,
    "start_time": "2021-08-03T05:57:04.620Z"
   },
   {
    "duration": 349,
    "start_time": "2021-08-03T05:57:21.461Z"
   },
   {
    "duration": 15,
    "start_time": "2021-08-03T05:57:49.964Z"
   },
   {
    "duration": 370,
    "start_time": "2021-08-03T05:58:23.484Z"
   },
   {
    "duration": 25,
    "start_time": "2021-08-03T05:58:26.211Z"
   },
   {
    "duration": 403,
    "start_time": "2021-08-03T05:58:41.525Z"
   },
   {
    "duration": 412,
    "start_time": "2021-08-03T05:59:12.477Z"
   },
   {
    "duration": 1909,
    "start_time": "2021-08-03T05:59:19.620Z"
   },
   {
    "duration": 104,
    "start_time": "2021-08-03T05:59:21.532Z"
   },
   {
    "duration": 19,
    "start_time": "2021-08-03T05:59:21.640Z"
   },
   {
    "duration": 44,
    "start_time": "2021-08-03T05:59:21.663Z"
   },
   {
    "duration": 25,
    "start_time": "2021-08-03T05:59:21.710Z"
   },
   {
    "duration": 33,
    "start_time": "2021-08-03T05:59:21.738Z"
   },
   {
    "duration": 44,
    "start_time": "2021-08-03T05:59:21.774Z"
   },
   {
    "duration": 60,
    "start_time": "2021-08-03T05:59:21.823Z"
   },
   {
    "duration": 6,
    "start_time": "2021-08-03T05:59:21.901Z"
   },
   {
    "duration": 4,
    "start_time": "2021-08-03T05:59:21.910Z"
   },
   {
    "duration": 6,
    "start_time": "2021-08-03T05:59:21.917Z"
   },
   {
    "duration": 26,
    "start_time": "2021-08-03T05:59:21.925Z"
   },
   {
    "duration": 491,
    "start_time": "2021-08-03T05:59:21.953Z"
   },
   {
    "duration": -83,
    "start_time": "2021-08-03T05:59:22.531Z"
   },
   {
    "duration": -84,
    "start_time": "2021-08-03T05:59:22.534Z"
   },
   {
    "duration": -86,
    "start_time": "2021-08-03T05:59:22.537Z"
   },
   {
    "duration": -87,
    "start_time": "2021-08-03T05:59:22.540Z"
   },
   {
    "duration": -87,
    "start_time": "2021-08-03T05:59:22.542Z"
   },
   {
    "duration": -87,
    "start_time": "2021-08-03T05:59:22.544Z"
   },
   {
    "duration": 378,
    "start_time": "2021-08-03T05:59:35.972Z"
   },
   {
    "duration": 394,
    "start_time": "2021-08-03T06:16:57.699Z"
   },
   {
    "duration": 2866,
    "start_time": "2021-08-03T06:17:04.676Z"
   },
   {
    "duration": 84,
    "start_time": "2021-08-03T06:17:07.546Z"
   },
   {
    "duration": 14,
    "start_time": "2021-08-03T06:17:07.633Z"
   },
   {
    "duration": 21,
    "start_time": "2021-08-03T06:17:07.650Z"
   },
   {
    "duration": 25,
    "start_time": "2021-08-03T06:17:07.701Z"
   },
   {
    "duration": 32,
    "start_time": "2021-08-03T06:17:07.728Z"
   },
   {
    "duration": 43,
    "start_time": "2021-08-03T06:17:07.763Z"
   },
   {
    "duration": 56,
    "start_time": "2021-08-03T06:17:07.813Z"
   },
   {
    "duration": 30,
    "start_time": "2021-08-03T06:17:07.874Z"
   },
   {
    "duration": 11,
    "start_time": "2021-08-03T06:17:07.908Z"
   },
   {
    "duration": 6,
    "start_time": "2021-08-03T06:17:07.922Z"
   },
   {
    "duration": 49,
    "start_time": "2021-08-03T06:17:07.931Z"
   },
   {
    "duration": 524,
    "start_time": "2021-08-03T06:17:07.982Z"
   },
   {
    "duration": -28,
    "start_time": "2021-08-03T06:17:08.537Z"
   },
   {
    "duration": -35,
    "start_time": "2021-08-03T06:17:08.545Z"
   },
   {
    "duration": -35,
    "start_time": "2021-08-03T06:17:08.547Z"
   },
   {
    "duration": -34,
    "start_time": "2021-08-03T06:17:08.548Z"
   },
   {
    "duration": -35,
    "start_time": "2021-08-03T06:17:08.550Z"
   },
   {
    "duration": -35,
    "start_time": "2021-08-03T06:17:08.551Z"
   },
   {
    "duration": 384,
    "start_time": "2021-08-03T06:17:23.880Z"
   },
   {
    "duration": 608,
    "start_time": "2021-08-03T06:17:45.281Z"
   },
   {
    "duration": 29,
    "start_time": "2021-08-03T06:17:56.105Z"
   },
   {
    "duration": 654,
    "start_time": "2021-08-03T06:18:22.328Z"
   },
   {
    "duration": 406,
    "start_time": "2021-08-03T06:21:24.569Z"
   },
   {
    "duration": 1569,
    "start_time": "2021-08-03T06:21:31.559Z"
   },
   {
    "duration": 108,
    "start_time": "2021-08-03T06:21:33.132Z"
   },
   {
    "duration": 14,
    "start_time": "2021-08-03T06:21:33.244Z"
   },
   {
    "duration": 23,
    "start_time": "2021-08-03T06:21:33.261Z"
   },
   {
    "duration": 55,
    "start_time": "2021-08-03T06:21:33.287Z"
   },
   {
    "duration": 41,
    "start_time": "2021-08-03T06:21:33.344Z"
   },
   {
    "duration": 53,
    "start_time": "2021-08-03T06:21:33.387Z"
   },
   {
    "duration": 40,
    "start_time": "2021-08-03T06:21:33.445Z"
   },
   {
    "duration": 24,
    "start_time": "2021-08-03T06:21:33.488Z"
   },
   {
    "duration": 32,
    "start_time": "2021-08-03T06:21:33.515Z"
   },
   {
    "duration": 15,
    "start_time": "2021-08-03T06:21:33.550Z"
   },
   {
    "duration": 63,
    "start_time": "2021-08-03T06:21:33.570Z"
   },
   {
    "duration": 991,
    "start_time": "2021-08-03T06:21:33.636Z"
   },
   {
    "duration": -36,
    "start_time": "2021-08-03T06:21:34.667Z"
   },
   {
    "duration": -36,
    "start_time": "2021-08-03T06:21:34.669Z"
   },
   {
    "duration": -37,
    "start_time": "2021-08-03T06:21:34.674Z"
   },
   {
    "duration": -44,
    "start_time": "2021-08-03T06:21:34.684Z"
   },
   {
    "duration": -45,
    "start_time": "2021-08-03T06:21:34.686Z"
   },
   {
    "duration": -45,
    "start_time": "2021-08-03T06:21:34.688Z"
   },
   {
    "duration": 378,
    "start_time": "2021-08-03T06:21:42.386Z"
   },
   {
    "duration": 1791,
    "start_time": "2021-08-03T06:27:38.351Z"
   },
   {
    "duration": 91,
    "start_time": "2021-08-03T06:27:40.145Z"
   },
   {
    "duration": 18,
    "start_time": "2021-08-03T06:27:40.240Z"
   },
   {
    "duration": 49,
    "start_time": "2021-08-03T06:27:40.262Z"
   },
   {
    "duration": 30,
    "start_time": "2021-08-03T06:27:40.317Z"
   },
   {
    "duration": 67,
    "start_time": "2021-08-03T06:27:40.350Z"
   },
   {
    "duration": 24,
    "start_time": "2021-08-03T06:27:40.420Z"
   },
   {
    "duration": 84,
    "start_time": "2021-08-03T06:27:40.447Z"
   },
   {
    "duration": 8,
    "start_time": "2021-08-03T06:27:40.535Z"
   },
   {
    "duration": 5,
    "start_time": "2021-08-03T06:27:40.546Z"
   },
   {
    "duration": 8,
    "start_time": "2021-08-03T06:27:40.554Z"
   },
   {
    "duration": 55,
    "start_time": "2021-08-03T06:27:40.565Z"
   },
   {
    "duration": 2335,
    "start_time": "2021-08-03T06:27:40.625Z"
   },
   {
    "duration": -66,
    "start_time": "2021-08-03T06:27:43.029Z"
   },
   {
    "duration": -65,
    "start_time": "2021-08-03T06:27:43.030Z"
   },
   {
    "duration": -68,
    "start_time": "2021-08-03T06:27:43.034Z"
   },
   {
    "duration": -68,
    "start_time": "2021-08-03T06:27:43.035Z"
   },
   {
    "duration": -67,
    "start_time": "2021-08-03T06:27:43.036Z"
   },
   {
    "duration": -67,
    "start_time": "2021-08-03T06:27:43.037Z"
   },
   {
    "duration": 1973,
    "start_time": "2021-08-03T06:27:56.348Z"
   },
   {
    "duration": 22,
    "start_time": "2021-08-03T06:28:15.265Z"
   },
   {
    "duration": 17,
    "start_time": "2021-08-03T06:28:45.281Z"
   },
   {
    "duration": 16,
    "start_time": "2021-08-03T06:28:54.254Z"
   },
   {
    "duration": 10,
    "start_time": "2021-08-03T06:29:39.265Z"
   },
   {
    "duration": 14,
    "start_time": "2021-08-03T06:29:46.089Z"
   },
   {
    "duration": 18,
    "start_time": "2021-08-03T06:29:58.856Z"
   },
   {
    "duration": 23,
    "start_time": "2021-08-03T06:30:40.033Z"
   },
   {
    "duration": 25,
    "start_time": "2021-08-03T06:31:47.977Z"
   },
   {
    "duration": 34,
    "start_time": "2021-08-03T06:32:14.913Z"
   },
   {
    "duration": 29,
    "start_time": "2021-08-03T06:32:20.595Z"
   },
   {
    "duration": 12,
    "start_time": "2021-08-03T06:32:29.209Z"
   },
   {
    "duration": 12,
    "start_time": "2021-08-03T06:32:39.486Z"
   },
   {
    "duration": 14,
    "start_time": "2021-08-03T06:32:48.017Z"
   },
   {
    "duration": 25,
    "start_time": "2021-08-03T06:32:56.729Z"
   },
   {
    "duration": 1659,
    "start_time": "2021-08-03T06:33:03.532Z"
   },
   {
    "duration": 80,
    "start_time": "2021-08-03T06:33:05.196Z"
   },
   {
    "duration": 29,
    "start_time": "2021-08-03T06:33:05.279Z"
   },
   {
    "duration": 28,
    "start_time": "2021-08-03T06:33:05.317Z"
   },
   {
    "duration": 20,
    "start_time": "2021-08-03T06:33:05.348Z"
   },
   {
    "duration": 67,
    "start_time": "2021-08-03T06:33:05.371Z"
   },
   {
    "duration": 32,
    "start_time": "2021-08-03T06:33:05.441Z"
   },
   {
    "duration": 60,
    "start_time": "2021-08-03T06:33:05.477Z"
   },
   {
    "duration": 9,
    "start_time": "2021-08-03T06:33:05.541Z"
   },
   {
    "duration": 5,
    "start_time": "2021-08-03T06:33:05.553Z"
   },
   {
    "duration": 47,
    "start_time": "2021-08-03T06:33:05.561Z"
   },
   {
    "duration": 37,
    "start_time": "2021-08-03T06:33:05.614Z"
   },
   {
    "duration": 20,
    "start_time": "2021-08-03T06:33:05.654Z"
   },
   {
    "duration": 55,
    "start_time": "2021-08-03T06:33:05.676Z"
   },
   {
    "duration": 33,
    "start_time": "2021-08-03T06:33:05.733Z"
   },
   {
    "duration": 64,
    "start_time": "2021-08-03T06:33:05.768Z"
   },
   {
    "duration": 136,
    "start_time": "2021-08-03T06:33:05.835Z"
   },
   {
    "duration": 12,
    "start_time": "2021-08-03T06:33:05.975Z"
   },
   {
    "duration": 21,
    "start_time": "2021-08-03T06:33:05.989Z"
   },
   {
    "duration": 37,
    "start_time": "2021-08-03T06:33:32.678Z"
   },
   {
    "duration": 1860,
    "start_time": "2021-08-03T06:33:41.082Z"
   },
   {
    "duration": 103,
    "start_time": "2021-08-03T06:33:42.946Z"
   },
   {
    "duration": 14,
    "start_time": "2021-08-03T06:33:43.052Z"
   },
   {
    "duration": 40,
    "start_time": "2021-08-03T06:33:43.070Z"
   },
   {
    "duration": 26,
    "start_time": "2021-08-03T06:33:43.114Z"
   },
   {
    "duration": 67,
    "start_time": "2021-08-03T06:33:43.143Z"
   },
   {
    "duration": 24,
    "start_time": "2021-08-03T06:33:43.214Z"
   },
   {
    "duration": 70,
    "start_time": "2021-08-03T06:33:43.243Z"
   },
   {
    "duration": 8,
    "start_time": "2021-08-03T06:33:43.317Z"
   },
   {
    "duration": 14,
    "start_time": "2021-08-03T06:33:43.328Z"
   },
   {
    "duration": 11,
    "start_time": "2021-08-03T06:33:43.345Z"
   },
   {
    "duration": 54,
    "start_time": "2021-08-03T06:33:43.359Z"
   },
   {
    "duration": 35,
    "start_time": "2021-08-03T06:33:43.416Z"
   },
   {
    "duration": 21,
    "start_time": "2021-08-03T06:33:43.453Z"
   },
   {
    "duration": 36,
    "start_time": "2021-08-03T06:33:43.501Z"
   },
   {
    "duration": 62,
    "start_time": "2021-08-03T06:33:43.540Z"
   },
   {
    "duration": 133,
    "start_time": "2021-08-03T06:33:43.609Z"
   },
   {
    "duration": 12,
    "start_time": "2021-08-03T06:33:43.745Z"
   },
   {
    "duration": 15,
    "start_time": "2021-08-03T06:33:43.760Z"
   },
   {
    "duration": 48,
    "start_time": "2021-08-03T06:35:58.544Z"
   },
   {
    "duration": 1571,
    "start_time": "2021-08-03T06:36:06.264Z"
   },
   {
    "duration": 82,
    "start_time": "2021-08-03T06:36:07.838Z"
   },
   {
    "duration": 19,
    "start_time": "2021-08-03T06:36:07.924Z"
   },
   {
    "duration": 27,
    "start_time": "2021-08-03T06:36:07.946Z"
   },
   {
    "duration": 29,
    "start_time": "2021-08-03T06:36:08.001Z"
   },
   {
    "duration": 33,
    "start_time": "2021-08-03T06:36:08.033Z"
   },
   {
    "duration": 41,
    "start_time": "2021-08-03T06:36:08.069Z"
   },
   {
    "duration": 40,
    "start_time": "2021-08-03T06:36:08.116Z"
   },
   {
    "duration": 8,
    "start_time": "2021-08-03T06:36:08.160Z"
   },
   {
    "duration": 11,
    "start_time": "2021-08-03T06:36:08.202Z"
   },
   {
    "duration": 4,
    "start_time": "2021-08-03T06:36:08.233Z"
   },
   {
    "duration": 32,
    "start_time": "2021-08-03T06:36:08.240Z"
   },
   {
    "duration": 60,
    "start_time": "2021-08-03T06:36:08.275Z"
   },
   {
    "duration": 28,
    "start_time": "2021-08-03T06:36:08.338Z"
   },
   {
    "duration": 67,
    "start_time": "2021-08-03T06:36:08.369Z"
   },
   {
    "duration": 40,
    "start_time": "2021-08-03T06:36:08.439Z"
   },
   {
    "duration": 132,
    "start_time": "2021-08-03T06:36:08.482Z"
   },
   {
    "duration": 15,
    "start_time": "2021-08-03T06:36:08.616Z"
   },
   {
    "duration": 13,
    "start_time": "2021-08-03T06:36:08.634Z"
   },
   {
    "duration": 35,
    "start_time": "2021-08-03T06:36:31.359Z"
   },
   {
    "duration": 43,
    "start_time": "2021-08-03T06:36:43.702Z"
   },
   {
    "duration": 25,
    "start_time": "2021-08-03T06:36:54.630Z"
   },
   {
    "duration": 1526,
    "start_time": "2021-08-03T06:37:06.150Z"
   },
   {
    "duration": 79,
    "start_time": "2021-08-03T06:37:07.679Z"
   },
   {
    "duration": 15,
    "start_time": "2021-08-03T06:37:07.761Z"
   },
   {
    "duration": 41,
    "start_time": "2021-08-03T06:37:07.778Z"
   },
   {
    "duration": 22,
    "start_time": "2021-08-03T06:37:07.822Z"
   },
   {
    "duration": 58,
    "start_time": "2021-08-03T06:37:07.847Z"
   },
   {
    "duration": 22,
    "start_time": "2021-08-03T06:37:07.908Z"
   },
   {
    "duration": 36,
    "start_time": "2021-08-03T06:37:07.935Z"
   },
   {
    "duration": 37,
    "start_time": "2021-08-03T06:37:07.973Z"
   },
   {
    "duration": 5,
    "start_time": "2021-08-03T06:37:08.016Z"
   },
   {
    "duration": 25,
    "start_time": "2021-08-03T06:37:08.024Z"
   },
   {
    "duration": 37,
    "start_time": "2021-08-03T06:37:08.051Z"
   },
   {
    "duration": 44,
    "start_time": "2021-08-03T06:37:08.090Z"
   },
   {
    "duration": 29,
    "start_time": "2021-08-03T06:37:08.137Z"
   },
   {
    "duration": 40,
    "start_time": "2021-08-03T06:37:08.201Z"
   },
   {
    "duration": 60,
    "start_time": "2021-08-03T06:37:08.244Z"
   },
   {
    "duration": 118,
    "start_time": "2021-08-03T06:37:08.307Z"
   },
   {
    "duration": 14,
    "start_time": "2021-08-03T06:37:08.427Z"
   },
   {
    "duration": 10,
    "start_time": "2021-08-03T06:37:08.443Z"
   },
   {
    "duration": 21,
    "start_time": "2021-08-03T06:37:25.543Z"
   },
   {
    "duration": 20,
    "start_time": "2021-08-03T06:37:40.320Z"
   },
   {
    "duration": 1640,
    "start_time": "2021-08-03T06:37:47.294Z"
   },
   {
    "duration": 86,
    "start_time": "2021-08-03T06:37:48.937Z"
   },
   {
    "duration": 15,
    "start_time": "2021-08-03T06:37:49.026Z"
   },
   {
    "duration": 20,
    "start_time": "2021-08-03T06:37:49.043Z"
   },
   {
    "duration": 56,
    "start_time": "2021-08-03T06:37:49.066Z"
   },
   {
    "duration": 32,
    "start_time": "2021-08-03T06:37:49.125Z"
   },
   {
    "duration": 22,
    "start_time": "2021-08-03T06:37:49.159Z"
   },
   {
    "duration": 52,
    "start_time": "2021-08-03T06:37:49.202Z"
   },
   {
    "duration": 7,
    "start_time": "2021-08-03T06:37:49.256Z"
   },
   {
    "duration": 5,
    "start_time": "2021-08-03T06:37:49.266Z"
   },
   {
    "duration": 5,
    "start_time": "2021-08-03T06:37:49.305Z"
   },
   {
    "duration": 40,
    "start_time": "2021-08-03T06:37:49.312Z"
   },
   {
    "duration": 61,
    "start_time": "2021-08-03T06:37:49.354Z"
   },
   {
    "duration": 22,
    "start_time": "2021-08-03T06:37:49.418Z"
   },
   {
    "duration": 66,
    "start_time": "2021-08-03T06:37:49.443Z"
   },
   {
    "duration": 37,
    "start_time": "2021-08-03T06:37:49.512Z"
   },
   {
    "duration": 131,
    "start_time": "2021-08-03T06:37:49.552Z"
   },
   {
    "duration": 29,
    "start_time": "2021-08-03T06:37:49.685Z"
   },
   {
    "duration": 17,
    "start_time": "2021-08-03T06:37:49.716Z"
   },
   {
    "duration": 195,
    "start_time": "2021-08-03T06:38:01.122Z"
   },
   {
    "duration": 161,
    "start_time": "2021-08-03T06:38:15.234Z"
   },
   {
    "duration": 166,
    "start_time": "2021-08-03T06:38:28.786Z"
   },
   {
    "duration": 27,
    "start_time": "2021-08-03T06:38:36.962Z"
   },
   {
    "duration": 1748,
    "start_time": "2021-08-03T06:38:45.169Z"
   },
   {
    "duration": 79,
    "start_time": "2021-08-03T06:38:46.920Z"
   },
   {
    "duration": 20,
    "start_time": "2021-08-03T06:38:47.002Z"
   },
   {
    "duration": 21,
    "start_time": "2021-08-03T06:38:47.024Z"
   },
   {
    "duration": 61,
    "start_time": "2021-08-03T06:38:47.049Z"
   },
   {
    "duration": 31,
    "start_time": "2021-08-03T06:38:47.113Z"
   },
   {
    "duration": 19,
    "start_time": "2021-08-03T06:38:47.146Z"
   },
   {
    "duration": 76,
    "start_time": "2021-08-03T06:38:47.170Z"
   },
   {
    "duration": 7,
    "start_time": "2021-08-03T06:38:47.249Z"
   },
   {
    "duration": 12,
    "start_time": "2021-08-03T06:38:47.258Z"
   },
   {
    "duration": 35,
    "start_time": "2021-08-03T06:38:47.272Z"
   },
   {
    "duration": 35,
    "start_time": "2021-08-03T06:38:47.310Z"
   },
   {
    "duration": 27,
    "start_time": "2021-08-03T06:38:47.347Z"
   },
   {
    "duration": 43,
    "start_time": "2021-08-03T06:38:47.376Z"
   },
   {
    "duration": 32,
    "start_time": "2021-08-03T06:38:47.422Z"
   },
   {
    "duration": 60,
    "start_time": "2021-08-03T06:38:47.457Z"
   },
   {
    "duration": 127,
    "start_time": "2021-08-03T06:38:47.519Z"
   },
   {
    "duration": 13,
    "start_time": "2021-08-03T06:38:47.648Z"
   },
   {
    "duration": 10,
    "start_time": "2021-08-03T06:38:47.664Z"
   },
   {
    "duration": 15,
    "start_time": "2021-08-03T06:39:08.426Z"
   },
   {
    "duration": 1586,
    "start_time": "2021-08-03T06:39:14.705Z"
   },
   {
    "duration": 110,
    "start_time": "2021-08-03T06:39:16.294Z"
   },
   {
    "duration": 23,
    "start_time": "2021-08-03T06:39:16.406Z"
   },
   {
    "duration": 23,
    "start_time": "2021-08-03T06:39:16.432Z"
   },
   {
    "duration": 54,
    "start_time": "2021-08-03T06:39:16.458Z"
   },
   {
    "duration": 38,
    "start_time": "2021-08-03T06:39:16.515Z"
   },
   {
    "duration": 33,
    "start_time": "2021-08-03T06:39:16.555Z"
   },
   {
    "duration": 48,
    "start_time": "2021-08-03T06:39:16.604Z"
   },
   {
    "duration": 6,
    "start_time": "2021-08-03T06:39:16.655Z"
   },
   {
    "duration": 6,
    "start_time": "2021-08-03T06:39:16.664Z"
   },
   {
    "duration": 31,
    "start_time": "2021-08-03T06:39:16.672Z"
   },
   {
    "duration": 33,
    "start_time": "2021-08-03T06:39:16.706Z"
   },
   {
    "duration": 21,
    "start_time": "2021-08-03T06:39:16.742Z"
   },
   {
    "duration": 63,
    "start_time": "2021-08-03T06:39:16.765Z"
   },
   {
    "duration": 34,
    "start_time": "2021-08-03T06:39:16.831Z"
   },
   {
    "duration": 67,
    "start_time": "2021-08-03T06:39:16.868Z"
   },
   {
    "duration": 141,
    "start_time": "2021-08-03T06:39:16.937Z"
   },
   {
    "duration": 26,
    "start_time": "2021-08-03T06:39:17.080Z"
   },
   {
    "duration": 15,
    "start_time": "2021-08-03T06:39:17.109Z"
   },
   {
    "duration": 20,
    "start_time": "2021-08-03T06:39:48.746Z"
   },
   {
    "duration": 1700,
    "start_time": "2021-08-03T06:40:13.622Z"
   },
   {
    "duration": 84,
    "start_time": "2021-08-03T06:40:15.326Z"
   },
   {
    "duration": 18,
    "start_time": "2021-08-03T06:40:15.416Z"
   },
   {
    "duration": 23,
    "start_time": "2021-08-03T06:40:15.437Z"
   },
   {
    "duration": 50,
    "start_time": "2021-08-03T06:40:15.463Z"
   },
   {
    "duration": 35,
    "start_time": "2021-08-03T06:40:15.516Z"
   },
   {
    "duration": 17,
    "start_time": "2021-08-03T06:40:15.555Z"
   },
   {
    "duration": 41,
    "start_time": "2021-08-03T06:40:15.604Z"
   },
   {
    "duration": 6,
    "start_time": "2021-08-03T06:40:15.647Z"
   },
   {
    "duration": 6,
    "start_time": "2021-08-03T06:40:15.656Z"
   },
   {
    "duration": 40,
    "start_time": "2021-08-03T06:40:15.664Z"
   },
   {
    "duration": 34,
    "start_time": "2021-08-03T06:40:15.707Z"
   },
   {
    "duration": 28,
    "start_time": "2021-08-03T06:40:15.743Z"
   },
   {
    "duration": 52,
    "start_time": "2021-08-03T06:40:15.774Z"
   },
   {
    "duration": 34,
    "start_time": "2021-08-03T06:40:15.828Z"
   },
   {
    "duration": 67,
    "start_time": "2021-08-03T06:40:15.865Z"
   },
   {
    "duration": 124,
    "start_time": "2021-08-03T06:40:15.934Z"
   },
   {
    "duration": 13,
    "start_time": "2021-08-03T06:40:16.061Z"
   },
   {
    "duration": 30,
    "start_time": "2021-08-03T06:40:16.077Z"
   },
   {
    "duration": 30,
    "start_time": "2021-08-03T06:41:25.797Z"
   },
   {
    "duration": 25,
    "start_time": "2021-08-03T07:16:59.495Z"
   },
   {
    "duration": 1823,
    "start_time": "2021-08-03T07:17:06.908Z"
   },
   {
    "duration": 184,
    "start_time": "2021-08-03T07:17:08.735Z"
   },
   {
    "duration": 20,
    "start_time": "2021-08-03T07:17:08.922Z"
   },
   {
    "duration": 20,
    "start_time": "2021-08-03T07:17:08.945Z"
   },
   {
    "duration": 59,
    "start_time": "2021-08-03T07:17:08.967Z"
   },
   {
    "duration": 39,
    "start_time": "2021-08-03T07:17:09.028Z"
   },
   {
    "duration": 28,
    "start_time": "2021-08-03T07:17:09.069Z"
   },
   {
    "duration": 44,
    "start_time": "2021-08-03T07:17:09.100Z"
   },
   {
    "duration": 9,
    "start_time": "2021-08-03T07:17:09.149Z"
   },
   {
    "duration": 4,
    "start_time": "2021-08-03T07:17:09.162Z"
   },
   {
    "duration": 34,
    "start_time": "2021-08-03T07:17:09.169Z"
   },
   {
    "duration": 31,
    "start_time": "2021-08-03T07:17:09.210Z"
   },
   {
    "duration": 79,
    "start_time": "2021-08-03T07:17:09.244Z"
   },
   {
    "duration": 21,
    "start_time": "2021-08-03T07:17:09.326Z"
   },
   {
    "duration": 33,
    "start_time": "2021-08-03T07:17:09.349Z"
   },
   {
    "duration": 53,
    "start_time": "2021-08-03T07:17:09.384Z"
   },
   {
    "duration": 117,
    "start_time": "2021-08-03T07:17:09.439Z"
   },
   {
    "duration": 12,
    "start_time": "2021-08-03T07:17:09.559Z"
   },
   {
    "duration": 9,
    "start_time": "2021-08-03T07:17:09.574Z"
   },
   {
    "duration": 22,
    "start_time": "2021-08-03T07:17:37.404Z"
   },
   {
    "duration": 20,
    "start_time": "2021-08-03T07:17:43.028Z"
   },
   {
    "duration": 21,
    "start_time": "2021-08-03T07:17:43.829Z"
   },
   {
    "duration": 34,
    "start_time": "2021-08-03T07:17:46.629Z"
   },
   {
    "duration": 32,
    "start_time": "2021-08-03T07:17:47.421Z"
   },
   {
    "duration": 112,
    "start_time": "2021-08-03T07:17:49.175Z"
   },
   {
    "duration": 13,
    "start_time": "2021-08-03T07:17:50.867Z"
   },
   {
    "duration": 13,
    "start_time": "2021-08-03T07:17:54.501Z"
   },
   {
    "duration": 25,
    "start_time": "2021-08-03T07:18:21.652Z"
   },
   {
    "duration": 20,
    "start_time": "2021-08-03T07:18:28.468Z"
   },
   {
    "duration": 21,
    "start_time": "2021-08-03T07:21:27.430Z"
   },
   {
    "duration": 22,
    "start_time": "2021-08-03T07:21:29.332Z"
   },
   {
    "duration": 35,
    "start_time": "2021-08-03T07:21:38.173Z"
   },
   {
    "duration": 37,
    "start_time": "2021-08-03T07:21:52.629Z"
   },
   {
    "duration": 23,
    "start_time": "2021-08-03T07:22:38.955Z"
   },
   {
    "duration": 23,
    "start_time": "2021-08-03T07:22:47.260Z"
   },
   {
    "duration": 34,
    "start_time": "2021-08-03T07:22:53.003Z"
   },
   {
    "duration": 1641,
    "start_time": "2021-08-03T07:23:03.577Z"
   },
   {
    "duration": 88,
    "start_time": "2021-08-03T07:23:05.225Z"
   },
   {
    "duration": 19,
    "start_time": "2021-08-03T07:23:05.318Z"
   },
   {
    "duration": 21,
    "start_time": "2021-08-03T07:23:05.341Z"
   },
   {
    "duration": 68,
    "start_time": "2021-08-03T07:23:05.365Z"
   },
   {
    "duration": 32,
    "start_time": "2021-08-03T07:23:05.436Z"
   },
   {
    "duration": 23,
    "start_time": "2021-08-03T07:23:05.470Z"
   },
   {
    "duration": 55,
    "start_time": "2021-08-03T07:23:05.497Z"
   },
   {
    "duration": 6,
    "start_time": "2021-08-03T07:23:05.554Z"
   },
   {
    "duration": 15,
    "start_time": "2021-08-03T07:23:05.563Z"
   },
   {
    "duration": 26,
    "start_time": "2021-08-03T07:23:05.581Z"
   },
   {
    "duration": 37,
    "start_time": "2021-08-03T07:23:05.612Z"
   },
   {
    "duration": 27,
    "start_time": "2021-08-03T07:23:05.651Z"
   },
   {
    "duration": 34,
    "start_time": "2021-08-03T07:23:05.705Z"
   },
   {
    "duration": 31,
    "start_time": "2021-08-03T07:23:05.742Z"
   },
   {
    "duration": 38,
    "start_time": "2021-08-03T07:23:05.807Z"
   },
   {
    "duration": 129,
    "start_time": "2021-08-03T07:23:05.847Z"
   },
   {
    "duration": 34,
    "start_time": "2021-08-03T07:23:05.978Z"
   },
   {
    "duration": 18,
    "start_time": "2021-08-03T07:23:06.015Z"
   },
   {
    "duration": 22,
    "start_time": "2021-08-03T07:23:47.666Z"
   },
   {
    "duration": 1516,
    "start_time": "2021-08-03T07:23:53.472Z"
   },
   {
    "duration": 91,
    "start_time": "2021-08-03T07:23:54.990Z"
   },
   {
    "duration": 24,
    "start_time": "2021-08-03T07:23:55.084Z"
   },
   {
    "duration": 23,
    "start_time": "2021-08-03T07:23:55.117Z"
   },
   {
    "duration": 25,
    "start_time": "2021-08-03T07:23:55.143Z"
   },
   {
    "duration": 62,
    "start_time": "2021-08-03T07:23:55.170Z"
   },
   {
    "duration": 15,
    "start_time": "2021-08-03T07:23:55.235Z"
   },
   {
    "duration": 59,
    "start_time": "2021-08-03T07:23:55.255Z"
   },
   {
    "duration": 17,
    "start_time": "2021-08-03T07:23:55.317Z"
   },
   {
    "duration": 3,
    "start_time": "2021-08-03T07:23:55.336Z"
   },
   {
    "duration": 12,
    "start_time": "2021-08-03T07:23:55.342Z"
   },
   {
    "duration": 27,
    "start_time": "2021-08-03T07:23:55.356Z"
   },
   {
    "duration": 36,
    "start_time": "2021-08-03T07:23:55.403Z"
   },
   {
    "duration": 9,
    "start_time": "2021-08-03T07:23:55.442Z"
   },
   {
    "duration": 55,
    "start_time": "2021-08-03T07:23:55.454Z"
   },
   {
    "duration": 36,
    "start_time": "2021-08-03T07:23:55.512Z"
   },
   {
    "duration": 30,
    "start_time": "2021-08-03T07:23:55.550Z"
   },
   {
    "duration": 152,
    "start_time": "2021-08-03T07:23:55.582Z"
   },
   {
    "duration": 13,
    "start_time": "2021-08-03T07:23:55.736Z"
   },
   {
    "duration": 10,
    "start_time": "2021-08-03T07:23:55.751Z"
   },
   {
    "duration": 11,
    "start_time": "2021-08-03T07:24:09.081Z"
   },
   {
    "duration": 14,
    "start_time": "2021-08-03T07:24:14.954Z"
   },
   {
    "duration": 14,
    "start_time": "2021-08-03T07:25:20.467Z"
   },
   {
    "duration": 1480,
    "start_time": "2021-08-03T07:25:25.146Z"
   },
   {
    "duration": 83,
    "start_time": "2021-08-03T07:25:26.630Z"
   },
   {
    "duration": 20,
    "start_time": "2021-08-03T07:25:26.717Z"
   },
   {
    "duration": 20,
    "start_time": "2021-08-03T07:25:26.739Z"
   },
   {
    "duration": 48,
    "start_time": "2021-08-03T07:25:26.762Z"
   },
   {
    "duration": 44,
    "start_time": "2021-08-03T07:25:26.813Z"
   },
   {
    "duration": 12,
    "start_time": "2021-08-03T07:25:26.860Z"
   },
   {
    "duration": 75,
    "start_time": "2021-08-03T07:25:26.875Z"
   },
   {
    "duration": 7,
    "start_time": "2021-08-03T07:25:26.954Z"
   },
   {
    "duration": 13,
    "start_time": "2021-08-03T07:25:26.963Z"
   },
   {
    "duration": 18,
    "start_time": "2021-08-03T07:25:26.978Z"
   },
   {
    "duration": 41,
    "start_time": "2021-08-03T07:25:26.998Z"
   },
   {
    "duration": 26,
    "start_time": "2021-08-03T07:25:27.041Z"
   },
   {
    "duration": 45,
    "start_time": "2021-08-03T07:25:27.070Z"
   },
   {
    "duration": 27,
    "start_time": "2021-08-03T07:25:27.119Z"
   },
   {
    "duration": 71,
    "start_time": "2021-08-03T07:25:27.149Z"
   },
   {
    "duration": 37,
    "start_time": "2021-08-03T07:25:27.223Z"
   },
   {
    "duration": 159,
    "start_time": "2021-08-03T07:25:27.263Z"
   },
   {
    "duration": 15,
    "start_time": "2021-08-03T07:25:27.424Z"
   },
   {
    "duration": 23,
    "start_time": "2021-08-03T07:25:27.441Z"
   },
   {
    "duration": 32,
    "start_time": "2021-08-03T07:25:45.707Z"
   },
   {
    "duration": 1597,
    "start_time": "2021-08-03T07:25:51.778Z"
   },
   {
    "duration": 81,
    "start_time": "2021-08-03T07:25:53.378Z"
   },
   {
    "duration": 15,
    "start_time": "2021-08-03T07:25:53.462Z"
   },
   {
    "duration": 51,
    "start_time": "2021-08-03T07:25:53.480Z"
   },
   {
    "duration": 20,
    "start_time": "2021-08-03T07:25:53.533Z"
   },
   {
    "duration": 58,
    "start_time": "2021-08-03T07:25:53.555Z"
   },
   {
    "duration": 29,
    "start_time": "2021-08-03T07:25:53.617Z"
   },
   {
    "duration": 35,
    "start_time": "2021-08-03T07:25:53.651Z"
   },
   {
    "duration": 15,
    "start_time": "2021-08-03T07:25:53.705Z"
   },
   {
    "duration": 16,
    "start_time": "2021-08-03T07:25:53.723Z"
   },
   {
    "duration": 10,
    "start_time": "2021-08-03T07:25:53.742Z"
   },
   {
    "duration": 32,
    "start_time": "2021-08-03T07:25:53.754Z"
   },
   {
    "duration": 47,
    "start_time": "2021-08-03T07:25:53.789Z"
   },
   {
    "duration": 25,
    "start_time": "2021-08-03T07:25:53.838Z"
   },
   {
    "duration": 58,
    "start_time": "2021-08-03T07:25:53.866Z"
   },
   {
    "duration": 33,
    "start_time": "2021-08-03T07:25:53.927Z"
   },
   {
    "duration": 54,
    "start_time": "2021-08-03T07:25:53.963Z"
   },
   {
    "duration": 125,
    "start_time": "2021-08-03T07:25:54.020Z"
   },
   {
    "duration": 12,
    "start_time": "2021-08-03T07:25:54.147Z"
   },
   {
    "duration": 12,
    "start_time": "2021-08-03T07:25:54.162Z"
   },
   {
    "duration": 25,
    "start_time": "2021-08-03T07:26:18.451Z"
   },
   {
    "duration": 1603,
    "start_time": "2021-08-03T07:26:27.828Z"
   },
   {
    "duration": 80,
    "start_time": "2021-08-03T07:26:29.433Z"
   },
   {
    "duration": 19,
    "start_time": "2021-08-03T07:26:29.517Z"
   },
   {
    "duration": 20,
    "start_time": "2021-08-03T07:26:29.539Z"
   },
   {
    "duration": 52,
    "start_time": "2021-08-03T07:26:29.562Z"
   },
   {
    "duration": 35,
    "start_time": "2021-08-03T07:26:29.622Z"
   },
   {
    "duration": 13,
    "start_time": "2021-08-03T07:26:29.660Z"
   },
   {
    "duration": 48,
    "start_time": "2021-08-03T07:26:29.705Z"
   },
   {
    "duration": 7,
    "start_time": "2021-08-03T07:26:29.757Z"
   },
   {
    "duration": 38,
    "start_time": "2021-08-03T07:26:29.766Z"
   },
   {
    "duration": 4,
    "start_time": "2021-08-03T07:26:29.807Z"
   },
   {
    "duration": 32,
    "start_time": "2021-08-03T07:26:29.815Z"
   },
   {
    "duration": 60,
    "start_time": "2021-08-03T07:26:29.849Z"
   },
   {
    "duration": 31,
    "start_time": "2021-08-03T07:26:29.911Z"
   },
   {
    "duration": 20,
    "start_time": "2021-08-03T07:26:29.944Z"
   },
   {
    "duration": 66,
    "start_time": "2021-08-03T07:26:29.967Z"
   },
   {
    "duration": 33,
    "start_time": "2021-08-03T07:26:30.035Z"
   },
   {
    "duration": 141,
    "start_time": "2021-08-03T07:26:30.070Z"
   },
   {
    "duration": 19,
    "start_time": "2021-08-03T07:26:30.214Z"
   },
   {
    "duration": 9,
    "start_time": "2021-08-03T07:26:30.236Z"
   },
   {
    "duration": 1533,
    "start_time": "2021-08-03T07:28:11.682Z"
   },
   {
    "duration": 75,
    "start_time": "2021-08-03T07:28:13.218Z"
   },
   {
    "duration": 29,
    "start_time": "2021-08-03T07:28:13.297Z"
   },
   {
    "duration": 20,
    "start_time": "2021-08-03T07:28:13.329Z"
   },
   {
    "duration": 33,
    "start_time": "2021-08-03T07:28:13.351Z"
   },
   {
    "duration": 64,
    "start_time": "2021-08-03T07:28:13.386Z"
   },
   {
    "duration": 17,
    "start_time": "2021-08-03T07:28:13.453Z"
   },
   {
    "duration": 53,
    "start_time": "2021-08-03T07:28:13.473Z"
   },
   {
    "duration": 8,
    "start_time": "2021-08-03T07:28:13.530Z"
   },
   {
    "duration": 6,
    "start_time": "2021-08-03T07:28:13.540Z"
   },
   {
    "duration": 6,
    "start_time": "2021-08-03T07:28:13.549Z"
   },
   {
    "duration": 70,
    "start_time": "2021-08-03T07:28:13.558Z"
   },
   {
    "duration": 29,
    "start_time": "2021-08-03T07:28:13.633Z"
   },
   {
    "duration": 563,
    "start_time": "2021-08-03T07:28:13.665Z"
   },
   {
    "duration": -24,
    "start_time": "2021-08-03T07:28:14.256Z"
   },
   {
    "duration": -33,
    "start_time": "2021-08-03T07:28:14.267Z"
   },
   {
    "duration": -33,
    "start_time": "2021-08-03T07:28:14.269Z"
   },
   {
    "duration": -34,
    "start_time": "2021-08-03T07:28:14.271Z"
   },
   {
    "duration": -33,
    "start_time": "2021-08-03T07:28:14.272Z"
   },
   {
    "duration": -32,
    "start_time": "2021-08-03T07:28:14.273Z"
   },
   {
    "duration": 7413,
    "start_time": "2021-08-03T07:28:54.715Z"
   },
   {
    "duration": 1598,
    "start_time": "2021-08-03T07:29:07.723Z"
   },
   {
    "duration": 81,
    "start_time": "2021-08-03T07:29:09.324Z"
   },
   {
    "duration": 23,
    "start_time": "2021-08-03T07:29:09.408Z"
   },
   {
    "duration": 22,
    "start_time": "2021-08-03T07:29:09.434Z"
   },
   {
    "duration": 61,
    "start_time": "2021-08-03T07:29:09.459Z"
   },
   {
    "duration": 35,
    "start_time": "2021-08-03T07:29:09.523Z"
   },
   {
    "duration": 17,
    "start_time": "2021-08-03T07:29:09.562Z"
   },
   {
    "duration": 53,
    "start_time": "2021-08-03T07:29:09.605Z"
   },
   {
    "duration": 6,
    "start_time": "2021-08-03T07:29:09.661Z"
   },
   {
    "duration": 11,
    "start_time": "2021-08-03T07:29:09.669Z"
   },
   {
    "duration": 30,
    "start_time": "2021-08-03T07:29:09.682Z"
   },
   {
    "duration": 39,
    "start_time": "2021-08-03T07:29:09.715Z"
   },
   {
    "duration": 44,
    "start_time": "2021-08-03T07:29:09.756Z"
   },
   {
    "duration": 12,
    "start_time": "2021-08-03T07:29:09.806Z"
   },
   {
    "duration": 548,
    "start_time": "2021-08-03T07:29:09.822Z"
   },
   {
    "duration": -24,
    "start_time": "2021-08-03T07:29:10.398Z"
   },
   {
    "duration": -23,
    "start_time": "2021-08-03T07:29:10.399Z"
   },
   {
    "duration": -23,
    "start_time": "2021-08-03T07:29:10.401Z"
   },
   {
    "duration": -23,
    "start_time": "2021-08-03T07:29:10.403Z"
   },
   {
    "duration": -22,
    "start_time": "2021-08-03T07:29:10.405Z"
   },
   {
    "duration": 4758,
    "start_time": "2021-08-03T07:30:07.610Z"
   },
   {
    "duration": -48,
    "start_time": "2021-08-03T07:30:12.419Z"
   },
   {
    "duration": -49,
    "start_time": "2021-08-03T07:30:12.421Z"
   },
   {
    "duration": -49,
    "start_time": "2021-08-03T07:30:12.422Z"
   },
   {
    "duration": -48,
    "start_time": "2021-08-03T07:30:12.423Z"
   },
   {
    "duration": -48,
    "start_time": "2021-08-03T07:30:12.424Z"
   },
   {
    "duration": -48,
    "start_time": "2021-08-03T07:30:12.425Z"
   },
   {
    "duration": 1601,
    "start_time": "2021-08-03T07:30:26.192Z"
   },
   {
    "duration": 81,
    "start_time": "2021-08-03T07:30:27.796Z"
   },
   {
    "duration": 30,
    "start_time": "2021-08-03T07:30:27.880Z"
   },
   {
    "duration": 25,
    "start_time": "2021-08-03T07:30:27.914Z"
   },
   {
    "duration": 20,
    "start_time": "2021-08-03T07:30:27.942Z"
   },
   {
    "duration": 72,
    "start_time": "2021-08-03T07:30:27.964Z"
   },
   {
    "duration": 18,
    "start_time": "2021-08-03T07:30:28.039Z"
   },
   {
    "duration": 50,
    "start_time": "2021-08-03T07:30:28.059Z"
   },
   {
    "duration": 11,
    "start_time": "2021-08-03T07:30:28.114Z"
   },
   {
    "duration": 3,
    "start_time": "2021-08-03T07:30:28.130Z"
   },
   {
    "duration": 8,
    "start_time": "2021-08-03T07:30:28.136Z"
   },
   {
    "duration": 61,
    "start_time": "2021-08-03T07:30:28.146Z"
   },
   {
    "duration": 38,
    "start_time": "2021-08-03T07:30:28.210Z"
   },
   {
    "duration": 11,
    "start_time": "2021-08-03T07:30:28.250Z"
   },
   {
    "duration": 70,
    "start_time": "2021-08-03T07:30:28.263Z"
   },
   {
    "duration": 31,
    "start_time": "2021-08-03T07:30:28.336Z"
   },
   {
    "duration": 58,
    "start_time": "2021-08-03T07:30:28.369Z"
   },
   {
    "duration": 127,
    "start_time": "2021-08-03T07:30:28.429Z"
   },
   {
    "duration": 12,
    "start_time": "2021-08-03T07:30:28.559Z"
   },
   {
    "duration": 11,
    "start_time": "2021-08-03T07:30:28.573Z"
   },
   {
    "duration": 7,
    "start_time": "2021-08-03T07:34:56.252Z"
   },
   {
    "duration": 119,
    "start_time": "2021-08-03T07:34:56.261Z"
   },
   {
    "duration": 27,
    "start_time": "2021-08-03T07:34:56.385Z"
   },
   {
    "duration": 26,
    "start_time": "2021-08-03T07:34:56.416Z"
   },
   {
    "duration": 22,
    "start_time": "2021-08-03T07:34:56.444Z"
   },
   {
    "duration": 70,
    "start_time": "2021-08-03T07:34:56.469Z"
   },
   {
    "duration": 12,
    "start_time": "2021-08-03T07:34:56.541Z"
   },
   {
    "duration": 76,
    "start_time": "2021-08-03T07:34:56.556Z"
   },
   {
    "duration": 6,
    "start_time": "2021-08-03T07:34:56.635Z"
   },
   {
    "duration": 5,
    "start_time": "2021-08-03T07:34:56.644Z"
   },
   {
    "duration": 13,
    "start_time": "2021-08-03T07:34:56.651Z"
   },
   {
    "duration": 62,
    "start_time": "2021-08-03T07:34:56.666Z"
   },
   {
    "duration": 26,
    "start_time": "2021-08-03T07:34:56.731Z"
   },
   {
    "duration": 9,
    "start_time": "2021-08-03T07:34:56.760Z"
   },
   {
    "duration": 68,
    "start_time": "2021-08-03T07:34:56.772Z"
   },
   {
    "duration": 32,
    "start_time": "2021-08-03T07:34:56.842Z"
   },
   {
    "duration": 77,
    "start_time": "2021-08-03T07:34:56.877Z"
   },
   {
    "duration": 126,
    "start_time": "2021-08-03T07:34:56.957Z"
   },
   {
    "duration": 21,
    "start_time": "2021-08-03T07:34:57.085Z"
   },
   {
    "duration": 16,
    "start_time": "2021-08-03T07:34:57.110Z"
   },
   {
    "duration": 1994,
    "start_time": "2021-08-03T07:35:09.627Z"
   },
   {
    "duration": 89,
    "start_time": "2021-08-03T07:35:11.624Z"
   },
   {
    "duration": 19,
    "start_time": "2021-08-03T07:35:11.721Z"
   },
   {
    "duration": 22,
    "start_time": "2021-08-03T07:35:11.743Z"
   },
   {
    "duration": 37,
    "start_time": "2021-08-03T07:35:11.768Z"
   },
   {
    "duration": 40,
    "start_time": "2021-08-03T07:35:11.809Z"
   },
   {
    "duration": 14,
    "start_time": "2021-08-03T07:35:11.852Z"
   },
   {
    "duration": 79,
    "start_time": "2021-08-03T07:35:11.870Z"
   },
   {
    "duration": 7,
    "start_time": "2021-08-03T07:35:11.952Z"
   },
   {
    "duration": 3,
    "start_time": "2021-08-03T07:35:11.962Z"
   },
   {
    "duration": 7,
    "start_time": "2021-08-03T07:35:11.968Z"
   },
   {
    "duration": 34,
    "start_time": "2021-08-03T07:35:12.006Z"
   },
   {
    "duration": 28,
    "start_time": "2021-08-03T07:35:12.042Z"
   },
   {
    "duration": 42,
    "start_time": "2021-08-03T07:35:12.072Z"
   },
   {
    "duration": 41,
    "start_time": "2021-08-03T07:35:12.117Z"
   },
   {
    "duration": 59,
    "start_time": "2021-08-03T07:35:12.161Z"
   },
   {
    "duration": 38,
    "start_time": "2021-08-03T07:35:12.223Z"
   },
   {
    "duration": 151,
    "start_time": "2021-08-03T07:35:12.264Z"
   },
   {
    "duration": 18,
    "start_time": "2021-08-03T07:35:12.418Z"
   },
   {
    "duration": 10,
    "start_time": "2021-08-03T07:35:12.438Z"
   },
   {
    "duration": 1601,
    "start_time": "2021-08-03T07:36:11.067Z"
   },
   {
    "duration": 86,
    "start_time": "2021-08-03T07:36:12.671Z"
   },
   {
    "duration": 13,
    "start_time": "2021-08-03T07:36:12.760Z"
   },
   {
    "duration": 46,
    "start_time": "2021-08-03T07:36:12.776Z"
   },
   {
    "duration": 25,
    "start_time": "2021-08-03T07:36:12.825Z"
   },
   {
    "duration": 69,
    "start_time": "2021-08-03T07:36:12.853Z"
   },
   {
    "duration": 16,
    "start_time": "2021-08-03T07:36:12.925Z"
   },
   {
    "duration": 46,
    "start_time": "2021-08-03T07:36:12.945Z"
   },
   {
    "duration": 15,
    "start_time": "2021-08-03T07:36:13.009Z"
   },
   {
    "duration": 14,
    "start_time": "2021-08-03T07:36:13.026Z"
   },
   {
    "duration": 25,
    "start_time": "2021-08-03T07:36:13.042Z"
   },
   {
    "duration": 27,
    "start_time": "2021-08-03T07:36:13.069Z"
   },
   {
    "duration": 45,
    "start_time": "2021-08-03T07:36:13.099Z"
   },
   {
    "duration": 9,
    "start_time": "2021-08-03T07:36:13.147Z"
   },
   {
    "duration": 20,
    "start_time": "2021-08-03T07:36:13.159Z"
   },
   {
    "duration": 62,
    "start_time": "2021-08-03T07:36:13.182Z"
   },
   {
    "duration": 32,
    "start_time": "2021-08-03T07:36:13.247Z"
   },
   {
    "duration": 127,
    "start_time": "2021-08-03T07:36:13.305Z"
   },
   {
    "duration": 16,
    "start_time": "2021-08-03T07:36:13.435Z"
   },
   {
    "duration": 9,
    "start_time": "2021-08-03T07:36:13.453Z"
   },
   {
    "duration": 32,
    "start_time": "2021-08-03T07:36:39.350Z"
   },
   {
    "duration": 1566,
    "start_time": "2021-08-03T07:37:02.728Z"
   },
   {
    "duration": 86,
    "start_time": "2021-08-03T07:37:04.297Z"
   },
   {
    "duration": 25,
    "start_time": "2021-08-03T07:37:04.386Z"
   },
   {
    "duration": 22,
    "start_time": "2021-08-03T07:37:04.415Z"
   },
   {
    "duration": 24,
    "start_time": "2021-08-03T07:37:04.440Z"
   },
   {
    "duration": 74,
    "start_time": "2021-08-03T07:37:04.466Z"
   },
   {
    "duration": 14,
    "start_time": "2021-08-03T07:37:04.543Z"
   },
   {
    "duration": 72,
    "start_time": "2021-08-03T07:37:04.560Z"
   },
   {
    "duration": 7,
    "start_time": "2021-08-03T07:37:04.635Z"
   },
   {
    "duration": 5,
    "start_time": "2021-08-03T07:37:04.645Z"
   },
   {
    "duration": 9,
    "start_time": "2021-08-03T07:37:04.652Z"
   },
   {
    "duration": 65,
    "start_time": "2021-08-03T07:37:04.664Z"
   },
   {
    "duration": 27,
    "start_time": "2021-08-03T07:37:04.732Z"
   },
   {
    "duration": 68,
    "start_time": "2021-08-03T07:37:04.762Z"
   },
   {
    "duration": 21,
    "start_time": "2021-08-03T07:37:04.832Z"
   },
   {
    "duration": 54,
    "start_time": "2021-08-03T07:37:04.855Z"
   },
   {
    "duration": 39,
    "start_time": "2021-08-03T07:37:04.913Z"
   },
   {
    "duration": 132,
    "start_time": "2021-08-03T07:37:04.955Z"
   },
   {
    "duration": 24,
    "start_time": "2021-08-03T07:37:05.089Z"
   },
   {
    "duration": 19,
    "start_time": "2021-08-03T07:37:05.117Z"
   },
   {
    "duration": 1539,
    "start_time": "2021-08-03T07:43:53.167Z"
   },
   {
    "duration": 81,
    "start_time": "2021-08-03T07:43:54.709Z"
   },
   {
    "duration": 20,
    "start_time": "2021-08-03T07:43:54.794Z"
   },
   {
    "duration": 31,
    "start_time": "2021-08-03T07:43:54.817Z"
   },
   {
    "duration": 27,
    "start_time": "2021-08-03T07:43:54.850Z"
   },
   {
    "duration": 51,
    "start_time": "2021-08-03T07:43:54.880Z"
   },
   {
    "duration": 14,
    "start_time": "2021-08-03T07:43:54.934Z"
   },
   {
    "duration": 79,
    "start_time": "2021-08-03T07:43:54.952Z"
   },
   {
    "duration": 7,
    "start_time": "2021-08-03T07:43:55.033Z"
   },
   {
    "duration": 11,
    "start_time": "2021-08-03T07:43:55.043Z"
   },
   {
    "duration": 10,
    "start_time": "2021-08-03T07:43:55.056Z"
   },
   {
    "duration": 55,
    "start_time": "2021-08-03T07:43:55.069Z"
   },
   {
    "duration": 589,
    "start_time": "2021-08-03T07:43:55.128Z"
   },
   {
    "duration": -49,
    "start_time": "2021-08-03T07:43:55.769Z"
   },
   {
    "duration": -50,
    "start_time": "2021-08-03T07:43:55.771Z"
   },
   {
    "duration": -50,
    "start_time": "2021-08-03T07:43:55.773Z"
   },
   {
    "duration": -52,
    "start_time": "2021-08-03T07:43:55.777Z"
   },
   {
    "duration": -53,
    "start_time": "2021-08-03T07:43:55.779Z"
   },
   {
    "duration": -53,
    "start_time": "2021-08-03T07:43:55.781Z"
   },
   {
    "duration": -53,
    "start_time": "2021-08-03T07:43:55.782Z"
   },
   {
    "duration": 27,
    "start_time": "2021-08-03T07:44:14.035Z"
   },
   {
    "duration": 33,
    "start_time": "2021-08-03T07:44:16.442Z"
   },
   {
    "duration": 1523,
    "start_time": "2021-08-03T07:45:30.068Z"
   },
   {
    "duration": 83,
    "start_time": "2021-08-03T07:45:31.594Z"
   },
   {
    "duration": 28,
    "start_time": "2021-08-03T07:45:31.680Z"
   },
   {
    "duration": 21,
    "start_time": "2021-08-03T07:45:31.711Z"
   },
   {
    "duration": 28,
    "start_time": "2021-08-03T07:45:31.735Z"
   },
   {
    "duration": 63,
    "start_time": "2021-08-03T07:45:31.765Z"
   },
   {
    "duration": 13,
    "start_time": "2021-08-03T07:45:31.831Z"
   },
   {
    "duration": 60,
    "start_time": "2021-08-03T07:45:31.848Z"
   },
   {
    "duration": 7,
    "start_time": "2021-08-03T07:45:31.913Z"
   },
   {
    "duration": 8,
    "start_time": "2021-08-03T07:45:31.922Z"
   },
   {
    "duration": 17,
    "start_time": "2021-08-03T07:45:31.933Z"
   },
   {
    "duration": 52,
    "start_time": "2021-08-03T07:45:31.953Z"
   },
   {
    "duration": 31,
    "start_time": "2021-08-03T07:45:32.009Z"
   },
   {
    "duration": 59,
    "start_time": "2021-08-03T07:45:32.043Z"
   },
   {
    "duration": 25,
    "start_time": "2021-08-03T07:45:32.105Z"
   },
   {
    "duration": 41,
    "start_time": "2021-08-03T07:45:32.133Z"
   },
   {
    "duration": 53,
    "start_time": "2021-08-03T07:45:32.177Z"
   },
   {
    "duration": 133,
    "start_time": "2021-08-03T07:45:32.232Z"
   },
   {
    "duration": 15,
    "start_time": "2021-08-03T07:45:32.368Z"
   },
   {
    "duration": 17,
    "start_time": "2021-08-03T07:45:32.401Z"
   },
   {
    "duration": 1502,
    "start_time": "2021-08-03T07:45:49.479Z"
   },
   {
    "duration": 80,
    "start_time": "2021-08-03T07:45:50.983Z"
   },
   {
    "duration": 13,
    "start_time": "2021-08-03T07:45:51.066Z"
   },
   {
    "duration": 44,
    "start_time": "2021-08-03T07:45:51.081Z"
   },
   {
    "duration": 23,
    "start_time": "2021-08-03T07:45:51.127Z"
   },
   {
    "duration": 62,
    "start_time": "2021-08-03T07:45:51.152Z"
   },
   {
    "duration": 14,
    "start_time": "2021-08-03T07:45:51.217Z"
   },
   {
    "duration": 57,
    "start_time": "2021-08-03T07:45:51.234Z"
   },
   {
    "duration": 13,
    "start_time": "2021-08-03T07:45:51.300Z"
   },
   {
    "duration": 11,
    "start_time": "2021-08-03T07:45:51.317Z"
   },
   {
    "duration": 37,
    "start_time": "2021-08-03T07:45:51.330Z"
   },
   {
    "duration": 49,
    "start_time": "2021-08-03T07:45:51.370Z"
   },
   {
    "duration": 27,
    "start_time": "2021-08-03T07:45:51.422Z"
   },
   {
    "duration": 26,
    "start_time": "2021-08-03T07:45:51.452Z"
   },
   {
    "duration": 30,
    "start_time": "2021-08-03T07:45:51.500Z"
   },
   {
    "duration": 37,
    "start_time": "2021-08-03T07:45:51.532Z"
   },
   {
    "duration": 50,
    "start_time": "2021-08-03T07:45:51.572Z"
   },
   {
    "duration": 117,
    "start_time": "2021-08-03T07:45:51.625Z"
   },
   {
    "duration": 15,
    "start_time": "2021-08-03T07:45:51.745Z"
   },
   {
    "duration": 18,
    "start_time": "2021-08-03T07:45:51.763Z"
   },
   {
    "duration": 1558,
    "start_time": "2021-08-03T07:46:10.909Z"
   },
   {
    "duration": 78,
    "start_time": "2021-08-03T07:46:12.469Z"
   },
   {
    "duration": 13,
    "start_time": "2021-08-03T07:46:12.550Z"
   },
   {
    "duration": 39,
    "start_time": "2021-08-03T07:46:12.565Z"
   },
   {
    "duration": 27,
    "start_time": "2021-08-03T07:46:12.607Z"
   },
   {
    "duration": 49,
    "start_time": "2021-08-03T07:46:12.636Z"
   },
   {
    "duration": 30,
    "start_time": "2021-08-03T07:46:12.687Z"
   },
   {
    "duration": 38,
    "start_time": "2021-08-03T07:46:12.721Z"
   },
   {
    "duration": 6,
    "start_time": "2021-08-03T07:46:12.762Z"
   },
   {
    "duration": 29,
    "start_time": "2021-08-03T07:46:12.771Z"
   },
   {
    "duration": 19,
    "start_time": "2021-08-03T07:46:12.814Z"
   },
   {
    "duration": 36,
    "start_time": "2021-08-03T07:46:12.836Z"
   },
   {
    "duration": 40,
    "start_time": "2021-08-03T07:46:12.876Z"
   },
   {
    "duration": 6,
    "start_time": "2021-08-03T07:46:12.920Z"
   },
   {
    "duration": 48,
    "start_time": "2021-08-03T07:46:12.928Z"
   },
   {
    "duration": 32,
    "start_time": "2021-08-03T07:46:12.978Z"
   },
   {
    "duration": 33,
    "start_time": "2021-08-03T07:46:13.013Z"
   },
   {
    "duration": 43,
    "start_time": "2021-08-03T07:46:13.048Z"
   },
   {
    "duration": 117,
    "start_time": "2021-08-03T07:46:13.102Z"
   },
   {
    "duration": 132,
    "start_time": "2021-08-03T07:46:13.222Z"
   },
   {
    "duration": 141,
    "start_time": "2021-08-03T07:46:13.357Z"
   },
   {
    "duration": 1478,
    "start_time": "2021-08-03T07:47:03.985Z"
   },
   {
    "duration": 77,
    "start_time": "2021-08-03T07:47:05.467Z"
   },
   {
    "duration": 14,
    "start_time": "2021-08-03T07:47:05.546Z"
   },
   {
    "duration": 40,
    "start_time": "2021-08-03T07:47:05.563Z"
   },
   {
    "duration": 21,
    "start_time": "2021-08-03T07:47:05.606Z"
   },
   {
    "duration": 28,
    "start_time": "2021-08-03T07:47:05.631Z"
   },
   {
    "duration": 42,
    "start_time": "2021-08-03T07:47:05.662Z"
   },
   {
    "duration": 37,
    "start_time": "2021-08-03T07:47:05.706Z"
   },
   {
    "duration": 7,
    "start_time": "2021-08-03T07:47:05.745Z"
   },
   {
    "duration": 13,
    "start_time": "2021-08-03T07:47:05.754Z"
   },
   {
    "duration": 30,
    "start_time": "2021-08-03T07:47:05.770Z"
   },
   {
    "duration": 27,
    "start_time": "2021-08-03T07:47:05.803Z"
   },
   {
    "duration": 26,
    "start_time": "2021-08-03T07:47:05.832Z"
   },
   {
    "duration": 41,
    "start_time": "2021-08-03T07:47:05.861Z"
   },
   {
    "duration": 8,
    "start_time": "2021-08-03T07:47:05.904Z"
   },
   {
    "duration": 25,
    "start_time": "2021-08-03T07:47:05.914Z"
   },
   {
    "duration": 32,
    "start_time": "2021-08-03T07:47:05.941Z"
   },
   {
    "duration": 33,
    "start_time": "2021-08-03T07:47:06.003Z"
   },
   {
    "duration": 142,
    "start_time": "2021-08-03T07:47:06.040Z"
   },
   {
    "duration": 24,
    "start_time": "2021-08-03T07:47:06.185Z"
   },
   {
    "duration": 10,
    "start_time": "2021-08-03T07:47:06.212Z"
   },
   {
    "duration": 15,
    "start_time": "2021-08-03T07:47:06.224Z"
   },
   {
    "duration": 28,
    "start_time": "2021-08-03T07:47:18.387Z"
   },
   {
    "duration": 13,
    "start_time": "2021-08-03T07:47:40.066Z"
   },
   {
    "duration": 1454,
    "start_time": "2021-08-03T07:47:45.926Z"
   },
   {
    "duration": 77,
    "start_time": "2021-08-03T07:47:47.384Z"
   },
   {
    "duration": 14,
    "start_time": "2021-08-03T07:47:47.464Z"
   },
   {
    "duration": 19,
    "start_time": "2021-08-03T07:47:47.500Z"
   },
   {
    "duration": 19,
    "start_time": "2021-08-03T07:47:47.522Z"
   },
   {
    "duration": 60,
    "start_time": "2021-08-03T07:47:47.543Z"
   },
   {
    "duration": 18,
    "start_time": "2021-08-03T07:47:47.606Z"
   },
   {
    "duration": 36,
    "start_time": "2021-08-03T07:47:47.628Z"
   },
   {
    "duration": 9,
    "start_time": "2021-08-03T07:47:47.699Z"
   },
   {
    "duration": 4,
    "start_time": "2021-08-03T07:47:47.710Z"
   },
   {
    "duration": 12,
    "start_time": "2021-08-03T07:47:47.717Z"
   },
   {
    "duration": 31,
    "start_time": "2021-08-03T07:47:47.731Z"
   },
   {
    "duration": 58,
    "start_time": "2021-08-03T07:47:47.764Z"
   },
   {
    "duration": 6,
    "start_time": "2021-08-03T07:47:47.825Z"
   },
   {
    "duration": 6,
    "start_time": "2021-08-03T07:47:47.833Z"
   },
   {
    "duration": 24,
    "start_time": "2021-08-03T07:47:47.841Z"
   },
   {
    "duration": 34,
    "start_time": "2021-08-03T07:47:47.900Z"
   },
   {
    "duration": 32,
    "start_time": "2021-08-03T07:47:47.936Z"
   },
   {
    "duration": 119,
    "start_time": "2021-08-03T07:47:48.002Z"
   },
   {
    "duration": 13,
    "start_time": "2021-08-03T07:47:48.124Z"
   },
   {
    "duration": 16,
    "start_time": "2021-08-03T07:47:48.140Z"
   },
   {
    "duration": 1534,
    "start_time": "2021-08-03T07:49:59.250Z"
   },
   {
    "duration": 79,
    "start_time": "2021-08-03T07:50:00.786Z"
   },
   {
    "duration": 32,
    "start_time": "2021-08-03T07:50:00.868Z"
   },
   {
    "duration": 20,
    "start_time": "2021-08-03T07:50:00.903Z"
   },
   {
    "duration": 33,
    "start_time": "2021-08-03T07:50:00.925Z"
   },
   {
    "duration": 58,
    "start_time": "2021-08-03T07:50:00.960Z"
   },
   {
    "duration": 34,
    "start_time": "2021-08-03T07:50:01.020Z"
   },
   {
    "duration": 80,
    "start_time": "2021-08-03T07:50:01.058Z"
   },
   {
    "duration": 10,
    "start_time": "2021-08-03T07:50:01.141Z"
   },
   {
    "duration": 12,
    "start_time": "2021-08-03T07:50:01.153Z"
   },
   {
    "duration": 29,
    "start_time": "2021-08-03T07:50:01.167Z"
   },
   {
    "duration": 34,
    "start_time": "2021-08-03T07:50:01.199Z"
   },
   {
    "duration": 29,
    "start_time": "2021-08-03T07:50:01.235Z"
   },
   {
    "duration": 3,
    "start_time": "2021-08-03T07:50:01.266Z"
   },
   {
    "duration": 44,
    "start_time": "2021-08-03T07:50:01.271Z"
   },
   {
    "duration": 34,
    "start_time": "2021-08-03T07:50:01.317Z"
   },
   {
    "duration": 58,
    "start_time": "2021-08-03T07:50:01.354Z"
   },
   {
    "duration": 125,
    "start_time": "2021-08-03T07:50:01.415Z"
   },
   {
    "duration": 15,
    "start_time": "2021-08-03T07:50:01.542Z"
   },
   {
    "duration": 18,
    "start_time": "2021-08-03T07:50:01.559Z"
   },
   {
    "duration": 26,
    "start_time": "2021-08-03T07:50:12.073Z"
   },
   {
    "duration": 22,
    "start_time": "2021-08-03T07:51:10.587Z"
   },
   {
    "duration": 1524,
    "start_time": "2021-08-03T07:53:25.928Z"
   },
   {
    "duration": 76,
    "start_time": "2021-08-03T07:53:27.455Z"
   },
   {
    "duration": 20,
    "start_time": "2021-08-03T07:53:27.535Z"
   },
   {
    "duration": 43,
    "start_time": "2021-08-03T07:53:27.559Z"
   },
   {
    "duration": 28,
    "start_time": "2021-08-03T07:53:27.605Z"
   },
   {
    "duration": 66,
    "start_time": "2021-08-03T07:53:27.636Z"
   },
   {
    "duration": 23,
    "start_time": "2021-08-03T07:53:27.705Z"
   },
   {
    "duration": 76,
    "start_time": "2021-08-03T07:53:27.731Z"
   },
   {
    "duration": 8,
    "start_time": "2021-08-03T07:53:27.813Z"
   },
   {
    "duration": 5,
    "start_time": "2021-08-03T07:53:27.824Z"
   },
   {
    "duration": 5,
    "start_time": "2021-08-03T07:53:27.832Z"
   },
   {
    "duration": 64,
    "start_time": "2021-08-03T07:53:27.840Z"
   },
   {
    "duration": 38,
    "start_time": "2021-08-03T07:53:27.907Z"
   },
   {
    "duration": 3,
    "start_time": "2021-08-03T07:53:27.947Z"
   },
   {
    "duration": 54,
    "start_time": "2021-08-03T07:53:27.952Z"
   },
   {
    "duration": 33,
    "start_time": "2021-08-03T07:53:28.009Z"
   },
   {
    "duration": 58,
    "start_time": "2021-08-03T07:53:28.044Z"
   },
   {
    "duration": 120,
    "start_time": "2021-08-03T07:53:28.105Z"
   },
   {
    "duration": 18,
    "start_time": "2021-08-03T07:53:28.228Z"
   },
   {
    "duration": 12,
    "start_time": "2021-08-03T07:53:28.249Z"
   },
   {
    "duration": 45,
    "start_time": "2021-08-03T07:53:28.264Z"
   },
   {
    "duration": 1459,
    "start_time": "2021-08-03T07:56:12.917Z"
   },
   {
    "duration": 81,
    "start_time": "2021-08-03T07:56:14.379Z"
   },
   {
    "duration": 14,
    "start_time": "2021-08-03T07:56:14.463Z"
   },
   {
    "duration": 36,
    "start_time": "2021-08-03T07:56:14.479Z"
   },
   {
    "duration": 19,
    "start_time": "2021-08-03T07:56:14.519Z"
   },
   {
    "duration": 31,
    "start_time": "2021-08-03T07:56:14.541Z"
   },
   {
    "duration": 19,
    "start_time": "2021-08-03T07:56:14.605Z"
   },
   {
    "duration": 36,
    "start_time": "2021-08-03T07:56:14.626Z"
   },
   {
    "duration": 42,
    "start_time": "2021-08-03T07:56:14.664Z"
   },
   {
    "duration": 3,
    "start_time": "2021-08-03T07:56:14.714Z"
   },
   {
    "duration": 13,
    "start_time": "2021-08-03T07:56:14.720Z"
   },
   {
    "duration": 26,
    "start_time": "2021-08-03T07:56:14.736Z"
   },
   {
    "duration": 56,
    "start_time": "2021-08-03T07:56:14.764Z"
   },
   {
    "duration": 4,
    "start_time": "2021-08-03T07:56:14.822Z"
   },
   {
    "duration": 26,
    "start_time": "2021-08-03T07:56:14.829Z"
   },
   {
    "duration": 59,
    "start_time": "2021-08-03T07:56:14.857Z"
   },
   {
    "duration": 29,
    "start_time": "2021-08-03T07:56:14.918Z"
   },
   {
    "duration": 135,
    "start_time": "2021-08-03T07:56:14.951Z"
   },
   {
    "duration": 32,
    "start_time": "2021-08-03T07:56:15.088Z"
   },
   {
    "duration": 12,
    "start_time": "2021-08-03T07:56:15.122Z"
   },
   {
    "duration": 22,
    "start_time": "2021-08-03T07:56:45.768Z"
   },
   {
    "duration": 1428,
    "start_time": "2021-08-03T07:56:51.236Z"
   },
   {
    "duration": 81,
    "start_time": "2021-08-03T07:56:52.667Z"
   },
   {
    "duration": 14,
    "start_time": "2021-08-03T07:56:52.751Z"
   },
   {
    "duration": 50,
    "start_time": "2021-08-03T07:56:52.768Z"
   },
   {
    "duration": 32,
    "start_time": "2021-08-03T07:56:52.821Z"
   },
   {
    "duration": 63,
    "start_time": "2021-08-03T07:56:52.855Z"
   },
   {
    "duration": 23,
    "start_time": "2021-08-03T07:56:52.921Z"
   },
   {
    "duration": 66,
    "start_time": "2021-08-03T07:56:52.948Z"
   },
   {
    "duration": 8,
    "start_time": "2021-08-03T07:56:53.017Z"
   },
   {
    "duration": 16,
    "start_time": "2021-08-03T07:56:53.027Z"
   },
   {
    "duration": 52,
    "start_time": "2021-08-03T07:56:53.046Z"
   },
   {
    "duration": 52,
    "start_time": "2021-08-03T07:56:53.103Z"
   },
   {
    "duration": 23,
    "start_time": "2021-08-03T07:56:53.159Z"
   },
   {
    "duration": 49,
    "start_time": "2021-08-03T07:56:53.185Z"
   },
   {
    "duration": 34,
    "start_time": "2021-08-03T07:56:53.236Z"
   },
   {
    "duration": 121,
    "start_time": "2021-08-03T07:56:53.273Z"
   },
   {
    "duration": 28,
    "start_time": "2021-08-03T07:56:53.397Z"
   },
   {
    "duration": 22,
    "start_time": "2021-08-03T07:56:53.427Z"
   },
   {
    "duration": 23,
    "start_time": "2021-08-03T07:56:53.451Z"
   },
   {
    "duration": 31,
    "start_time": "2021-08-03T07:57:18.311Z"
   },
   {
    "duration": 1603,
    "start_time": "2021-08-03T07:57:24.272Z"
   },
   {
    "duration": 80,
    "start_time": "2021-08-03T07:57:25.878Z"
   },
   {
    "duration": 14,
    "start_time": "2021-08-03T07:57:25.961Z"
   },
   {
    "duration": 39,
    "start_time": "2021-08-03T07:57:25.978Z"
   },
   {
    "duration": 23,
    "start_time": "2021-08-03T07:57:26.020Z"
   },
   {
    "duration": 54,
    "start_time": "2021-08-03T07:57:26.045Z"
   },
   {
    "duration": 19,
    "start_time": "2021-08-03T07:57:26.102Z"
   },
   {
    "duration": 35,
    "start_time": "2021-08-03T07:57:26.125Z"
   },
   {
    "duration": 44,
    "start_time": "2021-08-03T07:57:26.163Z"
   },
   {
    "duration": 4,
    "start_time": "2021-08-03T07:57:26.210Z"
   },
   {
    "duration": 26,
    "start_time": "2021-08-03T07:57:26.217Z"
   },
   {
    "duration": 21,
    "start_time": "2021-08-03T07:57:26.245Z"
   },
   {
    "duration": 66,
    "start_time": "2021-08-03T07:57:26.268Z"
   },
   {
    "duration": 37,
    "start_time": "2021-08-03T07:57:26.337Z"
   },
   {
    "duration": 144,
    "start_time": "2021-08-03T07:57:26.376Z"
   },
   {
    "duration": 28,
    "start_time": "2021-08-03T07:57:26.523Z"
   },
   {
    "duration": 19,
    "start_time": "2021-08-03T07:57:26.553Z"
   },
   {
    "duration": 51,
    "start_time": "2021-08-03T07:57:26.574Z"
   },
   {
    "duration": 37,
    "start_time": "2021-08-03T07:58:39.096Z"
   },
   {
    "duration": 36,
    "start_time": "2021-08-03T07:58:48.849Z"
   },
   {
    "duration": 28,
    "start_time": "2021-08-03T07:59:05.196Z"
   },
   {
    "duration": 35,
    "start_time": "2021-08-03T09:10:48.508Z"
   },
   {
    "duration": 129,
    "start_time": "2021-08-03T09:13:15.477Z"
   },
   {
    "duration": 37,
    "start_time": "2021-08-03T09:13:22.354Z"
   },
   {
    "duration": 10,
    "start_time": "2021-08-03T09:13:54.828Z"
   },
   {
    "duration": 32,
    "start_time": "2021-08-03T09:17:29.932Z"
   },
   {
    "duration": 7,
    "start_time": "2021-08-03T09:17:59.389Z"
   },
   {
    "duration": 652,
    "start_time": "2021-08-03T09:18:05.819Z"
   },
   {
    "duration": 11,
    "start_time": "2021-08-03T09:18:11.227Z"
   },
   {
    "duration": 388,
    "start_time": "2021-08-03T09:18:34.570Z"
   },
   {
    "duration": 10,
    "start_time": "2021-08-03T09:18:52.644Z"
   },
   {
    "duration": 8,
    "start_time": "2021-08-03T09:19:04.869Z"
   },
   {
    "duration": 15,
    "start_time": "2021-08-03T09:22:38.939Z"
   },
   {
    "duration": 121,
    "start_time": "2021-08-03T09:30:46.062Z"
   },
   {
    "duration": 389,
    "start_time": "2021-08-03T09:30:55.338Z"
   },
   {
    "duration": 2096,
    "start_time": "2021-08-03T09:31:09.609Z"
   },
   {
    "duration": 91,
    "start_time": "2021-08-03T09:31:11.709Z"
   },
   {
    "duration": 25,
    "start_time": "2021-08-03T09:31:11.804Z"
   },
   {
    "duration": 24,
    "start_time": "2021-08-03T09:31:11.833Z"
   },
   {
    "duration": 59,
    "start_time": "2021-08-03T09:31:11.859Z"
   },
   {
    "duration": 63,
    "start_time": "2021-08-03T09:31:11.921Z"
   },
   {
    "duration": 32,
    "start_time": "2021-08-03T09:31:11.986Z"
   },
   {
    "duration": 68,
    "start_time": "2021-08-03T09:31:12.024Z"
   },
   {
    "duration": 42,
    "start_time": "2021-08-03T09:31:12.094Z"
   },
   {
    "duration": 34,
    "start_time": "2021-08-03T09:31:12.140Z"
   },
   {
    "duration": 57,
    "start_time": "2021-08-03T09:31:12.209Z"
   },
   {
    "duration": 47,
    "start_time": "2021-08-03T09:31:12.270Z"
   },
   {
    "duration": 168,
    "start_time": "2021-08-03T09:31:12.320Z"
   },
   {
    "duration": 47,
    "start_time": "2021-08-03T09:31:12.491Z"
   },
   {
    "duration": 35,
    "start_time": "2021-08-03T09:31:12.541Z"
   },
   {
    "duration": 26,
    "start_time": "2021-08-03T09:31:12.609Z"
   },
   {
    "duration": 43,
    "start_time": "2021-08-03T09:31:12.639Z"
   },
   {
    "duration": 27,
    "start_time": "2021-08-03T09:31:12.686Z"
   },
   {
    "duration": 41,
    "start_time": "2021-08-03T09:31:12.717Z"
   },
   {
    "duration": 887,
    "start_time": "2021-08-03T09:31:12.761Z"
   },
   {
    "duration": 737,
    "start_time": "2021-08-03T09:31:19.673Z"
   },
   {
    "duration": 8,
    "start_time": "2021-08-03T09:31:24.594Z"
   },
   {
    "duration": 1830,
    "start_time": "2021-08-03T09:31:30.960Z"
   },
   {
    "duration": 99,
    "start_time": "2021-08-03T09:31:32.793Z"
   },
   {
    "duration": 25,
    "start_time": "2021-08-03T09:31:32.895Z"
   },
   {
    "duration": 33,
    "start_time": "2021-08-03T09:31:32.924Z"
   },
   {
    "duration": 71,
    "start_time": "2021-08-03T09:31:32.960Z"
   },
   {
    "duration": 35,
    "start_time": "2021-08-03T09:31:33.034Z"
   },
   {
    "duration": 45,
    "start_time": "2021-08-03T09:31:33.072Z"
   },
   {
    "duration": 51,
    "start_time": "2021-08-03T09:31:33.124Z"
   },
   {
    "duration": 48,
    "start_time": "2021-08-03T09:31:33.178Z"
   },
   {
    "duration": 37,
    "start_time": "2021-08-03T09:31:33.230Z"
   },
   {
    "duration": 87,
    "start_time": "2021-08-03T09:31:33.271Z"
   },
   {
    "duration": 84,
    "start_time": "2021-08-03T09:31:33.362Z"
   },
   {
    "duration": 159,
    "start_time": "2021-08-03T09:31:33.450Z"
   },
   {
    "duration": 41,
    "start_time": "2021-08-03T09:31:33.613Z"
   },
   {
    "duration": 69,
    "start_time": "2021-08-03T09:31:33.659Z"
   },
   {
    "duration": 19,
    "start_time": "2021-08-03T09:31:33.731Z"
   },
   {
    "duration": 25,
    "start_time": "2021-08-03T09:31:33.754Z"
   },
   {
    "duration": 13,
    "start_time": "2021-08-03T09:31:33.806Z"
   },
   {
    "duration": 18,
    "start_time": "2021-08-03T09:31:33.822Z"
   },
   {
    "duration": 21,
    "start_time": "2021-08-03T09:31:33.844Z"
   },
   {
    "duration": 11,
    "start_time": "2021-08-03T09:35:09.229Z"
   },
   {
    "duration": 13,
    "start_time": "2021-08-03T09:35:26.685Z"
   },
   {
    "duration": 18,
    "start_time": "2021-08-03T09:35:52.573Z"
   },
   {
    "duration": 30,
    "start_time": "2021-08-03T09:36:02.606Z"
   },
   {
    "duration": 25,
    "start_time": "2021-08-03T09:36:21.254Z"
   },
   {
    "duration": 45,
    "start_time": "2021-08-03T09:37:28.007Z"
   },
   {
    "duration": 17,
    "start_time": "2021-08-03T09:37:38.046Z"
   },
   {
    "duration": 635,
    "start_time": "2021-08-03T09:38:28.734Z"
   },
   {
    "duration": 385,
    "start_time": "2021-08-03T09:38:46.989Z"
   },
   {
    "duration": 28,
    "start_time": "2021-08-03T09:38:57.052Z"
   },
   {
    "duration": 36,
    "start_time": "2021-08-03T09:40:48.330Z"
   },
   {
    "duration": 22,
    "start_time": "2021-08-03T09:41:09.558Z"
   },
   {
    "duration": 24,
    "start_time": "2021-08-03T09:41:25.648Z"
   },
   {
    "duration": 37,
    "start_time": "2021-08-03T09:41:36.430Z"
   },
   {
    "duration": 37249,
    "start_time": "2021-08-03T09:43:02.916Z"
   },
   {
    "duration": 812,
    "start_time": "2021-08-03T09:46:55.291Z"
   },
   {
    "duration": 514,
    "start_time": "2021-08-03T09:47:07.878Z"
   },
   {
    "duration": 656,
    "start_time": "2021-08-03T09:47:41.716Z"
   },
   {
    "duration": 785,
    "start_time": "2021-08-03T09:48:04.308Z"
   },
   {
    "duration": 503,
    "start_time": "2021-08-03T09:48:51.827Z"
   },
   {
    "duration": 804,
    "start_time": "2021-08-03T09:49:01.101Z"
   },
   {
    "duration": 542,
    "start_time": "2021-08-03T09:51:01.281Z"
   },
   {
    "duration": 955,
    "start_time": "2021-08-03T09:51:07.004Z"
   },
   {
    "duration": 405,
    "start_time": "2021-08-03T09:51:47.407Z"
   },
   {
    "duration": 531,
    "start_time": "2021-08-03T09:51:54.339Z"
   },
   {
    "duration": 416,
    "start_time": "2021-08-03T09:53:10.782Z"
   },
   {
    "duration": 26,
    "start_time": "2021-08-03T09:53:19.527Z"
   },
   {
    "duration": 25,
    "start_time": "2021-08-03T09:53:34.268Z"
   },
   {
    "duration": 24,
    "start_time": "2021-08-03T09:53:40.851Z"
   },
   {
    "duration": 27,
    "start_time": "2021-08-03T09:53:59.807Z"
   },
   {
    "duration": 22,
    "start_time": "2021-08-03T09:54:06.870Z"
   },
   {
    "duration": 202,
    "start_time": "2021-08-03T09:54:23.486Z"
   },
   {
    "duration": 20,
    "start_time": "2021-08-03T09:54:33.368Z"
   },
   {
    "duration": 26,
    "start_time": "2021-08-03T09:57:36.368Z"
   },
   {
    "duration": 23,
    "start_time": "2021-08-03T09:59:13.081Z"
   },
   {
    "duration": 332,
    "start_time": "2021-08-03T10:02:11.194Z"
   },
   {
    "duration": 364,
    "start_time": "2021-08-03T10:02:22.820Z"
   },
   {
    "duration": 705,
    "start_time": "2021-08-03T10:02:29.530Z"
   },
   {
    "duration": 319,
    "start_time": "2021-08-03T10:02:34.411Z"
   },
   {
    "duration": 424,
    "start_time": "2021-08-03T10:02:55.043Z"
   },
   {
    "duration": 519,
    "start_time": "2021-08-03T10:03:04.890Z"
   },
   {
    "duration": 469,
    "start_time": "2021-08-03T10:03:16.890Z"
   },
   {
    "duration": 400,
    "start_time": "2021-08-03T10:03:21.875Z"
   },
   {
    "duration": 486,
    "start_time": "2021-08-03T10:03:33.330Z"
   },
   {
    "duration": 141,
    "start_time": "2021-08-03T10:03:41.387Z"
   },
   {
    "duration": 489,
    "start_time": "2021-08-03T10:03:47.099Z"
   },
   {
    "duration": 442,
    "start_time": "2021-08-03T10:03:52.467Z"
   },
   {
    "duration": 440,
    "start_time": "2021-08-03T10:03:57.196Z"
   },
   {
    "duration": 414,
    "start_time": "2021-08-03T10:04:04.322Z"
   },
   {
    "duration": 391,
    "start_time": "2021-08-03T10:04:09.530Z"
   },
   {
    "duration": 703,
    "start_time": "2021-08-03T10:04:32.842Z"
   },
   {
    "duration": 1535,
    "start_time": "2021-08-03T10:05:13.837Z"
   },
   {
    "duration": 1263,
    "start_time": "2021-08-03T10:05:29.746Z"
   },
   {
    "duration": 1674,
    "start_time": "2021-08-03T10:07:29.666Z"
   },
   {
    "duration": 402,
    "start_time": "2021-08-03T10:07:38.131Z"
   },
   {
    "duration": 759,
    "start_time": "2021-08-03T10:07:53.602Z"
   },
   {
    "duration": 389,
    "start_time": "2021-08-03T10:07:58.606Z"
   },
   {
    "duration": 121,
    "start_time": "2021-08-03T10:08:18.930Z"
   },
   {
    "duration": 143,
    "start_time": "2021-08-03T10:08:44.498Z"
   },
   {
    "duration": 540,
    "start_time": "2021-08-03T10:09:07.099Z"
   },
   {
    "duration": 560,
    "start_time": "2021-08-03T10:09:26.674Z"
   },
   {
    "duration": 526,
    "start_time": "2021-08-03T10:09:55.722Z"
   },
   {
    "duration": 833,
    "start_time": "2021-08-03T10:10:29.858Z"
   },
   {
    "duration": 534,
    "start_time": "2021-08-03T10:10:45.130Z"
   },
   {
    "duration": 530,
    "start_time": "2021-08-03T10:11:01.906Z"
   },
   {
    "duration": 1577,
    "start_time": "2021-08-03T10:13:48.633Z"
   },
   {
    "duration": 80,
    "start_time": "2021-08-03T10:13:50.213Z"
   },
   {
    "duration": 26,
    "start_time": "2021-08-03T10:13:50.296Z"
   },
   {
    "duration": 28,
    "start_time": "2021-08-03T10:13:50.326Z"
   },
   {
    "duration": 19,
    "start_time": "2021-08-03T10:13:50.357Z"
   },
   {
    "duration": 56,
    "start_time": "2021-08-03T10:13:50.379Z"
   },
   {
    "duration": 16,
    "start_time": "2021-08-03T10:13:50.438Z"
   },
   {
    "duration": 81,
    "start_time": "2021-08-03T10:13:50.457Z"
   },
   {
    "duration": 23,
    "start_time": "2021-08-03T10:13:50.543Z"
   },
   {
    "duration": 47,
    "start_time": "2021-08-03T10:13:50.569Z"
   },
   {
    "duration": 37,
    "start_time": "2021-08-03T10:13:50.619Z"
   },
   {
    "duration": 30,
    "start_time": "2021-08-03T10:13:50.658Z"
   },
   {
    "duration": 136,
    "start_time": "2021-08-03T10:13:50.700Z"
   },
   {
    "duration": 30,
    "start_time": "2021-08-03T10:13:50.838Z"
   },
   {
    "duration": 46,
    "start_time": "2021-08-03T10:13:50.871Z"
   },
   {
    "duration": 17,
    "start_time": "2021-08-03T10:13:50.919Z"
   },
   {
    "duration": 26,
    "start_time": "2021-08-03T10:13:50.940Z"
   },
   {
    "duration": 43,
    "start_time": "2021-08-03T10:13:50.969Z"
   },
   {
    "duration": 12,
    "start_time": "2021-08-03T10:13:51.015Z"
   },
   {
    "duration": 20,
    "start_time": "2021-08-03T10:13:51.038Z"
   },
   {
    "duration": 15,
    "start_time": "2021-08-03T10:13:51.060Z"
   },
   {
    "duration": 51,
    "start_time": "2021-08-03T10:13:51.078Z"
   },
   {
    "duration": 599,
    "start_time": "2021-08-03T10:13:51.131Z"
   },
   {
    "duration": 402,
    "start_time": "2021-08-03T10:13:51.740Z"
   },
   {
    "duration": 329,
    "start_time": "2021-08-03T10:16:53.742Z"
   },
   {
    "duration": 24,
    "start_time": "2021-08-03T10:17:20.463Z"
   },
   {
    "duration": 26,
    "start_time": "2021-08-03T10:17:32.327Z"
   },
   {
    "duration": 19,
    "start_time": "2021-08-03T10:17:37.847Z"
   },
   {
    "duration": 22,
    "start_time": "2021-08-03T10:17:45.351Z"
   },
   {
    "duration": 27,
    "start_time": "2021-08-03T10:18:00.943Z"
   },
   {
    "duration": 145,
    "start_time": "2021-08-03T10:18:08.894Z"
   },
   {
    "duration": 32,
    "start_time": "2021-08-03T10:18:13.510Z"
   },
   {
    "duration": 557,
    "start_time": "2021-08-03T10:19:16.182Z"
   },
   {
    "duration": 312,
    "start_time": "2021-08-03T10:19:29.966Z"
   },
   {
    "duration": 4031,
    "start_time": "2021-08-03T10:21:26.342Z"
   },
   {
    "duration": 279,
    "start_time": "2021-08-03T10:23:02.233Z"
   },
   {
    "duration": 556,
    "start_time": "2021-08-03T10:46:52.196Z"
   },
   {
    "duration": 381,
    "start_time": "2021-08-03T10:47:18.813Z"
   },
   {
    "duration": 439,
    "start_time": "2021-08-03T10:48:26.452Z"
   },
   {
    "duration": 404,
    "start_time": "2021-08-03T10:48:53.843Z"
   },
   {
    "duration": 502,
    "start_time": "2021-08-03T10:49:14.661Z"
   },
   {
    "duration": 510,
    "start_time": "2021-08-03T10:49:21.954Z"
   },
   {
    "duration": 384,
    "start_time": "2021-08-03T10:49:54.151Z"
   },
   {
    "duration": 930,
    "start_time": "2021-08-03T10:50:28.092Z"
   },
   {
    "duration": 566,
    "start_time": "2021-08-03T10:50:36.902Z"
   },
   {
    "duration": 1093,
    "start_time": "2021-08-03T10:53:52.490Z"
   },
   {
    "duration": 555,
    "start_time": "2021-08-03T10:54:01.262Z"
   },
   {
    "duration": 1030,
    "start_time": "2021-08-03T10:54:43.349Z"
   },
   {
    "duration": 497,
    "start_time": "2021-08-03T10:55:19.253Z"
   },
   {
    "duration": 914,
    "start_time": "2021-08-03T10:56:33.741Z"
   },
   {
    "duration": 578,
    "start_time": "2021-08-03T10:57:17.550Z"
   },
   {
    "duration": 710,
    "start_time": "2021-08-03T10:57:37.756Z"
   },
   {
    "duration": 638,
    "start_time": "2021-08-03T10:57:58.900Z"
   },
   {
    "duration": 639,
    "start_time": "2021-08-03T10:58:30.639Z"
   },
   {
    "duration": 673,
    "start_time": "2021-08-03T10:58:44.006Z"
   },
   {
    "duration": 126,
    "start_time": "2021-08-03T11:00:07.425Z"
   },
   {
    "duration": 141,
    "start_time": "2021-08-03T11:00:25.741Z"
   },
   {
    "duration": 754,
    "start_time": "2021-08-03T11:00:39.508Z"
   },
   {
    "duration": 1115,
    "start_time": "2021-08-03T11:01:01.469Z"
   },
   {
    "duration": 673,
    "start_time": "2021-08-03T11:01:27.453Z"
   },
   {
    "duration": 750,
    "start_time": "2021-08-03T11:01:39.012Z"
   },
   {
    "duration": 143,
    "start_time": "2021-08-03T11:01:51.333Z"
   },
   {
    "duration": 780,
    "start_time": "2021-08-03T11:01:57.093Z"
   },
   {
    "duration": 417,
    "start_time": "2021-08-03T11:02:09.735Z"
   },
   {
    "duration": 130,
    "start_time": "2021-08-03T11:02:16.829Z"
   },
   {
    "duration": 171,
    "start_time": "2021-08-03T11:03:02.840Z"
   },
   {
    "duration": 144,
    "start_time": "2021-08-03T11:03:08.516Z"
   },
   {
    "duration": 606,
    "start_time": "2021-08-03T11:03:41.467Z"
   },
   {
    "duration": 626,
    "start_time": "2021-08-03T11:04:00.614Z"
   },
   {
    "duration": 421,
    "start_time": "2021-08-03T11:04:29.500Z"
   },
   {
    "duration": 663,
    "start_time": "2021-08-03T11:04:38.373Z"
   },
   {
    "duration": 695,
    "start_time": "2021-08-03T11:07:20.779Z"
   },
   {
    "duration": 166,
    "start_time": "2021-08-03T11:07:54.716Z"
   },
   {
    "duration": 569,
    "start_time": "2021-08-03T11:08:02.683Z"
   },
   {
    "duration": 565,
    "start_time": "2021-08-03T11:08:22.388Z"
   },
   {
    "duration": 565,
    "start_time": "2021-08-03T11:08:38.084Z"
   },
   {
    "duration": 571,
    "start_time": "2021-08-03T11:09:16.635Z"
   },
   {
    "duration": 627,
    "start_time": "2021-08-03T11:15:47.166Z"
   },
   {
    "duration": 595,
    "start_time": "2021-08-03T11:15:57.491Z"
   },
   {
    "duration": 601,
    "start_time": "2021-08-03T11:16:09.891Z"
   },
   {
    "duration": 615,
    "start_time": "2021-08-03T11:17:25.281Z"
   },
   {
    "duration": 708,
    "start_time": "2021-08-03T11:18:51.140Z"
   },
   {
    "duration": 1047,
    "start_time": "2021-08-03T11:19:53.978Z"
   },
   {
    "duration": 2368,
    "start_time": "2021-08-03T11:20:03.118Z"
   },
   {
    "duration": 908,
    "start_time": "2021-08-03T11:20:15.899Z"
   },
   {
    "duration": 722,
    "start_time": "2021-08-03T11:21:19.530Z"
   },
   {
    "duration": 747,
    "start_time": "2021-08-03T11:21:35.026Z"
   },
   {
    "duration": 581,
    "start_time": "2021-08-03T11:22:19.703Z"
   },
   {
    "duration": 841,
    "start_time": "2021-08-03T11:22:28.819Z"
   },
   {
    "duration": 887,
    "start_time": "2021-08-03T11:22:37.283Z"
   },
   {
    "duration": 1084,
    "start_time": "2021-08-03T11:23:40.482Z"
   },
   {
    "duration": 775,
    "start_time": "2021-08-03T11:23:47.146Z"
   },
   {
    "duration": 691,
    "start_time": "2021-08-03T11:23:57.355Z"
   },
   {
    "duration": 678,
    "start_time": "2021-08-03T11:24:05.778Z"
   },
   {
    "duration": 407,
    "start_time": "2021-08-03T11:25:59.070Z"
   },
   {
    "duration": 436,
    "start_time": "2021-08-03T11:26:03.547Z"
   },
   {
    "duration": 31,
    "start_time": "2021-08-03T11:26:10.601Z"
   },
   {
    "duration": 445,
    "start_time": "2021-08-03T11:26:59.851Z"
   },
   {
    "duration": 414,
    "start_time": "2021-08-03T11:27:28.529Z"
   },
   {
    "duration": 129,
    "start_time": "2021-08-03T11:27:41.241Z"
   },
   {
    "duration": 372,
    "start_time": "2021-08-03T11:27:45.561Z"
   },
   {
    "duration": 13,
    "start_time": "2021-08-03T11:28:32.370Z"
   },
   {
    "duration": 25,
    "start_time": "2021-08-03T11:29:15.307Z"
   },
   {
    "duration": 402,
    "start_time": "2021-08-03T11:29:31.025Z"
   },
   {
    "duration": 13,
    "start_time": "2021-08-03T11:29:41.569Z"
   },
   {
    "duration": 387,
    "start_time": "2021-08-03T11:30:08.177Z"
   },
   {
    "duration": 17,
    "start_time": "2021-08-03T11:30:14.737Z"
   },
   {
    "duration": 12,
    "start_time": "2021-08-03T11:31:26.033Z"
   },
   {
    "duration": 12,
    "start_time": "2021-08-03T11:31:29.648Z"
   },
   {
    "duration": 14,
    "start_time": "2021-08-03T11:31:49.145Z"
   },
   {
    "duration": 6,
    "start_time": "2021-08-03T11:33:00.088Z"
   },
   {
    "duration": 10,
    "start_time": "2021-08-03T11:33:14.657Z"
   },
   {
    "duration": 9,
    "start_time": "2021-08-03T11:33:34.441Z"
   },
   {
    "duration": 9,
    "start_time": "2021-08-03T11:33:45.344Z"
   },
   {
    "duration": 709,
    "start_time": "2021-08-03T11:34:07.824Z"
   },
   {
    "duration": 27,
    "start_time": "2021-08-03T11:34:12.289Z"
   },
   {
    "duration": 1041,
    "start_time": "2021-08-03T11:35:43.608Z"
   },
   {
    "duration": 9,
    "start_time": "2021-08-03T11:35:50.440Z"
   },
   {
    "duration": 27,
    "start_time": "2021-08-03T11:39:51.793Z"
   },
   {
    "duration": 21,
    "start_time": "2021-08-03T11:39:56.713Z"
   },
   {
    "duration": 34,
    "start_time": "2021-08-03T11:41:52.920Z"
   },
   {
    "duration": 1820,
    "start_time": "2021-08-03T11:42:34.829Z"
   },
   {
    "duration": 86,
    "start_time": "2021-08-03T11:42:36.652Z"
   },
   {
    "duration": 15,
    "start_time": "2021-08-03T11:42:36.742Z"
   },
   {
    "duration": 47,
    "start_time": "2021-08-03T11:42:36.760Z"
   },
   {
    "duration": 39,
    "start_time": "2021-08-03T11:42:36.810Z"
   },
   {
    "duration": 69,
    "start_time": "2021-08-03T11:42:36.853Z"
   },
   {
    "duration": 22,
    "start_time": "2021-08-03T11:42:36.925Z"
   },
   {
    "duration": 58,
    "start_time": "2021-08-03T11:42:36.950Z"
   },
   {
    "duration": 30,
    "start_time": "2021-08-03T11:42:37.022Z"
   },
   {
    "duration": 24,
    "start_time": "2021-08-03T11:42:37.056Z"
   },
   {
    "duration": 53,
    "start_time": "2021-08-03T11:42:37.105Z"
   },
   {
    "duration": 54,
    "start_time": "2021-08-03T11:42:37.161Z"
   },
   {
    "duration": 132,
    "start_time": "2021-08-03T11:42:37.217Z"
   },
   {
    "duration": 26,
    "start_time": "2021-08-03T11:42:37.351Z"
   },
   {
    "duration": 51,
    "start_time": "2021-08-03T11:42:37.380Z"
   },
   {
    "duration": 13,
    "start_time": "2021-08-03T11:42:37.435Z"
   },
   {
    "duration": 22,
    "start_time": "2021-08-03T11:42:37.451Z"
   },
   {
    "duration": 38,
    "start_time": "2021-08-03T11:42:37.506Z"
   },
   {
    "duration": 10,
    "start_time": "2021-08-03T11:42:37.547Z"
   },
   {
    "duration": 13,
    "start_time": "2021-08-03T11:42:37.560Z"
   },
   {
    "duration": 27,
    "start_time": "2021-08-03T11:42:37.609Z"
   },
   {
    "duration": 20,
    "start_time": "2021-08-03T11:42:37.639Z"
   },
   {
    "duration": 595,
    "start_time": "2021-08-03T11:42:37.662Z"
   },
   {
    "duration": 445,
    "start_time": "2021-08-03T11:42:38.261Z"
   },
   {
    "duration": 1041,
    "start_time": "2021-08-03T11:42:38.711Z"
   },
   {
    "duration": 33,
    "start_time": "2021-08-03T11:42:39.754Z"
   },
   {
    "duration": 31,
    "start_time": "2021-08-03T11:43:17.554Z"
   },
   {
    "duration": 1524,
    "start_time": "2021-08-03T11:43:28.054Z"
   },
   {
    "duration": 87,
    "start_time": "2021-08-03T11:43:29.581Z"
   },
   {
    "duration": 14,
    "start_time": "2021-08-03T11:43:29.670Z"
   },
   {
    "duration": 32,
    "start_time": "2021-08-03T11:43:29.701Z"
   },
   {
    "duration": 20,
    "start_time": "2021-08-03T11:43:29.736Z"
   },
   {
    "duration": 67,
    "start_time": "2021-08-03T11:43:29.758Z"
   },
   {
    "duration": 13,
    "start_time": "2021-08-03T11:43:29.827Z"
   },
   {
    "duration": 40,
    "start_time": "2021-08-03T11:43:29.844Z"
   },
   {
    "duration": 32,
    "start_time": "2021-08-03T11:43:29.900Z"
   },
   {
    "duration": 20,
    "start_time": "2021-08-03T11:43:29.934Z"
   },
   {
    "duration": 70,
    "start_time": "2021-08-03T11:43:29.956Z"
   },
   {
    "duration": 31,
    "start_time": "2021-08-03T11:43:30.028Z"
   },
   {
    "duration": 148,
    "start_time": "2021-08-03T11:43:30.061Z"
   },
   {
    "duration": 37,
    "start_time": "2021-08-03T11:43:30.212Z"
   },
   {
    "duration": 21,
    "start_time": "2021-08-03T11:43:30.252Z"
   },
   {
    "duration": 52,
    "start_time": "2021-08-03T11:43:30.276Z"
   },
   {
    "duration": 24,
    "start_time": "2021-08-03T11:43:30.330Z"
   },
   {
    "duration": 53,
    "start_time": "2021-08-03T11:43:30.357Z"
   },
   {
    "duration": 16,
    "start_time": "2021-08-03T11:43:30.413Z"
   },
   {
    "duration": 30,
    "start_time": "2021-08-03T11:43:30.434Z"
   },
   {
    "duration": 24,
    "start_time": "2021-08-03T11:43:30.467Z"
   },
   {
    "duration": 35,
    "start_time": "2021-08-03T11:43:30.493Z"
   },
   {
    "duration": 532,
    "start_time": "2021-08-03T11:43:30.533Z"
   },
   {
    "duration": 447,
    "start_time": "2021-08-03T11:43:31.068Z"
   },
   {
    "duration": 663,
    "start_time": "2021-08-03T11:43:31.520Z"
   },
   {
    "duration": 47,
    "start_time": "2021-08-03T11:43:32.186Z"
   },
   {
    "duration": 35,
    "start_time": "2021-08-03T11:43:32.236Z"
   },
   {
    "duration": 631,
    "start_time": "2021-08-03T11:44:41.027Z"
   },
   {
    "duration": 389,
    "start_time": "2021-08-03T11:44:55.043Z"
   },
   {
    "duration": 1070,
    "start_time": "2021-08-03T11:45:03.268Z"
   },
   {
    "duration": 1575,
    "start_time": "2021-08-03T11:45:12.628Z"
   },
   {
    "duration": 88,
    "start_time": "2021-08-03T11:45:14.206Z"
   },
   {
    "duration": 29,
    "start_time": "2021-08-03T11:45:14.298Z"
   },
   {
    "duration": 21,
    "start_time": "2021-08-03T11:45:14.330Z"
   },
   {
    "duration": 24,
    "start_time": "2021-08-03T11:45:14.353Z"
   },
   {
    "duration": 63,
    "start_time": "2021-08-03T11:45:14.379Z"
   },
   {
    "duration": 13,
    "start_time": "2021-08-03T11:45:14.445Z"
   },
   {
    "duration": 84,
    "start_time": "2021-08-03T11:45:14.461Z"
   },
   {
    "duration": 23,
    "start_time": "2021-08-03T11:45:14.549Z"
   },
   {
    "duration": 51,
    "start_time": "2021-08-03T11:45:14.575Z"
   },
   {
    "duration": 30,
    "start_time": "2021-08-03T11:45:14.629Z"
   },
   {
    "duration": 65,
    "start_time": "2021-08-03T11:45:14.662Z"
   },
   {
    "duration": 116,
    "start_time": "2021-08-03T11:45:14.729Z"
   },
   {
    "duration": 26,
    "start_time": "2021-08-03T11:45:14.847Z"
   },
   {
    "duration": 45,
    "start_time": "2021-08-03T11:45:14.875Z"
   },
   {
    "duration": 14,
    "start_time": "2021-08-03T11:45:14.923Z"
   },
   {
    "duration": 29,
    "start_time": "2021-08-03T11:45:14.940Z"
   },
   {
    "duration": 43,
    "start_time": "2021-08-03T11:45:14.972Z"
   },
   {
    "duration": 11,
    "start_time": "2021-08-03T11:45:15.018Z"
   },
   {
    "duration": 21,
    "start_time": "2021-08-03T11:45:15.031Z"
   },
   {
    "duration": 27,
    "start_time": "2021-08-03T11:45:15.054Z"
   },
   {
    "duration": 46,
    "start_time": "2021-08-03T11:45:15.083Z"
   },
   {
    "duration": 530,
    "start_time": "2021-08-03T11:45:15.131Z"
   },
   {
    "duration": 426,
    "start_time": "2021-08-03T11:45:15.664Z"
   },
   {
    "duration": 712,
    "start_time": "2021-08-03T11:45:16.093Z"
   },
   {
    "duration": 41,
    "start_time": "2021-08-03T11:45:16.810Z"
   },
   {
    "duration": 24,
    "start_time": "2021-08-03T11:47:21.481Z"
   },
   {
    "duration": 641,
    "start_time": "2021-08-03T11:48:09.035Z"
   },
   {
    "duration": 1588,
    "start_time": "2021-08-03T11:48:22.116Z"
   },
   {
    "duration": 82,
    "start_time": "2021-08-03T11:48:23.709Z"
   },
   {
    "duration": 30,
    "start_time": "2021-08-03T11:48:23.796Z"
   },
   {
    "duration": 22,
    "start_time": "2021-08-03T11:48:23.831Z"
   },
   {
    "duration": 24,
    "start_time": "2021-08-03T11:48:23.856Z"
   },
   {
    "duration": 41,
    "start_time": "2021-08-03T11:48:23.909Z"
   },
   {
    "duration": 18,
    "start_time": "2021-08-03T11:48:23.952Z"
   },
   {
    "duration": 75,
    "start_time": "2021-08-03T11:48:23.973Z"
   },
   {
    "duration": 24,
    "start_time": "2021-08-03T11:48:24.052Z"
   },
   {
    "duration": 51,
    "start_time": "2021-08-03T11:48:24.079Z"
   },
   {
    "duration": 37,
    "start_time": "2021-08-03T11:48:24.133Z"
   },
   {
    "duration": 65,
    "start_time": "2021-08-03T11:48:24.172Z"
   },
   {
    "duration": 142,
    "start_time": "2021-08-03T11:48:24.239Z"
   },
   {
    "duration": 41,
    "start_time": "2021-08-03T11:48:24.384Z"
   },
   {
    "duration": 23,
    "start_time": "2021-08-03T11:48:24.428Z"
   },
   {
    "duration": 13,
    "start_time": "2021-08-03T11:48:24.454Z"
   },
   {
    "duration": 72,
    "start_time": "2021-08-03T11:48:24.469Z"
   },
   {
    "duration": 27,
    "start_time": "2021-08-03T11:48:24.544Z"
   },
   {
    "duration": 8,
    "start_time": "2021-08-03T11:48:24.574Z"
   },
   {
    "duration": 44,
    "start_time": "2021-08-03T11:48:24.584Z"
   },
   {
    "duration": 19,
    "start_time": "2021-08-03T11:48:24.631Z"
   },
   {
    "duration": 19,
    "start_time": "2021-08-03T11:48:24.654Z"
   },
   {
    "duration": 585,
    "start_time": "2021-08-03T11:48:24.675Z"
   },
   {
    "duration": 429,
    "start_time": "2021-08-03T11:48:25.262Z"
   },
   {
    "duration": 649,
    "start_time": "2021-08-03T11:48:25.704Z"
   },
   {
    "duration": 66,
    "start_time": "2021-08-03T11:48:26.356Z"
   },
   {
    "duration": 833,
    "start_time": "2021-08-03T11:48:26.429Z"
   },
   {
    "duration": 385,
    "start_time": "2021-08-03T11:48:39.065Z"
   },
   {
    "duration": 624,
    "start_time": "2021-08-03T11:48:45.953Z"
   },
   {
    "duration": 1703,
    "start_time": "2021-08-03T11:48:55.515Z"
   },
   {
    "duration": 88,
    "start_time": "2021-08-03T11:48:57.223Z"
   },
   {
    "duration": 24,
    "start_time": "2021-08-03T11:48:57.315Z"
   },
   {
    "duration": 24,
    "start_time": "2021-08-03T11:48:57.345Z"
   },
   {
    "duration": 61,
    "start_time": "2021-08-03T11:48:57.371Z"
   },
   {
    "duration": 39,
    "start_time": "2021-08-03T11:48:57.436Z"
   },
   {
    "duration": 30,
    "start_time": "2021-08-03T11:48:57.478Z"
   },
   {
    "duration": 48,
    "start_time": "2021-08-03T11:48:57.511Z"
   },
   {
    "duration": 47,
    "start_time": "2021-08-03T11:48:57.565Z"
   },
   {
    "duration": 31,
    "start_time": "2021-08-03T11:48:57.615Z"
   },
   {
    "duration": 58,
    "start_time": "2021-08-03T11:48:57.648Z"
   },
   {
    "duration": 40,
    "start_time": "2021-08-03T11:48:57.708Z"
   },
   {
    "duration": 139,
    "start_time": "2021-08-03T11:48:57.751Z"
   },
   {
    "duration": 38,
    "start_time": "2021-08-03T11:48:57.892Z"
   },
   {
    "duration": 26,
    "start_time": "2021-08-03T11:48:57.933Z"
   },
   {
    "duration": 47,
    "start_time": "2021-08-03T11:48:57.962Z"
   },
   {
    "duration": 30,
    "start_time": "2021-08-03T11:48:58.012Z"
   },
   {
    "duration": 24,
    "start_time": "2021-08-03T11:48:58.044Z"
   },
   {
    "duration": 40,
    "start_time": "2021-08-03T11:48:58.071Z"
   },
   {
    "duration": 29,
    "start_time": "2021-08-03T11:48:58.116Z"
   },
   {
    "duration": 23,
    "start_time": "2021-08-03T11:48:58.148Z"
   },
   {
    "duration": 40,
    "start_time": "2021-08-03T11:48:58.174Z"
   },
   {
    "duration": 615,
    "start_time": "2021-08-03T11:48:58.217Z"
   },
   {
    "duration": 487,
    "start_time": "2021-08-03T11:48:58.835Z"
   },
   {
    "duration": 749,
    "start_time": "2021-08-03T11:48:59.327Z"
   },
   {
    "duration": 69,
    "start_time": "2021-08-03T11:49:00.079Z"
   },
   {
    "duration": 583,
    "start_time": "2021-08-03T11:49:00.165Z"
   },
   {
    "duration": 22,
    "start_time": "2021-08-03T11:49:23.408Z"
   },
   {
    "duration": 16,
    "start_time": "2021-08-03T11:49:48.129Z"
   },
   {
    "duration": 15,
    "start_time": "2021-08-03T11:49:57.574Z"
   },
   {
    "duration": 19,
    "start_time": "2021-08-03T11:50:20.624Z"
   },
   {
    "duration": 14,
    "start_time": "2021-08-03T11:50:40.449Z"
   },
   {
    "duration": 19,
    "start_time": "2021-08-03T11:52:16.328Z"
   },
   {
    "duration": 20,
    "start_time": "2021-08-03T11:53:01.343Z"
   },
   {
    "duration": 15,
    "start_time": "2021-08-03T11:53:17.159Z"
   },
   {
    "duration": 21,
    "start_time": "2021-08-03T11:53:46.255Z"
   },
   {
    "duration": 15,
    "start_time": "2021-08-03T11:54:26.352Z"
   },
   {
    "duration": 279,
    "start_time": "2021-08-03T11:55:39.094Z"
   },
   {
    "duration": 18,
    "start_time": "2021-08-03T11:55:49.798Z"
   },
   {
    "duration": 386,
    "start_time": "2021-08-03T12:03:15.799Z"
   },
   {
    "duration": 834,
    "start_time": "2021-08-03T12:03:29.112Z"
   },
   {
    "duration": 632,
    "start_time": "2021-08-03T12:03:36.494Z"
   },
   {
    "duration": 261,
    "start_time": "2021-08-03T12:03:50.750Z"
   },
   {
    "duration": 786,
    "start_time": "2021-08-03T12:29:03.777Z"
   },
   {
    "duration": 867,
    "start_time": "2021-08-03T12:29:23.516Z"
   },
   {
    "duration": 1001,
    "start_time": "2021-08-03T12:29:31.852Z"
   },
   {
    "duration": 1009,
    "start_time": "2021-08-03T12:40:09.451Z"
   },
   {
    "duration": 531,
    "start_time": "2021-08-03T12:40:35.387Z"
   },
   {
    "duration": 1572,
    "start_time": "2021-08-03T12:40:45.761Z"
   },
   {
    "duration": 84,
    "start_time": "2021-08-03T12:40:47.335Z"
   },
   {
    "duration": 15,
    "start_time": "2021-08-03T12:40:47.429Z"
   },
   {
    "duration": 23,
    "start_time": "2021-08-03T12:40:47.447Z"
   },
   {
    "duration": 42,
    "start_time": "2021-08-03T12:40:47.473Z"
   },
   {
    "duration": 37,
    "start_time": "2021-08-03T12:40:47.518Z"
   },
   {
    "duration": 24,
    "start_time": "2021-08-03T12:40:47.558Z"
   },
   {
    "duration": 63,
    "start_time": "2021-08-03T12:40:47.584Z"
   },
   {
    "duration": 24,
    "start_time": "2021-08-03T12:40:47.651Z"
   },
   {
    "duration": 38,
    "start_time": "2021-08-03T12:40:47.702Z"
   },
   {
    "duration": 33,
    "start_time": "2021-08-03T12:40:47.742Z"
   },
   {
    "duration": 66,
    "start_time": "2021-08-03T12:40:47.777Z"
   },
   {
    "duration": 137,
    "start_time": "2021-08-03T12:40:47.845Z"
   },
   {
    "duration": 50,
    "start_time": "2021-08-03T12:40:47.985Z"
   },
   {
    "duration": 21,
    "start_time": "2021-08-03T12:40:48.037Z"
   },
   {
    "duration": 15,
    "start_time": "2021-08-03T12:40:48.060Z"
   },
   {
    "duration": 29,
    "start_time": "2021-08-03T12:40:48.114Z"
   },
   {
    "duration": 26,
    "start_time": "2021-08-03T12:40:48.146Z"
   },
   {
    "duration": 9,
    "start_time": "2021-08-03T12:40:48.174Z"
   },
   {
    "duration": 35,
    "start_time": "2021-08-03T12:40:48.185Z"
   },
   {
    "duration": 27,
    "start_time": "2021-08-03T12:40:48.229Z"
   },
   {
    "duration": 21,
    "start_time": "2021-08-03T12:40:48.258Z"
   },
   {
    "duration": 583,
    "start_time": "2021-08-03T12:40:48.302Z"
   },
   {
    "duration": 427,
    "start_time": "2021-08-03T12:40:48.887Z"
   },
   {
    "duration": 655,
    "start_time": "2021-08-03T12:40:49.318Z"
   },
   {
    "duration": 57,
    "start_time": "2021-08-03T12:40:49.976Z"
   },
   {
    "duration": 16,
    "start_time": "2021-08-03T12:40:50.038Z"
   },
   {
    "duration": 1027,
    "start_time": "2021-08-03T12:40:50.057Z"
   },
   {
    "duration": 8,
    "start_time": "2021-08-03T12:45:09.683Z"
   },
   {
    "duration": 8,
    "start_time": "2021-08-03T12:45:37.757Z"
   },
   {
    "duration": 11,
    "start_time": "2021-08-03T12:46:31.147Z"
   },
   {
    "duration": 13,
    "start_time": "2021-08-03T12:47:32.684Z"
   },
   {
    "duration": 539,
    "start_time": "2021-08-03T12:48:59.398Z"
   },
   {
    "duration": 14,
    "start_time": "2021-08-03T12:49:48.548Z"
   },
   {
    "duration": 11,
    "start_time": "2021-08-03T12:49:59.634Z"
   },
   {
    "duration": 17,
    "start_time": "2021-08-03T12:50:20.451Z"
   },
   {
    "duration": 12,
    "start_time": "2021-08-03T12:52:17.011Z"
   },
   {
    "duration": 12,
    "start_time": "2021-08-03T12:52:17.434Z"
   },
   {
    "duration": 16,
    "start_time": "2021-08-03T12:52:58.898Z"
   },
   {
    "duration": 10,
    "start_time": "2021-08-03T12:53:05.946Z"
   },
   {
    "duration": 12,
    "start_time": "2021-08-03T12:53:58.362Z"
   },
   {
    "duration": 13,
    "start_time": "2021-08-03T12:54:00.938Z"
   },
   {
    "duration": 11,
    "start_time": "2021-08-03T12:54:12.915Z"
   },
   {
    "duration": 11,
    "start_time": "2021-08-03T13:29:01.955Z"
   },
   {
    "duration": 14,
    "start_time": "2021-08-03T13:29:07.959Z"
   },
   {
    "duration": 625,
    "start_time": "2021-08-03T13:29:08.623Z"
   },
   {
    "duration": 11,
    "start_time": "2021-08-03T13:29:09.255Z"
   },
   {
    "duration": 569,
    "start_time": "2021-08-03T13:31:13.320Z"
   },
   {
    "duration": 411,
    "start_time": "2021-08-03T13:31:33.344Z"
   },
   {
    "duration": 830,
    "start_time": "2021-08-03T13:33:03.663Z"
   },
   {
    "duration": 11,
    "start_time": "2021-08-03T13:33:23.889Z"
   },
   {
    "duration": 852,
    "start_time": "2021-08-03T13:35:43.056Z"
   },
   {
    "duration": 14,
    "start_time": "2021-08-03T13:39:22.311Z"
   },
   {
    "duration": 13,
    "start_time": "2021-08-03T13:39:50.520Z"
   },
   {
    "duration": 11,
    "start_time": "2021-08-03T13:40:02.894Z"
   },
   {
    "duration": 14,
    "start_time": "2021-08-03T13:40:09.415Z"
   },
   {
    "duration": 13,
    "start_time": "2021-08-03T13:43:08.072Z"
   },
   {
    "duration": 9,
    "start_time": "2021-08-03T13:56:44.380Z"
   },
   {
    "duration": 18,
    "start_time": "2021-08-03T13:57:59.112Z"
   },
   {
    "duration": 18,
    "start_time": "2021-08-03T13:58:51.088Z"
   },
   {
    "duration": 28,
    "start_time": "2021-08-03T13:59:12.103Z"
   },
   {
    "duration": 29,
    "start_time": "2021-08-03T13:59:27.197Z"
   },
   {
    "duration": 17,
    "start_time": "2021-08-03T13:59:57.566Z"
   },
   {
    "duration": 23,
    "start_time": "2021-08-03T14:00:02.894Z"
   },
   {
    "duration": 368,
    "start_time": "2021-08-03T14:00:10.615Z"
   },
   {
    "duration": 17,
    "start_time": "2021-08-03T14:00:16.138Z"
   },
   {
    "duration": 28,
    "start_time": "2021-08-03T14:00:46.703Z"
   },
   {
    "duration": 16,
    "start_time": "2021-08-03T14:00:56.430Z"
   },
   {
    "duration": 13,
    "start_time": "2021-08-03T14:01:09.975Z"
   },
   {
    "duration": 470,
    "start_time": "2021-08-03T16:46:04.367Z"
   },
   {
    "duration": 389,
    "start_time": "2021-08-03T16:46:10.265Z"
   },
   {
    "duration": 1556,
    "start_time": "2021-08-03T16:46:16.330Z"
   },
   {
    "duration": 86,
    "start_time": "2021-08-03T16:46:17.889Z"
   },
   {
    "duration": 33,
    "start_time": "2021-08-03T16:46:17.978Z"
   },
   {
    "duration": 24,
    "start_time": "2021-08-03T16:46:18.015Z"
   },
   {
    "duration": 19,
    "start_time": "2021-08-03T16:46:18.041Z"
   },
   {
    "duration": 65,
    "start_time": "2021-08-03T16:46:18.062Z"
   },
   {
    "duration": 18,
    "start_time": "2021-08-03T16:46:18.130Z"
   },
   {
    "duration": 58,
    "start_time": "2021-08-03T16:46:18.152Z"
   },
   {
    "duration": 28,
    "start_time": "2021-08-03T16:46:18.217Z"
   },
   {
    "duration": 20,
    "start_time": "2021-08-03T16:46:18.248Z"
   },
   {
    "duration": 72,
    "start_time": "2021-08-03T16:46:18.270Z"
   },
   {
    "duration": 32,
    "start_time": "2021-08-03T16:46:18.344Z"
   },
   {
    "duration": 114,
    "start_time": "2021-08-03T16:46:18.416Z"
   },
   {
    "duration": 27,
    "start_time": "2021-08-03T16:46:18.533Z"
   },
   {
    "duration": 52,
    "start_time": "2021-08-03T16:46:18.562Z"
   },
   {
    "duration": 17,
    "start_time": "2021-08-03T16:46:18.617Z"
   },
   {
    "duration": 22,
    "start_time": "2021-08-03T16:46:18.636Z"
   },
   {
    "duration": 66,
    "start_time": "2021-08-03T16:46:18.661Z"
   },
   {
    "duration": 8,
    "start_time": "2021-08-03T16:46:18.729Z"
   },
   {
    "duration": 11,
    "start_time": "2021-08-03T16:46:18.740Z"
   },
   {
    "duration": 20,
    "start_time": "2021-08-03T16:46:18.754Z"
   },
   {
    "duration": 28,
    "start_time": "2021-08-03T16:46:18.804Z"
   },
   {
    "duration": 559,
    "start_time": "2021-08-03T16:46:18.837Z"
   },
   {
    "duration": 442,
    "start_time": "2021-08-03T16:46:19.402Z"
   },
   {
    "duration": 665,
    "start_time": "2021-08-03T16:46:19.846Z"
   },
   {
    "duration": 47,
    "start_time": "2021-08-03T16:46:20.517Z"
   },
   {
    "duration": 54,
    "start_time": "2021-08-03T16:46:20.568Z"
   },
   {
    "duration": 1155,
    "start_time": "2021-08-03T16:46:20.626Z"
   },
   {
    "duration": 24,
    "start_time": "2021-08-03T16:46:21.783Z"
   },
   {
    "duration": 913,
    "start_time": "2021-08-03T16:46:21.812Z"
   },
   {
    "duration": 13,
    "start_time": "2021-08-03T16:46:22.728Z"
   },
   {
    "duration": 954,
    "start_time": "2021-08-03T16:46:22.743Z"
   },
   {
    "duration": 19,
    "start_time": "2021-08-03T16:46:23.701Z"
   },
   {
    "duration": 16,
    "start_time": "2021-08-03T16:46:23.723Z"
   },
   {
    "duration": 13,
    "start_time": "2021-08-03T16:46:23.741Z"
   },
   {
    "duration": 68,
    "start_time": "2021-08-03T16:46:23.757Z"
   },
   {
    "duration": 14,
    "start_time": "2021-08-03T16:46:37.139Z"
   },
   {
    "duration": 14,
    "start_time": "2021-08-03T16:46:48.521Z"
   },
   {
    "duration": 14,
    "start_time": "2021-08-03T16:46:55.481Z"
   },
   {
    "duration": 123,
    "start_time": "2021-08-03T16:47:19.001Z"
   },
   {
    "duration": 14,
    "start_time": "2021-08-03T16:47:33.641Z"
   },
   {
    "duration": 15,
    "start_time": "2021-08-03T16:48:13.121Z"
   },
   {
    "duration": 13,
    "start_time": "2021-08-03T16:48:24.561Z"
   },
   {
    "duration": 16,
    "start_time": "2021-08-03T16:50:34.233Z"
   },
   {
    "duration": 14,
    "start_time": "2021-08-03T16:50:50.681Z"
   },
   {
    "duration": 638,
    "start_time": "2021-08-03T16:51:06.421Z"
   },
   {
    "duration": 15,
    "start_time": "2021-08-03T16:51:19.033Z"
   },
   {
    "duration": 14,
    "start_time": "2021-08-03T16:51:36.233Z"
   },
   {
    "duration": 14,
    "start_time": "2021-08-03T16:52:02.973Z"
   },
   {
    "duration": 15,
    "start_time": "2021-08-03T16:52:10.721Z"
   },
   {
    "duration": 14,
    "start_time": "2021-08-03T16:52:30.621Z"
   },
   {
    "duration": 118,
    "start_time": "2021-08-03T16:52:41.161Z"
   },
   {
    "duration": 14,
    "start_time": "2021-08-03T16:52:45.541Z"
   },
   {
    "duration": 14,
    "start_time": "2021-08-03T16:53:03.323Z"
   },
   {
    "duration": 14,
    "start_time": "2021-08-03T16:53:24.381Z"
   },
   {
    "duration": 19,
    "start_time": "2021-08-03T16:53:28.501Z"
   },
   {
    "duration": 16,
    "start_time": "2021-08-03T16:53:28.941Z"
   },
   {
    "duration": 16,
    "start_time": "2021-08-03T16:53:29.271Z"
   },
   {
    "duration": 16,
    "start_time": "2021-08-03T16:53:29.453Z"
   },
   {
    "duration": 14,
    "start_time": "2021-08-03T16:53:29.635Z"
   },
   {
    "duration": 13,
    "start_time": "2021-08-03T16:53:30.148Z"
   },
   {
    "duration": 15,
    "start_time": "2021-08-03T16:54:19.173Z"
   },
   {
    "duration": 14,
    "start_time": "2021-08-03T16:55:12.514Z"
   },
   {
    "duration": 21,
    "start_time": "2021-08-03T16:55:54.603Z"
   },
   {
    "duration": 18,
    "start_time": "2021-08-03T16:55:56.793Z"
   },
   {
    "duration": 30,
    "start_time": "2021-08-03T17:12:35.892Z"
   },
   {
    "duration": 14,
    "start_time": "2021-08-03T17:13:31.001Z"
   },
   {
    "duration": 1470,
    "start_time": "2021-08-03T17:13:40.188Z"
   },
   {
    "duration": 81,
    "start_time": "2021-08-03T17:13:41.660Z"
   },
   {
    "duration": 14,
    "start_time": "2021-08-03T17:13:41.744Z"
   },
   {
    "duration": 41,
    "start_time": "2021-08-03T17:13:41.761Z"
   },
   {
    "duration": 21,
    "start_time": "2021-08-03T17:13:41.805Z"
   },
   {
    "duration": 32,
    "start_time": "2021-08-03T17:13:41.829Z"
   },
   {
    "duration": 40,
    "start_time": "2021-08-03T17:13:41.863Z"
   },
   {
    "duration": 33,
    "start_time": "2021-08-03T17:13:41.905Z"
   },
   {
    "duration": 23,
    "start_time": "2021-08-03T17:13:41.942Z"
   },
   {
    "duration": 50,
    "start_time": "2021-08-03T17:13:41.968Z"
   },
   {
    "duration": 32,
    "start_time": "2021-08-03T17:13:42.020Z"
   },
   {
    "duration": 63,
    "start_time": "2021-08-03T17:13:42.055Z"
   },
   {
    "duration": 123,
    "start_time": "2021-08-03T17:13:42.121Z"
   },
   {
    "duration": 28,
    "start_time": "2021-08-03T17:13:42.246Z"
   },
   {
    "duration": 41,
    "start_time": "2021-08-03T17:13:42.276Z"
   },
   {
    "duration": 13,
    "start_time": "2021-08-03T17:13:42.320Z"
   },
   {
    "duration": 21,
    "start_time": "2021-08-03T17:13:42.335Z"
   },
   {
    "duration": 64,
    "start_time": "2021-08-03T17:13:42.358Z"
   },
   {
    "duration": 8,
    "start_time": "2021-08-03T17:13:42.425Z"
   },
   {
    "duration": 10,
    "start_time": "2021-08-03T17:13:42.435Z"
   },
   {
    "duration": 58,
    "start_time": "2021-08-03T17:13:42.447Z"
   },
   {
    "duration": 18,
    "start_time": "2021-08-03T17:13:42.508Z"
   },
   {
    "duration": 494,
    "start_time": "2021-08-03T17:13:42.528Z"
   },
   {
    "duration": 369,
    "start_time": "2021-08-03T17:13:43.024Z"
   },
   {
    "duration": 580,
    "start_time": "2021-08-03T17:13:43.400Z"
   },
   {
    "duration": 43,
    "start_time": "2021-08-03T17:13:43.982Z"
   },
   {
    "duration": 16,
    "start_time": "2021-08-03T17:13:44.030Z"
   },
   {
    "duration": 934,
    "start_time": "2021-08-03T17:13:44.049Z"
   },
   {
    "duration": 18,
    "start_time": "2021-08-03T17:13:44.986Z"
   },
   {
    "duration": 757,
    "start_time": "2021-08-03T17:13:45.007Z"
   },
   {
    "duration": 11,
    "start_time": "2021-08-03T17:13:45.767Z"
   },
   {
    "duration": 852,
    "start_time": "2021-08-03T17:13:45.800Z"
   },
   {
    "duration": 15,
    "start_time": "2021-08-03T17:13:46.655Z"
   },
   {
    "duration": 38,
    "start_time": "2021-08-03T17:13:46.673Z"
   },
   {
    "duration": 16,
    "start_time": "2021-08-03T17:13:46.714Z"
   },
   {
    "duration": 14,
    "start_time": "2021-08-03T17:13:46.733Z"
   },
   {
    "duration": 52,
    "start_time": "2021-08-03T17:13:46.750Z"
   },
   {
    "duration": 14,
    "start_time": "2021-08-03T17:13:46.804Z"
   },
   {
    "duration": 16,
    "start_time": "2021-08-03T17:13:46.820Z"
   },
   {
    "duration": 16,
    "start_time": "2021-08-03T17:13:46.838Z"
   },
   {
    "duration": 54,
    "start_time": "2021-08-03T17:13:46.857Z"
   },
   {
    "duration": 16,
    "start_time": "2021-08-03T17:13:46.913Z"
   },
   {
    "duration": 13,
    "start_time": "2021-08-03T17:13:46.932Z"
   },
   {
    "duration": 14,
    "start_time": "2021-08-03T17:13:46.947Z"
   },
   {
    "duration": 52,
    "start_time": "2021-08-03T17:13:46.963Z"
   },
   {
    "duration": 28,
    "start_time": "2021-08-03T17:13:47.017Z"
   },
   {
    "duration": 15,
    "start_time": "2021-08-03T17:13:47.047Z"
   },
   {
    "duration": 14,
    "start_time": "2021-08-03T17:13:58.574Z"
   },
   {
    "duration": 6,
    "start_time": "2021-08-03T17:14:27.909Z"
   },
   {
    "duration": 17,
    "start_time": "2021-08-03T17:14:42.226Z"
   },
   {
    "duration": 16,
    "start_time": "2021-08-03T17:39:48.105Z"
   },
   {
    "duration": 365,
    "start_time": "2021-08-03T17:57:24.058Z"
   },
   {
    "duration": 1688,
    "start_time": "2021-08-03T17:57:38.521Z"
   },
   {
    "duration": 90,
    "start_time": "2021-08-03T17:57:40.212Z"
   },
   {
    "duration": 16,
    "start_time": "2021-08-03T17:57:40.306Z"
   },
   {
    "duration": 34,
    "start_time": "2021-08-03T17:57:40.326Z"
   },
   {
    "duration": 55,
    "start_time": "2021-08-03T17:57:40.362Z"
   },
   {
    "duration": 47,
    "start_time": "2021-08-03T17:57:40.421Z"
   },
   {
    "duration": 43,
    "start_time": "2021-08-03T17:57:40.471Z"
   },
   {
    "duration": 69,
    "start_time": "2021-08-03T17:57:40.519Z"
   },
   {
    "duration": 42,
    "start_time": "2021-08-03T17:57:40.592Z"
   },
   {
    "duration": 22,
    "start_time": "2021-08-03T17:57:40.637Z"
   },
   {
    "duration": 69,
    "start_time": "2021-08-03T17:57:40.662Z"
   },
   {
    "duration": 32,
    "start_time": "2021-08-03T17:57:40.734Z"
   },
   {
    "duration": 168,
    "start_time": "2021-08-03T17:57:40.768Z"
   },
   {
    "duration": 33,
    "start_time": "2021-08-03T17:57:40.939Z"
   },
   {
    "duration": 42,
    "start_time": "2021-08-03T17:57:40.976Z"
   },
   {
    "duration": 23,
    "start_time": "2021-08-03T17:57:41.020Z"
   },
   {
    "duration": 57,
    "start_time": "2021-08-03T17:57:41.047Z"
   },
   {
    "duration": 33,
    "start_time": "2021-08-03T17:57:41.107Z"
   },
   {
    "duration": 9,
    "start_time": "2021-08-03T17:57:41.143Z"
   },
   {
    "duration": 31,
    "start_time": "2021-08-03T17:57:41.154Z"
   },
   {
    "duration": 478,
    "start_time": "2021-08-03T17:57:41.188Z"
   },
   {
    "duration": 145,
    "start_time": "2021-08-03T17:57:41.669Z"
   },
   {
    "duration": -83,
    "start_time": "2021-08-03T17:57:41.903Z"
   },
   {
    "duration": -92,
    "start_time": "2021-08-03T17:57:41.914Z"
   },
   {
    "duration": -94,
    "start_time": "2021-08-03T17:57:41.918Z"
   },
   {
    "duration": -96,
    "start_time": "2021-08-03T17:57:41.921Z"
   },
   {
    "duration": -98,
    "start_time": "2021-08-03T17:57:41.925Z"
   },
   {
    "duration": -101,
    "start_time": "2021-08-03T17:57:41.930Z"
   },
   {
    "duration": -104,
    "start_time": "2021-08-03T17:57:41.934Z"
   },
   {
    "duration": -119,
    "start_time": "2021-08-03T17:57:41.951Z"
   },
   {
    "duration": -121,
    "start_time": "2021-08-03T17:57:41.954Z"
   },
   {
    "duration": -126,
    "start_time": "2021-08-03T17:57:41.960Z"
   },
   {
    "duration": -128,
    "start_time": "2021-08-03T17:57:41.963Z"
   },
   {
    "duration": -129,
    "start_time": "2021-08-03T17:57:41.966Z"
   },
   {
    "duration": -131,
    "start_time": "2021-08-03T17:57:41.969Z"
   },
   {
    "duration": -131,
    "start_time": "2021-08-03T17:57:41.971Z"
   },
   {
    "duration": -133,
    "start_time": "2021-08-03T17:57:41.974Z"
   },
   {
    "duration": -135,
    "start_time": "2021-08-03T17:57:41.978Z"
   },
   {
    "duration": -136,
    "start_time": "2021-08-03T17:57:41.980Z"
   },
   {
    "duration": -139,
    "start_time": "2021-08-03T17:57:41.984Z"
   },
   {
    "duration": -154,
    "start_time": "2021-08-03T17:57:42.001Z"
   },
   {
    "duration": -156,
    "start_time": "2021-08-03T17:57:42.004Z"
   },
   {
    "duration": -209,
    "start_time": "2021-08-03T17:57:42.058Z"
   },
   {
    "duration": -217,
    "start_time": "2021-08-03T17:57:42.067Z"
   },
   {
    "duration": -218,
    "start_time": "2021-08-03T17:57:42.070Z"
   },
   {
    "duration": -219,
    "start_time": "2021-08-03T17:57:42.072Z"
   },
   {
    "duration": -225,
    "start_time": "2021-08-03T17:57:42.080Z"
   },
   {
    "duration": -181,
    "start_time": "2021-08-03T17:57:42.083Z"
   },
   {
    "duration": -182,
    "start_time": "2021-08-03T17:57:42.086Z"
   },
   {
    "duration": 1532,
    "start_time": "2021-08-03T17:58:08.317Z"
   },
   {
    "duration": 75,
    "start_time": "2021-08-03T17:58:09.852Z"
   },
   {
    "duration": 15,
    "start_time": "2021-08-03T17:58:09.931Z"
   },
   {
    "duration": 30,
    "start_time": "2021-08-03T17:58:09.949Z"
   },
   {
    "duration": 35,
    "start_time": "2021-08-03T17:58:09.982Z"
   },
   {
    "duration": 49,
    "start_time": "2021-08-03T17:58:10.020Z"
   },
   {
    "duration": 12,
    "start_time": "2021-08-03T17:58:10.072Z"
   },
   {
    "duration": 45,
    "start_time": "2021-08-03T17:58:10.086Z"
   },
   {
    "duration": 22,
    "start_time": "2021-08-03T17:58:10.135Z"
   },
   {
    "duration": 47,
    "start_time": "2021-08-03T17:58:10.160Z"
   },
   {
    "duration": 31,
    "start_time": "2021-08-03T17:58:10.210Z"
   },
   {
    "duration": 38,
    "start_time": "2021-08-03T17:58:10.244Z"
   },
   {
    "duration": 110,
    "start_time": "2021-08-03T17:58:10.300Z"
   },
   {
    "duration": 27,
    "start_time": "2021-08-03T17:58:10.412Z"
   },
   {
    "duration": 28,
    "start_time": "2021-08-03T17:58:10.441Z"
   },
   {
    "duration": 35,
    "start_time": "2021-08-03T17:58:10.472Z"
   },
   {
    "duration": 41,
    "start_time": "2021-08-03T17:58:10.509Z"
   },
   {
    "duration": 31,
    "start_time": "2021-08-03T17:58:10.554Z"
   },
   {
    "duration": 14,
    "start_time": "2021-08-03T17:58:10.588Z"
   },
   {
    "duration": 27,
    "start_time": "2021-08-03T17:58:10.605Z"
   },
   {
    "duration": 387,
    "start_time": "2021-08-03T17:58:10.634Z"
   },
   {
    "duration": 15,
    "start_time": "2021-08-03T17:58:11.023Z"
   },
   {
    "duration": 25,
    "start_time": "2021-08-03T17:58:11.041Z"
   },
   {
    "duration": 505,
    "start_time": "2021-08-03T17:58:11.068Z"
   },
   {
    "duration": 382,
    "start_time": "2021-08-03T17:58:11.576Z"
   },
   {
    "duration": 602,
    "start_time": "2021-08-03T17:58:11.961Z"
   },
   {
    "duration": 47,
    "start_time": "2021-08-03T17:58:12.568Z"
   },
   {
    "duration": 15,
    "start_time": "2021-08-03T17:58:12.619Z"
   },
   {
    "duration": 948,
    "start_time": "2021-08-03T17:58:12.636Z"
   },
   {
    "duration": 19,
    "start_time": "2021-08-03T17:58:13.586Z"
   },
   {
    "duration": 871,
    "start_time": "2021-08-03T17:58:13.607Z"
   },
   {
    "duration": 21,
    "start_time": "2021-08-03T17:58:14.480Z"
   },
   {
    "duration": 769,
    "start_time": "2021-08-03T17:58:14.503Z"
   },
   {
    "duration": 14,
    "start_time": "2021-08-03T17:58:15.274Z"
   },
   {
    "duration": 14,
    "start_time": "2021-08-03T17:58:15.301Z"
   },
   {
    "duration": 16,
    "start_time": "2021-08-03T17:58:15.318Z"
   },
   {
    "duration": 15,
    "start_time": "2021-08-03T17:58:15.337Z"
   },
   {
    "duration": 56,
    "start_time": "2021-08-03T17:58:15.354Z"
   },
   {
    "duration": 13,
    "start_time": "2021-08-03T17:58:15.413Z"
   },
   {
    "duration": 13,
    "start_time": "2021-08-03T17:58:15.428Z"
   },
   {
    "duration": 13,
    "start_time": "2021-08-03T17:58:15.443Z"
   },
   {
    "duration": 53,
    "start_time": "2021-08-03T17:58:15.458Z"
   },
   {
    "duration": 14,
    "start_time": "2021-08-03T17:58:15.514Z"
   },
   {
    "duration": 12,
    "start_time": "2021-08-03T17:58:15.530Z"
   },
   {
    "duration": 16,
    "start_time": "2021-08-03T17:58:15.545Z"
   },
   {
    "duration": 16,
    "start_time": "2021-08-03T17:58:15.599Z"
   },
   {
    "duration": 14,
    "start_time": "2021-08-03T17:58:15.617Z"
   },
   {
    "duration": 15,
    "start_time": "2021-08-03T17:58:15.634Z"
   },
   {
    "duration": 336,
    "start_time": "2021-08-03T18:00:55.805Z"
   },
   {
    "duration": 1461,
    "start_time": "2021-08-03T18:01:02.702Z"
   },
   {
    "duration": 79,
    "start_time": "2021-08-03T18:01:04.167Z"
   },
   {
    "duration": 16,
    "start_time": "2021-08-03T18:01:04.250Z"
   },
   {
    "duration": 40,
    "start_time": "2021-08-03T18:01:04.270Z"
   },
   {
    "duration": 22,
    "start_time": "2021-08-03T18:01:04.313Z"
   },
   {
    "duration": 42,
    "start_time": "2021-08-03T18:01:04.337Z"
   },
   {
    "duration": 16,
    "start_time": "2021-08-03T18:01:04.400Z"
   },
   {
    "duration": 35,
    "start_time": "2021-08-03T18:01:04.419Z"
   },
   {
    "duration": 54,
    "start_time": "2021-08-03T18:01:04.458Z"
   },
   {
    "duration": 19,
    "start_time": "2021-08-03T18:01:04.516Z"
   },
   {
    "duration": 32,
    "start_time": "2021-08-03T18:01:04.538Z"
   },
   {
    "duration": 30,
    "start_time": "2021-08-03T18:01:04.601Z"
   },
   {
    "duration": 125,
    "start_time": "2021-08-03T18:01:04.634Z"
   },
   {
    "duration": 41,
    "start_time": "2021-08-03T18:01:04.762Z"
   },
   {
    "duration": 19,
    "start_time": "2021-08-03T18:01:04.806Z"
   },
   {
    "duration": 22,
    "start_time": "2021-08-03T18:01:04.827Z"
   },
   {
    "duration": 48,
    "start_time": "2021-08-03T18:01:04.852Z"
   },
   {
    "duration": 37,
    "start_time": "2021-08-03T18:01:04.902Z"
   },
   {
    "duration": 8,
    "start_time": "2021-08-03T18:01:04.941Z"
   },
   {
    "duration": 30,
    "start_time": "2021-08-03T18:01:04.951Z"
   },
   {
    "duration": 360,
    "start_time": "2021-08-03T18:01:04.984Z"
   },
   {
    "duration": 17,
    "start_time": "2021-08-03T18:01:05.347Z"
   },
   {
    "duration": 46,
    "start_time": "2021-08-03T18:01:05.367Z"
   },
   {
    "duration": 510,
    "start_time": "2021-08-03T18:01:05.416Z"
   },
   {
    "duration": 602,
    "start_time": "2021-08-03T18:01:05.929Z"
   },
   {
    "duration": 33,
    "start_time": "2021-08-03T18:01:06.533Z"
   },
   {
    "duration": 37,
    "start_time": "2021-08-03T18:01:06.573Z"
   },
   {
    "duration": 912,
    "start_time": "2021-08-03T18:01:06.612Z"
   },
   {
    "duration": 11,
    "start_time": "2021-08-03T18:01:07.526Z"
   },
   {
    "duration": 804,
    "start_time": "2021-08-03T18:01:07.540Z"
   },
   {
    "duration": 10,
    "start_time": "2021-08-03T18:01:08.347Z"
   },
   {
    "duration": 880,
    "start_time": "2021-08-03T18:01:08.360Z"
   },
   {
    "duration": 13,
    "start_time": "2021-08-03T18:01:09.243Z"
   },
   {
    "duration": 13,
    "start_time": "2021-08-03T18:01:09.259Z"
   },
   {
    "duration": 38,
    "start_time": "2021-08-03T18:01:09.274Z"
   },
   {
    "duration": 12,
    "start_time": "2021-08-03T18:01:09.315Z"
   },
   {
    "duration": 12,
    "start_time": "2021-08-03T18:01:09.329Z"
   },
   {
    "duration": 14,
    "start_time": "2021-08-03T18:01:09.343Z"
   },
   {
    "duration": 15,
    "start_time": "2021-08-03T18:01:09.399Z"
   },
   {
    "duration": 13,
    "start_time": "2021-08-03T18:01:09.416Z"
   },
   {
    "duration": 12,
    "start_time": "2021-08-03T18:01:09.431Z"
   },
   {
    "duration": 14,
    "start_time": "2021-08-03T18:01:09.446Z"
   },
   {
    "duration": 15,
    "start_time": "2021-08-03T18:01:09.501Z"
   },
   {
    "duration": 13,
    "start_time": "2021-08-03T18:01:09.518Z"
   },
   {
    "duration": 15,
    "start_time": "2021-08-03T18:01:09.534Z"
   },
   {
    "duration": 53,
    "start_time": "2021-08-03T18:01:09.552Z"
   },
   {
    "duration": 16,
    "start_time": "2021-08-03T18:01:09.608Z"
   },
   {
    "duration": 14,
    "start_time": "2021-08-03T18:17:41.814Z"
   },
   {
    "duration": 1584,
    "start_time": "2021-08-03T18:17:49.084Z"
   },
   {
    "duration": 74,
    "start_time": "2021-08-03T18:17:50.671Z"
   },
   {
    "duration": 14,
    "start_time": "2021-08-03T18:17:50.748Z"
   },
   {
    "duration": 37,
    "start_time": "2021-08-03T18:17:50.765Z"
   },
   {
    "duration": 23,
    "start_time": "2021-08-03T18:17:50.805Z"
   },
   {
    "duration": 37,
    "start_time": "2021-08-03T18:17:50.830Z"
   },
   {
    "duration": 16,
    "start_time": "2021-08-03T18:17:50.900Z"
   },
   {
    "duration": 41,
    "start_time": "2021-08-03T18:17:50.919Z"
   },
   {
    "duration": 48,
    "start_time": "2021-08-03T18:17:50.966Z"
   },
   {
    "duration": 22,
    "start_time": "2021-08-03T18:17:51.019Z"
   },
   {
    "duration": 67,
    "start_time": "2021-08-03T18:17:51.044Z"
   },
   {
    "duration": 28,
    "start_time": "2021-08-03T18:17:51.113Z"
   },
   {
    "duration": 133,
    "start_time": "2021-08-03T18:17:51.143Z"
   },
   {
    "duration": 36,
    "start_time": "2021-08-03T18:17:51.279Z"
   },
   {
    "duration": 20,
    "start_time": "2021-08-03T18:17:51.318Z"
   },
   {
    "duration": 16,
    "start_time": "2021-08-03T18:17:51.341Z"
   },
   {
    "duration": 60,
    "start_time": "2021-08-03T18:17:51.359Z"
   },
   {
    "duration": 24,
    "start_time": "2021-08-03T18:17:51.422Z"
   },
   {
    "duration": 8,
    "start_time": "2021-08-03T18:17:51.449Z"
   },
   {
    "duration": 45,
    "start_time": "2021-08-03T18:17:51.460Z"
   },
   {
    "duration": 362,
    "start_time": "2021-08-03T18:17:51.508Z"
   },
   {
    "duration": 16,
    "start_time": "2021-08-03T18:17:51.873Z"
   },
   {
    "duration": 18,
    "start_time": "2021-08-03T18:17:51.901Z"
   },
   {
    "duration": 494,
    "start_time": "2021-08-03T18:17:51.921Z"
   },
   {
    "duration": 576,
    "start_time": "2021-08-03T18:17:52.417Z"
   },
   {
    "duration": 35,
    "start_time": "2021-08-03T18:17:53.001Z"
   },
   {
    "duration": 15,
    "start_time": "2021-08-03T18:17:53.041Z"
   },
   {
    "duration": 912,
    "start_time": "2021-08-03T18:17:53.059Z"
   },
   {
    "duration": 11,
    "start_time": "2021-08-03T18:17:53.973Z"
   },
   {
    "duration": 785,
    "start_time": "2021-08-03T18:17:53.986Z"
   },
   {
    "duration": 26,
    "start_time": "2021-08-03T18:17:54.774Z"
   },
   {
    "duration": 844,
    "start_time": "2021-08-03T18:17:54.802Z"
   },
   {
    "duration": 14,
    "start_time": "2021-08-03T18:17:55.648Z"
   },
   {
    "duration": 37,
    "start_time": "2021-08-03T18:17:55.665Z"
   },
   {
    "duration": 16,
    "start_time": "2021-08-03T18:17:55.705Z"
   },
   {
    "duration": 16,
    "start_time": "2021-08-03T18:17:55.724Z"
   },
   {
    "duration": 13,
    "start_time": "2021-08-03T18:17:55.742Z"
   },
   {
    "duration": 14,
    "start_time": "2021-08-03T18:17:55.801Z"
   },
   {
    "duration": 14,
    "start_time": "2021-08-03T18:17:55.817Z"
   },
   {
    "duration": 13,
    "start_time": "2021-08-03T18:17:55.833Z"
   },
   {
    "duration": 54,
    "start_time": "2021-08-03T18:17:55.849Z"
   },
   {
    "duration": 16,
    "start_time": "2021-08-03T18:17:55.905Z"
   },
   {
    "duration": 17,
    "start_time": "2021-08-03T18:17:55.923Z"
   },
   {
    "duration": 13,
    "start_time": "2021-08-03T18:17:55.942Z"
   },
   {
    "duration": 45,
    "start_time": "2021-08-03T18:17:55.957Z"
   },
   {
    "duration": 15,
    "start_time": "2021-08-03T18:17:56.004Z"
   },
   {
    "duration": 17,
    "start_time": "2021-08-03T18:17:56.021Z"
   },
   {
    "duration": 125,
    "start_time": "2021-08-03T18:21:23.373Z"
   },
   {
    "duration": 33,
    "start_time": "2021-08-03T18:21:45.093Z"
   },
   {
    "duration": 1479,
    "start_time": "2021-08-03T18:25:00.999Z"
   },
   {
    "duration": 79,
    "start_time": "2021-08-03T18:25:02.481Z"
   },
   {
    "duration": 16,
    "start_time": "2021-08-03T18:25:02.565Z"
   },
   {
    "duration": 22,
    "start_time": "2021-08-03T18:25:02.602Z"
   },
   {
    "duration": 33,
    "start_time": "2021-08-03T18:25:02.627Z"
   },
   {
    "duration": 52,
    "start_time": "2021-08-03T18:25:02.663Z"
   },
   {
    "duration": 14,
    "start_time": "2021-08-03T18:25:02.717Z"
   },
   {
    "duration": 37,
    "start_time": "2021-08-03T18:25:02.734Z"
   },
   {
    "duration": 23,
    "start_time": "2021-08-03T18:25:02.802Z"
   },
   {
    "duration": 21,
    "start_time": "2021-08-03T18:25:02.828Z"
   },
   {
    "duration": 61,
    "start_time": "2021-08-03T18:25:02.852Z"
   },
   {
    "duration": 36,
    "start_time": "2021-08-03T18:25:02.917Z"
   },
   {
    "duration": 119,
    "start_time": "2021-08-03T18:25:02.955Z"
   },
   {
    "duration": 38,
    "start_time": "2021-08-03T18:25:03.077Z"
   },
   {
    "duration": 20,
    "start_time": "2021-08-03T18:25:03.118Z"
   },
   {
    "duration": 19,
    "start_time": "2021-08-03T18:25:03.141Z"
   },
   {
    "duration": 57,
    "start_time": "2021-08-03T18:25:03.163Z"
   },
   {
    "duration": 28,
    "start_time": "2021-08-03T18:25:03.223Z"
   },
   {
    "duration": 8,
    "start_time": "2021-08-03T18:25:03.253Z"
   },
   {
    "duration": 60,
    "start_time": "2021-08-03T18:25:03.263Z"
   },
   {
    "duration": 339,
    "start_time": "2021-08-03T18:25:03.325Z"
   },
   {
    "duration": 15,
    "start_time": "2021-08-03T18:25:03.666Z"
   },
   {
    "duration": 19,
    "start_time": "2021-08-03T18:25:03.702Z"
   },
   {
    "duration": 490,
    "start_time": "2021-08-03T18:25:03.725Z"
   },
   {
    "duration": 599,
    "start_time": "2021-08-03T18:25:04.219Z"
   },
   {
    "duration": 35,
    "start_time": "2021-08-03T18:25:04.821Z"
   },
   {
    "duration": 48,
    "start_time": "2021-08-03T18:25:04.860Z"
   },
   {
    "duration": 909,
    "start_time": "2021-08-03T18:25:04.911Z"
   },
   {
    "duration": 11,
    "start_time": "2021-08-03T18:25:05.823Z"
   },
   {
    "duration": 828,
    "start_time": "2021-08-03T18:25:05.836Z"
   },
   {
    "duration": 11,
    "start_time": "2021-08-03T18:25:06.667Z"
   },
   {
    "duration": 965,
    "start_time": "2021-08-03T18:25:06.681Z"
   },
   {
    "duration": 18,
    "start_time": "2021-08-03T18:25:07.648Z"
   },
   {
    "duration": 33,
    "start_time": "2021-08-03T18:25:07.669Z"
   },
   {
    "duration": 14,
    "start_time": "2021-08-03T18:25:07.704Z"
   },
   {
    "duration": 13,
    "start_time": "2021-08-03T18:25:07.720Z"
   },
   {
    "duration": 15,
    "start_time": "2021-08-03T18:25:07.735Z"
   },
   {
    "duration": 54,
    "start_time": "2021-08-03T18:25:07.752Z"
   },
   {
    "duration": 15,
    "start_time": "2021-08-03T18:25:07.808Z"
   },
   {
    "duration": 14,
    "start_time": "2021-08-03T18:25:07.825Z"
   },
   {
    "duration": 15,
    "start_time": "2021-08-03T18:25:07.841Z"
   },
   {
    "duration": 51,
    "start_time": "2021-08-03T18:25:07.858Z"
   },
   {
    "duration": 13,
    "start_time": "2021-08-03T18:25:07.912Z"
   },
   {
    "duration": 13,
    "start_time": "2021-08-03T18:25:07.928Z"
   },
   {
    "duration": 13,
    "start_time": "2021-08-03T18:25:07.943Z"
   },
   {
    "duration": 16,
    "start_time": "2021-08-03T18:25:08.000Z"
   },
   {
    "duration": 14,
    "start_time": "2021-08-03T18:25:08.019Z"
   },
   {
    "duration": 35,
    "start_time": "2021-08-03T18:28:44.767Z"
   },
   {
    "duration": 1489,
    "start_time": "2021-08-03T18:31:18.170Z"
   },
   {
    "duration": 76,
    "start_time": "2021-08-03T18:31:19.662Z"
   },
   {
    "duration": 16,
    "start_time": "2021-08-03T18:31:19.742Z"
   },
   {
    "duration": 43,
    "start_time": "2021-08-03T18:31:19.762Z"
   },
   {
    "duration": 25,
    "start_time": "2021-08-03T18:31:19.808Z"
   },
   {
    "duration": 46,
    "start_time": "2021-08-03T18:31:19.836Z"
   },
   {
    "duration": 22,
    "start_time": "2021-08-03T18:31:19.885Z"
   },
   {
    "duration": 35,
    "start_time": "2021-08-03T18:31:19.911Z"
   },
   {
    "duration": 56,
    "start_time": "2021-08-03T18:31:19.949Z"
   },
   {
    "duration": 22,
    "start_time": "2021-08-03T18:31:20.008Z"
   },
   {
    "duration": 35,
    "start_time": "2021-08-03T18:31:20.033Z"
   },
   {
    "duration": 32,
    "start_time": "2021-08-03T18:31:20.102Z"
   },
   {
    "duration": 124,
    "start_time": "2021-08-03T18:31:20.137Z"
   },
   {
    "duration": 41,
    "start_time": "2021-08-03T18:31:20.264Z"
   },
   {
    "duration": 20,
    "start_time": "2021-08-03T18:31:20.307Z"
   },
   {
    "duration": 12,
    "start_time": "2021-08-03T18:31:20.329Z"
   },
   {
    "duration": 23,
    "start_time": "2021-08-03T18:31:20.343Z"
   },
   {
    "duration": 27,
    "start_time": "2021-08-03T18:31:20.400Z"
   },
   {
    "duration": 8,
    "start_time": "2021-08-03T18:31:20.429Z"
   },
   {
    "duration": 19,
    "start_time": "2021-08-03T18:31:20.440Z"
   },
   {
    "duration": 385,
    "start_time": "2021-08-03T18:31:20.461Z"
   },
   {
    "duration": 15,
    "start_time": "2021-08-03T18:31:20.848Z"
   },
   {
    "duration": 38,
    "start_time": "2021-08-03T18:31:20.868Z"
   },
   {
    "duration": 594,
    "start_time": "2021-08-03T18:31:20.909Z"
   },
   {
    "duration": 574,
    "start_time": "2021-08-03T18:31:21.506Z"
   },
   {
    "duration": 44,
    "start_time": "2021-08-03T18:31:22.083Z"
   },
   {
    "duration": 927,
    "start_time": "2021-08-03T18:31:22.129Z"
   },
   {
    "duration": 16,
    "start_time": "2021-08-03T18:31:23.059Z"
   },
   {
    "duration": 31,
    "start_time": "2021-08-03T18:31:23.077Z"
   },
   {
    "duration": 928,
    "start_time": "2021-08-03T18:31:23.110Z"
   },
   {
    "duration": 11,
    "start_time": "2021-08-03T18:31:24.040Z"
   },
   {
    "duration": 814,
    "start_time": "2021-08-03T18:31:24.054Z"
   },
   {
    "duration": 29,
    "start_time": "2021-08-03T18:31:24.871Z"
   },
   {
    "duration": 13,
    "start_time": "2021-08-03T18:31:24.903Z"
   },
   {
    "duration": 13,
    "start_time": "2021-08-03T18:31:24.919Z"
   },
   {
    "duration": 12,
    "start_time": "2021-08-03T18:31:24.935Z"
   },
   {
    "duration": 53,
    "start_time": "2021-08-03T18:31:24.950Z"
   },
   {
    "duration": 15,
    "start_time": "2021-08-03T18:31:25.005Z"
   },
   {
    "duration": 13,
    "start_time": "2021-08-03T18:31:25.023Z"
   },
   {
    "duration": 12,
    "start_time": "2021-08-03T18:31:25.039Z"
   },
   {
    "duration": 56,
    "start_time": "2021-08-03T18:31:25.054Z"
   },
   {
    "duration": 14,
    "start_time": "2021-08-03T18:31:25.112Z"
   },
   {
    "duration": 13,
    "start_time": "2021-08-03T18:31:25.128Z"
   },
   {
    "duration": 13,
    "start_time": "2021-08-03T18:31:25.143Z"
   },
   {
    "duration": 53,
    "start_time": "2021-08-03T18:31:25.158Z"
   },
   {
    "duration": 15,
    "start_time": "2021-08-03T18:31:25.213Z"
   },
   {
    "duration": 23,
    "start_time": "2021-08-03T18:31:25.230Z"
   },
   {
    "duration": 957,
    "start_time": "2021-08-03T18:35:58.015Z"
   },
   {
    "duration": 1438,
    "start_time": "2021-08-03T18:36:09.145Z"
   },
   {
    "duration": 83,
    "start_time": "2021-08-03T18:36:10.586Z"
   },
   {
    "duration": 31,
    "start_time": "2021-08-03T18:36:10.672Z"
   },
   {
    "duration": 26,
    "start_time": "2021-08-03T18:36:10.706Z"
   },
   {
    "duration": 22,
    "start_time": "2021-08-03T18:36:10.735Z"
   },
   {
    "duration": 64,
    "start_time": "2021-08-03T18:36:10.759Z"
   },
   {
    "duration": 13,
    "start_time": "2021-08-03T18:36:10.826Z"
   },
   {
    "duration": 69,
    "start_time": "2021-08-03T18:36:10.843Z"
   },
   {
    "duration": 24,
    "start_time": "2021-08-03T18:36:10.916Z"
   },
   {
    "duration": 20,
    "start_time": "2021-08-03T18:36:10.942Z"
   },
   {
    "duration": 67,
    "start_time": "2021-08-03T18:36:10.965Z"
   },
   {
    "duration": 30,
    "start_time": "2021-08-03T18:36:11.034Z"
   },
   {
    "duration": 150,
    "start_time": "2021-08-03T18:36:11.067Z"
   },
   {
    "duration": 37,
    "start_time": "2021-08-03T18:36:11.220Z"
   },
   {
    "duration": 52,
    "start_time": "2021-08-03T18:36:11.260Z"
   },
   {
    "duration": 22,
    "start_time": "2021-08-03T18:36:11.315Z"
   },
   {
    "duration": 33,
    "start_time": "2021-08-03T18:36:11.340Z"
   },
   {
    "duration": 31,
    "start_time": "2021-08-03T18:36:11.400Z"
   },
   {
    "duration": 11,
    "start_time": "2021-08-03T18:36:11.434Z"
   },
   {
    "duration": 21,
    "start_time": "2021-08-03T18:36:11.448Z"
   },
   {
    "duration": 390,
    "start_time": "2021-08-03T18:36:11.501Z"
   },
   {
    "duration": 22,
    "start_time": "2021-08-03T18:36:11.894Z"
   },
   {
    "duration": 21,
    "start_time": "2021-08-03T18:36:11.922Z"
   },
   {
    "duration": 572,
    "start_time": "2021-08-03T18:36:11.947Z"
   },
   {
    "duration": 629,
    "start_time": "2021-08-03T18:36:12.522Z"
   },
   {
    "duration": 57,
    "start_time": "2021-08-03T18:36:13.155Z"
   },
   {
    "duration": 961,
    "start_time": "2021-08-03T18:36:13.215Z"
   },
   {
    "duration": 30,
    "start_time": "2021-08-03T18:36:14.179Z"
   },
   {
    "duration": 13,
    "start_time": "2021-08-03T18:36:14.215Z"
   },
   {
    "duration": 928,
    "start_time": "2021-08-03T18:36:14.231Z"
   },
   {
    "duration": 10,
    "start_time": "2021-08-03T18:36:15.162Z"
   },
   {
    "duration": 814,
    "start_time": "2021-08-03T18:36:15.175Z"
   },
   {
    "duration": 30,
    "start_time": "2021-08-03T18:36:15.991Z"
   },
   {
    "duration": 14,
    "start_time": "2021-08-03T18:36:16.024Z"
   },
   {
    "duration": 13,
    "start_time": "2021-08-03T18:36:16.040Z"
   },
   {
    "duration": 47,
    "start_time": "2021-08-03T18:36:16.056Z"
   },
   {
    "duration": 19,
    "start_time": "2021-08-03T18:36:16.105Z"
   },
   {
    "duration": 16,
    "start_time": "2021-08-03T18:36:16.126Z"
   },
   {
    "duration": 16,
    "start_time": "2021-08-03T18:36:16.145Z"
   },
   {
    "duration": 24,
    "start_time": "2021-08-03T18:36:16.200Z"
   },
   {
    "duration": 16,
    "start_time": "2021-08-03T18:36:16.227Z"
   },
   {
    "duration": 16,
    "start_time": "2021-08-03T18:36:16.245Z"
   },
   {
    "duration": 59,
    "start_time": "2021-08-03T18:36:16.264Z"
   },
   {
    "duration": 14,
    "start_time": "2021-08-03T18:36:16.326Z"
   },
   {
    "duration": 14,
    "start_time": "2021-08-03T18:36:16.343Z"
   },
   {
    "duration": 45,
    "start_time": "2021-08-03T18:36:16.359Z"
   },
   {
    "duration": 19,
    "start_time": "2021-08-03T18:36:16.409Z"
   },
   {
    "duration": 934,
    "start_time": "2021-08-03T18:37:07.543Z"
   },
   {
    "duration": 1534,
    "start_time": "2021-08-03T18:37:23.601Z"
   },
   {
    "duration": 82,
    "start_time": "2021-08-03T18:37:25.138Z"
   },
   {
    "duration": 17,
    "start_time": "2021-08-03T18:37:25.224Z"
   },
   {
    "duration": 21,
    "start_time": "2021-08-03T18:37:25.245Z"
   },
   {
    "duration": 55,
    "start_time": "2021-08-03T18:37:25.269Z"
   },
   {
    "duration": 33,
    "start_time": "2021-08-03T18:37:25.327Z"
   },
   {
    "duration": 44,
    "start_time": "2021-08-03T18:37:25.362Z"
   },
   {
    "duration": 40,
    "start_time": "2021-08-03T18:37:25.411Z"
   },
   {
    "duration": 55,
    "start_time": "2021-08-03T18:37:25.454Z"
   },
   {
    "duration": 24,
    "start_time": "2021-08-03T18:37:25.512Z"
   },
   {
    "duration": 33,
    "start_time": "2021-08-03T18:37:25.538Z"
   },
   {
    "duration": 38,
    "start_time": "2021-08-03T18:37:25.601Z"
   },
   {
    "duration": 127,
    "start_time": "2021-08-03T18:37:25.641Z"
   },
   {
    "duration": 48,
    "start_time": "2021-08-03T18:37:25.770Z"
   },
   {
    "duration": 19,
    "start_time": "2021-08-03T18:37:25.820Z"
   },
   {
    "duration": 12,
    "start_time": "2021-08-03T18:37:25.842Z"
   },
   {
    "duration": 64,
    "start_time": "2021-08-03T18:37:25.856Z"
   },
   {
    "duration": 25,
    "start_time": "2021-08-03T18:37:25.923Z"
   },
   {
    "duration": 8,
    "start_time": "2021-08-03T18:37:25.950Z"
   },
   {
    "duration": 15,
    "start_time": "2021-08-03T18:37:25.960Z"
   },
   {
    "duration": 386,
    "start_time": "2021-08-03T18:37:26.005Z"
   },
   {
    "duration": 21,
    "start_time": "2021-08-03T18:37:26.404Z"
   },
   {
    "duration": 19,
    "start_time": "2021-08-03T18:37:26.431Z"
   },
   {
    "duration": 532,
    "start_time": "2021-08-03T18:37:26.453Z"
   },
   {
    "duration": 634,
    "start_time": "2021-08-03T18:37:26.988Z"
   },
   {
    "duration": 38,
    "start_time": "2021-08-03T18:37:27.625Z"
   },
   {
    "duration": 999,
    "start_time": "2021-08-03T18:37:27.666Z"
   },
   {
    "duration": 32,
    "start_time": "2021-08-03T18:37:28.668Z"
   },
   {
    "duration": 14,
    "start_time": "2021-08-03T18:37:28.706Z"
   },
   {
    "duration": 853,
    "start_time": "2021-08-03T18:37:28.723Z"
   },
   {
    "duration": 11,
    "start_time": "2021-08-03T18:37:29.578Z"
   },
   {
    "duration": 800,
    "start_time": "2021-08-03T18:37:29.591Z"
   },
   {
    "duration": 23,
    "start_time": "2021-08-03T18:37:30.394Z"
   },
   {
    "duration": 16,
    "start_time": "2021-08-03T18:37:30.420Z"
   },
   {
    "duration": 14,
    "start_time": "2021-08-03T18:37:30.439Z"
   },
   {
    "duration": 59,
    "start_time": "2021-08-03T18:37:30.455Z"
   },
   {
    "duration": 16,
    "start_time": "2021-08-03T18:37:30.517Z"
   },
   {
    "duration": 16,
    "start_time": "2021-08-03T18:37:30.535Z"
   },
   {
    "duration": 29,
    "start_time": "2021-08-03T18:37:30.554Z"
   },
   {
    "duration": 19,
    "start_time": "2021-08-03T18:37:30.601Z"
   },
   {
    "duration": 15,
    "start_time": "2021-08-03T18:37:30.623Z"
   },
   {
    "duration": 18,
    "start_time": "2021-08-03T18:37:30.640Z"
   },
   {
    "duration": 53,
    "start_time": "2021-08-03T18:37:30.660Z"
   },
   {
    "duration": 15,
    "start_time": "2021-08-03T18:37:30.716Z"
   },
   {
    "duration": 16,
    "start_time": "2021-08-03T18:37:30.733Z"
   },
   {
    "duration": 13,
    "start_time": "2021-08-03T18:37:30.751Z"
   },
   {
    "duration": 58,
    "start_time": "2021-08-03T18:37:30.767Z"
   },
   {
    "duration": 1345,
    "start_time": "2021-08-03T18:39:46.223Z"
   },
   {
    "duration": 1346,
    "start_time": "2021-08-03T18:40:18.679Z"
   },
   {
    "duration": 1499,
    "start_time": "2021-08-03T18:40:32.264Z"
   },
   {
    "duration": 1373,
    "start_time": "2021-08-03T18:40:49.619Z"
   },
   {
    "duration": 1661,
    "start_time": "2021-08-03T18:40:59.324Z"
   },
   {
    "duration": 87,
    "start_time": "2021-08-03T18:41:00.988Z"
   },
   {
    "duration": 24,
    "start_time": "2021-08-03T18:41:01.078Z"
   },
   {
    "duration": 32,
    "start_time": "2021-08-03T18:41:01.106Z"
   },
   {
    "duration": 34,
    "start_time": "2021-08-03T18:41:01.141Z"
   },
   {
    "duration": 57,
    "start_time": "2021-08-03T18:41:01.177Z"
   },
   {
    "duration": 18,
    "start_time": "2021-08-03T18:41:01.236Z"
   },
   {
    "duration": 74,
    "start_time": "2021-08-03T18:41:01.256Z"
   },
   {
    "duration": 24,
    "start_time": "2021-08-03T18:41:01.334Z"
   },
   {
    "duration": 48,
    "start_time": "2021-08-03T18:41:01.362Z"
   },
   {
    "duration": 42,
    "start_time": "2021-08-03T18:41:01.413Z"
   },
   {
    "duration": 46,
    "start_time": "2021-08-03T18:41:01.458Z"
   },
   {
    "duration": 141,
    "start_time": "2021-08-03T18:41:01.507Z"
   },
   {
    "duration": 27,
    "start_time": "2021-08-03T18:41:01.651Z"
   },
   {
    "duration": 47,
    "start_time": "2021-08-03T18:41:01.680Z"
   },
   {
    "duration": 16,
    "start_time": "2021-08-03T18:41:01.729Z"
   },
   {
    "duration": 57,
    "start_time": "2021-08-03T18:41:01.748Z"
   },
   {
    "duration": 26,
    "start_time": "2021-08-03T18:41:01.809Z"
   },
   {
    "duration": 9,
    "start_time": "2021-08-03T18:41:01.837Z"
   },
   {
    "duration": 21,
    "start_time": "2021-08-03T18:41:01.849Z"
   },
   {
    "duration": 418,
    "start_time": "2021-08-03T18:41:01.901Z"
   },
   {
    "duration": 16,
    "start_time": "2021-08-03T18:41:02.322Z"
   },
   {
    "duration": 28,
    "start_time": "2021-08-03T18:41:02.341Z"
   },
   {
    "duration": 575,
    "start_time": "2021-08-03T18:41:02.372Z"
   },
   {
    "duration": 684,
    "start_time": "2021-08-03T18:41:02.951Z"
   },
   {
    "duration": 32,
    "start_time": "2021-08-03T18:41:03.638Z"
   },
   {
    "duration": 1407,
    "start_time": "2021-08-03T18:41:03.676Z"
   },
   {
    "duration": 29,
    "start_time": "2021-08-03T18:41:05.086Z"
   },
   {
    "duration": 13,
    "start_time": "2021-08-03T18:41:05.117Z"
   },
   {
    "duration": 975,
    "start_time": "2021-08-03T18:41:05.133Z"
   },
   {
    "duration": 15,
    "start_time": "2021-08-03T18:41:06.111Z"
   },
   {
    "duration": 875,
    "start_time": "2021-08-03T18:41:06.129Z"
   },
   {
    "duration": 18,
    "start_time": "2021-08-03T18:41:07.008Z"
   },
   {
    "duration": 14,
    "start_time": "2021-08-03T18:41:07.028Z"
   },
   {
    "duration": 13,
    "start_time": "2021-08-03T18:41:07.045Z"
   },
   {
    "duration": 53,
    "start_time": "2021-08-03T18:41:07.060Z"
   },
   {
    "duration": 14,
    "start_time": "2021-08-03T18:41:07.116Z"
   },
   {
    "duration": 14,
    "start_time": "2021-08-03T18:41:07.132Z"
   },
   {
    "duration": 15,
    "start_time": "2021-08-03T18:41:07.149Z"
   },
   {
    "duration": 55,
    "start_time": "2021-08-03T18:41:07.166Z"
   },
   {
    "duration": 19,
    "start_time": "2021-08-03T18:41:07.224Z"
   },
   {
    "duration": 13,
    "start_time": "2021-08-03T18:41:07.246Z"
   },
   {
    "duration": 58,
    "start_time": "2021-08-03T18:41:07.261Z"
   },
   {
    "duration": 13,
    "start_time": "2021-08-03T18:41:07.322Z"
   },
   {
    "duration": 15,
    "start_time": "2021-08-03T18:41:07.338Z"
   },
   {
    "duration": 48,
    "start_time": "2021-08-03T18:41:07.356Z"
   },
   {
    "duration": 18,
    "start_time": "2021-08-03T18:41:07.408Z"
   },
   {
    "duration": 1141,
    "start_time": "2021-08-03T18:47:49.773Z"
   },
   {
    "duration": 1632,
    "start_time": "2021-08-03T18:47:59.249Z"
   },
   {
    "duration": 96,
    "start_time": "2021-08-03T18:48:00.884Z"
   },
   {
    "duration": 34,
    "start_time": "2021-08-03T18:48:00.983Z"
   },
   {
    "duration": 40,
    "start_time": "2021-08-03T18:48:01.022Z"
   },
   {
    "duration": 20,
    "start_time": "2021-08-03T18:48:01.065Z"
   },
   {
    "duration": 59,
    "start_time": "2021-08-03T18:48:01.087Z"
   },
   {
    "duration": 20,
    "start_time": "2021-08-03T18:48:01.154Z"
   },
   {
    "duration": 76,
    "start_time": "2021-08-03T18:48:01.176Z"
   },
   {
    "duration": 28,
    "start_time": "2021-08-03T18:48:01.257Z"
   },
   {
    "duration": 54,
    "start_time": "2021-08-03T18:48:01.304Z"
   },
   {
    "duration": 48,
    "start_time": "2021-08-03T18:48:01.365Z"
   },
   {
    "duration": 49,
    "start_time": "2021-08-03T18:48:01.416Z"
   },
   {
    "duration": 158,
    "start_time": "2021-08-03T18:48:01.468Z"
   },
   {
    "duration": 37,
    "start_time": "2021-08-03T18:48:01.631Z"
   },
   {
    "duration": 34,
    "start_time": "2021-08-03T18:48:01.672Z"
   },
   {
    "duration": 21,
    "start_time": "2021-08-03T18:48:01.709Z"
   },
   {
    "duration": 43,
    "start_time": "2021-08-03T18:48:01.732Z"
   },
   {
    "duration": 42,
    "start_time": "2021-08-03T18:48:01.778Z"
   },
   {
    "duration": 20,
    "start_time": "2021-08-03T18:48:01.829Z"
   },
   {
    "duration": 16,
    "start_time": "2021-08-03T18:48:01.852Z"
   },
   {
    "duration": 451,
    "start_time": "2021-08-03T18:48:01.870Z"
   },
   {
    "duration": 22,
    "start_time": "2021-08-03T18:48:02.324Z"
   },
   {
    "duration": 28,
    "start_time": "2021-08-03T18:48:02.348Z"
   },
   {
    "duration": 575,
    "start_time": "2021-08-03T18:48:02.399Z"
   },
   {
    "duration": 1148,
    "start_time": "2021-08-03T18:48:02.976Z"
   },
   {
    "duration": -222,
    "start_time": "2021-08-03T18:48:04.355Z"
   },
   {
    "duration": -224,
    "start_time": "2021-08-03T18:48:04.359Z"
   },
   {
    "duration": -227,
    "start_time": "2021-08-03T18:48:04.364Z"
   },
   {
    "duration": -231,
    "start_time": "2021-08-03T18:48:04.369Z"
   },
   {
    "duration": -240,
    "start_time": "2021-08-03T18:48:04.379Z"
   },
   {
    "duration": -243,
    "start_time": "2021-08-03T18:48:04.384Z"
   },
   {
    "duration": -244,
    "start_time": "2021-08-03T18:48:04.386Z"
   },
   {
    "duration": -267,
    "start_time": "2021-08-03T18:48:04.411Z"
   },
   {
    "duration": -269,
    "start_time": "2021-08-03T18:48:04.417Z"
   },
   {
    "duration": -269,
    "start_time": "2021-08-03T18:48:04.421Z"
   },
   {
    "duration": -275,
    "start_time": "2021-08-03T18:48:04.430Z"
   },
   {
    "duration": -278,
    "start_time": "2021-08-03T18:48:04.434Z"
   },
   {
    "duration": -284,
    "start_time": "2021-08-03T18:48:04.443Z"
   },
   {
    "duration": -286,
    "start_time": "2021-08-03T18:48:04.447Z"
   },
   {
    "duration": -295,
    "start_time": "2021-08-03T18:48:04.458Z"
   },
   {
    "duration": -299,
    "start_time": "2021-08-03T18:48:04.464Z"
   },
   {
    "duration": -309,
    "start_time": "2021-08-03T18:48:04.475Z"
   },
   {
    "duration": -322,
    "start_time": "2021-08-03T18:48:04.490Z"
   },
   {
    "duration": -325,
    "start_time": "2021-08-03T18:48:04.495Z"
   },
   {
    "duration": -292,
    "start_time": "2021-08-03T18:48:04.503Z"
   },
   {
    "duration": -292,
    "start_time": "2021-08-03T18:48:04.507Z"
   },
   {
    "duration": -296,
    "start_time": "2021-08-03T18:48:04.512Z"
   },
   {
    "duration": 2155,
    "start_time": "2021-08-03T18:48:57.208Z"
   },
   {
    "duration": 104,
    "start_time": "2021-08-03T18:48:59.368Z"
   },
   {
    "duration": 38,
    "start_time": "2021-08-03T18:48:59.477Z"
   },
   {
    "duration": 28,
    "start_time": "2021-08-03T18:48:59.519Z"
   },
   {
    "duration": 66,
    "start_time": "2021-08-03T18:48:59.550Z"
   },
   {
    "duration": 74,
    "start_time": "2021-08-03T18:48:59.619Z"
   },
   {
    "duration": 86,
    "start_time": "2021-08-03T18:48:59.696Z"
   },
   {
    "duration": 69,
    "start_time": "2021-08-03T18:48:59.785Z"
   },
   {
    "duration": 26,
    "start_time": "2021-08-03T18:48:59.859Z"
   },
   {
    "duration": 35,
    "start_time": "2021-08-03T18:48:59.888Z"
   },
   {
    "duration": 42,
    "start_time": "2021-08-03T18:48:59.926Z"
   },
   {
    "duration": 62,
    "start_time": "2021-08-03T18:48:59.970Z"
   },
   {
    "duration": 141,
    "start_time": "2021-08-03T18:49:00.035Z"
   },
   {
    "duration": 60,
    "start_time": "2021-08-03T18:49:00.181Z"
   },
   {
    "duration": 30,
    "start_time": "2021-08-03T18:49:00.244Z"
   },
   {
    "duration": 40,
    "start_time": "2021-08-03T18:49:00.277Z"
   },
   {
    "duration": 66,
    "start_time": "2021-08-03T18:49:00.320Z"
   },
   {
    "duration": 78,
    "start_time": "2021-08-03T18:49:00.389Z"
   },
   {
    "duration": 12,
    "start_time": "2021-08-03T18:49:00.470Z"
   },
   {
    "duration": 30,
    "start_time": "2021-08-03T18:49:00.485Z"
   },
   {
    "duration": 464,
    "start_time": "2021-08-03T18:49:00.517Z"
   },
   {
    "duration": 35,
    "start_time": "2021-08-03T18:49:00.984Z"
   },
   {
    "duration": 46,
    "start_time": "2021-08-03T18:49:01.022Z"
   },
   {
    "duration": 640,
    "start_time": "2021-08-03T18:49:01.071Z"
   },
   {
    "duration": 750,
    "start_time": "2021-08-03T18:49:01.715Z"
   },
   {
    "duration": 49,
    "start_time": "2021-08-03T18:49:02.467Z"
   },
   {
    "duration": 1660,
    "start_time": "2021-08-03T18:49:02.523Z"
   },
   {
    "duration": 33,
    "start_time": "2021-08-03T18:49:04.187Z"
   },
   {
    "duration": 19,
    "start_time": "2021-08-03T18:49:04.225Z"
   },
   {
    "duration": 985,
    "start_time": "2021-08-03T18:49:04.246Z"
   },
   {
    "duration": 20,
    "start_time": "2021-08-03T18:49:05.234Z"
   },
   {
    "duration": 827,
    "start_time": "2021-08-03T18:49:05.257Z"
   },
   {
    "duration": 44,
    "start_time": "2021-08-03T18:49:06.087Z"
   },
   {
    "duration": 30,
    "start_time": "2021-08-03T18:49:06.135Z"
   },
   {
    "duration": 13,
    "start_time": "2021-08-03T18:49:06.168Z"
   },
   {
    "duration": 41,
    "start_time": "2021-08-03T18:49:06.183Z"
   },
   {
    "duration": 24,
    "start_time": "2021-08-03T18:49:06.227Z"
   },
   {
    "duration": 17,
    "start_time": "2021-08-03T18:49:06.254Z"
   },
   {
    "duration": 30,
    "start_time": "2021-08-03T18:49:06.278Z"
   },
   {
    "duration": 39,
    "start_time": "2021-08-03T18:49:06.315Z"
   },
   {
    "duration": 24,
    "start_time": "2021-08-03T18:49:06.358Z"
   },
   {
    "duration": 38,
    "start_time": "2021-08-03T18:49:06.386Z"
   },
   {
    "duration": 39,
    "start_time": "2021-08-03T18:49:06.427Z"
   },
   {
    "duration": 17,
    "start_time": "2021-08-03T18:49:06.470Z"
   },
   {
    "duration": 36,
    "start_time": "2021-08-03T18:49:06.490Z"
   },
   {
    "duration": 26,
    "start_time": "2021-08-03T18:49:06.530Z"
   },
   {
    "duration": 24,
    "start_time": "2021-08-03T18:49:06.560Z"
   },
   {
    "duration": 1811,
    "start_time": "2021-08-03T18:50:32.253Z"
   },
   {
    "duration": 116,
    "start_time": "2021-08-03T18:50:34.067Z"
   },
   {
    "duration": 27,
    "start_time": "2021-08-03T18:50:34.187Z"
   },
   {
    "duration": 43,
    "start_time": "2021-08-03T18:50:34.221Z"
   },
   {
    "duration": 38,
    "start_time": "2021-08-03T18:50:34.267Z"
   },
   {
    "duration": 59,
    "start_time": "2021-08-03T18:50:34.312Z"
   },
   {
    "duration": 29,
    "start_time": "2021-08-03T18:50:34.374Z"
   },
   {
    "duration": 56,
    "start_time": "2021-08-03T18:50:34.407Z"
   },
   {
    "duration": 51,
    "start_time": "2021-08-03T18:50:34.468Z"
   },
   {
    "duration": 34,
    "start_time": "2021-08-03T18:50:34.522Z"
   },
   {
    "duration": 65,
    "start_time": "2021-08-03T18:50:34.558Z"
   },
   {
    "duration": 44,
    "start_time": "2021-08-03T18:50:34.625Z"
   },
   {
    "duration": 186,
    "start_time": "2021-08-03T18:50:34.672Z"
   },
   {
    "duration": 71,
    "start_time": "2021-08-03T18:50:34.861Z"
   },
   {
    "duration": 25,
    "start_time": "2021-08-03T18:50:34.937Z"
   },
   {
    "duration": 14,
    "start_time": "2021-08-03T18:50:34.964Z"
   },
   {
    "duration": 53,
    "start_time": "2021-08-03T18:50:34.981Z"
   },
   {
    "duration": 27,
    "start_time": "2021-08-03T18:50:35.037Z"
   },
   {
    "duration": 8,
    "start_time": "2021-08-03T18:50:35.067Z"
   },
   {
    "duration": 35,
    "start_time": "2021-08-03T18:50:35.078Z"
   },
   {
    "duration": 428,
    "start_time": "2021-08-03T18:50:35.115Z"
   },
   {
    "duration": 18,
    "start_time": "2021-08-03T18:50:35.546Z"
   },
   {
    "duration": 49,
    "start_time": "2021-08-03T18:50:35.570Z"
   },
   {
    "duration": 566,
    "start_time": "2021-08-03T18:50:35.623Z"
   },
   {
    "duration": 838,
    "start_time": "2021-08-03T18:50:36.192Z"
   },
   {
    "duration": 36,
    "start_time": "2021-08-03T18:50:37.036Z"
   },
   {
    "duration": 1570,
    "start_time": "2021-08-03T18:50:37.074Z"
   },
   {
    "duration": 17,
    "start_time": "2021-08-03T18:50:38.646Z"
   },
   {
    "duration": 10,
    "start_time": "2021-08-03T18:50:38.666Z"
   },
   {
    "duration": 881,
    "start_time": "2021-08-03T18:50:38.679Z"
   },
   {
    "duration": 12,
    "start_time": "2021-08-03T18:50:39.563Z"
   },
   {
    "duration": 967,
    "start_time": "2021-08-03T18:50:39.578Z"
   },
   {
    "duration": 15,
    "start_time": "2021-08-03T18:50:40.550Z"
   },
   {
    "duration": 15,
    "start_time": "2021-08-03T18:50:40.567Z"
   },
   {
    "duration": 43,
    "start_time": "2021-08-03T18:50:40.584Z"
   },
   {
    "duration": 21,
    "start_time": "2021-08-03T18:50:40.632Z"
   },
   {
    "duration": 15,
    "start_time": "2021-08-03T18:50:40.656Z"
   },
   {
    "duration": 50,
    "start_time": "2021-08-03T18:50:40.673Z"
   },
   {
    "duration": 26,
    "start_time": "2021-08-03T18:50:40.728Z"
   },
   {
    "duration": 16,
    "start_time": "2021-08-03T18:50:40.757Z"
   },
   {
    "duration": 43,
    "start_time": "2021-08-03T18:50:40.776Z"
   },
   {
    "duration": 26,
    "start_time": "2021-08-03T18:50:40.822Z"
   },
   {
    "duration": 14,
    "start_time": "2021-08-03T18:50:40.851Z"
   },
   {
    "duration": 16,
    "start_time": "2021-08-03T18:50:40.867Z"
   },
   {
    "duration": 43,
    "start_time": "2021-08-03T18:50:40.885Z"
   },
   {
    "duration": 25,
    "start_time": "2021-08-03T18:50:40.936Z"
   },
   {
    "duration": 15,
    "start_time": "2021-08-03T18:50:40.964Z"
   },
   {
    "duration": 14,
    "start_time": "2021-08-03T19:07:54.125Z"
   },
   {
    "duration": 13,
    "start_time": "2021-08-03T19:08:06.431Z"
   },
   {
    "duration": 7,
    "start_time": "2021-08-03T19:08:21.846Z"
   },
   {
    "duration": 1517,
    "start_time": "2021-08-03T19:09:44.165Z"
   },
   {
    "duration": 80,
    "start_time": "2021-08-03T19:09:45.684Z"
   },
   {
    "duration": 14,
    "start_time": "2021-08-03T19:09:45.767Z"
   },
   {
    "duration": 23,
    "start_time": "2021-08-03T19:09:45.804Z"
   },
   {
    "duration": 40,
    "start_time": "2021-08-03T19:09:45.830Z"
   },
   {
    "duration": 63,
    "start_time": "2021-08-03T19:09:45.873Z"
   },
   {
    "duration": 12,
    "start_time": "2021-08-03T19:09:45.940Z"
   },
   {
    "duration": 59,
    "start_time": "2021-08-03T19:09:45.955Z"
   },
   {
    "duration": 23,
    "start_time": "2021-08-03T19:09:46.018Z"
   },
   {
    "duration": 64,
    "start_time": "2021-08-03T19:09:46.044Z"
   },
   {
    "duration": 42,
    "start_time": "2021-08-03T19:09:46.111Z"
   },
   {
    "duration": 46,
    "start_time": "2021-08-03T19:09:46.155Z"
   },
   {
    "duration": 125,
    "start_time": "2021-08-03T19:09:46.205Z"
   },
   {
    "duration": 28,
    "start_time": "2021-08-03T19:09:46.332Z"
   },
   {
    "duration": 56,
    "start_time": "2021-08-03T19:09:46.363Z"
   },
   {
    "duration": 16,
    "start_time": "2021-08-03T19:09:46.422Z"
   },
   {
    "duration": 41,
    "start_time": "2021-08-03T19:09:46.441Z"
   },
   {
    "duration": 43,
    "start_time": "2021-08-03T19:09:46.485Z"
   },
   {
    "duration": 8,
    "start_time": "2021-08-03T19:09:46.531Z"
   },
   {
    "duration": 43,
    "start_time": "2021-08-03T19:09:46.541Z"
   },
   {
    "duration": 384,
    "start_time": "2021-08-03T19:09:46.586Z"
   },
   {
    "duration": 28,
    "start_time": "2021-08-03T19:09:46.975Z"
   },
   {
    "duration": 31,
    "start_time": "2021-08-03T19:09:47.006Z"
   },
   {
    "duration": 535,
    "start_time": "2021-08-03T19:09:47.040Z"
   },
   {
    "duration": 707,
    "start_time": "2021-08-03T19:09:47.578Z"
   },
   {
    "duration": 53,
    "start_time": "2021-08-03T19:09:48.288Z"
   },
   {
    "duration": 1460,
    "start_time": "2021-08-03T19:09:48.344Z"
   },
   {
    "duration": 22,
    "start_time": "2021-08-03T19:09:49.807Z"
   },
   {
    "duration": 51,
    "start_time": "2021-08-03T19:09:49.831Z"
   },
   {
    "duration": 818,
    "start_time": "2021-08-03T19:09:49.885Z"
   },
   {
    "duration": 14,
    "start_time": "2021-08-03T19:09:50.706Z"
   },
   {
    "duration": 938,
    "start_time": "2021-08-03T19:09:50.722Z"
   },
   {
    "duration": 14,
    "start_time": "2021-08-03T19:09:51.663Z"
   },
   {
    "duration": 41,
    "start_time": "2021-08-03T19:09:51.680Z"
   },
   {
    "duration": 29,
    "start_time": "2021-08-03T19:09:51.723Z"
   },
   {
    "duration": 24,
    "start_time": "2021-08-03T19:09:51.755Z"
   },
   {
    "duration": 25,
    "start_time": "2021-08-03T19:09:51.782Z"
   },
   {
    "duration": 27,
    "start_time": "2021-08-03T19:09:51.810Z"
   },
   {
    "duration": 21,
    "start_time": "2021-08-03T19:09:51.840Z"
   },
   {
    "duration": 23,
    "start_time": "2021-08-03T19:09:51.864Z"
   },
   {
    "duration": 19,
    "start_time": "2021-08-03T19:09:51.903Z"
   },
   {
    "duration": 26,
    "start_time": "2021-08-03T19:09:51.925Z"
   },
   {
    "duration": 22,
    "start_time": "2021-08-03T19:09:51.953Z"
   },
   {
    "duration": 38,
    "start_time": "2021-08-03T19:09:51.978Z"
   },
   {
    "duration": 20,
    "start_time": "2021-08-03T19:09:52.019Z"
   },
   {
    "duration": 33,
    "start_time": "2021-08-03T19:09:52.042Z"
   },
   {
    "duration": 40,
    "start_time": "2021-08-03T19:09:52.077Z"
   },
   {
    "duration": 1436,
    "start_time": "2021-08-03T19:24:53.084Z"
   },
   {
    "duration": 73,
    "start_time": "2021-08-03T19:24:54.522Z"
   },
   {
    "duration": 21,
    "start_time": "2021-08-03T19:24:54.599Z"
   },
   {
    "duration": 44,
    "start_time": "2021-08-03T19:24:54.624Z"
   },
   {
    "duration": 32,
    "start_time": "2021-08-03T19:24:54.672Z"
   },
   {
    "duration": 70,
    "start_time": "2021-08-03T19:24:54.707Z"
   },
   {
    "duration": 22,
    "start_time": "2021-08-03T19:24:54.780Z"
   },
   {
    "duration": 62,
    "start_time": "2021-08-03T19:24:54.805Z"
   },
   {
    "duration": 22,
    "start_time": "2021-08-03T19:24:54.871Z"
   },
   {
    "duration": 23,
    "start_time": "2021-08-03T19:24:54.896Z"
   },
   {
    "duration": 65,
    "start_time": "2021-08-03T19:24:54.921Z"
   },
   {
    "duration": 29,
    "start_time": "2021-08-03T19:24:54.989Z"
   },
   {
    "duration": 134,
    "start_time": "2021-08-03T19:24:55.021Z"
   },
   {
    "duration": 28,
    "start_time": "2021-08-03T19:24:55.158Z"
   },
   {
    "duration": 19,
    "start_time": "2021-08-03T19:24:55.188Z"
   },
   {
    "duration": 49,
    "start_time": "2021-08-03T19:24:55.210Z"
   },
   {
    "duration": 22,
    "start_time": "2021-08-03T19:24:55.261Z"
   },
   {
    "duration": 28,
    "start_time": "2021-08-03T19:24:55.285Z"
   },
   {
    "duration": 8,
    "start_time": "2021-08-03T19:24:55.316Z"
   },
   {
    "duration": 36,
    "start_time": "2021-08-03T19:24:55.326Z"
   },
   {
    "duration": 367,
    "start_time": "2021-08-03T19:24:55.365Z"
   },
   {
    "duration": 27,
    "start_time": "2021-08-03T19:24:55.735Z"
   },
   {
    "duration": 18,
    "start_time": "2021-08-03T19:24:55.764Z"
   },
   {
    "duration": 508,
    "start_time": "2021-08-03T19:24:55.785Z"
   },
   {
    "duration": 643,
    "start_time": "2021-08-03T19:24:56.295Z"
   },
   {
    "duration": 37,
    "start_time": "2021-08-03T19:24:56.940Z"
   },
   {
    "duration": 1576,
    "start_time": "2021-08-03T19:24:56.982Z"
   },
   {
    "duration": 14,
    "start_time": "2021-08-03T19:24:58.561Z"
   },
   {
    "duration": 10,
    "start_time": "2021-08-03T19:24:58.578Z"
   },
   {
    "duration": 956,
    "start_time": "2021-08-03T19:24:58.590Z"
   },
   {
    "duration": 25,
    "start_time": "2021-08-03T19:24:59.549Z"
   },
   {
    "duration": 1124,
    "start_time": "2021-08-03T19:24:59.579Z"
   },
   {
    "duration": 19,
    "start_time": "2021-08-03T19:25:00.706Z"
   },
   {
    "duration": 41,
    "start_time": "2021-08-03T19:25:00.728Z"
   },
   {
    "duration": 16,
    "start_time": "2021-08-03T19:25:00.772Z"
   },
   {
    "duration": 31,
    "start_time": "2021-08-03T19:25:00.790Z"
   },
   {
    "duration": 21,
    "start_time": "2021-08-03T19:25:00.823Z"
   },
   {
    "duration": 14,
    "start_time": "2021-08-03T19:25:00.855Z"
   },
   {
    "duration": 23,
    "start_time": "2021-08-03T19:25:00.871Z"
   },
   {
    "duration": 24,
    "start_time": "2021-08-03T19:25:00.897Z"
   },
   {
    "duration": 40,
    "start_time": "2021-08-03T19:25:00.924Z"
   },
   {
    "duration": 15,
    "start_time": "2021-08-03T19:25:00.966Z"
   },
   {
    "duration": 25,
    "start_time": "2021-08-03T19:25:00.984Z"
   },
   {
    "duration": 18,
    "start_time": "2021-08-03T19:25:01.011Z"
   },
   {
    "duration": 34,
    "start_time": "2021-08-03T19:25:01.032Z"
   },
   {
    "duration": 17,
    "start_time": "2021-08-03T19:25:01.069Z"
   },
   {
    "duration": 23,
    "start_time": "2021-08-03T19:25:01.088Z"
   },
   {
    "duration": 38,
    "start_time": "2021-08-03T19:38:05.111Z"
   },
   {
    "duration": 374,
    "start_time": "2021-08-03T19:38:08.352Z"
   },
   {
    "duration": 473,
    "start_time": "2021-08-03T19:38:21.865Z"
   },
   {
    "duration": 19,
    "start_time": "2021-08-03T20:14:58.788Z"
   },
   {
    "duration": 6,
    "start_time": "2021-08-03T20:15:15.574Z"
   },
   {
    "duration": 16,
    "start_time": "2021-08-03T20:15:22.768Z"
   },
   {
    "duration": 18,
    "start_time": "2021-08-03T20:15:28.568Z"
   },
   {
    "duration": 7,
    "start_time": "2021-08-03T20:15:35.468Z"
   },
   {
    "duration": 1423,
    "start_time": "2021-08-04T06:03:38.312Z"
   },
   {
    "duration": 75,
    "start_time": "2021-08-04T06:03:39.738Z"
   },
   {
    "duration": 13,
    "start_time": "2021-08-04T06:03:39.817Z"
   },
   {
    "duration": 44,
    "start_time": "2021-08-04T06:03:39.833Z"
   },
   {
    "duration": 20,
    "start_time": "2021-08-04T06:03:39.879Z"
   },
   {
    "duration": 64,
    "start_time": "2021-08-04T06:03:39.901Z"
   },
   {
    "duration": 13,
    "start_time": "2021-08-04T06:03:39.967Z"
   },
   {
    "duration": 36,
    "start_time": "2021-08-04T06:03:39.982Z"
   },
   {
    "duration": 58,
    "start_time": "2021-08-04T06:03:40.022Z"
   },
   {
    "duration": 20,
    "start_time": "2021-08-04T06:03:40.083Z"
   },
   {
    "duration": 64,
    "start_time": "2021-08-04T06:03:40.105Z"
   },
   {
    "duration": 6,
    "start_time": "2021-08-04T06:03:40.171Z"
   },
   {
    "duration": 36,
    "start_time": "2021-08-04T06:03:40.179Z"
   },
   {
    "duration": 16,
    "start_time": "2021-08-04T06:03:40.218Z"
   },
   {
    "duration": 4,
    "start_time": "2021-08-04T06:03:40.263Z"
   },
   {
    "duration": 31,
    "start_time": "2021-08-04T06:03:40.269Z"
   },
   {
    "duration": 27,
    "start_time": "2021-08-04T06:03:40.303Z"
   },
   {
    "duration": 41,
    "start_time": "2021-08-04T06:03:40.332Z"
   },
   {
    "duration": 8,
    "start_time": "2021-08-04T06:03:40.375Z"
   },
   {
    "duration": 13,
    "start_time": "2021-08-04T06:03:40.386Z"
   },
   {
    "duration": 399,
    "start_time": "2021-08-04T06:03:40.402Z"
   },
   {
    "duration": 16,
    "start_time": "2021-08-04T06:03:40.804Z"
   },
   {
    "duration": 41,
    "start_time": "2021-08-04T06:03:40.822Z"
   },
   {
    "duration": 516,
    "start_time": "2021-08-04T06:03:40.866Z"
   },
   {
    "duration": 672,
    "start_time": "2021-08-04T06:03:41.385Z"
   },
   {
    "duration": 33,
    "start_time": "2021-08-04T06:03:42.062Z"
   },
   {
    "duration": 1425,
    "start_time": "2021-08-04T06:03:42.101Z"
   },
   {
    "duration": 36,
    "start_time": "2021-08-04T06:03:43.529Z"
   },
   {
    "duration": 11,
    "start_time": "2021-08-04T06:03:43.568Z"
   },
   {
    "duration": 851,
    "start_time": "2021-08-04T06:03:43.581Z"
   },
   {
    "duration": 10,
    "start_time": "2021-08-04T06:03:44.434Z"
   },
   {
    "duration": 750,
    "start_time": "2021-08-04T06:03:44.462Z"
   },
   {
    "duration": 15,
    "start_time": "2021-08-04T06:03:45.215Z"
   },
   {
    "duration": 35,
    "start_time": "2021-08-04T06:03:45.233Z"
   },
   {
    "duration": 14,
    "start_time": "2021-08-04T06:03:45.271Z"
   },
   {
    "duration": 15,
    "start_time": "2021-08-04T06:03:45.288Z"
   },
   {
    "duration": 15,
    "start_time": "2021-08-04T06:03:45.305Z"
   },
   {
    "duration": 15,
    "start_time": "2021-08-04T06:03:45.363Z"
   },
   {
    "duration": 14,
    "start_time": "2021-08-04T06:03:45.381Z"
   },
   {
    "duration": 14,
    "start_time": "2021-08-04T06:03:45.398Z"
   },
   {
    "duration": 52,
    "start_time": "2021-08-04T06:03:45.414Z"
   },
   {
    "duration": 18,
    "start_time": "2021-08-04T06:03:45.468Z"
   },
   {
    "duration": 14,
    "start_time": "2021-08-04T06:03:45.489Z"
   },
   {
    "duration": 16,
    "start_time": "2021-08-04T06:03:45.506Z"
   },
   {
    "duration": 48,
    "start_time": "2021-08-04T06:03:45.525Z"
   },
   {
    "duration": 22,
    "start_time": "2021-08-04T06:03:45.575Z"
   },
   {
    "duration": 20,
    "start_time": "2021-08-04T06:03:45.600Z"
   },
   {
    "duration": 1038,
    "start_time": "2021-08-04T06:05:04.068Z"
   },
   {
    "duration": 1496,
    "start_time": "2021-08-04T06:05:11.749Z"
   },
   {
    "duration": 76,
    "start_time": "2021-08-04T06:05:13.248Z"
   },
   {
    "duration": 13,
    "start_time": "2021-08-04T06:05:13.327Z"
   },
   {
    "duration": 33,
    "start_time": "2021-08-04T06:05:13.343Z"
   },
   {
    "duration": 19,
    "start_time": "2021-08-04T06:05:13.379Z"
   },
   {
    "duration": 63,
    "start_time": "2021-08-04T06:05:13.400Z"
   },
   {
    "duration": 12,
    "start_time": "2021-08-04T06:05:13.466Z"
   },
   {
    "duration": 37,
    "start_time": "2021-08-04T06:05:13.481Z"
   },
   {
    "duration": 58,
    "start_time": "2021-08-04T06:05:13.522Z"
   },
   {
    "duration": 22,
    "start_time": "2021-08-04T06:05:13.584Z"
   },
   {
    "duration": 70,
    "start_time": "2021-08-04T06:05:13.608Z"
   },
   {
    "duration": 3,
    "start_time": "2021-08-04T06:05:13.680Z"
   },
   {
    "duration": 31,
    "start_time": "2021-08-04T06:05:13.686Z"
   },
   {
    "duration": 48,
    "start_time": "2021-08-04T06:05:13.720Z"
   },
   {
    "duration": 8,
    "start_time": "2021-08-04T06:05:13.771Z"
   },
   {
    "duration": 29,
    "start_time": "2021-08-04T06:05:13.782Z"
   },
   {
    "duration": 23,
    "start_time": "2021-08-04T06:05:13.813Z"
   },
   {
    "duration": 43,
    "start_time": "2021-08-04T06:05:13.838Z"
   },
   {
    "duration": 8,
    "start_time": "2021-08-04T06:05:13.883Z"
   },
   {
    "duration": 13,
    "start_time": "2021-08-04T06:05:13.894Z"
   },
   {
    "duration": 791,
    "start_time": "2021-08-04T06:05:13.910Z"
   },
   {
    "duration": -50,
    "start_time": "2021-08-04T06:05:14.755Z"
   },
   {
    "duration": -51,
    "start_time": "2021-08-04T06:05:14.758Z"
   },
   {
    "duration": -53,
    "start_time": "2021-08-04T06:05:14.761Z"
   },
   {
    "duration": -53,
    "start_time": "2021-08-04T06:05:14.763Z"
   },
   {
    "duration": -56,
    "start_time": "2021-08-04T06:05:14.767Z"
   },
   {
    "duration": -56,
    "start_time": "2021-08-04T06:05:14.769Z"
   },
   {
    "duration": -58,
    "start_time": "2021-08-04T06:05:14.772Z"
   },
   {
    "duration": -66,
    "start_time": "2021-08-04T06:05:14.782Z"
   },
   {
    "duration": -72,
    "start_time": "2021-08-04T06:05:14.789Z"
   },
   {
    "duration": -73,
    "start_time": "2021-08-04T06:05:14.792Z"
   },
   {
    "duration": -75,
    "start_time": "2021-08-04T06:05:14.795Z"
   },
   {
    "duration": -77,
    "start_time": "2021-08-04T06:05:14.798Z"
   },
   {
    "duration": -78,
    "start_time": "2021-08-04T06:05:14.801Z"
   },
   {
    "duration": -85,
    "start_time": "2021-08-04T06:05:14.809Z"
   },
   {
    "duration": -51,
    "start_time": "2021-08-04T06:05:14.813Z"
   },
   {
    "duration": -55,
    "start_time": "2021-08-04T06:05:14.818Z"
   },
   {
    "duration": -55,
    "start_time": "2021-08-04T06:05:14.820Z"
   },
   {
    "duration": -56,
    "start_time": "2021-08-04T06:05:14.823Z"
   },
   {
    "duration": -63,
    "start_time": "2021-08-04T06:05:14.831Z"
   },
   {
    "duration": -64,
    "start_time": "2021-08-04T06:05:14.834Z"
   },
   {
    "duration": -66,
    "start_time": "2021-08-04T06:05:14.837Z"
   },
   {
    "duration": -72,
    "start_time": "2021-08-04T06:05:14.844Z"
   },
   {
    "duration": -104,
    "start_time": "2021-08-04T06:05:14.878Z"
   },
   {
    "duration": -110,
    "start_time": "2021-08-04T06:05:14.885Z"
   },
   {
    "duration": -117,
    "start_time": "2021-08-04T06:05:14.893Z"
   },
   {
    "duration": -118,
    "start_time": "2021-08-04T06:05:14.896Z"
   },
   {
    "duration": 380,
    "start_time": "2021-08-04T06:05:50.386Z"
   },
   {
    "duration": 370,
    "start_time": "2021-08-04T06:06:40.018Z"
   },
   {
    "duration": 383,
    "start_time": "2021-08-04T06:08:26.657Z"
   },
   {
    "duration": 671,
    "start_time": "2021-08-04T06:09:42.409Z"
   },
   {
    "duration": 1522,
    "start_time": "2021-08-04T06:12:56.424Z"
   },
   {
    "duration": 77,
    "start_time": "2021-08-04T06:12:57.948Z"
   },
   {
    "duration": 14,
    "start_time": "2021-08-04T06:12:58.028Z"
   },
   {
    "duration": 29,
    "start_time": "2021-08-04T06:12:58.061Z"
   },
   {
    "duration": 35,
    "start_time": "2021-08-04T06:12:58.092Z"
   },
   {
    "duration": 46,
    "start_time": "2021-08-04T06:12:58.130Z"
   },
   {
    "duration": 27,
    "start_time": "2021-08-04T06:12:58.179Z"
   },
   {
    "duration": 57,
    "start_time": "2021-08-04T06:12:58.210Z"
   },
   {
    "duration": 24,
    "start_time": "2021-08-04T06:12:58.270Z"
   },
   {
    "duration": 25,
    "start_time": "2021-08-04T06:12:58.296Z"
   },
   {
    "duration": 58,
    "start_time": "2021-08-04T06:12:58.324Z"
   },
   {
    "duration": 25,
    "start_time": "2021-08-04T06:12:58.385Z"
   },
   {
    "duration": 47,
    "start_time": "2021-08-04T06:12:58.412Z"
   },
   {
    "duration": 27,
    "start_time": "2021-08-04T06:12:58.462Z"
   },
   {
    "duration": 10,
    "start_time": "2021-08-04T06:12:58.492Z"
   },
   {
    "duration": 40,
    "start_time": "2021-08-04T06:12:58.505Z"
   },
   {
    "duration": 34,
    "start_time": "2021-08-04T06:12:58.549Z"
   },
   {
    "duration": 31,
    "start_time": "2021-08-04T06:12:58.586Z"
   },
   {
    "duration": 10,
    "start_time": "2021-08-04T06:12:58.620Z"
   },
   {
    "duration": 47,
    "start_time": "2021-08-04T06:12:58.633Z"
   },
   {
    "duration": 575,
    "start_time": "2021-08-04T06:12:58.683Z"
   },
   {
    "duration": 21,
    "start_time": "2021-08-04T06:12:59.263Z"
   },
   {
    "duration": 26,
    "start_time": "2021-08-04T06:12:59.292Z"
   },
   {
    "duration": 546,
    "start_time": "2021-08-04T06:12:59.323Z"
   },
   {
    "duration": 689,
    "start_time": "2021-08-04T06:12:59.873Z"
   },
   {
    "duration": 35,
    "start_time": "2021-08-04T06:13:00.564Z"
   },
   {
    "duration": 1087,
    "start_time": "2021-08-04T06:13:00.601Z"
   },
   {
    "duration": 15,
    "start_time": "2021-08-04T06:13:01.690Z"
   },
   {
    "duration": 40,
    "start_time": "2021-08-04T06:13:01.708Z"
   },
   {
    "duration": 1133,
    "start_time": "2021-08-04T06:13:01.750Z"
   },
   {
    "duration": 14,
    "start_time": "2021-08-04T06:13:02.887Z"
   },
   {
    "duration": 1141,
    "start_time": "2021-08-04T06:13:02.904Z"
   },
   {
    "duration": 24,
    "start_time": "2021-08-04T06:13:04.048Z"
   },
   {
    "duration": 14,
    "start_time": "2021-08-04T06:13:04.075Z"
   },
   {
    "duration": 26,
    "start_time": "2021-08-04T06:13:04.091Z"
   },
   {
    "duration": 47,
    "start_time": "2021-08-04T06:13:04.119Z"
   },
   {
    "duration": 17,
    "start_time": "2021-08-04T06:13:04.169Z"
   },
   {
    "duration": 22,
    "start_time": "2021-08-04T06:13:04.188Z"
   },
   {
    "duration": 18,
    "start_time": "2021-08-04T06:13:04.213Z"
   },
   {
    "duration": 15,
    "start_time": "2021-08-04T06:13:04.262Z"
   },
   {
    "duration": 23,
    "start_time": "2021-08-04T06:13:04.280Z"
   },
   {
    "duration": 39,
    "start_time": "2021-08-04T06:13:04.306Z"
   },
   {
    "duration": 23,
    "start_time": "2021-08-04T06:13:04.348Z"
   },
   {
    "duration": 17,
    "start_time": "2021-08-04T06:13:04.374Z"
   },
   {
    "duration": 13,
    "start_time": "2021-08-04T06:13:04.394Z"
   },
   {
    "duration": 55,
    "start_time": "2021-08-04T06:13:04.409Z"
   },
   {
    "duration": 24,
    "start_time": "2021-08-04T06:13:04.467Z"
   },
   {
    "duration": 14,
    "start_time": "2021-08-04T06:15:18.096Z"
   },
   {
    "duration": 14,
    "start_time": "2021-08-04T06:15:47.144Z"
   },
   {
    "duration": 16,
    "start_time": "2021-08-04T06:16:09.312Z"
   },
   {
    "duration": 15,
    "start_time": "2021-08-04T06:16:13.785Z"
   },
   {
    "duration": 1446,
    "start_time": "2021-08-04T06:16:18.283Z"
   },
   {
    "duration": 75,
    "start_time": "2021-08-04T06:16:19.731Z"
   },
   {
    "duration": 14,
    "start_time": "2021-08-04T06:16:19.810Z"
   },
   {
    "duration": 37,
    "start_time": "2021-08-04T06:16:19.827Z"
   },
   {
    "duration": 20,
    "start_time": "2021-08-04T06:16:19.866Z"
   },
   {
    "duration": 33,
    "start_time": "2021-08-04T06:16:19.889Z"
   },
   {
    "duration": 47,
    "start_time": "2021-08-04T06:16:19.925Z"
   },
   {
    "duration": 36,
    "start_time": "2021-08-04T06:16:19.975Z"
   },
   {
    "duration": 59,
    "start_time": "2021-08-04T06:16:20.015Z"
   },
   {
    "duration": 30,
    "start_time": "2021-08-04T06:16:20.078Z"
   },
   {
    "duration": 69,
    "start_time": "2021-08-04T06:16:20.111Z"
   },
   {
    "duration": 4,
    "start_time": "2021-08-04T06:16:20.183Z"
   },
   {
    "duration": 29,
    "start_time": "2021-08-04T06:16:20.189Z"
   },
   {
    "duration": 47,
    "start_time": "2021-08-04T06:16:20.221Z"
   },
   {
    "duration": 10,
    "start_time": "2021-08-04T06:16:20.271Z"
   },
   {
    "duration": 20,
    "start_time": "2021-08-04T06:16:20.284Z"
   },
   {
    "duration": 22,
    "start_time": "2021-08-04T06:16:20.307Z"
   },
   {
    "duration": 25,
    "start_time": "2021-08-04T06:16:20.363Z"
   },
   {
    "duration": 9,
    "start_time": "2021-08-04T06:16:20.391Z"
   },
   {
    "duration": 12,
    "start_time": "2021-08-04T06:16:20.403Z"
   },
   {
    "duration": 432,
    "start_time": "2021-08-04T06:16:20.418Z"
   },
   {
    "duration": 19,
    "start_time": "2021-08-04T06:16:20.853Z"
   },
   {
    "duration": 20,
    "start_time": "2021-08-04T06:16:20.875Z"
   },
   {
    "duration": 556,
    "start_time": "2021-08-04T06:16:20.897Z"
   },
   {
    "duration": 678,
    "start_time": "2021-08-04T06:16:21.456Z"
   },
   {
    "duration": 46,
    "start_time": "2021-08-04T06:16:22.137Z"
   },
   {
    "duration": 1077,
    "start_time": "2021-08-04T06:16:22.188Z"
   },
   {
    "duration": 16,
    "start_time": "2021-08-04T06:16:23.268Z"
   },
   {
    "duration": 10,
    "start_time": "2021-08-04T06:16:23.287Z"
   },
   {
    "duration": 912,
    "start_time": "2021-08-04T06:16:23.299Z"
   },
   {
    "duration": 10,
    "start_time": "2021-08-04T06:16:24.214Z"
   },
   {
    "duration": 908,
    "start_time": "2021-08-04T06:16:24.226Z"
   },
   {
    "duration": 26,
    "start_time": "2021-08-04T06:16:25.136Z"
   },
   {
    "duration": 22,
    "start_time": "2021-08-04T06:16:25.166Z"
   },
   {
    "duration": 20,
    "start_time": "2021-08-04T06:16:25.190Z"
   },
   {
    "duration": 15,
    "start_time": "2021-08-04T06:16:25.213Z"
   },
   {
    "duration": 15,
    "start_time": "2021-08-04T06:16:25.263Z"
   },
   {
    "duration": 15,
    "start_time": "2021-08-04T06:16:25.280Z"
   },
   {
    "duration": 14,
    "start_time": "2021-08-04T06:16:25.298Z"
   },
   {
    "duration": 55,
    "start_time": "2021-08-04T06:16:25.315Z"
   },
   {
    "duration": 14,
    "start_time": "2021-08-04T06:16:25.373Z"
   },
   {
    "duration": 16,
    "start_time": "2021-08-04T06:16:25.389Z"
   },
   {
    "duration": 19,
    "start_time": "2021-08-04T06:16:25.408Z"
   },
   {
    "duration": 45,
    "start_time": "2021-08-04T06:16:25.429Z"
   },
   {
    "duration": 30,
    "start_time": "2021-08-04T06:16:25.476Z"
   },
   {
    "duration": 16,
    "start_time": "2021-08-04T06:16:25.509Z"
   },
   {
    "duration": 42,
    "start_time": "2021-08-04T06:16:25.528Z"
   },
   {
    "duration": 15,
    "start_time": "2021-08-04T06:16:36.336Z"
   },
   {
    "duration": 15,
    "start_time": "2021-08-04T06:16:43.184Z"
   },
   {
    "duration": 14,
    "start_time": "2021-08-04T06:16:56.560Z"
   },
   {
    "duration": 15,
    "start_time": "2021-08-04T06:17:03.311Z"
   },
   {
    "duration": 100,
    "start_time": "2021-08-04T06:17:19.746Z"
   },
   {
    "duration": 105,
    "start_time": "2021-08-04T06:17:32.863Z"
   },
   {
    "duration": 411,
    "start_time": "2021-08-04T06:17:39.616Z"
   },
   {
    "duration": 1502,
    "start_time": "2021-08-04T06:17:47.645Z"
   },
   {
    "duration": 77,
    "start_time": "2021-08-04T06:17:49.150Z"
   },
   {
    "duration": 32,
    "start_time": "2021-08-04T06:17:49.230Z"
   },
   {
    "duration": 20,
    "start_time": "2021-08-04T06:17:49.265Z"
   },
   {
    "duration": 24,
    "start_time": "2021-08-04T06:17:49.288Z"
   },
   {
    "duration": 65,
    "start_time": "2021-08-04T06:17:49.315Z"
   },
   {
    "duration": 14,
    "start_time": "2021-08-04T06:17:49.382Z"
   },
   {
    "duration": 70,
    "start_time": "2021-08-04T06:17:49.400Z"
   },
   {
    "duration": 29,
    "start_time": "2021-08-04T06:17:49.474Z"
   },
   {
    "duration": 22,
    "start_time": "2021-08-04T06:17:49.505Z"
   },
   {
    "duration": 35,
    "start_time": "2021-08-04T06:17:49.562Z"
   },
   {
    "duration": 3,
    "start_time": "2021-08-04T06:17:49.600Z"
   },
   {
    "duration": 69,
    "start_time": "2021-08-04T06:17:49.605Z"
   },
   {
    "duration": 18,
    "start_time": "2021-08-04T06:17:49.676Z"
   },
   {
    "duration": 11,
    "start_time": "2021-08-04T06:17:49.696Z"
   },
   {
    "duration": 24,
    "start_time": "2021-08-04T06:17:49.710Z"
   },
   {
    "duration": 44,
    "start_time": "2021-08-04T06:17:49.736Z"
   },
   {
    "duration": 27,
    "start_time": "2021-08-04T06:17:49.783Z"
   },
   {
    "duration": 8,
    "start_time": "2021-08-04T06:17:49.813Z"
   },
   {
    "duration": 39,
    "start_time": "2021-08-04T06:17:49.824Z"
   },
   {
    "duration": 400,
    "start_time": "2021-08-04T06:17:49.866Z"
   },
   {
    "duration": 17,
    "start_time": "2021-08-04T06:17:50.269Z"
   },
   {
    "duration": 19,
    "start_time": "2021-08-04T06:17:50.294Z"
   },
   {
    "duration": 653,
    "start_time": "2021-08-04T06:17:50.317Z"
   },
   {
    "duration": 692,
    "start_time": "2021-08-04T06:17:50.974Z"
   },
   {
    "duration": 37,
    "start_time": "2021-08-04T06:17:51.669Z"
   },
   {
    "duration": 1088,
    "start_time": "2021-08-04T06:17:51.709Z"
   },
   {
    "duration": 16,
    "start_time": "2021-08-04T06:17:52.800Z"
   },
   {
    "duration": 10,
    "start_time": "2021-08-04T06:17:52.819Z"
   },
   {
    "duration": 895,
    "start_time": "2021-08-04T06:17:52.832Z"
   },
   {
    "duration": 11,
    "start_time": "2021-08-04T06:17:53.730Z"
   },
   {
    "duration": 789,
    "start_time": "2021-08-04T06:17:53.744Z"
   },
   {
    "duration": 14,
    "start_time": "2021-08-04T06:17:54.535Z"
   },
   {
    "duration": 16,
    "start_time": "2021-08-04T06:17:54.563Z"
   },
   {
    "duration": 29,
    "start_time": "2021-08-04T06:17:54.581Z"
   },
   {
    "duration": 17,
    "start_time": "2021-08-04T06:17:54.613Z"
   },
   {
    "duration": 42,
    "start_time": "2021-08-04T06:17:54.632Z"
   },
   {
    "duration": 17,
    "start_time": "2021-08-04T06:17:54.676Z"
   },
   {
    "duration": 15,
    "start_time": "2021-08-04T06:17:54.695Z"
   },
   {
    "duration": 52,
    "start_time": "2021-08-04T06:17:54.712Z"
   },
   {
    "duration": 16,
    "start_time": "2021-08-04T06:17:54.766Z"
   },
   {
    "duration": 14,
    "start_time": "2021-08-04T06:17:54.785Z"
   },
   {
    "duration": 23,
    "start_time": "2021-08-04T06:17:54.801Z"
   },
   {
    "duration": 44,
    "start_time": "2021-08-04T06:17:54.826Z"
   },
   {
    "duration": 14,
    "start_time": "2021-08-04T06:17:54.872Z"
   },
   {
    "duration": 364,
    "start_time": "2021-08-04T06:17:54.889Z"
   },
   {
    "duration": -38,
    "start_time": "2021-08-04T06:17:55.294Z"
   },
   {
    "duration": -39,
    "start_time": "2021-08-04T06:17:55.296Z"
   },
   {
    "duration": 1490,
    "start_time": "2021-08-04T06:18:32.747Z"
   },
   {
    "duration": 75,
    "start_time": "2021-08-04T06:18:34.239Z"
   },
   {
    "duration": 13,
    "start_time": "2021-08-04T06:18:34.317Z"
   },
   {
    "duration": 42,
    "start_time": "2021-08-04T06:18:34.333Z"
   },
   {
    "duration": 31,
    "start_time": "2021-08-04T06:18:34.377Z"
   },
   {
    "duration": 52,
    "start_time": "2021-08-04T06:18:34.411Z"
   },
   {
    "duration": 13,
    "start_time": "2021-08-04T06:18:34.466Z"
   },
   {
    "duration": 78,
    "start_time": "2021-08-04T06:18:34.483Z"
   },
   {
    "duration": 24,
    "start_time": "2021-08-04T06:18:34.565Z"
   },
   {
    "duration": 22,
    "start_time": "2021-08-04T06:18:34.592Z"
   },
   {
    "duration": 71,
    "start_time": "2021-08-04T06:18:34.616Z"
   },
   {
    "duration": 18,
    "start_time": "2021-08-04T06:18:34.689Z"
   },
   {
    "duration": 57,
    "start_time": "2021-08-04T06:18:34.709Z"
   },
   {
    "duration": 18,
    "start_time": "2021-08-04T06:18:34.769Z"
   },
   {
    "duration": 22,
    "start_time": "2021-08-04T06:18:34.790Z"
   },
   {
    "duration": 33,
    "start_time": "2021-08-04T06:18:34.814Z"
   },
   {
    "duration": 28,
    "start_time": "2021-08-04T06:18:34.850Z"
   },
   {
    "duration": 32,
    "start_time": "2021-08-04T06:18:34.881Z"
   },
   {
    "duration": 7,
    "start_time": "2021-08-04T06:18:34.915Z"
   },
   {
    "duration": 17,
    "start_time": "2021-08-04T06:18:34.924Z"
   },
   {
    "duration": 421,
    "start_time": "2021-08-04T06:18:34.943Z"
   },
   {
    "duration": 16,
    "start_time": "2021-08-04T06:18:35.366Z"
   },
   {
    "duration": 52,
    "start_time": "2021-08-04T06:18:35.387Z"
   },
   {
    "duration": 517,
    "start_time": "2021-08-04T06:18:35.442Z"
   },
   {
    "duration": 666,
    "start_time": "2021-08-04T06:18:35.963Z"
   },
   {
    "duration": 47,
    "start_time": "2021-08-04T06:18:36.631Z"
   },
   {
    "duration": 1087,
    "start_time": "2021-08-04T06:18:36.681Z"
   },
   {
    "duration": 17,
    "start_time": "2021-08-04T06:18:37.770Z"
   },
   {
    "duration": 21,
    "start_time": "2021-08-04T06:18:37.791Z"
   },
   {
    "duration": 1236,
    "start_time": "2021-08-04T06:18:37.816Z"
   },
   {
    "duration": 15,
    "start_time": "2021-08-04T06:18:39.063Z"
   },
   {
    "duration": 1080,
    "start_time": "2021-08-04T06:18:39.081Z"
   },
   {
    "duration": 19,
    "start_time": "2021-08-04T06:18:40.165Z"
   },
   {
    "duration": 47,
    "start_time": "2021-08-04T06:18:40.187Z"
   },
   {
    "duration": 25,
    "start_time": "2021-08-04T06:18:40.237Z"
   },
   {
    "duration": 20,
    "start_time": "2021-08-04T06:18:40.265Z"
   },
   {
    "duration": 19,
    "start_time": "2021-08-04T06:18:40.288Z"
   },
   {
    "duration": 52,
    "start_time": "2021-08-04T06:18:40.310Z"
   },
   {
    "duration": 20,
    "start_time": "2021-08-04T06:18:40.365Z"
   },
   {
    "duration": 20,
    "start_time": "2021-08-04T06:18:40.388Z"
   },
   {
    "duration": 53,
    "start_time": "2021-08-04T06:18:40.411Z"
   },
   {
    "duration": 20,
    "start_time": "2021-08-04T06:18:40.467Z"
   },
   {
    "duration": 19,
    "start_time": "2021-08-04T06:18:40.489Z"
   },
   {
    "duration": 13,
    "start_time": "2021-08-04T06:18:40.510Z"
   },
   {
    "duration": 49,
    "start_time": "2021-08-04T06:18:40.526Z"
   },
   {
    "duration": 13,
    "start_time": "2021-08-04T06:18:40.577Z"
   },
   {
    "duration": 17,
    "start_time": "2021-08-04T06:18:40.592Z"
   },
   {
    "duration": 385,
    "start_time": "2021-08-04T06:18:58.855Z"
   },
   {
    "duration": 12,
    "start_time": "2021-08-04T06:19:16.368Z"
   },
   {
    "duration": 34,
    "start_time": "2021-08-04T06:19:27.823Z"
   },
   {
    "duration": 1554,
    "start_time": "2021-08-04T06:20:33.689Z"
   },
   {
    "duration": 75,
    "start_time": "2021-08-04T06:20:35.247Z"
   },
   {
    "duration": 36,
    "start_time": "2021-08-04T06:20:35.326Z"
   },
   {
    "duration": 20,
    "start_time": "2021-08-04T06:20:35.365Z"
   },
   {
    "duration": 21,
    "start_time": "2021-08-04T06:20:35.387Z"
   },
   {
    "duration": 66,
    "start_time": "2021-08-04T06:20:35.410Z"
   },
   {
    "duration": 12,
    "start_time": "2021-08-04T06:20:35.479Z"
   },
   {
    "duration": 68,
    "start_time": "2021-08-04T06:20:35.495Z"
   },
   {
    "duration": 24,
    "start_time": "2021-08-04T06:20:35.566Z"
   },
   {
    "duration": 21,
    "start_time": "2021-08-04T06:20:35.593Z"
   },
   {
    "duration": 74,
    "start_time": "2021-08-04T06:20:35.616Z"
   },
   {
    "duration": 4,
    "start_time": "2021-08-04T06:20:35.692Z"
   },
   {
    "duration": 40,
    "start_time": "2021-08-04T06:20:35.698Z"
   },
   {
    "duration": 27,
    "start_time": "2021-08-04T06:20:35.740Z"
   },
   {
    "duration": 6,
    "start_time": "2021-08-04T06:20:35.769Z"
   },
   {
    "duration": 49,
    "start_time": "2021-08-04T06:20:35.778Z"
   },
   {
    "duration": 36,
    "start_time": "2021-08-04T06:20:35.829Z"
   },
   {
    "duration": 28,
    "start_time": "2021-08-04T06:20:35.868Z"
   },
   {
    "duration": 9,
    "start_time": "2021-08-04T06:20:35.898Z"
   },
   {
    "duration": 12,
    "start_time": "2021-08-04T06:20:35.909Z"
   },
   {
    "duration": 422,
    "start_time": "2021-08-04T06:20:35.923Z"
   },
   {
    "duration": 26,
    "start_time": "2021-08-04T06:20:36.348Z"
   },
   {
    "duration": 28,
    "start_time": "2021-08-04T06:20:36.383Z"
   },
   {
    "duration": 723,
    "start_time": "2021-08-04T06:20:36.415Z"
   },
   {
    "duration": 940,
    "start_time": "2021-08-04T06:20:37.141Z"
   },
   {
    "duration": 48,
    "start_time": "2021-08-04T06:20:38.085Z"
   },
   {
    "duration": 1590,
    "start_time": "2021-08-04T06:20:38.137Z"
   },
   {
    "duration": 35,
    "start_time": "2021-08-04T06:20:39.730Z"
   },
   {
    "duration": 14,
    "start_time": "2021-08-04T06:20:39.768Z"
   },
   {
    "duration": 1184,
    "start_time": "2021-08-04T06:20:39.785Z"
   },
   {
    "duration": 14,
    "start_time": "2021-08-04T06:20:40.972Z"
   },
   {
    "duration": 857,
    "start_time": "2021-08-04T06:20:40.990Z"
   },
   {
    "duration": 22,
    "start_time": "2021-08-04T06:20:41.850Z"
   },
   {
    "duration": 15,
    "start_time": "2021-08-04T06:20:41.875Z"
   },
   {
    "duration": 20,
    "start_time": "2021-08-04T06:20:41.892Z"
   },
   {
    "duration": 23,
    "start_time": "2021-08-04T06:20:41.914Z"
   },
   {
    "duration": 35,
    "start_time": "2021-08-04T06:20:41.939Z"
   },
   {
    "duration": 17,
    "start_time": "2021-08-04T06:20:41.976Z"
   },
   {
    "duration": 14,
    "start_time": "2021-08-04T06:20:41.995Z"
   },
   {
    "duration": 50,
    "start_time": "2021-08-04T06:20:42.011Z"
   },
   {
    "duration": 15,
    "start_time": "2021-08-04T06:20:42.063Z"
   },
   {
    "duration": 436,
    "start_time": "2021-08-04T06:20:42.080Z"
   },
   {
    "duration": -32,
    "start_time": "2021-08-04T06:20:42.550Z"
   },
   {
    "duration": -45,
    "start_time": "2021-08-04T06:20:42.565Z"
   },
   {
    "duration": -48,
    "start_time": "2021-08-04T06:20:42.569Z"
   },
   {
    "duration": -49,
    "start_time": "2021-08-04T06:20:42.571Z"
   },
   {
    "duration": -50,
    "start_time": "2021-08-04T06:20:42.574Z"
   },
   {
    "duration": -51,
    "start_time": "2021-08-04T06:20:42.576Z"
   },
   {
    "duration": 6,
    "start_time": "2021-08-04T06:20:53.881Z"
   },
   {
    "duration": 15,
    "start_time": "2021-08-04T06:20:54.423Z"
   },
   {
    "duration": 14,
    "start_time": "2021-08-04T06:20:56.761Z"
   },
   {
    "duration": 37,
    "start_time": "2021-08-04T06:20:56.778Z"
   },
   {
    "duration": 14,
    "start_time": "2021-08-04T06:20:56.940Z"
   },
   {
    "duration": 6,
    "start_time": "2021-08-04T06:21:57.721Z"
   },
   {
    "duration": 15,
    "start_time": "2021-08-04T06:21:58.553Z"
   },
   {
    "duration": 14,
    "start_time": "2021-08-04T06:21:59.289Z"
   },
   {
    "duration": 1473,
    "start_time": "2021-08-04T06:22:04.170Z"
   },
   {
    "duration": 77,
    "start_time": "2021-08-04T06:22:05.646Z"
   },
   {
    "duration": 15,
    "start_time": "2021-08-04T06:22:05.726Z"
   },
   {
    "duration": 35,
    "start_time": "2021-08-04T06:22:05.744Z"
   },
   {
    "duration": 29,
    "start_time": "2021-08-04T06:22:05.782Z"
   },
   {
    "duration": 53,
    "start_time": "2021-08-04T06:22:05.814Z"
   },
   {
    "duration": 15,
    "start_time": "2021-08-04T06:22:05.871Z"
   },
   {
    "duration": 36,
    "start_time": "2021-08-04T06:22:05.890Z"
   },
   {
    "duration": 52,
    "start_time": "2021-08-04T06:22:05.929Z"
   },
   {
    "duration": 20,
    "start_time": "2021-08-04T06:22:05.983Z"
   },
   {
    "duration": 60,
    "start_time": "2021-08-04T06:22:06.005Z"
   },
   {
    "duration": 5,
    "start_time": "2021-08-04T06:22:06.068Z"
   },
   {
    "duration": 31,
    "start_time": "2021-08-04T06:22:06.075Z"
   },
   {
    "duration": 11,
    "start_time": "2021-08-04T06:22:06.108Z"
   },
   {
    "duration": 29,
    "start_time": "2021-08-04T06:22:06.121Z"
   },
   {
    "duration": 15,
    "start_time": "2021-08-04T06:22:06.161Z"
   },
   {
    "duration": 23,
    "start_time": "2021-08-04T06:22:06.178Z"
   },
   {
    "duration": 26,
    "start_time": "2021-08-04T06:22:06.204Z"
   },
   {
    "duration": 33,
    "start_time": "2021-08-04T06:22:06.232Z"
   },
   {
    "duration": 13,
    "start_time": "2021-08-04T06:22:06.268Z"
   },
   {
    "duration": 419,
    "start_time": "2021-08-04T06:22:06.283Z"
   },
   {
    "duration": 16,
    "start_time": "2021-08-04T06:22:06.708Z"
   },
   {
    "duration": 40,
    "start_time": "2021-08-04T06:22:06.727Z"
   },
   {
    "duration": 518,
    "start_time": "2021-08-04T06:22:06.770Z"
   },
   {
    "duration": 677,
    "start_time": "2021-08-04T06:22:07.290Z"
   },
   {
    "duration": 37,
    "start_time": "2021-08-04T06:22:07.969Z"
   },
   {
    "duration": 1129,
    "start_time": "2021-08-04T06:22:08.009Z"
   },
   {
    "duration": 24,
    "start_time": "2021-08-04T06:22:09.141Z"
   },
   {
    "duration": 11,
    "start_time": "2021-08-04T06:22:09.168Z"
   },
   {
    "duration": 862,
    "start_time": "2021-08-04T06:22:09.182Z"
   },
   {
    "duration": 18,
    "start_time": "2021-08-04T06:22:10.047Z"
   },
   {
    "duration": 756,
    "start_time": "2021-08-04T06:22:10.068Z"
   },
   {
    "duration": 13,
    "start_time": "2021-08-04T06:22:10.826Z"
   },
   {
    "duration": 29,
    "start_time": "2021-08-04T06:22:10.841Z"
   },
   {
    "duration": 14,
    "start_time": "2021-08-04T06:22:10.873Z"
   },
   {
    "duration": 13,
    "start_time": "2021-08-04T06:22:10.890Z"
   },
   {
    "duration": 13,
    "start_time": "2021-08-04T06:22:10.906Z"
   },
   {
    "duration": 51,
    "start_time": "2021-08-04T06:22:10.922Z"
   },
   {
    "duration": 14,
    "start_time": "2021-08-04T06:22:10.975Z"
   },
   {
    "duration": 16,
    "start_time": "2021-08-04T06:22:10.992Z"
   },
   {
    "duration": 14,
    "start_time": "2021-08-04T06:22:11.010Z"
   },
   {
    "duration": 38,
    "start_time": "2021-08-04T06:22:11.026Z"
   },
   {
    "duration": 18,
    "start_time": "2021-08-04T06:22:11.066Z"
   },
   {
    "duration": 15,
    "start_time": "2021-08-04T06:22:11.086Z"
   },
   {
    "duration": 16,
    "start_time": "2021-08-04T06:22:11.103Z"
   },
   {
    "duration": 49,
    "start_time": "2021-08-04T06:22:11.121Z"
   },
   {
    "duration": 18,
    "start_time": "2021-08-04T06:22:11.173Z"
   },
   {
    "duration": 21,
    "start_time": "2021-08-04T06:22:11.194Z"
   },
   {
    "duration": 18,
    "start_time": "2021-08-04T06:22:46.056Z"
   },
   {
    "duration": 23,
    "start_time": "2021-08-04T06:24:52.016Z"
   },
   {
    "duration": 572,
    "start_time": "2021-08-04T06:28:57.264Z"
   },
   {
    "duration": 137,
    "start_time": "2021-08-04T06:29:45.471Z"
   },
   {
    "duration": 81,
    "start_time": "2021-08-04T06:29:49.151Z"
   },
   {
    "duration": 257,
    "start_time": "2021-08-04T06:31:42.687Z"
   },
   {
    "duration": 201,
    "start_time": "2021-08-04T06:34:23.161Z"
   },
   {
    "duration": 17,
    "start_time": "2021-08-04T06:34:29.831Z"
   },
   {
    "duration": 18,
    "start_time": "2021-08-04T06:34:48.022Z"
   },
   {
    "duration": 1582,
    "start_time": "2021-08-04T06:34:53.680Z"
   },
   {
    "duration": 77,
    "start_time": "2021-08-04T06:34:55.265Z"
   },
   {
    "duration": 14,
    "start_time": "2021-08-04T06:34:55.346Z"
   },
   {
    "duration": 22,
    "start_time": "2021-08-04T06:34:55.363Z"
   },
   {
    "duration": 31,
    "start_time": "2021-08-04T06:34:55.387Z"
   },
   {
    "duration": 44,
    "start_time": "2021-08-04T06:34:55.420Z"
   },
   {
    "duration": 15,
    "start_time": "2021-08-04T06:34:55.466Z"
   },
   {
    "duration": 39,
    "start_time": "2021-08-04T06:34:55.485Z"
   },
   {
    "duration": 23,
    "start_time": "2021-08-04T06:34:55.527Z"
   },
   {
    "duration": 26,
    "start_time": "2021-08-04T06:34:55.553Z"
   },
   {
    "duration": 34,
    "start_time": "2021-08-04T06:34:55.581Z"
   },
   {
    "duration": 13,
    "start_time": "2021-08-04T06:34:55.618Z"
   },
   {
    "duration": 33,
    "start_time": "2021-08-04T06:34:55.634Z"
   },
   {
    "duration": 12,
    "start_time": "2021-08-04T06:34:55.669Z"
   },
   {
    "duration": 7,
    "start_time": "2021-08-04T06:34:55.684Z"
   },
   {
    "duration": 20,
    "start_time": "2021-08-04T06:34:55.693Z"
   },
   {
    "duration": 24,
    "start_time": "2021-08-04T06:34:55.715Z"
   },
   {
    "duration": 42,
    "start_time": "2021-08-04T06:34:55.742Z"
   },
   {
    "duration": 10,
    "start_time": "2021-08-04T06:34:55.786Z"
   },
   {
    "duration": 13,
    "start_time": "2021-08-04T06:34:55.799Z"
   },
   {
    "duration": 652,
    "start_time": "2021-08-04T06:34:55.815Z"
   },
   {
    "duration": 15,
    "start_time": "2021-08-04T06:34:56.469Z"
   },
   {
    "duration": 18,
    "start_time": "2021-08-04T06:34:56.489Z"
   },
   {
    "duration": 640,
    "start_time": "2021-08-04T06:34:56.510Z"
   },
   {
    "duration": 699,
    "start_time": "2021-08-04T06:34:57.153Z"
   },
   {
    "duration": 40,
    "start_time": "2021-08-04T06:34:57.862Z"
   },
   {
    "duration": 1138,
    "start_time": "2021-08-04T06:34:57.905Z"
   },
   {
    "duration": 27,
    "start_time": "2021-08-04T06:34:59.045Z"
   },
   {
    "duration": 14,
    "start_time": "2021-08-04T06:34:59.075Z"
   },
   {
    "duration": 1051,
    "start_time": "2021-08-04T06:34:59.092Z"
   },
   {
    "duration": 17,
    "start_time": "2021-08-04T06:35:00.146Z"
   },
   {
    "duration": 854,
    "start_time": "2021-08-04T06:35:00.166Z"
   },
   {
    "duration": 13,
    "start_time": "2021-08-04T06:35:01.022Z"
   },
   {
    "duration": 41,
    "start_time": "2021-08-04T06:35:01.037Z"
   },
   {
    "duration": 48,
    "start_time": "2021-08-04T06:35:01.081Z"
   },
   {
    "duration": 28,
    "start_time": "2021-08-04T06:35:01.132Z"
   },
   {
    "duration": 17,
    "start_time": "2021-08-04T06:35:01.163Z"
   },
   {
    "duration": 16,
    "start_time": "2021-08-04T06:35:01.183Z"
   },
   {
    "duration": 24,
    "start_time": "2021-08-04T06:35:01.202Z"
   },
   {
    "duration": 37,
    "start_time": "2021-08-04T06:35:01.229Z"
   },
   {
    "duration": 32,
    "start_time": "2021-08-04T06:35:01.269Z"
   },
   {
    "duration": 8,
    "start_time": "2021-08-04T06:35:01.303Z"
   },
   {
    "duration": 43,
    "start_time": "2021-08-04T06:35:01.313Z"
   },
   {
    "duration": 30,
    "start_time": "2021-08-04T06:35:01.359Z"
   },
   {
    "duration": 28,
    "start_time": "2021-08-04T06:35:01.391Z"
   },
   {
    "duration": 50,
    "start_time": "2021-08-04T06:35:01.421Z"
   },
   {
    "duration": 70,
    "start_time": "2021-08-04T06:35:01.473Z"
   },
   {
    "duration": 33,
    "start_time": "2021-08-04T06:35:01.545Z"
   },
   {
    "duration": 19,
    "start_time": "2021-08-04T06:35:29.981Z"
   },
   {
    "duration": 9,
    "start_time": "2021-08-04T06:35:43.941Z"
   },
   {
    "duration": 1543,
    "start_time": "2021-08-04T06:36:13.086Z"
   },
   {
    "duration": 76,
    "start_time": "2021-08-04T06:36:14.632Z"
   },
   {
    "duration": 14,
    "start_time": "2021-08-04T06:36:14.711Z"
   },
   {
    "duration": 38,
    "start_time": "2021-08-04T06:36:14.727Z"
   },
   {
    "duration": 26,
    "start_time": "2021-08-04T06:36:14.767Z"
   },
   {
    "duration": 43,
    "start_time": "2021-08-04T06:36:14.795Z"
   },
   {
    "duration": 35,
    "start_time": "2021-08-04T06:36:14.841Z"
   },
   {
    "duration": 54,
    "start_time": "2021-08-04T06:36:14.883Z"
   },
   {
    "duration": 34,
    "start_time": "2021-08-04T06:36:14.965Z"
   },
   {
    "duration": 32,
    "start_time": "2021-08-04T06:36:15.002Z"
   },
   {
    "duration": 36,
    "start_time": "2021-08-04T06:36:15.061Z"
   },
   {
    "duration": 3,
    "start_time": "2021-08-04T06:36:15.100Z"
   },
   {
    "duration": 58,
    "start_time": "2021-08-04T06:36:15.106Z"
   },
   {
    "duration": 16,
    "start_time": "2021-08-04T06:36:15.167Z"
   },
   {
    "duration": 7,
    "start_time": "2021-08-04T06:36:15.186Z"
   },
   {
    "duration": 32,
    "start_time": "2021-08-04T06:36:15.196Z"
   },
   {
    "duration": 55,
    "start_time": "2021-08-04T06:36:15.231Z"
   },
   {
    "duration": 29,
    "start_time": "2021-08-04T06:36:15.289Z"
   },
   {
    "duration": 41,
    "start_time": "2021-08-04T06:36:15.321Z"
   },
   {
    "duration": 12,
    "start_time": "2021-08-04T06:36:15.364Z"
   },
   {
    "duration": 413,
    "start_time": "2021-08-04T06:36:15.379Z"
   },
   {
    "duration": 16,
    "start_time": "2021-08-04T06:36:15.795Z"
   },
   {
    "duration": 50,
    "start_time": "2021-08-04T06:36:15.813Z"
   },
   {
    "duration": 509,
    "start_time": "2021-08-04T06:36:15.866Z"
   },
   {
    "duration": 667,
    "start_time": "2021-08-04T06:36:16.378Z"
   },
   {
    "duration": 40,
    "start_time": "2021-08-04T06:36:17.053Z"
   },
   {
    "duration": 1096,
    "start_time": "2021-08-04T06:36:17.097Z"
   },
   {
    "duration": 15,
    "start_time": "2021-08-04T06:36:18.195Z"
   },
   {
    "duration": 13,
    "start_time": "2021-08-04T06:36:18.212Z"
   },
   {
    "duration": 877,
    "start_time": "2021-08-04T06:36:18.227Z"
   },
   {
    "duration": 10,
    "start_time": "2021-08-04T06:36:19.106Z"
   },
   {
    "duration": 786,
    "start_time": "2021-08-04T06:36:19.118Z"
   },
   {
    "duration": 13,
    "start_time": "2021-08-04T06:36:19.906Z"
   },
   {
    "duration": 15,
    "start_time": "2021-08-04T06:36:19.921Z"
   },
   {
    "duration": 34,
    "start_time": "2021-08-04T06:36:19.938Z"
   },
   {
    "duration": 15,
    "start_time": "2021-08-04T06:36:19.975Z"
   },
   {
    "duration": 16,
    "start_time": "2021-08-04T06:36:19.992Z"
   },
   {
    "duration": 51,
    "start_time": "2021-08-04T06:36:20.010Z"
   },
   {
    "duration": 15,
    "start_time": "2021-08-04T06:36:20.063Z"
   },
   {
    "duration": 34,
    "start_time": "2021-08-04T06:36:20.081Z"
   },
   {
    "duration": 19,
    "start_time": "2021-08-04T06:36:20.118Z"
   },
   {
    "duration": 8,
    "start_time": "2021-08-04T06:36:20.163Z"
   },
   {
    "duration": 16,
    "start_time": "2021-08-04T06:36:20.174Z"
   },
   {
    "duration": 14,
    "start_time": "2021-08-04T06:36:20.193Z"
   },
   {
    "duration": 53,
    "start_time": "2021-08-04T06:36:20.209Z"
   },
   {
    "duration": 14,
    "start_time": "2021-08-04T06:36:20.265Z"
   },
   {
    "duration": 17,
    "start_time": "2021-08-04T06:36:20.282Z"
   },
   {
    "duration": 14,
    "start_time": "2021-08-04T06:36:20.302Z"
   },
   {
    "duration": 18,
    "start_time": "2021-08-04T06:36:54.605Z"
   },
   {
    "duration": 37,
    "start_time": "2021-08-04T06:37:11.814Z"
   },
   {
    "duration": 7,
    "start_time": "2021-08-04T06:38:34.529Z"
   },
   {
    "duration": 34,
    "start_time": "2021-08-04T06:38:40.502Z"
   },
   {
    "duration": 11,
    "start_time": "2021-08-04T09:32:59.922Z"
   },
   {
    "duration": 998,
    "start_time": "2021-08-04T09:33:01.380Z"
   },
   {
    "duration": 494,
    "start_time": "2021-08-04T09:34:18.766Z"
   },
   {
    "duration": 23,
    "start_time": "2021-08-04T09:34:37.034Z"
   },
   {
    "duration": 29,
    "start_time": "2021-08-04T09:35:47.491Z"
   },
   {
    "duration": 28,
    "start_time": "2021-08-04T09:36:10.628Z"
   },
   {
    "duration": 1523,
    "start_time": "2021-08-04T09:37:37.251Z"
   },
   {
    "duration": 74,
    "start_time": "2021-08-04T09:37:38.777Z"
   },
   {
    "duration": 19,
    "start_time": "2021-08-04T09:37:38.853Z"
   },
   {
    "duration": 19,
    "start_time": "2021-08-04T09:37:38.875Z"
   },
   {
    "duration": 24,
    "start_time": "2021-08-04T09:37:38.897Z"
   },
   {
    "duration": 72,
    "start_time": "2021-08-04T09:37:38.925Z"
   },
   {
    "duration": 18,
    "start_time": "2021-08-04T09:37:39.000Z"
   },
   {
    "duration": 71,
    "start_time": "2021-08-04T09:37:39.020Z"
   },
   {
    "duration": 23,
    "start_time": "2021-08-04T09:37:39.093Z"
   },
   {
    "duration": 53,
    "start_time": "2021-08-04T09:37:39.118Z"
   },
   {
    "duration": 33,
    "start_time": "2021-08-04T09:37:39.174Z"
   },
   {
    "duration": 4,
    "start_time": "2021-08-04T09:37:39.209Z"
   },
   {
    "duration": 65,
    "start_time": "2021-08-04T09:37:39.215Z"
   },
   {
    "duration": 15,
    "start_time": "2021-08-04T09:37:39.283Z"
   },
   {
    "duration": 10,
    "start_time": "2021-08-04T09:37:39.301Z"
   },
   {
    "duration": 18,
    "start_time": "2021-08-04T09:37:39.313Z"
   },
   {
    "duration": 48,
    "start_time": "2021-08-04T09:37:39.333Z"
   },
   {
    "duration": 37,
    "start_time": "2021-08-04T09:37:39.386Z"
   },
   {
    "duration": 11,
    "start_time": "2021-08-04T09:37:39.426Z"
   },
   {
    "duration": 17,
    "start_time": "2021-08-04T09:37:39.461Z"
   },
   {
    "duration": 469,
    "start_time": "2021-08-04T09:37:39.481Z"
   },
   {
    "duration": 21,
    "start_time": "2021-08-04T09:37:39.952Z"
   },
   {
    "duration": 19,
    "start_time": "2021-08-04T09:37:39.975Z"
   },
   {
    "duration": 520,
    "start_time": "2021-08-04T09:37:39.997Z"
   },
   {
    "duration": 959,
    "start_time": "2021-08-04T09:37:40.520Z"
   },
   {
    "duration": 49,
    "start_time": "2021-08-04T09:37:41.482Z"
   },
   {
    "duration": 1641,
    "start_time": "2021-08-04T09:37:41.534Z"
   },
   {
    "duration": 22,
    "start_time": "2021-08-04T09:37:43.179Z"
   },
   {
    "duration": 14,
    "start_time": "2021-08-04T09:37:43.204Z"
   },
   {
    "duration": 1332,
    "start_time": "2021-08-04T09:37:43.221Z"
   },
   {
    "duration": 14,
    "start_time": "2021-08-04T09:37:44.561Z"
   },
   {
    "duration": 1075,
    "start_time": "2021-08-04T09:37:44.578Z"
   },
   {
    "duration": 30,
    "start_time": "2021-08-04T09:37:45.663Z"
   },
   {
    "duration": 20,
    "start_time": "2021-08-04T09:37:45.697Z"
   },
   {
    "duration": 45,
    "start_time": "2021-08-04T09:37:45.719Z"
   },
   {
    "duration": 17,
    "start_time": "2021-08-04T09:37:45.767Z"
   },
   {
    "duration": 15,
    "start_time": "2021-08-04T09:37:45.786Z"
   },
   {
    "duration": 16,
    "start_time": "2021-08-04T09:37:45.803Z"
   },
   {
    "duration": 52,
    "start_time": "2021-08-04T09:37:45.821Z"
   },
   {
    "duration": 21,
    "start_time": "2021-08-04T09:37:45.875Z"
   },
   {
    "duration": 15,
    "start_time": "2021-08-04T09:37:45.898Z"
   },
   {
    "duration": 46,
    "start_time": "2021-08-04T09:37:45.916Z"
   },
   {
    "duration": 35,
    "start_time": "2021-08-04T09:37:45.965Z"
   },
   {
    "duration": 21,
    "start_time": "2021-08-04T09:37:46.003Z"
   },
   {
    "duration": 16,
    "start_time": "2021-08-04T09:37:46.027Z"
   },
   {
    "duration": 31,
    "start_time": "2021-08-04T09:37:46.045Z"
   },
   {
    "duration": 27,
    "start_time": "2021-08-04T09:37:46.079Z"
   },
   {
    "duration": 17,
    "start_time": "2021-08-04T09:37:46.110Z"
   },
   {
    "duration": 44,
    "start_time": "2021-08-04T09:37:46.164Z"
   },
   {
    "duration": 1541,
    "start_time": "2021-08-04T09:51:59.621Z"
   },
   {
    "duration": 80,
    "start_time": "2021-08-04T09:52:01.164Z"
   },
   {
    "duration": 18,
    "start_time": "2021-08-04T09:52:01.247Z"
   },
   {
    "duration": 22,
    "start_time": "2021-08-04T09:52:01.268Z"
   },
   {
    "duration": 28,
    "start_time": "2021-08-04T09:52:01.292Z"
   },
   {
    "duration": 54,
    "start_time": "2021-08-04T09:52:01.323Z"
   },
   {
    "duration": 55,
    "start_time": "2021-08-04T09:52:01.379Z"
   },
   {
    "duration": 42,
    "start_time": "2021-08-04T09:52:01.437Z"
   },
   {
    "duration": 32,
    "start_time": "2021-08-04T09:52:01.483Z"
   },
   {
    "duration": 28,
    "start_time": "2021-08-04T09:52:01.518Z"
   },
   {
    "duration": 43,
    "start_time": "2021-08-04T09:52:01.549Z"
   },
   {
    "duration": 16,
    "start_time": "2021-08-04T09:52:01.595Z"
   },
   {
    "duration": 37,
    "start_time": "2021-08-04T09:52:01.614Z"
   },
   {
    "duration": 31,
    "start_time": "2021-08-04T09:52:01.661Z"
   },
   {
    "duration": 20,
    "start_time": "2021-08-04T09:52:01.694Z"
   },
   {
    "duration": 42,
    "start_time": "2021-08-04T09:52:01.717Z"
   },
   {
    "duration": 47,
    "start_time": "2021-08-04T09:52:01.762Z"
   },
   {
    "duration": 68,
    "start_time": "2021-08-04T09:52:01.812Z"
   },
   {
    "duration": 16,
    "start_time": "2021-08-04T09:52:01.883Z"
   },
   {
    "duration": 40,
    "start_time": "2021-08-04T09:52:01.902Z"
   },
   {
    "duration": 398,
    "start_time": "2021-08-04T09:52:01.944Z"
   },
   {
    "duration": 24,
    "start_time": "2021-08-04T09:52:02.344Z"
   },
   {
    "duration": 20,
    "start_time": "2021-08-04T09:52:02.379Z"
   },
   {
    "duration": 523,
    "start_time": "2021-08-04T09:52:02.401Z"
   },
   {
    "duration": 678,
    "start_time": "2021-08-04T09:52:02.927Z"
   },
   {
    "duration": 34,
    "start_time": "2021-08-04T09:52:03.607Z"
   },
   {
    "duration": 1061,
    "start_time": "2021-08-04T09:52:03.663Z"
   },
   {
    "duration": 37,
    "start_time": "2021-08-04T09:52:04.727Z"
   },
   {
    "duration": 11,
    "start_time": "2021-08-04T09:52:04.766Z"
   },
   {
    "duration": 842,
    "start_time": "2021-08-04T09:52:04.780Z"
   },
   {
    "duration": 11,
    "start_time": "2021-08-04T09:52:05.624Z"
   },
   {
    "duration": 796,
    "start_time": "2021-08-04T09:52:05.637Z"
   },
   {
    "duration": 38,
    "start_time": "2021-08-04T09:52:06.436Z"
   },
   {
    "duration": 15,
    "start_time": "2021-08-04T09:52:06.476Z"
   },
   {
    "duration": 18,
    "start_time": "2021-08-04T09:52:06.493Z"
   },
   {
    "duration": 13,
    "start_time": "2021-08-04T09:52:06.514Z"
   },
   {
    "duration": 14,
    "start_time": "2021-08-04T09:52:06.563Z"
   },
   {
    "duration": 27,
    "start_time": "2021-08-04T09:52:06.580Z"
   },
   {
    "duration": 15,
    "start_time": "2021-08-04T09:52:06.609Z"
   },
   {
    "duration": 46,
    "start_time": "2021-08-04T09:52:06.626Z"
   },
   {
    "duration": 15,
    "start_time": "2021-08-04T09:52:06.675Z"
   },
   {
    "duration": 8,
    "start_time": "2021-08-04T09:52:06.692Z"
   },
   {
    "duration": 20,
    "start_time": "2021-08-04T09:52:06.702Z"
   },
   {
    "duration": 52,
    "start_time": "2021-08-04T09:52:06.724Z"
   },
   {
    "duration": 15,
    "start_time": "2021-08-04T09:52:06.778Z"
   },
   {
    "duration": 15,
    "start_time": "2021-08-04T09:52:06.796Z"
   },
   {
    "duration": 57,
    "start_time": "2021-08-04T09:52:06.813Z"
   },
   {
    "duration": 20,
    "start_time": "2021-08-04T09:52:06.872Z"
   },
   {
    "duration": 41,
    "start_time": "2021-08-04T09:52:06.895Z"
   }
  ],
  "hide_input": false,
  "kernelspec": {
   "display_name": "Python 3",
   "language": "python",
   "name": "python3"
  },
  "language_info": {
   "codemirror_mode": {
    "name": "ipython",
    "version": 3
   },
   "file_extension": ".py",
   "mimetype": "text/x-python",
   "name": "python",
   "nbconvert_exporter": "python",
   "pygments_lexer": "ipython3",
   "version": "3.7.4"
  },
  "toc": {
   "base_numbering": 1,
   "nav_menu": {},
   "number_sections": true,
   "sideBar": true,
   "skip_h1_title": true,
   "title_cell": "Table of Contents",
   "title_sidebar": "Contents",
   "toc_cell": false,
   "toc_position": {
    "height": "calc(100% - 180px)",
    "left": "10px",
    "top": "150px",
    "width": "240px"
   },
   "toc_section_display": true,
   "toc_window_display": true
  },
  "varInspector": {
   "cols": {
    "lenName": 16,
    "lenType": 16,
    "lenVar": 40
   },
   "kernels_config": {
    "python": {
     "delete_cmd_postfix": "",
     "delete_cmd_prefix": "del ",
     "library": "var_list.py",
     "varRefreshCmd": "print(var_dic_list())"
    },
    "r": {
     "delete_cmd_postfix": ") ",
     "delete_cmd_prefix": "rm(",
     "library": "var_list.r",
     "varRefreshCmd": "cat(var_dic_list()) "
    }
   },
   "types_to_exclude": [
    "module",
    "function",
    "builtin_function_or_method",
    "instance",
    "_Feature"
   ],
   "window_display": false
  }
 },
 "nbformat": 4,
 "nbformat_minor": 2
}
