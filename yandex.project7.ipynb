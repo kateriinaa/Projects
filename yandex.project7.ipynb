{
 "cells": [
  {
   "cell_type": "markdown",
   "metadata": {
    "toc": true
   },
   "source": [
    "<h1>Table of Contents<span class=\"tocSkip\"></span></h1>\n",
    "<div class=\"toc\"><ul class=\"toc-item\"><li><span><a href=\"#Загрузка-и-подготовка-данных\" data-toc-modified-id=\"Загрузка-и-подготовка-данных-1\"><span class=\"toc-item-num\">1&nbsp;&nbsp;</span>Загрузка и подготовка данных</a></span></li><li><span><a href=\"#Обучение-и-проверка-модели\" data-toc-modified-id=\"Обучение-и-проверка-модели-2\"><span class=\"toc-item-num\">2&nbsp;&nbsp;</span>Обучение и проверка модели</a></span></li><li><span><a href=\"#Подготовка-к-расчёту-прибыли\" data-toc-modified-id=\"Подготовка-к-расчёту-прибыли-3\"><span class=\"toc-item-num\">3&nbsp;&nbsp;</span>Подготовка к расчёту прибыли</a></span></li><li><span><a href=\"#Расчёт-прибыли-и-рисков\" data-toc-modified-id=\"Расчёт-прибыли-и-рисков-4\"><span class=\"toc-item-num\">4&nbsp;&nbsp;</span>Расчёт прибыли и рисков</a></span></li><li><span><a href=\"#Чек-лист-готовности-проекта\" data-toc-modified-id=\"Чек-лист-готовности-проекта-5\"><span class=\"toc-item-num\">5&nbsp;&nbsp;</span>Чек-лист готовности проекта</a></span></li></ul></div>"
   ]
  },
  {
   "cell_type": "markdown",
   "metadata": {},
   "source": [
    "# Выбор локации для скважины"
   ]
  },
  {
   "cell_type": "markdown",
   "metadata": {},
   "source": [
    "Допустим, вы работаете в добывающей компании «ГлавРосГосНефть». Нужно решить, где бурить новую скважину.\n",
    "\n",
    "Вам предоставлены пробы нефти в трёх регионах: в каждом 10 000 месторождений, где измерили качество нефти и объём её запасов. Постройте модель машинного обучения, которая поможет определить регион, где добыча принесёт наибольшую прибыль. Проанализируйте возможную прибыль и риски техникой *Bootstrap.*\n",
    "\n",
    "Шаги для выбора локации:\n",
    "\n",
    "- В избранном регионе ищут месторождения, для каждого определяют значения признаков;\n",
    "- Строят модель и оценивают объём запасов;\n",
    "- Выбирают месторождения с самым высокими оценками значений. Количество месторождений зависит от бюджета компании и стоимости разработки одной скважины;\n",
    "- Прибыль равна суммарной прибыли отобранных месторождений."
   ]
  },
  {
   "cell_type": "markdown",
   "metadata": {},
   "source": [
    "<div class=\"alert alert-block alert-success\">\n",
    "<b>Комментарий ревьюера</b>\n",
    "\n",
    "Введение хорошее.\n",
    "\n",
    "</div>\n",
    "\n",
    "<div class=\"alert alert-block alert-warning\">\n",
    "<b>Комментарий ревьюера</b>\n",
    "\n",
    "Также можно добавить описание данных, с которыми предстоит работа, и оглавление.\n",
    "\n",
    "</div>\n"
   ]
  },
  {
   "cell_type": "markdown",
   "metadata": {},
   "source": [
    "## Загрузка и подготовка данных"
   ]
  },
  {
   "cell_type": "code",
   "execution_count": 1,
   "metadata": {},
   "outputs": [],
   "source": [
    "import pandas as pd\n",
    "import numpy as np\n",
    "import seaborn as sns\n",
    "from sklearn.linear_model import LinearRegression\n",
    "from sklearn.model_selection import train_test_split\n",
    "from sklearn.metrics import mean_squared_error, r2_score\n",
    "from sklearn.model_selection import cross_val_score\n",
    "import matplotlib.pyplot as plt\n",
    "from scipy import stats as st"
   ]
  },
  {
   "cell_type": "code",
   "execution_count": 2,
   "metadata": {},
   "outputs": [
    {
     "name": "stdout",
     "output_type": "stream",
     "text": [
      "<class 'pandas.core.frame.DataFrame'>\n",
      "RangeIndex: 100000 entries, 0 to 99999\n",
      "Data columns (total 5 columns):\n",
      "id         100000 non-null object\n",
      "f0         100000 non-null float64\n",
      "f1         100000 non-null float64\n",
      "f2         100000 non-null float64\n",
      "product    100000 non-null float64\n",
      "dtypes: float64(4), object(1)\n",
      "memory usage: 3.8+ MB\n",
      "<class 'pandas.core.frame.DataFrame'>\n",
      "RangeIndex: 100000 entries, 0 to 99999\n",
      "Data columns (total 5 columns):\n",
      "id         100000 non-null object\n",
      "f0         100000 non-null float64\n",
      "f1         100000 non-null float64\n",
      "f2         100000 non-null float64\n",
      "product    100000 non-null float64\n",
      "dtypes: float64(4), object(1)\n",
      "memory usage: 3.8+ MB\n",
      "<class 'pandas.core.frame.DataFrame'>\n",
      "RangeIndex: 100000 entries, 0 to 99999\n",
      "Data columns (total 5 columns):\n",
      "id         100000 non-null object\n",
      "f0         100000 non-null float64\n",
      "f1         100000 non-null float64\n",
      "f2         100000 non-null float64\n",
      "product    100000 non-null float64\n",
      "dtypes: float64(4), object(1)\n",
      "memory usage: 3.8+ MB\n"
     ]
    }
   ],
   "source": [
    "geo_data_0 = pd.read_csv('/datasets/geo_data_0.csv')\n",
    "geo_data_1 = pd.read_csv('/datasets/geo_data_1.csv')\n",
    "geo_data_2 = pd.read_csv('/datasets/geo_data_2.csv')\n",
    "geo_data_0.info()\n",
    "geo_data_1.info()\n",
    "geo_data_2.info()"
   ]
  },
  {
   "cell_type": "code",
   "execution_count": 3,
   "metadata": {},
   "outputs": [
    {
     "data": {
      "text/html": [
       "<div>\n",
       "<style scoped>\n",
       "    .dataframe tbody tr th:only-of-type {\n",
       "        vertical-align: middle;\n",
       "    }\n",
       "\n",
       "    .dataframe tbody tr th {\n",
       "        vertical-align: top;\n",
       "    }\n",
       "\n",
       "    .dataframe thead th {\n",
       "        text-align: right;\n",
       "    }\n",
       "</style>\n",
       "<table border=\"1\" class=\"dataframe\">\n",
       "  <thead>\n",
       "    <tr style=\"text-align: right;\">\n",
       "      <th></th>\n",
       "      <th>id</th>\n",
       "      <th>f0</th>\n",
       "      <th>f1</th>\n",
       "      <th>f2</th>\n",
       "      <th>product</th>\n",
       "    </tr>\n",
       "  </thead>\n",
       "  <tbody>\n",
       "    <tr>\n",
       "      <td>0</td>\n",
       "      <td>txEyH</td>\n",
       "      <td>0.705745</td>\n",
       "      <td>-0.497823</td>\n",
       "      <td>1.221170</td>\n",
       "      <td>105.280062</td>\n",
       "    </tr>\n",
       "    <tr>\n",
       "      <td>1</td>\n",
       "      <td>2acmU</td>\n",
       "      <td>1.334711</td>\n",
       "      <td>-0.340164</td>\n",
       "      <td>4.365080</td>\n",
       "      <td>73.037750</td>\n",
       "    </tr>\n",
       "    <tr>\n",
       "      <td>2</td>\n",
       "      <td>409Wp</td>\n",
       "      <td>1.022732</td>\n",
       "      <td>0.151990</td>\n",
       "      <td>1.419926</td>\n",
       "      <td>85.265647</td>\n",
       "    </tr>\n",
       "    <tr>\n",
       "      <td>3</td>\n",
       "      <td>iJLyR</td>\n",
       "      <td>-0.032172</td>\n",
       "      <td>0.139033</td>\n",
       "      <td>2.978566</td>\n",
       "      <td>168.620776</td>\n",
       "    </tr>\n",
       "    <tr>\n",
       "      <td>4</td>\n",
       "      <td>Xdl7t</td>\n",
       "      <td>1.988431</td>\n",
       "      <td>0.155413</td>\n",
       "      <td>4.751769</td>\n",
       "      <td>154.036647</td>\n",
       "    </tr>\n",
       "  </tbody>\n",
       "</table>\n",
       "</div>"
      ],
      "text/plain": [
       "      id        f0        f1        f2     product\n",
       "0  txEyH  0.705745 -0.497823  1.221170  105.280062\n",
       "1  2acmU  1.334711 -0.340164  4.365080   73.037750\n",
       "2  409Wp  1.022732  0.151990  1.419926   85.265647\n",
       "3  iJLyR -0.032172  0.139033  2.978566  168.620776\n",
       "4  Xdl7t  1.988431  0.155413  4.751769  154.036647"
      ]
     },
     "execution_count": 3,
     "metadata": {},
     "output_type": "execute_result"
    }
   ],
   "source": [
    "pd.DataFrame(geo_data_0.head())"
   ]
  },
  {
   "cell_type": "code",
   "execution_count": 4,
   "metadata": {},
   "outputs": [
    {
     "data": {
      "text/html": [
       "<div>\n",
       "<style scoped>\n",
       "    .dataframe tbody tr th:only-of-type {\n",
       "        vertical-align: middle;\n",
       "    }\n",
       "\n",
       "    .dataframe tbody tr th {\n",
       "        vertical-align: top;\n",
       "    }\n",
       "\n",
       "    .dataframe thead th {\n",
       "        text-align: right;\n",
       "    }\n",
       "</style>\n",
       "<table border=\"1\" class=\"dataframe\">\n",
       "  <thead>\n",
       "    <tr style=\"text-align: right;\">\n",
       "      <th></th>\n",
       "      <th>id</th>\n",
       "      <th>f0</th>\n",
       "      <th>f1</th>\n",
       "      <th>f2</th>\n",
       "      <th>product</th>\n",
       "    </tr>\n",
       "  </thead>\n",
       "  <tbody>\n",
       "    <tr>\n",
       "      <td>0</td>\n",
       "      <td>kBEdx</td>\n",
       "      <td>-15.001348</td>\n",
       "      <td>-8.276000</td>\n",
       "      <td>-0.005876</td>\n",
       "      <td>3.179103</td>\n",
       "    </tr>\n",
       "    <tr>\n",
       "      <td>1</td>\n",
       "      <td>62mP7</td>\n",
       "      <td>14.272088</td>\n",
       "      <td>-3.475083</td>\n",
       "      <td>0.999183</td>\n",
       "      <td>26.953261</td>\n",
       "    </tr>\n",
       "    <tr>\n",
       "      <td>2</td>\n",
       "      <td>vyE1P</td>\n",
       "      <td>6.263187</td>\n",
       "      <td>-5.948386</td>\n",
       "      <td>5.001160</td>\n",
       "      <td>134.766305</td>\n",
       "    </tr>\n",
       "    <tr>\n",
       "      <td>3</td>\n",
       "      <td>KcrkZ</td>\n",
       "      <td>-13.081196</td>\n",
       "      <td>-11.506057</td>\n",
       "      <td>4.999415</td>\n",
       "      <td>137.945408</td>\n",
       "    </tr>\n",
       "    <tr>\n",
       "      <td>4</td>\n",
       "      <td>AHL4O</td>\n",
       "      <td>12.702195</td>\n",
       "      <td>-8.147433</td>\n",
       "      <td>5.004363</td>\n",
       "      <td>134.766305</td>\n",
       "    </tr>\n",
       "  </tbody>\n",
       "</table>\n",
       "</div>"
      ],
      "text/plain": [
       "      id         f0         f1        f2     product\n",
       "0  kBEdx -15.001348  -8.276000 -0.005876    3.179103\n",
       "1  62mP7  14.272088  -3.475083  0.999183   26.953261\n",
       "2  vyE1P   6.263187  -5.948386  5.001160  134.766305\n",
       "3  KcrkZ -13.081196 -11.506057  4.999415  137.945408\n",
       "4  AHL4O  12.702195  -8.147433  5.004363  134.766305"
      ]
     },
     "execution_count": 4,
     "metadata": {},
     "output_type": "execute_result"
    }
   ],
   "source": [
    "geo_data_1.head()"
   ]
  },
  {
   "cell_type": "code",
   "execution_count": 5,
   "metadata": {},
   "outputs": [
    {
     "data": {
      "text/html": [
       "<div>\n",
       "<style scoped>\n",
       "    .dataframe tbody tr th:only-of-type {\n",
       "        vertical-align: middle;\n",
       "    }\n",
       "\n",
       "    .dataframe tbody tr th {\n",
       "        vertical-align: top;\n",
       "    }\n",
       "\n",
       "    .dataframe thead th {\n",
       "        text-align: right;\n",
       "    }\n",
       "</style>\n",
       "<table border=\"1\" class=\"dataframe\">\n",
       "  <thead>\n",
       "    <tr style=\"text-align: right;\">\n",
       "      <th></th>\n",
       "      <th>id</th>\n",
       "      <th>f0</th>\n",
       "      <th>f1</th>\n",
       "      <th>f2</th>\n",
       "      <th>product</th>\n",
       "    </tr>\n",
       "  </thead>\n",
       "  <tbody>\n",
       "    <tr>\n",
       "      <td>0</td>\n",
       "      <td>fwXo0</td>\n",
       "      <td>-1.146987</td>\n",
       "      <td>0.963328</td>\n",
       "      <td>-0.828965</td>\n",
       "      <td>27.758673</td>\n",
       "    </tr>\n",
       "    <tr>\n",
       "      <td>1</td>\n",
       "      <td>WJtFt</td>\n",
       "      <td>0.262778</td>\n",
       "      <td>0.269839</td>\n",
       "      <td>-2.530187</td>\n",
       "      <td>56.069697</td>\n",
       "    </tr>\n",
       "    <tr>\n",
       "      <td>2</td>\n",
       "      <td>ovLUW</td>\n",
       "      <td>0.194587</td>\n",
       "      <td>0.289035</td>\n",
       "      <td>-5.586433</td>\n",
       "      <td>62.871910</td>\n",
       "    </tr>\n",
       "    <tr>\n",
       "      <td>3</td>\n",
       "      <td>q6cA6</td>\n",
       "      <td>2.236060</td>\n",
       "      <td>-0.553760</td>\n",
       "      <td>0.930038</td>\n",
       "      <td>114.572842</td>\n",
       "    </tr>\n",
       "    <tr>\n",
       "      <td>4</td>\n",
       "      <td>WPMUX</td>\n",
       "      <td>-0.515993</td>\n",
       "      <td>1.716266</td>\n",
       "      <td>5.899011</td>\n",
       "      <td>149.600746</td>\n",
       "    </tr>\n",
       "  </tbody>\n",
       "</table>\n",
       "</div>"
      ],
      "text/plain": [
       "      id        f0        f1        f2     product\n",
       "0  fwXo0 -1.146987  0.963328 -0.828965   27.758673\n",
       "1  WJtFt  0.262778  0.269839 -2.530187   56.069697\n",
       "2  ovLUW  0.194587  0.289035 -5.586433   62.871910\n",
       "3  q6cA6  2.236060 -0.553760  0.930038  114.572842\n",
       "4  WPMUX -0.515993  1.716266  5.899011  149.600746"
      ]
     },
     "execution_count": 5,
     "metadata": {},
     "output_type": "execute_result"
    }
   ],
   "source": [
    "geo_data_2.head()"
   ]
  },
  {
   "cell_type": "code",
   "execution_count": 6,
   "metadata": {},
   "outputs": [
    {
     "data": {
      "text/plain": [
       "<matplotlib.axes._subplots.AxesSubplot at 0x7fb15d77b2d0>"
      ]
     },
     "execution_count": 6,
     "metadata": {},
     "output_type": "execute_result"
    },
    {
     "data": {
      "image/png": "[encoded data removed]",
      "text/plain": [
       "<Figure size 216x216 with 1 Axes>"
      ]
     },
     "metadata": {
      "needs_background": "light"
     },
     "output_type": "display_data"
    }
   ],
   "source": [
    "geo_data_0.boxplot( figsize = (3,3))"
   ]
  },
  {
   "cell_type": "code",
   "execution_count": 7,
   "metadata": {},
   "outputs": [
    {
     "data": {
      "text/plain": [
       "<matplotlib.axes._subplots.AxesSubplot at 0x7fb15d686690>"
      ]
     },
     "execution_count": 7,
     "metadata": {},
     "output_type": "execute_result"
    },
    {
     "data": {
      "image/png": "[encoded data removed]",
      "text/plain": [
       "<Figure size 216x216 with 1 Axes>"
      ]
     },
     "metadata": {
      "needs_background": "light"
     },
     "output_type": "display_data"
    }
   ],
   "source": [
    "geo_data_1.boxplot( figsize = (3, 3))"
   ]
  },
  {
   "cell_type": "code",
   "execution_count": 8,
   "metadata": {},
   "outputs": [
    {
     "data": {
      "text/plain": [
       "<matplotlib.axes._subplots.AxesSubplot at 0x7fb15d5c0b50>"
      ]
     },
     "execution_count": 8,
     "metadata": {},
     "output_type": "execute_result"
    },
    {
     "data": {
      "image/png": "[encoded data removed]",
      "text/plain": [
       "<Figure size 216x216 with 1 Axes>"
      ]
     },
     "metadata": {
      "needs_background": "light"
     },
     "output_type": "display_data"
    }
   ],
   "source": [
    "geo_data_2.boxplot( figsize = (3, 3))"
   ]
  },
  {
   "cell_type": "code",
   "execution_count": 9,
   "metadata": {},
   "outputs": [
    {
     "name": "stdout",
     "output_type": "stream",
     "text": [
      "Duplicated in 0 region: 0\n",
      "Duplicated in 1 region: 0\n",
      "Duplicated in 2 region: 0\n"
     ]
    }
   ],
   "source": [
    "print('Duplicated in 0 region:', geo_data_0.duplicated(keep = False).sum())\n",
    "print('Duplicated in 1 region:', geo_data_1.duplicated(keep = False).sum())\n",
    "print('Duplicated in 2 region:', geo_data_2.duplicated(keep = False).sum())"
   ]
  },
  {
   "cell_type": "markdown",
   "metadata": {},
   "source": [
    "**Вывод 1**\n",
    "\n",
    "- Данные импортированы и изучены\n",
    "- Дубликатов нет\n",
    "- В нулевом регионе наблюдаются выбросы по значениям по f2\n",
    "- В первом регионе наблюдаются выбросы по значениям по f1\n",
    "- Во втором регионе наблюдаются выбросы по f0, f1, f2"
   ]
  },
  {
   "cell_type": "markdown",
   "metadata": {},
   "source": [
    "<div class=\"alert alert-block alert-success\">\n",
    "<b>Комментарий ревьюера</b> \n",
    "    \n",
    "Хорошо, данные загружены.\n",
    "\n",
    "</div>"
   ]
  },
  {
   "cell_type": "markdown",
   "metadata": {},
   "source": [
    "<div class=\"alert alert-block alert-warning\">\n",
    "<b>Комментарий ревьюера</b> \n",
    "    \n",
    "Также было бы здорово вывести head таблиц для визуального ознакомления. Также можно провести анализ, посмотреть на распределения, есть ли аномальные значения, проверить на дубликаты.\n",
    "\n",
    "</div>"
   ]
  },
  {
   "cell_type": "markdown",
   "metadata": {},
   "source": [
    "<div class=\"alert alert-block alert-success\">\n",
    "<b>Комментарий ревьюера (v2)</b> \n",
    "    \n",
    "Отличное дополнение!\n",
    "\n",
    "</div>"
   ]
  },
  {
   "cell_type": "markdown",
   "metadata": {},
   "source": [
    "## Обучение и проверка модели"
   ]
  },
  {
   "cell_type": "code",
   "execution_count": 10,
   "metadata": {},
   "outputs": [],
   "source": [
    "def modeling(data):\n",
    "    \n",
    "    features = data.drop(['product', 'id'], axis = 1)\n",
    "    target = data['product']\n",
    "    \n",
    "    features_train, features_valid, target_train, target_valid = train_test_split(\n",
    "        features, target, test_size=0.25, random_state=12345) \n",
    "    \n",
    "    model = LinearRegression()\n",
    "    model.fit(features_train, target_train)\n",
    "    predict = model.predict(features_valid)\n",
    "    mse = mean_squared_error(target_valid, predict)\n",
    "    rmse = mse**0.5\n",
    "    r2 = r2_score(target_valid, predict)\n",
    "    mean = data['product'].mean()\n",
    "    mean_predict = predict.mean()\n",
    "    \n",
    "    #cross validation\n",
    "    model = LinearRegression()\n",
    "    scores = cross_val_score(model, features, target, cv = 5)\n",
    "    final_score = scores.sum() / len(scores)\n",
    "\n",
    "    print(' cross valid ', final_score.round(4))\n",
    "\n",
    "    print(' MSE         ', mse.round(3), '\\n', \n",
    "          'RMSE        ',rmse.round(3), '\\n', \n",
    "          'R2          ', r2.round(3), '\\n', \n",
    "          'Mean        ', mean.round(2),'\\n',\n",
    "          'Mean predict', mean_predict.round(2))\n",
    "    print()\n",
    "    return predict, target_valid"
   ]
  },
  {
   "cell_type": "code",
   "execution_count": 11,
   "metadata": {},
   "outputs": [
    {
     "name": "stdout",
     "output_type": "stream",
     "text": [
      " cross valid  0.2755\n",
      " MSE          1412.213 \n",
      " RMSE         37.579 \n",
      " R2           0.28 \n",
      " Mean         92.5 \n",
      " Mean predict 92.59\n",
      "\n",
      " cross valid  0.9996\n",
      " MSE          0.798 \n",
      " RMSE         0.893 \n",
      " R2           1.0 \n",
      " Mean         68.83 \n",
      " Mean predict 68.73\n",
      "\n",
      " cross valid  0.1987\n",
      " MSE          1602.378 \n",
      " RMSE         40.03 \n",
      " R2           0.205 \n",
      " Mean         95.0 \n",
      " Mean predict 94.97\n",
      "\n"
     ]
    }
   ],
   "source": [
    "predict_0, target_valid_0 = modeling(geo_data_0)\n",
    "predict_1, target_valid_1  = modeling(geo_data_1)\n",
    "predict_2, target_valid_2 = modeling(geo_data_2)"
   ]
  },
  {
   "cell_type": "code",
   "execution_count": 12,
   "metadata": {},
   "outputs": [
    {
     "data": {
      "text/plain": [
       "Text(0.5, 1.0, 'Распределение скважин в зависимости от объема запасов')"
      ]
     },
     "execution_count": 12,
     "metadata": {},
     "output_type": "execute_result"
    },
    {
     "data": {
      "image/png": "[encoded data removed]",
      "text/plain": [
       "<Figure size 432x288 with 1 Axes>"
      ]
     },
     "metadata": {
      "needs_background": "light"
     },
     "output_type": "display_data"
    }
   ],
   "source": [
    "plt.hist(geo_data_0['product'], alpha = 0.3)\n",
    "plt.hist(geo_data_1['product'], alpha = 0.3)\n",
    "plt.hist(geo_data_2['product'], alpha = 0.3)\n",
    "plt.legend(['0','1','2'])\n",
    "plt.ylabel('количество скважин')\n",
    "plt.xlabel('объём запасов в скважине (тыс. баррелей)')\n",
    "plt.title('Распределение скважин в зависимости от объема запасов')"
   ]
  },
  {
   "cell_type": "markdown",
   "metadata": {},
   "source": [
    "<div class=\"alert alert-block alert-success\">\n",
    "<b>Комментарий ревьюера</b> \n",
    "    \n",
    "Здорово, что визуализируешь результаты.\n",
    "\n",
    "</div>"
   ]
  },
  {
   "cell_type": "markdown",
   "metadata": {},
   "source": [
    "**Вывод 2**\n",
    "\n",
    "- Создана функция, в которой:\n",
    "   - данные делятся на обучающуюся и валидационную выборку\n",
    "   - обучается модель линейной регрессии\n",
    "   - модель оценивается с помощью кросс валидации\n",
    "- Наиболее качественные показатели (cross valid, R2, RMSE) у первого региона (geo_data_1),  хотя в 0 и во 2 регионах добывают в среднем больше баррелей\n",
    "- По гистограмме распределения скважин видно, что в первом регионе есть большое количество скважин с минимальным запасом, но в том же время присутствует большое количество скважин и с большими запасами\n",
    "- Объем запасов в 0 и во 2 регионе распределены нормально"
   ]
  },
  {
   "cell_type": "markdown",
   "metadata": {},
   "source": [
    "<div class=\"alert alert-block alert-success\">\n",
    "<b>Комментарий ревьюера</b>\n",
    "\n",
    "Модели обучены корректно. Результаты также верны.\n",
    "\n",
    "</div>"
   ]
  },
  {
   "cell_type": "markdown",
   "metadata": {},
   "source": [
    "## Подготовка к расчёту прибыли"
   ]
  },
  {
   "cell_type": "code",
   "execution_count": 13,
   "metadata": {},
   "outputs": [],
   "source": [
    "PLACE = 500\n",
    "BEST_PLACE = 200\n",
    "BUDGET = 10_000_000_000\n",
    "BARREL = 450\n",
    "barrel1000 = 450000"
   ]
  },
  {
   "cell_type": "markdown",
   "metadata": {},
   "source": [
    "<div class=\"alert alert-block alert-warning\">\n",
    "<b>Комментарий ревьюера</b>\n",
    "\n",
    "Имена констант среди программистов принято писать заглавными буквами. Также можно использовать `_` как разделитель для длинных чисел:\n",
    "    \n",
    ">`BUDGET = 10_000_000_000`\n",
    "\n",
    "</div>\n",
    "\n"
   ]
  },
  {
   "cell_type": "markdown",
   "metadata": {},
   "source": [
    "<div class=\"alert alert-block alert-success\">\n",
    "<b>Комментарий ревьюера (v2)</b> \n",
    "    \n",
    "\n",
    "👍\n",
    "</div>"
   ]
  },
  {
   "cell_type": "code",
   "execution_count": 14,
   "metadata": {},
   "outputs": [
    {
     "name": "stdout",
     "output_type": "stream",
     "text": [
      "111 баррелей\n"
     ]
    }
   ],
   "source": [
    "V = int(BUDGET/BEST_PLACE/ barrel1000)\n",
    "print(V, 'баррелей')"
   ]
  },
  {
   "cell_type": "markdown",
   "metadata": {},
   "source": [
    "**Вывод 3**\n",
    "\n",
    "- Достаточный объем для безубыточной разработки новой скважины = 111 баррелям\n",
    "- Этот показатель выше, чем средний запас в каждом регионе, но для расчета безубыточной разработки были взяты 200 лучших скважин"
   ]
  },
  {
   "cell_type": "markdown",
   "metadata": {},
   "source": [
    "<div class=\"alert alert-block alert-success\">\n",
    "<b>Комментарий ревьюера</b>\n",
    "\n",
    "Порог, при котором разработка будет безубыточной, определен верно.\n",
    "\n",
    "</div>\n"
   ]
  },
  {
   "cell_type": "markdown",
   "metadata": {},
   "source": [
    "## Расчёт прибыли и рисков "
   ]
  },
  {
   "cell_type": "code",
   "execution_count": 15,
   "metadata": {},
   "outputs": [],
   "source": [
    "def revenue(target, probabilities, count):\n",
    "    probs_sorted = probabilities.sort_values(ascending=False) \n",
    "    selected = target[probs_sorted.index][:count] \n",
    "    \n",
    "    return  barrel1000* selected.sum() - BUDGET\n",
    "\n",
    "state = np.random.RandomState(12345)"
   ]
  },
  {
   "cell_type": "markdown",
   "metadata": {},
   "source": [
    "<div class=\"alert alert-block alert-danger\">\n",
    "<b>Комментарий ревьюера</b>\n",
    "\n",
    "<s>Пожалуйста, обрати внимание, что нам нужно рассчитать прибыль, а не выручку (то есть еще нужно вычесть бюджет).\n",
    "\n",
    "</div>\n"
   ]
  },
  {
   "cell_type": "markdown",
   "metadata": {},
   "source": [
    "<div class=\"alert alert-block alert-success\">\n",
    "<b>Комментарий ревьюера (v2)</b> \n",
    "    \n",
    "Теперь все корректно!\n",
    "\n",
    "</div>"
   ]
  },
  {
   "cell_type": "code",
   "execution_count": 16,
   "metadata": {},
   "outputs": [],
   "source": [
    "def profitandrisk(target, probabilities):\n",
    "    \n",
    "    values = []\n",
    "    \n",
    "    #bootstrap\n",
    "    for i in range(1000):\n",
    "        target.reset_index(drop = True, inplace = True)\n",
    "        target_subsample = target.sample(500,  replace = True,\n",
    "                                         random_state = state)\n",
    "        probabilities = pd.Series(probabilities)\n",
    "\n",
    "        probs_subsample = probabilities[target_subsample.index] \n",
    "        values.append(revenue(target_subsample,probs_subsample,200))\n",
    "    values = pd.Series(values)\n",
    "    \n",
    "    #histogram\n",
    "    plt.hist(values, bins = 50,  color = \"orange\", alpha = 0.3)\n",
    "    plt.xticks(rotation=45)\n",
    "    plt.xlabel('Прибыль')\n",
    "    plt.title(\"Распределение прибыли\")\n",
    "    \n",
    "    plt.axvline(0, color=\"green\", linestyle=\"dotted\", lw = 1.5)\n",
    "    plt.axvline(values.quantile(0.025), color=\"red\", linestyle=\"dotted\", lw = 1.5)\n",
    "    plt.axvline(values.quantile(0.975), color=\"red\", linestyle=\"dotted\", lw = 1.5)\n",
    "    plt.axvline(values.mean(), color=\"red\", linestyle=\"-\", lw = 0.4)\n",
    "    \n",
    "    high = values.quantile(0.975)\n",
    "    lower = values.quantile(0.025)\n",
    "    mean = values.mean()\n",
    "    \n",
    "    #confidence interval\n",
    "#     confidence_interval = st.t.interval(0.95, \n",
    "#                                         len(values) - 1, \n",
    "#                                         values.mean(), \n",
    "#                                         values.sem())\n",
    "    \n",
    "    risk = values[values<0].count()/1000\n",
    " \n",
    "    print(' средняя прибыль        ', '{0:,}'.format(mean.round()).replace(',', ' '),'\\n', \n",
    "         'нижняя граница 2.5%    ','{0:,}'.format(lower.round()).replace(',', ' '), '\\n',\n",
    "         'верхняя граница 97.5%  ','{0:,}'.format(high.round()).replace(',', ' '), '\\n' , \n",
    "         'риск                   ',  risk*100)"
   ]
  },
  {
   "cell_type": "markdown",
   "metadata": {},
   "source": [
    "<div class=\"alert alert-block alert-danger\">\n",
    "<b>Комментарий ревьюера</b>\n",
    "\n",
    "<s>Также обрати внимание, что в данном случае не совсем корректно находить 95% доверительный интервал с помощью метода stats.t.interval, так как он ориентируется на среднюю прибыль и другие характеристики и моделирует распределение Стьюдента по ним. У нас же есть фактические данные. Поэтому правильно будет найти 95% дов. интервал с помощью квантилей - 0,025 и 0,975.\n",
    "\n",
    "</div>\n"
   ]
  },
  {
   "cell_type": "markdown",
   "metadata": {},
   "source": [
    "<div class=\"alert alert-block alert-success\">\n",
    "<b>Комментарий ревьюера (v2)</b> \n",
    "    \n",
    "👍\n",
    "\n",
    "</div>"
   ]
  },
  {
   "cell_type": "markdown",
   "metadata": {},
   "source": [
    "<div class=\"alert alert-block alert-warning\">\n",
    "<b>Комментарий ревьюера</b>\n",
    "\n",
    "Также для расчета рисков можно использовать такой метод `stats.percentileofscore(values, 0)`, достаточно удобно.\n",
    "\n",
    "</div>\n"
   ]
  },
  {
   "cell_type": "code",
   "execution_count": 17,
   "metadata": {},
   "outputs": [
    {
     "name": "stdout",
     "output_type": "stream",
     "text": [
      " средняя прибыль         425 938 527.0 \n",
      " нижняя граница 2.5%     -102 090 095.0 \n",
      " верхняя граница 97.5%   947 976 353.0 \n",
      " риск                    6.0\n"
     ]
    },
    {
     "data": {
      "image/png": "[encoded data removed]",
      "text/plain": [
       "<Figure size 432x288 with 1 Axes>"
      ]
     },
     "metadata": {
      "needs_background": "light"
     },
     "output_type": "display_data"
    }
   ],
   "source": [
    "profitandrisk(target_valid_0, predict_0)"
   ]
  },
  {
   "cell_type": "code",
   "execution_count": 18,
   "metadata": {},
   "outputs": [
    {
     "name": "stdout",
     "output_type": "stream",
     "text": [
      " средняя прибыль         518 259 494.0 \n",
      " нижняя граница 2.5%     128 123 231.0 \n",
      " верхняя граница 97.5%   953 612 982.0 \n",
      " риск                    0.3\n"
     ]
    },
    {
     "data": {
      "image/png": "[encoded data removed]",
      "text/plain": [
       "<Figure size 432x288 with 1 Axes>"
      ]
     },
     "metadata": {
      "needs_background": "light"
     },
     "output_type": "display_data"
    }
   ],
   "source": [
    "profitandrisk(target_valid_1, predict_1)"
   ]
  },
  {
   "cell_type": "code",
   "execution_count": 19,
   "metadata": {},
   "outputs": [
    {
     "name": "stdout",
     "output_type": "stream",
     "text": [
      " средняя прибыль         420 194 005.0 \n",
      " нижняя граница 2.5%     -115 852 609.0 \n",
      " верхняя граница 97.5%   989 629 940.0 \n",
      " риск                    6.2\n"
     ]
    },
    {
     "data": {
      "image/png": "[encoded data removed]",
      "text/plain": [
       "<Figure size 432x288 with 1 Axes>"
      ]
     },
     "metadata": {
      "needs_background": "light"
     },
     "output_type": "display_data"
    }
   ],
   "source": [
    "profitandrisk(target_valid_2, predict_2)"
   ]
  },
  {
   "cell_type": "markdown",
   "metadata": {},
   "source": [
    "<div class=\"alert alert-block alert-success\">\n",
    "<b>Комментарий ревьюера</b> \n",
    "    \n",
    "Бутстрап проведен корректно! Риски тоже найдены верно. Здорово, что вывела результаты в виде картинок.\n",
    "\n",
    "</div>"
   ]
  },
  {
   "cell_type": "markdown",
   "metadata": {},
   "source": [
    "**Вывод 4**\n",
    "\n",
    "- Создана функция, в которой:\n",
    "   - считается прибыль\n",
    "\n",
    "- Создана функция, в которой:\n",
    "   - использован bootstrap, confidence interval\n",
    "   - подсчитывается средняя прибыль, нижняя граница, верхняя граница, риск\n",
    "   - строится гистограмма распределения прибыли\n",
    "   - линии в гистограмме: красные - нижняя и верхняя границы, средняя прибыль; зеленая - 0\n",
    "\n",
    "- Наиболее подходящим для разработки является первый регион, так как там ниже риск (менее 1%) получить убыток, нижняя граница прибыли (в 2.5%) проходит на 128 123 231 рублей.  "
   ]
  },
  {
   "cell_type": "markdown",
   "metadata": {},
   "source": [
    "<div class=\"alert alert-block alert-success\">\n",
    "<b>Комментарий ревьюера</b>\n",
    "\n",
    "С выбором региона согласен. Хороший, цельный проект с понятным кодом и грамотными выводами, молодец.\n",
    "\n",
    "</div>\n"
   ]
  },
  {
   "cell_type": "markdown",
   "metadata": {},
   "source": [
    "## Чек-лист готовности проекта"
   ]
  },
  {
   "cell_type": "markdown",
   "metadata": {},
   "source": [
    "Поставьте 'x' в выполненных пунктах. Далее нажмите Shift+Enter."
   ]
  },
  {
   "cell_type": "markdown",
   "metadata": {},
   "source": [
    "- [x]  Jupyter Notebook открыт\n",
    "- [x]  Весь код выполняется без ошибок\n",
    "- [x]  Ячейки с кодом расположены в порядке исполнения\n",
    "- [x]  Выполнен шаг 1: данные подготовлены\n",
    "- [x]  Выполнен шаг 2: модели обучены и проверены\n",
    "    - [x]  Данные корректно разбиты на обучающую и валидационную выборки\n",
    "    - [x]  Модели обучены, предсказания сделаны\n",
    "    - [x]  Предсказания и правильные ответы на валидационной выборке сохранены\n",
    "    - [x]  На экране напечатаны результаты\n",
    "    - [x]  Сделаны выводы\n",
    "- [x]  Выполнен шаг 3: проведена подготовка к расчёту прибыли\n",
    "    - [x]  Для всех ключевых значений созданы константы Python\n",
    "    - [x]  Посчитано минимальное среднее количество продукта в месторождениях региона, достаточное для разработки\n",
    "    - [x]  По предыдущему пункту сделаны выводы\n",
    "    - [x]  Написана функция расчёта прибыли\n",
    "- [x]  Выполнен шаг 4: посчитаны риски и прибыль\n",
    "    - [x]  Проведена процедура *Bootstrap*\n",
    "    - [x]  Все параметры бутстрепа соответствуют условию\n",
    "    - [x]  Найдены все нужные величины\n",
    "    - [x]  Предложен регион для разработки месторождения\n",
    "    - [x]  Выбор региона обоснован"
   ]
  },
  {
   "cell_type": "markdown",
   "metadata": {},
   "source": [
    "<div class=\"alert alert-info\"> <b>Комментарий студента:</b> добавила оглавление, вывела данные, посмотрела на выбросы и есть ли дубликаты; большими буквами написала константы; посчитала именно прибыль, убрала вычисление доверительного интервала через st.t.interval</div>"
   ]
  }
 ],
 "metadata": {
  "ExecuteTimeLog": [
   {
    "duration": 307,
    "start_time": "2021-09-15T12:29:07.930Z"
   },
   {
    "duration": 739,
    "start_time": "2021-09-15T12:29:11.055Z"
   },
   {
    "duration": 504,
    "start_time": "2021-09-15T12:29:11.797Z"
   },
   {
    "duration": 482,
    "start_time": "2021-09-15T12:29:45.151Z"
   },
   {
    "duration": 500,
    "start_time": "2021-09-15T12:30:00.768Z"
   },
   {
    "duration": 737,
    "start_time": "2021-09-15T12:31:16.955Z"
   },
   {
    "duration": 483,
    "start_time": "2021-09-15T12:31:21.367Z"
   },
   {
    "duration": 27,
    "start_time": "2021-09-15T12:57:34.413Z"
   },
   {
    "duration": 1261,
    "start_time": "2021-09-15T16:39:55.203Z"
   },
   {
    "duration": 5,
    "start_time": "2021-09-15T16:43:08.230Z"
   },
   {
    "duration": 490,
    "start_time": "2021-09-15T16:43:08.238Z"
   },
   {
    "duration": 5,
    "start_time": "2021-09-15T16:43:08.730Z"
   },
   {
    "duration": 1903,
    "start_time": "2021-09-15T16:43:08.738Z"
   },
   {
    "duration": -38,
    "start_time": "2021-09-15T16:43:10.682Z"
   },
   {
    "duration": 795,
    "start_time": "2021-09-15T16:43:18.680Z"
   },
   {
    "duration": 7,
    "start_time": "2021-09-15T16:43:37.382Z"
   },
   {
    "duration": 647,
    "start_time": "2021-09-15T16:43:37.916Z"
   },
   {
    "duration": 3,
    "start_time": "2021-09-15T16:44:05.618Z"
   },
   {
    "duration": 477,
    "start_time": "2021-09-15T16:44:05.898Z"
   },
   {
    "duration": 12,
    "start_time": "2021-09-15T16:44:06.478Z"
   },
   {
    "duration": 662,
    "start_time": "2021-09-15T16:44:07.104Z"
   },
   {
    "duration": 4,
    "start_time": "2021-09-15T16:45:56.273Z"
   },
   {
    "duration": 474,
    "start_time": "2021-09-15T16:45:57.257Z"
   },
   {
    "duration": 6,
    "start_time": "2021-09-15T16:45:57.921Z"
   },
   {
    "duration": 677,
    "start_time": "2021-09-15T16:45:58.090Z"
   },
   {
    "duration": 5,
    "start_time": "2021-09-15T16:46:55.266Z"
   },
   {
    "duration": 188,
    "start_time": "2021-09-15T16:46:56.968Z"
   },
   {
    "duration": 5,
    "start_time": "2021-09-15T16:47:17.462Z"
   },
   {
    "duration": 30,
    "start_time": "2021-09-15T16:47:17.657Z"
   },
   {
    "duration": 6,
    "start_time": "2021-09-15T16:47:25.393Z"
   },
   {
    "duration": 118,
    "start_time": "2021-09-15T16:47:27.037Z"
   },
   {
    "duration": 1071,
    "start_time": "2021-09-15T16:48:03.309Z"
   },
   {
    "duration": -33,
    "start_time": "2021-09-15T16:48:04.415Z"
   },
   {
    "duration": 6,
    "start_time": "2021-09-15T16:48:18.898Z"
   },
   {
    "duration": 30,
    "start_time": "2021-09-15T16:48:20.488Z"
   },
   {
    "duration": 142,
    "start_time": "2021-09-15T16:49:11.838Z"
   },
   {
    "duration": 27,
    "start_time": "2021-09-15T16:49:12.702Z"
   },
   {
    "duration": 6,
    "start_time": "2021-09-15T16:49:21.795Z"
   },
   {
    "duration": 30,
    "start_time": "2021-09-15T16:49:23.963Z"
   },
   {
    "duration": 6,
    "start_time": "2021-09-15T16:49:53.172Z"
   },
   {
    "duration": 115,
    "start_time": "2021-09-15T16:49:53.442Z"
   },
   {
    "duration": 6,
    "start_time": "2021-09-15T16:50:23.752Z"
   },
   {
    "duration": 119,
    "start_time": "2021-09-15T16:50:24.436Z"
   },
   {
    "duration": 6,
    "start_time": "2021-09-15T16:50:43.268Z"
   },
   {
    "duration": 73,
    "start_time": "2021-09-15T16:50:43.483Z"
   },
   {
    "duration": 376,
    "start_time": "2021-09-15T16:51:20.290Z"
   },
   {
    "duration": 6,
    "start_time": "2021-09-15T16:51:31.260Z"
   },
   {
    "duration": 402,
    "start_time": "2021-09-15T16:51:31.764Z"
   },
   {
    "duration": 14,
    "start_time": "2021-09-15T16:53:52.952Z"
   },
   {
    "duration": 8,
    "start_time": "2021-09-15T16:54:06.142Z"
   },
   {
    "duration": 6,
    "start_time": "2021-09-15T16:54:31.458Z"
   },
   {
    "duration": 444,
    "start_time": "2021-09-15T16:54:31.724Z"
   },
   {
    "duration": 7,
    "start_time": "2021-09-15T16:54:40.602Z"
   },
   {
    "duration": 459,
    "start_time": "2021-09-15T16:54:40.613Z"
   },
   {
    "duration": 6,
    "start_time": "2021-09-15T16:54:45.650Z"
   },
   {
    "duration": 441,
    "start_time": "2021-09-15T16:54:45.828Z"
   },
   {
    "duration": 6,
    "start_time": "2021-09-15T16:54:50.749Z"
   },
   {
    "duration": 406,
    "start_time": "2021-09-15T16:54:51.267Z"
   },
   {
    "duration": 7,
    "start_time": "2021-09-15T16:54:54.992Z"
   },
   {
    "duration": 377,
    "start_time": "2021-09-15T16:54:55.282Z"
   },
   {
    "duration": 4,
    "start_time": "2021-09-15T16:57:21.167Z"
   },
   {
    "duration": 4,
    "start_time": "2021-09-15T17:00:03.328Z"
   },
   {
    "duration": 6,
    "start_time": "2021-09-15T17:01:12.398Z"
   },
   {
    "duration": 373,
    "start_time": "2021-09-15T17:01:12.592Z"
   },
   {
    "duration": 7,
    "start_time": "2021-09-15T17:01:28.459Z"
   },
   {
    "duration": 443,
    "start_time": "2021-09-15T17:01:28.625Z"
   },
   {
    "duration": 6,
    "start_time": "2021-09-15T17:01:37.045Z"
   },
   {
    "duration": 399,
    "start_time": "2021-09-15T17:01:37.269Z"
   },
   {
    "duration": 6,
    "start_time": "2021-09-15T17:01:50.991Z"
   },
   {
    "duration": 435,
    "start_time": "2021-09-15T17:01:51.333Z"
   },
   {
    "duration": 4,
    "start_time": "2021-09-15T17:02:17.025Z"
   },
   {
    "duration": 5,
    "start_time": "2021-09-15T17:11:45.810Z"
   },
   {
    "duration": 5,
    "start_time": "2021-09-15T17:16:54.442Z"
   },
   {
    "duration": 478,
    "start_time": "2021-09-15T17:16:55.858Z"
   },
   {
    "duration": 8,
    "start_time": "2021-09-15T17:16:56.850Z"
   },
   {
    "duration": 2869,
    "start_time": "2021-09-15T17:16:57.686Z"
   },
   {
    "duration": 7,
    "start_time": "2021-09-15T17:17:48.246Z"
   },
   {
    "duration": 2807,
    "start_time": "2021-09-15T17:17:48.458Z"
   },
   {
    "duration": 9,
    "start_time": "2021-09-15T17:18:00.043Z"
   },
   {
    "duration": 2682,
    "start_time": "2021-09-15T17:18:00.183Z"
   },
   {
    "duration": 7,
    "start_time": "2021-09-15T17:20:43.526Z"
   },
   {
    "duration": 11,
    "start_time": "2021-09-15T17:21:31.138Z"
   },
   {
    "duration": 10,
    "start_time": "2021-09-15T17:21:49.245Z"
   },
   {
    "duration": 9,
    "start_time": "2021-09-15T17:21:54.486Z"
   },
   {
    "duration": 315,
    "start_time": "2021-09-15T17:22:02.853Z"
   },
   {
    "duration": 8,
    "start_time": "2021-09-15T17:22:22.283Z"
   },
   {
    "duration": 10,
    "start_time": "2021-09-15T17:22:40.097Z"
   },
   {
    "duration": 4,
    "start_time": "2021-09-15T17:24:12.855Z"
   },
   {
    "duration": 9,
    "start_time": "2021-09-15T17:24:13.351Z"
   },
   {
    "duration": 8,
    "start_time": "2021-09-15T17:31:34.564Z"
   },
   {
    "duration": 2783,
    "start_time": "2021-09-15T17:31:34.575Z"
   },
   {
    "duration": 9,
    "start_time": "2021-09-15T17:32:10.699Z"
   },
   {
    "duration": 2763,
    "start_time": "2021-09-15T17:32:13.894Z"
   },
   {
    "duration": 8,
    "start_time": "2021-09-15T17:32:32.947Z"
   },
   {
    "duration": 2736,
    "start_time": "2021-09-15T17:32:33.122Z"
   },
   {
    "duration": 8,
    "start_time": "2021-09-15T17:32:39.440Z"
   },
   {
    "duration": 2815,
    "start_time": "2021-09-15T17:32:40.142Z"
   },
   {
    "duration": 9,
    "start_time": "2021-09-15T17:32:46.775Z"
   },
   {
    "duration": 2592,
    "start_time": "2021-09-15T17:32:46.966Z"
   },
   {
    "duration": 185,
    "start_time": "2021-09-15T17:33:47.500Z"
   },
   {
    "duration": 367,
    "start_time": "2021-09-15T17:34:01.470Z"
   },
   {
    "duration": 326,
    "start_time": "2021-09-15T17:34:53.650Z"
   },
   {
    "duration": 352,
    "start_time": "2021-09-15T17:34:58.842Z"
   },
   {
    "duration": 4,
    "start_time": "2021-09-15T17:35:12.126Z"
   },
   {
    "duration": 347,
    "start_time": "2021-09-15T17:35:17.022Z"
   },
   {
    "duration": 1490,
    "start_time": "2021-09-15T17:35:33.060Z"
   },
   {
    "duration": 302,
    "start_time": "2021-09-15T17:36:00.612Z"
   },
   {
    "duration": 361,
    "start_time": "2021-09-15T17:36:14.534Z"
   },
   {
    "duration": 362,
    "start_time": "2021-09-15T17:36:27.550Z"
   },
   {
    "duration": 346,
    "start_time": "2021-09-15T17:36:35.894Z"
   },
   {
    "duration": 437,
    "start_time": "2021-09-15T17:36:45.522Z"
   },
   {
    "duration": 363,
    "start_time": "2021-09-15T17:36:59.582Z"
   },
   {
    "duration": 410,
    "start_time": "2021-09-15T17:37:45.870Z"
   },
   {
    "duration": 434,
    "start_time": "2021-09-15T17:39:23.590Z"
   },
   {
    "duration": 19,
    "start_time": "2021-09-15T17:40:06.486Z"
   },
   {
    "duration": 447,
    "start_time": "2021-09-15T17:40:28.652Z"
   },
   {
    "duration": 429,
    "start_time": "2021-09-15T17:40:44.398Z"
   },
   {
    "duration": 11,
    "start_time": "2021-09-15T17:42:07.376Z"
   },
   {
    "duration": 9,
    "start_time": "2021-09-15T17:42:22.744Z"
   },
   {
    "duration": 4,
    "start_time": "2021-09-15T17:42:36.428Z"
   },
   {
    "duration": 102,
    "start_time": "2021-09-15T17:43:01.375Z"
   },
   {
    "duration": 5,
    "start_time": "2021-09-15T17:43:05.380Z"
   },
   {
    "duration": 307,
    "start_time": "2021-09-15T17:43:18.598Z"
   },
   {
    "duration": 312,
    "start_time": "2021-09-15T17:43:27.908Z"
   },
   {
    "duration": 322,
    "start_time": "2021-09-15T17:43:36.712Z"
   },
   {
    "duration": 5,
    "start_time": "2021-09-15T17:43:43.792Z"
   },
   {
    "duration": 4,
    "start_time": "2021-09-15T17:47:48.432Z"
   },
   {
    "duration": 443,
    "start_time": "2021-09-15T17:47:48.444Z"
   },
   {
    "duration": 16,
    "start_time": "2021-09-15T17:47:48.890Z"
   },
   {
    "duration": 9,
    "start_time": "2021-09-15T17:47:48.909Z"
   },
   {
    "duration": 2646,
    "start_time": "2021-09-15T17:47:48.921Z"
   },
   {
    "duration": 621,
    "start_time": "2021-09-15T17:47:51.570Z"
   },
   {
    "duration": 3,
    "start_time": "2021-09-15T17:47:52.194Z"
   },
   {
    "duration": 8,
    "start_time": "2021-09-15T17:47:52.200Z"
   },
   {
    "duration": 308,
    "start_time": "2021-09-15T17:47:52.211Z"
   },
   {
    "duration": 8,
    "start_time": "2021-09-15T18:36:34.554Z"
   },
   {
    "duration": 2124,
    "start_time": "2021-09-15T18:36:40.339Z"
   },
   {
    "duration": 480,
    "start_time": "2021-09-15T18:36:42.465Z"
   },
   {
    "duration": 24,
    "start_time": "2021-09-15T18:36:42.948Z"
   },
   {
    "duration": 10,
    "start_time": "2021-09-15T18:36:42.975Z"
   },
   {
    "duration": 3265,
    "start_time": "2021-09-15T18:36:42.988Z"
   },
   {
    "duration": 531,
    "start_time": "2021-09-15T18:36:46.257Z"
   },
   {
    "duration": 5,
    "start_time": "2021-09-15T18:36:46.790Z"
   },
   {
    "duration": 10,
    "start_time": "2021-09-15T18:36:46.799Z"
   },
   {
    "duration": 7,
    "start_time": "2021-09-15T18:36:46.812Z"
   },
   {
    "duration": 36,
    "start_time": "2021-09-15T18:36:46.822Z"
   },
   {
    "duration": 1497,
    "start_time": "2021-09-15T18:40:07.378Z"
   },
   {
    "duration": 510,
    "start_time": "2021-09-15T18:40:08.878Z"
   },
   {
    "duration": 25,
    "start_time": "2021-09-15T18:40:09.392Z"
   },
   {
    "duration": 10,
    "start_time": "2021-09-15T18:40:09.420Z"
   },
   {
    "duration": 3200,
    "start_time": "2021-09-15T18:40:09.455Z"
   },
   {
    "duration": 527,
    "start_time": "2021-09-15T18:40:12.658Z"
   },
   {
    "duration": 5,
    "start_time": "2021-09-15T18:40:13.187Z"
   },
   {
    "duration": 11,
    "start_time": "2021-09-15T18:40:13.195Z"
   },
   {
    "duration": 17,
    "start_time": "2021-09-15T18:40:13.209Z"
   },
   {
    "duration": 11,
    "start_time": "2021-09-15T18:40:13.228Z"
   },
   {
    "duration": 987,
    "start_time": "2021-09-15T18:41:02.642Z"
   },
   {
    "duration": 7,
    "start_time": "2021-09-15T18:41:53.326Z"
   },
   {
    "duration": 595,
    "start_time": "2021-09-15T18:41:54.997Z"
   },
   {
    "duration": 8,
    "start_time": "2021-09-15T18:43:13.730Z"
   },
   {
    "duration": 980,
    "start_time": "2021-09-15T18:43:13.891Z"
   },
   {
    "duration": 3391,
    "start_time": "2021-09-15T18:45:18.673Z"
   },
   {
    "duration": 3317,
    "start_time": "2021-09-15T18:45:33.339Z"
   },
   {
    "duration": 8,
    "start_time": "2021-09-15T18:46:06.229Z"
   },
   {
    "duration": 669,
    "start_time": "2021-09-15T18:46:07.579Z"
   },
   {
    "duration": 7,
    "start_time": "2021-09-15T18:46:20.774Z"
   },
   {
    "duration": 951,
    "start_time": "2021-09-15T18:46:21.265Z"
   },
   {
    "duration": 7,
    "start_time": "2021-09-15T19:40:26.562Z"
   },
   {
    "duration": 1254,
    "start_time": "2021-09-15T19:40:26.767Z"
   },
   {
    "duration": 7,
    "start_time": "2021-09-15T19:40:40.754Z"
   },
   {
    "duration": 950,
    "start_time": "2021-09-15T19:40:42.370Z"
   },
   {
    "duration": 8,
    "start_time": "2021-09-15T19:43:03.923Z"
   },
   {
    "duration": 623,
    "start_time": "2021-09-15T19:43:04.448Z"
   },
   {
    "duration": 8,
    "start_time": "2021-09-15T19:43:38.307Z"
   },
   {
    "duration": 599,
    "start_time": "2021-09-15T19:43:39.569Z"
   },
   {
    "duration": 9,
    "start_time": "2021-09-15T19:45:45.812Z"
   },
   {
    "duration": 849,
    "start_time": "2021-09-15T19:45:46.611Z"
   },
   {
    "duration": 6,
    "start_time": "2021-09-15T19:47:09.645Z"
   },
   {
    "duration": -99,
    "start_time": "2021-09-15T19:48:19.344Z"
   },
   {
    "duration": 27562,
    "start_time": "2021-09-15T19:48:19.294Z"
   },
   {
    "duration": 5,
    "start_time": "2021-09-15T19:48:51.751Z"
   },
   {
    "duration": 2931,
    "start_time": "2021-09-15T19:48:53.476Z"
   },
   {
    "duration": 8,
    "start_time": "2021-09-15T19:49:16.247Z"
   },
   {
    "duration": 666,
    "start_time": "2021-09-15T19:49:17.342Z"
   },
   {
    "duration": 8,
    "start_time": "2021-09-15T19:49:41.631Z"
   },
   {
    "duration": 638,
    "start_time": "2021-09-15T19:49:41.800Z"
   },
   {
    "duration": 5,
    "start_time": "2021-09-15T19:50:43.328Z"
   },
   {
    "duration": 627,
    "start_time": "2021-09-15T19:50:43.838Z"
   },
   {
    "duration": 6,
    "start_time": "2021-09-15T19:51:01.867Z"
   },
   {
    "duration": 640,
    "start_time": "2021-09-15T19:51:02.039Z"
   },
   {
    "duration": 6,
    "start_time": "2021-09-15T19:51:57.041Z"
   },
   {
    "duration": 693,
    "start_time": "2021-09-15T19:51:57.050Z"
   },
   {
    "duration": 5,
    "start_time": "2021-09-15T19:53:26.488Z"
   },
   {
    "duration": 4137,
    "start_time": "2021-09-15T19:53:26.733Z"
   },
   {
    "duration": 8,
    "start_time": "2021-09-15T19:53:46.187Z"
   },
   {
    "duration": 6109,
    "start_time": "2021-09-15T19:53:46.419Z"
   },
   {
    "duration": 5,
    "start_time": "2021-09-15T19:54:24.420Z"
   },
   {
    "duration": 8,
    "start_time": "2021-09-15T19:54:28.007Z"
   },
   {
    "duration": 5782,
    "start_time": "2021-09-15T19:54:28.207Z"
   },
   {
    "duration": 7,
    "start_time": "2021-09-15T19:55:04.820Z"
   },
   {
    "duration": 5290,
    "start_time": "2021-09-15T19:55:04.984Z"
   },
   {
    "duration": 8,
    "start_time": "2021-09-15T19:55:58.607Z"
   },
   {
    "duration": 5339,
    "start_time": "2021-09-15T19:55:59.043Z"
   },
   {
    "duration": 7,
    "start_time": "2021-09-15T19:56:10.490Z"
   },
   {
    "duration": 5163,
    "start_time": "2021-09-15T19:56:10.962Z"
   },
   {
    "duration": 7,
    "start_time": "2021-09-15T19:56:20.873Z"
   },
   {
    "duration": 5216,
    "start_time": "2021-09-15T19:56:21.079Z"
   },
   {
    "duration": 9,
    "start_time": "2021-09-15T19:56:50.677Z"
   },
   {
    "duration": 5235,
    "start_time": "2021-09-15T19:56:50.834Z"
   },
   {
    "duration": 5197,
    "start_time": "2021-09-15T19:57:11.010Z"
   },
   {
    "duration": 5185,
    "start_time": "2021-09-15T19:57:35.030Z"
   },
   {
    "duration": 8,
    "start_time": "2021-09-15T19:58:56.167Z"
   },
   {
    "duration": 5979,
    "start_time": "2021-09-15T19:59:00.150Z"
   },
   {
    "duration": -138,
    "start_time": "2021-09-15T19:59:06.270Z"
   },
   {
    "duration": -177,
    "start_time": "2021-09-15T19:59:06.311Z"
   },
   {
    "duration": 8,
    "start_time": "2021-09-15T19:59:21.463Z"
   },
   {
    "duration": 5092,
    "start_time": "2021-09-15T19:59:22.524Z"
   },
   {
    "duration": 5396,
    "start_time": "2021-09-15T19:59:27.619Z"
   },
   {
    "duration": 6086,
    "start_time": "2021-09-15T19:59:33.018Z"
   },
   {
    "duration": 7,
    "start_time": "2021-09-15T20:00:01.901Z"
   },
   {
    "duration": 5074,
    "start_time": "2021-09-15T20:00:02.104Z"
   },
   {
    "duration": 8,
    "start_time": "2021-09-15T20:00:24.568Z"
   },
   {
    "duration": 5252,
    "start_time": "2021-09-15T20:00:24.718Z"
   },
   {
    "duration": 8,
    "start_time": "2021-09-15T20:00:37.145Z"
   },
   {
    "duration": 5315,
    "start_time": "2021-09-15T20:00:37.904Z"
   },
   {
    "duration": 5144,
    "start_time": "2021-09-15T20:00:43.222Z"
   },
   {
    "duration": 5146,
    "start_time": "2021-09-15T20:00:48.369Z"
   },
   {
    "duration": 8,
    "start_time": "2021-09-15T20:00:56.779Z"
   },
   {
    "duration": 5056,
    "start_time": "2021-09-15T20:00:56.990Z"
   },
   {
    "duration": 5122,
    "start_time": "2021-09-15T20:01:02.049Z"
   },
   {
    "duration": 8,
    "start_time": "2021-09-15T20:01:12.457Z"
   },
   {
    "duration": 5195,
    "start_time": "2021-09-15T20:01:12.469Z"
   },
   {
    "duration": 5412,
    "start_time": "2021-09-15T20:01:17.667Z"
   },
   {
    "duration": 5099,
    "start_time": "2021-09-15T20:01:23.082Z"
   },
   {
    "duration": 5072,
    "start_time": "2021-09-15T20:01:57.663Z"
   },
   {
    "duration": 5155,
    "start_time": "2021-09-15T20:02:02.737Z"
   },
   {
    "duration": 5156,
    "start_time": "2021-09-15T20:02:07.895Z"
   },
   {
    "duration": 8,
    "start_time": "2021-09-15T20:06:46.062Z"
   },
   {
    "duration": 5043,
    "start_time": "2021-09-15T20:06:46.265Z"
   },
   {
    "duration": 8,
    "start_time": "2021-09-15T20:07:17.653Z"
   },
   {
    "duration": 5263,
    "start_time": "2021-09-15T20:07:20.091Z"
   },
   {
    "duration": 8,
    "start_time": "2021-09-15T20:07:49.740Z"
   },
   {
    "duration": 5114,
    "start_time": "2021-09-15T20:07:49.989Z"
   },
   {
    "duration": 8,
    "start_time": "2021-09-15T20:08:19.053Z"
   },
   {
    "duration": 5057,
    "start_time": "2021-09-15T20:08:19.775Z"
   },
   {
    "duration": 5515,
    "start_time": "2021-09-15T20:08:28.864Z"
   },
   {
    "duration": 5438,
    "start_time": "2021-09-15T20:08:34.382Z"
   },
   {
    "duration": 8,
    "start_time": "2021-09-15T20:08:44.100Z"
   },
   {
    "duration": 5259,
    "start_time": "2021-09-15T20:08:44.361Z"
   },
   {
    "duration": 5370,
    "start_time": "2021-09-15T20:08:49.622Z"
   },
   {
    "duration": 5185,
    "start_time": "2021-09-15T20:08:54.995Z"
   },
   {
    "duration": 8,
    "start_time": "2021-09-15T20:09:05.304Z"
   },
   {
    "duration": 5103,
    "start_time": "2021-09-15T20:09:05.495Z"
   },
   {
    "duration": 5071,
    "start_time": "2021-09-15T20:09:10.600Z"
   },
   {
    "duration": 5066,
    "start_time": "2021-09-15T20:09:15.674Z"
   },
   {
    "duration": 1560,
    "start_time": "2021-09-15T20:09:44.316Z"
   },
   {
    "duration": 477,
    "start_time": "2021-09-15T20:09:45.879Z"
   },
   {
    "duration": 22,
    "start_time": "2021-09-15T20:09:46.360Z"
   },
   {
    "duration": 13,
    "start_time": "2021-09-15T20:09:46.386Z"
   },
   {
    "duration": 3376,
    "start_time": "2021-09-15T20:09:46.401Z"
   },
   {
    "duration": 536,
    "start_time": "2021-09-15T20:09:49.857Z"
   },
   {
    "duration": 5,
    "start_time": "2021-09-15T20:09:50.396Z"
   },
   {
    "duration": 29,
    "start_time": "2021-09-15T20:09:50.404Z"
   },
   {
    "duration": 15,
    "start_time": "2021-09-15T20:09:50.438Z"
   },
   {
    "duration": 25,
    "start_time": "2021-09-15T20:09:50.456Z"
   },
   {
    "duration": 5766,
    "start_time": "2021-09-15T20:09:50.483Z"
   },
   {
    "duration": 5282,
    "start_time": "2021-09-15T20:09:56.255Z"
   },
   {
    "duration": 5152,
    "start_time": "2021-09-15T20:10:01.539Z"
   },
   {
    "duration": 1875,
    "start_time": "2021-09-16T07:25:35.918Z"
   },
   {
    "duration": 492,
    "start_time": "2021-09-16T07:25:37.796Z"
   },
   {
    "duration": 20,
    "start_time": "2021-09-16T07:25:38.292Z"
   },
   {
    "duration": 32,
    "start_time": "2021-09-16T07:25:38.315Z"
   },
   {
    "duration": 3207,
    "start_time": "2021-09-16T07:25:38.349Z"
   },
   {
    "duration": 545,
    "start_time": "2021-09-16T07:25:41.559Z"
   },
   {
    "duration": 5,
    "start_time": "2021-09-16T07:25:42.107Z"
   },
   {
    "duration": 22,
    "start_time": "2021-09-16T07:25:42.117Z"
   },
   {
    "duration": 18,
    "start_time": "2021-09-16T07:25:42.142Z"
   },
   {
    "duration": 34,
    "start_time": "2021-09-16T07:25:42.163Z"
   },
   {
    "duration": 6237,
    "start_time": "2021-09-16T07:25:42.200Z"
   },
   {
    "duration": 7635,
    "start_time": "2021-09-16T07:25:48.440Z"
   },
   {
    "duration": 8548,
    "start_time": "2021-09-16T07:25:56.078Z"
   },
   {
    "duration": 75,
    "start_time": "2021-09-16T07:29:15.961Z"
   },
   {
    "duration": 5467,
    "start_time": "2021-09-16T07:29:16.137Z"
   },
   {
    "duration": 9,
    "start_time": "2021-09-16T07:29:30.704Z"
   },
   {
    "duration": 5593,
    "start_time": "2021-09-16T07:29:30.847Z"
   },
   {
    "duration": 5,
    "start_time": "2021-09-16T07:31:48.791Z"
   },
   {
    "duration": 9,
    "start_time": "2021-09-16T07:31:48.935Z"
   },
   {
    "duration": 6145,
    "start_time": "2021-09-16T07:31:49.439Z"
   },
   {
    "duration": 8,
    "start_time": "2021-09-16T07:33:21.520Z"
   },
   {
    "duration": 6736,
    "start_time": "2021-09-16T07:33:22.111Z"
   },
   {
    "duration": 9,
    "start_time": "2021-09-16T07:33:28.850Z"
   },
   {
    "duration": 8,
    "start_time": "2021-09-16T07:33:28.862Z"
   },
   {
    "duration": 6119,
    "start_time": "2021-09-16T07:33:29.312Z"
   },
   {
    "duration": 9,
    "start_time": "2021-09-16T07:33:43.777Z"
   },
   {
    "duration": 5413,
    "start_time": "2021-09-16T07:33:44.168Z"
   },
   {
    "duration": 8,
    "start_time": "2021-09-16T07:33:59.560Z"
   },
   {
    "duration": 5651,
    "start_time": "2021-09-16T07:34:01.919Z"
   },
   {
    "duration": 5539,
    "start_time": "2021-09-16T07:34:07.573Z"
   },
   {
    "duration": 5463,
    "start_time": "2021-09-16T07:34:13.115Z"
   },
   {
    "duration": 9,
    "start_time": "2021-09-16T07:35:23.289Z"
   },
   {
    "duration": 5485,
    "start_time": "2021-09-16T07:35:23.503Z"
   },
   {
    "duration": 9,
    "start_time": "2021-09-16T07:37:26.848Z"
   },
   {
    "duration": 5521,
    "start_time": "2021-09-16T07:37:27.007Z"
   },
   {
    "duration": 89,
    "start_time": "2021-09-16T07:37:46.656Z"
   },
   {
    "duration": 5742,
    "start_time": "2021-09-16T07:37:46.816Z"
   },
   {
    "duration": 5556,
    "start_time": "2021-09-16T07:37:52.561Z"
   },
   {
    "duration": 5719,
    "start_time": "2021-09-16T07:37:58.120Z"
   },
   {
    "duration": 9,
    "start_time": "2021-09-16T07:39:41.967Z"
   },
   {
    "duration": 5794,
    "start_time": "2021-09-16T07:39:42.281Z"
   },
   {
    "duration": 5652,
    "start_time": "2021-09-16T07:39:48.078Z"
   },
   {
    "duration": 5716,
    "start_time": "2021-09-16T07:39:53.733Z"
   },
   {
    "duration": 10,
    "start_time": "2021-09-16T07:40:10.549Z"
   },
   {
    "duration": 6466,
    "start_time": "2021-09-16T07:40:10.681Z"
   },
   {
    "duration": -41,
    "start_time": "2021-09-16T07:40:17.190Z"
   },
   {
    "duration": -41,
    "start_time": "2021-09-16T07:40:17.192Z"
   },
   {
    "duration": 10,
    "start_time": "2021-09-16T07:40:40.966Z"
   },
   {
    "duration": 5660,
    "start_time": "2021-09-16T07:40:41.103Z"
   },
   {
    "duration": 5776,
    "start_time": "2021-09-16T07:40:46.765Z"
   },
   {
    "duration": 123,
    "start_time": "2021-09-16T07:40:58.414Z"
   },
   {
    "duration": 5790,
    "start_time": "2021-09-16T07:40:58.540Z"
   },
   {
    "duration": 5700,
    "start_time": "2021-09-16T07:41:04.332Z"
   },
   {
    "duration": 5652,
    "start_time": "2021-09-16T07:41:10.034Z"
   },
   {
    "duration": 9,
    "start_time": "2021-09-16T07:41:22.944Z"
   },
   {
    "duration": 5714,
    "start_time": "2021-09-16T07:41:23.118Z"
   },
   {
    "duration": 5728,
    "start_time": "2021-09-16T07:41:28.834Z"
   },
   {
    "duration": 5574,
    "start_time": "2021-09-16T07:41:34.565Z"
   },
   {
    "duration": 9,
    "start_time": "2021-09-16T07:45:41.487Z"
   },
   {
    "duration": 6495,
    "start_time": "2021-09-16T07:45:42.317Z"
   },
   {
    "duration": 9,
    "start_time": "2021-09-16T07:46:18.119Z"
   },
   {
    "duration": 6027,
    "start_time": "2021-09-16T07:46:18.575Z"
   },
   {
    "duration": 9,
    "start_time": "2021-09-16T07:47:31.942Z"
   },
   {
    "duration": 5578,
    "start_time": "2021-09-16T07:47:32.110Z"
   },
   {
    "duration": 5584,
    "start_time": "2021-09-16T07:47:37.690Z"
   },
   {
    "duration": 6023,
    "start_time": "2021-09-16T07:47:43.278Z"
   },
   {
    "duration": 110,
    "start_time": "2021-09-16T07:50:18.718Z"
   },
   {
    "duration": 6681,
    "start_time": "2021-09-16T07:50:19.582Z"
   },
   {
    "duration": 10,
    "start_time": "2021-09-16T07:50:37.766Z"
   },
   {
    "duration": 6946,
    "start_time": "2021-09-16T07:50:37.958Z"
   },
   {
    "duration": 10,
    "start_time": "2021-09-16T07:51:06.046Z"
   },
   {
    "duration": 6537,
    "start_time": "2021-09-16T07:51:06.205Z"
   },
   {
    "duration": 11,
    "start_time": "2021-09-16T07:51:51.246Z"
   },
   {
    "duration": 6493,
    "start_time": "2021-09-16T07:51:51.389Z"
   },
   {
    "duration": 11,
    "start_time": "2021-09-16T07:52:36.182Z"
   },
   {
    "duration": 6821,
    "start_time": "2021-09-16T07:52:36.349Z"
   },
   {
    "duration": 10,
    "start_time": "2021-09-16T07:53:03.430Z"
   },
   {
    "duration": 6555,
    "start_time": "2021-09-16T07:53:03.590Z"
   },
   {
    "duration": 8,
    "start_time": "2021-09-16T07:54:14.191Z"
   },
   {
    "duration": 6632,
    "start_time": "2021-09-16T07:54:14.807Z"
   },
   {
    "duration": 12,
    "start_time": "2021-09-16T07:54:28.287Z"
   },
   {
    "duration": 8536,
    "start_time": "2021-09-16T07:54:28.462Z"
   },
   {
    "duration": 125,
    "start_time": "2021-09-16T07:55:09.118Z"
   },
   {
    "duration": 6440,
    "start_time": "2021-09-16T07:55:10.590Z"
   },
   {
    "duration": 9,
    "start_time": "2021-09-16T07:55:17.847Z"
   },
   {
    "duration": 7082,
    "start_time": "2021-09-16T07:55:19.222Z"
   },
   {
    "duration": 10,
    "start_time": "2021-09-16T07:55:46.207Z"
   },
   {
    "duration": 6875,
    "start_time": "2021-09-16T07:55:46.374Z"
   },
   {
    "duration": 101,
    "start_time": "2021-09-16T07:57:10.255Z"
   },
   {
    "duration": 5905,
    "start_time": "2021-09-16T07:57:10.405Z"
   },
   {
    "duration": 9,
    "start_time": "2021-09-16T07:57:35.118Z"
   },
   {
    "duration": 5730,
    "start_time": "2021-09-16T07:57:35.301Z"
   },
   {
    "duration": 11,
    "start_time": "2021-09-16T07:58:37.926Z"
   },
   {
    "duration": 5878,
    "start_time": "2021-09-16T07:58:38.096Z"
   },
   {
    "duration": 5815,
    "start_time": "2021-09-16T07:58:43.977Z"
   },
   {
    "duration": 5982,
    "start_time": "2021-09-16T07:58:49.794Z"
   },
   {
    "duration": 10,
    "start_time": "2021-09-16T08:00:10.670Z"
   },
   {
    "duration": 5763,
    "start_time": "2021-09-16T08:00:10.957Z"
   },
   {
    "duration": 5806,
    "start_time": "2021-09-16T08:00:16.723Z"
   },
   {
    "duration": 5881,
    "start_time": "2021-09-16T08:00:22.531Z"
   },
   {
    "duration": 9,
    "start_time": "2021-09-16T08:00:42.055Z"
   },
   {
    "duration": 5686,
    "start_time": "2021-09-16T08:00:42.428Z"
   },
   {
    "duration": 5801,
    "start_time": "2021-09-16T08:00:48.117Z"
   },
   {
    "duration": 5988,
    "start_time": "2021-09-16T08:00:53.921Z"
   },
   {
    "duration": 1828,
    "start_time": "2021-09-16T08:01:06.139Z"
   },
   {
    "duration": 481,
    "start_time": "2021-09-16T08:01:07.970Z"
   },
   {
    "duration": 21,
    "start_time": "2021-09-16T08:01:08.456Z"
   },
   {
    "duration": 9,
    "start_time": "2021-09-16T08:01:08.481Z"
   },
   {
    "duration": 3373,
    "start_time": "2021-09-16T08:01:08.493Z"
   },
   {
    "duration": 560,
    "start_time": "2021-09-16T08:01:11.958Z"
   },
   {
    "duration": 4,
    "start_time": "2021-09-16T08:01:12.520Z"
   },
   {
    "duration": 29,
    "start_time": "2021-09-16T08:01:12.527Z"
   },
   {
    "duration": 21,
    "start_time": "2021-09-16T08:01:12.560Z"
   },
   {
    "duration": 33,
    "start_time": "2021-09-16T08:01:12.583Z"
   },
   {
    "duration": 5885,
    "start_time": "2021-09-16T08:01:12.619Z"
   },
   {
    "duration": 5751,
    "start_time": "2021-09-16T08:01:18.507Z"
   },
   {
    "duration": 5700,
    "start_time": "2021-09-16T08:01:24.261Z"
   },
   {
    "duration": 82,
    "start_time": "2021-09-16T08:01:47.462Z"
   },
   {
    "duration": 6645,
    "start_time": "2021-09-16T08:01:47.614Z"
   },
   {
    "duration": 10,
    "start_time": "2021-09-16T08:02:10.062Z"
   },
   {
    "duration": 5901,
    "start_time": "2021-09-16T08:02:11.246Z"
   },
   {
    "duration": 10,
    "start_time": "2021-09-16T08:02:27.519Z"
   },
   {
    "duration": 5660,
    "start_time": "2021-09-16T08:02:29.029Z"
   },
   {
    "duration": 10,
    "start_time": "2021-09-16T08:02:58.622Z"
   },
   {
    "duration": 5719,
    "start_time": "2021-09-16T08:02:58.790Z"
   },
   {
    "duration": 5756,
    "start_time": "2021-09-16T08:03:12.853Z"
   },
   {
    "duration": 5812,
    "start_time": "2021-09-16T08:03:18.612Z"
   },
   {
    "duration": 11,
    "start_time": "2021-09-16T08:03:31.510Z"
   },
   {
    "duration": 5788,
    "start_time": "2021-09-16T08:03:31.813Z"
   },
   {
    "duration": 5716,
    "start_time": "2021-09-16T08:03:37.603Z"
   },
   {
    "duration": 5642,
    "start_time": "2021-09-16T08:03:43.322Z"
   },
   {
    "duration": 1489,
    "start_time": "2021-09-16T08:04:17.773Z"
   },
   {
    "duration": 477,
    "start_time": "2021-09-16T08:04:19.265Z"
   },
   {
    "duration": 25,
    "start_time": "2021-09-16T08:04:19.745Z"
   },
   {
    "duration": 14,
    "start_time": "2021-09-16T08:04:19.773Z"
   },
   {
    "duration": 3380,
    "start_time": "2021-09-16T08:04:19.789Z"
   },
   {
    "duration": 522,
    "start_time": "2021-09-16T08:04:23.258Z"
   },
   {
    "duration": 4,
    "start_time": "2021-09-16T08:04:23.782Z"
   },
   {
    "duration": 7,
    "start_time": "2021-09-16T08:04:23.789Z"
   },
   {
    "duration": 7,
    "start_time": "2021-09-16T08:04:23.798Z"
   },
   {
    "duration": 11,
    "start_time": "2021-09-16T08:04:23.807Z"
   },
   {
    "duration": 5795,
    "start_time": "2021-09-16T08:04:23.821Z"
   },
   {
    "duration": 5696,
    "start_time": "2021-09-16T08:04:29.619Z"
   },
   {
    "duration": 5613,
    "start_time": "2021-09-16T08:04:35.317Z"
   },
   {
    "duration": 77,
    "start_time": "2021-09-16T08:15:44.753Z"
   },
   {
    "duration": 5616,
    "start_time": "2021-09-16T08:15:44.952Z"
   },
   {
    "duration": 10,
    "start_time": "2021-09-16T08:16:37.242Z"
   },
   {
    "duration": 5682,
    "start_time": "2021-09-16T08:16:37.424Z"
   },
   {
    "duration": 5821,
    "start_time": "2021-09-16T08:16:43.109Z"
   },
   {
    "duration": 5782,
    "start_time": "2021-09-16T08:16:48.933Z"
   },
   {
    "duration": 10,
    "start_time": "2021-09-16T08:17:37.041Z"
   },
   {
    "duration": 5724,
    "start_time": "2021-09-16T08:17:37.224Z"
   },
   {
    "duration": 10,
    "start_time": "2021-09-16T08:17:50.621Z"
   },
   {
    "duration": 5943,
    "start_time": "2021-09-16T08:17:50.793Z"
   },
   {
    "duration": 11,
    "start_time": "2021-09-16T08:18:02.193Z"
   },
   {
    "duration": 6066,
    "start_time": "2021-09-16T08:18:02.352Z"
   },
   {
    "duration": 5691,
    "start_time": "2021-09-16T08:18:08.421Z"
   },
   {
    "duration": 5887,
    "start_time": "2021-09-16T08:18:14.115Z"
   },
   {
    "duration": 13,
    "start_time": "2021-09-16T08:19:03.569Z"
   },
   {
    "duration": 5729,
    "start_time": "2021-09-16T08:19:03.712Z"
   },
   {
    "duration": 5994,
    "start_time": "2021-09-16T08:19:09.445Z"
   },
   {
    "duration": 5727,
    "start_time": "2021-09-16T08:19:15.442Z"
   },
   {
    "duration": 11,
    "start_time": "2021-09-16T08:20:45.212Z"
   },
   {
    "duration": 5811,
    "start_time": "2021-09-16T08:20:45.808Z"
   },
   {
    "duration": 12,
    "start_time": "2021-09-16T08:21:30.929Z"
   },
   {
    "duration": 5950,
    "start_time": "2021-09-16T08:21:31.119Z"
   },
   {
    "duration": 5748,
    "start_time": "2021-09-16T08:21:37.073Z"
   },
   {
    "duration": 5844,
    "start_time": "2021-09-16T08:21:42.825Z"
   },
   {
    "duration": 12,
    "start_time": "2021-09-16T08:26:01.073Z"
   },
   {
    "duration": 5953,
    "start_time": "2021-09-16T08:26:01.719Z"
   },
   {
    "duration": 17,
    "start_time": "2021-09-16T08:26:21.953Z"
   },
   {
    "duration": 6146,
    "start_time": "2021-09-16T08:26:22.112Z"
   },
   {
    "duration": 110,
    "start_time": "2021-09-16T08:26:46.639Z"
   },
   {
    "duration": 6083,
    "start_time": "2021-09-16T08:26:46.806Z"
   },
   {
    "duration": 5861,
    "start_time": "2021-09-16T08:26:52.892Z"
   },
   {
    "duration": 5816,
    "start_time": "2021-09-16T08:26:58.757Z"
   },
   {
    "duration": 11,
    "start_time": "2021-09-16T08:27:09.688Z"
   },
   {
    "duration": 5920,
    "start_time": "2021-09-16T08:27:09.855Z"
   },
   {
    "duration": 5988,
    "start_time": "2021-09-16T08:27:15.778Z"
   },
   {
    "duration": 6040,
    "start_time": "2021-09-16T08:27:21.770Z"
   },
   {
    "duration": 1516,
    "start_time": "2021-09-16T08:27:46.362Z"
   },
   {
    "duration": 487,
    "start_time": "2021-09-16T08:27:47.881Z"
   },
   {
    "duration": 8,
    "start_time": "2021-09-16T08:27:48.371Z"
   },
   {
    "duration": 3375,
    "start_time": "2021-09-16T08:27:48.382Z"
   },
   {
    "duration": 545,
    "start_time": "2021-09-16T08:27:51.760Z"
   },
   {
    "duration": 3,
    "start_time": "2021-09-16T08:27:52.308Z"
   },
   {
    "duration": 20,
    "start_time": "2021-09-16T08:27:52.314Z"
   },
   {
    "duration": 16,
    "start_time": "2021-09-16T08:27:52.336Z"
   },
   {
    "duration": 14,
    "start_time": "2021-09-16T08:27:52.356Z"
   },
   {
    "duration": 5864,
    "start_time": "2021-09-16T08:27:52.372Z"
   },
   {
    "duration": 5870,
    "start_time": "2021-09-16T08:27:58.239Z"
   },
   {
    "duration": 5864,
    "start_time": "2021-09-16T08:28:04.112Z"
   },
   {
    "duration": 1526,
    "start_time": "2021-09-16T08:31:16.744Z"
   },
   {
    "duration": 495,
    "start_time": "2021-09-16T08:31:18.272Z"
   },
   {
    "duration": 9,
    "start_time": "2021-09-16T08:31:18.770Z"
   },
   {
    "duration": 2975,
    "start_time": "2021-09-16T08:31:18.781Z"
   },
   {
    "duration": 663,
    "start_time": "2021-09-16T08:31:21.759Z"
   },
   {
    "duration": 4,
    "start_time": "2021-09-16T08:31:22.424Z"
   },
   {
    "duration": 9,
    "start_time": "2021-09-16T08:31:22.430Z"
   },
   {
    "duration": 5,
    "start_time": "2021-09-16T08:31:22.455Z"
   },
   {
    "duration": 15,
    "start_time": "2021-09-16T08:31:22.464Z"
   },
   {
    "duration": 5700,
    "start_time": "2021-09-16T08:31:22.483Z"
   },
   {
    "duration": 5685,
    "start_time": "2021-09-16T08:31:28.187Z"
   },
   {
    "duration": 5804,
    "start_time": "2021-09-16T08:31:33.874Z"
   },
   {
    "duration": 8,
    "start_time": "2021-09-16T08:31:48.105Z"
   },
   {
    "duration": 3277,
    "start_time": "2021-09-16T08:31:48.280Z"
   },
   {
    "duration": 9,
    "start_time": "2021-09-16T08:32:15.201Z"
   },
   {
    "duration": 3208,
    "start_time": "2021-09-16T08:32:15.464Z"
   },
   {
    "duration": 8,
    "start_time": "2021-09-16T08:32:24.657Z"
   },
   {
    "duration": 3324,
    "start_time": "2021-09-16T08:32:24.832Z"
   },
   {
    "duration": 8,
    "start_time": "2021-09-16T08:32:33.529Z"
   },
   {
    "duration": 3276,
    "start_time": "2021-09-16T08:32:33.680Z"
   },
   {
    "duration": 1503,
    "start_time": "2021-09-16T08:32:56.174Z"
   },
   {
    "duration": 479,
    "start_time": "2021-09-16T08:32:57.679Z"
   },
   {
    "duration": 8,
    "start_time": "2021-09-16T08:32:58.161Z"
   },
   {
    "duration": 3399,
    "start_time": "2021-09-16T08:32:58.171Z"
   },
   {
    "duration": 548,
    "start_time": "2021-09-16T08:33:01.658Z"
   },
   {
    "duration": 4,
    "start_time": "2021-09-16T08:33:02.209Z"
   },
   {
    "duration": 28,
    "start_time": "2021-09-16T08:33:02.215Z"
   },
   {
    "duration": 29,
    "start_time": "2021-09-16T08:33:02.246Z"
   },
   {
    "duration": 31,
    "start_time": "2021-09-16T08:33:02.277Z"
   },
   {
    "duration": 6030,
    "start_time": "2021-09-16T08:33:02.310Z"
   },
   {
    "duration": 5816,
    "start_time": "2021-09-16T08:33:08.343Z"
   },
   {
    "duration": 6120,
    "start_time": "2021-09-16T08:33:14.161Z"
   },
   {
    "duration": 1544,
    "start_time": "2021-09-16T09:10:48.034Z"
   },
   {
    "duration": 494,
    "start_time": "2021-09-16T09:10:49.580Z"
   },
   {
    "duration": 8,
    "start_time": "2021-09-16T09:10:50.077Z"
   },
   {
    "duration": 2258,
    "start_time": "2021-09-16T09:10:50.088Z"
   },
   {
    "duration": -318,
    "start_time": "2021-09-16T09:10:52.666Z"
   },
   {
    "duration": -320,
    "start_time": "2021-09-16T09:10:52.670Z"
   },
   {
    "duration": -332,
    "start_time": "2021-09-16T09:10:52.683Z"
   },
   {
    "duration": -333,
    "start_time": "2021-09-16T09:10:52.686Z"
   },
   {
    "duration": -335,
    "start_time": "2021-09-16T09:10:52.690Z"
   },
   {
    "duration": -339,
    "start_time": "2021-09-16T09:10:52.695Z"
   },
   {
    "duration": -340,
    "start_time": "2021-09-16T09:10:52.697Z"
   },
   {
    "duration": -341,
    "start_time": "2021-09-16T09:10:52.700Z"
   },
   {
    "duration": 1888,
    "start_time": "2021-09-16T09:16:13.207Z"
   },
   {
    "duration": 508,
    "start_time": "2021-09-16T09:16:15.097Z"
   },
   {
    "duration": 9,
    "start_time": "2021-09-16T09:16:15.608Z"
   },
   {
    "duration": 3436,
    "start_time": "2021-09-16T09:16:15.619Z"
   },
   {
    "duration": 535,
    "start_time": "2021-09-16T09:16:19.059Z"
   },
   {
    "duration": 5,
    "start_time": "2021-09-16T09:16:19.596Z"
   },
   {
    "duration": 14,
    "start_time": "2021-09-16T09:16:19.603Z"
   },
   {
    "duration": 12,
    "start_time": "2021-09-16T09:16:19.620Z"
   },
   {
    "duration": 29,
    "start_time": "2021-09-16T09:16:19.635Z"
   },
   {
    "duration": 5854,
    "start_time": "2021-09-16T09:16:19.666Z"
   },
   {
    "duration": 5972,
    "start_time": "2021-09-16T09:16:25.523Z"
   },
   {
    "duration": 5954,
    "start_time": "2021-09-16T09:16:31.497Z"
   },
   {
    "duration": 1576,
    "start_time": "2021-09-16T11:20:25.923Z"
   },
   {
    "duration": 500,
    "start_time": "2021-09-16T11:20:27.502Z"
   },
   {
    "duration": 9,
    "start_time": "2021-09-16T11:20:28.005Z"
   },
   {
    "duration": 3355,
    "start_time": "2021-09-16T11:20:28.016Z"
   },
   {
    "duration": 734,
    "start_time": "2021-09-16T11:20:31.458Z"
   },
   {
    "duration": 4,
    "start_time": "2021-09-16T11:20:32.194Z"
   },
   {
    "duration": 15,
    "start_time": "2021-09-16T11:20:32.201Z"
   },
   {
    "duration": 17,
    "start_time": "2021-09-16T11:20:32.220Z"
   },
   {
    "duration": 25,
    "start_time": "2021-09-16T11:20:32.240Z"
   },
   {
    "duration": 5712,
    "start_time": "2021-09-16T11:20:32.267Z"
   },
   {
    "duration": 5881,
    "start_time": "2021-09-16T11:20:37.981Z"
   },
   {
    "duration": 5906,
    "start_time": "2021-09-16T11:20:43.865Z"
   },
   {
    "duration": 1786,
    "start_time": "2021-09-16T15:56:28.731Z"
   },
   {
    "duration": 503,
    "start_time": "2021-09-16T15:56:30.520Z"
   },
   {
    "duration": 9,
    "start_time": "2021-09-16T15:56:31.026Z"
   },
   {
    "duration": 3133,
    "start_time": "2021-09-16T15:56:31.038Z"
   },
   {
    "duration": 537,
    "start_time": "2021-09-16T15:56:34.261Z"
   },
   {
    "duration": 4,
    "start_time": "2021-09-16T15:56:34.801Z"
   },
   {
    "duration": 9,
    "start_time": "2021-09-16T15:56:34.808Z"
   },
   {
    "duration": 7,
    "start_time": "2021-09-16T15:56:34.819Z"
   },
   {
    "duration": 32,
    "start_time": "2021-09-16T15:56:34.830Z"
   },
   {
    "duration": 5794,
    "start_time": "2021-09-16T15:56:34.864Z"
   },
   {
    "duration": 5942,
    "start_time": "2021-09-16T15:56:40.661Z"
   },
   {
    "duration": 5879,
    "start_time": "2021-09-16T15:56:46.605Z"
   },
   {
    "duration": 350,
    "start_time": "2021-09-16T17:34:11.236Z"
   },
   {
    "duration": 1597,
    "start_time": "2021-09-16T17:34:16.634Z"
   },
   {
    "duration": 506,
    "start_time": "2021-09-16T17:34:18.234Z"
   },
   {
    "duration": 18,
    "start_time": "2021-09-16T17:34:18.743Z"
   },
   {
    "duration": 16,
    "start_time": "2021-09-16T17:35:05.376Z"
   },
   {
    "duration": 17,
    "start_time": "2021-09-16T17:35:25.465Z"
   },
   {
    "duration": 18,
    "start_time": "2021-09-16T17:35:29.416Z"
   },
   {
    "duration": 16,
    "start_time": "2021-09-16T17:35:40.986Z"
   },
   {
    "duration": 26,
    "start_time": "2021-09-16T17:35:48.830Z"
   },
   {
    "duration": 1595,
    "start_time": "2021-09-16T17:36:06.541Z"
   },
   {
    "duration": 508,
    "start_time": "2021-09-16T17:36:08.139Z"
   },
   {
    "duration": 17,
    "start_time": "2021-09-16T17:36:08.651Z"
   },
   {
    "duration": 8,
    "start_time": "2021-09-16T17:36:08.684Z"
   },
   {
    "duration": 3486,
    "start_time": "2021-09-16T17:36:08.695Z"
   },
   {
    "duration": 514,
    "start_time": "2021-09-16T17:36:12.184Z"
   },
   {
    "duration": 5,
    "start_time": "2021-09-16T17:36:12.700Z"
   },
   {
    "duration": 20,
    "start_time": "2021-09-16T17:36:12.707Z"
   },
   {
    "duration": 29,
    "start_time": "2021-09-16T17:36:12.730Z"
   },
   {
    "duration": 32,
    "start_time": "2021-09-16T17:36:12.761Z"
   },
   {
    "duration": 6010,
    "start_time": "2021-09-16T17:36:12.795Z"
   },
   {
    "duration": 6225,
    "start_time": "2021-09-16T17:36:18.808Z"
   },
   {
    "duration": 6551,
    "start_time": "2021-09-16T17:36:25.036Z"
   },
   {
    "duration": 19,
    "start_time": "2021-09-16T17:36:31.591Z"
   },
   {
    "duration": 16,
    "start_time": "2021-09-16T17:36:54.012Z"
   },
   {
    "duration": 15,
    "start_time": "2021-09-16T17:37:03.261Z"
   },
   {
    "duration": 17,
    "start_time": "2021-09-16T17:37:23.145Z"
   },
   {
    "duration": 7,
    "start_time": "2021-09-16T17:37:51.585Z"
   },
   {
    "duration": 528,
    "start_time": "2021-09-16T17:37:51.917Z"
   },
   {
    "duration": 18,
    "start_time": "2021-09-16T17:37:52.447Z"
   },
   {
    "duration": 24,
    "start_time": "2021-09-16T17:38:01.852Z"
   },
   {
    "duration": 22,
    "start_time": "2021-09-16T17:38:13.515Z"
   },
   {
    "duration": 13,
    "start_time": "2021-09-16T17:38:22.259Z"
   },
   {
    "duration": 14,
    "start_time": "2021-09-16T17:38:51.370Z"
   },
   {
    "duration": 14,
    "start_time": "2021-09-16T17:38:51.554Z"
   },
   {
    "duration": 13,
    "start_time": "2021-09-16T17:38:52.227Z"
   },
   {
    "duration": 19,
    "start_time": "2021-09-16T17:40:42.612Z"
   },
   {
    "duration": 1518,
    "start_time": "2021-09-16T17:41:08.922Z"
   },
   {
    "duration": 508,
    "start_time": "2021-09-16T17:41:10.443Z"
   },
   {
    "duration": 16,
    "start_time": "2021-09-16T17:41:10.954Z"
   },
   {
    "duration": 23,
    "start_time": "2021-09-16T17:41:10.984Z"
   },
   {
    "duration": 18,
    "start_time": "2021-09-16T17:41:11.009Z"
   },
   {
    "duration": 9,
    "start_time": "2021-09-16T17:41:11.030Z"
   },
   {
    "duration": 3549,
    "start_time": "2021-09-16T17:41:11.041Z"
   },
   {
    "duration": 847,
    "start_time": "2021-09-16T17:41:14.596Z"
   },
   {
    "duration": 5,
    "start_time": "2021-09-16T17:41:15.447Z"
   },
   {
    "duration": 22,
    "start_time": "2021-09-16T17:41:15.455Z"
   },
   {
    "duration": 20,
    "start_time": "2021-09-16T17:41:15.484Z"
   },
   {
    "duration": 31,
    "start_time": "2021-09-16T17:41:15.508Z"
   },
   {
    "duration": 9990,
    "start_time": "2021-09-16T17:41:15.542Z"
   },
   {
    "duration": 1536,
    "start_time": "2021-09-16T17:41:38.700Z"
   },
   {
    "duration": 500,
    "start_time": "2021-09-16T17:41:40.239Z"
   },
   {
    "duration": 17,
    "start_time": "2021-09-16T17:41:40.742Z"
   },
   {
    "duration": 29,
    "start_time": "2021-09-16T17:41:40.762Z"
   },
   {
    "duration": 20,
    "start_time": "2021-09-16T17:41:40.794Z"
   },
   {
    "duration": 27,
    "start_time": "2021-09-16T17:41:40.817Z"
   },
   {
    "duration": 3443,
    "start_time": "2021-09-16T17:41:40.846Z"
   },
   {
    "duration": 551,
    "start_time": "2021-09-16T17:41:44.293Z"
   },
   {
    "duration": 4,
    "start_time": "2021-09-16T17:41:44.847Z"
   },
   {
    "duration": 13,
    "start_time": "2021-09-16T17:41:44.853Z"
   },
   {
    "duration": 19,
    "start_time": "2021-09-16T17:41:44.868Z"
   },
   {
    "duration": 13,
    "start_time": "2021-09-16T17:41:44.889Z"
   },
   {
    "duration": 6096,
    "start_time": "2021-09-16T17:41:44.904Z"
   },
   {
    "duration": 6037,
    "start_time": "2021-09-16T17:41:51.002Z"
   },
   {
    "duration": 6249,
    "start_time": "2021-09-16T17:41:57.042Z"
   },
   {
    "duration": 20,
    "start_time": "2021-09-16T17:42:09.116Z"
   },
   {
    "duration": 6127,
    "start_time": "2021-09-16T17:42:10.255Z"
   },
   {
    "duration": 6175,
    "start_time": "2021-09-16T17:42:16.385Z"
   },
   {
    "duration": 6231,
    "start_time": "2021-09-16T17:42:22.564Z"
   },
   {
    "duration": 12,
    "start_time": "2021-09-16T17:42:59.177Z"
   },
   {
    "duration": 6026,
    "start_time": "2021-09-16T17:42:59.869Z"
   },
   {
    "duration": 6170,
    "start_time": "2021-09-16T17:43:05.897Z"
   },
   {
    "duration": 6115,
    "start_time": "2021-09-16T17:43:12.071Z"
   },
   {
    "duration": 1540,
    "start_time": "2021-09-17T07:43:13.177Z"
   },
   {
    "duration": 754,
    "start_time": "2021-09-17T07:43:14.720Z"
   },
   {
    "duration": 16,
    "start_time": "2021-09-17T07:43:15.478Z"
   },
   {
    "duration": 24,
    "start_time": "2021-09-17T07:43:15.497Z"
   },
   {
    "duration": 30,
    "start_time": "2021-09-17T07:43:15.523Z"
   },
   {
    "duration": 76,
    "start_time": "2021-09-17T07:43:15.557Z"
   },
   {
    "duration": 29,
    "start_time": "2021-09-17T07:43:15.635Z"
   },
   {
    "duration": 3102,
    "start_time": "2021-09-17T07:43:15.669Z"
   },
   {
    "duration": 840,
    "start_time": "2021-09-17T07:43:18.775Z"
   },
   {
    "duration": 4,
    "start_time": "2021-09-17T07:43:19.617Z"
   },
   {
    "duration": 24,
    "start_time": "2021-09-17T07:43:19.623Z"
   },
   {
    "duration": 26,
    "start_time": "2021-09-17T07:43:19.649Z"
   },
   {
    "duration": 22,
    "start_time": "2021-09-17T07:43:19.677Z"
   },
   {
    "duration": 7118,
    "start_time": "2021-09-17T07:43:19.701Z"
   },
   {
    "duration": 7509,
    "start_time": "2021-09-17T07:43:26.822Z"
   },
   {
    "duration": 7367,
    "start_time": "2021-09-17T07:43:34.333Z"
   },
   {
    "duration": 209,
    "start_time": "2021-09-17T07:43:43.383Z"
   },
   {
    "duration": 315,
    "start_time": "2021-09-17T07:44:43.422Z"
   },
   {
    "duration": 495,
    "start_time": "2021-09-17T07:45:51.183Z"
   },
   {
    "duration": 275,
    "start_time": "2021-09-17T07:46:00.823Z"
   },
   {
    "duration": 431,
    "start_time": "2021-09-17T07:46:23.287Z"
   },
   {
    "duration": 292,
    "start_time": "2021-09-17T07:46:59.126Z"
   },
   {
    "duration": 316,
    "start_time": "2021-09-17T07:46:59.421Z"
   },
   {
    "duration": 251,
    "start_time": "2021-09-17T07:47:27.647Z"
   },
   {
    "duration": 247,
    "start_time": "2021-09-17T07:47:27.902Z"
   },
   {
    "duration": 224,
    "start_time": "2021-09-17T07:47:35.907Z"
   },
   {
    "duration": 243,
    "start_time": "2021-09-17T07:47:36.134Z"
   },
   {
    "duration": 262,
    "start_time": "2021-09-17T07:47:46.574Z"
   },
   {
    "duration": 350,
    "start_time": "2021-09-17T07:47:54.470Z"
   },
   {
    "duration": 283,
    "start_time": "2021-09-17T07:48:09.647Z"
   },
   {
    "duration": 302,
    "start_time": "2021-09-17T07:48:09.933Z"
   },
   {
    "duration": 278,
    "start_time": "2021-09-17T07:48:31.766Z"
   },
   {
    "duration": 299,
    "start_time": "2021-09-17T07:48:45.422Z"
   },
   {
    "duration": 324,
    "start_time": "2021-09-17T07:48:50.446Z"
   },
   {
    "duration": 291,
    "start_time": "2021-09-17T07:48:57.400Z"
   },
   {
    "duration": 321,
    "start_time": "2021-09-17T07:49:01.982Z"
   },
   {
    "duration": 378,
    "start_time": "2021-09-17T07:49:18.694Z"
   },
   {
    "duration": 433,
    "start_time": "2021-09-17T07:49:19.075Z"
   },
   {
    "duration": 428,
    "start_time": "2021-09-17T07:49:19.512Z"
   },
   {
    "duration": 5,
    "start_time": "2021-09-17T07:51:13.038Z"
   },
   {
    "duration": 5,
    "start_time": "2021-09-17T07:51:57.192Z"
   },
   {
    "duration": 5,
    "start_time": "2021-09-17T07:51:58.717Z"
   },
   {
    "duration": 5,
    "start_time": "2021-09-17T07:52:08.102Z"
   },
   {
    "duration": 5,
    "start_time": "2021-09-17T07:52:24.950Z"
   },
   {
    "duration": 1549,
    "start_time": "2021-09-17T07:52:57.134Z"
   },
   {
    "duration": 915,
    "start_time": "2021-09-17T07:52:58.686Z"
   },
   {
    "duration": 17,
    "start_time": "2021-09-17T07:52:59.604Z"
   },
   {
    "duration": 39,
    "start_time": "2021-09-17T07:52:59.623Z"
   },
   {
    "duration": 30,
    "start_time": "2021-09-17T07:52:59.665Z"
   },
   {
    "duration": 347,
    "start_time": "2021-09-17T07:52:59.700Z"
   },
   {
    "duration": 306,
    "start_time": "2021-09-17T07:53:00.054Z"
   },
   {
    "duration": 421,
    "start_time": "2021-09-17T07:53:00.363Z"
   },
   {
    "duration": 290,
    "start_time": "2021-09-17T07:53:00.788Z"
   },
   {
    "duration": 9,
    "start_time": "2021-09-17T07:53:01.080Z"
   },
   {
    "duration": 3574,
    "start_time": "2021-09-17T07:53:01.092Z"
   },
   {
    "duration": 464,
    "start_time": "2021-09-17T07:53:04.755Z"
   },
   {
    "duration": 4,
    "start_time": "2021-09-17T07:53:05.221Z"
   },
   {
    "duration": 24,
    "start_time": "2021-09-17T07:53:05.227Z"
   },
   {
    "duration": 27,
    "start_time": "2021-09-17T07:53:05.254Z"
   },
   {
    "duration": 48,
    "start_time": "2021-09-17T07:53:05.283Z"
   },
   {
    "duration": 5967,
    "start_time": "2021-09-17T07:53:05.333Z"
   },
   {
    "duration": 5970,
    "start_time": "2021-09-17T07:53:11.304Z"
   },
   {
    "duration": 6090,
    "start_time": "2021-09-17T07:53:17.277Z"
   },
   {
    "duration": 13,
    "start_time": "2021-09-17T07:53:35.932Z"
   },
   {
    "duration": 6204,
    "start_time": "2021-09-17T07:53:36.570Z"
   },
   {
    "duration": 6406,
    "start_time": "2021-09-17T07:53:42.776Z"
   },
   {
    "duration": 6253,
    "start_time": "2021-09-17T07:53:49.185Z"
   },
   {
    "duration": 1569,
    "start_time": "2021-09-17T07:54:06.768Z"
   },
   {
    "duration": 509,
    "start_time": "2021-09-17T07:54:08.340Z"
   },
   {
    "duration": 20,
    "start_time": "2021-09-17T07:54:08.853Z"
   },
   {
    "duration": 15,
    "start_time": "2021-09-17T07:54:08.876Z"
   },
   {
    "duration": 22,
    "start_time": "2021-09-17T07:54:08.894Z"
   },
   {
    "duration": 435,
    "start_time": "2021-09-17T07:54:08.919Z"
   },
   {
    "duration": 436,
    "start_time": "2021-09-17T07:54:09.357Z"
   },
   {
    "duration": 314,
    "start_time": "2021-09-17T07:54:09.796Z"
   },
   {
    "duration": 231,
    "start_time": "2021-09-17T07:54:10.114Z"
   },
   {
    "duration": 14,
    "start_time": "2021-09-17T07:54:10.349Z"
   },
   {
    "duration": 3298,
    "start_time": "2021-09-17T07:54:10.366Z"
   },
   {
    "duration": 480,
    "start_time": "2021-09-17T07:54:13.756Z"
   },
   {
    "duration": 4,
    "start_time": "2021-09-17T07:54:14.238Z"
   },
   {
    "duration": 6,
    "start_time": "2021-09-17T07:54:14.255Z"
   },
   {
    "duration": 11,
    "start_time": "2021-09-17T07:54:14.263Z"
   },
   {
    "duration": 17,
    "start_time": "2021-09-17T07:54:14.276Z"
   },
   {
    "duration": 9496,
    "start_time": "2021-09-17T07:54:14.295Z"
   },
   {
    "duration": 9740,
    "start_time": "2021-09-17T07:54:23.794Z"
   },
   {
    "duration": 9851,
    "start_time": "2021-09-17T07:54:33.537Z"
   }
  ],
  "hide_input": false,
  "kernelspec": {
   "display_name": "Python 3",
   "language": "python",
   "name": "python3"
  },
  "language_info": {
   "codemirror_mode": {
    "name": "ipython",
    "version": 3
   },
   "file_extension": ".py",
   "mimetype": "text/x-python",
   "name": "python",
   "nbconvert_exporter": "python",
   "pygments_lexer": "ipython3",
   "version": "3.7.4"
  },
  "toc": {
   "base_numbering": 1,
   "nav_menu": {},
   "number_sections": true,
   "sideBar": true,
   "skip_h1_title": true,
   "title_cell": "Table of Contents",
   "title_sidebar": "Contents",
   "toc_cell": true,
   "toc_position": {},
   "toc_section_display": true,
   "toc_window_display": false
  },
  "varInspector": {
   "cols": {
    "lenName": 16,
    "lenType": 16,
    "lenVar": 40
   },
   "kernels_config": {
    "python": {
     "delete_cmd_postfix": "",
     "delete_cmd_prefix": "del ",
     "library": "var_list.py",
     "varRefreshCmd": "print(var_dic_list())"
    },
    "r": {
     "delete_cmd_postfix": ") ",
     "delete_cmd_prefix": "rm(",
     "library": "var_list.r",
     "varRefreshCmd": "cat(var_dic_list()) "
    }
   },
   "types_to_exclude": [
    "module",
    "function",
    "builtin_function_or_method",
    "instance",
    "_Feature"
   ],
   "window_display": false
  }
 },
 "nbformat": 4,
 "nbformat_minor": 2
}
