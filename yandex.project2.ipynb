{
 "cells": [
  {
   "cell_type": "markdown",
   "metadata": {
    "toc": true
   },
   "source": [
    "<h1>Содержание<span class=\"tocSkip\"></span></h1>\n",
    "<div class=\"toc\"><ul class=\"toc-item\"><li><span><a href=\"#Изучение-данных-из-файла\" data-toc-modified-id=\"Изучение-данных-из-файла-1\"><span class=\"toc-item-num\">1&nbsp;&nbsp;</span>Изучение данных из файла</a></span></li><li><span><a href=\"#Предобработка-данных\" data-toc-modified-id=\"Предобработка-данных-2\"><span class=\"toc-item-num\">2&nbsp;&nbsp;</span>Предобработка данных</a></span></li><li><span><a href=\"#Расчёты-и-добавление-результатов-в-таблицу\" data-toc-modified-id=\"Расчёты-и-добавление-результатов-в-таблицу-3\"><span class=\"toc-item-num\">3&nbsp;&nbsp;</span>Расчёты и добавление результатов в таблицу</a></span></li><li><span><a href=\"#Исследовательский-анализ-данных\" data-toc-modified-id=\"Исследовательский-анализ-данных-4\"><span class=\"toc-item-num\">4&nbsp;&nbsp;</span>Исследовательский анализ данных</a></span></li><li><span><a href=\"#Общий-вывод\" data-toc-modified-id=\"Общий-вывод-5\"><span class=\"toc-item-num\">5&nbsp;&nbsp;</span>Общий вывод</a></span></li><li><span><a href=\"#Чек-лист-готовности-проекта\" data-toc-modified-id=\"Чек-лист-готовности-проекта-6\"><span class=\"toc-item-num\">6&nbsp;&nbsp;</span>Чек-лист готовности проекта</a></span></li></ul></div>"
   ]
  },
  {
   "cell_type": "markdown",
   "metadata": {},
   "source": [
    "# Исследование объявлений о продаже квартир\n",
    "\n",
    "В вашем распоряжении данные сервиса Яндекс.Недвижимость — архив объявлений о продаже квартир в Санкт-Петербурге и соседних населённых пунктах за несколько лет. Нужно научиться определять рыночную стоимость объектов недвижимости. Ваша задача — установить параметры. Это позволит построить автоматизированную систему: она отследит аномалии и мошенническую деятельность. \n",
    "\n",
    "По каждой квартире на продажу доступны два вида данных. Первые вписаны пользователем, вторые получены автоматически на основе картографических данных. Например, расстояние до центра, аэропорта, ближайшего парка и водоёма. \n",
    "\n",
    "Описание данных\n",
    "\n",
    "- airports_nearest — расстояние до ближайшего аэропорта в метрах (м)\n",
    "- balcony — число балконов\n",
    "- ceiling_height — высота потолков (м)\n",
    "- cityCenters_nearest — расстояние до центра города (м)\n",
    "- days_exposition — сколько дней было размещено объявление (от публикации до снятия)\n",
    "- first_day_exposition — дата публикации\n",
    "- floor — этаж\n",
    "- floors_total — всего этажей в доме\n",
    "- is_apartment — апартаменты (булев тип)\n",
    "- kitchen_area — площадь кухни в квадратных метрах (м²)\n",
    "- last_price — цена на момент снятия с публикации\n",
    "- living_area — жилая площадь в квадратных метрах(м²)\n",
    "- locality_name — название населённого пункта\n",
    "- open_plan — свободная планировка (булев тип)\n",
    "- parks_around3000 — число парков в радиусе 3 км\n",
    "- parks_nearest — расстояние до ближайшего парка (м)\n",
    "- ponds_around3000 — число водоёмов в радиусе 3 км\n",
    "- ponds_nearest — расстояние до ближайшего водоёма (м)\n",
    "- rooms — число комнат\n",
    "- studio — квартира-студия (булев тип)\n",
    "- total_area — площадь квартиры в квадратных метрах (м²)\n",
    "- total_images — число фотографий квартиры в объявлении"
   ]
  },
  {
   "cell_type": "markdown",
   "metadata": {},
   "source": [
    "## Изучение данных из файла"
   ]
  },
  {
   "cell_type": "code",
   "execution_count": 1,
   "metadata": {},
   "outputs": [
    {
     "data": {
      "text/html": [
       "<div>\n",
       "<style scoped>\n",
       "    .dataframe tbody tr th:only-of-type {\n",
       "        vertical-align: middle;\n",
       "    }\n",
       "\n",
       "    .dataframe tbody tr th {\n",
       "        vertical-align: top;\n",
       "    }\n",
       "\n",
       "    .dataframe thead th {\n",
       "        text-align: right;\n",
       "    }\n",
       "</style>\n",
       "<table border=\"1\" class=\"dataframe\">\n",
       "  <thead>\n",
       "    <tr style=\"text-align: right;\">\n",
       "      <th></th>\n",
       "      <th>total_images</th>\n",
       "      <th>last_price</th>\n",
       "      <th>total_area</th>\n",
       "      <th>first_day_exposition</th>\n",
       "      <th>rooms</th>\n",
       "      <th>ceiling_height</th>\n",
       "      <th>floors_total</th>\n",
       "      <th>living_area</th>\n",
       "      <th>floor</th>\n",
       "      <th>is_apartment</th>\n",
       "      <th>...</th>\n",
       "      <th>kitchen_area</th>\n",
       "      <th>balcony</th>\n",
       "      <th>locality_name</th>\n",
       "      <th>airports_nearest</th>\n",
       "      <th>cityCenters_nearest</th>\n",
       "      <th>parks_around3000</th>\n",
       "      <th>parks_nearest</th>\n",
       "      <th>ponds_around3000</th>\n",
       "      <th>ponds_nearest</th>\n",
       "      <th>days_exposition</th>\n",
       "    </tr>\n",
       "  </thead>\n",
       "  <tbody>\n",
       "    <tr>\n",
       "      <td>0</td>\n",
       "      <td>20</td>\n",
       "      <td>13000000.0</td>\n",
       "      <td>108.00</td>\n",
       "      <td>2019-03-07T00:00:00</td>\n",
       "      <td>3</td>\n",
       "      <td>2.70</td>\n",
       "      <td>16.0</td>\n",
       "      <td>51.00</td>\n",
       "      <td>8</td>\n",
       "      <td>NaN</td>\n",
       "      <td>...</td>\n",
       "      <td>25.00</td>\n",
       "      <td>NaN</td>\n",
       "      <td>Санкт-Петербург</td>\n",
       "      <td>18863.0</td>\n",
       "      <td>16028.0</td>\n",
       "      <td>1.0</td>\n",
       "      <td>482.0</td>\n",
       "      <td>2.0</td>\n",
       "      <td>755.0</td>\n",
       "      <td>NaN</td>\n",
       "    </tr>\n",
       "    <tr>\n",
       "      <td>1</td>\n",
       "      <td>7</td>\n",
       "      <td>3350000.0</td>\n",
       "      <td>40.40</td>\n",
       "      <td>2018-12-04T00:00:00</td>\n",
       "      <td>1</td>\n",
       "      <td>NaN</td>\n",
       "      <td>11.0</td>\n",
       "      <td>18.60</td>\n",
       "      <td>1</td>\n",
       "      <td>NaN</td>\n",
       "      <td>...</td>\n",
       "      <td>11.00</td>\n",
       "      <td>2.0</td>\n",
       "      <td>посёлок Шушары</td>\n",
       "      <td>12817.0</td>\n",
       "      <td>18603.0</td>\n",
       "      <td>0.0</td>\n",
       "      <td>NaN</td>\n",
       "      <td>0.0</td>\n",
       "      <td>NaN</td>\n",
       "      <td>81.0</td>\n",
       "    </tr>\n",
       "    <tr>\n",
       "      <td>2</td>\n",
       "      <td>10</td>\n",
       "      <td>5196000.0</td>\n",
       "      <td>56.00</td>\n",
       "      <td>2015-08-20T00:00:00</td>\n",
       "      <td>2</td>\n",
       "      <td>NaN</td>\n",
       "      <td>5.0</td>\n",
       "      <td>34.30</td>\n",
       "      <td>4</td>\n",
       "      <td>NaN</td>\n",
       "      <td>...</td>\n",
       "      <td>8.30</td>\n",
       "      <td>0.0</td>\n",
       "      <td>Санкт-Петербург</td>\n",
       "      <td>21741.0</td>\n",
       "      <td>13933.0</td>\n",
       "      <td>1.0</td>\n",
       "      <td>90.0</td>\n",
       "      <td>2.0</td>\n",
       "      <td>574.0</td>\n",
       "      <td>558.0</td>\n",
       "    </tr>\n",
       "    <tr>\n",
       "      <td>3</td>\n",
       "      <td>0</td>\n",
       "      <td>64900000.0</td>\n",
       "      <td>159.00</td>\n",
       "      <td>2015-07-24T00:00:00</td>\n",
       "      <td>3</td>\n",
       "      <td>NaN</td>\n",
       "      <td>14.0</td>\n",
       "      <td>NaN</td>\n",
       "      <td>9</td>\n",
       "      <td>NaN</td>\n",
       "      <td>...</td>\n",
       "      <td>NaN</td>\n",
       "      <td>0.0</td>\n",
       "      <td>Санкт-Петербург</td>\n",
       "      <td>28098.0</td>\n",
       "      <td>6800.0</td>\n",
       "      <td>2.0</td>\n",
       "      <td>84.0</td>\n",
       "      <td>3.0</td>\n",
       "      <td>234.0</td>\n",
       "      <td>424.0</td>\n",
       "    </tr>\n",
       "    <tr>\n",
       "      <td>4</td>\n",
       "      <td>2</td>\n",
       "      <td>10000000.0</td>\n",
       "      <td>100.00</td>\n",
       "      <td>2018-06-19T00:00:00</td>\n",
       "      <td>2</td>\n",
       "      <td>3.03</td>\n",
       "      <td>14.0</td>\n",
       "      <td>32.00</td>\n",
       "      <td>13</td>\n",
       "      <td>NaN</td>\n",
       "      <td>...</td>\n",
       "      <td>41.00</td>\n",
       "      <td>NaN</td>\n",
       "      <td>Санкт-Петербург</td>\n",
       "      <td>31856.0</td>\n",
       "      <td>8098.0</td>\n",
       "      <td>2.0</td>\n",
       "      <td>112.0</td>\n",
       "      <td>1.0</td>\n",
       "      <td>48.0</td>\n",
       "      <td>121.0</td>\n",
       "    </tr>\n",
       "    <tr>\n",
       "      <td>5</td>\n",
       "      <td>10</td>\n",
       "      <td>2890000.0</td>\n",
       "      <td>30.40</td>\n",
       "      <td>2018-09-10T00:00:00</td>\n",
       "      <td>1</td>\n",
       "      <td>NaN</td>\n",
       "      <td>12.0</td>\n",
       "      <td>14.40</td>\n",
       "      <td>5</td>\n",
       "      <td>NaN</td>\n",
       "      <td>...</td>\n",
       "      <td>9.10</td>\n",
       "      <td>NaN</td>\n",
       "      <td>городской посёлок Янино-1</td>\n",
       "      <td>NaN</td>\n",
       "      <td>NaN</td>\n",
       "      <td>NaN</td>\n",
       "      <td>NaN</td>\n",
       "      <td>NaN</td>\n",
       "      <td>NaN</td>\n",
       "      <td>55.0</td>\n",
       "    </tr>\n",
       "    <tr>\n",
       "      <td>6</td>\n",
       "      <td>6</td>\n",
       "      <td>3700000.0</td>\n",
       "      <td>37.30</td>\n",
       "      <td>2017-11-02T00:00:00</td>\n",
       "      <td>1</td>\n",
       "      <td>NaN</td>\n",
       "      <td>26.0</td>\n",
       "      <td>10.60</td>\n",
       "      <td>6</td>\n",
       "      <td>NaN</td>\n",
       "      <td>...</td>\n",
       "      <td>14.40</td>\n",
       "      <td>1.0</td>\n",
       "      <td>посёлок Парголово</td>\n",
       "      <td>52996.0</td>\n",
       "      <td>19143.0</td>\n",
       "      <td>0.0</td>\n",
       "      <td>NaN</td>\n",
       "      <td>0.0</td>\n",
       "      <td>NaN</td>\n",
       "      <td>155.0</td>\n",
       "    </tr>\n",
       "    <tr>\n",
       "      <td>7</td>\n",
       "      <td>5</td>\n",
       "      <td>7915000.0</td>\n",
       "      <td>71.60</td>\n",
       "      <td>2019-04-18T00:00:00</td>\n",
       "      <td>2</td>\n",
       "      <td>NaN</td>\n",
       "      <td>24.0</td>\n",
       "      <td>NaN</td>\n",
       "      <td>22</td>\n",
       "      <td>NaN</td>\n",
       "      <td>...</td>\n",
       "      <td>18.90</td>\n",
       "      <td>2.0</td>\n",
       "      <td>Санкт-Петербург</td>\n",
       "      <td>23982.0</td>\n",
       "      <td>11634.0</td>\n",
       "      <td>0.0</td>\n",
       "      <td>NaN</td>\n",
       "      <td>0.0</td>\n",
       "      <td>NaN</td>\n",
       "      <td>NaN</td>\n",
       "    </tr>\n",
       "    <tr>\n",
       "      <td>8</td>\n",
       "      <td>20</td>\n",
       "      <td>2900000.0</td>\n",
       "      <td>33.16</td>\n",
       "      <td>2018-05-23T00:00:00</td>\n",
       "      <td>1</td>\n",
       "      <td>NaN</td>\n",
       "      <td>27.0</td>\n",
       "      <td>15.43</td>\n",
       "      <td>26</td>\n",
       "      <td>NaN</td>\n",
       "      <td>...</td>\n",
       "      <td>8.81</td>\n",
       "      <td>NaN</td>\n",
       "      <td>посёлок Мурино</td>\n",
       "      <td>NaN</td>\n",
       "      <td>NaN</td>\n",
       "      <td>NaN</td>\n",
       "      <td>NaN</td>\n",
       "      <td>NaN</td>\n",
       "      <td>NaN</td>\n",
       "      <td>189.0</td>\n",
       "    </tr>\n",
       "    <tr>\n",
       "      <td>9</td>\n",
       "      <td>18</td>\n",
       "      <td>5400000.0</td>\n",
       "      <td>61.00</td>\n",
       "      <td>2017-02-26T00:00:00</td>\n",
       "      <td>3</td>\n",
       "      <td>2.50</td>\n",
       "      <td>9.0</td>\n",
       "      <td>43.60</td>\n",
       "      <td>7</td>\n",
       "      <td>NaN</td>\n",
       "      <td>...</td>\n",
       "      <td>6.50</td>\n",
       "      <td>2.0</td>\n",
       "      <td>Санкт-Петербург</td>\n",
       "      <td>50898.0</td>\n",
       "      <td>15008.0</td>\n",
       "      <td>0.0</td>\n",
       "      <td>NaN</td>\n",
       "      <td>0.0</td>\n",
       "      <td>NaN</td>\n",
       "      <td>289.0</td>\n",
       "    </tr>\n",
       "    <tr>\n",
       "      <td>10</td>\n",
       "      <td>5</td>\n",
       "      <td>5050000.0</td>\n",
       "      <td>39.60</td>\n",
       "      <td>2017-11-16T00:00:00</td>\n",
       "      <td>1</td>\n",
       "      <td>2.67</td>\n",
       "      <td>12.0</td>\n",
       "      <td>20.30</td>\n",
       "      <td>3</td>\n",
       "      <td>NaN</td>\n",
       "      <td>...</td>\n",
       "      <td>8.50</td>\n",
       "      <td>NaN</td>\n",
       "      <td>Санкт-Петербург</td>\n",
       "      <td>38357.0</td>\n",
       "      <td>13878.0</td>\n",
       "      <td>1.0</td>\n",
       "      <td>310.0</td>\n",
       "      <td>2.0</td>\n",
       "      <td>553.0</td>\n",
       "      <td>137.0</td>\n",
       "    </tr>\n",
       "    <tr>\n",
       "      <td>11</td>\n",
       "      <td>9</td>\n",
       "      <td>3300000.0</td>\n",
       "      <td>44.00</td>\n",
       "      <td>2018-08-27T00:00:00</td>\n",
       "      <td>2</td>\n",
       "      <td>NaN</td>\n",
       "      <td>5.0</td>\n",
       "      <td>31.00</td>\n",
       "      <td>4</td>\n",
       "      <td>False</td>\n",
       "      <td>...</td>\n",
       "      <td>6.00</td>\n",
       "      <td>1.0</td>\n",
       "      <td>Ломоносов</td>\n",
       "      <td>48252.0</td>\n",
       "      <td>51677.0</td>\n",
       "      <td>0.0</td>\n",
       "      <td>NaN</td>\n",
       "      <td>0.0</td>\n",
       "      <td>NaN</td>\n",
       "      <td>7.0</td>\n",
       "    </tr>\n",
       "    <tr>\n",
       "      <td>12</td>\n",
       "      <td>10</td>\n",
       "      <td>3890000.0</td>\n",
       "      <td>54.00</td>\n",
       "      <td>2016-06-30T00:00:00</td>\n",
       "      <td>2</td>\n",
       "      <td>NaN</td>\n",
       "      <td>5.0</td>\n",
       "      <td>30.00</td>\n",
       "      <td>5</td>\n",
       "      <td>NaN</td>\n",
       "      <td>...</td>\n",
       "      <td>9.00</td>\n",
       "      <td>0.0</td>\n",
       "      <td>Сертолово</td>\n",
       "      <td>NaN</td>\n",
       "      <td>NaN</td>\n",
       "      <td>NaN</td>\n",
       "      <td>NaN</td>\n",
       "      <td>NaN</td>\n",
       "      <td>NaN</td>\n",
       "      <td>90.0</td>\n",
       "    </tr>\n",
       "    <tr>\n",
       "      <td>13</td>\n",
       "      <td>20</td>\n",
       "      <td>3550000.0</td>\n",
       "      <td>42.80</td>\n",
       "      <td>2017-07-01T00:00:00</td>\n",
       "      <td>2</td>\n",
       "      <td>2.56</td>\n",
       "      <td>5.0</td>\n",
       "      <td>27.00</td>\n",
       "      <td>5</td>\n",
       "      <td>NaN</td>\n",
       "      <td>...</td>\n",
       "      <td>5.20</td>\n",
       "      <td>1.0</td>\n",
       "      <td>Петергоф</td>\n",
       "      <td>37868.0</td>\n",
       "      <td>33058.0</td>\n",
       "      <td>1.0</td>\n",
       "      <td>294.0</td>\n",
       "      <td>3.0</td>\n",
       "      <td>298.0</td>\n",
       "      <td>366.0</td>\n",
       "    </tr>\n",
       "    <tr>\n",
       "      <td>14</td>\n",
       "      <td>1</td>\n",
       "      <td>4400000.0</td>\n",
       "      <td>36.00</td>\n",
       "      <td>2016-06-23T00:00:00</td>\n",
       "      <td>1</td>\n",
       "      <td>NaN</td>\n",
       "      <td>6.0</td>\n",
       "      <td>17.00</td>\n",
       "      <td>1</td>\n",
       "      <td>NaN</td>\n",
       "      <td>...</td>\n",
       "      <td>8.00</td>\n",
       "      <td>0.0</td>\n",
       "      <td>Пушкин</td>\n",
       "      <td>20782.0</td>\n",
       "      <td>30759.0</td>\n",
       "      <td>0.0</td>\n",
       "      <td>NaN</td>\n",
       "      <td>1.0</td>\n",
       "      <td>96.0</td>\n",
       "      <td>203.0</td>\n",
       "    </tr>\n",
       "  </tbody>\n",
       "</table>\n",
       "<p>15 rows × 22 columns</p>\n",
       "</div>"
      ],
      "text/plain": [
       "    total_images  last_price  total_area first_day_exposition  rooms  \\\n",
       "0             20  13000000.0      108.00  2019-03-07T00:00:00      3   \n",
       "1              7   3350000.0       40.40  2018-12-04T00:00:00      1   \n",
       "2             10   5196000.0       56.00  2015-08-20T00:00:00      2   \n",
       "3              0  64900000.0      159.00  2015-07-24T00:00:00      3   \n",
       "4              2  10000000.0      100.00  2018-06-19T00:00:00      2   \n",
       "5             10   2890000.0       30.40  2018-09-10T00:00:00      1   \n",
       "6              6   3700000.0       37.30  2017-11-02T00:00:00      1   \n",
       "7              5   7915000.0       71.60  2019-04-18T00:00:00      2   \n",
       "8             20   2900000.0       33.16  2018-05-23T00:00:00      1   \n",
       "9             18   5400000.0       61.00  2017-02-26T00:00:00      3   \n",
       "10             5   5050000.0       39.60  2017-11-16T00:00:00      1   \n",
       "11             9   3300000.0       44.00  2018-08-27T00:00:00      2   \n",
       "12            10   3890000.0       54.00  2016-06-30T00:00:00      2   \n",
       "13            20   3550000.0       42.80  2017-07-01T00:00:00      2   \n",
       "14             1   4400000.0       36.00  2016-06-23T00:00:00      1   \n",
       "\n",
       "    ceiling_height  floors_total  living_area  floor is_apartment  ...  \\\n",
       "0             2.70          16.0        51.00      8          NaN  ...   \n",
       "1              NaN          11.0        18.60      1          NaN  ...   \n",
       "2              NaN           5.0        34.30      4          NaN  ...   \n",
       "3              NaN          14.0          NaN      9          NaN  ...   \n",
       "4             3.03          14.0        32.00     13          NaN  ...   \n",
       "5              NaN          12.0        14.40      5          NaN  ...   \n",
       "6              NaN          26.0        10.60      6          NaN  ...   \n",
       "7              NaN          24.0          NaN     22          NaN  ...   \n",
       "8              NaN          27.0        15.43     26          NaN  ...   \n",
       "9             2.50           9.0        43.60      7          NaN  ...   \n",
       "10            2.67          12.0        20.30      3          NaN  ...   \n",
       "11             NaN           5.0        31.00      4        False  ...   \n",
       "12             NaN           5.0        30.00      5          NaN  ...   \n",
       "13            2.56           5.0        27.00      5          NaN  ...   \n",
       "14             NaN           6.0        17.00      1          NaN  ...   \n",
       "\n",
       "    kitchen_area  balcony              locality_name  airports_nearest  \\\n",
       "0          25.00      NaN            Санкт-Петербург           18863.0   \n",
       "1          11.00      2.0             посёлок Шушары           12817.0   \n",
       "2           8.30      0.0            Санкт-Петербург           21741.0   \n",
       "3            NaN      0.0            Санкт-Петербург           28098.0   \n",
       "4          41.00      NaN            Санкт-Петербург           31856.0   \n",
       "5           9.10      NaN  городской посёлок Янино-1               NaN   \n",
       "6          14.40      1.0          посёлок Парголово           52996.0   \n",
       "7          18.90      2.0            Санкт-Петербург           23982.0   \n",
       "8           8.81      NaN             посёлок Мурино               NaN   \n",
       "9           6.50      2.0            Санкт-Петербург           50898.0   \n",
       "10          8.50      NaN            Санкт-Петербург           38357.0   \n",
       "11          6.00      1.0                  Ломоносов           48252.0   \n",
       "12          9.00      0.0                  Сертолово               NaN   \n",
       "13          5.20      1.0                   Петергоф           37868.0   \n",
       "14          8.00      0.0                     Пушкин           20782.0   \n",
       "\n",
       "   cityCenters_nearest  parks_around3000  parks_nearest  ponds_around3000  \\\n",
       "0              16028.0               1.0          482.0               2.0   \n",
       "1              18603.0               0.0            NaN               0.0   \n",
       "2              13933.0               1.0           90.0               2.0   \n",
       "3               6800.0               2.0           84.0               3.0   \n",
       "4               8098.0               2.0          112.0               1.0   \n",
       "5                  NaN               NaN            NaN               NaN   \n",
       "6              19143.0               0.0            NaN               0.0   \n",
       "7              11634.0               0.0            NaN               0.0   \n",
       "8                  NaN               NaN            NaN               NaN   \n",
       "9              15008.0               0.0            NaN               0.0   \n",
       "10             13878.0               1.0          310.0               2.0   \n",
       "11             51677.0               0.0            NaN               0.0   \n",
       "12                 NaN               NaN            NaN               NaN   \n",
       "13             33058.0               1.0          294.0               3.0   \n",
       "14             30759.0               0.0            NaN               1.0   \n",
       "\n",
       "    ponds_nearest  days_exposition  \n",
       "0           755.0              NaN  \n",
       "1             NaN             81.0  \n",
       "2           574.0            558.0  \n",
       "3           234.0            424.0  \n",
       "4            48.0            121.0  \n",
       "5             NaN             55.0  \n",
       "6             NaN            155.0  \n",
       "7             NaN              NaN  \n",
       "8             NaN            189.0  \n",
       "9             NaN            289.0  \n",
       "10          553.0            137.0  \n",
       "11            NaN              7.0  \n",
       "12            NaN             90.0  \n",
       "13          298.0            366.0  \n",
       "14           96.0            203.0  \n",
       "\n",
       "[15 rows x 22 columns]"
      ]
     },
     "execution_count": 1,
     "metadata": {},
     "output_type": "execute_result"
    }
   ],
   "source": [
    "import pandas as pd\n",
    "import numpy as np\n",
    "import matplotlib.pyplot as plt\n",
    "from collections import Counter\n",
    "import seaborn as sns\n",
    "\n",
    "data = pd.read_csv(\"/datasets/real_estate_data.csv\", delimiter='\\t')\n",
    "\n",
    "pd.DataFrame(data).head(15)"
   ]
  },
  {
   "cell_type": "code",
   "execution_count": 2,
   "metadata": {},
   "outputs": [
    {
     "name": "stdout",
     "output_type": "stream",
     "text": [
      "<class 'pandas.core.frame.DataFrame'>\n",
      "RangeIndex: 23699 entries, 0 to 23698\n",
      "Data columns (total 22 columns):\n",
      "total_images            23699 non-null int64\n",
      "last_price              23699 non-null float64\n",
      "total_area              23699 non-null float64\n",
      "first_day_exposition    23699 non-null object\n",
      "rooms                   23699 non-null int64\n",
      "ceiling_height          14504 non-null float64\n",
      "floors_total            23613 non-null float64\n",
      "living_area             21796 non-null float64\n",
      "floor                   23699 non-null int64\n",
      "is_apartment            2775 non-null object\n",
      "studio                  23699 non-null bool\n",
      "open_plan               23699 non-null bool\n",
      "kitchen_area            21421 non-null float64\n",
      "balcony                 12180 non-null float64\n",
      "locality_name           23650 non-null object\n",
      "airports_nearest        18157 non-null float64\n",
      "cityCenters_nearest     18180 non-null float64\n",
      "parks_around3000        18181 non-null float64\n",
      "parks_nearest           8079 non-null float64\n",
      "ponds_around3000        18181 non-null float64\n",
      "ponds_nearest           9110 non-null float64\n",
      "days_exposition         20518 non-null float64\n",
      "dtypes: bool(2), float64(14), int64(3), object(3)\n",
      "memory usage: 3.7+ MB\n"
     ]
    },
    {
     "data": {
      "text/html": [
       "<div>\n",
       "<style scoped>\n",
       "    .dataframe tbody tr th:only-of-type {\n",
       "        vertical-align: middle;\n",
       "    }\n",
       "\n",
       "    .dataframe tbody tr th {\n",
       "        vertical-align: top;\n",
       "    }\n",
       "\n",
       "    .dataframe thead th {\n",
       "        text-align: right;\n",
       "    }\n",
       "</style>\n",
       "<table border=\"1\" class=\"dataframe\">\n",
       "  <thead>\n",
       "    <tr style=\"text-align: right;\">\n",
       "      <th></th>\n",
       "      <th>total_images</th>\n",
       "      <th>last_price</th>\n",
       "      <th>total_area</th>\n",
       "      <th>rooms</th>\n",
       "      <th>ceiling_height</th>\n",
       "      <th>floors_total</th>\n",
       "      <th>living_area</th>\n",
       "      <th>floor</th>\n",
       "      <th>kitchen_area</th>\n",
       "      <th>balcony</th>\n",
       "      <th>airports_nearest</th>\n",
       "      <th>cityCenters_nearest</th>\n",
       "      <th>parks_around3000</th>\n",
       "      <th>parks_nearest</th>\n",
       "      <th>ponds_around3000</th>\n",
       "      <th>ponds_nearest</th>\n",
       "      <th>days_exposition</th>\n",
       "    </tr>\n",
       "  </thead>\n",
       "  <tbody>\n",
       "    <tr>\n",
       "      <td>count</td>\n",
       "      <td>23699.000000</td>\n",
       "      <td>2.369900e+04</td>\n",
       "      <td>23699.000000</td>\n",
       "      <td>23699.000000</td>\n",
       "      <td>14504.000000</td>\n",
       "      <td>23613.000000</td>\n",
       "      <td>21796.000000</td>\n",
       "      <td>23699.000000</td>\n",
       "      <td>21421.000000</td>\n",
       "      <td>12180.000000</td>\n",
       "      <td>18157.000000</td>\n",
       "      <td>18180.000000</td>\n",
       "      <td>18181.000000</td>\n",
       "      <td>8079.000000</td>\n",
       "      <td>18181.000000</td>\n",
       "      <td>9110.000000</td>\n",
       "      <td>20518.000000</td>\n",
       "    </tr>\n",
       "    <tr>\n",
       "      <td>mean</td>\n",
       "      <td>9.858475</td>\n",
       "      <td>6.541549e+06</td>\n",
       "      <td>60.348651</td>\n",
       "      <td>2.070636</td>\n",
       "      <td>2.771499</td>\n",
       "      <td>10.673824</td>\n",
       "      <td>34.457852</td>\n",
       "      <td>5.892358</td>\n",
       "      <td>10.569807</td>\n",
       "      <td>1.150082</td>\n",
       "      <td>28793.672193</td>\n",
       "      <td>14191.277833</td>\n",
       "      <td>0.611408</td>\n",
       "      <td>490.804555</td>\n",
       "      <td>0.770255</td>\n",
       "      <td>517.980900</td>\n",
       "      <td>180.888634</td>\n",
       "    </tr>\n",
       "    <tr>\n",
       "      <td>std</td>\n",
       "      <td>5.682529</td>\n",
       "      <td>1.088701e+07</td>\n",
       "      <td>35.654083</td>\n",
       "      <td>1.078405</td>\n",
       "      <td>1.261056</td>\n",
       "      <td>6.597173</td>\n",
       "      <td>22.030445</td>\n",
       "      <td>4.885249</td>\n",
       "      <td>5.905438</td>\n",
       "      <td>1.071300</td>\n",
       "      <td>12630.880622</td>\n",
       "      <td>8608.386210</td>\n",
       "      <td>0.802074</td>\n",
       "      <td>342.317995</td>\n",
       "      <td>0.938346</td>\n",
       "      <td>277.720643</td>\n",
       "      <td>219.727988</td>\n",
       "    </tr>\n",
       "    <tr>\n",
       "      <td>min</td>\n",
       "      <td>0.000000</td>\n",
       "      <td>1.219000e+04</td>\n",
       "      <td>12.000000</td>\n",
       "      <td>0.000000</td>\n",
       "      <td>1.000000</td>\n",
       "      <td>1.000000</td>\n",
       "      <td>2.000000</td>\n",
       "      <td>1.000000</td>\n",
       "      <td>1.300000</td>\n",
       "      <td>0.000000</td>\n",
       "      <td>0.000000</td>\n",
       "      <td>181.000000</td>\n",
       "      <td>0.000000</td>\n",
       "      <td>1.000000</td>\n",
       "      <td>0.000000</td>\n",
       "      <td>13.000000</td>\n",
       "      <td>1.000000</td>\n",
       "    </tr>\n",
       "    <tr>\n",
       "      <td>25%</td>\n",
       "      <td>6.000000</td>\n",
       "      <td>3.400000e+06</td>\n",
       "      <td>40.000000</td>\n",
       "      <td>1.000000</td>\n",
       "      <td>2.520000</td>\n",
       "      <td>5.000000</td>\n",
       "      <td>18.600000</td>\n",
       "      <td>2.000000</td>\n",
       "      <td>7.000000</td>\n",
       "      <td>0.000000</td>\n",
       "      <td>18585.000000</td>\n",
       "      <td>9238.000000</td>\n",
       "      <td>0.000000</td>\n",
       "      <td>288.000000</td>\n",
       "      <td>0.000000</td>\n",
       "      <td>294.000000</td>\n",
       "      <td>45.000000</td>\n",
       "    </tr>\n",
       "    <tr>\n",
       "      <td>50%</td>\n",
       "      <td>9.000000</td>\n",
       "      <td>4.650000e+06</td>\n",
       "      <td>52.000000</td>\n",
       "      <td>2.000000</td>\n",
       "      <td>2.650000</td>\n",
       "      <td>9.000000</td>\n",
       "      <td>30.000000</td>\n",
       "      <td>4.000000</td>\n",
       "      <td>9.100000</td>\n",
       "      <td>1.000000</td>\n",
       "      <td>26726.000000</td>\n",
       "      <td>13098.500000</td>\n",
       "      <td>0.000000</td>\n",
       "      <td>455.000000</td>\n",
       "      <td>1.000000</td>\n",
       "      <td>502.000000</td>\n",
       "      <td>95.000000</td>\n",
       "    </tr>\n",
       "    <tr>\n",
       "      <td>75%</td>\n",
       "      <td>14.000000</td>\n",
       "      <td>6.800000e+06</td>\n",
       "      <td>69.900000</td>\n",
       "      <td>3.000000</td>\n",
       "      <td>2.800000</td>\n",
       "      <td>16.000000</td>\n",
       "      <td>42.300000</td>\n",
       "      <td>8.000000</td>\n",
       "      <td>12.000000</td>\n",
       "      <td>2.000000</td>\n",
       "      <td>37273.000000</td>\n",
       "      <td>16293.000000</td>\n",
       "      <td>1.000000</td>\n",
       "      <td>612.000000</td>\n",
       "      <td>1.000000</td>\n",
       "      <td>729.000000</td>\n",
       "      <td>232.000000</td>\n",
       "    </tr>\n",
       "    <tr>\n",
       "      <td>max</td>\n",
       "      <td>50.000000</td>\n",
       "      <td>7.630000e+08</td>\n",
       "      <td>900.000000</td>\n",
       "      <td>19.000000</td>\n",
       "      <td>100.000000</td>\n",
       "      <td>60.000000</td>\n",
       "      <td>409.700000</td>\n",
       "      <td>33.000000</td>\n",
       "      <td>112.000000</td>\n",
       "      <td>5.000000</td>\n",
       "      <td>84869.000000</td>\n",
       "      <td>65968.000000</td>\n",
       "      <td>3.000000</td>\n",
       "      <td>3190.000000</td>\n",
       "      <td>3.000000</td>\n",
       "      <td>1344.000000</td>\n",
       "      <td>1580.000000</td>\n",
       "    </tr>\n",
       "  </tbody>\n",
       "</table>\n",
       "</div>"
      ],
      "text/plain": [
       "       total_images    last_price    total_area         rooms  ceiling_height  \\\n",
       "count  23699.000000  2.369900e+04  23699.000000  23699.000000    14504.000000   \n",
       "mean       9.858475  6.541549e+06     60.348651      2.070636        2.771499   \n",
       "std        5.682529  1.088701e+07     35.654083      1.078405        1.261056   \n",
       "min        0.000000  1.219000e+04     12.000000      0.000000        1.000000   \n",
       "25%        6.000000  3.400000e+06     40.000000      1.000000        2.520000   \n",
       "50%        9.000000  4.650000e+06     52.000000      2.000000        2.650000   \n",
       "75%       14.000000  6.800000e+06     69.900000      3.000000        2.800000   \n",
       "max       50.000000  7.630000e+08    900.000000     19.000000      100.000000   \n",
       "\n",
       "       floors_total   living_area         floor  kitchen_area       balcony  \\\n",
       "count  23613.000000  21796.000000  23699.000000  21421.000000  12180.000000   \n",
       "mean      10.673824     34.457852      5.892358     10.569807      1.150082   \n",
       "std        6.597173     22.030445      4.885249      5.905438      1.071300   \n",
       "min        1.000000      2.000000      1.000000      1.300000      0.000000   \n",
       "25%        5.000000     18.600000      2.000000      7.000000      0.000000   \n",
       "50%        9.000000     30.000000      4.000000      9.100000      1.000000   \n",
       "75%       16.000000     42.300000      8.000000     12.000000      2.000000   \n",
       "max       60.000000    409.700000     33.000000    112.000000      5.000000   \n",
       "\n",
       "       airports_nearest  cityCenters_nearest  parks_around3000  parks_nearest  \\\n",
       "count      18157.000000         18180.000000      18181.000000    8079.000000   \n",
       "mean       28793.672193         14191.277833          0.611408     490.804555   \n",
       "std        12630.880622          8608.386210          0.802074     342.317995   \n",
       "min            0.000000           181.000000          0.000000       1.000000   \n",
       "25%        18585.000000          9238.000000          0.000000     288.000000   \n",
       "50%        26726.000000         13098.500000          0.000000     455.000000   \n",
       "75%        37273.000000         16293.000000          1.000000     612.000000   \n",
       "max        84869.000000         65968.000000          3.000000    3190.000000   \n",
       "\n",
       "       ponds_around3000  ponds_nearest  days_exposition  \n",
       "count      18181.000000    9110.000000     20518.000000  \n",
       "mean           0.770255     517.980900       180.888634  \n",
       "std            0.938346     277.720643       219.727988  \n",
       "min            0.000000      13.000000         1.000000  \n",
       "25%            0.000000     294.000000        45.000000  \n",
       "50%            1.000000     502.000000        95.000000  \n",
       "75%            1.000000     729.000000       232.000000  \n",
       "max            3.000000    1344.000000      1580.000000  "
      ]
     },
     "execution_count": 2,
     "metadata": {},
     "output_type": "execute_result"
    }
   ],
   "source": [
    "data.info()\n",
    "data.describe()"
   ]
  },
  {
   "cell_type": "code",
   "execution_count": 3,
   "metadata": {},
   "outputs": [
    {
     "name": "stdout",
     "output_type": "stream",
     "text": [
      "total_images                0\n",
      "last_price                  0\n",
      "total_area                  0\n",
      "first_day_exposition        0\n",
      "rooms                       0\n",
      "ceiling_height           9195\n",
      "floors_total               86\n",
      "living_area              1903\n",
      "floor                       0\n",
      "is_apartment            20924\n",
      "studio                      0\n",
      "open_plan                   0\n",
      "kitchen_area             2278\n",
      "balcony                 11519\n",
      "locality_name              49\n",
      "airports_nearest         5542\n",
      "cityCenters_nearest      5519\n",
      "parks_around3000         5518\n",
      "parks_nearest           15620\n",
      "ponds_around3000         5518\n",
      "ponds_nearest           14589\n",
      "days_exposition          3181\n",
      "dtype: int64\n",
      "---------------------------------------------------------------\n",
      "total_images            0.000000\n",
      "last_price              0.000000\n",
      "total_area              0.000000\n",
      "first_day_exposition    0.000000\n",
      "rooms                   0.000000\n",
      "ceiling_height          0.387991\n",
      "floors_total            0.003629\n",
      "living_area             0.080299\n",
      "floor                   0.000000\n",
      "is_apartment            0.882906\n",
      "studio                  0.000000\n",
      "open_plan               0.000000\n",
      "kitchen_area            0.096122\n",
      "balcony                 0.486054\n",
      "locality_name           0.002068\n",
      "airports_nearest        0.233850\n",
      "cityCenters_nearest     0.232879\n",
      "parks_around3000        0.232837\n",
      "parks_nearest           0.659100\n",
      "ponds_around3000        0.232837\n",
      "ponds_nearest           0.615596\n",
      "days_exposition         0.134225\n",
      "dtype: float64\n"
     ]
    }
   ],
   "source": [
    "print(data.isna().sum())\n",
    "print('---------------------------------------------------------------')\n",
    "print(data.isnull().mean())\n",
    "\n",
    "#Можно ли объединить как-то результаты этих двух выводов в одну таблицу?"
   ]
  },
  {
   "cell_type": "code",
   "execution_count": 4,
   "metadata": {},
   "outputs": [
    {
     "name": "stdout",
     "output_type": "stream",
     "text": [
      "total_images\n",
      "[20  7 10  0  2  6  5 18  9  1 16 11  8 12 13  3 15 17 14 19 32  4 35 39\n",
      " 23 21 27 30 24 25 28 31 22 29 26 50 42 37]\n",
      "---------------------------------------------------------------\n",
      "\n",
      "last_price\n",
      "[13000000.  3350000.  5196000. ...  6151120. 21400000. 11475000.]\n",
      "---------------------------------------------------------------\n",
      "\n",
      "total_area\n",
      "[108.    40.4   56.   ...  66.86 133.81  76.75]\n",
      "---------------------------------------------------------------\n",
      "\n",
      "first_day_exposition\n",
      "['2019-03-07T00:00:00' '2018-12-04T00:00:00' '2015-08-20T00:00:00' ...\n",
      " '2014-12-29T00:00:00' '2016-09-12T00:00:00' '2015-07-19T00:00:00']\n",
      "---------------------------------------------------------------\n",
      "\n",
      "rooms\n",
      "[ 3  1  2  4  5  6  0  7 11  8 14 10 15  9 19 16 12]\n",
      "---------------------------------------------------------------\n",
      "\n",
      "ceiling_height\n",
      "[  2.7     nan   3.03   2.5    2.67   2.56   3.05   2.75   2.6    2.9\n",
      "   2.8    2.55   3.     2.65   3.2    2.61   3.25   3.45   2.77   2.85\n",
      "   2.64   2.57   4.15   3.5    3.3    2.71   4.     2.47   2.73   2.84\n",
      "   3.1    2.34   3.4    3.06   2.72   2.54   2.51   2.78   2.76  25.\n",
      "   2.58   3.7    2.52   5.2    2.87   2.66   2.59   2.     2.45   3.6\n",
      "   2.92   3.11   3.13   3.8    3.15   3.55   3.16   3.62   3.12   2.53\n",
      "   2.74   2.96   2.46   5.3    5.     2.79   2.95   4.06   2.94   3.82\n",
      "   3.54   3.53   2.83   4.7    2.4    3.38   3.01   5.6    3.65   3.9\n",
      "   3.18   3.35   2.3    3.57   2.48   2.62   2.82   3.98   2.63   3.83\n",
      "   3.52   3.95   3.75   2.88   3.67   3.87   3.66   3.85   3.86   4.19\n",
      "   3.24   4.8    4.5    4.2    3.36  32.     3.08   3.68   3.07   3.37\n",
      "   3.09   8.     3.26   3.34   2.81   3.44   2.97   3.14   4.37   2.68\n",
      "   3.22   3.27  27.     4.1    2.93   3.46  24.     3.47   3.33   3.63\n",
      "   3.32  26.     1.2    8.3    2.98   2.86   3.17   4.4    3.28   3.04\n",
      "   4.45   5.5    3.84   3.23   3.02   3.21   3.43   3.78   4.3    3.39\n",
      "   2.69   3.31   4.65   3.56   2.2    3.51   3.93   3.42   2.99   3.49\n",
      "  14.     4.14   2.91   3.88   1.75   4.25   3.29  20.     2.25   3.76\n",
      "   3.69   6.    22.6    2.89   3.58   5.8   27.5    2.49   4.9    3.48\n",
      "  10.3    1.   100.     3.59]\n",
      "---------------------------------------------------------------\n",
      "\n",
      "floors_total\n",
      "[16. 11.  5. 14. 12. 26. 24. 27.  9.  6. 17. 25.  3. 23. 19. 18.  4. 22.\n",
      "  8.  2. 10.  7. 13. 15. nan 20. 28. 36. 21. 35. 34. 60.  1. 29. 33. 52.\n",
      " 37.]\n",
      "---------------------------------------------------------------\n",
      "\n",
      "living_area\n",
      "[51.   18.6  34.3  ... 31.65 13.59 42.55]\n",
      "---------------------------------------------------------------\n",
      "\n",
      "floor\n",
      "[ 8  1  4  9 13  5  6 22 26  7  3  2 11 15 18 10 19 16 20 27 25 17 14 12\n",
      " 21 28 24 23 30 29 32 33 31]\n",
      "---------------------------------------------------------------\n",
      "\n",
      "is_apartment\n",
      "[nan False True]\n",
      "---------------------------------------------------------------\n",
      "\n",
      "studio\n",
      "[False  True]\n",
      "---------------------------------------------------------------\n",
      "\n",
      "open_plan\n",
      "[False  True]\n",
      "---------------------------------------------------------------\n",
      "\n",
      "kitchen_area\n",
      "[ 25.    11.     8.3     nan  41.     9.1   14.4   18.9    8.81   6.5\n",
      "   8.5    6.     9.     5.2    8.     7.6    5.6   12.     5.7    6.1\n",
      "  19.6   15.     7.     9.2   11.7   13.4   17.     6.3   11.6    8.8\n",
      "  10.    17.6    7.5    9.5   50.    15.5   10.7   11.1   20.    11.9\n",
      "  16.     5.3   11.5    7.2    6.2   10.4    7.1    4.9    7.3   11.95\n",
      "  10.2    6.4    5.5   13.     8.4   23.6   10.8   18.3    5.     8.2\n",
      "  24.    23.8    6.6   26.85  15.4    7.8   33.8    5.4   12.72  12.2\n",
      "  19.    12.4    7.9   10.3    9.8   17.5   14.7   20.91  21.3   10.6\n",
      "  10.9    9.7    7.7   12.5   11.4    8.6   11.24  14.1   15.7   13.29\n",
      "  14.    12.9   12.7   16.5    9.36  21.5   35.    10.5    8.7   19.3\n",
      "  21.4   40.    49.2   11.52   8.9    9.6   30.    14.2    8.1   10.44\n",
      "   4.5   16.3   11.2   18.4    7.4   11.3    9.4   13.1   10.19   7.06\n",
      "  22.    36.     5.1   18.7    9.9   14.3   18.    23.    19.4   11.8\n",
      "  13.3   17.7   23.1   10.63  21.1   11.33  13.5   19.5   13.2   17.2\n",
      "  77.    13.8   12.3    9.3    5.8   26.1   12.88   9.28  16.1   14.5\n",
      "  31.     5.9   10.1   23.4   16.2   19.2   28.6   15.1   26.4    8.98\n",
      "  10.59  17.9   16.8   11.27  16.74   9.57  23.43  15.2    8.07  12.24\n",
      "  13.39  36.6   10.84  15.3   18.5   23.9   19.7   19.9   22.1   10.35\n",
      "  10.69  16.9    5.49  31.2    6.8    8.29   6.7   13.6   16.6   10.75\n",
      "  18.8   17.8    2.     6.77  11.06  12.6    7.71  27.    11.35  13.31\n",
      "  63.    21.    20.6   11.78  20.5   13.79  20.52   5.75  66.    18.78\n",
      "  23.5   24.3    6.9   14.8    8.87  14.9    8.71   9.95  17.53  42.6\n",
      "  25.2    8.31   9.67  16.7   14.61  32.    22.4   16.4    6.36  17.1\n",
      "  13.14  18.2    9.18  13.7   15.61  22.31   9.45  29.    14.49   5.35\n",
      "  29.9   25.1    8.08  13.11   6.25  26.    35.35  12.8   30.2   10.09\n",
      "  46.    32.1   11.29  14.56  11.11  11.49  13.67  16.72  24.5   11.14\n",
      "  20.9   11.05   4.    14.84   8.21  12.18  25.34   9.25   8.65  13.9\n",
      "  13.53  15.09   9.39  18.6   15.9   24.7   12.35  20.8   27.4    7.17\n",
      "   3.     8.23  24.03   9.17  43.    10.45  11.39  19.92  20.2   10.72\n",
      "  20.07  11.81  18.45  10.51  39.    10.91   6.73  11.85  37.8    4.8\n",
      " 100.7   21.6    5.78  12.1   11.28   9.97  10.68  21.2   10.56   9.68\n",
      "   8.25   4.7   17.4   10.02  40.2   11.62  14.6   11.71  13.69  18.1\n",
      "  22.22  17.3    6.35  23.3   10.88   6.76  28.    10.29  11.63  25.6\n",
      "  19.1   15.6   21.87   3.2   12.27  10.39  10.89  60.    11.53   5.68\n",
      "  10.55  33.     3.8   36.2    9.22   5.62  38.    21.9   12.17  19.8\n",
      "  37.     4.2   21.7   12.38  11.46   7.89  31.7   24.4   14.57  30.9\n",
      "  10.15  12.05   9.27  15.33   6.58   9.93  35.05  25.3   28.8   13.05\n",
      "  29.4   36.5    7.92  15.8   15.69  42.     7.85  13.16  12.86  48.\n",
      "  30.5   29.3   45.     9.32  44.     5.74  11.26  13.38  14.31  26.6\n",
      "   6.55  10.52   6.72  13.02  11.17  56.2   12.52  28.2   12.29  11.59\n",
      "   8.38   5.47  10.18  10.64  18.88   9.89  36.3   12.92  23.53  37.7\n",
      "  10.36  14.05   9.04  10.78  14.24  13.42  32.8   20.16  10.12   7.12\n",
      "  17.64  23.25  11.41  11.42  40.4   31.47  13.55  13.28  14.55   9.38\n",
      "   8.32  11.55  13.81  24.1   11.51   7.65   9.91  16.83  11.34 100.\n",
      "  11.16  18.34  34.19   6.02  18.07  20.1   12.08   7.18   8.11   8.05\n",
      "   8.06  12.96  42.4    8.93  44.9   10.62   9.72  22.5   11.18  10.22\n",
      "  51.    21.8   10.94  13.49  31.73  70.    25.7    5.86   7.63  11.47\n",
      "  13.25  22.2   19.35  17.28  14.04  39.9   21.76   4.3   10.06   8.19\n",
      "  28.4   22.7   14.74  11.12  25.11  14.02  13.06   8.01  20.38   5.53\n",
      "  46.8   11.31  17.85  20.7   34.78   9.46   6.31  42.5    9.48  43.4\n",
      "  11.57  12.44  14.46  12.58  12.47   7.95  16.32  15.26  12.23  11.37\n",
      "  27.9    8.58  19.51  12.39   9.65   9.05   6.84  20.3   26.5   63.4\n",
      "  41.9    6.82  11.36  10.08  10.54   9.16  14.95  12.84  22.9    8.76\n",
      "  10.03   9.35  11.13   7.87   2.89  45.5    7.36  24.9    9.59   7.97\n",
      "   9.85  33.9   42.8    7.86   5.25  10.26   5.33  12.85   9.51  58.4\n",
      "  10.34  23.71  19.42   6.83  11.92  13.17  13.27  11.84  12.56  53.1\n",
      "  20.56  41.3    9.01   8.73   5.82   3.7    2.4   31.8   42.7   40.5\n",
      "  12.02   8.57  12.76   8.66  11.04  40.3   15.83  18.59   9.37  23.38\n",
      "  10.42  13.93   7.54  23.42  13.64   5.61  19.45  17.59  29.1    5.65\n",
      "  15.42  11.09  11.73  15.72  25.4   10.25  10.38  13.41   5.23   9.09\n",
      "  11.45  11.74  14.64  12.14   8.84  16.66  10.27   3.5   12.55  32.55\n",
      "  16.26   6.62  10.33  13.26  32.3   23.2   14.14   9.62  34.    10.92\n",
      "  10.58  22.8   15.85   7.78   8.94   9.82  34.7    8.45  15.62  22.3\n",
      "  14.17  15.39  56.     8.43  87.2   12.66   8.35   8.47  22.72   9.52\n",
      "  28.1   14.97   4.6    5.29  10.49  15.07  15.37  20.31  23.28   8.54\n",
      "  30.59  27.57   9.71  28.63   9.98  37.9    6.91  25.9   47.    51.8\n",
      "  14.27  40.7   19.61   9.44  27.76  25.86  36.4   15.78  10.05  26.2\n",
      "  10.32  19.39   9.77  29.5   13.73  10.71  10.73  13.84   6.19  28.5\n",
      "  16.25  13.47   4.4   43.2   27.5   11.67  44.7   12.57  16.27   6.28\n",
      "  12.01  37.6   13.35   3.4    8.61   8.96  34.8   27.3   10.24   8.15\n",
      "  35.5    4.1   10.43  16.46   7.19  62.    34.3   48.5   30.6   17.55\n",
      "  10.74  13.24   5.91   9.43  20.92   8.13  33.1   10.37  16.77   6.27\n",
      "  26.8   12.37  22.6   33.6    9.76  16.92  15.54   6.23  15.35  37.5\n",
      "  21.82   7.94  34.1    6.03  15.55   8.44  43.8   29.09  18.93  12.75\n",
      "   6.33  24.8    5.64  22.43  39.1   27.6    7.48  32.7    5.44   6.22\n",
      "   7.41  27.1   17.06  75.    34.51   6.26  35.6    9.83  54.3   28.7\n",
      "   3.3   13.63  62.5   10.47  11.87  28.3   11.25   5.42  18.25   8.82\n",
      "   9.58   5.04  13.52  11.44   8.48  13.21   8.03  16.89  26.9   35.4\n",
      "  13.95  14.72   9.34  64.    37.78  23.7   29.8    6.95  16.05  11.65\n",
      "  38.1   10.99  10.86   8.85  14.65   9.24  16.45   7.84  93.2    9.79\n",
      "   7.03  17.12   5.28  12.53  14.51   9.31  31.6   72.     6.86  11.07\n",
      "  14.06  93.     6.93  15.15  32.9    8.34  55.7   24.89  35.9   22.78\n",
      "  16.47  38.86  18.16   8.69  25.5   22.46  13.74  54.2   19.21  31.5\n",
      "  12.11  11.98  10.17  35.7   12.71   2.3   16.07   9.42  20.77  28.64\n",
      "  13.86  10.01  24.2   12.45  12.87  14.33  12.15  39.7   65.     5.06\n",
      "  14.29  14.43  25.02   8.52  11.56  12.89   8.63  13.32  16.42   5.31\n",
      "  14.77  27.2    9.26  14.93  31.4    9.06   6.61  20.4    6.65  19.19\n",
      "  20.24  13.77   6.37  53.    14.58   9.19   8.67  21.22 112.    13.58\n",
      "  12.03  10.87  19.28  16.48  32.6    9.08  12.69   8.09   5.21  12.83\n",
      "  54.    11.64 107.     1.3   55.5   48.3    9.11  21.53  29.86  28.52\n",
      "  15.43  15.57  13.43  19.94   8.77  50.2   15.03  16.38  13.33  12.43\n",
      "  17.61   9.66  12.32  58.    24.6    6.47  41.1    8.12  21.25  10.13\n",
      "  41.6   49.4   12.25  28.56  11.69  14.85  15.18   8.02  11.22   8.95\n",
      "  34.6   29.2    9.73  10.46  26.7   29.7   32.4   12.93  12.63  15.24\n",
      "   8.18  22.15  11.43   7.02  11.93   7.09   6.16   7.15  13.65  10.79\n",
      "  14.98  34.4    5.14   9.75   5.59  35.1   13.04  10.95  16.03   9.13\n",
      "  17.44  40.1    5.85   6.24  21.74  31.3   30.8   16.88  21.55  18.55\n",
      "  17.87  13.83]\n",
      "---------------------------------------------------------------\n",
      "\n",
      "balcony\n",
      "[nan  2.  0.  1.  5.  4.  3.]\n",
      "---------------------------------------------------------------\n",
      "\n",
      "locality_name\n",
      "['Санкт-Петербург' 'посёлок Шушары' 'городской посёлок Янино-1'\n",
      " 'посёлок Парголово' 'посёлок Мурино' 'Ломоносов' 'Сертолово' 'Петергоф'\n",
      " 'Пушкин' 'деревня Кудрово' 'Коммунар' 'Колпино'\n",
      " 'поселок городского типа Красный Бор' 'Гатчина' 'поселок Мурино'\n",
      " 'деревня Фёдоровское' 'Выборг' 'Кронштадт' 'Кировск'\n",
      " 'деревня Новое Девяткино' 'посёлок Металлострой'\n",
      " 'посёлок городского типа Лебяжье' 'посёлок городского типа Сиверский'\n",
      " 'поселок Молодцово' 'поселок городского типа Кузьмоловский'\n",
      " 'садовое товарищество Новая Ропша' 'Павловск' 'деревня Пикколово'\n",
      " 'Всеволожск' 'Волхов' 'Кингисепп' 'Приозерск' 'Сестрорецк'\n",
      " 'деревня Куттузи' 'посёлок Аннино' 'поселок городского типа Ефимовский'\n",
      " 'посёлок Плодовое' 'деревня Заклинье' 'поселок Торковичи'\n",
      " 'поселок Первомайское' 'Красное Село' 'посёлок Понтонный' 'Сясьстрой'\n",
      " 'деревня Старая' 'деревня Лесколово' 'посёлок Новый Свет' 'Сланцы'\n",
      " 'село Путилово' 'Ивангород' 'Мурино' 'Шлиссельбург' 'Никольское'\n",
      " 'Зеленогорск' 'Сосновый Бор' 'поселок Новый Свет' 'деревня Оржицы'\n",
      " 'деревня Кальтино' 'Кудрово' 'поселок Романовка' 'посёлок Бугры'\n",
      " 'поселок Бугры' 'поселок городского типа Рощино' 'Кириши' 'Луга'\n",
      " 'Волосово' 'Отрадное' 'село Павлово' 'поселок Оредеж' 'село Копорье'\n",
      " 'посёлок городского типа Красный Бор' 'посёлок Молодёжное' 'Тихвин'\n",
      " 'посёлок Победа' 'деревня Нурма' 'поселок городского типа Синявино'\n",
      " 'Тосно' 'посёлок городского типа Кузьмоловский' 'посёлок Стрельна'\n",
      " 'Бокситогорск' 'посёлок Александровская' 'деревня Лопухинка' 'Пикалёво'\n",
      " 'поселок Терволово' 'поселок городского типа Советский' 'Подпорожье'\n",
      " 'посёлок Петровское' 'посёлок городского типа Токсово' 'поселок Сельцо'\n",
      " 'посёлок городского типа Вырица' 'деревня Кипень' 'деревня Келози'\n",
      " 'деревня Вартемяги' 'посёлок Тельмана' 'поселок Севастьяново'\n",
      " 'городской поселок Большая Ижора' nan 'городской посёлок Павлово'\n",
      " 'деревня Агалатово' 'посёлок Новогорелово'\n",
      " 'городской посёлок Лесогорский' 'деревня Лаголово' 'поселок Цвелодубово'\n",
      " 'поселок городского типа Рахья' 'поселок городского типа Вырица'\n",
      " 'деревня Белогорка' 'поселок Заводской' 'городской посёлок Новоселье'\n",
      " 'деревня Большие Колпаны' 'деревня Горбунки' 'деревня Батово'\n",
      " 'деревня Заневка' 'деревня Иссад' 'Приморск'\n",
      " 'городской посёлок Фёдоровское' 'деревня Мистолово' 'Новая Ладога'\n",
      " 'поселок Зимитицы' 'поселок Барышево' 'деревня Разметелево'\n",
      " 'поселок городского типа имени Свердлова' 'деревня Пеники'\n",
      " 'поселок Рябово' 'деревня Пудомяги' 'поселок станции Корнево'\n",
      " 'деревня Низино' 'деревня Бегуницы' 'посёлок Поляны'\n",
      " 'городской посёлок Мга' 'поселок Елизаветино'\n",
      " 'посёлок городского типа Кузнечное' 'деревня Колтуши'\n",
      " 'поселок Запорожское' 'посёлок городского типа Рощино'\n",
      " 'деревня Гостилицы' 'деревня Малое Карлино' 'посёлок Мичуринское'\n",
      " 'посёлок городского типа имени Морозова' 'посёлок Песочный'\n",
      " 'посёлок Сосново' 'деревня Аро' 'поселок Ильичёво'\n",
      " 'посёлок городского типа Тайцы' 'деревня Малое Верево' 'деревня Извара'\n",
      " 'поселок станции Вещево' 'село Паша' 'деревня Калитино'\n",
      " 'посёлок городского типа Ульяновка' 'деревня Чудской Бор'\n",
      " 'поселок городского типа Дубровка' 'деревня Мины' 'поселок Войсковицы'\n",
      " 'посёлок городского типа имени Свердлова' 'деревня Коркино'\n",
      " 'посёлок Ропша' 'поселок городского типа Приладожский' 'посёлок Щеглово'\n",
      " 'посёлок Гаврилово' 'Лодейное Поле' 'деревня Рабитицы'\n",
      " 'поселок городского типа Никольский' 'деревня Кузьмолово'\n",
      " 'деревня Малые Колпаны' 'поселок Тельмана' 'посёлок Петро-Славянка'\n",
      " 'городской посёлок Назия' 'посёлок Репино' 'посёлок Ильичёво'\n",
      " 'поселок Углово' 'поселок Старая Малукса' 'садовое товарищество Рахья'\n",
      " 'поселок Аннино' 'поселок Победа' 'деревня Меньково'\n",
      " 'деревня Старые Бегуницы' 'посёлок Сапёрный' 'поселок Семрино'\n",
      " 'поселок Гаврилово' 'поселок Глажево' 'поселок Кобринское'\n",
      " 'деревня Гарболово' 'деревня Юкки' 'поселок станции Приветнинское'\n",
      " 'деревня Мануйлово' 'деревня Пчева' 'поселок Поляны' 'поселок Цвылёво'\n",
      " 'поселок Мельниково' 'посёлок Пудость' 'посёлок Усть-Луга' 'Светогорск'\n",
      " 'Любань' 'поселок Селезнёво' 'поселок городского типа Рябово'\n",
      " 'Каменногорск' 'деревня Кривко' 'поселок Глебычево' 'деревня Парицы'\n",
      " 'поселок Жилпосёлок' 'посёлок городского типа Мга'\n",
      " 'городской поселок Янино-1' 'посёлок Войскорово' 'село Никольское'\n",
      " 'посёлок Терволово' 'поселок Стеклянный' 'посёлок городского типа Важины'\n",
      " 'посёлок Мыза-Ивановка' 'село Русско-Высоцкое'\n",
      " 'поселок городского типа Лебяжье' 'поселок городского типа Форносово'\n",
      " 'село Старая Ладога' 'поселок Житково' 'городской посёлок Виллози'\n",
      " 'деревня Лампово' 'деревня Шпаньково' 'деревня Лаврики' 'посёлок Сумино'\n",
      " 'посёлок Возрождение' 'деревня Старосиверская' 'посёлок Кикерино'\n",
      " 'поселок Возрождение' 'деревня Старое Хинколово' 'посёлок Пригородный'\n",
      " 'посёлок Торфяное' 'городской посёлок Будогощь' 'поселок Суходолье'\n",
      " 'поселок Красная Долина' 'деревня Хапо-Ое'\n",
      " 'поселок городского типа Дружная Горка' 'поселок Лисий Нос'\n",
      " 'деревня Яльгелево' 'посёлок Стеклянный' 'село Рождествено'\n",
      " 'деревня Старополье' 'посёлок Левашово' 'деревня Сяськелево'\n",
      " 'деревня Камышовка'\n",
      " 'садоводческое некоммерческое товарищество Лесная Поляна'\n",
      " 'деревня Хязельки' 'поселок Жилгородок' 'посёлок городского типа Павлово'\n",
      " 'деревня Ялгино' 'поселок Новый Учхоз' 'городской посёлок Рощино'\n",
      " 'поселок Гончарово' 'поселок Почап' 'посёлок Сапёрное'\n",
      " 'посёлок Платформа 69-й километр' 'поселок Каложицы' 'деревня Фалилеево'\n",
      " 'деревня Пельгора' 'поселок городского типа Лесогорский'\n",
      " 'деревня Торошковичи' 'посёлок Белоостров' 'посёлок Алексеевка'\n",
      " 'поселок Серебрянский' 'поселок Лукаши' 'поселок Петровское'\n",
      " 'деревня Щеглово' 'поселок Мичуринское' 'деревня Тарасово'\n",
      " 'поселок Кингисеппский' 'посёлок при железнодорожной станции Вещево'\n",
      " 'поселок Ушаки' 'деревня Котлы' 'деревня Сижно' 'деревня Торосово'\n",
      " 'посёлок Форт Красная Горка' 'поселок городского типа Токсово'\n",
      " 'деревня Новолисино' 'посёлок станции Громово' 'деревня Глинка'\n",
      " 'посёлок Мельниково' 'поселок городского типа Назия'\n",
      " 'деревня Старая Пустошь' 'поселок Коммунары' 'поселок Починок'\n",
      " 'посёлок городского типа Вознесенье' 'деревня Разбегаево'\n",
      " 'посёлок городского типа Рябово' 'поселок Гладкое'\n",
      " 'посёлок при железнодорожной станции Приветнинское' 'поселок Тёсово-4'\n",
      " 'посёлок Жилгородок' 'деревня Бор' 'посёлок Коробицыно'\n",
      " 'деревня Большая Вруда' 'деревня Курковицы' 'посёлок Лисий Нос'\n",
      " 'городской посёлок Советский' 'посёлок Кобралово' 'деревня Суоранда'\n",
      " 'поселок Кобралово' 'поселок городского типа Кондратьево'\n",
      " 'коттеджный поселок Счастье' 'поселок Любань' 'деревня Реброво'\n",
      " 'деревня Зимитицы' 'деревня Тойворово' 'поселок Семиозерье'\n",
      " 'поселок Лесное' 'поселок Совхозный' 'поселок Усть-Луга'\n",
      " 'посёлок Ленинское' 'посёлок Суйда' 'посёлок городского типа Форносово'\n",
      " 'деревня Нижние Осельки' 'посёлок станции Свирь' 'поселок Перово'\n",
      " 'Высоцк' 'поселок Гарболово' 'село Шум' 'поселок Котельский'\n",
      " 'поселок станции Лужайка' 'деревня Большая Пустомержа'\n",
      " 'поселок Красносельское' 'деревня Вахнова Кара' 'деревня Пижма'\n",
      " 'коттеджный поселок Кивеннапа Север' 'поселок Коробицыно'\n",
      " 'поселок Ромашки' 'посёлок Перово' 'деревня Каськово' 'деревня Куровицы'\n",
      " 'посёлок Плоское' 'поселок Сумино'\n",
      " 'поселок городского типа Большая Ижора' 'поселок Кирпичное'\n",
      " 'деревня Ям-Тесово' 'деревня Раздолье' 'деревня Терпилицы'\n",
      " 'посёлок Шугозеро' 'деревня Ваганово' 'поселок Пушное'\n",
      " 'садовое товарищество Садко' 'посёлок Усть-Ижора' 'деревня Выскатка'\n",
      " 'городской посёлок Свирьстрой' 'поселок Громово' 'деревня Кисельня'\n",
      " 'посёлок Старая Малукса' 'деревня Трубников Бор' 'поселок Калитино'\n",
      " 'посёлок Высокоключевой' 'садовое товарищество Приладожский'\n",
      " 'посёлок Пансионат Зелёный Бор' 'деревня Ненимяки'\n",
      " 'поселок Пансионат Зелёный Бор' 'деревня Снегирёвка' 'деревня Рапполово'\n",
      " 'деревня Пустынка' 'поселок Рабитицы' 'деревня Большой Сабск'\n",
      " 'деревня Русско' 'деревня Лупполово' 'деревня Большое Рейзино'\n",
      " 'деревня Малая Романовка' 'поселок Дружноселье' 'поселок Пчевжа'\n",
      " 'поселок Володарское' 'деревня Нижняя' 'коттеджный посёлок Лесное'\n",
      " 'деревня Тихковицы' 'деревня Борисова Грива' 'посёлок Дзержинского']\n",
      "---------------------------------------------------------------\n",
      "\n",
      "airports_nearest\n",
      "[18863. 12817. 21741. ... 11751. 20151. 24665.]\n",
      "---------------------------------------------------------------\n",
      "\n",
      "cityCenters_nearest\n",
      "[16028. 18603. 13933. ... 27977.  7262.  6263.]\n",
      "---------------------------------------------------------------\n",
      "\n",
      "parks_around3000\n",
      "[ 1.  0.  2. nan  3.]\n",
      "---------------------------------------------------------------\n",
      "\n",
      "parks_nearest\n",
      "[4.820e+02       nan 9.000e+01 8.400e+01 1.120e+02 3.100e+02 2.940e+02\n",
      " 5.900e+02 4.200e+02 7.590e+02 2.480e+02 5.170e+02 4.110e+02 4.520e+02\n",
      " 5.320e+02 4.590e+02 7.250e+02 4.700e+01 6.200e+02 6.750e+02 5.310e+02\n",
      " 5.260e+02 2.710e+02 3.630e+02 6.480e+02 3.820e+02 3.340e+02 1.670e+02\n",
      " 4.450e+02 2.310e+02 5.110e+02 7.510e+02 6.660e+02 3.840e+02 1.270e+02\n",
      " 2.410e+02 4.880e+02 1.560e+02 5.760e+02 2.850e+02 6.330e+02 1.500e+01\n",
      " 2.150e+02 5.330e+02 1.410e+02 3.660e+02 3.410e+02 5.890e+02 3.440e+02\n",
      " 5.080e+02 4.170e+02 7.620e+02 4.410e+02 5.590e+02 7.490e+02 1.230e+02\n",
      " 5.010e+02 1.000e+01 1.133e+03 1.205e+03 5.160e+02 8.600e+02 2.760e+02\n",
      " 9.800e+02 4.630e+02 5.910e+02 2.390e+02 6.510e+02 1.021e+03 4.850e+02\n",
      " 5.860e+02 3.700e+02 6.880e+02 2.750e+02 5.460e+02 4.660e+02 1.390e+02\n",
      " 2.510e+02 5.370e+02 6.270e+02 1.040e+02 4.500e+02 6.570e+02 5.780e+02\n",
      " 7.700e+01 1.210e+02 3.140e+02 1.950e+02 5.560e+02 4.690e+02 7.500e+01\n",
      " 3.980e+02 6.810e+02 5.000e+01 9.200e+01 9.290e+02 3.200e+02 5.100e+02\n",
      " 7.410e+02 3.570e+02 2.295e+03 6.340e+02 3.770e+02 6.110e+02 3.490e+02\n",
      " 4.510e+02 6.410e+02 3.740e+02 8.350e+02 9.300e+01 5.130e+02 3.010e+02\n",
      " 1.620e+02 1.510e+03 5.190e+02 3.600e+01 5.570e+02 4.210e+02 1.060e+02\n",
      " 5.400e+02 6.300e+02 3.850e+02 4.710e+02 3.250e+02 8.030e+02 4.010e+02\n",
      " 1.850e+02 7.830e+02 3.920e+02 4.680e+02 1.820e+02 2.870e+02 3.090e+02\n",
      " 5.050e+02 1.870e+02 4.530e+02 3.880e+02 6.350e+02 6.530e+02 2.900e+02\n",
      " 5.380e+02 2.260e+02 7.980e+02 6.800e+02 4.160e+02 4.120e+02 1.380e+02\n",
      " 6.370e+02 8.160e+02 7.020e+02 6.060e+02 1.520e+02 2.102e+03 4.600e+02\n",
      " 5.960e+02 6.040e+02 3.280e+02 6.760e+02 5.340e+02 5.580e+02 4.720e+02\n",
      " 1.443e+03 1.590e+02 1.900e+01 5.300e+01 2.070e+02 4.980e+02 5.200e+02\n",
      " 6.450e+02 1.610e+02 7.690e+02 5.800e+02 3.780e+02 4.940e+02 7.140e+02\n",
      " 4.640e+02 4.460e+02 2.200e+02 8.020e+02 2.880e+02 5.150e+02 6.010e+02\n",
      " 1.920e+02 4.560e+02 1.700e+02 6.320e+02 5.870e+02 6.430e+02 9.090e+02\n",
      " 2.910e+02 6.870e+02 7.840e+02 5.060e+02 4.350e+02 4.830e+02 5.200e+01\n",
      " 1.750e+02 4.610e+02 2.330e+02 2.137e+03 2.010e+02 5.630e+02 9.680e+02\n",
      " 2.380e+02 4.760e+02 1.300e+01 3.670e+02 7.350e+02 1.770e+02 2.920e+02\n",
      " 4.700e+02 5.700e+01 3.930e+02 4.960e+02 1.496e+03 1.570e+02 4.390e+02\n",
      " 7.070e+02 2.890e+02 5.990e+02 9.370e+02 5.500e+02 3.990e+02 3.370e+02\n",
      " 1.188e+03 6.100e+01 2.650e+02 1.810e+02 5.360e+02 2.950e+02 2.590e+02\n",
      " 5.210e+02 2.630e+02 2.360e+02 3.910e+02 4.330e+02 2.430e+02 3.680e+02\n",
      " 4.810e+02 4.030e+02 4.250e+02 7.560e+02 7.120e+02 1.940e+02 2.580e+02\n",
      " 4.910e+02 1.470e+02 6.720e+02 7.370e+02 7.000e+02 3.260e+02 6.800e+01\n",
      " 3.360e+02 5.410e+02 8.700e+01 8.230e+02 5.720e+02 2.340e+02 2.245e+03\n",
      " 4.920e+02 2.110e+02 2.700e+01 2.520e+02 3.300e+02 4.200e+01 6.960e+02\n",
      " 3.430e+02 1.960e+02 2.500e+02 1.730e+02 5.920e+02 4.580e+02 6.900e+02\n",
      " 4.970e+02 1.731e+03 3.060e+02 8.420e+02 1.510e+02 6.550e+02 5.070e+02\n",
      " 4.430e+02 5.680e+02 2.270e+02 6.260e+02 1.100e+02 6.500e+02 8.050e+02\n",
      " 6.460e+02 3.020e+02 3.040e+02 6.580e+02 3.180e+02 2.780e+02 2.470e+02\n",
      " 9.340e+02 2.180e+02 1.600e+02 5.420e+02 7.210e+02 6.680e+02 4.570e+02\n",
      " 3.860e+02 2.610e+02 4.140e+02 2.840e+02 8.430e+02 1.440e+02 1.830e+02\n",
      " 5.970e+02 7.900e+02 6.090e+02 9.510e+02 2.100e+02 1.530e+02 2.170e+02\n",
      " 7.100e+02 1.065e+03 1.740e+02 3.500e+01 4.400e+02 3.810e+02 1.100e+01\n",
      " 8.110e+02 6.830e+02 3.350e+02 1.630e+02 3.650e+02 9.200e+02 6.240e+02\n",
      " 4.780e+02 8.500e+02 5.240e+02 5.540e+02 1.550e+02 8.980e+02 3.800e+02\n",
      " 7.150e+02 2.790e+02 3.310e+02 7.390e+02 1.370e+02 6.910e+02 5.100e+01\n",
      " 5.810e+02 5.700e+02 6.440e+02 2.400e+02 1.490e+02 3.640e+02 1.756e+03\n",
      " 2.130e+02 6.380e+02 1.103e+03 2.460e+02 7.600e+01 1.114e+03 1.600e+01\n",
      " 1.790e+02 5.690e+02 5.470e+02 5.520e+02 9.420e+02 1.340e+02 7.380e+02\n",
      " 7.820e+02 6.500e+01 3.890e+02 4.620e+02 3.580e+02 1.780e+02 6.920e+02\n",
      " 9.330e+02 6.820e+02 6.770e+02 6.390e+02 2.000e+01 1.145e+03 6.520e+02\n",
      " 5.350e+02 6.740e+02 5.290e+02 3.540e+02 4.890e+02 3.064e+03 4.470e+02\n",
      " 5.090e+02 5.280e+02 8.300e+02 1.660e+02 6.710e+02 8.700e+02 6.310e+02\n",
      " 4.800e+02 4.070e+02 3.150e+02 7.800e+01 5.740e+02 9.450e+02 8.080e+02\n",
      " 1.080e+02 3.110e+02 4.740e+02 1.514e+03 3.120e+02 4.320e+02 2.570e+02\n",
      " 9.270e+02 3.800e+01 2.230e+02 8.310e+02 2.700e+02 2.665e+03 2.090e+02\n",
      " 9.100e+01 4.480e+02 6.600e+02 1.360e+02 2.060e+02 1.640e+02 4.930e+02\n",
      " 4.420e+02 7.330e+02 2.888e+03 2.300e+02 3.330e+02 3.760e+02 5.650e+02\n",
      " 9.810e+02 1.980e+02 5.600e+02 5.770e+02 3.420e+02 5.610e+02 2.420e+02\n",
      " 2.276e+03 3.590e+02 1.264e+03 5.250e+02 5.450e+02 2.990e+02 9.790e+02\n",
      " 2.930e+02 3.320e+02 7.200e+01 2.450e+02 4.090e+02 1.477e+03 1.140e+02\n",
      " 5.800e+01 5.530e+02 5.880e+02 3.700e+01 3.940e+02 3.600e+02 5.550e+02\n",
      " 4.870e+02 6.190e+02 7.400e+01 3.730e+02 6.210e+02 2.080e+02 7.040e+02\n",
      " 4.990e+02 5.620e+02 4.080e+02 6.170e+02 1.342e+03 4.220e+02 2.560e+02\n",
      " 5.230e+02 2.467e+03 4.550e+02 6.840e+02 1.320e+02 6.030e+02 6.970e+02\n",
      " 4.260e+02 3.900e+02 2.000e+02 4.340e+02 5.480e+02 5.940e+02 5.040e+02\n",
      " 4.100e+01 1.050e+02 5.430e+02 5.440e+02 8.260e+02 3.000e+01 5.020e+02\n",
      " 7.530e+02 8.930e+02 3.870e+02 1.930e+02 8.010e+02 9.400e+01 6.250e+02\n",
      " 7.060e+02 6.360e+02 3.460e+02 7.190e+02 7.170e+02 2.290e+02 4.770e+02\n",
      " 7.320e+02 6.670e+02 4.840e+02 5.300e+02 8.880e+02 9.380e+02 2.348e+03\n",
      " 3.030e+02 9.650e+02 5.140e+02 5.900e+01 5.220e+02 9.000e+00 6.790e+02\n",
      " 2.209e+03 1.880e+02 6.950e+02 9.610e+02 1.304e+03 3.270e+02 1.028e+03\n",
      " 3.790e+02 7.660e+02 1.097e+03 8.900e+02 4.150e+02 2.860e+02 3.560e+02\n",
      " 8.670e+02 7.910e+02 1.300e+02 8.800e+01 2.905e+03 3.070e+02 6.690e+02\n",
      " 3.710e+02 5.030e+02 4.440e+02 1.424e+03 5.660e+02 1.007e+03 5.930e+02\n",
      " 1.362e+03 3.610e+02 1.499e+03 9.600e+01 1.480e+02 1.260e+02 1.690e+02\n",
      " 6.600e+01 9.040e+02 1.272e+03 6.490e+02 7.960e+02 3.900e+01 1.767e+03\n",
      " 7.420e+02 3.620e+02 2.820e+02 9.170e+02 5.510e+02 5.120e+02 4.900e+01\n",
      " 3.230e+02 2.300e+01 2.160e+02 7.800e+02 6.160e+02 6.400e+02 4.240e+02\n",
      " 1.077e+03 1.049e+03 6.980e+02 3.500e+02 4.790e+02 7.870e+02 1.586e+03\n",
      " 3.190e+02 8.290e+02 2.800e+02 4.900e+02 6.000e+02 4.230e+02 6.620e+02\n",
      " 9.160e+02 2.810e+02 7.780e+02 2.690e+02 1.350e+02 4.950e+02 8.790e+02\n",
      " 1.416e+03 2.280e+02 4.130e+02 7.630e+02 2.030e+02 7.310e+02 4.370e+02\n",
      " 5.850e+02 3.400e+02 1.213e+03 6.020e+02 7.890e+02 8.860e+02 7.240e+02\n",
      " 9.700e+01 7.010e+02 2.220e+02 3.000e+02 4.600e+01 4.270e+02 4.280e+02\n",
      " 2.660e+02 4.310e+02 2.100e+01 3.970e+02 6.280e+02 3.050e+02 2.120e+02\n",
      " 6.220e+02 1.700e+01 2.550e+02 1.910e+02 2.066e+03 1.650e+02 3.550e+02\n",
      " 1.280e+02 3.830e+02 2.320e+02 5.180e+02 4.000e+02 7.610e+02 3.220e+02\n",
      " 8.560e+02 1.200e+03 3.520e+02 2.847e+03 6.730e+02 6.860e+02 9.630e+02\n",
      " 5.390e+02 1.420e+02 1.860e+02 4.040e+02 1.802e+03 2.620e+02 6.230e+02\n",
      " 8.500e+01 2.240e+02 8.270e+02 7.090e+02 4.360e+02 4.060e+02 7.360e+02\n",
      " 4.730e+02 9.150e+02 3.290e+02 5.750e+02 4.500e+01 1.181e+03 6.140e+02\n",
      " 2.600e+02 2.409e+03 8.170e+02 9.970e+02 5.790e+02 2.830e+02 1.186e+03\n",
      " 1.596e+03 8.100e+01 1.800e+01 6.940e+02 3.480e+02 3.530e+02 1.020e+02\n",
      " 1.720e+02 5.830e+02 1.290e+02 2.530e+02 7.110e+02 1.190e+03 4.650e+02\n",
      " 5.490e+02 6.100e+02 8.140e+02 7.160e+02 2.770e+02 8.340e+02 1.326e+03\n",
      " 1.240e+02 3.170e+02 9.360e+02 3.390e+02 8.120e+02 4.490e+02 4.190e+02\n",
      " 3.450e+02 1.170e+02 1.840e+02 9.500e+01 2.960e+02 1.580e+02 7.440e+02\n",
      " 6.050e+02 1.228e+03 5.950e+02 9.060e+02 8.090e+02 5.270e+02 7.650e+02\n",
      " 5.600e+01 6.420e+02 6.300e+01 2.416e+03 8.300e+01 9.730e+02 2.670e+02\n",
      " 2.350e+02 6.850e+02 1.970e+02 6.130e+02 5.640e+02 6.180e+02 3.080e+02\n",
      " 2.640e+02 1.199e+03 1.008e+03 8.460e+02 1.074e+03 1.990e+02 6.700e+01\n",
      " 2.400e+01 7.670e+02 1.069e+03 8.200e+01 3.300e+01 3.130e+02 4.670e+02\n",
      " 1.053e+03 7.030e+02 2.740e+02 6.700e+02 1.710e+02 1.010e+02 6.630e+02\n",
      " 1.942e+03 8.000e+02 6.120e+02 9.560e+02 7.640e+02 2.200e+01 4.180e+02\n",
      " 1.130e+02 4.300e+02 1.256e+03 4.860e+02 6.150e+02 1.722e+03 8.620e+02\n",
      " 6.200e+01 6.890e+02 4.290e+02 3.160e+02 1.648e+03 5.000e+02 2.711e+03\n",
      " 2.540e+02 3.720e+02 1.951e+03 5.840e+02 4.020e+02 7.280e+02 3.750e+02\n",
      " 7.290e+02 6.070e+02 8.520e+02 7.180e+02 2.020e+02 2.970e+02 1.760e+02\n",
      " 1.040e+03 4.750e+02 7.050e+02 3.950e+02 2.980e+02 4.100e+02 4.000e+01\n",
      " 1.098e+03 2.633e+03 1.354e+03 3.240e+02 8.060e+02 6.650e+02 4.300e+01\n",
      " 9.190e+02 6.540e+02 1.500e+02 9.660e+02 3.380e+02 1.310e+02 9.210e+02\n",
      " 7.460e+02 6.990e+02 7.540e+02 7.860e+02 1.909e+03 6.290e+02 1.248e+03\n",
      " 2.720e+02 2.747e+03 7.230e+02 9.740e+02 2.040e+02 7.920e+02 4.400e+01\n",
      " 1.680e+02 1.562e+03 8.410e+02 6.080e+02 9.430e+02 1.022e+03 2.250e+02\n",
      " 2.490e+02 2.880e+03 1.160e+02 5.710e+02 5.500e+01 8.680e+02 3.960e+02\n",
      " 1.540e+02 1.180e+02 1.481e+03 5.980e+02 9.520e+02 8.200e+02 1.090e+02\n",
      " 2.218e+03 1.150e+02 2.440e+02 7.100e+01 2.210e+02 8.730e+02 8.690e+02\n",
      " 2.050e+02 3.400e+01 6.900e+01 8.590e+02 9.670e+02 1.150e+03 5.400e+01\n",
      " 6.400e+01 3.510e+02 7.000e+00 1.400e+02 1.086e+03 1.460e+02 1.299e+03\n",
      " 1.501e+03 6.610e+02 2.026e+03 9.130e+02 5.670e+02 2.730e+02 8.040e+02\n",
      " 7.750e+02 1.200e+02 3.470e+02 8.580e+02 1.330e+02 1.030e+02 4.540e+02\n",
      " 1.000e+02 8.280e+02 4.050e+02 4.800e+01 7.220e+02 1.887e+03 1.809e+03\n",
      " 3.690e+02 8.870e+02 8.390e+02 7.270e+02 1.120e+03 7.700e+02 1.900e+02\n",
      " 1.250e+02 1.057e+03 8.610e+02 3.190e+03 9.320e+02 7.400e+02 8.480e+02\n",
      " 1.191e+03 2.131e+03 8.750e+02 7.710e+02 1.041e+03 3.210e+02 6.930e+02\n",
      " 8.600e+01 2.370e+02 1.215e+03 7.970e+02 3.000e+00 9.030e+02 1.790e+03\n",
      " 1.094e+03 7.480e+02 6.560e+02 7.680e+02 6.590e+02 8.320e+02 9.900e+01\n",
      " 1.220e+02 1.800e+02 5.820e+02 1.620e+03 2.800e+01 7.260e+02 1.364e+03\n",
      " 6.000e+01 7.550e+02 7.300e+02 9.410e+02 1.190e+02 1.200e+01 7.300e+01\n",
      " 1.070e+02 1.211e+03 1.270e+03 9.930e+02 1.400e+03 1.000e+00 9.800e+01\n",
      " 7.080e+02 8.890e+02 7.580e+02 1.450e+02 7.450e+02 8.660e+02 1.568e+03\n",
      " 1.079e+03 8.630e+02 1.400e+01 4.380e+02 1.148e+03 1.061e+03 7.930e+02\n",
      " 8.850e+02 2.489e+03 5.730e+02 7.990e+02 1.361e+03 6.780e+02 7.790e+02\n",
      " 1.423e+03 1.064e+03 1.564e+03 2.555e+03 2.427e+03 9.690e+02 7.130e+02\n",
      " 2.532e+03 1.011e+03 1.890e+02 8.530e+02 3.013e+03 1.312e+03 2.190e+02\n",
      " 8.450e+02 6.470e+02 7.940e+02 1.329e+03 8.220e+02 1.262e+03 1.073e+03\n",
      " 1.798e+03 9.850e+02 1.657e+03 7.880e+02 6.640e+02 3.200e+01 7.570e+02\n",
      " 2.680e+02 8.000e+01 2.768e+03 2.009e+03 8.470e+02 7.600e+02 1.167e+03\n",
      " 4.000e+00 2.984e+03]\n",
      "---------------------------------------------------------------\n",
      "\n",
      "ponds_around3000\n",
      "[ 2.  0.  3.  1. nan]\n",
      "---------------------------------------------------------------\n",
      "\n",
      "ponds_nearest\n",
      "[ 755.   nan  574. ...  959.   40. 1134.]\n",
      "---------------------------------------------------------------\n",
      "\n",
      "days_exposition\n",
      "[  nan   81.  558. ... 1360. 1007.  971.]\n",
      "---------------------------------------------------------------\n",
      "\n"
     ]
    }
   ],
   "source": [
    "for col in data:\n",
    "    print(col)\n",
    "    print(data[col].unique())\n",
    "    print('---------------------------------------------------------------')\n",
    "    print()"
   ]
  },
  {
   "cell_type": "markdown",
   "metadata": {},
   "source": [
    "**Вывод 1**"
   ]
  },
  {
   "cell_type": "markdown",
   "metadata": {},
   "source": [
    "*Файл с данными открыт. Выведена информация по данным,статистические данные и уникальные значения по каждому столбцу*\n",
    "\n",
    "*На основании данных о пропусках по каждому столбцу:*\n",
    "- ceiling_height — высота потолков (м) - изменить пустые значения на медианное значение, изменить высоту потолков более 10 м на медианное значение\n",
    "- living_area — жилая площадь в квадратных метрах(м²) - изменить пустые значения на медианное значение в зависимости от количества комнат\n",
    "- floors_total — всего этажей в доме - убрать строчки с пустыми значениями (таких всего 0,3%), убрать строчки, где этажей более 40\n",
    "- is_apartment — апартаменты (булев тип) - изменить пустые значения на True\n",
    "- kitchen_area — площадь кухни в квадратных метрах (м²) - изменить пустые значения на медианное значение в зависимости от количества комнат\n",
    "- balcony — число балконов - изменить пустые значения на 0\n",
    "- locality_name — название населённого пункта - замена Nan на \"\"\n",
    "- airports_nearest — расстояние до ближайшего аэропорта в метрах (м) - замена Nan на \"\"\n",
    "- cityCenters_nearest — расстояние до центра города (м) - изменить пустые значения на медианное значение\n",
    "- parks_around3000 —число парков в радиусе 3 км-изменить пустые значения на среднее значение,округленное в большую сторону (среднее значение 0.611408, поэтому 1)\n",
    "- parks_nearest — расстояние до ближайшего парка (м) - изменить пустые значения на медианное значение\n",
    "- ponds_around3000 — число водоёмов в радиусе 3 км-изменить пустые значения на среднее значение,округленное в большую сторону (среднее значение 0.770255, поэтому 1)\n",
    "- ponds_nearest — расстояние до ближайшего водоёма (м)- изменить пустые значения на медианное значение\n",
    "- days_exposition — сколько дней было размещено объявление (от публикации до снятия) - изменить пустые значения на медианное значение\n",
    "- rooms - если количество комнат равно 0 (таких всего 0,8%), изменить на 1"
   ]
  },
  {
   "cell_type": "markdown",
   "metadata": {},
   "source": [
    "<div class=\"alert alert-success\">\n",
    "<h2> Комментарий от ревьюера<a class=\"tocSkip\"></a></h2>\n",
    "Молодец, хороший тон использовать методы info() и describe() для получения общей информации из таблицы.\n",
    "    \n",
    " \n",
    "</div>"
   ]
  },
  {
   "cell_type": "markdown",
   "metadata": {},
   "source": [
    "## Предобработка данных"
   ]
  },
  {
   "cell_type": "code",
   "execution_count": 5,
   "metadata": {},
   "outputs": [
    {
     "name": "stdout",
     "output_type": "stream",
     "text": [
      "Медианное значение по высоте полотков: 2.65\n",
      "---------------------------------------------------------------\n",
      "rooms\n",
      "0      18.000\n",
      "1      17.600\n",
      "2      30.500\n",
      "3      45.000\n",
      "4      63.600\n",
      "5      91.785\n",
      "6     123.900\n",
      "7     145.000\n",
      "8     161.000\n",
      "9     179.200\n",
      "10    161.400\n",
      "11    133.900\n",
      "12    409.700\n",
      "14    195.150\n",
      "15    409.000\n",
      "16    180.000\n",
      "19    264.500\n",
      "Name: living_area, dtype: float64\n",
      "---------------------------------------------------------------\n",
      "rooms\n",
      "0        NaN\n",
      "1       9.04\n",
      "2       8.80\n",
      "3       9.50\n",
      "4      11.10\n",
      "5      15.10\n",
      "6      19.50\n",
      "7      20.00\n",
      "8      25.00\n",
      "9      14.30\n",
      "10     19.80\n",
      "11     12.60\n",
      "12    112.00\n",
      "14     21.25\n",
      "15    100.00\n",
      "16     13.00\n",
      "19     27.60\n",
      "Name: kitchen_area, dtype: float64\n",
      "---------------------------------------------------------------\n",
      "1     0.339550\n",
      "2     0.335035\n",
      "3     0.245327\n",
      "4     0.049791\n",
      "5     0.013756\n",
      "0     0.008313\n",
      "6     0.004431\n",
      "7     0.002490\n",
      "8     0.000506\n",
      "9     0.000338\n",
      "10    0.000127\n",
      "14    0.000084\n",
      "11    0.000084\n",
      "19    0.000042\n",
      "12    0.000042\n",
      "16    0.000042\n",
      "15    0.000042\n",
      "Name: rooms, dtype: float64\n",
      "---------------------------------------------------------------\n"
     ]
    },
    {
     "data": {
      "text/plain": [
       "Counter({'Санкт-Петербург': 15721,\n",
       "         'посёлок Шушары': 440,\n",
       "         'городской посёлок Янино-1': 61,\n",
       "         'посёлок Парголово': 327,\n",
       "         'посёлок Мурино': 522,\n",
       "         'Ломоносов': 133,\n",
       "         'Сертолово': 142,\n",
       "         'Петергоф': 201,\n",
       "         'Пушкин': 369,\n",
       "         'деревня Кудрово': 299,\n",
       "         'Коммунар': 89,\n",
       "         'Колпино': 338,\n",
       "         'поселок городского типа Красный Бор': 5,\n",
       "         'Гатчина': 307,\n",
       "         'поселок Мурино': 34,\n",
       "         'деревня Фёдоровское': 8,\n",
       "         'Выборг': 237,\n",
       "         'Кронштадт': 96,\n",
       "         'Кировск': 84,\n",
       "         'деревня Новое Девяткино': 144,\n",
       "         'посёлок Металлострой': 66,\n",
       "         'посёлок городского типа Лебяжье': 11,\n",
       "         'посёлок городского типа Сиверский': 29,\n",
       "         'поселок Молодцово': 9,\n",
       "         'поселок городского типа Кузьмоловский': 13,\n",
       "         'садовое товарищество Новая Ропша': 1,\n",
       "         'Павловск': 38,\n",
       "         'деревня Пикколово': 1,\n",
       "         'Всеволожск': 398,\n",
       "         'Волхов': 111,\n",
       "         'Кингисепп': 104,\n",
       "         'Приозерск': 66,\n",
       "         'Сестрорецк': 183,\n",
       "         'деревня Куттузи': 7,\n",
       "         'посёлок Аннино': 11,\n",
       "         'поселок городского типа Ефимовский': 3,\n",
       "         'посёлок Плодовое': 5,\n",
       "         'деревня Заклинье': 3,\n",
       "         'поселок Торковичи': 3,\n",
       "         'поселок Первомайское': 8,\n",
       "         'Красное Село': 178,\n",
       "         'посёлок Понтонный': 20,\n",
       "         'Сясьстрой': 24,\n",
       "         'деревня Старая': 64,\n",
       "         'деревня Лесколово': 20,\n",
       "         'посёлок Новый Свет': 17,\n",
       "         'Сланцы': 112,\n",
       "         'село Путилово': 2,\n",
       "         'Ивангород': 28,\n",
       "         'Мурино': 34,\n",
       "         'Шлиссельбург': 57,\n",
       "         'Никольское': 93,\n",
       "         'Зеленогорск': 24,\n",
       "         'Сосновый Бор': 87,\n",
       "         'поселок Новый Свет': 5,\n",
       "         'деревня Оржицы': 9,\n",
       "         'деревня Кальтино': 7,\n",
       "         'Кудрово': 173,\n",
       "         'поселок Романовка': 36,\n",
       "         'посёлок Бугры': 69,\n",
       "         'поселок Бугры': 45,\n",
       "         'поселок городского типа Рощино': 19,\n",
       "         'Кириши': 125,\n",
       "         'Луга': 56,\n",
       "         'Волосово': 36,\n",
       "         'Отрадное': 80,\n",
       "         'село Павлово': 7,\n",
       "         'поселок Оредеж': 3,\n",
       "         'село Копорье': 5,\n",
       "         'посёлок городского типа Красный Бор': 3,\n",
       "         'посёлок Молодёжное': 5,\n",
       "         'Тихвин': 49,\n",
       "         'посёлок Победа': 3,\n",
       "         'деревня Нурма': 11,\n",
       "         'поселок городского типа Синявино': 21,\n",
       "         'Тосно': 104,\n",
       "         'посёлок городского типа Кузьмоловский': 22,\n",
       "         'посёлок Стрельна': 44,\n",
       "         'Бокситогорск': 16,\n",
       "         'посёлок Александровская': 2,\n",
       "         'деревня Лопухинка': 6,\n",
       "         'Пикалёво': 18,\n",
       "         'поселок Терволово': 2,\n",
       "         'поселок городского типа Советский': 9,\n",
       "         'Подпорожье': 19,\n",
       "         'посёлок Петровское': 3,\n",
       "         'посёлок городского типа Токсово': 16,\n",
       "         'поселок Сельцо': 9,\n",
       "         'посёлок городского типа Вырица': 10,\n",
       "         'деревня Кипень': 7,\n",
       "         'деревня Келози': 4,\n",
       "         'деревня Вартемяги': 20,\n",
       "         'посёлок Тельмана': 39,\n",
       "         'поселок Севастьяново': 1,\n",
       "         'городской поселок Большая Ижора': 16,\n",
       "         nan: 49,\n",
       "         'городской посёлок Павлово': 9,\n",
       "         'деревня Агалатово': 4,\n",
       "         'посёлок Новогорелово': 20,\n",
       "         'городской посёлок Лесогорский': 2,\n",
       "         'деревня Лаголово': 10,\n",
       "         'поселок Цвелодубово': 4,\n",
       "         'поселок городского типа Рахья': 15,\n",
       "         'поселок городского типа Вырица': 12,\n",
       "         'деревня Белогорка': 11,\n",
       "         'поселок Заводской': 3,\n",
       "         'городской посёлок Новоселье': 28,\n",
       "         'деревня Большие Колпаны': 16,\n",
       "         'деревня Горбунки': 15,\n",
       "         'деревня Батово': 9,\n",
       "         'деревня Заневка': 6,\n",
       "         'деревня Иссад': 1,\n",
       "         'Приморск': 8,\n",
       "         'городской посёлок Фёдоровское': 7,\n",
       "         'деревня Мистолово': 11,\n",
       "         'Новая Ладога': 14,\n",
       "         'поселок Зимитицы': 3,\n",
       "         'поселок Барышево': 2,\n",
       "         'деревня Разметелево': 4,\n",
       "         'поселок городского типа имени Свердлова': 25,\n",
       "         'деревня Пеники': 6,\n",
       "         'поселок Рябово': 2,\n",
       "         'деревня Пудомяги': 6,\n",
       "         'поселок станции Корнево': 1,\n",
       "         'деревня Низино': 10,\n",
       "         'деревня Бегуницы': 17,\n",
       "         'посёлок Поляны': 4,\n",
       "         'городской посёлок Мга': 27,\n",
       "         'поселок Елизаветино': 13,\n",
       "         'посёлок городского типа Кузнечное': 13,\n",
       "         'деревня Колтуши': 11,\n",
       "         'поселок Запорожское': 8,\n",
       "         'посёлок городского типа Рощино': 15,\n",
       "         'деревня Гостилицы': 11,\n",
       "         'деревня Малое Карлино': 9,\n",
       "         'посёлок Мичуринское': 6,\n",
       "         'посёлок городского типа имени Морозова': 17,\n",
       "         'посёлок Песочный': 4,\n",
       "         'посёлок Сосново': 18,\n",
       "         'деревня Аро': 3,\n",
       "         'поселок Ильичёво': 2,\n",
       "         'посёлок городского типа Тайцы': 6,\n",
       "         'деревня Малое Верево': 11,\n",
       "         'деревня Извара': 7,\n",
       "         'поселок станции Вещево': 4,\n",
       "         'село Паша': 2,\n",
       "         'деревня Калитино': 7,\n",
       "         'посёлок городского типа Ульяновка': 13,\n",
       "         'деревня Чудской Бор': 1,\n",
       "         'поселок городского типа Дубровка': 15,\n",
       "         'деревня Мины': 2,\n",
       "         'поселок Войсковицы': 10,\n",
       "         'посёлок городского типа имени Свердлова': 11,\n",
       "         'деревня Коркино': 2,\n",
       "         'посёлок Ропша': 1,\n",
       "         'поселок городского типа Приладожский': 9,\n",
       "         'посёлок Щеглово': 23,\n",
       "         'посёлок Гаврилово': 4,\n",
       "         'Лодейное Поле': 20,\n",
       "         'деревня Рабитицы': 2,\n",
       "         'поселок городского типа Никольский': 7,\n",
       "         'деревня Кузьмолово': 7,\n",
       "         'деревня Малые Колпаны': 7,\n",
       "         'поселок Тельмана': 2,\n",
       "         'посёлок Петро-Славянка': 1,\n",
       "         'городской посёлок Назия': 15,\n",
       "         'посёлок Репино': 4,\n",
       "         'посёлок Ильичёво': 6,\n",
       "         'поселок Углово': 7,\n",
       "         'поселок Старая Малукса': 2,\n",
       "         'садовое товарищество Рахья': 1,\n",
       "         'поселок Аннино': 5,\n",
       "         'поселок Победа': 3,\n",
       "         'деревня Меньково': 1,\n",
       "         'деревня Старые Бегуницы': 2,\n",
       "         'посёлок Сапёрный': 6,\n",
       "         'поселок Семрино': 5,\n",
       "         'поселок Гаврилово': 1,\n",
       "         'поселок Глажево': 5,\n",
       "         'поселок Кобринское': 6,\n",
       "         'деревня Гарболово': 13,\n",
       "         'деревня Юкки': 5,\n",
       "         'поселок станции Приветнинское': 2,\n",
       "         'деревня Мануйлово': 1,\n",
       "         'деревня Пчева': 1,\n",
       "         'поселок Поляны': 2,\n",
       "         'поселок Цвылёво': 1,\n",
       "         'поселок Мельниково': 3,\n",
       "         'посёлок Пудость': 9,\n",
       "         'посёлок Усть-Луга': 4,\n",
       "         'Светогорск': 11,\n",
       "         'Любань': 8,\n",
       "         'поселок Селезнёво': 5,\n",
       "         'поселок городского типа Рябово': 1,\n",
       "         'Каменногорск': 13,\n",
       "         'деревня Кривко': 1,\n",
       "         'поселок Глебычево': 3,\n",
       "         'деревня Парицы': 4,\n",
       "         'поселок Жилпосёлок': 1,\n",
       "         'посёлок городского типа Мга': 6,\n",
       "         'городской поселок Янино-1': 7,\n",
       "         'посёлок Войскорово': 5,\n",
       "         'село Никольское': 1,\n",
       "         'посёлок Терволово': 4,\n",
       "         'поселок Стеклянный': 3,\n",
       "         'посёлок городского типа Важины': 6,\n",
       "         'посёлок Мыза-Ивановка': 1,\n",
       "         'село Русско-Высоцкое': 9,\n",
       "         'поселок городского типа Лебяжье': 4,\n",
       "         'поселок городского типа Форносово': 2,\n",
       "         'село Старая Ладога': 2,\n",
       "         'поселок Житково': 2,\n",
       "         'городской посёлок Виллози': 3,\n",
       "         'деревня Лампово': 6,\n",
       "         'деревня Шпаньково': 1,\n",
       "         'деревня Лаврики': 1,\n",
       "         'посёлок Сумино': 1,\n",
       "         'посёлок Возрождение': 2,\n",
       "         'деревня Старосиверская': 3,\n",
       "         'посёлок Кикерино': 4,\n",
       "         'поселок Возрождение': 1,\n",
       "         'деревня Старое Хинколово': 1,\n",
       "         'посёлок Пригородный': 3,\n",
       "         'посёлок Торфяное': 4,\n",
       "         'городской посёлок Будогощь': 4,\n",
       "         'поселок Суходолье': 8,\n",
       "         'поселок Красная Долина': 3,\n",
       "         'деревня Хапо-Ое': 1,\n",
       "         'поселок городского типа Дружная Горка': 5,\n",
       "         'поселок Лисий Нос': 1,\n",
       "         'деревня Яльгелево': 6,\n",
       "         'посёлок Стеклянный': 5,\n",
       "         'село Рождествено': 3,\n",
       "         'деревня Старополье': 3,\n",
       "         'посёлок Левашово': 1,\n",
       "         'деревня Сяськелево': 10,\n",
       "         'деревня Камышовка': 2,\n",
       "         'садоводческое некоммерческое товарищество Лесная Поляна': 1,\n",
       "         'деревня Хязельки': 1,\n",
       "         'поселок Жилгородок': 1,\n",
       "         'посёлок городского типа Павлово': 2,\n",
       "         'деревня Ялгино': 1,\n",
       "         'поселок Новый Учхоз': 6,\n",
       "         'городской посёлок Рощино': 5,\n",
       "         'поселок Гончарово': 1,\n",
       "         'поселок Почап': 1,\n",
       "         'посёлок Сапёрное': 2,\n",
       "         'посёлок Платформа 69-й километр': 1,\n",
       "         'поселок Каложицы': 1,\n",
       "         'деревня Фалилеево': 2,\n",
       "         'деревня Пельгора': 1,\n",
       "         'поселок городского типа Лесогорский': 3,\n",
       "         'деревня Торошковичи': 3,\n",
       "         'посёлок Белоостров': 1,\n",
       "         'посёлок Алексеевка': 1,\n",
       "         'поселок Серебрянский': 2,\n",
       "         'поселок Лукаши': 3,\n",
       "         'поселок Петровское': 2,\n",
       "         'деревня Щеглово': 1,\n",
       "         'поселок Мичуринское': 5,\n",
       "         'деревня Тарасово': 2,\n",
       "         'поселок Кингисеппский': 2,\n",
       "         'посёлок при железнодорожной станции Вещево': 1,\n",
       "         'поселок Ушаки': 6,\n",
       "         'деревня Котлы': 1,\n",
       "         'деревня Сижно': 1,\n",
       "         'деревня Торосово': 3,\n",
       "         'посёлок Форт Красная Горка': 1,\n",
       "         'поселок городского типа Токсово': 4,\n",
       "         'деревня Новолисино': 1,\n",
       "         'посёлок станции Громово': 3,\n",
       "         'деревня Глинка': 2,\n",
       "         'посёлок Мельниково': 2,\n",
       "         'поселок городского типа Назия': 2,\n",
       "         'деревня Старая Пустошь': 2,\n",
       "         'поселок Коммунары': 1,\n",
       "         'поселок Починок': 2,\n",
       "         'посёлок городского типа Вознесенье': 2,\n",
       "         'деревня Разбегаево': 4,\n",
       "         'посёлок городского типа Рябово': 1,\n",
       "         'поселок Гладкое': 1,\n",
       "         'посёлок при железнодорожной станции Приветнинское': 1,\n",
       "         'поселок Тёсово-4': 1,\n",
       "         'посёлок Жилгородок': 2,\n",
       "         'деревня Бор': 2,\n",
       "         'посёлок Коробицыно': 1,\n",
       "         'деревня Большая Вруда': 4,\n",
       "         'деревня Курковицы': 1,\n",
       "         'посёлок Лисий Нос': 2,\n",
       "         'городской посёлок Советский': 2,\n",
       "         'посёлок Кобралово': 5,\n",
       "         'деревня Суоранда': 2,\n",
       "         'поселок Кобралово': 4,\n",
       "         'поселок городского типа Кондратьево': 1,\n",
       "         'коттеджный поселок Счастье': 1,\n",
       "         'поселок Любань': 3,\n",
       "         'деревня Реброво': 1,\n",
       "         'деревня Зимитицы': 1,\n",
       "         'деревня Тойворово': 1,\n",
       "         'поселок Семиозерье': 1,\n",
       "         'поселок Лесное': 2,\n",
       "         'поселок Совхозный': 2,\n",
       "         'поселок Усть-Луга': 1,\n",
       "         'посёлок Ленинское': 2,\n",
       "         'посёлок Суйда': 4,\n",
       "         'посёлок городского типа Форносово': 4,\n",
       "         'деревня Нижние Осельки': 1,\n",
       "         'посёлок станции Свирь': 2,\n",
       "         'поселок Перово': 1,\n",
       "         'Высоцк': 4,\n",
       "         'поселок Гарболово': 4,\n",
       "         'село Шум': 1,\n",
       "         'поселок Котельский': 3,\n",
       "         'поселок станции Лужайка': 1,\n",
       "         'деревня Большая Пустомержа': 1,\n",
       "         'поселок Красносельское': 1,\n",
       "         'деревня Вахнова Кара': 1,\n",
       "         'деревня Пижма': 1,\n",
       "         'коттеджный поселок Кивеннапа Север': 1,\n",
       "         'поселок Коробицыно': 1,\n",
       "         'поселок Ромашки': 1,\n",
       "         'посёлок Перово': 3,\n",
       "         'деревня Каськово': 1,\n",
       "         'деревня Куровицы': 1,\n",
       "         'посёлок Плоское': 1,\n",
       "         'поселок Сумино': 1,\n",
       "         'поселок городского типа Большая Ижора': 1,\n",
       "         'поселок Кирпичное': 1,\n",
       "         'деревня Ям-Тесово': 2,\n",
       "         'деревня Раздолье': 1,\n",
       "         'деревня Терпилицы': 1,\n",
       "         'посёлок Шугозеро': 1,\n",
       "         'деревня Ваганово': 3,\n",
       "         'поселок Пушное': 2,\n",
       "         'садовое товарищество Садко': 1,\n",
       "         'посёлок Усть-Ижора': 2,\n",
       "         'деревня Выскатка': 2,\n",
       "         'городской посёлок Свирьстрой': 1,\n",
       "         'поселок Громово': 3,\n",
       "         'деревня Кисельня': 1,\n",
       "         'посёлок Старая Малукса': 2,\n",
       "         'деревня Трубников Бор': 1,\n",
       "         'поселок Калитино': 1,\n",
       "         'посёлок Высокоключевой': 1,\n",
       "         'садовое товарищество Приладожский': 1,\n",
       "         'посёлок Пансионат Зелёный Бор': 1,\n",
       "         'деревня Ненимяки': 2,\n",
       "         'поселок Пансионат Зелёный Бор': 1,\n",
       "         'деревня Снегирёвка': 1,\n",
       "         'деревня Рапполово': 1,\n",
       "         'деревня Пустынка': 1,\n",
       "         'поселок Рабитицы': 1,\n",
       "         'деревня Большой Сабск': 1,\n",
       "         'деревня Русско': 1,\n",
       "         'деревня Лупполово': 1,\n",
       "         'деревня Большое Рейзино': 1,\n",
       "         'деревня Малая Романовка': 1,\n",
       "         'поселок Дружноселье': 1,\n",
       "         'поселок Пчевжа': 1,\n",
       "         'поселок Володарское': 1,\n",
       "         'деревня Нижняя': 1,\n",
       "         'коттеджный посёлок Лесное': 1,\n",
       "         'деревня Тихковицы': 1,\n",
       "         'деревня Борисова Грива': 1,\n",
       "         'посёлок Дзержинского': 1})"
      ]
     },
     "execution_count": 5,
     "metadata": {},
     "output_type": "execute_result"
    }
   ],
   "source": [
    "print(\"Медианное значение по высоте полотков:\", data['ceiling_height'].median())\n",
    "print('---------------------------------------------------------------')\n",
    "print(data.groupby('rooms')['living_area'].median())\n",
    "print('---------------------------------------------------------------')\n",
    "print(data.groupby('rooms')['kitchen_area'].median())\n",
    "print('---------------------------------------------------------------')\n",
    "print(data['rooms'].value_counts(normalize = True))\n",
    "print('---------------------------------------------------------------')\n",
    "Counter(data['locality_name'])"
   ]
  },
  {
   "cell_type": "code",
   "execution_count": 6,
   "metadata": {},
   "outputs": [
    {
     "name": "stdout",
     "output_type": "stream",
     "text": [
      "count     25.000000\n",
      "mean      27.976000\n",
      "std       15.691937\n",
      "min       10.300000\n",
      "25%       25.000000\n",
      "50%       26.000000\n",
      "75%       27.000000\n",
      "max      100.000000\n",
      "Name: ceiling_height, dtype: float64\n",
      "Counter({27.0: 8, 25.0: 7, 32.0: 2, 24.0: 1, 26.0: 1, 14.0: 1, 20.0: 1, 22.6: 1, 27.5: 1, 10.3: 1, 100.0: 1})\n",
      "\n",
      "count    3.000000\n",
      "mean     1.316667\n",
      "std      0.388373\n",
      "min      1.000000\n",
      "25%      1.100000\n",
      "50%      1.200000\n",
      "75%      1.475000\n",
      "max      1.750000\n",
      "Name: ceiling_height, dtype: float64\n",
      "Counter({1.2: 1, 1.75: 1, 1.0: 1})\n"
     ]
    }
   ],
   "source": [
    "height10 = data.query('ceiling_height >10')\n",
    "height1 = data.query('ceiling_height < 2')\n",
    "\n",
    "print(height10['ceiling_height'].describe())\n",
    "print(Counter(height10['ceiling_height']))\n",
    "print()\n",
    "print(height1['ceiling_height'].describe())\n",
    "print(Counter(height1['ceiling_height']))"
   ]
  },
  {
   "cell_type": "code",
   "execution_count": 7,
   "metadata": {},
   "outputs": [
    {
     "data": {
      "text/html": [
       "<div>\n",
       "<style scoped>\n",
       "    .dataframe tbody tr th:only-of-type {\n",
       "        vertical-align: middle;\n",
       "    }\n",
       "\n",
       "    .dataframe tbody tr th {\n",
       "        vertical-align: top;\n",
       "    }\n",
       "\n",
       "    .dataframe thead th {\n",
       "        text-align: right;\n",
       "    }\n",
       "</style>\n",
       "<table border=\"1\" class=\"dataframe\">\n",
       "  <thead>\n",
       "    <tr style=\"text-align: right;\">\n",
       "      <th></th>\n",
       "      <th>total_images</th>\n",
       "      <th>last_price</th>\n",
       "      <th>total_area</th>\n",
       "      <th>first_day_exposition</th>\n",
       "      <th>rooms</th>\n",
       "      <th>ceiling_height</th>\n",
       "      <th>floors_total</th>\n",
       "      <th>living_area</th>\n",
       "      <th>floor</th>\n",
       "      <th>is_apartment</th>\n",
       "      <th>...</th>\n",
       "      <th>kitchen_area</th>\n",
       "      <th>balcony</th>\n",
       "      <th>locality_name</th>\n",
       "      <th>airports_nearest</th>\n",
       "      <th>cityCenters_nearest</th>\n",
       "      <th>parks_around3000</th>\n",
       "      <th>parks_nearest</th>\n",
       "      <th>ponds_around3000</th>\n",
       "      <th>ponds_nearest</th>\n",
       "      <th>days_exposition</th>\n",
       "    </tr>\n",
       "  </thead>\n",
       "  <tbody>\n",
       "    <tr>\n",
       "      <td>0</td>\n",
       "      <td>20</td>\n",
       "      <td>13000000.0</td>\n",
       "      <td>108.00</td>\n",
       "      <td>2019-03-07T00:00:00</td>\n",
       "      <td>3</td>\n",
       "      <td>2.70</td>\n",
       "      <td>16</td>\n",
       "      <td>51.00</td>\n",
       "      <td>8</td>\n",
       "      <td>True</td>\n",
       "      <td>...</td>\n",
       "      <td>25.00</td>\n",
       "      <td>0</td>\n",
       "      <td>Санкт-Петербург</td>\n",
       "      <td>18863</td>\n",
       "      <td>16028.0</td>\n",
       "      <td>1.0</td>\n",
       "      <td>482</td>\n",
       "      <td>2.0</td>\n",
       "      <td>755</td>\n",
       "      <td>95.0</td>\n",
       "    </tr>\n",
       "    <tr>\n",
       "      <td>1</td>\n",
       "      <td>7</td>\n",
       "      <td>3350000.0</td>\n",
       "      <td>40.40</td>\n",
       "      <td>2018-12-04T00:00:00</td>\n",
       "      <td>1</td>\n",
       "      <td>2.65</td>\n",
       "      <td>11</td>\n",
       "      <td>18.60</td>\n",
       "      <td>1</td>\n",
       "      <td>True</td>\n",
       "      <td>...</td>\n",
       "      <td>11.00</td>\n",
       "      <td>2</td>\n",
       "      <td>посёлок Шушары</td>\n",
       "      <td>12817</td>\n",
       "      <td>18603.0</td>\n",
       "      <td>0.0</td>\n",
       "      <td></td>\n",
       "      <td>0.0</td>\n",
       "      <td></td>\n",
       "      <td>81.0</td>\n",
       "    </tr>\n",
       "    <tr>\n",
       "      <td>2</td>\n",
       "      <td>10</td>\n",
       "      <td>5196000.0</td>\n",
       "      <td>56.00</td>\n",
       "      <td>2015-08-20T00:00:00</td>\n",
       "      <td>2</td>\n",
       "      <td>2.65</td>\n",
       "      <td>5</td>\n",
       "      <td>34.30</td>\n",
       "      <td>4</td>\n",
       "      <td>True</td>\n",
       "      <td>...</td>\n",
       "      <td>8.30</td>\n",
       "      <td>0</td>\n",
       "      <td>Санкт-Петербург</td>\n",
       "      <td>21741</td>\n",
       "      <td>13933.0</td>\n",
       "      <td>1.0</td>\n",
       "      <td>90</td>\n",
       "      <td>2.0</td>\n",
       "      <td>574</td>\n",
       "      <td>558.0</td>\n",
       "    </tr>\n",
       "    <tr>\n",
       "      <td>3</td>\n",
       "      <td>0</td>\n",
       "      <td>64900000.0</td>\n",
       "      <td>159.00</td>\n",
       "      <td>2015-07-24T00:00:00</td>\n",
       "      <td>3</td>\n",
       "      <td>2.65</td>\n",
       "      <td>14</td>\n",
       "      <td>45.00</td>\n",
       "      <td>9</td>\n",
       "      <td>True</td>\n",
       "      <td>...</td>\n",
       "      <td>9.50</td>\n",
       "      <td>0</td>\n",
       "      <td>Санкт-Петербург</td>\n",
       "      <td>28098</td>\n",
       "      <td>6800.0</td>\n",
       "      <td>2.0</td>\n",
       "      <td>84</td>\n",
       "      <td>3.0</td>\n",
       "      <td>234</td>\n",
       "      <td>424.0</td>\n",
       "    </tr>\n",
       "    <tr>\n",
       "      <td>4</td>\n",
       "      <td>2</td>\n",
       "      <td>10000000.0</td>\n",
       "      <td>100.00</td>\n",
       "      <td>2018-06-19T00:00:00</td>\n",
       "      <td>2</td>\n",
       "      <td>3.03</td>\n",
       "      <td>14</td>\n",
       "      <td>32.00</td>\n",
       "      <td>13</td>\n",
       "      <td>True</td>\n",
       "      <td>...</td>\n",
       "      <td>41.00</td>\n",
       "      <td>0</td>\n",
       "      <td>Санкт-Петербург</td>\n",
       "      <td>31856</td>\n",
       "      <td>8098.0</td>\n",
       "      <td>2.0</td>\n",
       "      <td>112</td>\n",
       "      <td>1.0</td>\n",
       "      <td>48</td>\n",
       "      <td>121.0</td>\n",
       "    </tr>\n",
       "    <tr>\n",
       "      <td>5</td>\n",
       "      <td>10</td>\n",
       "      <td>2890000.0</td>\n",
       "      <td>30.40</td>\n",
       "      <td>2018-09-10T00:00:00</td>\n",
       "      <td>1</td>\n",
       "      <td>2.65</td>\n",
       "      <td>12</td>\n",
       "      <td>14.40</td>\n",
       "      <td>5</td>\n",
       "      <td>True</td>\n",
       "      <td>...</td>\n",
       "      <td>9.10</td>\n",
       "      <td>0</td>\n",
       "      <td>городской посёлок Янино-1</td>\n",
       "      <td></td>\n",
       "      <td>13093.0</td>\n",
       "      <td>1.0</td>\n",
       "      <td>455</td>\n",
       "      <td>1.0</td>\n",
       "      <td>503</td>\n",
       "      <td>55.0</td>\n",
       "    </tr>\n",
       "    <tr>\n",
       "      <td>6</td>\n",
       "      <td>6</td>\n",
       "      <td>3700000.0</td>\n",
       "      <td>37.30</td>\n",
       "      <td>2017-11-02T00:00:00</td>\n",
       "      <td>1</td>\n",
       "      <td>2.65</td>\n",
       "      <td>26</td>\n",
       "      <td>10.60</td>\n",
       "      <td>6</td>\n",
       "      <td>True</td>\n",
       "      <td>...</td>\n",
       "      <td>14.40</td>\n",
       "      <td>1</td>\n",
       "      <td>посёлок Парголово</td>\n",
       "      <td>52996</td>\n",
       "      <td>19143.0</td>\n",
       "      <td>0.0</td>\n",
       "      <td></td>\n",
       "      <td>0.0</td>\n",
       "      <td></td>\n",
       "      <td>155.0</td>\n",
       "    </tr>\n",
       "    <tr>\n",
       "      <td>7</td>\n",
       "      <td>5</td>\n",
       "      <td>7915000.0</td>\n",
       "      <td>71.60</td>\n",
       "      <td>2019-04-18T00:00:00</td>\n",
       "      <td>2</td>\n",
       "      <td>2.65</td>\n",
       "      <td>24</td>\n",
       "      <td>30.50</td>\n",
       "      <td>22</td>\n",
       "      <td>True</td>\n",
       "      <td>...</td>\n",
       "      <td>18.90</td>\n",
       "      <td>2</td>\n",
       "      <td>Санкт-Петербург</td>\n",
       "      <td>23982</td>\n",
       "      <td>11634.0</td>\n",
       "      <td>0.0</td>\n",
       "      <td></td>\n",
       "      <td>0.0</td>\n",
       "      <td></td>\n",
       "      <td>95.0</td>\n",
       "    </tr>\n",
       "    <tr>\n",
       "      <td>8</td>\n",
       "      <td>20</td>\n",
       "      <td>2900000.0</td>\n",
       "      <td>33.16</td>\n",
       "      <td>2018-05-23T00:00:00</td>\n",
       "      <td>1</td>\n",
       "      <td>2.65</td>\n",
       "      <td>27</td>\n",
       "      <td>15.43</td>\n",
       "      <td>26</td>\n",
       "      <td>True</td>\n",
       "      <td>...</td>\n",
       "      <td>8.81</td>\n",
       "      <td>0</td>\n",
       "      <td>Мурино</td>\n",
       "      <td></td>\n",
       "      <td>13093.0</td>\n",
       "      <td>1.0</td>\n",
       "      <td>455</td>\n",
       "      <td>1.0</td>\n",
       "      <td>503</td>\n",
       "      <td>189.0</td>\n",
       "    </tr>\n",
       "    <tr>\n",
       "      <td>9</td>\n",
       "      <td>18</td>\n",
       "      <td>5400000.0</td>\n",
       "      <td>61.00</td>\n",
       "      <td>2017-02-26T00:00:00</td>\n",
       "      <td>3</td>\n",
       "      <td>2.50</td>\n",
       "      <td>9</td>\n",
       "      <td>43.60</td>\n",
       "      <td>7</td>\n",
       "      <td>True</td>\n",
       "      <td>...</td>\n",
       "      <td>6.50</td>\n",
       "      <td>2</td>\n",
       "      <td>Санкт-Петербург</td>\n",
       "      <td>50898</td>\n",
       "      <td>15008.0</td>\n",
       "      <td>0.0</td>\n",
       "      <td></td>\n",
       "      <td>0.0</td>\n",
       "      <td></td>\n",
       "      <td>289.0</td>\n",
       "    </tr>\n",
       "    <tr>\n",
       "      <td>10</td>\n",
       "      <td>5</td>\n",
       "      <td>5050000.0</td>\n",
       "      <td>39.60</td>\n",
       "      <td>2017-11-16T00:00:00</td>\n",
       "      <td>1</td>\n",
       "      <td>2.67</td>\n",
       "      <td>12</td>\n",
       "      <td>20.30</td>\n",
       "      <td>3</td>\n",
       "      <td>True</td>\n",
       "      <td>...</td>\n",
       "      <td>8.50</td>\n",
       "      <td>0</td>\n",
       "      <td>Санкт-Петербург</td>\n",
       "      <td>38357</td>\n",
       "      <td>13878.0</td>\n",
       "      <td>1.0</td>\n",
       "      <td>310</td>\n",
       "      <td>2.0</td>\n",
       "      <td>553</td>\n",
       "      <td>137.0</td>\n",
       "    </tr>\n",
       "    <tr>\n",
       "      <td>11</td>\n",
       "      <td>9</td>\n",
       "      <td>3300000.0</td>\n",
       "      <td>44.00</td>\n",
       "      <td>2018-08-27T00:00:00</td>\n",
       "      <td>2</td>\n",
       "      <td>2.65</td>\n",
       "      <td>5</td>\n",
       "      <td>31.00</td>\n",
       "      <td>4</td>\n",
       "      <td>False</td>\n",
       "      <td>...</td>\n",
       "      <td>6.00</td>\n",
       "      <td>1</td>\n",
       "      <td>Ломоносов</td>\n",
       "      <td>48252</td>\n",
       "      <td>51677.0</td>\n",
       "      <td>0.0</td>\n",
       "      <td></td>\n",
       "      <td>0.0</td>\n",
       "      <td></td>\n",
       "      <td>7.0</td>\n",
       "    </tr>\n",
       "    <tr>\n",
       "      <td>12</td>\n",
       "      <td>10</td>\n",
       "      <td>3890000.0</td>\n",
       "      <td>54.00</td>\n",
       "      <td>2016-06-30T00:00:00</td>\n",
       "      <td>2</td>\n",
       "      <td>2.65</td>\n",
       "      <td>5</td>\n",
       "      <td>30.00</td>\n",
       "      <td>5</td>\n",
       "      <td>True</td>\n",
       "      <td>...</td>\n",
       "      <td>9.00</td>\n",
       "      <td>0</td>\n",
       "      <td>Сертолово</td>\n",
       "      <td></td>\n",
       "      <td>13093.0</td>\n",
       "      <td>1.0</td>\n",
       "      <td>455</td>\n",
       "      <td>1.0</td>\n",
       "      <td>503</td>\n",
       "      <td>90.0</td>\n",
       "    </tr>\n",
       "    <tr>\n",
       "      <td>13</td>\n",
       "      <td>20</td>\n",
       "      <td>3550000.0</td>\n",
       "      <td>42.80</td>\n",
       "      <td>2017-07-01T00:00:00</td>\n",
       "      <td>2</td>\n",
       "      <td>2.56</td>\n",
       "      <td>5</td>\n",
       "      <td>27.00</td>\n",
       "      <td>5</td>\n",
       "      <td>True</td>\n",
       "      <td>...</td>\n",
       "      <td>5.20</td>\n",
       "      <td>1</td>\n",
       "      <td>Петергоф</td>\n",
       "      <td>37868</td>\n",
       "      <td>33058.0</td>\n",
       "      <td>1.0</td>\n",
       "      <td>294</td>\n",
       "      <td>3.0</td>\n",
       "      <td>298</td>\n",
       "      <td>366.0</td>\n",
       "    </tr>\n",
       "    <tr>\n",
       "      <td>14</td>\n",
       "      <td>1</td>\n",
       "      <td>4400000.0</td>\n",
       "      <td>36.00</td>\n",
       "      <td>2016-06-23T00:00:00</td>\n",
       "      <td>1</td>\n",
       "      <td>2.65</td>\n",
       "      <td>6</td>\n",
       "      <td>17.00</td>\n",
       "      <td>1</td>\n",
       "      <td>True</td>\n",
       "      <td>...</td>\n",
       "      <td>8.00</td>\n",
       "      <td>0</td>\n",
       "      <td>Пушкин</td>\n",
       "      <td>20782</td>\n",
       "      <td>30759.0</td>\n",
       "      <td>0.0</td>\n",
       "      <td></td>\n",
       "      <td>1.0</td>\n",
       "      <td>96</td>\n",
       "      <td>203.0</td>\n",
       "    </tr>\n",
       "  </tbody>\n",
       "</table>\n",
       "<p>15 rows × 22 columns</p>\n",
       "</div>"
      ],
      "text/plain": [
       "    total_images  last_price  total_area first_day_exposition  rooms  \\\n",
       "0             20  13000000.0      108.00  2019-03-07T00:00:00      3   \n",
       "1              7   3350000.0       40.40  2018-12-04T00:00:00      1   \n",
       "2             10   5196000.0       56.00  2015-08-20T00:00:00      2   \n",
       "3              0  64900000.0      159.00  2015-07-24T00:00:00      3   \n",
       "4              2  10000000.0      100.00  2018-06-19T00:00:00      2   \n",
       "5             10   2890000.0       30.40  2018-09-10T00:00:00      1   \n",
       "6              6   3700000.0       37.30  2017-11-02T00:00:00      1   \n",
       "7              5   7915000.0       71.60  2019-04-18T00:00:00      2   \n",
       "8             20   2900000.0       33.16  2018-05-23T00:00:00      1   \n",
       "9             18   5400000.0       61.00  2017-02-26T00:00:00      3   \n",
       "10             5   5050000.0       39.60  2017-11-16T00:00:00      1   \n",
       "11             9   3300000.0       44.00  2018-08-27T00:00:00      2   \n",
       "12            10   3890000.0       54.00  2016-06-30T00:00:00      2   \n",
       "13            20   3550000.0       42.80  2017-07-01T00:00:00      2   \n",
       "14             1   4400000.0       36.00  2016-06-23T00:00:00      1   \n",
       "\n",
       "    ceiling_height  floors_total  living_area  floor  is_apartment  ...  \\\n",
       "0             2.70            16        51.00      8          True  ...   \n",
       "1             2.65            11        18.60      1          True  ...   \n",
       "2             2.65             5        34.30      4          True  ...   \n",
       "3             2.65            14        45.00      9          True  ...   \n",
       "4             3.03            14        32.00     13          True  ...   \n",
       "5             2.65            12        14.40      5          True  ...   \n",
       "6             2.65            26        10.60      6          True  ...   \n",
       "7             2.65            24        30.50     22          True  ...   \n",
       "8             2.65            27        15.43     26          True  ...   \n",
       "9             2.50             9        43.60      7          True  ...   \n",
       "10            2.67            12        20.30      3          True  ...   \n",
       "11            2.65             5        31.00      4         False  ...   \n",
       "12            2.65             5        30.00      5          True  ...   \n",
       "13            2.56             5        27.00      5          True  ...   \n",
       "14            2.65             6        17.00      1          True  ...   \n",
       "\n",
       "    kitchen_area  balcony              locality_name  airports_nearest  \\\n",
       "0          25.00        0            Санкт-Петербург             18863   \n",
       "1          11.00        2             посёлок Шушары             12817   \n",
       "2           8.30        0            Санкт-Петербург             21741   \n",
       "3           9.50        0            Санкт-Петербург             28098   \n",
       "4          41.00        0            Санкт-Петербург             31856   \n",
       "5           9.10        0  городской посёлок Янино-1                     \n",
       "6          14.40        1          посёлок Парголово             52996   \n",
       "7          18.90        2            Санкт-Петербург             23982   \n",
       "8           8.81        0                     Мурино                     \n",
       "9           6.50        2            Санкт-Петербург             50898   \n",
       "10          8.50        0            Санкт-Петербург             38357   \n",
       "11          6.00        1                  Ломоносов             48252   \n",
       "12          9.00        0                  Сертолово                     \n",
       "13          5.20        1                   Петергоф             37868   \n",
       "14          8.00        0                     Пушкин             20782   \n",
       "\n",
       "   cityCenters_nearest parks_around3000  parks_nearest  ponds_around3000  \\\n",
       "0              16028.0              1.0            482               2.0   \n",
       "1              18603.0              0.0                              0.0   \n",
       "2              13933.0              1.0             90               2.0   \n",
       "3               6800.0              2.0             84               3.0   \n",
       "4               8098.0              2.0            112               1.0   \n",
       "5              13093.0              1.0            455               1.0   \n",
       "6              19143.0              0.0                              0.0   \n",
       "7              11634.0              0.0                              0.0   \n",
       "8              13093.0              1.0            455               1.0   \n",
       "9              15008.0              0.0                              0.0   \n",
       "10             13878.0              1.0            310               2.0   \n",
       "11             51677.0              0.0                              0.0   \n",
       "12             13093.0              1.0            455               1.0   \n",
       "13             33058.0              1.0            294               3.0   \n",
       "14             30759.0              0.0                              1.0   \n",
       "\n",
       "   ponds_nearest  days_exposition  \n",
       "0            755             95.0  \n",
       "1                            81.0  \n",
       "2            574            558.0  \n",
       "3            234            424.0  \n",
       "4             48            121.0  \n",
       "5            503             55.0  \n",
       "6                           155.0  \n",
       "7                            95.0  \n",
       "8            503            189.0  \n",
       "9                           289.0  \n",
       "10           553            137.0  \n",
       "11                            7.0  \n",
       "12           503             90.0  \n",
       "13           298            366.0  \n",
       "14            96            203.0  \n",
       "\n",
       "[15 rows x 22 columns]"
      ]
     },
     "execution_count": 7,
     "metadata": {},
     "output_type": "execute_result"
    }
   ],
   "source": [
    "data['is_apartment'] = data['is_apartment'].astype('bool', errors='ignore')\n",
    "\n",
    "\n",
    "data['ceiling_height'] = data['ceiling_height'].fillna(data['ceiling_height'].median())\n",
    "\n",
    "\n",
    "data['living_area'] = data['living_area'].fillna(data.groupby(data['rooms'])['living_area'].transform('median'))\n",
    "\n",
    "data['floors_total']  = data['floors_total'].fillna('')\n",
    "data = data.drop(np.where(data['floors_total'] == '')[0])\n",
    "data['floors_total']  = data['floors_total'].astype('int')\n",
    "data = data.query('floors_total < 40')\n",
    "\n",
    "\n",
    "data['is_apartment']  = data['is_apartment'].fillna(True)\n",
    "\n",
    "data['kitchen_area'] = data['kitchen_area'].fillna(data.groupby(data['rooms'])['kitchen_area'].transform('median'))\n",
    "data['kitchen_area'] = data['kitchen_area'].fillna(0)\n",
    "data['kitchen_area']  = data['kitchen_area'].astype('float')\n",
    "#так как нет данных по площади кухни, когда количество комнат 0, то ставим 0\n",
    "\n",
    "data['locality_name']  = data['locality_name'].fillna('')\n",
    "\n",
    "\n",
    "data['balcony']  = data['balcony'].fillna(0)\n",
    "data['balcony']  = data['balcony'].astype('int')\n",
    "\n",
    "data['airports_nearest'] = data['airports_nearest'].fillna(\"\")\n",
    "data['cityCenters_nearest'] = data['cityCenters_nearest'].fillna(data['cityCenters_nearest'].median())\n",
    "\n",
    "data['parks_around3000'] = data['parks_around3000'].fillna(1)\n",
    "\n",
    "#расстояние до ближайшего парка: сначала меняем пустые значения на медиану, а потом если вблизи нет парков, то туда ставим \"\"\n",
    "data['parks_nearest'] = data['parks_nearest'].fillna(data['parks_nearest'].median())\n",
    "data.loc[data['parks_around3000'] == 0, 'parks_nearest'] = \"\"\n",
    "\n",
    "data.loc[data['rooms'] == 0, 'rooms'] = 1\n",
    "\n",
    "data['ponds_around3000'] = data['ponds_around3000'].fillna(1)\n",
    "\n",
    "#расстояние до ближайшего пруда: сначала меняем пустые значения на медиану, а потом если вблизи нет парков, то туда ставим \"\"\n",
    "data['ponds_nearest'] = data['ponds_nearest'].fillna(data['ponds_nearest'].median())\n",
    "data.loc[data['ponds_around3000'] == 0, 'ponds_nearest'] = \"\"\n",
    "\n",
    "data['days_exposition'] = data['days_exposition'].fillna(data['days_exposition'].median())\n",
    "\n",
    "#исправление наименований\n",
    "data.loc[data['locality_name'] == 'деревня Кудрово', 'locality_name'] = 'Кудрово'\n",
    "data.loc[data['locality_name'] == 'посёлок Мурино', 'locality_name'] = 'Мурино'\n",
    "data.loc[data['locality_name'] == 'поселок Мурино', 'locality_name'] = 'Мурино'\n",
    "\n",
    "\n",
    "\n",
    "pd.DataFrame(data).head(15)\n"
   ]
  },
  {
   "cell_type": "markdown",
   "metadata": {},
   "source": [
    "<div class=\"alert alert-success\">\n",
    "<h2> Комментарий от ревьюера<a class=\"tocSkip\"></a></h2>\n",
    "1. Апартаменты, балокны. Если не указано колическтво балконов, то скорее всего их в квартире нет. Аналогичная ситуация и с апартаментами.\n",
    "    \n",
    "2. Потолки. Да, пропуски в высоте потолков можно заменить медианным значением, оно соответствует стандартам ГОСТа.\n",
    "    \n",
    "3. Жилая площадь, площадь кухни. Самая лучшая замена пропусков --- замена с помощь группировки. Действительно,  и та, и другая площадь косвенно зависят от количества комнат в квартире.\n",
    "    \n",
    "4. Как думаешь, о конат это ошибка в данных?\n",
    "    \n",
    "5. Расстояние до парков, прудов, аэропорта. Данные столбцы заполняются автоматически, исходя из геолокации, так что пропуски можно оставить как есть.\n",
    "    \n",
    "6. Населенный пункт. Да, ты верно заметила, что присутсвуют различные названия одних и тех же населенных пунктов. Тут лучше в принципе заменить во всех словах ё на е.\n",
    " \n",
    "</div>"
   ]
  },
  {
   "cell_type": "code",
   "execution_count": 8,
   "metadata": {},
   "outputs": [
    {
     "name": "stdout",
     "output_type": "stream",
     "text": [
      "<class 'pandas.core.frame.DataFrame'>\n",
      "Int64Index: 23611 entries, 0 to 23698\n",
      "Data columns (total 22 columns):\n",
      "total_images            23611 non-null int64\n",
      "last_price              23611 non-null float64\n",
      "total_area              23611 non-null float64\n",
      "first_day_exposition    23611 non-null object\n",
      "rooms                   23611 non-null int64\n",
      "ceiling_height          23611 non-null float64\n",
      "floors_total            23611 non-null int64\n",
      "living_area             23611 non-null float64\n",
      "floor                   23611 non-null int64\n",
      "is_apartment            23611 non-null bool\n",
      "studio                  23611 non-null bool\n",
      "open_plan               23611 non-null bool\n",
      "kitchen_area            23611 non-null float64\n",
      "balcony                 23611 non-null int64\n",
      "locality_name           23611 non-null object\n",
      "airports_nearest        23611 non-null object\n",
      "cityCenters_nearest     23611 non-null float64\n",
      "parks_around3000        23611 non-null float64\n",
      "parks_nearest           23611 non-null object\n",
      "ponds_around3000        23611 non-null float64\n",
      "ponds_nearest           23611 non-null object\n",
      "days_exposition         23611 non-null float64\n",
      "dtypes: bool(3), float64(9), int64(5), object(5)\n",
      "memory usage: 3.7+ MB\n",
      "---------------------------------------------------------------\n",
      "total_images            0.0\n",
      "last_price              0.0\n",
      "total_area              0.0\n",
      "first_day_exposition    0.0\n",
      "rooms                   0.0\n",
      "ceiling_height          0.0\n",
      "floors_total            0.0\n",
      "living_area             0.0\n",
      "floor                   0.0\n",
      "is_apartment            0.0\n",
      "studio                  0.0\n",
      "open_plan               0.0\n",
      "kitchen_area            0.0\n",
      "balcony                 0.0\n",
      "locality_name           0.0\n",
      "airports_nearest        0.0\n",
      "cityCenters_nearest     0.0\n",
      "parks_around3000        0.0\n",
      "parks_nearest           0.0\n",
      "ponds_around3000        0.0\n",
      "ponds_nearest           0.0\n",
      "days_exposition         0.0\n",
      "dtype: float64\n"
     ]
    }
   ],
   "source": [
    "data.info()\n",
    "print('---------------------------------------------------------------')\n",
    "print(data.isnull().mean())"
   ]
  },
  {
   "cell_type": "code",
   "execution_count": 9,
   "metadata": {},
   "outputs": [
    {
     "name": "stdout",
     "output_type": "stream",
     "text": [
      "Количество дубликатов  0\n"
     ]
    }
   ],
   "source": [
    "print(\"Количество дубликатов \", data.duplicated(keep = False).sum())"
   ]
  },
  {
   "cell_type": "markdown",
   "metadata": {},
   "source": [
    "**Вывод 2**"
   ]
  },
  {
   "cell_type": "markdown",
   "metadata": {},
   "source": [
    "*Данные изменены в 'is_apartment' на тип boolean, так как там значения False True. Данные изменены в 'balcony' на тип int, так как значения - целые числа. Данные изменены в 'kitchen_area' на тип float для дальнейших вычислений*\n",
    "\n",
    "*Были заменены все пропуски в данных в соответствии с предыдущим выводом 1. Теперь заполнены все 23611 строк. Дубликаты отсутствуют.*"
   ]
  },
  {
   "cell_type": "markdown",
   "metadata": {},
   "source": [
    "## Расчёты и добавление результатов в таблицу"
   ]
  },
  {
   "cell_type": "code",
   "execution_count": 10,
   "metadata": {},
   "outputs": [],
   "source": [
    "data['tsena_metra'] = data['last_price'] / data['total_area']\n",
    "data = data[ ['tsena_metra'] + [ col for col in data.columns if col != 'tsena_metra' ] ]"
   ]
  },
  {
   "cell_type": "code",
   "execution_count": 11,
   "metadata": {},
   "outputs": [],
   "source": [
    "data['year'] = pd.DatetimeIndex(data['first_day_exposition']).year\n",
    "data = data[ ['year'] + [ col for col in data.columns if col != 'year' ] ]\n",
    "\n",
    "data['month'] = pd.DatetimeIndex(data['first_day_exposition']).month\n",
    "data = data[ ['month'] + [ col for col in data.columns if col != 'month' ] ]\n",
    "\n",
    "data['day'] = pd.DatetimeIndex(data['first_day_exposition']).day\n",
    "data = data[ ['day'] + [ col for col in data.columns if col != 'day' ] ]\n",
    "\n",
    "data['day_of_week']= pd.to_datetime(data['first_day_exposition']).dt.dayofweek\n",
    "data = data[ ['day_of_week'] + [ col for col in data.columns if col != 'day_of_week' ] ]"
   ]
  },
  {
   "cell_type": "code",
   "execution_count": 12,
   "metadata": {},
   "outputs": [
    {
     "data": {
      "text/html": [
       "<div>\n",
       "<style scoped>\n",
       "    .dataframe tbody tr th:only-of-type {\n",
       "        vertical-align: middle;\n",
       "    }\n",
       "\n",
       "    .dataframe tbody tr th {\n",
       "        vertical-align: top;\n",
       "    }\n",
       "\n",
       "    .dataframe thead th {\n",
       "        text-align: right;\n",
       "    }\n",
       "</style>\n",
       "<table border=\"1\" class=\"dataframe\">\n",
       "  <thead>\n",
       "    <tr style=\"text-align: right;\">\n",
       "      <th></th>\n",
       "      <th>floor_group</th>\n",
       "    </tr>\n",
       "  </thead>\n",
       "  <tbody>\n",
       "    <tr>\n",
       "      <td>другой</td>\n",
       "      <td>17361</td>\n",
       "    </tr>\n",
       "    <tr>\n",
       "      <td>последний</td>\n",
       "      <td>3336</td>\n",
       "    </tr>\n",
       "    <tr>\n",
       "      <td>первый</td>\n",
       "      <td>2914</td>\n",
       "    </tr>\n",
       "  </tbody>\n",
       "</table>\n",
       "</div>"
      ],
      "text/plain": [
       "           floor_group\n",
       "другой           17361\n",
       "последний         3336\n",
       "первый            2914"
      ]
     },
     "execution_count": 12,
     "metadata": {},
     "output_type": "execute_result"
    }
   ],
   "source": [
    "def etaj(row):\n",
    "    \n",
    "    floor = row['floor']\n",
    "    floors_total = row['floors_total']\n",
    "    \n",
    "    if floor == 1:\n",
    "        return \"первый\"\n",
    "    if floor == floors_total:\n",
    "        return \"последний\"\n",
    "    else:\n",
    "        return \"другой\"\n",
    "data['floor_group'] = data.apply(etaj, axis = 1)\n",
    "data = data[ ['floor_group'] + [ col for col in data.columns if col != 'floor_group' ] ]\n",
    "\n",
    "pd.DataFrame(data['floor_group'].value_counts())"
   ]
  },
  {
   "cell_type": "code",
   "execution_count": 13,
   "metadata": {},
   "outputs": [
    {
     "data": {
      "text/html": [
       "<div>\n",
       "<style scoped>\n",
       "    .dataframe tbody tr th:only-of-type {\n",
       "        vertical-align: middle;\n",
       "    }\n",
       "\n",
       "    .dataframe tbody tr th {\n",
       "        vertical-align: top;\n",
       "    }\n",
       "\n",
       "    .dataframe thead th {\n",
       "        text-align: right;\n",
       "    }\n",
       "</style>\n",
       "<table border=\"1\" class=\"dataframe\">\n",
       "  <thead>\n",
       "    <tr style=\"text-align: right;\">\n",
       "      <th></th>\n",
       "      <th>tsena_metra</th>\n",
       "      <th>kitchen_area/total_area</th>\n",
       "      <th>living_area/total_area</th>\n",
       "      <th>floor_group</th>\n",
       "      <th>day_of_week</th>\n",
       "      <th>day</th>\n",
       "      <th>month</th>\n",
       "      <th>year</th>\n",
       "      <th>total_images</th>\n",
       "      <th>last_price</th>\n",
       "      <th>...</th>\n",
       "      <th>kitchen_area</th>\n",
       "      <th>balcony</th>\n",
       "      <th>locality_name</th>\n",
       "      <th>airports_nearest</th>\n",
       "      <th>cityCenters_nearest</th>\n",
       "      <th>parks_around3000</th>\n",
       "      <th>parks_nearest</th>\n",
       "      <th>ponds_around3000</th>\n",
       "      <th>ponds_nearest</th>\n",
       "      <th>days_exposition</th>\n",
       "    </tr>\n",
       "  </thead>\n",
       "  <tbody>\n",
       "    <tr>\n",
       "      <td>0</td>\n",
       "      <td>120370.370370</td>\n",
       "      <td>0.231481</td>\n",
       "      <td>0.472222</td>\n",
       "      <td>другой</td>\n",
       "      <td>3</td>\n",
       "      <td>7</td>\n",
       "      <td>3</td>\n",
       "      <td>2019</td>\n",
       "      <td>20</td>\n",
       "      <td>13000000.0</td>\n",
       "      <td>...</td>\n",
       "      <td>25.00</td>\n",
       "      <td>0</td>\n",
       "      <td>Санкт-Петербург</td>\n",
       "      <td>18863</td>\n",
       "      <td>16028.0</td>\n",
       "      <td>1.0</td>\n",
       "      <td>482</td>\n",
       "      <td>2.0</td>\n",
       "      <td>755</td>\n",
       "      <td>95.0</td>\n",
       "    </tr>\n",
       "    <tr>\n",
       "      <td>1</td>\n",
       "      <td>82920.792079</td>\n",
       "      <td>0.272277</td>\n",
       "      <td>0.460396</td>\n",
       "      <td>первый</td>\n",
       "      <td>1</td>\n",
       "      <td>4</td>\n",
       "      <td>12</td>\n",
       "      <td>2018</td>\n",
       "      <td>7</td>\n",
       "      <td>3350000.0</td>\n",
       "      <td>...</td>\n",
       "      <td>11.00</td>\n",
       "      <td>2</td>\n",
       "      <td>посёлок Шушары</td>\n",
       "      <td>12817</td>\n",
       "      <td>18603.0</td>\n",
       "      <td>0.0</td>\n",
       "      <td></td>\n",
       "      <td>0.0</td>\n",
       "      <td></td>\n",
       "      <td>81.0</td>\n",
       "    </tr>\n",
       "    <tr>\n",
       "      <td>2</td>\n",
       "      <td>92785.714286</td>\n",
       "      <td>0.148214</td>\n",
       "      <td>0.612500</td>\n",
       "      <td>другой</td>\n",
       "      <td>3</td>\n",
       "      <td>20</td>\n",
       "      <td>8</td>\n",
       "      <td>2015</td>\n",
       "      <td>10</td>\n",
       "      <td>5196000.0</td>\n",
       "      <td>...</td>\n",
       "      <td>8.30</td>\n",
       "      <td>0</td>\n",
       "      <td>Санкт-Петербург</td>\n",
       "      <td>21741</td>\n",
       "      <td>13933.0</td>\n",
       "      <td>1.0</td>\n",
       "      <td>90</td>\n",
       "      <td>2.0</td>\n",
       "      <td>574</td>\n",
       "      <td>558.0</td>\n",
       "    </tr>\n",
       "    <tr>\n",
       "      <td>3</td>\n",
       "      <td>408176.100629</td>\n",
       "      <td>0.059748</td>\n",
       "      <td>0.283019</td>\n",
       "      <td>другой</td>\n",
       "      <td>4</td>\n",
       "      <td>24</td>\n",
       "      <td>7</td>\n",
       "      <td>2015</td>\n",
       "      <td>0</td>\n",
       "      <td>64900000.0</td>\n",
       "      <td>...</td>\n",
       "      <td>9.50</td>\n",
       "      <td>0</td>\n",
       "      <td>Санкт-Петербург</td>\n",
       "      <td>28098</td>\n",
       "      <td>6800.0</td>\n",
       "      <td>2.0</td>\n",
       "      <td>84</td>\n",
       "      <td>3.0</td>\n",
       "      <td>234</td>\n",
       "      <td>424.0</td>\n",
       "    </tr>\n",
       "    <tr>\n",
       "      <td>4</td>\n",
       "      <td>100000.000000</td>\n",
       "      <td>0.410000</td>\n",
       "      <td>0.320000</td>\n",
       "      <td>другой</td>\n",
       "      <td>1</td>\n",
       "      <td>19</td>\n",
       "      <td>6</td>\n",
       "      <td>2018</td>\n",
       "      <td>2</td>\n",
       "      <td>10000000.0</td>\n",
       "      <td>...</td>\n",
       "      <td>41.00</td>\n",
       "      <td>0</td>\n",
       "      <td>Санкт-Петербург</td>\n",
       "      <td>31856</td>\n",
       "      <td>8098.0</td>\n",
       "      <td>2.0</td>\n",
       "      <td>112</td>\n",
       "      <td>1.0</td>\n",
       "      <td>48</td>\n",
       "      <td>121.0</td>\n",
       "    </tr>\n",
       "    <tr>\n",
       "      <td>5</td>\n",
       "      <td>95065.789474</td>\n",
       "      <td>0.299342</td>\n",
       "      <td>0.473684</td>\n",
       "      <td>другой</td>\n",
       "      <td>0</td>\n",
       "      <td>10</td>\n",
       "      <td>9</td>\n",
       "      <td>2018</td>\n",
       "      <td>10</td>\n",
       "      <td>2890000.0</td>\n",
       "      <td>...</td>\n",
       "      <td>9.10</td>\n",
       "      <td>0</td>\n",
       "      <td>городской посёлок Янино-1</td>\n",
       "      <td></td>\n",
       "      <td>13093.0</td>\n",
       "      <td>1.0</td>\n",
       "      <td>455</td>\n",
       "      <td>1.0</td>\n",
       "      <td>503</td>\n",
       "      <td>55.0</td>\n",
       "    </tr>\n",
       "    <tr>\n",
       "      <td>6</td>\n",
       "      <td>99195.710456</td>\n",
       "      <td>0.386059</td>\n",
       "      <td>0.284182</td>\n",
       "      <td>другой</td>\n",
       "      <td>3</td>\n",
       "      <td>2</td>\n",
       "      <td>11</td>\n",
       "      <td>2017</td>\n",
       "      <td>6</td>\n",
       "      <td>3700000.0</td>\n",
       "      <td>...</td>\n",
       "      <td>14.40</td>\n",
       "      <td>1</td>\n",
       "      <td>посёлок Парголово</td>\n",
       "      <td>52996</td>\n",
       "      <td>19143.0</td>\n",
       "      <td>0.0</td>\n",
       "      <td></td>\n",
       "      <td>0.0</td>\n",
       "      <td></td>\n",
       "      <td>155.0</td>\n",
       "    </tr>\n",
       "    <tr>\n",
       "      <td>7</td>\n",
       "      <td>110544.692737</td>\n",
       "      <td>0.263966</td>\n",
       "      <td>0.425978</td>\n",
       "      <td>другой</td>\n",
       "      <td>3</td>\n",
       "      <td>18</td>\n",
       "      <td>4</td>\n",
       "      <td>2019</td>\n",
       "      <td>5</td>\n",
       "      <td>7915000.0</td>\n",
       "      <td>...</td>\n",
       "      <td>18.90</td>\n",
       "      <td>2</td>\n",
       "      <td>Санкт-Петербург</td>\n",
       "      <td>23982</td>\n",
       "      <td>11634.0</td>\n",
       "      <td>0.0</td>\n",
       "      <td></td>\n",
       "      <td>0.0</td>\n",
       "      <td></td>\n",
       "      <td>95.0</td>\n",
       "    </tr>\n",
       "    <tr>\n",
       "      <td>8</td>\n",
       "      <td>87454.764777</td>\n",
       "      <td>0.265682</td>\n",
       "      <td>0.465320</td>\n",
       "      <td>другой</td>\n",
       "      <td>2</td>\n",
       "      <td>23</td>\n",
       "      <td>5</td>\n",
       "      <td>2018</td>\n",
       "      <td>20</td>\n",
       "      <td>2900000.0</td>\n",
       "      <td>...</td>\n",
       "      <td>8.81</td>\n",
       "      <td>0</td>\n",
       "      <td>Мурино</td>\n",
       "      <td></td>\n",
       "      <td>13093.0</td>\n",
       "      <td>1.0</td>\n",
       "      <td>455</td>\n",
       "      <td>1.0</td>\n",
       "      <td>503</td>\n",
       "      <td>189.0</td>\n",
       "    </tr>\n",
       "    <tr>\n",
       "      <td>9</td>\n",
       "      <td>88524.590164</td>\n",
       "      <td>0.106557</td>\n",
       "      <td>0.714754</td>\n",
       "      <td>другой</td>\n",
       "      <td>6</td>\n",
       "      <td>26</td>\n",
       "      <td>2</td>\n",
       "      <td>2017</td>\n",
       "      <td>18</td>\n",
       "      <td>5400000.0</td>\n",
       "      <td>...</td>\n",
       "      <td>6.50</td>\n",
       "      <td>2</td>\n",
       "      <td>Санкт-Петербург</td>\n",
       "      <td>50898</td>\n",
       "      <td>15008.0</td>\n",
       "      <td>0.0</td>\n",
       "      <td></td>\n",
       "      <td>0.0</td>\n",
       "      <td></td>\n",
       "      <td>289.0</td>\n",
       "    </tr>\n",
       "    <tr>\n",
       "      <td>10</td>\n",
       "      <td>127525.252525</td>\n",
       "      <td>0.214646</td>\n",
       "      <td>0.512626</td>\n",
       "      <td>другой</td>\n",
       "      <td>3</td>\n",
       "      <td>16</td>\n",
       "      <td>11</td>\n",
       "      <td>2017</td>\n",
       "      <td>5</td>\n",
       "      <td>5050000.0</td>\n",
       "      <td>...</td>\n",
       "      <td>8.50</td>\n",
       "      <td>0</td>\n",
       "      <td>Санкт-Петербург</td>\n",
       "      <td>38357</td>\n",
       "      <td>13878.0</td>\n",
       "      <td>1.0</td>\n",
       "      <td>310</td>\n",
       "      <td>2.0</td>\n",
       "      <td>553</td>\n",
       "      <td>137.0</td>\n",
       "    </tr>\n",
       "    <tr>\n",
       "      <td>11</td>\n",
       "      <td>75000.000000</td>\n",
       "      <td>0.136364</td>\n",
       "      <td>0.704545</td>\n",
       "      <td>другой</td>\n",
       "      <td>0</td>\n",
       "      <td>27</td>\n",
       "      <td>8</td>\n",
       "      <td>2018</td>\n",
       "      <td>9</td>\n",
       "      <td>3300000.0</td>\n",
       "      <td>...</td>\n",
       "      <td>6.00</td>\n",
       "      <td>1</td>\n",
       "      <td>Ломоносов</td>\n",
       "      <td>48252</td>\n",
       "      <td>51677.0</td>\n",
       "      <td>0.0</td>\n",
       "      <td></td>\n",
       "      <td>0.0</td>\n",
       "      <td></td>\n",
       "      <td>7.0</td>\n",
       "    </tr>\n",
       "    <tr>\n",
       "      <td>12</td>\n",
       "      <td>72037.037037</td>\n",
       "      <td>0.166667</td>\n",
       "      <td>0.555556</td>\n",
       "      <td>последний</td>\n",
       "      <td>3</td>\n",
       "      <td>30</td>\n",
       "      <td>6</td>\n",
       "      <td>2016</td>\n",
       "      <td>10</td>\n",
       "      <td>3890000.0</td>\n",
       "      <td>...</td>\n",
       "      <td>9.00</td>\n",
       "      <td>0</td>\n",
       "      <td>Сертолово</td>\n",
       "      <td></td>\n",
       "      <td>13093.0</td>\n",
       "      <td>1.0</td>\n",
       "      <td>455</td>\n",
       "      <td>1.0</td>\n",
       "      <td>503</td>\n",
       "      <td>90.0</td>\n",
       "    </tr>\n",
       "    <tr>\n",
       "      <td>13</td>\n",
       "      <td>82943.925234</td>\n",
       "      <td>0.121495</td>\n",
       "      <td>0.630841</td>\n",
       "      <td>последний</td>\n",
       "      <td>5</td>\n",
       "      <td>1</td>\n",
       "      <td>7</td>\n",
       "      <td>2017</td>\n",
       "      <td>20</td>\n",
       "      <td>3550000.0</td>\n",
       "      <td>...</td>\n",
       "      <td>5.20</td>\n",
       "      <td>1</td>\n",
       "      <td>Петергоф</td>\n",
       "      <td>37868</td>\n",
       "      <td>33058.0</td>\n",
       "      <td>1.0</td>\n",
       "      <td>294</td>\n",
       "      <td>3.0</td>\n",
       "      <td>298</td>\n",
       "      <td>366.0</td>\n",
       "    </tr>\n",
       "    <tr>\n",
       "      <td>14</td>\n",
       "      <td>122222.222222</td>\n",
       "      <td>0.222222</td>\n",
       "      <td>0.472222</td>\n",
       "      <td>первый</td>\n",
       "      <td>3</td>\n",
       "      <td>23</td>\n",
       "      <td>6</td>\n",
       "      <td>2016</td>\n",
       "      <td>1</td>\n",
       "      <td>4400000.0</td>\n",
       "      <td>...</td>\n",
       "      <td>8.00</td>\n",
       "      <td>0</td>\n",
       "      <td>Пушкин</td>\n",
       "      <td>20782</td>\n",
       "      <td>30759.0</td>\n",
       "      <td>0.0</td>\n",
       "      <td></td>\n",
       "      <td>1.0</td>\n",
       "      <td>96</td>\n",
       "      <td>203.0</td>\n",
       "    </tr>\n",
       "  </tbody>\n",
       "</table>\n",
       "<p>15 rows × 30 columns</p>\n",
       "</div>"
      ],
      "text/plain": [
       "      tsena_metra  kitchen_area/total_area  living_area/total_area  \\\n",
       "0   120370.370370                 0.231481                0.472222   \n",
       "1    82920.792079                 0.272277                0.460396   \n",
       "2    92785.714286                 0.148214                0.612500   \n",
       "3   408176.100629                 0.059748                0.283019   \n",
       "4   100000.000000                 0.410000                0.320000   \n",
       "5    95065.789474                 0.299342                0.473684   \n",
       "6    99195.710456                 0.386059                0.284182   \n",
       "7   110544.692737                 0.263966                0.425978   \n",
       "8    87454.764777                 0.265682                0.465320   \n",
       "9    88524.590164                 0.106557                0.714754   \n",
       "10  127525.252525                 0.214646                0.512626   \n",
       "11   75000.000000                 0.136364                0.704545   \n",
       "12   72037.037037                 0.166667                0.555556   \n",
       "13   82943.925234                 0.121495                0.630841   \n",
       "14  122222.222222                 0.222222                0.472222   \n",
       "\n",
       "   floor_group  day_of_week  day  month  year  total_images  last_price  ...  \\\n",
       "0       другой            3    7      3  2019            20  13000000.0  ...   \n",
       "1       первый            1    4     12  2018             7   3350000.0  ...   \n",
       "2       другой            3   20      8  2015            10   5196000.0  ...   \n",
       "3       другой            4   24      7  2015             0  64900000.0  ...   \n",
       "4       другой            1   19      6  2018             2  10000000.0  ...   \n",
       "5       другой            0   10      9  2018            10   2890000.0  ...   \n",
       "6       другой            3    2     11  2017             6   3700000.0  ...   \n",
       "7       другой            3   18      4  2019             5   7915000.0  ...   \n",
       "8       другой            2   23      5  2018            20   2900000.0  ...   \n",
       "9       другой            6   26      2  2017            18   5400000.0  ...   \n",
       "10      другой            3   16     11  2017             5   5050000.0  ...   \n",
       "11      другой            0   27      8  2018             9   3300000.0  ...   \n",
       "12   последний            3   30      6  2016            10   3890000.0  ...   \n",
       "13   последний            5    1      7  2017            20   3550000.0  ...   \n",
       "14      первый            3   23      6  2016             1   4400000.0  ...   \n",
       "\n",
       "    kitchen_area balcony              locality_name  airports_nearest  \\\n",
       "0          25.00       0            Санкт-Петербург             18863   \n",
       "1          11.00       2             посёлок Шушары             12817   \n",
       "2           8.30       0            Санкт-Петербург             21741   \n",
       "3           9.50       0            Санкт-Петербург             28098   \n",
       "4          41.00       0            Санкт-Петербург             31856   \n",
       "5           9.10       0  городской посёлок Янино-1                     \n",
       "6          14.40       1          посёлок Парголово             52996   \n",
       "7          18.90       2            Санкт-Петербург             23982   \n",
       "8           8.81       0                     Мурино                     \n",
       "9           6.50       2            Санкт-Петербург             50898   \n",
       "10          8.50       0            Санкт-Петербург             38357   \n",
       "11          6.00       1                  Ломоносов             48252   \n",
       "12          9.00       0                  Сертолово                     \n",
       "13          5.20       1                   Петергоф             37868   \n",
       "14          8.00       0                     Пушкин             20782   \n",
       "\n",
       "    cityCenters_nearest  parks_around3000  parks_nearest  ponds_around3000  \\\n",
       "0               16028.0               1.0            482               2.0   \n",
       "1               18603.0               0.0                              0.0   \n",
       "2               13933.0               1.0             90               2.0   \n",
       "3                6800.0               2.0             84               3.0   \n",
       "4                8098.0               2.0            112               1.0   \n",
       "5               13093.0               1.0            455               1.0   \n",
       "6               19143.0               0.0                              0.0   \n",
       "7               11634.0               0.0                              0.0   \n",
       "8               13093.0               1.0            455               1.0   \n",
       "9               15008.0               0.0                              0.0   \n",
       "10              13878.0               1.0            310               2.0   \n",
       "11              51677.0               0.0                              0.0   \n",
       "12              13093.0               1.0            455               1.0   \n",
       "13              33058.0               1.0            294               3.0   \n",
       "14              30759.0               0.0                              1.0   \n",
       "\n",
       "    ponds_nearest  days_exposition  \n",
       "0             755             95.0  \n",
       "1                             81.0  \n",
       "2             574            558.0  \n",
       "3             234            424.0  \n",
       "4              48            121.0  \n",
       "5             503             55.0  \n",
       "6                            155.0  \n",
       "7                             95.0  \n",
       "8             503            189.0  \n",
       "9                            289.0  \n",
       "10            553            137.0  \n",
       "11                             7.0  \n",
       "12            503             90.0  \n",
       "13            298            366.0  \n",
       "14             96            203.0  \n",
       "\n",
       "[15 rows x 30 columns]"
      ]
     },
     "execution_count": 13,
     "metadata": {},
     "output_type": "execute_result"
    }
   ],
   "source": [
    "data['living_area/total_area'] = data['living_area'] / data['total_area']\n",
    "data = data[ ['living_area/total_area'] + [ col for col in data.columns if col != 'living_area/total_area'] ]\n",
    "\n",
    "data['kitchen_area/total_area'] = data['kitchen_area'] / data['total_area']\n",
    "data = data[ ['kitchen_area/total_area'] + [ col for col in data.columns if col != 'kitchen_area/total_area'] ]\n",
    "\n",
    "data = data[ ['tsena_metra'] + [ col for col in data.columns if col != 'tsena_metra' ] ]\n",
    "\n",
    "pd.DataFrame(data).head(15)"
   ]
  },
  {
   "cell_type": "markdown",
   "metadata": {},
   "source": [
    "**Вывод 3**"
   ]
  },
  {
   "cell_type": "markdown",
   "metadata": {},
   "source": [
    "*Были добавлены следующие столбики:*\n",
    "- цена метра\n",
    "- отношений площади кухни к общей площади\n",
    "- отношение жилой площади к общей площади\n",
    "- группа по этажу\n",
    "- день недели, день, месяц, год публикации"
   ]
  },
  {
   "cell_type": "markdown",
   "metadata": {},
   "source": [
    "<div class=\"alert alert-success\">\n",
    "<h2> Комментарий от ревьюера<a class=\"tocSkip\"></a></h2>\n",
    "Очень хорошо, что ты пишешь свои функции и используешь стандартные методы модуля datetime. Так твой код становится гораздо структурированнее.\n",
    "    \n",
    " \n",
    "</div>"
   ]
  },
  {
   "cell_type": "markdown",
   "metadata": {},
   "source": [
    "## Исследовательский анализ данных"
   ]
  },
  {
   "cell_type": "code",
   "execution_count": 14,
   "metadata": {},
   "outputs": [
    {
     "name": "stdout",
     "output_type": "stream",
     "text": [
      "<class 'pandas.core.frame.DataFrame'>\n",
      "Int64Index: 23611 entries, 0 to 23698\n",
      "Data columns (total 30 columns):\n",
      "tsena_metra                23611 non-null float64\n",
      "kitchen_area/total_area    23611 non-null float64\n",
      "living_area/total_area     23611 non-null float64\n",
      "floor_group                23611 non-null object\n",
      "day_of_week                23611 non-null int64\n",
      "day                        23611 non-null int64\n",
      "month                      23611 non-null int64\n",
      "year                       23611 non-null int64\n",
      "total_images               23611 non-null int64\n",
      "last_price                 23611 non-null float64\n",
      "total_area                 23611 non-null float64\n",
      "first_day_exposition       23611 non-null object\n",
      "rooms                      23611 non-null int64\n",
      "ceiling_height             23611 non-null float64\n",
      "floors_total               23611 non-null int64\n",
      "living_area                23611 non-null float64\n",
      "floor                      23611 non-null int64\n",
      "is_apartment               23611 non-null bool\n",
      "studio                     23611 non-null bool\n",
      "open_plan                  23611 non-null bool\n",
      "kitchen_area               23611 non-null float64\n",
      "balcony                    23611 non-null int64\n",
      "locality_name              23611 non-null object\n",
      "airports_nearest           23611 non-null object\n",
      "cityCenters_nearest        23611 non-null float64\n",
      "parks_around3000           23611 non-null float64\n",
      "parks_nearest              23611 non-null object\n",
      "ponds_around3000           23611 non-null float64\n",
      "ponds_nearest              23611 non-null object\n",
      "days_exposition            23611 non-null float64\n",
      "dtypes: bool(3), float64(12), int64(9), object(6)\n",
      "memory usage: 5.1+ MB\n"
     ]
    }
   ],
   "source": [
    "data.info()"
   ]
  },
  {
   "cell_type": "markdown",
   "metadata": {},
   "source": [
    "**4.1 Изучение параметров**"
   ]
  },
  {
   "cell_type": "code",
   "execution_count": 15,
   "metadata": {},
   "outputs": [
    {
     "data": {
      "text/plain": [
       "<matplotlib.axes._subplots.AxesSubplot at 0x7f2031b729d0>"
      ]
     },
     "execution_count": 15,
     "metadata": {},
     "output_type": "execute_result"
    },
    {
     "data": {
      "image/png": "[encoded data removed]",
      "text/plain": [
       "<Figure size 576x576 with 1 Axes>"
      ]
     },
     "metadata": {
      "needs_background": "light"
     },
     "output_type": "display_data"
    }
   ],
   "source": [
    "data['last_price'].hist(bins = 50, figsize = (8,8))"
   ]
  },
  {
   "cell_type": "markdown",
   "metadata": {},
   "source": [
    "<div class=\"alert alert-warning\">\n",
    "<h2> Комментарий от ревьюера<a class=\"tocSkip\"></a></h2>\n",
    "Для бОльшей наглядности советую тебе подписывать названия графиков и оси)\n",
    "    \n",
    " \n",
    "</div>"
   ]
  },
  {
   "cell_type": "code",
   "execution_count": 16,
   "metadata": {},
   "outputs": [
    {
     "data": {
      "text/plain": [
       "<matplotlib.axes._subplots.AxesSubplot at 0x7f2031af2ed0>"
      ]
     },
     "execution_count": 16,
     "metadata": {},
     "output_type": "execute_result"
    },
    {
     "data": {
      "image/png": "[encoded data removed]",
      "text/plain": [
       "<Figure size 432x288 with 1 Axes>"
      ]
     },
     "metadata": {
      "needs_background": "light"
     },
     "output_type": "display_data"
    }
   ],
   "source": [
    "data['total_area'].hist(bins = 50, range = (0,350) )"
   ]
  },
  {
   "cell_type": "code",
   "execution_count": 17,
   "metadata": {},
   "outputs": [
    {
     "data": {
      "text/plain": [
       "<matplotlib.axes._subplots.AxesSubplot at 0x7f2031392150>"
      ]
     },
     "execution_count": 17,
     "metadata": {},
     "output_type": "execute_result"
    },
    {
     "data": {
      "image/png": "[encoded data removed]",
      "text/plain": [
       "<Figure size 432x288 with 1 Axes>"
      ]
     },
     "metadata": {
      "needs_background": "light"
     },
     "output_type": "display_data"
    }
   ],
   "source": [
    "data['rooms'].hist(bins = 30, range = (0,10))"
   ]
  },
  {
   "cell_type": "code",
   "execution_count": 18,
   "metadata": {},
   "outputs": [
    {
     "data": {
      "text/plain": [
       "<matplotlib.axes._subplots.AxesSubplot at 0x7f2031386d90>"
      ]
     },
     "execution_count": 18,
     "metadata": {},
     "output_type": "execute_result"
    },
    {
     "data": {
      "image/png": "[encoded data removed]",
      "text/plain": [
       "<Figure size 432x288 with 1 Axes>"
      ]
     },
     "metadata": {
      "needs_background": "light"
     },
     "output_type": "display_data"
    }
   ],
   "source": [
    "data['ceiling_height'].hist(bins = 50, range = (2,5))"
   ]
  },
  {
   "cell_type": "code",
   "execution_count": 19,
   "metadata": {},
   "outputs": [
    {
     "data": {
      "text/plain": [
       "<matplotlib.axes._subplots.AxesSubplot at 0x7f20311aea90>"
      ]
     },
     "execution_count": 19,
     "metadata": {},
     "output_type": "execute_result"
    },
    {
     "data": {
      "image/png": "[encoded data removed]",
      "text/plain": [
       "<Figure size 432x288 with 1 Axes>"
      ]
     },
     "metadata": {
      "needs_background": "light"
     },
     "output_type": "display_data"
    }
   ],
   "source": [
    "data['days_exposition'].hist(bins = 50)"
   ]
  },
  {
   "cell_type": "code",
   "execution_count": 20,
   "metadata": {},
   "outputs": [
    {
     "name": "stdout",
     "output_type": "stream",
     "text": [
      "Среднее по количеству дней публикации 169.3530981322265\n",
      "\n",
      "Медиана по количеству дней публикации 95.0\n"
     ]
    }
   ],
   "source": [
    "print(\"Среднее по количеству дней публикации\", data['days_exposition'].mean())\n",
    "print()\n",
    "print(\"Медиана по количеству дней публикации\",data['days_exposition'].median())"
   ]
  },
  {
   "cell_type": "markdown",
   "metadata": {},
   "source": [
    "<div class=\"alert alert-success\">\n",
    "<h2> Комментарий от ревьюера<a class=\"tocSkip\"></a></h2>\n",
    "В среднем продажа увартиры занимает 2-3 месяца. А что отнести к долгой продаже?\n",
    " \n",
    "</div>"
   ]
  },
  {
   "cell_type": "markdown",
   "metadata": {},
   "source": [
    "**Вывод 4.1**\n",
    "- *По площади: больше всего объявлений по площади от 35 до 75 м2*\n",
    "- *Больше всего однокомнатных и двухкомнатных квартир*"
   ]
  },
  {
   "cell_type": "markdown",
   "metadata": {},
   "source": [
    "**4.2 Редкие и выбивающиеся значения**"
   ]
  },
  {
   "cell_type": "markdown",
   "metadata": {},
   "source": [
    "1. Высота потолков меньше 2 метров/ больше 10 метров -> Необходимо заменить данные значения на медианные\n",
    "2. Высокая цена/низкая цена\n",
    "3. Большое количество этажей в доме\n",
    "4. Количество комнат равное 0"
   ]
  },
  {
   "cell_type": "markdown",
   "metadata": {},
   "source": [
    "<div class=\"alert alert-success\">\n",
    "<h2> Комментарий от ревьюера<a class=\"tocSkip\"></a></h2>\n",
    "Квартиры с большой площадью и ценой лучше не учитывать. Такая недвижимость относится к элитному классу и заслуживает отдельного исследования.\n",
    " \n",
    "</div>"
   ]
  },
  {
   "cell_type": "code",
   "execution_count": 21,
   "metadata": {},
   "outputs": [],
   "source": [
    "def colour(data):\n",
    "    print('\\033[2;35m {} \\033[0;0m'.format((data.mean())))"
   ]
  },
  {
   "cell_type": "code",
   "execution_count": 22,
   "metadata": {},
   "outputs": [
    {
     "name": "stdout",
     "output_type": "stream",
     "text": [
      "Медиана по высоте потолков до:\u001b[2;35m 2.7245771038922535 \u001b[0;0m\n",
      "---------------------------------------------------------------\n",
      "count     28.000000\n",
      "mean      25.119643\n",
      "std       17.011654\n",
      "min        1.000000\n",
      "25%       23.650000\n",
      "50%       25.000000\n",
      "75%       27.000000\n",
      "max      100.000000\n",
      "Name: ceiling_height, dtype: float64\n",
      "Counter({27.0: 8, 25.0: 7, 32.0: 2, 24.0: 1, 26.0: 1, 1.2: 1, 14.0: 1, 1.75: 1, 20.0: 1, 22.6: 1, 27.5: 1, 10.3: 1, 1.0: 1, 100.0: 1})\n",
      "\n",
      "count    3.000000\n",
      "mean     1.316667\n",
      "std      0.388373\n",
      "min      1.000000\n",
      "25%      1.100000\n",
      "50%      1.200000\n",
      "75%      1.475000\n",
      "max      1.750000\n",
      "Name: ceiling_height, dtype: float64\n",
      "Counter({1.2: 1, 1.75: 1, 1.0: 1})\n",
      "\n",
      "2572     2.0\n",
      "16884    2.0\n",
      "4212     2.0\n",
      "11352    2.0\n",
      "552      2.0\n",
      "        ... \n",
      "20264    6.0\n",
      "15743    8.0\n",
      "17442    8.0\n",
      "3474     8.0\n",
      "5863     8.3\n",
      "Name: ceiling_height, Length: 23611, dtype: float64\n",
      "\n",
      "---------------------------------------------------------------\n",
      "Медиана по высоте потолков после:\u001b[2;35m 2.6979306255558844 \u001b[0;0m\n"
     ]
    }
   ],
   "source": [
    "#высота потолков\n",
    "print('Медиана по высоте потолков до:',end = '')\n",
    "colour(data['ceiling_height'])\n",
    "\n",
    "print('---------------------------------------------------------------')\n",
    "height10 = data.query('ceiling_height >10 or ceiling_height < 2')\n",
    "height1 = data.query('ceiling_height < 2')\n",
    "\n",
    "print(height10['ceiling_height'].describe())\n",
    "print(Counter(height10['ceiling_height']))\n",
    "print()\n",
    "print(height1['ceiling_height'].describe())\n",
    "print(Counter(height1['ceiling_height']))\n",
    "\n",
    "data.loc[data['ceiling_height'] > 10, 'ceiling_height'] = data['ceiling_height'].median()\n",
    "data.loc[data['ceiling_height'] < 2, 'ceiling_height'] = data['ceiling_height'].median()\n",
    "print()\n",
    "print(data['ceiling_height'].sort_values())\n",
    "print()\n",
    "print('---------------------------------------------------------------')\n",
    "print('Медиана по высоте потолков после:',end = '')\n",
    "colour(data['ceiling_height'])"
   ]
  },
  {
   "cell_type": "code",
   "execution_count": 23,
   "metadata": {},
   "outputs": [
    {
     "name": "stdout",
     "output_type": "stream",
     "text": [
      "Медиана по цене до\u001b[2;35m 6540780.064292068 \u001b[0;0m\n",
      "8793         12190.0\n",
      "14911       430000.0\n",
      "17456       430000.0\n",
      "16274       440000.0\n",
      "16219       450000.0\n",
      "            ...     \n",
      "15651    300000000.0\n",
      "1436     330000000.0\n",
      "14706    401300000.0\n",
      "19540    420000000.0\n",
      "12971    763000000.0\n",
      "Name: last_price, Length: 23611, dtype: float64\n",
      "Медиана по цене после\u001b[2;35m 6509015.4563090345 \u001b[0;0m\n"
     ]
    }
   ],
   "source": [
    "#высокая/низкая цена\n",
    "print('Медиана по цене до', end ='')\n",
    "colour(data['last_price'])\n",
    "\n",
    "print(data['last_price'].sort_values())\n",
    "\n",
    "data = data.query('last_price not in (12190,763000000) ')\n",
    "\n",
    "print('Медиана по цене после', end ='')\n",
    "colour(data['last_price'])"
   ]
  },
  {
   "cell_type": "code",
   "execution_count": 24,
   "metadata": {},
   "outputs": [
    {
     "data": {
      "text/plain": [
       "Counter({16: 1376,\n",
       "         11: 203,\n",
       "         5: 5788,\n",
       "         14: 553,\n",
       "         12: 1362,\n",
       "         26: 124,\n",
       "         24: 469,\n",
       "         27: 164,\n",
       "         9: 3761,\n",
       "         6: 914,\n",
       "         17: 833,\n",
       "         25: 1074,\n",
       "         3: 668,\n",
       "         23: 352,\n",
       "         19: 339,\n",
       "         18: 505,\n",
       "         4: 1200,\n",
       "         22: 286,\n",
       "         8: 390,\n",
       "         2: 383,\n",
       "         10: 1173,\n",
       "         7: 592,\n",
       "         13: 229,\n",
       "         15: 365,\n",
       "         20: 271,\n",
       "         28: 21,\n",
       "         36: 3,\n",
       "         21: 158,\n",
       "         35: 24,\n",
       "         34: 1,\n",
       "         1: 25,\n",
       "         29: 1,\n",
       "         33: 1,\n",
       "         37: 1})"
      ]
     },
     "execution_count": 24,
     "metadata": {},
     "output_type": "execute_result"
    }
   ],
   "source": [
    "#количество этажей, большее чем 40,были убраны ранее\n",
    "Counter(data['floors_total'])"
   ]
  },
  {
   "cell_type": "code",
   "execution_count": 25,
   "metadata": {},
   "outputs": [
    {
     "data": {
      "text/plain": [
       "Counter({3: 5795,\n",
       "         1: 8208,\n",
       "         2: 7911,\n",
       "         4: 1177,\n",
       "         5: 325,\n",
       "         6: 104,\n",
       "         7: 58,\n",
       "         11: 2,\n",
       "         8: 12,\n",
       "         14: 2,\n",
       "         10: 3,\n",
       "         15: 1,\n",
       "         9: 8,\n",
       "         19: 1,\n",
       "         16: 1,\n",
       "         12: 1})"
      ]
     },
     "execution_count": 25,
     "metadata": {},
     "output_type": "execute_result"
    }
   ],
   "source": [
    "#количество комнат, равное 0, были ранее изменены на 1\n",
    "Counter(data['rooms'])"
   ]
  },
  {
   "cell_type": "markdown",
   "metadata": {},
   "source": [
    "**Вывод 4.2**\n",
    "\n",
    "*Были убраны выбивающиеся значения по высоте потолков, цене. До этого уже было убрано большое количество этажей в доме и изменено нулевое количество комнат на 1.*"
   ]
  },
  {
   "cell_type": "markdown",
   "metadata": {},
   "source": [
    "<div class=\"alert alert-success\">\n",
    "<h2> Комментарий от ревьюера<a class=\"tocSkip\"></a></h2>\n",
    "Отлично, данные готовы к изучению)\n",
    " \n",
    "</div>"
   ]
  },
  {
   "cell_type": "markdown",
   "metadata": {},
   "source": [
    "**4.3 Изучение факторов,которые влияют на стоимость квартиры**"
   ]
  },
  {
   "cell_type": "code",
   "execution_count": 26,
   "metadata": {},
   "outputs": [
    {
     "data": {
      "text/plain": [
       "<matplotlib.axes._subplots.AxesSubplot at 0x7f2031117bd0>"
      ]
     },
     "execution_count": 26,
     "metadata": {},
     "output_type": "execute_result"
    },
    {
     "data": {
      "image/png": "[encoded data removed]",
      "text/plain": [
       "<Figure size 432x288 with 1 Axes>"
      ]
     },
     "metadata": {
      "needs_background": "light"
     },
     "output_type": "display_data"
    }
   ],
   "source": [
    "#площадь и цена\n",
    "data.plot(x='total_area', y='last_price', kind = 'scatter',alpha = 0.5) "
   ]
  },
  {
   "cell_type": "code",
   "execution_count": 27,
   "metadata": {},
   "outputs": [
    {
     "data": {
      "text/plain": [
       "<matplotlib.axes._subplots.AxesSubplot at 0x7f20311d4050>"
      ]
     },
     "execution_count": 27,
     "metadata": {},
     "output_type": "execute_result"
    },
    {
     "data": {
      "image/png": "[encoded data removed]",
      "text/plain": [
       "<Figure size 432x288 with 1 Axes>"
      ]
     },
     "metadata": {
      "needs_background": "light"
     },
     "output_type": "display_data"
    }
   ],
   "source": [
    "#число комнат и цена\n",
    "data.plot(x='rooms', y='last_price', kind = 'scatter', alpha = 0.5) "
   ]
  },
  {
   "cell_type": "code",
   "execution_count": 28,
   "metadata": {},
   "outputs": [
    {
     "data": {
      "text/plain": [
       "<matplotlib.axes._subplots.AxesSubplot at 0x7f2031006710>"
      ]
     },
     "execution_count": 28,
     "metadata": {},
     "output_type": "execute_result"
    },
    {
     "data": {
      "image/png": "[encoded data removed]",
      "text/plain": [
       "<Figure size 432x288 with 1 Axes>"
      ]
     },
     "metadata": {
      "needs_background": "light"
     },
     "output_type": "display_data"
    }
   ],
   "source": [
    "#удаленность от центра и цена\n",
    "data.plot(x='cityCenters_nearest', y='last_price',  kind = 'scatter',  alpha = 0.5)"
   ]
  },
  {
   "cell_type": "code",
   "execution_count": 29,
   "metadata": {},
   "outputs": [
    {
     "data": {
      "text/plain": [
       "<matplotlib.collections.PathCollection at 0x7f2030fd7450>"
      ]
     },
     "execution_count": 29,
     "metadata": {},
     "output_type": "execute_result"
    },
    {
     "data": {
      "image/png": "[encoded data removed]",
      "text/plain": [
       "<Figure size 432x288 with 1 Axes>"
      ]
     },
     "metadata": {
      "needs_background": "light"
     },
     "output_type": "display_data"
    }
   ],
   "source": [
    "#этаж и цена\n",
    "plt.scatter(data['last_price'].values, data['floor_group'], alpha = 0.3)"
   ]
  },
  {
   "cell_type": "code",
   "execution_count": 30,
   "metadata": {},
   "outputs": [
    {
     "data": {
      "text/plain": [
       "<matplotlib.collections.PathCollection at 0x7f2028ebdad0>"
      ]
     },
     "execution_count": 30,
     "metadata": {},
     "output_type": "execute_result"
    },
    {
     "data": {
      "image/png": "[encoded data removed]",
      "text/plain": [
       "<Figure size 432x288 with 1 Axes>"
      ]
     },
     "metadata": {
      "needs_background": "light"
     },
     "output_type": "display_data"
    }
   ],
   "source": [
    "#день недели и цена\n",
    "plt.scatter(data['last_price'].values, data['day_of_week'], alpha = 0.25)"
   ]
  },
  {
   "cell_type": "code",
   "execution_count": 31,
   "metadata": {},
   "outputs": [
    {
     "data": {
      "text/plain": [
       "<matplotlib.collections.PathCollection at 0x7f2028e1e5d0>"
      ]
     },
     "execution_count": 31,
     "metadata": {},
     "output_type": "execute_result"
    },
    {
     "data": {
      "image/png": "[encoded data removed]",
      "text/plain": [
       "<Figure size 432x288 with 1 Axes>"
      ]
     },
     "metadata": {
      "needs_background": "light"
     },
     "output_type": "display_data"
    }
   ],
   "source": [
    "#месяц и цена\n",
    "plt.scatter(data['last_price'].values, data['month'], alpha = 0.3)"
   ]
  },
  {
   "cell_type": "code",
   "execution_count": 32,
   "metadata": {},
   "outputs": [
    {
     "data": {
      "text/plain": [
       "<matplotlib.collections.PathCollection at 0x7f2028e599d0>"
      ]
     },
     "execution_count": 32,
     "metadata": {},
     "output_type": "execute_result"
    },
    {
     "data": {
      "image/png": "[encoded data removed]",
      "text/plain": [
       "<Figure size 432x288 with 1 Axes>"
      ]
     },
     "metadata": {
      "needs_background": "light"
     },
     "output_type": "display_data"
    }
   ],
   "source": [
    "#год и цена\n",
    "plt.scatter(data['last_price'].values, data['year'], alpha = 0.3)"
   ]
  },
  {
   "cell_type": "code",
   "execution_count": 33,
   "metadata": {},
   "outputs": [
    {
     "name": "stdout",
     "output_type": "stream",
     "text": [
      "0.7025644550643984\n",
      "0.3940365432300009\n",
      "-0.20924829473644327\n"
     ]
    }
   ],
   "source": [
    "print(data['total_area'].corr(data['last_price']))\n",
    "print(data['rooms'].corr(data['last_price']))\n",
    "print(data['cityCenters_nearest'].corr(data['last_price']))"
   ]
  },
  {
   "cell_type": "markdown",
   "metadata": {},
   "source": [
    "**Вывод 4.3**\n",
    "\n",
    "*Были изучены факторы, которые влияют на стоимость квартиры*\n",
    "* *Чем больше площадь квартиры, тем выше цена*\n",
    "* *Чем больше комнат, тем выше цена*\n",
    "* *Цена на жилье на первом этаже ниже*\n",
    "* *Цена не сильно отличается по месяцу и дню недели*"
   ]
  },
  {
   "cell_type": "markdown",
   "metadata": {},
   "source": [
    "<div class=\"alert alert-success\">\n",
    "<h2> Комментарий от ревьюера<a class=\"tocSkip\"></a></h2>\n",
    "Конечно, в первую очередь стоимость зависит от площади. А вот количество комнат играет явно не решающую роль в образовании цены.\n",
    "    \n",
    " Квартиры на первом этаже дешевле, чем на остальных. Причем вне зависимости от месторасположения.\n",
    "    \n",
    " Ни день недели, ни месяц не влияют на стоимость. Цена изменяется в пределах погрешности.\n",
    "</div>"
   ]
  },
  {
   "cell_type": "markdown",
   "metadata": {},
   "source": [
    "**4.4 Изучение населенных пунктов**"
   ]
  },
  {
   "cell_type": "code",
   "execution_count": 34,
   "metadata": {},
   "outputs": [
    {
     "name": "stdout",
     "output_type": "stream",
     "text": [
      "Index(['Санкт-Петербург', 'Мурино', 'Кудрово', 'посёлок Шушары', 'Всеволожск',\n",
      "       'Пушкин', 'Колпино', 'посёлок Парголово', 'Гатчина', 'Выборг'],\n",
      "      dtype='object')\n",
      "Санкт-Петербург      15648\n",
      "Мурино                 586\n",
      "Кудрово                470\n",
      "посёлок Шушары         439\n",
      "Всеволожск             398\n",
      "Пушкин                 369\n",
      "Колпино                338\n",
      "посёлок Парголово      327\n",
      "Гатчина                307\n",
      "Выборг                 237\n",
      "Name: locality_name, dtype: int64\n"
     ]
    }
   ],
   "source": [
    "data2 = data['locality_name'].value_counts().sort_values(ascending = False).head(10)\n",
    "print(data2.index)\n",
    "print(data2)"
   ]
  },
  {
   "cell_type": "code",
   "execution_count": 35,
   "metadata": {},
   "outputs": [
    {
     "name": "stdout",
     "output_type": "stream",
     "text": [
      "                     tsena_metra\n",
      "locality_name                   \n",
      "Санкт-Петербург    104782.477485\n",
      "Пушкин             100000.000000\n",
      "Кудрово             95555.311677\n",
      "посёлок Парголово   91642.857143\n",
      "Мурино              86250.377687\n",
      "посёлок Шушары      76829.268293\n",
      "Колпино             74723.748474\n",
      "Гатчина             67796.610169\n",
      "Всеволожск          65789.473684\n",
      "Выборг              58158.319871\n"
     ]
    }
   ],
   "source": [
    "data.groupby('locality_name')['tsena_metra'].mean().sort_values(ascending = False).head(15)\n",
    "data_local = data.query('locality_name in @data2.index')\n",
    "data_local = data_local.pivot_table(\n",
    "    index = 'locality_name', values = 'tsena_metra', aggfunc='median'\n",
    ")\n",
    "\n",
    "print(data_local.sort_values('tsena_metra', ascending = False))"
   ]
  },
  {
   "cell_type": "code",
   "execution_count": 36,
   "metadata": {},
   "outputs": [
    {
     "data": {
      "image/png": "[encoded data removed]",
      "text/plain": [
       "<Figure size 1080x360 with 1 Axes>"
      ]
     },
     "metadata": {
      "needs_background": "light"
     },
     "output_type": "display_data"
    }
   ],
   "source": [
    "plt.figure(figsize=(15, 5))\n",
    "plt.plot(data_local, 'o')\n",
    "plt.grid(True)\n",
    "plt.show()"
   ]
  },
  {
   "cell_type": "markdown",
   "metadata": {},
   "source": [
    "**Вывод 4.4**\n",
    "\n",
    "\n",
    "*Было выделено 10 населенных пунктов с большим количеством объявлений:\n",
    "'Санкт-Петербург', 'Мурино', 'Кудрово', 'посёлок Шушары', 'Всеволожск','Пушкин', 'Колпино', 'посёлок Парголово', 'Гатчина', 'Выборг'. По цене за квадратный метр самое дорогое жилье в Санкт-Петербурге, самое дешевое в Выборге.*"
   ]
  },
  {
   "cell_type": "markdown",
   "metadata": {},
   "source": [
    "<div class=\"alert alert-success\">\n",
    "<h2> Комментарий от ревьюера<a class=\"tocSkip\"></a></h2>\n",
    "Да, Выборг замыкает эту 10-ку)\n",
    "</div>"
   ]
  },
  {
   "cell_type": "markdown",
   "metadata": {},
   "source": [
    "**4.5 Изучение центра СПб**"
   ]
  },
  {
   "cell_type": "code",
   "execution_count": 37,
   "metadata": {},
   "outputs": [
    {
     "name": "stdout",
     "output_type": "stream",
     "text": [
      "(15648, 30)\n"
     ]
    },
    {
     "name": "stderr",
     "output_type": "stream",
     "text": [
      "/opt/conda/lib/python3.7/site-packages/ipykernel_launcher.py:4: SettingWithCopyWarning: \n",
      "A value is trying to be set on a copy of a slice from a DataFrame.\n",
      "Try using .loc[row_indexer,col_indexer] = value instead\n",
      "\n",
      "See the caveats in the documentation: http://pandas.pydata.org/pandas-docs/stable/user_guide/indexing.html#returning-a-view-versus-a-copy\n",
      "  after removing the cwd from sys.path.\n"
     ]
    },
    {
     "data": {
      "text/html": [
       "<div>\n",
       "<style scoped>\n",
       "    .dataframe tbody tr th:only-of-type {\n",
       "        vertical-align: middle;\n",
       "    }\n",
       "\n",
       "    .dataframe tbody tr th {\n",
       "        vertical-align: top;\n",
       "    }\n",
       "\n",
       "    .dataframe thead th {\n",
       "        text-align: right;\n",
       "    }\n",
       "</style>\n",
       "<table border=\"1\" class=\"dataframe\">\n",
       "  <thead>\n",
       "    <tr style=\"text-align: right;\">\n",
       "      <th></th>\n",
       "      <th>centre_spb</th>\n",
       "      <th>tsena_metra</th>\n",
       "      <th>kitchen_area/total_area</th>\n",
       "      <th>living_area/total_area</th>\n",
       "      <th>floor_group</th>\n",
       "      <th>day_of_week</th>\n",
       "      <th>day</th>\n",
       "      <th>month</th>\n",
       "      <th>year</th>\n",
       "      <th>total_images</th>\n",
       "      <th>...</th>\n",
       "      <th>kitchen_area</th>\n",
       "      <th>balcony</th>\n",
       "      <th>locality_name</th>\n",
       "      <th>airports_nearest</th>\n",
       "      <th>cityCenters_nearest</th>\n",
       "      <th>parks_around3000</th>\n",
       "      <th>parks_nearest</th>\n",
       "      <th>ponds_around3000</th>\n",
       "      <th>ponds_nearest</th>\n",
       "      <th>days_exposition</th>\n",
       "    </tr>\n",
       "  </thead>\n",
       "  <tbody>\n",
       "    <tr>\n",
       "      <td>0</td>\n",
       "      <td>16.0</td>\n",
       "      <td>120370.370370</td>\n",
       "      <td>0.231481</td>\n",
       "      <td>0.472222</td>\n",
       "      <td>другой</td>\n",
       "      <td>3</td>\n",
       "      <td>7</td>\n",
       "      <td>3</td>\n",
       "      <td>2019</td>\n",
       "      <td>20</td>\n",
       "      <td>...</td>\n",
       "      <td>25.0</td>\n",
       "      <td>0</td>\n",
       "      <td>Санкт-Петербург</td>\n",
       "      <td>18863</td>\n",
       "      <td>16028.0</td>\n",
       "      <td>1.0</td>\n",
       "      <td>482</td>\n",
       "      <td>2.0</td>\n",
       "      <td>755</td>\n",
       "      <td>95.0</td>\n",
       "    </tr>\n",
       "    <tr>\n",
       "      <td>2</td>\n",
       "      <td>14.0</td>\n",
       "      <td>92785.714286</td>\n",
       "      <td>0.148214</td>\n",
       "      <td>0.612500</td>\n",
       "      <td>другой</td>\n",
       "      <td>3</td>\n",
       "      <td>20</td>\n",
       "      <td>8</td>\n",
       "      <td>2015</td>\n",
       "      <td>10</td>\n",
       "      <td>...</td>\n",
       "      <td>8.3</td>\n",
       "      <td>0</td>\n",
       "      <td>Санкт-Петербург</td>\n",
       "      <td>21741</td>\n",
       "      <td>13933.0</td>\n",
       "      <td>1.0</td>\n",
       "      <td>90</td>\n",
       "      <td>2.0</td>\n",
       "      <td>574</td>\n",
       "      <td>558.0</td>\n",
       "    </tr>\n",
       "    <tr>\n",
       "      <td>3</td>\n",
       "      <td>7.0</td>\n",
       "      <td>408176.100629</td>\n",
       "      <td>0.059748</td>\n",
       "      <td>0.283019</td>\n",
       "      <td>другой</td>\n",
       "      <td>4</td>\n",
       "      <td>24</td>\n",
       "      <td>7</td>\n",
       "      <td>2015</td>\n",
       "      <td>0</td>\n",
       "      <td>...</td>\n",
       "      <td>9.5</td>\n",
       "      <td>0</td>\n",
       "      <td>Санкт-Петербург</td>\n",
       "      <td>28098</td>\n",
       "      <td>6800.0</td>\n",
       "      <td>2.0</td>\n",
       "      <td>84</td>\n",
       "      <td>3.0</td>\n",
       "      <td>234</td>\n",
       "      <td>424.0</td>\n",
       "    </tr>\n",
       "    <tr>\n",
       "      <td>4</td>\n",
       "      <td>8.0</td>\n",
       "      <td>100000.000000</td>\n",
       "      <td>0.410000</td>\n",
       "      <td>0.320000</td>\n",
       "      <td>другой</td>\n",
       "      <td>1</td>\n",
       "      <td>19</td>\n",
       "      <td>6</td>\n",
       "      <td>2018</td>\n",
       "      <td>2</td>\n",
       "      <td>...</td>\n",
       "      <td>41.0</td>\n",
       "      <td>0</td>\n",
       "      <td>Санкт-Петербург</td>\n",
       "      <td>31856</td>\n",
       "      <td>8098.0</td>\n",
       "      <td>2.0</td>\n",
       "      <td>112</td>\n",
       "      <td>1.0</td>\n",
       "      <td>48</td>\n",
       "      <td>121.0</td>\n",
       "    </tr>\n",
       "    <tr>\n",
       "      <td>7</td>\n",
       "      <td>12.0</td>\n",
       "      <td>110544.692737</td>\n",
       "      <td>0.263966</td>\n",
       "      <td>0.425978</td>\n",
       "      <td>другой</td>\n",
       "      <td>3</td>\n",
       "      <td>18</td>\n",
       "      <td>4</td>\n",
       "      <td>2019</td>\n",
       "      <td>5</td>\n",
       "      <td>...</td>\n",
       "      <td>18.9</td>\n",
       "      <td>2</td>\n",
       "      <td>Санкт-Петербург</td>\n",
       "      <td>23982</td>\n",
       "      <td>11634.0</td>\n",
       "      <td>0.0</td>\n",
       "      <td></td>\n",
       "      <td>0.0</td>\n",
       "      <td></td>\n",
       "      <td>95.0</td>\n",
       "    </tr>\n",
       "  </tbody>\n",
       "</table>\n",
       "<p>5 rows × 31 columns</p>\n",
       "</div>"
      ],
      "text/plain": [
       "   centre_spb    tsena_metra  kitchen_area/total_area  living_area/total_area  \\\n",
       "0        16.0  120370.370370                 0.231481                0.472222   \n",
       "2        14.0   92785.714286                 0.148214                0.612500   \n",
       "3         7.0  408176.100629                 0.059748                0.283019   \n",
       "4         8.0  100000.000000                 0.410000                0.320000   \n",
       "7        12.0  110544.692737                 0.263966                0.425978   \n",
       "\n",
       "  floor_group  day_of_week  day  month  year  total_images  ...  kitchen_area  \\\n",
       "0      другой            3    7      3  2019            20  ...          25.0   \n",
       "2      другой            3   20      8  2015            10  ...           8.3   \n",
       "3      другой            4   24      7  2015             0  ...           9.5   \n",
       "4      другой            1   19      6  2018             2  ...          41.0   \n",
       "7      другой            3   18      4  2019             5  ...          18.9   \n",
       "\n",
       "   balcony    locality_name  airports_nearest  cityCenters_nearest  \\\n",
       "0        0  Санкт-Петербург             18863              16028.0   \n",
       "2        0  Санкт-Петербург             21741              13933.0   \n",
       "3        0  Санкт-Петербург             28098               6800.0   \n",
       "4        0  Санкт-Петербург             31856               8098.0   \n",
       "7        2  Санкт-Петербург             23982              11634.0   \n",
       "\n",
       "   parks_around3000  parks_nearest  ponds_around3000  ponds_nearest  \\\n",
       "0               1.0            482               2.0            755   \n",
       "2               1.0             90               2.0            574   \n",
       "3               2.0             84               3.0            234   \n",
       "4               2.0            112               1.0             48   \n",
       "7               0.0                              0.0                  \n",
       "\n",
       "   days_exposition  \n",
       "0             95.0  \n",
       "2            558.0  \n",
       "3            424.0  \n",
       "4            121.0  \n",
       "7             95.0  \n",
       "\n",
       "[5 rows x 31 columns]"
      ]
     },
     "execution_count": 37,
     "metadata": {},
     "output_type": "execute_result"
    }
   ],
   "source": [
    "data_spb = data.query('locality_name == \"Санкт-Петербург\"')\n",
    "print(data_spb.shape)\n",
    "\n",
    "data_spb['centre_spb'] = (data_spb['cityCenters_nearest'] / 1000).round(0)\n",
    "data_spb = data_spb[['centre_spb'] + [ col for col in data.columns if col != 'centre_spb' ] ]\n",
    "\n",
    "pd.DataFrame(data_spb).head()"
   ]
  },
  {
   "cell_type": "code",
   "execution_count": 38,
   "metadata": {},
   "outputs": [
    {
     "data": {
      "text/html": [
       "<div>\n",
       "<style scoped>\n",
       "    .dataframe tbody tr th:only-of-type {\n",
       "        vertical-align: middle;\n",
       "    }\n",
       "\n",
       "    .dataframe tbody tr th {\n",
       "        vertical-align: top;\n",
       "    }\n",
       "\n",
       "    .dataframe thead th {\n",
       "        text-align: right;\n",
       "    }\n",
       "</style>\n",
       "<table border=\"1\" class=\"dataframe\">\n",
       "  <thead>\n",
       "    <tr style=\"text-align: right;\">\n",
       "      <th></th>\n",
       "      <th>tsena_metra</th>\n",
       "    </tr>\n",
       "    <tr>\n",
       "      <th>centre_spb</th>\n",
       "      <th></th>\n",
       "    </tr>\n",
       "  </thead>\n",
       "  <tbody>\n",
       "    <tr>\n",
       "      <td>0.0</td>\n",
       "      <td>172619.047619</td>\n",
       "    </tr>\n",
       "    <tr>\n",
       "      <td>1.0</td>\n",
       "      <td>128485.110056</td>\n",
       "    </tr>\n",
       "    <tr>\n",
       "      <td>2.0</td>\n",
       "      <td>123035.513418</td>\n",
       "    </tr>\n",
       "    <tr>\n",
       "      <td>3.0</td>\n",
       "      <td>108469.112355</td>\n",
       "    </tr>\n",
       "    <tr>\n",
       "      <td>4.0</td>\n",
       "      <td>117848.970252</td>\n",
       "    </tr>\n",
       "    <tr>\n",
       "      <td>5.0</td>\n",
       "      <td>126932.465419</td>\n",
       "    </tr>\n",
       "    <tr>\n",
       "      <td>6.0</td>\n",
       "      <td>131835.227273</td>\n",
       "    </tr>\n",
       "    <tr>\n",
       "      <td>7.0</td>\n",
       "      <td>127017.083563</td>\n",
       "    </tr>\n",
       "    <tr>\n",
       "      <td>8.0</td>\n",
       "      <td>122781.988265</td>\n",
       "    </tr>\n",
       "    <tr>\n",
       "      <td>9.0</td>\n",
       "      <td>105817.029654</td>\n",
       "    </tr>\n",
       "    <tr>\n",
       "      <td>10.0</td>\n",
       "      <td>106442.366961</td>\n",
       "    </tr>\n",
       "    <tr>\n",
       "      <td>11.0</td>\n",
       "      <td>103322.526709</td>\n",
       "    </tr>\n",
       "    <tr>\n",
       "      <td>12.0</td>\n",
       "      <td>103974.500014</td>\n",
       "    </tr>\n",
       "    <tr>\n",
       "      <td>13.0</td>\n",
       "      <td>104725.716282</td>\n",
       "    </tr>\n",
       "    <tr>\n",
       "      <td>14.0</td>\n",
       "      <td>101857.602945</td>\n",
       "    </tr>\n",
       "    <tr>\n",
       "      <td>15.0</td>\n",
       "      <td>101315.789474</td>\n",
       "    </tr>\n",
       "    <tr>\n",
       "      <td>16.0</td>\n",
       "      <td>97500.000000</td>\n",
       "    </tr>\n",
       "    <tr>\n",
       "      <td>17.0</td>\n",
       "      <td>94660.194175</td>\n",
       "    </tr>\n",
       "    <tr>\n",
       "      <td>18.0</td>\n",
       "      <td>95000.000000</td>\n",
       "    </tr>\n",
       "    <tr>\n",
       "      <td>19.0</td>\n",
       "      <td>97117.957415</td>\n",
       "    </tr>\n",
       "    <tr>\n",
       "      <td>20.0</td>\n",
       "      <td>103703.693333</td>\n",
       "    </tr>\n",
       "    <tr>\n",
       "      <td>21.0</td>\n",
       "      <td>89705.882353</td>\n",
       "    </tr>\n",
       "    <tr>\n",
       "      <td>22.0</td>\n",
       "      <td>88781.474414</td>\n",
       "    </tr>\n",
       "    <tr>\n",
       "      <td>23.0</td>\n",
       "      <td>89965.397924</td>\n",
       "    </tr>\n",
       "    <tr>\n",
       "      <td>24.0</td>\n",
       "      <td>86353.290416</td>\n",
       "    </tr>\n",
       "    <tr>\n",
       "      <td>25.0</td>\n",
       "      <td>93612.162162</td>\n",
       "    </tr>\n",
       "    <tr>\n",
       "      <td>26.0</td>\n",
       "      <td>87368.421053</td>\n",
       "    </tr>\n",
       "    <tr>\n",
       "      <td>27.0</td>\n",
       "      <td>132115.709459</td>\n",
       "    </tr>\n",
       "    <tr>\n",
       "      <td>28.0</td>\n",
       "      <td>79372.093023</td>\n",
       "    </tr>\n",
       "    <tr>\n",
       "      <td>29.0</td>\n",
       "      <td>76084.734212</td>\n",
       "    </tr>\n",
       "  </tbody>\n",
       "</table>\n",
       "</div>"
      ],
      "text/plain": [
       "              tsena_metra\n",
       "centre_spb               \n",
       "0.0         172619.047619\n",
       "1.0         128485.110056\n",
       "2.0         123035.513418\n",
       "3.0         108469.112355\n",
       "4.0         117848.970252\n",
       "5.0         126932.465419\n",
       "6.0         131835.227273\n",
       "7.0         127017.083563\n",
       "8.0         122781.988265\n",
       "9.0         105817.029654\n",
       "10.0        106442.366961\n",
       "11.0        103322.526709\n",
       "12.0        103974.500014\n",
       "13.0        104725.716282\n",
       "14.0        101857.602945\n",
       "15.0        101315.789474\n",
       "16.0         97500.000000\n",
       "17.0         94660.194175\n",
       "18.0         95000.000000\n",
       "19.0         97117.957415\n",
       "20.0        103703.693333\n",
       "21.0         89705.882353\n",
       "22.0         88781.474414\n",
       "23.0         89965.397924\n",
       "24.0         86353.290416\n",
       "25.0         93612.162162\n",
       "26.0         87368.421053\n",
       "27.0        132115.709459\n",
       "28.0         79372.093023\n",
       "29.0         76084.734212"
      ]
     },
     "execution_count": 38,
     "metadata": {},
     "output_type": "execute_result"
    }
   ],
   "source": [
    "data_spb_group = data_spb.groupby('centre_spb')['tsena_metra'].median()\n",
    "pd.DataFrame(data_spb_group)"
   ]
  },
  {
   "cell_type": "code",
   "execution_count": 39,
   "metadata": {},
   "outputs": [
    {
     "data": {
      "image/png": "[encoded data removed]",
      "text/plain": [
       "<Figure size 432x288 with 1 Axes>"
      ]
     },
     "metadata": {
      "needs_background": "light"
     },
     "output_type": "display_data"
    }
   ],
   "source": [
    "plt.plot(data_spb_group, 'o-')\n",
    "plt.grid(True)\n",
    "plt.show()"
   ]
  },
  {
   "cell_type": "markdown",
   "metadata": {},
   "source": [
    "<div class=\"alert alert-success\">\n",
    "<h2> Комментарий от ревьюера<a class=\"tocSkip\"></a></h2>\n",
    "Как думаешь, с чем связан выброс на 27 км?\n",
    " \n",
    "</div>"
   ]
  },
  {
   "cell_type": "code",
   "execution_count": 40,
   "metadata": {},
   "outputs": [],
   "source": [
    "central_data_spb = data_spb.query('centre_spb <= 9')\n",
    "other_data_spb = data_spb.query('centre_spb > 9')"
   ]
  },
  {
   "cell_type": "code",
   "execution_count": 41,
   "metadata": {},
   "outputs": [
    {
     "data": {
      "text/html": [
       "<style  type=\"text/css\" >\n",
       "    #T_5d571478_e3e3_11eb_988a_02420a39988brow1_col0 {\n",
       "            background-color:  yellowgreen;\n",
       "        }    #T_5d571478_e3e3_11eb_988a_02420a39988brow1_col1 {\n",
       "            background-color:  yellowgreen;\n",
       "        }    #T_5d571478_e3e3_11eb_988a_02420a39988brow1_col2 {\n",
       "            background-color:  yellowgreen;\n",
       "        }    #T_5d571478_e3e3_11eb_988a_02420a39988brow1_col3 {\n",
       "            background-color:  yellowgreen;\n",
       "        }    #T_5d571478_e3e3_11eb_988a_02420a39988brow1_col4 {\n",
       "            background-color:  yellowgreen;\n",
       "        }</style><table id=\"T_5d571478_e3e3_11eb_988a_02420a39988b\" ><thead>    <tr>        <th class=\"blank level0\" ></th>        <th class=\"col_heading level0 col0\" >Price</th>        <th class=\"col_heading level0 col1\" >Tsena metra</th>        <th class=\"col_heading level0 col2\" >Rooms</th>        <th class=\"col_heading level0 col3\" >Total area</th>        <th class=\"col_heading level0 col4\" >Ceiling height</th>    </tr></thead><tbody>\n",
       "                <tr>\n",
       "                        <th id=\"T_5d571478_e3e3_11eb_988a_02420a39988blevel0_row0\" class=\"row_heading level0 row0\" >СПБ</th>\n",
       "                        <td id=\"T_5d571478_e3e3_11eb_988a_02420a39988brow0_col0\" class=\"data row0 col0\" >8.01743e+06</td>\n",
       "                        <td id=\"T_5d571478_e3e3_11eb_988a_02420a39988brow0_col1\" class=\"data row0 col1\" >114763</td>\n",
       "                        <td id=\"T_5d571478_e3e3_11eb_988a_02420a39988brow0_col2\" class=\"data row0 col2\" >2.18</td>\n",
       "                        <td id=\"T_5d571478_e3e3_11eb_988a_02420a39988brow0_col3\" class=\"data row0 col3\" >64.72</td>\n",
       "                        <td id=\"T_5d571478_e3e3_11eb_988a_02420a39988brow0_col4\" class=\"data row0 col4\" >2.72</td>\n",
       "            </tr>\n",
       "            <tr>\n",
       "                        <th id=\"T_5d571478_e3e3_11eb_988a_02420a39988blevel0_row1\" class=\"row_heading level0 row1\" >Центр</th>\n",
       "                        <td id=\"T_5d571478_e3e3_11eb_988a_02420a39988brow1_col0\" class=\"data row1 col0\" >1.31109e+07</td>\n",
       "                        <td id=\"T_5d571478_e3e3_11eb_988a_02420a39988brow1_col1\" class=\"data row1 col1\" >138392</td>\n",
       "                        <td id=\"T_5d571478_e3e3_11eb_988a_02420a39988brow1_col2\" class=\"data row1 col2\" >2.68</td>\n",
       "                        <td id=\"T_5d571478_e3e3_11eb_988a_02420a39988brow1_col3\" class=\"data row1 col3\" >86.3</td>\n",
       "                        <td id=\"T_5d571478_e3e3_11eb_988a_02420a39988brow1_col4\" class=\"data row1 col4\" >2.89</td>\n",
       "            </tr>\n",
       "            <tr>\n",
       "                        <th id=\"T_5d571478_e3e3_11eb_988a_02420a39988blevel0_row2\" class=\"row_heading level0 row2\" >Периферия</th>\n",
       "                        <td id=\"T_5d571478_e3e3_11eb_988a_02420a39988brow2_col0\" class=\"data row2 col0\" >5.83012e+06</td>\n",
       "                        <td id=\"T_5d571478_e3e3_11eb_988a_02420a39988brow2_col1\" class=\"data row2 col1\" >104616</td>\n",
       "                        <td id=\"T_5d571478_e3e3_11eb_988a_02420a39988brow2_col2\" class=\"data row2 col2\" >1.97</td>\n",
       "                        <td id=\"T_5d571478_e3e3_11eb_988a_02420a39988brow2_col3\" class=\"data row2 col3\" >55.46</td>\n",
       "                        <td id=\"T_5d571478_e3e3_11eb_988a_02420a39988brow2_col4\" class=\"data row2 col4\" >2.65</td>\n",
       "            </tr>\n",
       "    </tbody></table>"
      ],
      "text/plain": [
       "<pandas.io.formats.style.Styler at 0x7f2028c9b490>"
      ]
     },
     "execution_count": 41,
     "metadata": {},
     "output_type": "execute_result"
    }
   ],
   "source": [
    "compare = pd.DataFrame({'Price': [data_spb['last_price'].mean().round(0), central_data_spb['last_price'].mean().round(0),  \n",
    "                                  other_data_spb['last_price'].mean().round(0)],\n",
    "                        'Tsena metra':[data_spb['tsena_metra'].mean().round(0), central_data_spb['tsena_metra'].mean().round(0),  \n",
    "                                       other_data_spb['tsena_metra'].mean().round(0)],\n",
    "                        'Rooms':[data_spb['rooms'].mean().round(2), central_data_spb['rooms'].mean().round(2),  \n",
    "                                 other_data_spb['rooms'].mean().round(2)],\n",
    "                        'Total area':[data_spb['total_area'].mean().round(2), central_data_spb['total_area'].mean().round(2),  \n",
    "                                      other_data_spb['total_area'].mean().round(2)],\n",
    "                        'Ceiling height':[data_spb['ceiling_height'].mean().round(2), central_data_spb['ceiling_height'].mean().round(2),  \n",
    "                                          other_data_spb['ceiling_height'].mean().round(2)],\n",
    "                       })\n",
    "\n",
    "compare.index = ['СПБ', 'Центр', 'Периферия']\n",
    "\n",
    "compare.style.highlight_max(color='yellowgreen', subset=['Price','Tsena metra','Rooms','Total area','Ceiling height'])"
   ]
  },
  {
   "cell_type": "markdown",
   "metadata": {},
   "source": [
    "**Вывод 4.5**\n",
    "\n",
    "* *Был выделен столбец с расстоянием от центра, построен график зависимости цены от расстояния от центра СПб.*\n",
    "* *По графику видно, что чем дальше от центра, тем дешевле квартира. Однако, есть определенные места, где цена возрастает (20 км, 27 км). Это может быть связано с тем, что там находится элитное жилье, необычное место, парк или что-то другое.*\n",
    "* *Примерно начиная с 9 км центр города заканчивается, цена жилья в этом месте снижается*\n",
    "* *Было проведено сравнение средних значений в Спб в целом, в центре и вне центра по следующим параметрам: цена, цена квадратного метра, количество комнат, площадь, высота потолков*\n",
    "* *В центре города все показатели выше, чем по городу в целом и на периферии*"
   ]
  },
  {
   "cell_type": "markdown",
   "metadata": {},
   "source": [
    "<div class=\"alert alert-success\">\n",
    "<h2> Комментарий от ревьюера<a class=\"tocSkip\"></a></h2>\n",
    "Ты верно заметилаЮ что центрельные квартиры выше в цене, в них больше количество комнат и высота потолков.\n",
    "</div>"
   ]
  },
  {
   "cell_type": "markdown",
   "metadata": {},
   "source": [
    "## Общий вывод"
   ]
  },
  {
   "cell_type": "markdown",
   "metadata": {},
   "source": [
    "*1. было проведено изучение данных из файла, предобработка данных, расчеты и добавление результатов в таблицу и исследовательский анализ данных.*\n",
    "\n",
    "*2. Были заменены все пропуски в данных. Заполнены все 23611 строк. Дубликаты отсутствуют. Были убраны редкие и выбивающиеся значения.*\n",
    "\n",
    "*3. Были добавлены следующие столбики:цена метра, отношений площади кухни к общей площади, отношение жилой площади к общей площади, группа по этажу, день недели, день, месяц, год публикации.*\n",
    "\n",
    "*4. По площади: больше всего объявлений по площади от 35 до 75 м2. Больше всего однокомнатных и двухкомнатных квартир.*\n",
    "\n",
    "*5. Были изучены факторы, которые влияют на стоимость квартиры.*\n",
    "*Чем больше площадь квартиры, тем выше цена.*\n",
    "*Чем больше комнат, тем выше цена.*\n",
    "*Цена на жилье на первом этаже ниже.*\n",
    "*Цена не сильно отличается по месяцу и дню недели.*\n",
    "\n",
    "*6. Было выделено 10 населенных пунктов с большим количеством объявлений:\n",
    "'Санкт-Петербург', 'Мурино', 'Кудрово', 'посёлок Шушары', 'Всеволожск','Пушкин', 'Колпино', 'посёлок Парголово', 'Гатчина', 'Выборг'. По цене за квадратный метр самое дорогое жилье в Санкт-Петербурге, самое дешевое в Выборге.*\n",
    "\n",
    "*7. По графику видно, что чем дальше от центра, тем дешевле квартира. Однако, есть определенные места, где цена возрастает (20 км, 27 км). Это может быть связано с тем, что там находится элитное жилье, необычное место, парк или что-то другое.*\n",
    "*Примерно начиная с 9 км центр города заканчивается, цена жилья в этом месте снижается.*\n",
    "*Было проведено сравнение средних значений в Спб в целом, в центре и вне центра по следующим параметрам: цена, цена квадратного метра, количество комнат, площадь, высота потолков.*\n",
    "*В центре города все показатели выше, чем по городу в целом и на периферии.*"
   ]
  },
  {
   "cell_type": "markdown",
   "metadata": {},
   "source": [
    "<div class=\"alert alert-success\">\n",
    "<h2> Комментарий от ревьюера<a class=\"tocSkip\"></a></h2>\n",
    "\n",
    "Поздравляю с успешным проектом!\n",
    "\n",
    "- Ты хорошо анализируешь результаты.\n",
    "    \n",
    "- Код написан аккуратно и качественно, видно, что есть какой-то определенный бэкграунд.\n",
    "\n",
    "- Соблюдена структура проекта, было приятно проверять:)\n",
    "    \n",
    "- Все написано четко и по делу\n",
    "\n",
    " \n",
    "\n",
    "\n",
    "Желаю дальнейших успехов!\n",
    "\n",
    "\n",
    "</div>"
   ]
  },
  {
   "cell_type": "markdown",
   "metadata": {},
   "source": [
    "## Чек-лист готовности проекта\n",
    "\n",
    "Поставьте 'x' в выполненных пунктах. Далее нажмите Shift+Enter."
   ]
  },
  {
   "cell_type": "markdown",
   "metadata": {},
   "source": [
    "- [x]  открыт файл\n",
    "- [x]  файлы изучены (выведены первые строки, метод info())\n",
    "- [x]  определены пропущенные значения\n",
    "- [x]  заполнены пропущенные значения\n",
    "- [x]  есть пояснение, какие пропущенные значения обнаружены\n",
    "- [x]  изменены типы данных\n",
    "- [x]  есть пояснение, в каких столбцах изменены типы и почему\n",
    "- [x]  посчитано и добавлено в таблицу: цена квадратного метра\n",
    "- [x]  посчитано и добавлено в таблицу: день недели, месяц и год публикации объявления\n",
    "- [x]  посчитано и добавлено в таблицу: этаж квартиры; варианты — первый, последний, другой\n",
    "- [x]  посчитано и добавлено в таблицу: соотношение жилой и общей площади, а также отношение площади кухни к общей\n",
    "- [x]  изучены следующие параметры: площадь, цена, число комнат, высота потолков\n",
    "- [x]  построены гистограммы для каждого параметра\n",
    "- [x]  выполнено задание: \"Изучите время продажи квартиры. Постройте гистограмму. Посчитайте среднее и медиану. Опишите, сколько обычно занимает продажа. Когда можно считать, что продажи прошли очень быстро, а когда необычно долго?\"\n",
    "- [x]  выполнено задание: \"Уберите редкие и выбивающиеся значения. Опишите, какие особенности обнаружили.\"\n",
    "- [x]  выполнено задание: \"Какие факторы больше всего влияют на стоимость квартиры? Изучите, зависит ли цена от квадратного метра, числа комнат, этажа (первого или последнего), удалённости от центра. Также изучите зависимость от даты размещения: дня недели, месяца и года. \"Выберите 10 населённых пунктов с наибольшим числом объявлений. Посчитайте среднюю цену квадратного метра в этих населённых пунктах. Выделите населённые пункты с самой высокой и низкой стоимостью жилья. Эти данные можно найти по имени в столбце '*locality_name'*. \"\n",
    "- [x]  выполнено задание: \"Изучите предложения квартир: для каждой квартиры есть информация о расстоянии до центра. Выделите квартиры в Санкт-Петербурге (*'locality_name'*). Ваша задача — выяснить, какая область входит в центр. Создайте столбец с расстоянием до центра в километрах: округлите до целых значений. После этого посчитайте среднюю цену для каждого километра. Постройте график: он должен показывать, как цена зависит от удалённости от центра. Определите границу, где график сильно меняется — это и будет центральная зона. \"\n",
    "- [x]  выполнено задание: \"Выделите сегмент квартир в центре. Проанализируйте эту территорию и изучите следующие параметры: площадь, цена, число комнат, высота потолков. Также выделите факторы, которые влияют на стоимость квартиры (число комнат, этаж, удалённость от центра, дата размещения объявления). Сделайте выводы. Отличаются ли они от общих выводов по всему городу?\"\n",
    "- [x]  в каждом этапе есть выводы\n",
    "- [x]  есть общий вывод"
   ]
  }
 ],
 "metadata": {
  "ExecuteTimeLog": [
   {
    "duration": 644,
    "start_time": "2021-07-07T20:26:44.453Z"
   },
   {
    "duration": 62,
    "start_time": "2021-07-07T20:27:33.491Z"
   },
   {
    "duration": 57,
    "start_time": "2021-07-07T20:27:43.533Z"
   },
   {
    "duration": 76,
    "start_time": "2021-07-07T20:29:38.787Z"
   },
   {
    "duration": 59,
    "start_time": "2021-07-07T20:29:50.098Z"
   },
   {
    "duration": 66,
    "start_time": "2021-07-07T20:30:23.917Z"
   },
   {
    "duration": 229,
    "start_time": "2021-07-07T20:30:45.377Z"
   },
   {
    "duration": 56,
    "start_time": "2021-07-07T20:33:45.977Z"
   },
   {
    "duration": 67,
    "start_time": "2021-07-07T20:35:00.337Z"
   },
   {
    "duration": 56,
    "start_time": "2021-07-07T20:35:04.076Z"
   },
   {
    "duration": 619,
    "start_time": "2021-07-07T20:35:08.036Z"
   },
   {
    "duration": 57,
    "start_time": "2021-07-07T20:35:14.250Z"
   },
   {
    "duration": 84,
    "start_time": "2021-07-07T20:36:14.341Z"
   },
   {
    "duration": 353,
    "start_time": "2021-07-07T20:36:20.815Z"
   },
   {
    "duration": 291,
    "start_time": "2021-07-07T20:36:27.936Z"
   },
   {
    "duration": 56,
    "start_time": "2021-07-07T20:38:12.756Z"
   },
   {
    "duration": 1893,
    "start_time": "2021-07-07T20:38:24.999Z"
   },
   {
    "duration": 56,
    "start_time": "2021-07-07T20:38:35.290Z"
   },
   {
    "duration": 56,
    "start_time": "2021-07-07T20:38:57.677Z"
   },
   {
    "duration": 61,
    "start_time": "2021-07-07T20:39:20.916Z"
   },
   {
    "duration": 255,
    "start_time": "2021-07-07T20:40:08.948Z"
   },
   {
    "duration": 301,
    "start_time": "2021-07-07T20:40:36.776Z"
   },
   {
    "duration": 313,
    "start_time": "2021-07-07T20:40:45.456Z"
   },
   {
    "duration": 286,
    "start_time": "2021-07-07T20:42:10.567Z"
   },
   {
    "duration": 63,
    "start_time": "2021-07-07T20:42:15.215Z"
   },
   {
    "duration": 7,
    "start_time": "2021-07-07T20:42:25.036Z"
   },
   {
    "duration": 123,
    "start_time": "2021-07-07T20:42:39.776Z"
   },
   {
    "duration": 86,
    "start_time": "2021-07-07T20:44:42.456Z"
   },
   {
    "duration": 97,
    "start_time": "2021-07-07T20:45:07.955Z"
   },
   {
    "duration": 90,
    "start_time": "2021-07-07T20:46:58.290Z"
   },
   {
    "duration": 95,
    "start_time": "2021-07-07T20:47:07.636Z"
   },
   {
    "duration": 83,
    "start_time": "2021-07-07T20:47:36.536Z"
   },
   {
    "duration": 63,
    "start_time": "2021-07-07T20:47:51.216Z"
   },
   {
    "duration": 94,
    "start_time": "2021-07-07T20:48:02.977Z"
   },
   {
    "duration": 77,
    "start_time": "2021-07-07T20:48:16.817Z"
   },
   {
    "duration": 73,
    "start_time": "2021-07-07T20:49:55.896Z"
   },
   {
    "duration": 929,
    "start_time": "2021-07-07T20:50:03.456Z"
   },
   {
    "duration": 9,
    "start_time": "2021-07-07T20:50:11.856Z"
   },
   {
    "duration": 314,
    "start_time": "2021-07-07T20:50:30.456Z"
   },
   {
    "duration": 65,
    "start_time": "2021-07-07T20:50:36.936Z"
   },
   {
    "duration": 403,
    "start_time": "2021-07-08T08:21:41.510Z"
   },
   {
    "duration": 1028,
    "start_time": "2021-07-08T08:21:48.571Z"
   },
   {
    "duration": 137,
    "start_time": "2021-07-08T08:21:49.603Z"
   },
   {
    "duration": 610,
    "start_time": "2021-07-08T08:21:49.743Z"
   },
   {
    "duration": 338,
    "start_time": "2021-07-08T08:22:29.232Z"
   },
   {
    "duration": 347,
    "start_time": "2021-07-08T08:23:20.779Z"
   },
   {
    "duration": 6,
    "start_time": "2021-07-08T08:23:30.612Z"
   },
   {
    "duration": 333,
    "start_time": "2021-07-08T08:23:41.476Z"
   },
   {
    "duration": 59,
    "start_time": "2021-07-08T08:37:54.875Z"
   },
   {
    "duration": 64,
    "start_time": "2021-07-08T08:38:41.723Z"
   },
   {
    "duration": 79,
    "start_time": "2021-07-08T08:40:11.656Z"
   },
   {
    "duration": 907,
    "start_time": "2021-07-08T09:38:15.450Z"
   },
   {
    "duration": 127,
    "start_time": "2021-07-08T09:38:16.360Z"
   },
   {
    "duration": 85,
    "start_time": "2021-07-08T09:38:16.490Z"
   },
   {
    "duration": 531,
    "start_time": "2021-07-08T09:39:51.777Z"
   },
   {
    "duration": 147,
    "start_time": "2021-07-08T09:39:57.267Z"
   },
   {
    "duration": 120,
    "start_time": "2021-07-08T09:40:08.435Z"
   },
   {
    "duration": 11,
    "start_time": "2021-07-08T09:40:17.836Z"
   },
   {
    "duration": 217,
    "start_time": "2021-07-08T10:00:59.147Z"
   },
   {
    "duration": 331,
    "start_time": "2021-07-08T10:02:34.980Z"
   },
   {
    "duration": 404,
    "start_time": "2021-07-08T10:02:42.195Z"
   },
   {
    "duration": 1425,
    "start_time": "2021-07-08T10:02:50.732Z"
   },
   {
    "duration": 123,
    "start_time": "2021-07-08T10:02:52.163Z"
   },
   {
    "duration": 11,
    "start_time": "2021-07-08T10:02:52.289Z"
   },
   {
    "duration": 87,
    "start_time": "2021-07-08T10:02:52.303Z"
   },
   {
    "duration": 7,
    "start_time": "2021-07-08T10:02:52.393Z"
   },
   {
    "duration": 7,
    "start_time": "2021-07-08T10:06:29.375Z"
   },
   {
    "duration": 10,
    "start_time": "2021-07-08T10:06:46.989Z"
   },
   {
    "duration": 12,
    "start_time": "2021-07-08T10:18:12.356Z"
   },
   {
    "duration": 15,
    "start_time": "2021-07-08T10:18:38.923Z"
   },
   {
    "duration": 20,
    "start_time": "2021-07-08T10:18:54.827Z"
   },
   {
    "duration": 1194,
    "start_time": "2021-07-08T10:19:54.619Z"
   },
   {
    "duration": 140,
    "start_time": "2021-07-08T10:19:55.815Z"
   },
   {
    "duration": 17,
    "start_time": "2021-07-08T10:19:55.958Z"
   },
   {
    "duration": 121,
    "start_time": "2021-07-08T10:19:55.979Z"
   },
   {
    "duration": 9,
    "start_time": "2021-07-08T10:19:56.102Z"
   },
   {
    "duration": 51,
    "start_time": "2021-07-08T10:19:56.114Z"
   },
   {
    "duration": 17,
    "start_time": "2021-07-08T10:19:56.168Z"
   },
   {
    "duration": 10,
    "start_time": "2021-07-08T10:20:33.748Z"
   },
   {
    "duration": 10,
    "start_time": "2021-07-08T10:20:42.013Z"
   },
   {
    "duration": 107,
    "start_time": "2021-07-08T10:21:10.396Z"
   },
   {
    "duration": 14,
    "start_time": "2021-07-08T10:21:16.357Z"
   },
   {
    "duration": 83,
    "start_time": "2021-07-08T10:27:09.893Z"
   },
   {
    "duration": 143,
    "start_time": "2021-07-08T10:33:23.419Z"
   },
   {
    "duration": 510,
    "start_time": "2021-07-08T10:41:59.027Z"
   },
   {
    "duration": 419,
    "start_time": "2021-07-08T10:42:11.581Z"
   },
   {
    "duration": 125,
    "start_time": "2021-07-08T10:44:25.316Z"
   },
   {
    "duration": 80,
    "start_time": "2021-07-08T10:44:39.027Z"
   },
   {
    "duration": 14,
    "start_time": "2021-07-08T10:44:45.331Z"
   },
   {
    "duration": 77,
    "start_time": "2021-07-08T10:48:19.409Z"
   },
   {
    "duration": 75,
    "start_time": "2021-07-08T10:48:27.965Z"
   },
   {
    "duration": 75,
    "start_time": "2021-07-08T10:48:42.678Z"
   },
   {
    "duration": 16,
    "start_time": "2021-07-08T10:49:44.732Z"
   },
   {
    "duration": 15,
    "start_time": "2021-07-08T10:49:58.252Z"
   },
   {
    "duration": 15,
    "start_time": "2021-07-08T10:50:14.650Z"
   },
   {
    "duration": 87,
    "start_time": "2021-07-08T10:50:23.517Z"
   },
   {
    "duration": 75,
    "start_time": "2021-07-08T10:50:36.421Z"
   },
   {
    "duration": 75,
    "start_time": "2021-07-08T10:51:31.371Z"
   },
   {
    "duration": 18,
    "start_time": "2021-07-08T10:51:38.588Z"
   },
   {
    "duration": 82,
    "start_time": "2021-07-08T10:52:29.672Z"
   },
   {
    "duration": 17,
    "start_time": "2021-07-08T10:52:49.724Z"
   },
   {
    "duration": 973,
    "start_time": "2021-07-08T10:54:21.233Z"
   },
   {
    "duration": 132,
    "start_time": "2021-07-08T10:54:22.208Z"
   },
   {
    "duration": 30,
    "start_time": "2021-07-08T10:54:22.343Z"
   },
   {
    "duration": 97,
    "start_time": "2021-07-08T10:54:22.377Z"
   },
   {
    "duration": 20,
    "start_time": "2021-07-08T10:54:22.478Z"
   },
   {
    "duration": 160,
    "start_time": "2021-07-08T10:54:22.502Z"
   },
   {
    "duration": 17,
    "start_time": "2021-07-08T10:54:22.665Z"
   },
   {
    "duration": 104,
    "start_time": "2021-07-08T10:58:18.682Z"
   },
   {
    "duration": 74,
    "start_time": "2021-07-08T10:58:23.659Z"
   },
   {
    "duration": 17,
    "start_time": "2021-07-08T10:58:28.006Z"
   },
   {
    "duration": 8519,
    "start_time": "2021-07-08T11:07:47.777Z"
   },
   {
    "duration": 1435,
    "start_time": "2021-07-08T11:08:46.692Z"
   },
   {
    "duration": 1366,
    "start_time": "2021-07-08T11:09:51.234Z"
   },
   {
    "duration": 1009,
    "start_time": "2021-07-08T11:09:56.955Z"
   },
   {
    "duration": 169,
    "start_time": "2021-07-08T11:09:57.969Z"
   },
   {
    "duration": 34,
    "start_time": "2021-07-08T11:09:58.142Z"
   },
   {
    "duration": 113,
    "start_time": "2021-07-08T11:09:58.180Z"
   },
   {
    "duration": 18,
    "start_time": "2021-07-08T11:09:58.296Z"
   },
   {
    "duration": 1769,
    "start_time": "2021-07-08T11:09:58.317Z"
   },
   {
    "duration": -38,
    "start_time": "2021-07-08T11:10:00.127Z"
   },
   {
    "duration": 342,
    "start_time": "2021-07-08T11:18:02.562Z"
   },
   {
    "duration": 132,
    "start_time": "2021-07-08T11:19:05.823Z"
   },
   {
    "duration": 16,
    "start_time": "2021-07-08T11:19:11.088Z"
   },
   {
    "duration": 23,
    "start_time": "2021-07-08T11:19:28.244Z"
   },
   {
    "duration": 384,
    "start_time": "2021-07-08T11:19:58.914Z"
   },
   {
    "duration": 346,
    "start_time": "2021-07-08T11:20:07.422Z"
   },
   {
    "duration": 1041,
    "start_time": "2021-07-08T11:20:15.141Z"
   },
   {
    "duration": 146,
    "start_time": "2021-07-08T11:20:16.185Z"
   },
   {
    "duration": 28,
    "start_time": "2021-07-08T11:20:16.334Z"
   },
   {
    "duration": 97,
    "start_time": "2021-07-08T11:20:16.365Z"
   },
   {
    "duration": 17,
    "start_time": "2021-07-08T11:20:16.466Z"
   },
   {
    "duration": 158,
    "start_time": "2021-07-08T11:20:16.486Z"
   },
   {
    "duration": 44,
    "start_time": "2021-07-08T11:20:16.647Z"
   },
   {
    "duration": 460,
    "start_time": "2021-07-08T11:22:05.635Z"
   },
   {
    "duration": 944,
    "start_time": "2021-07-08T11:22:14.584Z"
   },
   {
    "duration": 132,
    "start_time": "2021-07-08T11:22:15.531Z"
   },
   {
    "duration": 12,
    "start_time": "2021-07-08T11:22:15.667Z"
   },
   {
    "duration": 131,
    "start_time": "2021-07-08T11:22:15.682Z"
   },
   {
    "duration": 16,
    "start_time": "2021-07-08T11:22:15.815Z"
   },
   {
    "duration": 109,
    "start_time": "2021-07-08T11:22:15.834Z"
   },
   {
    "duration": 49,
    "start_time": "2021-07-08T11:22:15.945Z"
   },
   {
    "duration": 1349,
    "start_time": "2021-07-08T11:22:31.204Z"
   },
   {
    "duration": -45,
    "start_time": "2021-07-08T11:22:32.601Z"
   },
   {
    "duration": 1336,
    "start_time": "2021-07-08T11:22:45.906Z"
   },
   {
    "duration": 22,
    "start_time": "2021-07-08T11:22:47.567Z"
   },
   {
    "duration": 1317,
    "start_time": "2021-07-08T11:23:07.313Z"
   },
   {
    "duration": 26,
    "start_time": "2021-07-08T11:23:10.479Z"
   },
   {
    "duration": 344,
    "start_time": "2021-07-08T11:23:23.240Z"
   },
   {
    "duration": 957,
    "start_time": "2021-07-08T11:23:28.528Z"
   },
   {
    "duration": 128,
    "start_time": "2021-07-08T11:23:29.489Z"
   },
   {
    "duration": 14,
    "start_time": "2021-07-08T11:23:29.621Z"
   },
   {
    "duration": 139,
    "start_time": "2021-07-08T11:23:29.638Z"
   },
   {
    "duration": 17,
    "start_time": "2021-07-08T11:23:29.780Z"
   },
   {
    "duration": 130,
    "start_time": "2021-07-08T11:23:29.799Z"
   },
   {
    "duration": 36,
    "start_time": "2021-07-08T11:23:29.932Z"
   },
   {
    "duration": 470,
    "start_time": "2021-07-08T11:24:21.929Z"
   },
   {
    "duration": 1062,
    "start_time": "2021-07-08T11:24:29.541Z"
   },
   {
    "duration": 166,
    "start_time": "2021-07-08T11:24:30.607Z"
   },
   {
    "duration": 18,
    "start_time": "2021-07-08T11:24:30.778Z"
   },
   {
    "duration": 96,
    "start_time": "2021-07-08T11:24:30.801Z"
   },
   {
    "duration": 13,
    "start_time": "2021-07-08T11:24:30.900Z"
   },
   {
    "duration": 541,
    "start_time": "2021-07-08T11:24:30.916Z"
   },
   {
    "duration": -42,
    "start_time": "2021-07-08T11:24:31.502Z"
   },
   {
    "duration": 374,
    "start_time": "2021-07-08T11:24:40.202Z"
   },
   {
    "duration": 1000,
    "start_time": "2021-07-08T11:24:47.035Z"
   },
   {
    "duration": 135,
    "start_time": "2021-07-08T11:24:48.038Z"
   },
   {
    "duration": 13,
    "start_time": "2021-07-08T11:24:48.177Z"
   },
   {
    "duration": 102,
    "start_time": "2021-07-08T11:24:48.193Z"
   },
   {
    "duration": 14,
    "start_time": "2021-07-08T11:24:48.298Z"
   },
   {
    "duration": 124,
    "start_time": "2021-07-08T11:24:48.315Z"
   },
   {
    "duration": 39,
    "start_time": "2021-07-08T11:24:48.441Z"
   },
   {
    "duration": 15,
    "start_time": "2021-07-08T11:26:08.598Z"
   },
   {
    "duration": 17,
    "start_time": "2021-07-08T11:26:12.262Z"
   },
   {
    "duration": 476,
    "start_time": "2021-07-08T11:27:33.284Z"
   },
   {
    "duration": 1088,
    "start_time": "2021-07-08T11:27:39.705Z"
   },
   {
    "duration": 138,
    "start_time": "2021-07-08T11:27:40.796Z"
   },
   {
    "duration": 24,
    "start_time": "2021-07-08T11:27:40.937Z"
   },
   {
    "duration": 68,
    "start_time": "2021-07-08T11:27:40.964Z"
   },
   {
    "duration": 16,
    "start_time": "2021-07-08T11:27:41.063Z"
   },
   {
    "duration": 107,
    "start_time": "2021-07-08T11:27:41.082Z"
   },
   {
    "duration": 21,
    "start_time": "2021-07-08T11:27:41.193Z"
   },
   {
    "duration": 48,
    "start_time": "2021-07-08T11:27:41.217Z"
   },
   {
    "duration": 538,
    "start_time": "2021-07-08T11:29:17.590Z"
   },
   {
    "duration": 343,
    "start_time": "2021-07-08T11:29:47.132Z"
   },
   {
    "duration": 993,
    "start_time": "2021-07-08T11:29:54.253Z"
   },
   {
    "duration": 163,
    "start_time": "2021-07-08T11:29:55.249Z"
   },
   {
    "duration": 13,
    "start_time": "2021-07-08T11:29:55.416Z"
   },
   {
    "duration": 91,
    "start_time": "2021-07-08T11:29:55.432Z"
   },
   {
    "duration": 20,
    "start_time": "2021-07-08T11:29:55.525Z"
   },
   {
    "duration": 88,
    "start_time": "2021-07-08T11:29:55.547Z"
   },
   {
    "duration": 16,
    "start_time": "2021-07-08T11:29:55.637Z"
   },
   {
    "duration": 16,
    "start_time": "2021-07-08T11:29:55.663Z"
   },
   {
    "duration": 969,
    "start_time": "2021-07-08T11:31:33.131Z"
   },
   {
    "duration": 138,
    "start_time": "2021-07-08T11:31:34.102Z"
   },
   {
    "duration": 22,
    "start_time": "2021-07-08T11:31:34.243Z"
   },
   {
    "duration": 117,
    "start_time": "2021-07-08T11:31:34.269Z"
   },
   {
    "duration": 20,
    "start_time": "2021-07-08T11:31:34.388Z"
   },
   {
    "duration": 107,
    "start_time": "2021-07-08T11:31:34.410Z"
   },
   {
    "duration": 12,
    "start_time": "2021-07-08T11:31:34.520Z"
   },
   {
    "duration": 40,
    "start_time": "2021-07-08T11:31:34.535Z"
   },
   {
    "duration": 996,
    "start_time": "2021-07-08T11:32:41.957Z"
   },
   {
    "duration": 150,
    "start_time": "2021-07-08T11:32:42.955Z"
   },
   {
    "duration": 12,
    "start_time": "2021-07-08T11:32:43.108Z"
   },
   {
    "duration": 100,
    "start_time": "2021-07-08T11:32:43.123Z"
   },
   {
    "duration": 58,
    "start_time": "2021-07-08T11:32:43.226Z"
   },
   {
    "duration": 96,
    "start_time": "2021-07-08T11:32:43.287Z"
   },
   {
    "duration": 19,
    "start_time": "2021-07-08T11:32:43.386Z"
   },
   {
    "duration": 16,
    "start_time": "2021-07-08T11:32:43.408Z"
   },
   {
    "duration": 441,
    "start_time": "2021-07-08T11:34:30.911Z"
   },
   {
    "duration": 919,
    "start_time": "2021-07-08T11:34:35.812Z"
   },
   {
    "duration": 131,
    "start_time": "2021-07-08T11:34:36.733Z"
   },
   {
    "duration": 15,
    "start_time": "2021-07-08T11:34:36.868Z"
   },
   {
    "duration": 111,
    "start_time": "2021-07-08T11:34:36.887Z"
   },
   {
    "duration": 20,
    "start_time": "2021-07-08T11:34:37.010Z"
   },
   {
    "duration": 99,
    "start_time": "2021-07-08T11:34:37.062Z"
   },
   {
    "duration": 20,
    "start_time": "2021-07-08T11:34:37.164Z"
   },
   {
    "duration": 19,
    "start_time": "2021-07-08T11:34:37.187Z"
   },
   {
    "duration": 2453,
    "start_time": "2021-07-08T11:36:44.194Z"
   },
   {
    "duration": 132,
    "start_time": "2021-07-08T11:36:46.650Z"
   },
   {
    "duration": 12,
    "start_time": "2021-07-08T11:36:46.785Z"
   },
   {
    "duration": 92,
    "start_time": "2021-07-08T11:36:46.800Z"
   },
   {
    "duration": 20,
    "start_time": "2021-07-08T11:36:46.894Z"
   },
   {
    "duration": 161,
    "start_time": "2021-07-08T11:36:46.916Z"
   },
   {
    "duration": 25,
    "start_time": "2021-07-08T11:36:47.080Z"
   },
   {
    "duration": 27,
    "start_time": "2021-07-08T11:36:47.108Z"
   },
   {
    "duration": 227,
    "start_time": "2021-07-08T11:43:30.673Z"
   },
   {
    "duration": 922,
    "start_time": "2021-07-08T11:45:19.791Z"
   },
   {
    "duration": 126,
    "start_time": "2021-07-08T11:45:20.716Z"
   },
   {
    "duration": 21,
    "start_time": "2021-07-08T11:45:20.845Z"
   },
   {
    "duration": 93,
    "start_time": "2021-07-08T11:45:20.869Z"
   },
   {
    "duration": 19,
    "start_time": "2021-07-08T11:45:20.964Z"
   },
   {
    "duration": 119,
    "start_time": "2021-07-08T11:45:20.986Z"
   },
   {
    "duration": 21,
    "start_time": "2021-07-08T11:45:21.108Z"
   },
   {
    "duration": 41,
    "start_time": "2021-07-08T11:45:21.131Z"
   },
   {
    "duration": 1176,
    "start_time": "2021-07-08T11:47:44.306Z"
   },
   {
    "duration": 178,
    "start_time": "2021-07-08T11:47:45.485Z"
   },
   {
    "duration": 11,
    "start_time": "2021-07-08T11:47:45.666Z"
   },
   {
    "duration": 101,
    "start_time": "2021-07-08T11:47:45.680Z"
   },
   {
    "duration": 21,
    "start_time": "2021-07-08T11:47:45.783Z"
   },
   {
    "duration": 609,
    "start_time": "2021-07-08T11:47:45.807Z"
   },
   {
    "duration": -52,
    "start_time": "2021-07-08T11:47:46.471Z"
   },
   {
    "duration": -52,
    "start_time": "2021-07-08T11:47:46.472Z"
   },
   {
    "duration": 912,
    "start_time": "2021-07-08T11:48:20.669Z"
   },
   {
    "duration": 130,
    "start_time": "2021-07-08T11:48:21.583Z"
   },
   {
    "duration": 12,
    "start_time": "2021-07-08T11:48:21.715Z"
   },
   {
    "duration": 83,
    "start_time": "2021-07-08T11:48:21.730Z"
   },
   {
    "duration": 46,
    "start_time": "2021-07-08T11:48:21.816Z"
   },
   {
    "duration": 109,
    "start_time": "2021-07-08T11:48:21.865Z"
   },
   {
    "duration": 19,
    "start_time": "2021-07-08T11:48:21.977Z"
   },
   {
    "duration": 19,
    "start_time": "2021-07-08T11:48:21.999Z"
   },
   {
    "duration": 456,
    "start_time": "2021-07-08T11:48:41.054Z"
   },
   {
    "duration": 1219,
    "start_time": "2021-07-08T11:48:47.002Z"
   },
   {
    "duration": 187,
    "start_time": "2021-07-08T11:48:48.225Z"
   },
   {
    "duration": 17,
    "start_time": "2021-07-08T11:48:48.415Z"
   },
   {
    "duration": 127,
    "start_time": "2021-07-08T11:48:48.435Z"
   },
   {
    "duration": 21,
    "start_time": "2021-07-08T11:48:48.565Z"
   },
   {
    "duration": 137,
    "start_time": "2021-07-08T11:48:48.590Z"
   },
   {
    "duration": 37,
    "start_time": "2021-07-08T11:48:48.730Z"
   },
   {
    "duration": 24,
    "start_time": "2021-07-08T11:48:48.770Z"
   },
   {
    "duration": 1301,
    "start_time": "2021-07-08T11:50:42.688Z"
   },
   {
    "duration": 196,
    "start_time": "2021-07-08T11:50:43.992Z"
   },
   {
    "duration": 18,
    "start_time": "2021-07-08T11:50:44.192Z"
   },
   {
    "duration": 137,
    "start_time": "2021-07-08T11:50:44.214Z"
   },
   {
    "duration": 30,
    "start_time": "2021-07-08T11:50:44.363Z"
   },
   {
    "duration": 206,
    "start_time": "2021-07-08T11:50:44.396Z"
   },
   {
    "duration": 29,
    "start_time": "2021-07-08T11:50:44.605Z"
   },
   {
    "duration": 54,
    "start_time": "2021-07-08T11:50:44.638Z"
   },
   {
    "duration": 893,
    "start_time": "2021-07-08T11:52:00.588Z"
   },
   {
    "duration": 129,
    "start_time": "2021-07-08T11:52:01.484Z"
   },
   {
    "duration": 13,
    "start_time": "2021-07-08T11:52:01.616Z"
   },
   {
    "duration": 110,
    "start_time": "2021-07-08T11:52:01.633Z"
   },
   {
    "duration": 19,
    "start_time": "2021-07-08T11:52:01.762Z"
   },
   {
    "duration": 152,
    "start_time": "2021-07-08T11:52:01.783Z"
   },
   {
    "duration": 28,
    "start_time": "2021-07-08T11:52:01.938Z"
   },
   {
    "duration": 29,
    "start_time": "2021-07-08T11:52:01.969Z"
   },
   {
    "duration": 895,
    "start_time": "2021-07-08T11:53:18.621Z"
   },
   {
    "duration": 128,
    "start_time": "2021-07-08T11:53:19.520Z"
   },
   {
    "duration": 23,
    "start_time": "2021-07-08T11:53:19.651Z"
   },
   {
    "duration": 86,
    "start_time": "2021-07-08T11:53:19.676Z"
   },
   {
    "duration": 18,
    "start_time": "2021-07-08T11:53:19.764Z"
   },
   {
    "duration": 148,
    "start_time": "2021-07-08T11:53:19.785Z"
   },
   {
    "duration": 35,
    "start_time": "2021-07-08T11:53:19.935Z"
   },
   {
    "duration": 20,
    "start_time": "2021-07-08T11:53:19.973Z"
   },
   {
    "duration": 943,
    "start_time": "2021-07-08T11:55:05.872Z"
   },
   {
    "duration": 127,
    "start_time": "2021-07-08T11:55:06.818Z"
   },
   {
    "duration": 23,
    "start_time": "2021-07-08T11:55:06.949Z"
   },
   {
    "duration": 121,
    "start_time": "2021-07-08T11:55:06.974Z"
   },
   {
    "duration": 25,
    "start_time": "2021-07-08T11:55:07.098Z"
   },
   {
    "duration": 223,
    "start_time": "2021-07-08T11:55:07.126Z"
   },
   {
    "duration": 40,
    "start_time": "2021-07-08T11:55:07.353Z"
   },
   {
    "duration": 33,
    "start_time": "2021-07-08T11:55:07.397Z"
   },
   {
    "duration": 97,
    "start_time": "2021-07-08T11:56:13.314Z"
   },
   {
    "duration": 513,
    "start_time": "2021-07-08T12:01:34.935Z"
   },
   {
    "duration": 932,
    "start_time": "2021-07-08T12:01:39.354Z"
   },
   {
    "duration": 133,
    "start_time": "2021-07-08T12:01:40.289Z"
   },
   {
    "duration": 12,
    "start_time": "2021-07-08T12:01:40.425Z"
   },
   {
    "duration": 89,
    "start_time": "2021-07-08T12:01:40.440Z"
   },
   {
    "duration": 50,
    "start_time": "2021-07-08T12:01:40.532Z"
   },
   {
    "duration": 142,
    "start_time": "2021-07-08T12:01:40.585Z"
   },
   {
    "duration": 36,
    "start_time": "2021-07-08T12:01:40.730Z"
   },
   {
    "duration": 21,
    "start_time": "2021-07-08T12:01:40.768Z"
   },
   {
    "duration": 911,
    "start_time": "2021-07-08T12:04:28.228Z"
   },
   {
    "duration": 126,
    "start_time": "2021-07-08T12:04:29.142Z"
   },
   {
    "duration": 12,
    "start_time": "2021-07-08T12:04:29.271Z"
   },
   {
    "duration": 93,
    "start_time": "2021-07-08T12:04:29.286Z"
   },
   {
    "duration": 27,
    "start_time": "2021-07-08T12:04:29.382Z"
   },
   {
    "duration": 212,
    "start_time": "2021-07-08T12:04:29.412Z"
   },
   {
    "duration": 49,
    "start_time": "2021-07-08T12:04:29.627Z"
   },
   {
    "duration": 22,
    "start_time": "2021-07-08T12:04:29.679Z"
   },
   {
    "duration": 93,
    "start_time": "2021-07-08T12:04:29.705Z"
   },
   {
    "duration": 1146,
    "start_time": "2021-07-08T12:10:24.141Z"
   },
   {
    "duration": 183,
    "start_time": "2021-07-08T12:10:25.290Z"
   },
   {
    "duration": 17,
    "start_time": "2021-07-08T12:10:25.477Z"
   },
   {
    "duration": 126,
    "start_time": "2021-07-08T12:10:25.498Z"
   },
   {
    "duration": 43,
    "start_time": "2021-07-08T12:10:25.627Z"
   },
   {
    "duration": 191,
    "start_time": "2021-07-08T12:10:25.673Z"
   },
   {
    "duration": 35,
    "start_time": "2021-07-08T12:10:25.867Z"
   },
   {
    "duration": 57,
    "start_time": "2021-07-08T12:10:25.905Z"
   },
   {
    "duration": 19,
    "start_time": "2021-07-08T12:10:25.966Z"
   },
   {
    "duration": 51,
    "start_time": "2021-07-08T12:10:41.321Z"
   },
   {
    "duration": 500,
    "start_time": "2021-07-08T12:27:44.819Z"
   },
   {
    "duration": 336,
    "start_time": "2021-07-08T12:28:01.551Z"
   },
   {
    "duration": 523,
    "start_time": "2021-07-08T12:28:26.117Z"
   },
   {
    "duration": 13,
    "start_time": "2021-07-08T12:28:39.221Z"
   },
   {
    "duration": 68,
    "start_time": "2021-07-08T12:28:59.333Z"
   },
   {
    "duration": 99,
    "start_time": "2021-07-08T12:30:05.138Z"
   },
   {
    "duration": 129,
    "start_time": "2021-07-08T12:33:33.361Z"
   },
   {
    "duration": 116,
    "start_time": "2021-07-08T12:34:08.578Z"
   },
   {
    "duration": 73,
    "start_time": "2021-07-08T12:35:48.359Z"
   },
   {
    "duration": 9544,
    "start_time": "2021-07-08T12:41:45.536Z"
   },
   {
    "duration": 789,
    "start_time": "2021-07-08T12:44:43.358Z"
   },
   {
    "duration": 394,
    "start_time": "2021-07-08T12:48:59.876Z"
   },
   {
    "duration": 943,
    "start_time": "2021-07-08T12:49:13.621Z"
   },
   {
    "duration": 129,
    "start_time": "2021-07-08T12:49:14.567Z"
   },
   {
    "duration": 12,
    "start_time": "2021-07-08T12:49:14.699Z"
   },
   {
    "duration": 96,
    "start_time": "2021-07-08T12:49:14.713Z"
   },
   {
    "duration": 19,
    "start_time": "2021-07-08T12:49:14.811Z"
   },
   {
    "duration": 183,
    "start_time": "2021-07-08T12:49:14.862Z"
   },
   {
    "duration": 33,
    "start_time": "2021-07-08T12:49:15.048Z"
   },
   {
    "duration": 20,
    "start_time": "2021-07-08T12:49:15.085Z"
   },
   {
    "duration": 81,
    "start_time": "2021-07-08T12:49:15.108Z"
   },
   {
    "duration": 56,
    "start_time": "2021-07-08T12:49:15.191Z"
   },
   {
    "duration": 138,
    "start_time": "2021-07-08T12:49:15.250Z"
   },
   {
    "duration": 715,
    "start_time": "2021-07-08T12:49:15.391Z"
   },
   {
    "duration": 409,
    "start_time": "2021-07-08T12:49:16.108Z"
   },
   {
    "duration": 929,
    "start_time": "2021-07-08T12:50:23.054Z"
   },
   {
    "duration": 128,
    "start_time": "2021-07-08T12:50:23.986Z"
   },
   {
    "duration": 12,
    "start_time": "2021-07-08T12:50:24.118Z"
   },
   {
    "duration": 89,
    "start_time": "2021-07-08T12:50:24.132Z"
   },
   {
    "duration": 48,
    "start_time": "2021-07-08T12:50:24.224Z"
   },
   {
    "duration": 131,
    "start_time": "2021-07-08T12:50:24.274Z"
   },
   {
    "duration": 25,
    "start_time": "2021-07-08T12:50:24.407Z"
   },
   {
    "duration": 42,
    "start_time": "2021-07-08T12:50:24.434Z"
   },
   {
    "duration": 52,
    "start_time": "2021-07-08T12:50:24.480Z"
   },
   {
    "duration": 75,
    "start_time": "2021-07-08T12:50:24.534Z"
   },
   {
    "duration": 137,
    "start_time": "2021-07-08T12:50:24.611Z"
   },
   {
    "duration": 815,
    "start_time": "2021-07-08T12:50:24.751Z"
   },
   {
    "duration": 469,
    "start_time": "2021-07-08T12:50:25.568Z"
   },
   {
    "duration": 1036,
    "start_time": "2021-07-08T12:50:56.751Z"
   },
   {
    "duration": 132,
    "start_time": "2021-07-08T12:50:57.790Z"
   },
   {
    "duration": 12,
    "start_time": "2021-07-08T12:50:57.926Z"
   },
   {
    "duration": 84,
    "start_time": "2021-07-08T12:50:57.942Z"
   },
   {
    "duration": 50,
    "start_time": "2021-07-08T12:50:58.029Z"
   },
   {
    "duration": 142,
    "start_time": "2021-07-08T12:50:58.081Z"
   },
   {
    "duration": 37,
    "start_time": "2021-07-08T12:50:58.226Z"
   },
   {
    "duration": 21,
    "start_time": "2021-07-08T12:50:58.266Z"
   },
   {
    "duration": 79,
    "start_time": "2021-07-08T12:50:58.290Z"
   },
   {
    "duration": 56,
    "start_time": "2021-07-08T12:50:58.371Z"
   },
   {
    "duration": 141,
    "start_time": "2021-07-08T12:50:58.429Z"
   },
   {
    "duration": 705,
    "start_time": "2021-07-08T12:50:58.572Z"
   },
   {
    "duration": 474,
    "start_time": "2021-07-08T12:50:59.279Z"
   },
   {
    "duration": 364,
    "start_time": "2021-07-08T12:52:02.202Z"
   },
   {
    "duration": 892,
    "start_time": "2021-07-08T12:52:08.111Z"
   },
   {
    "duration": 135,
    "start_time": "2021-07-08T12:52:09.006Z"
   },
   {
    "duration": 25,
    "start_time": "2021-07-08T12:52:09.144Z"
   },
   {
    "duration": 95,
    "start_time": "2021-07-08T12:52:09.173Z"
   },
   {
    "duration": 20,
    "start_time": "2021-07-08T12:52:09.271Z"
   },
   {
    "duration": 159,
    "start_time": "2021-07-08T12:52:09.294Z"
   },
   {
    "duration": 30,
    "start_time": "2021-07-08T12:52:09.456Z"
   },
   {
    "duration": 25,
    "start_time": "2021-07-08T12:52:09.489Z"
   },
   {
    "duration": 113,
    "start_time": "2021-07-08T12:52:09.517Z"
   },
   {
    "duration": 87,
    "start_time": "2021-07-08T12:52:09.633Z"
   },
   {
    "duration": 195,
    "start_time": "2021-07-08T12:52:09.722Z"
   },
   {
    "duration": 1117,
    "start_time": "2021-07-08T12:52:09.920Z"
   },
   {
    "duration": 571,
    "start_time": "2021-07-08T12:52:11.040Z"
   },
   {
    "duration": 1012,
    "start_time": "2021-07-08T12:54:26.285Z"
   },
   {
    "duration": 145,
    "start_time": "2021-07-08T12:54:27.300Z"
   },
   {
    "duration": 22,
    "start_time": "2021-07-08T12:54:27.450Z"
   },
   {
    "duration": 123,
    "start_time": "2021-07-08T12:54:27.476Z"
   },
   {
    "duration": 19,
    "start_time": "2021-07-08T12:54:27.602Z"
   },
   {
    "duration": 199,
    "start_time": "2021-07-08T12:54:27.624Z"
   },
   {
    "duration": 48,
    "start_time": "2021-07-08T12:54:27.826Z"
   },
   {
    "duration": 31,
    "start_time": "2021-07-08T12:54:27.876Z"
   },
   {
    "duration": 93,
    "start_time": "2021-07-08T12:54:27.911Z"
   },
   {
    "duration": 89,
    "start_time": "2021-07-08T12:54:28.007Z"
   },
   {
    "duration": 206,
    "start_time": "2021-07-08T12:54:28.099Z"
   },
   {
    "duration": 1203,
    "start_time": "2021-07-08T12:54:28.308Z"
   },
   {
    "duration": 111,
    "start_time": "2021-07-08T12:54:29.514Z"
   },
   {
    "duration": 65,
    "start_time": "2021-07-08T12:55:01.591Z"
   },
   {
    "duration": 905,
    "start_time": "2021-07-08T12:57:01.403Z"
   },
   {
    "duration": 127,
    "start_time": "2021-07-08T12:57:02.311Z"
   },
   {
    "duration": 26,
    "start_time": "2021-07-08T12:57:02.441Z"
   },
   {
    "duration": 68,
    "start_time": "2021-07-08T12:57:02.471Z"
   },
   {
    "duration": 22,
    "start_time": "2021-07-08T12:57:02.564Z"
   },
   {
    "duration": 152,
    "start_time": "2021-07-08T12:57:02.588Z"
   },
   {
    "duration": 33,
    "start_time": "2021-07-08T12:57:02.743Z"
   },
   {
    "duration": 23,
    "start_time": "2021-07-08T12:57:02.779Z"
   },
   {
    "duration": 75,
    "start_time": "2021-07-08T12:57:02.805Z"
   },
   {
    "duration": 36,
    "start_time": "2021-07-08T12:57:02.882Z"
   },
   {
    "duration": 81,
    "start_time": "2021-07-08T12:57:02.921Z"
   },
   {
    "duration": 772,
    "start_time": "2021-07-08T12:57:03.004Z"
   },
   {
    "duration": 63,
    "start_time": "2021-07-08T12:57:03.778Z"
   },
   {
    "duration": 994,
    "start_time": "2021-07-08T13:03:02.330Z"
   },
   {
    "duration": 122,
    "start_time": "2021-07-08T13:03:03.327Z"
   },
   {
    "duration": 13,
    "start_time": "2021-07-08T13:03:03.452Z"
   },
   {
    "duration": 69,
    "start_time": "2021-07-08T13:03:03.468Z"
   },
   {
    "duration": 36,
    "start_time": "2021-07-08T13:03:03.539Z"
   },
   {
    "duration": 120,
    "start_time": "2021-07-08T13:03:03.578Z"
   },
   {
    "duration": 23,
    "start_time": "2021-07-08T13:03:03.700Z"
   },
   {
    "duration": 79,
    "start_time": "2021-07-08T13:03:03.726Z"
   },
   {
    "duration": 20,
    "start_time": "2021-07-08T13:03:03.808Z"
   },
   {
    "duration": 127,
    "start_time": "2021-07-08T13:03:03.863Z"
   },
   {
    "duration": 816,
    "start_time": "2021-07-08T13:03:03.993Z"
   },
   {
    "duration": 100,
    "start_time": "2021-07-08T13:03:04.811Z"
   },
   {
    "duration": 427,
    "start_time": "2021-07-08T13:09:42.385Z"
   },
   {
    "duration": 570,
    "start_time": "2021-07-08T13:09:50.849Z"
   },
   {
    "duration": 430,
    "start_time": "2021-07-08T13:10:07.464Z"
   },
   {
    "duration": 325,
    "start_time": "2021-07-08T13:10:18.424Z"
   },
   {
    "duration": 663,
    "start_time": "2021-07-08T13:10:42.944Z"
   },
   {
    "duration": 921,
    "start_time": "2021-07-08T13:10:48.469Z"
   },
   {
    "duration": 132,
    "start_time": "2021-07-08T13:10:49.393Z"
   },
   {
    "duration": 13,
    "start_time": "2021-07-08T13:10:49.528Z"
   },
   {
    "duration": 119,
    "start_time": "2021-07-08T13:10:49.544Z"
   },
   {
    "duration": 20,
    "start_time": "2021-07-08T13:10:49.666Z"
   },
   {
    "duration": 235,
    "start_time": "2021-07-08T13:10:49.689Z"
   },
   {
    "duration": 52,
    "start_time": "2021-07-08T13:10:49.927Z"
   },
   {
    "duration": 82,
    "start_time": "2021-07-08T13:10:49.982Z"
   },
   {
    "duration": 22,
    "start_time": "2021-07-08T13:10:50.069Z"
   },
   {
    "duration": 135,
    "start_time": "2021-07-08T13:10:50.095Z"
   },
   {
    "duration": 816,
    "start_time": "2021-07-08T13:10:50.233Z"
   },
   {
    "duration": 67,
    "start_time": "2021-07-08T13:10:51.051Z"
   },
   {
    "duration": 453,
    "start_time": "2021-07-08T13:10:51.120Z"
   },
   {
    "duration": 947,
    "start_time": "2021-07-08T13:11:16.070Z"
   },
   {
    "duration": 126,
    "start_time": "2021-07-08T13:11:17.019Z"
   },
   {
    "duration": 30,
    "start_time": "2021-07-08T13:11:17.148Z"
   },
   {
    "duration": 93,
    "start_time": "2021-07-08T13:11:17.180Z"
   },
   {
    "duration": 25,
    "start_time": "2021-07-08T13:11:17.276Z"
   },
   {
    "duration": 198,
    "start_time": "2021-07-08T13:11:17.304Z"
   },
   {
    "duration": 35,
    "start_time": "2021-07-08T13:11:17.504Z"
   },
   {
    "duration": 47,
    "start_time": "2021-07-08T13:11:17.563Z"
   },
   {
    "duration": 15,
    "start_time": "2021-07-08T13:11:17.613Z"
   },
   {
    "duration": 144,
    "start_time": "2021-07-08T13:11:17.630Z"
   },
   {
    "duration": 1077,
    "start_time": "2021-07-08T13:11:17.777Z"
   },
   {
    "duration": 87,
    "start_time": "2021-07-08T13:11:18.857Z"
   },
   {
    "duration": 731,
    "start_time": "2021-07-08T13:11:18.947Z"
   },
   {
    "duration": 521,
    "start_time": "2021-07-08T13:12:05.953Z"
   },
   {
    "duration": 340,
    "start_time": "2021-07-08T13:12:17.223Z"
   },
   {
    "duration": 578,
    "start_time": "2021-07-08T13:12:25.495Z"
   },
   {
    "duration": 515,
    "start_time": "2021-07-08T13:12:37.534Z"
   },
   {
    "duration": 324,
    "start_time": "2021-07-08T13:12:47.320Z"
   },
   {
    "duration": 489,
    "start_time": "2021-07-08T13:12:54.886Z"
   },
   {
    "duration": 374,
    "start_time": "2021-07-08T13:12:59.672Z"
   },
   {
    "duration": 2707,
    "start_time": "2021-07-08T13:13:13.055Z"
   },
   {
    "duration": 1120,
    "start_time": "2021-07-08T13:13:22.456Z"
   },
   {
    "duration": 720,
    "start_time": "2021-07-08T13:13:54.363Z"
   },
   {
    "duration": 490,
    "start_time": "2021-07-08T13:14:04.015Z"
   },
   {
    "duration": 400,
    "start_time": "2021-07-08T13:14:09.183Z"
   },
   {
    "duration": 355,
    "start_time": "2021-07-08T13:14:22.887Z"
   },
   {
    "duration": 328,
    "start_time": "2021-07-08T13:14:57.014Z"
   },
   {
    "duration": 524,
    "start_time": "2021-07-08T13:15:03.407Z"
   },
   {
    "duration": 9735,
    "start_time": "2021-07-08T13:15:46.135Z"
   },
   {
    "duration": 906,
    "start_time": "2021-07-08T13:16:00.055Z"
   },
   {
    "duration": 405,
    "start_time": "2021-07-08T13:16:06.479Z"
   },
   {
    "duration": 10,
    "start_time": "2021-07-08T13:19:12.238Z"
   },
   {
    "duration": 10,
    "start_time": "2021-07-08T13:22:11.918Z"
   },
   {
    "duration": 472,
    "start_time": "2021-07-08T13:22:25.546Z"
   },
   {
    "duration": 470,
    "start_time": "2021-07-08T13:22:50.677Z"
   },
   {
    "duration": 651,
    "start_time": "2021-07-08T13:23:05.894Z"
   },
   {
    "duration": 414,
    "start_time": "2021-07-08T13:23:12.674Z"
   },
   {
    "duration": 664,
    "start_time": "2021-07-08T13:23:29.002Z"
   },
   {
    "duration": 613,
    "start_time": "2021-07-08T13:24:05.287Z"
   },
   {
    "duration": 922,
    "start_time": "2021-07-08T13:24:26.558Z"
   },
   {
    "duration": 466,
    "start_time": "2021-07-08T13:25:05.599Z"
   },
   {
    "duration": 788,
    "start_time": "2021-07-08T13:27:29.719Z"
   },
   {
    "duration": 614,
    "start_time": "2021-07-08T13:27:53.725Z"
   },
   {
    "duration": 668,
    "start_time": "2021-07-08T13:29:42.879Z"
   },
   {
    "duration": 822,
    "start_time": "2021-07-08T13:29:53.606Z"
   },
   {
    "duration": 151,
    "start_time": "2021-07-08T13:30:18.842Z"
   },
   {
    "duration": 199,
    "start_time": "2021-07-08T13:30:24.406Z"
   },
   {
    "duration": 831,
    "start_time": "2021-07-08T13:30:29.078Z"
   },
   {
    "duration": 5694,
    "start_time": "2021-07-08T13:30:42.759Z"
   },
   {
    "duration": 374,
    "start_time": "2021-07-08T13:33:22.414Z"
   },
   {
    "duration": 326,
    "start_time": "2021-07-08T13:34:14.878Z"
   },
   {
    "duration": 358,
    "start_time": "2021-07-08T13:34:24.806Z"
   },
   {
    "duration": 583,
    "start_time": "2021-07-08T13:34:29.285Z"
   },
   {
    "duration": 871,
    "start_time": "2021-07-08T13:35:14.758Z"
   },
   {
    "duration": 592,
    "start_time": "2021-07-08T13:35:26.141Z"
   },
   {
    "duration": 740,
    "start_time": "2021-07-08T13:35:50.870Z"
   },
   {
    "duration": 584,
    "start_time": "2021-07-08T13:36:02.246Z"
   },
   {
    "duration": 569,
    "start_time": "2021-07-08T13:36:14.997Z"
   },
   {
    "duration": 575,
    "start_time": "2021-07-08T13:36:24.550Z"
   },
   {
    "duration": 377,
    "start_time": "2021-07-08T13:36:48.998Z"
   },
   {
    "duration": 448,
    "start_time": "2021-07-08T13:37:16.766Z"
   },
   {
    "duration": 467,
    "start_time": "2021-07-08T13:37:22.246Z"
   },
   {
    "duration": 350,
    "start_time": "2021-07-08T13:37:38.230Z"
   },
   {
    "duration": 318,
    "start_time": "2021-07-08T13:38:01.630Z"
   },
   {
    "duration": 289,
    "start_time": "2021-07-08T13:40:04.702Z"
   },
   {
    "duration": 288,
    "start_time": "2021-07-08T13:40:20.374Z"
   },
   {
    "duration": 423,
    "start_time": "2021-07-08T13:40:39.397Z"
   },
   {
    "duration": 729,
    "start_time": "2021-07-08T13:40:59.748Z"
   },
   {
    "duration": 7,
    "start_time": "2021-07-08T13:41:47.482Z"
   },
   {
    "duration": 481,
    "start_time": "2021-07-08T13:41:54.990Z"
   },
   {
    "duration": 1097,
    "start_time": "2021-07-08T13:42:16.878Z"
   },
   {
    "duration": 7,
    "start_time": "2021-07-08T13:42:30.455Z"
   },
   {
    "duration": 501,
    "start_time": "2021-07-08T13:42:38.647Z"
   },
   {
    "duration": 382,
    "start_time": "2021-07-08T13:42:53.349Z"
   },
   {
    "duration": 331,
    "start_time": "2021-07-08T13:45:58.677Z"
   },
   {
    "duration": 335,
    "start_time": "2021-07-08T13:46:04.190Z"
   },
   {
    "duration": 357,
    "start_time": "2021-07-08T13:46:11.653Z"
   },
   {
    "duration": 399,
    "start_time": "2021-07-08T13:46:42.325Z"
   },
   {
    "duration": 517,
    "start_time": "2021-07-08T13:46:54.365Z"
   },
   {
    "duration": 606,
    "start_time": "2021-07-08T13:48:42.749Z"
   },
   {
    "duration": 8,
    "start_time": "2021-07-08T13:51:23.525Z"
   },
   {
    "duration": 7,
    "start_time": "2021-07-08T13:51:31.325Z"
   },
   {
    "duration": 7,
    "start_time": "2021-07-08T13:51:36.133Z"
   },
   {
    "duration": 8,
    "start_time": "2021-07-08T13:51:48.854Z"
   },
   {
    "duration": 299,
    "start_time": "2021-07-09T05:32:14.222Z"
   },
   {
    "duration": 927,
    "start_time": "2021-07-09T05:32:24.982Z"
   },
   {
    "duration": 74,
    "start_time": "2021-07-09T05:32:25.911Z"
   },
   {
    "duration": 10,
    "start_time": "2021-07-09T05:32:25.988Z"
   },
   {
    "duration": 67,
    "start_time": "2021-07-09T05:32:26.000Z"
   },
   {
    "duration": 15,
    "start_time": "2021-07-09T05:32:26.069Z"
   },
   {
    "duration": 98,
    "start_time": "2021-07-09T05:32:26.086Z"
   },
   {
    "duration": 17,
    "start_time": "2021-07-09T05:32:26.186Z"
   },
   {
    "duration": 51,
    "start_time": "2021-07-09T05:32:26.207Z"
   },
   {
    "duration": 14,
    "start_time": "2021-07-09T05:32:26.261Z"
   },
   {
    "duration": 65,
    "start_time": "2021-07-09T05:32:26.277Z"
   },
   {
    "duration": 408,
    "start_time": "2021-07-09T05:32:26.343Z"
   },
   {
    "duration": 39,
    "start_time": "2021-07-09T05:32:26.752Z"
   },
   {
    "duration": 5,
    "start_time": "2021-07-09T05:32:26.792Z"
   },
   {
    "duration": 301,
    "start_time": "2021-07-09T05:32:26.799Z"
   },
   {
    "duration": 247,
    "start_time": "2021-07-09T05:32:27.102Z"
   },
   {
    "duration": 247,
    "start_time": "2021-07-09T05:32:27.351Z"
   },
   {
    "duration": 313,
    "start_time": "2021-07-09T05:32:27.599Z"
   },
   {
    "duration": 263,
    "start_time": "2021-07-09T05:32:40.027Z"
   },
   {
    "duration": 1302,
    "start_time": "2021-07-09T05:46:01.215Z"
   },
   {
    "duration": 130,
    "start_time": "2021-07-09T05:46:02.519Z"
   },
   {
    "duration": 12,
    "start_time": "2021-07-09T05:46:02.651Z"
   },
   {
    "duration": 80,
    "start_time": "2021-07-09T05:46:02.665Z"
   },
   {
    "duration": 18,
    "start_time": "2021-07-09T05:46:02.747Z"
   },
   {
    "duration": 124,
    "start_time": "2021-07-09T05:46:02.766Z"
   },
   {
    "duration": 23,
    "start_time": "2021-07-09T05:46:02.892Z"
   },
   {
    "duration": 57,
    "start_time": "2021-07-09T05:46:02.918Z"
   },
   {
    "duration": 12,
    "start_time": "2021-07-09T05:46:02.977Z"
   },
   {
    "duration": 88,
    "start_time": "2021-07-09T05:46:02.991Z"
   },
   {
    "duration": 627,
    "start_time": "2021-07-09T05:46:03.081Z"
   },
   {
    "duration": 64,
    "start_time": "2021-07-09T05:46:03.709Z"
   },
   {
    "duration": 6,
    "start_time": "2021-07-09T05:46:03.775Z"
   },
   {
    "duration": 420,
    "start_time": "2021-07-09T05:46:03.782Z"
   },
   {
    "duration": 370,
    "start_time": "2021-07-09T05:46:04.204Z"
   },
   {
    "duration": 355,
    "start_time": "2021-07-09T05:46:04.576Z"
   },
   {
    "duration": 469,
    "start_time": "2021-07-09T05:46:04.933Z"
   },
   {
    "duration": 724,
    "start_time": "2021-07-09T05:47:44.073Z"
   },
   {
    "duration": 79,
    "start_time": "2021-07-09T05:47:44.799Z"
   },
   {
    "duration": 8,
    "start_time": "2021-07-09T05:47:44.880Z"
   },
   {
    "duration": 67,
    "start_time": "2021-07-09T05:47:44.890Z"
   },
   {
    "duration": 13,
    "start_time": "2021-07-09T05:47:44.959Z"
   },
   {
    "duration": 89,
    "start_time": "2021-07-09T05:47:44.974Z"
   },
   {
    "duration": 15,
    "start_time": "2021-07-09T05:47:45.064Z"
   },
   {
    "duration": 28,
    "start_time": "2021-07-09T05:47:45.082Z"
   },
   {
    "duration": 37,
    "start_time": "2021-07-09T05:47:45.112Z"
   },
   {
    "duration": 50,
    "start_time": "2021-07-09T05:47:45.151Z"
   },
   {
    "duration": 431,
    "start_time": "2021-07-09T05:47:45.203Z"
   },
   {
    "duration": 42,
    "start_time": "2021-07-09T05:47:45.636Z"
   },
   {
    "duration": 5,
    "start_time": "2021-07-09T05:47:45.679Z"
   },
   {
    "duration": 301,
    "start_time": "2021-07-09T05:47:45.685Z"
   },
   {
    "duration": 350,
    "start_time": "2021-07-09T05:47:45.987Z"
   },
   {
    "duration": 279,
    "start_time": "2021-07-09T05:47:46.339Z"
   },
   {
    "duration": 343,
    "start_time": "2021-07-09T05:47:46.620Z"
   },
   {
    "duration": 255,
    "start_time": "2021-07-09T05:47:46.965Z"
   },
   {
    "duration": 7,
    "start_time": "2021-07-09T05:49:52.572Z"
   },
   {
    "duration": 7,
    "start_time": "2021-07-09T05:50:04.878Z"
   },
   {
    "duration": 5,
    "start_time": "2021-07-09T05:54:40.714Z"
   },
   {
    "duration": 5,
    "start_time": "2021-07-09T05:56:29.657Z"
   },
   {
    "duration": 6,
    "start_time": "2021-07-09T05:56:37.168Z"
   },
   {
    "duration": 458,
    "start_time": "2021-07-09T06:06:37.041Z"
   },
   {
    "duration": 300,
    "start_time": "2021-07-09T06:07:01.169Z"
   },
   {
    "duration": 258,
    "start_time": "2021-07-09T06:10:45.529Z"
   },
   {
    "duration": 436,
    "start_time": "2021-07-09T06:11:58.848Z"
   },
   {
    "duration": 587,
    "start_time": "2021-07-09T06:12:42.381Z"
   },
   {
    "duration": 339,
    "start_time": "2021-07-09T06:14:47.048Z"
   },
   {
    "duration": 709,
    "start_time": "2021-07-09T06:14:55.790Z"
   },
   {
    "duration": 74,
    "start_time": "2021-07-09T06:14:56.500Z"
   },
   {
    "duration": 7,
    "start_time": "2021-07-09T06:14:56.576Z"
   },
   {
    "duration": 56,
    "start_time": "2021-07-09T06:14:56.585Z"
   },
   {
    "duration": 14,
    "start_time": "2021-07-09T06:14:56.642Z"
   },
   {
    "duration": 89,
    "start_time": "2021-07-09T06:14:56.657Z"
   },
   {
    "duration": 15,
    "start_time": "2021-07-09T06:14:56.747Z"
   },
   {
    "duration": 28,
    "start_time": "2021-07-09T06:14:56.763Z"
   },
   {
    "duration": 9,
    "start_time": "2021-07-09T06:14:56.793Z"
   },
   {
    "duration": 68,
    "start_time": "2021-07-09T06:14:56.804Z"
   },
   {
    "duration": 391,
    "start_time": "2021-07-09T06:14:56.874Z"
   },
   {
    "duration": 35,
    "start_time": "2021-07-09T06:14:57.267Z"
   },
   {
    "duration": 5,
    "start_time": "2021-07-09T06:14:57.304Z"
   },
   {
    "duration": 274,
    "start_time": "2021-07-09T06:14:57.310Z"
   },
   {
    "duration": 238,
    "start_time": "2021-07-09T06:14:57.586Z"
   },
   {
    "duration": 240,
    "start_time": "2021-07-09T06:14:57.825Z"
   },
   {
    "duration": 287,
    "start_time": "2021-07-09T06:14:58.066Z"
   },
   {
    "duration": 237,
    "start_time": "2021-07-09T06:14:58.354Z"
   },
   {
    "duration": 5,
    "start_time": "2021-07-09T06:14:58.592Z"
   },
   {
    "duration": 529,
    "start_time": "2021-07-09T06:14:58.599Z"
   },
   {
    "duration": 456,
    "start_time": "2021-07-09T06:14:59.130Z"
   },
   {
    "duration": 323,
    "start_time": "2021-07-09T06:14:59.588Z"
   },
   {
    "duration": 731,
    "start_time": "2021-07-09T06:16:11.943Z"
   },
   {
    "duration": 69,
    "start_time": "2021-07-09T06:16:12.676Z"
   },
   {
    "duration": 8,
    "start_time": "2021-07-09T06:16:12.746Z"
   },
   {
    "duration": 40,
    "start_time": "2021-07-09T06:16:12.756Z"
   },
   {
    "duration": 13,
    "start_time": "2021-07-09T06:16:12.797Z"
   },
   {
    "duration": 71,
    "start_time": "2021-07-09T06:16:12.840Z"
   },
   {
    "duration": 29,
    "start_time": "2021-07-09T06:16:12.912Z"
   },
   {
    "duration": 27,
    "start_time": "2021-07-09T06:16:12.943Z"
   },
   {
    "duration": 8,
    "start_time": "2021-07-09T06:16:12.972Z"
   },
   {
    "duration": 68,
    "start_time": "2021-07-09T06:16:12.981Z"
   },
   {
    "duration": 395,
    "start_time": "2021-07-09T06:16:13.050Z"
   },
   {
    "duration": 36,
    "start_time": "2021-07-09T06:16:13.447Z"
   },
   {
    "duration": 5,
    "start_time": "2021-07-09T06:16:13.485Z"
   },
   {
    "duration": 281,
    "start_time": "2021-07-09T06:16:13.491Z"
   },
   {
    "duration": 240,
    "start_time": "2021-07-09T06:16:13.774Z"
   },
   {
    "duration": 250,
    "start_time": "2021-07-09T06:16:14.016Z"
   },
   {
    "duration": 296,
    "start_time": "2021-07-09T06:16:14.267Z"
   },
   {
    "duration": 236,
    "start_time": "2021-07-09T06:16:14.565Z"
   },
   {
    "duration": 5,
    "start_time": "2021-07-09T06:16:14.802Z"
   },
   {
    "duration": 460,
    "start_time": "2021-07-09T06:16:14.809Z"
   },
   {
    "duration": 516,
    "start_time": "2021-07-09T06:16:15.270Z"
   },
   {
    "duration": 495,
    "start_time": "2021-07-09T06:16:15.788Z"
   },
   {
    "duration": 323,
    "start_time": "2021-07-09T06:18:01.226Z"
   },
   {
    "duration": 721,
    "start_time": "2021-07-09T06:21:47.256Z"
   },
   {
    "duration": 71,
    "start_time": "2021-07-09T06:21:47.978Z"
   },
   {
    "duration": 8,
    "start_time": "2021-07-09T06:21:48.051Z"
   },
   {
    "duration": 42,
    "start_time": "2021-07-09T06:21:48.060Z"
   },
   {
    "duration": 40,
    "start_time": "2021-07-09T06:21:48.103Z"
   },
   {
    "duration": 68,
    "start_time": "2021-07-09T06:21:48.145Z"
   },
   {
    "duration": 26,
    "start_time": "2021-07-09T06:21:48.215Z"
   },
   {
    "duration": 26,
    "start_time": "2021-07-09T06:21:48.243Z"
   },
   {
    "duration": 8,
    "start_time": "2021-07-09T06:21:48.271Z"
   },
   {
    "duration": 63,
    "start_time": "2021-07-09T06:21:48.281Z"
   },
   {
    "duration": 396,
    "start_time": "2021-07-09T06:21:48.345Z"
   },
   {
    "duration": 37,
    "start_time": "2021-07-09T06:21:48.743Z"
   },
   {
    "duration": 5,
    "start_time": "2021-07-09T06:21:48.782Z"
   },
   {
    "duration": 284,
    "start_time": "2021-07-09T06:21:48.788Z"
   },
   {
    "duration": 245,
    "start_time": "2021-07-09T06:21:49.073Z"
   },
   {
    "duration": 245,
    "start_time": "2021-07-09T06:21:49.321Z"
   },
   {
    "duration": 308,
    "start_time": "2021-07-09T06:21:49.568Z"
   },
   {
    "duration": 236,
    "start_time": "2021-07-09T06:21:49.877Z"
   },
   {
    "duration": 5,
    "start_time": "2021-07-09T06:21:50.115Z"
   },
   {
    "duration": 470,
    "start_time": "2021-07-09T06:21:50.121Z"
   },
   {
    "duration": 489,
    "start_time": "2021-07-09T06:21:50.593Z"
   },
   {
    "duration": 496,
    "start_time": "2021-07-09T06:21:51.084Z"
   },
   {
    "duration": 709,
    "start_time": "2021-07-09T06:24:16.071Z"
   },
   {
    "duration": 76,
    "start_time": "2021-07-09T06:24:16.782Z"
   },
   {
    "duration": 8,
    "start_time": "2021-07-09T06:24:16.860Z"
   },
   {
    "duration": 51,
    "start_time": "2021-07-09T06:24:16.870Z"
   },
   {
    "duration": 28,
    "start_time": "2021-07-09T06:24:16.923Z"
   },
   {
    "duration": 66,
    "start_time": "2021-07-09T06:24:16.953Z"
   },
   {
    "duration": 32,
    "start_time": "2021-07-09T06:24:17.021Z"
   },
   {
    "duration": 28,
    "start_time": "2021-07-09T06:24:17.055Z"
   },
   {
    "duration": 10,
    "start_time": "2021-07-09T06:24:17.085Z"
   },
   {
    "duration": 68,
    "start_time": "2021-07-09T06:24:17.097Z"
   },
   {
    "duration": 391,
    "start_time": "2021-07-09T06:24:17.166Z"
   },
   {
    "duration": 36,
    "start_time": "2021-07-09T06:24:17.559Z"
   },
   {
    "duration": 4,
    "start_time": "2021-07-09T06:24:17.597Z"
   },
   {
    "duration": 290,
    "start_time": "2021-07-09T06:24:17.603Z"
   },
   {
    "duration": 241,
    "start_time": "2021-07-09T06:24:17.895Z"
   },
   {
    "duration": 239,
    "start_time": "2021-07-09T06:24:18.140Z"
   },
   {
    "duration": 295,
    "start_time": "2021-07-09T06:24:18.381Z"
   },
   {
    "duration": 234,
    "start_time": "2021-07-09T06:24:18.678Z"
   },
   {
    "duration": 5,
    "start_time": "2021-07-09T06:24:18.915Z"
   },
   {
    "duration": 464,
    "start_time": "2021-07-09T06:24:18.922Z"
   },
   {
    "duration": 494,
    "start_time": "2021-07-09T06:24:19.388Z"
   },
   {
    "duration": 511,
    "start_time": "2021-07-09T06:24:19.884Z"
   },
   {
    "duration": 737,
    "start_time": "2021-07-09T06:24:44.880Z"
   },
   {
    "duration": 70,
    "start_time": "2021-07-09T06:24:45.618Z"
   },
   {
    "duration": 8,
    "start_time": "2021-07-09T06:24:45.689Z"
   },
   {
    "duration": 56,
    "start_time": "2021-07-09T06:24:45.699Z"
   },
   {
    "duration": 14,
    "start_time": "2021-07-09T06:24:45.756Z"
   },
   {
    "duration": 86,
    "start_time": "2021-07-09T06:24:45.772Z"
   },
   {
    "duration": 16,
    "start_time": "2021-07-09T06:24:45.860Z"
   },
   {
    "duration": 26,
    "start_time": "2021-07-09T06:24:45.878Z"
   },
   {
    "duration": 10,
    "start_time": "2021-07-09T06:24:45.907Z"
   },
   {
    "duration": 48,
    "start_time": "2021-07-09T06:24:45.941Z"
   },
   {
    "duration": 396,
    "start_time": "2021-07-09T06:24:45.990Z"
   },
   {
    "duration": 38,
    "start_time": "2021-07-09T06:24:46.388Z"
   },
   {
    "duration": 16,
    "start_time": "2021-07-09T06:24:46.428Z"
   },
   {
    "duration": 271,
    "start_time": "2021-07-09T06:24:46.446Z"
   },
   {
    "duration": 235,
    "start_time": "2021-07-09T06:24:46.719Z"
   },
   {
    "duration": 248,
    "start_time": "2021-07-09T06:24:46.956Z"
   },
   {
    "duration": 296,
    "start_time": "2021-07-09T06:24:47.206Z"
   },
   {
    "duration": 230,
    "start_time": "2021-07-09T06:24:47.504Z"
   },
   {
    "duration": 9,
    "start_time": "2021-07-09T06:24:47.735Z"
   },
   {
    "duration": 480,
    "start_time": "2021-07-09T06:24:47.746Z"
   },
   {
    "duration": 462,
    "start_time": "2021-07-09T06:24:48.227Z"
   },
   {
    "duration": 491,
    "start_time": "2021-07-09T06:24:48.690Z"
   },
   {
    "duration": 257041,
    "start_time": "2021-07-09T06:24:49.184Z"
   },
   {
    "duration": 490,
    "start_time": "2021-07-09T06:29:06.227Z"
   },
   {
    "duration": 777,
    "start_time": "2021-07-09T06:36:38.379Z"
   },
   {
    "duration": 84,
    "start_time": "2021-07-09T06:36:39.158Z"
   },
   {
    "duration": 10,
    "start_time": "2021-07-09T06:36:39.245Z"
   },
   {
    "duration": 45,
    "start_time": "2021-07-09T06:36:39.257Z"
   },
   {
    "duration": 44,
    "start_time": "2021-07-09T06:36:39.304Z"
   },
   {
    "duration": 75,
    "start_time": "2021-07-09T06:36:39.349Z"
   },
   {
    "duration": 28,
    "start_time": "2021-07-09T06:36:39.425Z"
   },
   {
    "duration": 28,
    "start_time": "2021-07-09T06:36:39.456Z"
   },
   {
    "duration": 13,
    "start_time": "2021-07-09T06:36:39.486Z"
   },
   {
    "duration": 74,
    "start_time": "2021-07-09T06:36:39.501Z"
   },
   {
    "duration": 409,
    "start_time": "2021-07-09T06:36:39.576Z"
   },
   {
    "duration": 41,
    "start_time": "2021-07-09T06:36:39.986Z"
   },
   {
    "duration": 16,
    "start_time": "2021-07-09T06:36:40.028Z"
   },
   {
    "duration": 282,
    "start_time": "2021-07-09T06:36:40.046Z"
   },
   {
    "duration": 242,
    "start_time": "2021-07-09T06:36:40.330Z"
   },
   {
    "duration": 248,
    "start_time": "2021-07-09T06:36:40.573Z"
   },
   {
    "duration": 301,
    "start_time": "2021-07-09T06:36:40.823Z"
   },
   {
    "duration": 235,
    "start_time": "2021-07-09T06:36:41.125Z"
   },
   {
    "duration": 5,
    "start_time": "2021-07-09T06:36:41.362Z"
   },
   {
    "duration": 497,
    "start_time": "2021-07-09T06:36:41.368Z"
   },
   {
    "duration": 521,
    "start_time": "2021-07-09T06:36:41.867Z"
   },
   {
    "duration": 514,
    "start_time": "2021-07-09T06:36:42.389Z"
   },
   {
    "duration": 379,
    "start_time": "2021-07-09T06:36:42.906Z"
   },
   {
    "duration": 1250,
    "start_time": "2021-07-09T06:37:39.517Z"
   },
   {
    "duration": 294,
    "start_time": "2021-07-09T06:37:48.471Z"
   },
   {
    "duration": 309,
    "start_time": "2021-07-09T06:38:11.373Z"
   },
   {
    "duration": 16,
    "start_time": "2021-07-09T06:39:37.389Z"
   },
   {
    "duration": 494,
    "start_time": "2021-07-09T06:48:49.788Z"
   },
   {
    "duration": 478,
    "start_time": "2021-07-09T06:48:56.277Z"
   },
   {
    "duration": 491,
    "start_time": "2021-07-09T06:49:01.797Z"
   },
   {
    "duration": 458,
    "start_time": "2021-07-09T06:49:06.556Z"
   },
   {
    "duration": 526,
    "start_time": "2021-07-09T06:49:11.301Z"
   },
   {
    "duration": 467,
    "start_time": "2021-07-09T06:49:19.916Z"
   },
   {
    "duration": 419,
    "start_time": "2021-07-09T07:08:51.559Z"
   },
   {
    "duration": 439,
    "start_time": "2021-07-09T07:09:29.676Z"
   },
   {
    "duration": 495,
    "start_time": "2021-07-09T07:12:55.532Z"
   },
   {
    "duration": 459,
    "start_time": "2021-07-09T07:14:21.587Z"
   },
   {
    "duration": 486,
    "start_time": "2021-07-09T07:14:59.602Z"
   },
   {
    "duration": 442,
    "start_time": "2021-07-09T07:15:39.171Z"
   },
   {
    "duration": 470,
    "start_time": "2021-07-09T07:15:44.610Z"
   },
   {
    "duration": 480,
    "start_time": "2021-07-09T07:15:54.562Z"
   },
   {
    "duration": 448,
    "start_time": "2021-07-09T07:16:02.766Z"
   },
   {
    "duration": 457,
    "start_time": "2021-07-09T07:16:14.474Z"
   },
   {
    "duration": 464,
    "start_time": "2021-07-09T07:16:24.282Z"
   },
   {
    "duration": 434,
    "start_time": "2021-07-09T07:16:33.355Z"
   },
   {
    "duration": 495,
    "start_time": "2021-07-09T07:16:40.699Z"
   },
   {
    "duration": 214,
    "start_time": "2021-07-09T07:24:54.668Z"
   },
   {
    "duration": 8,
    "start_time": "2021-07-09T08:02:52.200Z"
   },
   {
    "duration": 311,
    "start_time": "2021-07-09T08:05:47.790Z"
   },
   {
    "duration": 9,
    "start_time": "2021-07-09T08:06:01.135Z"
   },
   {
    "duration": 249,
    "start_time": "2021-07-09T08:06:34.209Z"
   },
   {
    "duration": 709,
    "start_time": "2021-07-09T08:06:41.475Z"
   },
   {
    "duration": 74,
    "start_time": "2021-07-09T08:06:42.186Z"
   },
   {
    "duration": 8,
    "start_time": "2021-07-09T08:06:42.262Z"
   },
   {
    "duration": 47,
    "start_time": "2021-07-09T08:06:42.272Z"
   },
   {
    "duration": 30,
    "start_time": "2021-07-09T08:06:42.320Z"
   },
   {
    "duration": 69,
    "start_time": "2021-07-09T08:06:42.352Z"
   },
   {
    "duration": 29,
    "start_time": "2021-07-09T08:06:42.423Z"
   },
   {
    "duration": 28,
    "start_time": "2021-07-09T08:06:42.454Z"
   },
   {
    "duration": 10,
    "start_time": "2021-07-09T08:06:42.484Z"
   },
   {
    "duration": 76,
    "start_time": "2021-07-09T08:06:42.496Z"
   },
   {
    "duration": 417,
    "start_time": "2021-07-09T08:06:42.574Z"
   },
   {
    "duration": 37,
    "start_time": "2021-07-09T08:06:42.993Z"
   },
   {
    "duration": 22,
    "start_time": "2021-07-09T08:06:43.031Z"
   },
   {
    "duration": 265,
    "start_time": "2021-07-09T08:06:43.055Z"
   },
   {
    "duration": 240,
    "start_time": "2021-07-09T08:06:43.321Z"
   },
   {
    "duration": 243,
    "start_time": "2021-07-09T08:06:43.562Z"
   },
   {
    "duration": 263,
    "start_time": "2021-07-09T08:06:43.841Z"
   },
   {
    "duration": 248,
    "start_time": "2021-07-09T08:06:44.105Z"
   },
   {
    "duration": 5,
    "start_time": "2021-07-09T08:06:44.355Z"
   },
   {
    "duration": 545,
    "start_time": "2021-07-09T08:06:44.361Z"
   },
   {
    "duration": 517,
    "start_time": "2021-07-09T08:06:44.908Z"
   },
   {
    "duration": 469,
    "start_time": "2021-07-09T08:06:45.427Z"
   },
   {
    "duration": 463,
    "start_time": "2021-07-09T08:06:45.898Z"
   },
   {
    "duration": 463,
    "start_time": "2021-07-09T08:06:46.362Z"
   },
   {
    "duration": 480,
    "start_time": "2021-07-09T08:06:46.827Z"
   },
   {
    "duration": 493,
    "start_time": "2021-07-09T08:06:47.309Z"
   },
   {
    "duration": 6,
    "start_time": "2021-07-09T08:06:47.803Z"
   },
   {
    "duration": 381,
    "start_time": "2021-07-09T08:06:47.810Z"
   },
   {
    "duration": 6,
    "start_time": "2021-07-09T08:07:31.160Z"
   },
   {
    "duration": 10,
    "start_time": "2021-07-09T08:07:31.944Z"
   },
   {
    "duration": 8,
    "start_time": "2021-07-09T08:08:20.968Z"
   },
   {
    "duration": 7,
    "start_time": "2021-07-09T08:08:32.970Z"
   },
   {
    "duration": 887,
    "start_time": "2021-07-09T08:28:22.128Z"
   },
   {
    "duration": 7,
    "start_time": "2021-07-09T08:28:40.961Z"
   },
   {
    "duration": 301,
    "start_time": "2021-07-09T08:31:45.276Z"
   },
   {
    "duration": 8,
    "start_time": "2021-07-09T08:32:01.111Z"
   },
   {
    "duration": 9,
    "start_time": "2021-07-09T08:32:03.236Z"
   },
   {
    "duration": 299,
    "start_time": "2021-07-09T08:33:14.990Z"
   },
   {
    "duration": 274,
    "start_time": "2021-07-09T08:41:55.902Z"
   },
   {
    "duration": 81,
    "start_time": "2021-07-09T09:12:50.377Z"
   },
   {
    "duration": 6,
    "start_time": "2021-07-09T09:12:54.477Z"
   },
   {
    "duration": 8,
    "start_time": "2021-07-09T09:13:01.301Z"
   },
   {
    "duration": 9,
    "start_time": "2021-07-09T09:31:58.539Z"
   },
   {
    "duration": 8,
    "start_time": "2021-07-09T09:52:20.060Z"
   },
   {
    "duration": 8,
    "start_time": "2021-07-09T09:52:32.753Z"
   },
   {
    "duration": 8,
    "start_time": "2021-07-09T09:52:40.593Z"
   },
   {
    "duration": 251,
    "start_time": "2021-07-09T09:53:08.194Z"
   },
   {
    "duration": 308,
    "start_time": "2021-07-09T09:53:14.970Z"
   },
   {
    "duration": 268,
    "start_time": "2021-07-09T09:53:24.441Z"
   },
   {
    "duration": 9,
    "start_time": "2021-07-09T09:53:28.561Z"
   },
   {
    "duration": 9,
    "start_time": "2021-07-09T09:53:40.625Z"
   },
   {
    "duration": 8,
    "start_time": "2021-07-09T09:53:43.185Z"
   },
   {
    "duration": 7,
    "start_time": "2021-07-09T09:54:06.035Z"
   },
   {
    "duration": 763,
    "start_time": "2021-07-09T09:54:21.428Z"
   },
   {
    "duration": 120,
    "start_time": "2021-07-09T09:54:22.194Z"
   },
   {
    "duration": 12,
    "start_time": "2021-07-09T09:54:22.317Z"
   },
   {
    "duration": 59,
    "start_time": "2021-07-09T09:54:22.342Z"
   },
   {
    "duration": 40,
    "start_time": "2021-07-09T09:54:22.403Z"
   },
   {
    "duration": 71,
    "start_time": "2021-07-09T09:54:22.445Z"
   },
   {
    "duration": 32,
    "start_time": "2021-07-09T09:54:22.517Z"
   },
   {
    "duration": 27,
    "start_time": "2021-07-09T09:54:22.551Z"
   },
   {
    "duration": 8,
    "start_time": "2021-07-09T09:54:22.580Z"
   },
   {
    "duration": 68,
    "start_time": "2021-07-09T09:54:22.590Z"
   },
   {
    "duration": 398,
    "start_time": "2021-07-09T09:54:22.660Z"
   },
   {
    "duration": 39,
    "start_time": "2021-07-09T09:54:23.060Z"
   },
   {
    "duration": 15,
    "start_time": "2021-07-09T09:54:23.101Z"
   },
   {
    "duration": 290,
    "start_time": "2021-07-09T09:54:23.141Z"
   },
   {
    "duration": 251,
    "start_time": "2021-07-09T09:54:23.433Z"
   },
   {
    "duration": 250,
    "start_time": "2021-07-09T09:54:23.685Z"
   },
   {
    "duration": 242,
    "start_time": "2021-07-09T09:54:23.936Z"
   },
   {
    "duration": 239,
    "start_time": "2021-07-09T09:54:24.179Z"
   },
   {
    "duration": 5,
    "start_time": "2021-07-09T09:54:24.419Z"
   },
   {
    "duration": 481,
    "start_time": "2021-07-09T09:54:24.426Z"
   },
   {
    "duration": 509,
    "start_time": "2021-07-09T09:54:24.909Z"
   },
   {
    "duration": 479,
    "start_time": "2021-07-09T09:54:25.420Z"
   },
   {
    "duration": 465,
    "start_time": "2021-07-09T09:54:25.902Z"
   },
   {
    "duration": 490,
    "start_time": "2021-07-09T09:54:26.369Z"
   },
   {
    "duration": 472,
    "start_time": "2021-07-09T09:54:26.861Z"
   },
   {
    "duration": 477,
    "start_time": "2021-07-09T09:54:27.335Z"
   },
   {
    "duration": 6,
    "start_time": "2021-07-09T09:54:27.814Z"
   },
   {
    "duration": 22,
    "start_time": "2021-07-09T09:54:27.822Z"
   },
   {
    "duration": 9,
    "start_time": "2021-07-09T09:54:27.846Z"
   },
   {
    "duration": 339,
    "start_time": "2021-07-09T09:58:30.211Z"
   },
   {
    "duration": 9,
    "start_time": "2021-07-09T09:58:39.138Z"
   },
   {
    "duration": 12,
    "start_time": "2021-07-09T09:58:57.433Z"
   },
   {
    "duration": 18,
    "start_time": "2021-07-09T09:59:06.338Z"
   },
   {
    "duration": 9,
    "start_time": "2021-07-09T09:59:24.066Z"
   },
   {
    "duration": 241,
    "start_time": "2021-07-09T09:59:47.322Z"
   },
   {
    "duration": 262,
    "start_time": "2021-07-09T09:59:57.421Z"
   },
   {
    "duration": 9,
    "start_time": "2021-07-09T10:00:06.794Z"
   },
   {
    "duration": 250,
    "start_time": "2021-07-09T10:01:14.706Z"
   },
   {
    "duration": 262,
    "start_time": "2021-07-09T10:01:35.569Z"
   },
   {
    "duration": 10,
    "start_time": "2021-07-09T10:01:44.394Z"
   },
   {
    "duration": 9,
    "start_time": "2021-07-09T10:02:02.599Z"
   },
   {
    "duration": 10,
    "start_time": "2021-07-09T10:04:08.153Z"
   },
   {
    "duration": 8,
    "start_time": "2021-07-09T10:11:04.241Z"
   },
   {
    "duration": 10,
    "start_time": "2021-07-09T10:12:18.890Z"
   },
   {
    "duration": 337,
    "start_time": "2021-07-09T10:17:07.905Z"
   },
   {
    "duration": 248,
    "start_time": "2021-07-09T13:04:40.328Z"
   },
   {
    "duration": 8,
    "start_time": "2021-07-09T13:04:46.334Z"
   },
   {
    "duration": 7,
    "start_time": "2021-07-09T13:04:53.133Z"
   },
   {
    "duration": 8,
    "start_time": "2021-07-09T13:05:40.086Z"
   },
   {
    "duration": 672,
    "start_time": "2021-07-11T08:09:44.046Z"
   },
   {
    "duration": 75,
    "start_time": "2021-07-11T08:09:44.720Z"
   },
   {
    "duration": 8,
    "start_time": "2021-07-11T08:09:44.797Z"
   },
   {
    "duration": 7,
    "start_time": "2021-07-11T08:09:44.807Z"
   },
   {
    "duration": 69,
    "start_time": "2021-07-11T08:09:44.816Z"
   },
   {
    "duration": 13,
    "start_time": "2021-07-11T08:09:44.887Z"
   },
   {
    "duration": 87,
    "start_time": "2021-07-11T08:09:44.902Z"
   },
   {
    "duration": 15,
    "start_time": "2021-07-11T08:09:44.990Z"
   },
   {
    "duration": 30,
    "start_time": "2021-07-11T08:09:45.008Z"
   },
   {
    "duration": 10,
    "start_time": "2021-07-11T08:09:45.041Z"
   },
   {
    "duration": 74,
    "start_time": "2021-07-11T08:09:45.053Z"
   },
   {
    "duration": 408,
    "start_time": "2021-07-11T08:09:45.129Z"
   },
   {
    "duration": 48,
    "start_time": "2021-07-11T08:09:45.538Z"
   },
   {
    "duration": 13,
    "start_time": "2021-07-11T08:09:45.587Z"
   },
   {
    "duration": 303,
    "start_time": "2021-07-11T08:09:45.602Z"
   },
   {
    "duration": 267,
    "start_time": "2021-07-11T08:09:45.907Z"
   },
   {
    "duration": 275,
    "start_time": "2021-07-11T08:09:46.176Z"
   },
   {
    "duration": 250,
    "start_time": "2021-07-11T08:09:46.453Z"
   },
   {
    "duration": 246,
    "start_time": "2021-07-11T08:09:46.705Z"
   },
   {
    "duration": 5,
    "start_time": "2021-07-11T08:09:46.953Z"
   },
   {
    "duration": 490,
    "start_time": "2021-07-11T08:09:46.960Z"
   },
   {
    "duration": 491,
    "start_time": "2021-07-11T08:09:47.451Z"
   },
   {
    "duration": 506,
    "start_time": "2021-07-11T08:09:47.944Z"
   },
   {
    "duration": 469,
    "start_time": "2021-07-11T08:09:48.451Z"
   },
   {
    "duration": 480,
    "start_time": "2021-07-11T08:09:48.921Z"
   },
   {
    "duration": 461,
    "start_time": "2021-07-11T08:09:49.403Z"
   },
   {
    "duration": 483,
    "start_time": "2021-07-11T08:09:49.867Z"
   },
   {
    "duration": 7,
    "start_time": "2021-07-11T08:09:50.352Z"
   },
   {
    "duration": 8,
    "start_time": "2021-07-11T08:09:50.360Z"
   },
   {
    "duration": 22,
    "start_time": "2021-07-11T08:09:50.369Z"
   },
   {
    "duration": 21,
    "start_time": "2021-07-11T08:10:57.273Z"
   },
   {
    "duration": 961,
    "start_time": "2021-07-11T08:43:18.561Z"
   },
   {
    "duration": -106,
    "start_time": "2021-07-11T08:43:19.631Z"
   },
   {
    "duration": -109,
    "start_time": "2021-07-11T08:43:19.635Z"
   },
   {
    "duration": -146,
    "start_time": "2021-07-11T08:43:19.673Z"
   },
   {
    "duration": -148,
    "start_time": "2021-07-11T08:43:19.677Z"
   },
   {
    "duration": -150,
    "start_time": "2021-07-11T08:43:19.680Z"
   },
   {
    "duration": -158,
    "start_time": "2021-07-11T08:43:19.689Z"
   },
   {
    "duration": -161,
    "start_time": "2021-07-11T08:43:19.693Z"
   },
   {
    "duration": -163,
    "start_time": "2021-07-11T08:43:19.696Z"
   },
   {
    "duration": -164,
    "start_time": "2021-07-11T08:43:19.698Z"
   },
   {
    "duration": -164,
    "start_time": "2021-07-11T08:43:19.700Z"
   },
   {
    "duration": -165,
    "start_time": "2021-07-11T08:43:19.702Z"
   },
   {
    "duration": -167,
    "start_time": "2021-07-11T08:43:19.705Z"
   },
   {
    "duration": -168,
    "start_time": "2021-07-11T08:43:19.707Z"
   },
   {
    "duration": -173,
    "start_time": "2021-07-11T08:43:19.713Z"
   },
   {
    "duration": -173,
    "start_time": "2021-07-11T08:43:19.715Z"
   },
   {
    "duration": -175,
    "start_time": "2021-07-11T08:43:19.718Z"
   },
   {
    "duration": -176,
    "start_time": "2021-07-11T08:43:19.720Z"
   },
   {
    "duration": -178,
    "start_time": "2021-07-11T08:43:19.723Z"
   },
   {
    "duration": -179,
    "start_time": "2021-07-11T08:43:19.725Z"
   },
   {
    "duration": -181,
    "start_time": "2021-07-11T08:43:19.728Z"
   },
   {
    "duration": -190,
    "start_time": "2021-07-11T08:43:19.738Z"
   },
   {
    "duration": -194,
    "start_time": "2021-07-11T08:43:19.743Z"
   },
   {
    "duration": -196,
    "start_time": "2021-07-11T08:43:19.746Z"
   },
   {
    "duration": -204,
    "start_time": "2021-07-11T08:43:19.755Z"
   },
   {
    "duration": -205,
    "start_time": "2021-07-11T08:43:19.758Z"
   },
   {
    "duration": -206,
    "start_time": "2021-07-11T08:43:19.760Z"
   },
   {
    "duration": -208,
    "start_time": "2021-07-11T08:43:19.762Z"
   },
   {
    "duration": -209,
    "start_time": "2021-07-11T08:43:19.764Z"
   },
   {
    "duration": -210,
    "start_time": "2021-07-11T08:43:19.766Z"
   },
   {
    "duration": 873,
    "start_time": "2021-07-11T08:43:40.259Z"
   },
   {
    "duration": -101,
    "start_time": "2021-07-11T08:43:41.236Z"
   },
   {
    "duration": -143,
    "start_time": "2021-07-11T08:43:41.279Z"
   },
   {
    "duration": -147,
    "start_time": "2021-07-11T08:43:41.284Z"
   },
   {
    "duration": -150,
    "start_time": "2021-07-11T08:43:41.288Z"
   },
   {
    "duration": -154,
    "start_time": "2021-07-11T08:43:41.293Z"
   },
   {
    "duration": -158,
    "start_time": "2021-07-11T08:43:41.297Z"
   },
   {
    "duration": -159,
    "start_time": "2021-07-11T08:43:41.299Z"
   },
   {
    "duration": -162,
    "start_time": "2021-07-11T08:43:41.303Z"
   },
   {
    "duration": -163,
    "start_time": "2021-07-11T08:43:41.305Z"
   },
   {
    "duration": -164,
    "start_time": "2021-07-11T08:43:41.307Z"
   },
   {
    "duration": -166,
    "start_time": "2021-07-11T08:43:41.309Z"
   },
   {
    "duration": -168,
    "start_time": "2021-07-11T08:43:41.312Z"
   },
   {
    "duration": -169,
    "start_time": "2021-07-11T08:43:41.314Z"
   },
   {
    "duration": -172,
    "start_time": "2021-07-11T08:43:41.317Z"
   },
   {
    "duration": -174,
    "start_time": "2021-07-11T08:43:41.320Z"
   },
   {
    "duration": -175,
    "start_time": "2021-07-11T08:43:41.322Z"
   },
   {
    "duration": -177,
    "start_time": "2021-07-11T08:43:41.324Z"
   },
   {
    "duration": -179,
    "start_time": "2021-07-11T08:43:41.327Z"
   },
   {
    "duration": -187,
    "start_time": "2021-07-11T08:43:41.336Z"
   },
   {
    "duration": -190,
    "start_time": "2021-07-11T08:43:41.339Z"
   },
   {
    "duration": -191,
    "start_time": "2021-07-11T08:43:41.341Z"
   },
   {
    "duration": -197,
    "start_time": "2021-07-11T08:43:41.348Z"
   },
   {
    "duration": -199,
    "start_time": "2021-07-11T08:43:41.350Z"
   },
   {
    "duration": -201,
    "start_time": "2021-07-11T08:43:41.353Z"
   },
   {
    "duration": -202,
    "start_time": "2021-07-11T08:43:41.355Z"
   },
   {
    "duration": -203,
    "start_time": "2021-07-11T08:43:41.357Z"
   },
   {
    "duration": -205,
    "start_time": "2021-07-11T08:43:41.359Z"
   },
   {
    "duration": -206,
    "start_time": "2021-07-11T08:43:41.361Z"
   },
   {
    "duration": -208,
    "start_time": "2021-07-11T08:43:41.364Z"
   },
   {
    "duration": 107,
    "start_time": "2021-07-11T08:43:54.342Z"
   },
   {
    "duration": 733,
    "start_time": "2021-07-11T08:43:57.966Z"
   },
   {
    "duration": 83,
    "start_time": "2021-07-11T08:43:58.701Z"
   },
   {
    "duration": 8,
    "start_time": "2021-07-11T08:43:58.786Z"
   },
   {
    "duration": 7,
    "start_time": "2021-07-11T08:43:58.796Z"
   },
   {
    "duration": 41,
    "start_time": "2021-07-11T08:43:58.805Z"
   },
   {
    "duration": 277,
    "start_time": "2021-07-11T08:43:58.848Z"
   },
   {
    "duration": -157,
    "start_time": "2021-07-11T08:43:59.284Z"
   },
   {
    "duration": -159,
    "start_time": "2021-07-11T08:43:59.287Z"
   },
   {
    "duration": -160,
    "start_time": "2021-07-11T08:43:59.289Z"
   },
   {
    "duration": -162,
    "start_time": "2021-07-11T08:43:59.292Z"
   },
   {
    "duration": -162,
    "start_time": "2021-07-11T08:43:59.293Z"
   },
   {
    "duration": -164,
    "start_time": "2021-07-11T08:43:59.296Z"
   },
   {
    "duration": -165,
    "start_time": "2021-07-11T08:43:59.298Z"
   },
   {
    "duration": -166,
    "start_time": "2021-07-11T08:43:59.300Z"
   },
   {
    "duration": -168,
    "start_time": "2021-07-11T08:43:59.303Z"
   },
   {
    "duration": -169,
    "start_time": "2021-07-11T08:43:59.305Z"
   },
   {
    "duration": -171,
    "start_time": "2021-07-11T08:43:59.308Z"
   },
   {
    "duration": -172,
    "start_time": "2021-07-11T08:43:59.310Z"
   },
   {
    "duration": -174,
    "start_time": "2021-07-11T08:43:59.312Z"
   },
   {
    "duration": -175,
    "start_time": "2021-07-11T08:43:59.314Z"
   },
   {
    "duration": -175,
    "start_time": "2021-07-11T08:43:59.316Z"
   },
   {
    "duration": -177,
    "start_time": "2021-07-11T08:43:59.319Z"
   },
   {
    "duration": -178,
    "start_time": "2021-07-11T08:43:59.321Z"
   },
   {
    "duration": -179,
    "start_time": "2021-07-11T08:43:59.323Z"
   },
   {
    "duration": -180,
    "start_time": "2021-07-11T08:43:59.325Z"
   },
   {
    "duration": -190,
    "start_time": "2021-07-11T08:43:59.336Z"
   },
   {
    "duration": -192,
    "start_time": "2021-07-11T08:43:59.339Z"
   },
   {
    "duration": -194,
    "start_time": "2021-07-11T08:43:59.342Z"
   },
   {
    "duration": -195,
    "start_time": "2021-07-11T08:43:59.344Z"
   },
   {
    "duration": -198,
    "start_time": "2021-07-11T08:43:59.347Z"
   },
   {
    "duration": 21,
    "start_time": "2021-07-11T08:44:21.506Z"
   },
   {
    "duration": 682,
    "start_time": "2021-07-11T08:44:56.421Z"
   },
   {
    "duration": 81,
    "start_time": "2021-07-11T08:44:57.105Z"
   },
   {
    "duration": 8,
    "start_time": "2021-07-11T08:44:57.188Z"
   },
   {
    "duration": 8,
    "start_time": "2021-07-11T08:44:57.198Z"
   },
   {
    "duration": 42,
    "start_time": "2021-07-11T08:44:57.207Z"
   },
   {
    "duration": 53,
    "start_time": "2021-07-11T08:44:57.250Z"
   },
   {
    "duration": 83,
    "start_time": "2021-07-11T08:44:57.305Z"
   },
   {
    "duration": 21,
    "start_time": "2021-07-11T08:44:57.391Z"
   },
   {
    "duration": 27,
    "start_time": "2021-07-11T08:44:57.414Z"
   },
   {
    "duration": 10,
    "start_time": "2021-07-11T08:44:57.442Z"
   },
   {
    "duration": 76,
    "start_time": "2021-07-11T08:44:57.453Z"
   },
   {
    "duration": 407,
    "start_time": "2021-07-11T08:44:57.530Z"
   },
   {
    "duration": 66,
    "start_time": "2021-07-11T08:44:57.939Z"
   },
   {
    "duration": 26,
    "start_time": "2021-07-11T08:44:58.008Z"
   },
   {
    "duration": 310,
    "start_time": "2021-07-11T08:44:58.036Z"
   },
   {
    "duration": 264,
    "start_time": "2021-07-11T08:44:58.348Z"
   },
   {
    "duration": 266,
    "start_time": "2021-07-11T08:44:58.614Z"
   },
   {
    "duration": 254,
    "start_time": "2021-07-11T08:44:58.884Z"
   },
   {
    "duration": 261,
    "start_time": "2021-07-11T08:44:59.139Z"
   },
   {
    "duration": 5,
    "start_time": "2021-07-11T08:44:59.401Z"
   },
   {
    "duration": 527,
    "start_time": "2021-07-11T08:44:59.408Z"
   },
   {
    "duration": 522,
    "start_time": "2021-07-11T08:44:59.937Z"
   },
   {
    "duration": 511,
    "start_time": "2021-07-11T08:45:00.462Z"
   },
   {
    "duration": 457,
    "start_time": "2021-07-11T08:45:00.975Z"
   },
   {
    "duration": 516,
    "start_time": "2021-07-11T08:45:01.433Z"
   },
   {
    "duration": 503,
    "start_time": "2021-07-11T08:45:01.951Z"
   },
   {
    "duration": 502,
    "start_time": "2021-07-11T08:45:02.456Z"
   },
   {
    "duration": 6,
    "start_time": "2021-07-11T08:45:02.960Z"
   },
   {
    "duration": 20,
    "start_time": "2021-07-11T08:45:02.967Z"
   },
   {
    "duration": 8,
    "start_time": "2021-07-11T08:45:02.989Z"
   },
   {
    "duration": 15,
    "start_time": "2021-07-11T08:51:47.542Z"
   },
   {
    "duration": 673,
    "start_time": "2021-07-11T08:51:58.238Z"
   },
   {
    "duration": 80,
    "start_time": "2021-07-11T08:51:58.913Z"
   },
   {
    "duration": 8,
    "start_time": "2021-07-11T08:51:58.995Z"
   },
   {
    "duration": 8,
    "start_time": "2021-07-11T08:51:59.005Z"
   },
   {
    "duration": 72,
    "start_time": "2021-07-11T08:51:59.014Z"
   },
   {
    "duration": 14,
    "start_time": "2021-07-11T08:51:59.087Z"
   },
   {
    "duration": 83,
    "start_time": "2021-07-11T08:51:59.103Z"
   },
   {
    "duration": 23,
    "start_time": "2021-07-11T08:51:59.187Z"
   },
   {
    "duration": 30,
    "start_time": "2021-07-11T08:51:59.213Z"
   },
   {
    "duration": 9,
    "start_time": "2021-07-11T08:51:59.246Z"
   },
   {
    "duration": 77,
    "start_time": "2021-07-11T08:51:59.256Z"
   },
   {
    "duration": 418,
    "start_time": "2021-07-11T08:51:59.335Z"
   },
   {
    "duration": 47,
    "start_time": "2021-07-11T08:51:59.754Z"
   },
   {
    "duration": 14,
    "start_time": "2021-07-11T08:51:59.803Z"
   },
   {
    "duration": 321,
    "start_time": "2021-07-11T08:51:59.819Z"
   },
   {
    "duration": 273,
    "start_time": "2021-07-11T08:52:00.141Z"
   },
   {
    "duration": 280,
    "start_time": "2021-07-11T08:52:00.415Z"
   },
   {
    "duration": 261,
    "start_time": "2021-07-11T08:52:00.696Z"
   },
   {
    "duration": 264,
    "start_time": "2021-07-11T08:52:00.959Z"
   },
   {
    "duration": 6,
    "start_time": "2021-07-11T08:52:01.224Z"
   },
   {
    "duration": 510,
    "start_time": "2021-07-11T08:52:01.231Z"
   },
   {
    "duration": 503,
    "start_time": "2021-07-11T08:52:01.743Z"
   },
   {
    "duration": 499,
    "start_time": "2021-07-11T08:52:02.248Z"
   },
   {
    "duration": 461,
    "start_time": "2021-07-11T08:52:02.749Z"
   },
   {
    "duration": 445,
    "start_time": "2021-07-11T08:52:03.212Z"
   },
   {
    "duration": 486,
    "start_time": "2021-07-11T08:52:03.658Z"
   },
   {
    "duration": 521,
    "start_time": "2021-07-11T08:52:04.147Z"
   },
   {
    "duration": 16,
    "start_time": "2021-07-11T08:52:04.670Z"
   },
   {
    "duration": 9,
    "start_time": "2021-07-11T08:52:04.688Z"
   },
   {
    "duration": 12,
    "start_time": "2021-07-11T08:52:04.698Z"
   },
   {
    "duration": 5,
    "start_time": "2021-07-11T08:52:27.297Z"
   },
   {
    "duration": 16,
    "start_time": "2021-07-11T08:52:43.698Z"
   },
   {
    "duration": 93,
    "start_time": "2021-07-11T08:55:20.617Z"
   },
   {
    "duration": 32,
    "start_time": "2021-07-11T08:55:25.797Z"
   },
   {
    "duration": 31,
    "start_time": "2021-07-11T08:55:49.977Z"
   },
   {
    "duration": 239,
    "start_time": "2021-07-11T08:56:12.499Z"
   },
   {
    "duration": 28,
    "start_time": "2021-07-11T08:56:18.219Z"
   },
   {
    "duration": 8,
    "start_time": "2021-07-11T08:56:38.250Z"
   },
   {
    "duration": 7,
    "start_time": "2021-07-11T08:56:54.390Z"
   },
   {
    "duration": 194,
    "start_time": "2021-07-11T08:57:07.338Z"
   },
   {
    "duration": 202,
    "start_time": "2021-07-11T08:57:18.959Z"
   },
   {
    "duration": 8,
    "start_time": "2021-07-11T08:57:31.519Z"
   },
   {
    "duration": 8,
    "start_time": "2021-07-11T08:57:45.784Z"
   },
   {
    "duration": 8,
    "start_time": "2021-07-11T08:58:05.199Z"
   },
   {
    "duration": 12,
    "start_time": "2021-07-11T08:58:38.380Z"
   },
   {
    "duration": 7,
    "start_time": "2021-07-11T08:58:53.391Z"
   },
   {
    "duration": 195,
    "start_time": "2021-07-11T08:58:58.444Z"
   },
   {
    "duration": 175,
    "start_time": "2021-07-11T08:59:19.140Z"
   },
   {
    "duration": 709,
    "start_time": "2021-07-11T08:59:29.107Z"
   },
   {
    "duration": 87,
    "start_time": "2021-07-11T08:59:29.818Z"
   },
   {
    "duration": 9,
    "start_time": "2021-07-11T08:59:29.906Z"
   },
   {
    "duration": 9,
    "start_time": "2021-07-11T08:59:29.916Z"
   },
   {
    "duration": 67,
    "start_time": "2021-07-11T08:59:29.926Z"
   },
   {
    "duration": 22,
    "start_time": "2021-07-11T08:59:29.994Z"
   },
   {
    "duration": 242,
    "start_time": "2021-07-11T08:59:30.018Z"
   },
   {
    "duration": -246,
    "start_time": "2021-07-11T08:59:30.509Z"
   },
   {
    "duration": -248,
    "start_time": "2021-07-11T08:59:30.512Z"
   },
   {
    "duration": -251,
    "start_time": "2021-07-11T08:59:30.516Z"
   },
   {
    "duration": -252,
    "start_time": "2021-07-11T08:59:30.518Z"
   },
   {
    "duration": -255,
    "start_time": "2021-07-11T08:59:30.522Z"
   },
   {
    "duration": -309,
    "start_time": "2021-07-11T08:59:30.577Z"
   },
   {
    "duration": -312,
    "start_time": "2021-07-11T08:59:30.580Z"
   },
   {
    "duration": -314,
    "start_time": "2021-07-11T08:59:30.584Z"
   },
   {
    "duration": -317,
    "start_time": "2021-07-11T08:59:30.587Z"
   },
   {
    "duration": -320,
    "start_time": "2021-07-11T08:59:30.592Z"
   },
   {
    "duration": -323,
    "start_time": "2021-07-11T08:59:30.596Z"
   },
   {
    "duration": -325,
    "start_time": "2021-07-11T08:59:30.599Z"
   },
   {
    "duration": -326,
    "start_time": "2021-07-11T08:59:30.601Z"
   },
   {
    "duration": -327,
    "start_time": "2021-07-11T08:59:30.603Z"
   },
   {
    "duration": -330,
    "start_time": "2021-07-11T08:59:30.607Z"
   },
   {
    "duration": -345,
    "start_time": "2021-07-11T08:59:30.623Z"
   },
   {
    "duration": -348,
    "start_time": "2021-07-11T08:59:30.627Z"
   },
   {
    "duration": -352,
    "start_time": "2021-07-11T08:59:30.631Z"
   },
   {
    "duration": -354,
    "start_time": "2021-07-11T08:59:30.634Z"
   },
   {
    "duration": -356,
    "start_time": "2021-07-11T08:59:30.637Z"
   },
   {
    "duration": -359,
    "start_time": "2021-07-11T08:59:30.641Z"
   },
   {
    "duration": -361,
    "start_time": "2021-07-11T08:59:30.644Z"
   },
   {
    "duration": -364,
    "start_time": "2021-07-11T08:59:30.648Z"
   },
   {
    "duration": -367,
    "start_time": "2021-07-11T08:59:30.651Z"
   },
   {
    "duration": 7,
    "start_time": "2021-07-11T08:59:38.587Z"
   },
   {
    "duration": 182,
    "start_time": "2021-07-11T08:59:52.789Z"
   },
   {
    "duration": 10,
    "start_time": "2021-07-11T09:00:11.067Z"
   },
   {
    "duration": 245,
    "start_time": "2021-07-11T09:01:05.005Z"
   },
   {
    "duration": 6,
    "start_time": "2021-07-11T09:01:10.305Z"
   },
   {
    "duration": 8,
    "start_time": "2021-07-11T09:01:19.265Z"
   },
   {
    "duration": 213,
    "start_time": "2021-07-11T09:01:29.925Z"
   },
   {
    "duration": 182,
    "start_time": "2021-07-11T09:01:46.228Z"
   },
   {
    "duration": 41,
    "start_time": "2021-07-11T09:02:31.707Z"
   },
   {
    "duration": 49,
    "start_time": "2021-07-11T09:02:39.287Z"
   },
   {
    "duration": 10,
    "start_time": "2021-07-11T09:02:55.398Z"
   },
   {
    "duration": 76,
    "start_time": "2021-07-11T09:04:11.729Z"
   },
   {
    "duration": 718,
    "start_time": "2021-07-11T09:04:24.629Z"
   },
   {
    "duration": 88,
    "start_time": "2021-07-11T09:04:25.348Z"
   },
   {
    "duration": 9,
    "start_time": "2021-07-11T09:04:25.438Z"
   },
   {
    "duration": 8,
    "start_time": "2021-07-11T09:04:25.449Z"
   },
   {
    "duration": 64,
    "start_time": "2021-07-11T09:04:25.459Z"
   },
   {
    "duration": 22,
    "start_time": "2021-07-11T09:04:25.524Z"
   },
   {
    "duration": 10,
    "start_time": "2021-07-11T09:04:25.547Z"
   },
   {
    "duration": 103,
    "start_time": "2021-07-11T09:04:25.559Z"
   },
   {
    "duration": 36,
    "start_time": "2021-07-11T09:04:25.664Z"
   },
   {
    "duration": 28,
    "start_time": "2021-07-11T09:04:25.701Z"
   },
   {
    "duration": 9,
    "start_time": "2021-07-11T09:04:25.731Z"
   },
   {
    "duration": 75,
    "start_time": "2021-07-11T09:04:25.742Z"
   },
   {
    "duration": 418,
    "start_time": "2021-07-11T09:04:25.818Z"
   },
   {
    "duration": 56,
    "start_time": "2021-07-11T09:04:26.238Z"
   },
   {
    "duration": 16,
    "start_time": "2021-07-11T09:04:26.296Z"
   },
   {
    "duration": 313,
    "start_time": "2021-07-11T09:04:26.315Z"
   },
   {
    "duration": 276,
    "start_time": "2021-07-11T09:04:26.630Z"
   },
   {
    "duration": 291,
    "start_time": "2021-07-11T09:04:26.908Z"
   },
   {
    "duration": 269,
    "start_time": "2021-07-11T09:04:27.201Z"
   },
   {
    "duration": 261,
    "start_time": "2021-07-11T09:04:27.472Z"
   },
   {
    "duration": 5,
    "start_time": "2021-07-11T09:04:27.735Z"
   },
   {
    "duration": 515,
    "start_time": "2021-07-11T09:04:27.742Z"
   },
   {
    "duration": 487,
    "start_time": "2021-07-11T09:04:28.260Z"
   },
   {
    "duration": 496,
    "start_time": "2021-07-11T09:04:28.749Z"
   },
   {
    "duration": 486,
    "start_time": "2021-07-11T09:04:29.248Z"
   },
   {
    "duration": 517,
    "start_time": "2021-07-11T09:04:29.736Z"
   },
   {
    "duration": 492,
    "start_time": "2021-07-11T09:04:30.255Z"
   },
   {
    "duration": 496,
    "start_time": "2021-07-11T09:04:30.748Z"
   },
   {
    "duration": 7,
    "start_time": "2021-07-11T09:04:31.245Z"
   },
   {
    "duration": 10,
    "start_time": "2021-07-11T09:04:31.253Z"
   },
   {
    "duration": 30,
    "start_time": "2021-07-11T09:04:31.264Z"
   },
   {
    "duration": 25,
    "start_time": "2021-07-11T09:05:05.014Z"
   },
   {
    "duration": 22,
    "start_time": "2021-07-11T09:05:17.166Z"
   },
   {
    "duration": 11,
    "start_time": "2021-07-11T09:22:43.780Z"
   },
   {
    "duration": 10,
    "start_time": "2021-07-11T09:22:58.317Z"
   },
   {
    "duration": 11,
    "start_time": "2021-07-11T09:23:21.797Z"
   },
   {
    "duration": 13,
    "start_time": "2021-07-11T09:23:59.477Z"
   },
   {
    "duration": 12,
    "start_time": "2021-07-11T09:24:13.340Z"
   },
   {
    "duration": 712,
    "start_time": "2021-07-11T09:24:39.620Z"
   },
   {
    "duration": 81,
    "start_time": "2021-07-11T09:24:40.334Z"
   },
   {
    "duration": 8,
    "start_time": "2021-07-11T09:24:40.416Z"
   },
   {
    "duration": 7,
    "start_time": "2021-07-11T09:24:40.426Z"
   },
   {
    "duration": 66,
    "start_time": "2021-07-11T09:24:40.435Z"
   },
   {
    "duration": 22,
    "start_time": "2021-07-11T09:24:40.502Z"
   },
   {
    "duration": 15,
    "start_time": "2021-07-11T09:24:40.526Z"
   },
   {
    "duration": 100,
    "start_time": "2021-07-11T09:24:40.543Z"
   },
   {
    "duration": 21,
    "start_time": "2021-07-11T09:24:40.645Z"
   },
   {
    "duration": 39,
    "start_time": "2021-07-11T09:24:40.668Z"
   },
   {
    "duration": 10,
    "start_time": "2021-07-11T09:24:40.709Z"
   },
   {
    "duration": 45,
    "start_time": "2021-07-11T09:24:40.720Z"
   },
   {
    "duration": 405,
    "start_time": "2021-07-11T09:24:40.785Z"
   },
   {
    "duration": 38,
    "start_time": "2021-07-11T09:24:41.192Z"
   },
   {
    "duration": 13,
    "start_time": "2021-07-11T09:24:41.231Z"
   },
   {
    "duration": 311,
    "start_time": "2021-07-11T09:24:41.246Z"
   },
   {
    "duration": 263,
    "start_time": "2021-07-11T09:24:41.559Z"
   },
   {
    "duration": 262,
    "start_time": "2021-07-11T09:24:41.824Z"
   },
   {
    "duration": 250,
    "start_time": "2021-07-11T09:24:42.088Z"
   },
   {
    "duration": 257,
    "start_time": "2021-07-11T09:24:42.340Z"
   },
   {
    "duration": 5,
    "start_time": "2021-07-11T09:24:42.598Z"
   },
   {
    "duration": 521,
    "start_time": "2021-07-11T09:24:42.605Z"
   },
   {
    "duration": 512,
    "start_time": "2021-07-11T09:24:43.130Z"
   },
   {
    "duration": 500,
    "start_time": "2021-07-11T09:24:43.644Z"
   },
   {
    "duration": 477,
    "start_time": "2021-07-11T09:24:44.146Z"
   },
   {
    "duration": 488,
    "start_time": "2021-07-11T09:24:44.625Z"
   },
   {
    "duration": 465,
    "start_time": "2021-07-11T09:24:45.115Z"
   },
   {
    "duration": 487,
    "start_time": "2021-07-11T09:24:45.584Z"
   },
   {
    "duration": 12,
    "start_time": "2021-07-11T09:24:46.073Z"
   },
   {
    "duration": 9,
    "start_time": "2021-07-11T09:24:46.086Z"
   },
   {
    "duration": 17,
    "start_time": "2021-07-11T09:24:46.096Z"
   },
   {
    "duration": 20,
    "start_time": "2021-07-11T09:25:08.253Z"
   },
   {
    "duration": 17,
    "start_time": "2021-07-11T09:28:23.804Z"
   },
   {
    "duration": 19,
    "start_time": "2021-07-11T09:29:06.924Z"
   },
   {
    "duration": 24,
    "start_time": "2021-07-11T09:29:46.504Z"
   },
   {
    "duration": 23,
    "start_time": "2021-07-11T09:30:12.985Z"
   },
   {
    "duration": 21,
    "start_time": "2021-07-11T09:30:25.485Z"
   },
   {
    "duration": 24,
    "start_time": "2021-07-11T09:30:48.133Z"
   },
   {
    "duration": 8,
    "start_time": "2021-07-11T09:32:01.203Z"
   },
   {
    "duration": 21,
    "start_time": "2021-07-11T09:36:39.886Z"
   },
   {
    "duration": 21,
    "start_time": "2021-07-11T09:36:53.437Z"
   },
   {
    "duration": 62,
    "start_time": "2021-07-11T09:37:13.085Z"
   },
   {
    "duration": 24,
    "start_time": "2021-07-11T09:37:28.405Z"
   },
   {
    "duration": 683,
    "start_time": "2021-07-11T09:37:41.349Z"
   },
   {
    "duration": 77,
    "start_time": "2021-07-11T09:37:42.034Z"
   },
   {
    "duration": 8,
    "start_time": "2021-07-11T09:37:42.113Z"
   },
   {
    "duration": 9,
    "start_time": "2021-07-11T09:37:42.123Z"
   },
   {
    "duration": 67,
    "start_time": "2021-07-11T09:37:42.133Z"
   },
   {
    "duration": 22,
    "start_time": "2021-07-11T09:37:42.201Z"
   },
   {
    "duration": 16,
    "start_time": "2021-07-11T09:37:42.224Z"
   },
   {
    "duration": 96,
    "start_time": "2021-07-11T09:37:42.242Z"
   },
   {
    "duration": 20,
    "start_time": "2021-07-11T09:37:42.341Z"
   },
   {
    "duration": 40,
    "start_time": "2021-07-11T09:37:42.363Z"
   },
   {
    "duration": 8,
    "start_time": "2021-07-11T09:37:42.404Z"
   },
   {
    "duration": 47,
    "start_time": "2021-07-11T09:37:42.414Z"
   },
   {
    "duration": 414,
    "start_time": "2021-07-11T09:37:42.463Z"
   },
   {
    "duration": 43,
    "start_time": "2021-07-11T09:37:42.878Z"
   },
   {
    "duration": 13,
    "start_time": "2021-07-11T09:37:42.923Z"
   },
   {
    "duration": 295,
    "start_time": "2021-07-11T09:37:42.938Z"
   },
   {
    "duration": 270,
    "start_time": "2021-07-11T09:37:43.234Z"
   },
   {
    "duration": 259,
    "start_time": "2021-07-11T09:37:43.505Z"
   },
   {
    "duration": 246,
    "start_time": "2021-07-11T09:37:43.765Z"
   },
   {
    "duration": 261,
    "start_time": "2021-07-11T09:37:44.012Z"
   },
   {
    "duration": 11,
    "start_time": "2021-07-11T09:37:44.274Z"
   },
   {
    "duration": 23,
    "start_time": "2021-07-11T09:37:44.287Z"
   },
   {
    "duration": 7,
    "start_time": "2021-07-11T09:37:44.311Z"
   },
   {
    "duration": 514,
    "start_time": "2021-07-11T09:37:44.320Z"
   },
   {
    "duration": 521,
    "start_time": "2021-07-11T09:37:44.836Z"
   },
   {
    "duration": 493,
    "start_time": "2021-07-11T09:37:45.359Z"
   },
   {
    "duration": 468,
    "start_time": "2021-07-11T09:37:45.855Z"
   },
   {
    "duration": 476,
    "start_time": "2021-07-11T09:37:46.325Z"
   },
   {
    "duration": 459,
    "start_time": "2021-07-11T09:37:46.802Z"
   },
   {
    "duration": 502,
    "start_time": "2021-07-11T09:37:47.263Z"
   },
   {
    "duration": 6,
    "start_time": "2021-07-11T09:37:47.767Z"
   },
   {
    "duration": 17,
    "start_time": "2021-07-11T09:37:47.775Z"
   },
   {
    "duration": 18,
    "start_time": "2021-07-11T09:37:47.794Z"
   },
   {
    "duration": 60,
    "start_time": "2021-07-11T09:39:11.673Z"
   },
   {
    "duration": 50,
    "start_time": "2021-07-11T09:39:21.513Z"
   },
   {
    "duration": 48,
    "start_time": "2021-07-11T09:40:09.333Z"
   },
   {
    "duration": 49,
    "start_time": "2021-07-11T09:40:25.433Z"
   },
   {
    "duration": 57,
    "start_time": "2021-07-11T09:41:14.935Z"
   },
   {
    "duration": 742,
    "start_time": "2021-07-11T09:41:32.168Z"
   },
   {
    "duration": 77,
    "start_time": "2021-07-11T09:41:32.911Z"
   },
   {
    "duration": 8,
    "start_time": "2021-07-11T09:41:32.990Z"
   },
   {
    "duration": 9,
    "start_time": "2021-07-11T09:41:33.000Z"
   },
   {
    "duration": 43,
    "start_time": "2021-07-11T09:41:33.011Z"
   },
   {
    "duration": 49,
    "start_time": "2021-07-11T09:41:33.056Z"
   },
   {
    "duration": 16,
    "start_time": "2021-07-11T09:41:33.107Z"
   },
   {
    "duration": 102,
    "start_time": "2021-07-11T09:41:33.125Z"
   },
   {
    "duration": 21,
    "start_time": "2021-07-11T09:41:33.231Z"
   },
   {
    "duration": 49,
    "start_time": "2021-07-11T09:41:33.255Z"
   },
   {
    "duration": 9,
    "start_time": "2021-07-11T09:41:33.306Z"
   },
   {
    "duration": 53,
    "start_time": "2021-07-11T09:41:33.317Z"
   },
   {
    "duration": 406,
    "start_time": "2021-07-11T09:41:33.371Z"
   },
   {
    "duration": 42,
    "start_time": "2021-07-11T09:41:33.779Z"
   },
   {
    "duration": 15,
    "start_time": "2021-07-11T09:41:33.823Z"
   },
   {
    "duration": 318,
    "start_time": "2021-07-11T09:41:33.840Z"
   },
   {
    "duration": 271,
    "start_time": "2021-07-11T09:41:34.160Z"
   },
   {
    "duration": 266,
    "start_time": "2021-07-11T09:41:34.433Z"
   },
   {
    "duration": 259,
    "start_time": "2021-07-11T09:41:34.701Z"
   },
   {
    "duration": 259,
    "start_time": "2021-07-11T09:41:34.962Z"
   },
   {
    "duration": 7,
    "start_time": "2021-07-11T09:41:35.223Z"
   },
   {
    "duration": 24,
    "start_time": "2021-07-11T09:41:35.232Z"
   },
   {
    "duration": 80,
    "start_time": "2021-07-11T09:41:35.257Z"
   },
   {
    "duration": 500,
    "start_time": "2021-07-11T09:41:35.339Z"
   },
   {
    "duration": 520,
    "start_time": "2021-07-11T09:41:35.841Z"
   },
   {
    "duration": 481,
    "start_time": "2021-07-11T09:41:36.363Z"
   },
   {
    "duration": 464,
    "start_time": "2021-07-11T09:41:36.847Z"
   },
   {
    "duration": 463,
    "start_time": "2021-07-11T09:41:37.312Z"
   },
   {
    "duration": 483,
    "start_time": "2021-07-11T09:41:37.776Z"
   },
   {
    "duration": 494,
    "start_time": "2021-07-11T09:41:38.261Z"
   },
   {
    "duration": 6,
    "start_time": "2021-07-11T09:41:38.757Z"
   },
   {
    "duration": 20,
    "start_time": "2021-07-11T09:41:38.765Z"
   },
   {
    "duration": 9,
    "start_time": "2021-07-11T09:41:38.786Z"
   },
   {
    "duration": 55,
    "start_time": "2021-07-11T09:42:13.180Z"
   },
   {
    "duration": 22,
    "start_time": "2021-07-11T09:42:21.108Z"
   },
   {
    "duration": 54,
    "start_time": "2021-07-11T09:42:38.887Z"
   },
   {
    "duration": 45,
    "start_time": "2021-07-11T09:43:09.529Z"
   },
   {
    "duration": 14,
    "start_time": "2021-07-11T09:45:03.329Z"
   },
   {
    "duration": 7,
    "start_time": "2021-07-11T09:45:17.847Z"
   },
   {
    "duration": 710,
    "start_time": "2021-07-11T09:45:23.119Z"
   },
   {
    "duration": 87,
    "start_time": "2021-07-11T09:45:23.831Z"
   },
   {
    "duration": 9,
    "start_time": "2021-07-11T09:45:23.921Z"
   },
   {
    "duration": 15,
    "start_time": "2021-07-11T09:45:23.932Z"
   },
   {
    "duration": 62,
    "start_time": "2021-07-11T09:45:23.949Z"
   },
   {
    "duration": 22,
    "start_time": "2021-07-11T09:45:24.012Z"
   },
   {
    "duration": 15,
    "start_time": "2021-07-11T09:45:24.036Z"
   },
   {
    "duration": 100,
    "start_time": "2021-07-11T09:45:24.054Z"
   },
   {
    "duration": 30,
    "start_time": "2021-07-11T09:45:24.156Z"
   },
   {
    "duration": 29,
    "start_time": "2021-07-11T09:45:24.188Z"
   },
   {
    "duration": 9,
    "start_time": "2021-07-11T09:45:24.219Z"
   },
   {
    "duration": 73,
    "start_time": "2021-07-11T09:45:24.230Z"
   },
   {
    "duration": 417,
    "start_time": "2021-07-11T09:45:24.305Z"
   },
   {
    "duration": 41,
    "start_time": "2021-07-11T09:45:24.724Z"
   },
   {
    "duration": 30,
    "start_time": "2021-07-11T09:45:24.766Z"
   },
   {
    "duration": 325,
    "start_time": "2021-07-11T09:45:24.798Z"
   },
   {
    "duration": 278,
    "start_time": "2021-07-11T09:45:25.125Z"
   },
   {
    "duration": 278,
    "start_time": "2021-07-11T09:45:25.404Z"
   },
   {
    "duration": 267,
    "start_time": "2021-07-11T09:45:25.685Z"
   },
   {
    "duration": 287,
    "start_time": "2021-07-11T09:45:25.954Z"
   },
   {
    "duration": 7,
    "start_time": "2021-07-11T09:45:26.243Z"
   },
   {
    "duration": 43,
    "start_time": "2021-07-11T09:45:26.251Z"
   },
   {
    "duration": 15,
    "start_time": "2021-07-11T09:45:26.296Z"
   },
   {
    "duration": 7,
    "start_time": "2021-07-11T09:45:26.313Z"
   },
   {
    "duration": 529,
    "start_time": "2021-07-11T09:45:26.322Z"
   },
   {
    "duration": 511,
    "start_time": "2021-07-11T09:45:26.853Z"
   },
   {
    "duration": 512,
    "start_time": "2021-07-11T09:45:27.366Z"
   },
   {
    "duration": 437,
    "start_time": "2021-07-11T09:45:27.880Z"
   },
   {
    "duration": 467,
    "start_time": "2021-07-11T09:45:28.319Z"
   },
   {
    "duration": 463,
    "start_time": "2021-07-11T09:45:28.788Z"
   },
   {
    "duration": 502,
    "start_time": "2021-07-11T09:45:29.253Z"
   },
   {
    "duration": 7,
    "start_time": "2021-07-11T09:45:29.756Z"
   },
   {
    "duration": 19,
    "start_time": "2021-07-11T09:45:29.765Z"
   },
   {
    "duration": 8,
    "start_time": "2021-07-11T09:45:29.786Z"
   },
   {
    "duration": 18,
    "start_time": "2021-07-11T09:45:51.048Z"
   },
   {
    "duration": 8,
    "start_time": "2021-07-11T09:45:52.487Z"
   },
   {
    "duration": 267,
    "start_time": "2021-07-11T09:45:59.726Z"
   },
   {
    "duration": 8,
    "start_time": "2021-07-11T09:46:01.586Z"
   },
   {
    "duration": 17,
    "start_time": "2021-07-11T09:46:13.009Z"
   },
   {
    "duration": 8,
    "start_time": "2021-07-11T09:46:15.086Z"
   },
   {
    "duration": 19,
    "start_time": "2021-07-11T09:47:32.866Z"
   },
   {
    "duration": 176,
    "start_time": "2021-07-11T09:47:33.986Z"
   },
   {
    "duration": 189,
    "start_time": "2021-07-11T09:48:01.274Z"
   },
   {
    "duration": 188,
    "start_time": "2021-07-11T09:48:02.667Z"
   },
   {
    "duration": 727,
    "start_time": "2021-07-11T09:48:08.348Z"
   },
   {
    "duration": 80,
    "start_time": "2021-07-11T09:48:09.085Z"
   },
   {
    "duration": 23,
    "start_time": "2021-07-11T09:48:09.167Z"
   },
   {
    "duration": 9,
    "start_time": "2021-07-11T09:48:09.193Z"
   },
   {
    "duration": 48,
    "start_time": "2021-07-11T09:48:09.204Z"
   },
   {
    "duration": 48,
    "start_time": "2021-07-11T09:48:09.254Z"
   },
   {
    "duration": 17,
    "start_time": "2021-07-11T09:48:09.303Z"
   },
   {
    "duration": 98,
    "start_time": "2021-07-11T09:48:09.322Z"
   },
   {
    "duration": 21,
    "start_time": "2021-07-11T09:48:09.423Z"
   },
   {
    "duration": 40,
    "start_time": "2021-07-11T09:48:09.446Z"
   },
   {
    "duration": 10,
    "start_time": "2021-07-11T09:48:09.487Z"
   },
   {
    "duration": 58,
    "start_time": "2021-07-11T09:48:09.499Z"
   },
   {
    "duration": 417,
    "start_time": "2021-07-11T09:48:09.558Z"
   },
   {
    "duration": 47,
    "start_time": "2021-07-11T09:48:09.978Z"
   },
   {
    "duration": 15,
    "start_time": "2021-07-11T09:48:10.027Z"
   },
   {
    "duration": 310,
    "start_time": "2021-07-11T09:48:10.044Z"
   },
   {
    "duration": 277,
    "start_time": "2021-07-11T09:48:10.356Z"
   },
   {
    "duration": 268,
    "start_time": "2021-07-11T09:48:10.635Z"
   },
   {
    "duration": 252,
    "start_time": "2021-07-11T09:48:10.904Z"
   },
   {
    "duration": 262,
    "start_time": "2021-07-11T09:48:11.157Z"
   },
   {
    "duration": 5,
    "start_time": "2021-07-11T09:48:11.421Z"
   },
   {
    "duration": 37,
    "start_time": "2021-07-11T09:48:11.427Z"
   },
   {
    "duration": 22,
    "start_time": "2021-07-11T09:48:11.466Z"
   },
   {
    "duration": 6,
    "start_time": "2021-07-11T09:48:11.490Z"
   },
   {
    "duration": 504,
    "start_time": "2021-07-11T09:48:11.498Z"
   },
   {
    "duration": 509,
    "start_time": "2021-07-11T09:48:12.004Z"
   },
   {
    "duration": 541,
    "start_time": "2021-07-11T09:48:12.516Z"
   },
   {
    "duration": 457,
    "start_time": "2021-07-11T09:48:13.059Z"
   },
   {
    "duration": 471,
    "start_time": "2021-07-11T09:48:13.518Z"
   },
   {
    "duration": 473,
    "start_time": "2021-07-11T09:48:13.991Z"
   },
   {
    "duration": 506,
    "start_time": "2021-07-11T09:48:14.466Z"
   },
   {
    "duration": 13,
    "start_time": "2021-07-11T09:48:14.974Z"
   },
   {
    "duration": 7,
    "start_time": "2021-07-11T09:48:14.989Z"
   },
   {
    "duration": 12,
    "start_time": "2021-07-11T09:48:14.998Z"
   },
   {
    "duration": 53,
    "start_time": "2021-07-11T09:49:15.927Z"
   },
   {
    "duration": 7,
    "start_time": "2021-07-11T09:49:20.328Z"
   },
   {
    "duration": 14,
    "start_time": "2021-07-11T09:49:35.608Z"
   },
   {
    "duration": 8,
    "start_time": "2021-07-11T09:49:37.487Z"
   },
   {
    "duration": 18,
    "start_time": "2021-07-11T09:53:58.738Z"
   },
   {
    "duration": 236,
    "start_time": "2021-07-11T09:53:59.620Z"
   },
   {
    "duration": 192,
    "start_time": "2021-07-11T09:54:08.279Z"
   },
   {
    "duration": 759,
    "start_time": "2021-07-11T09:54:19.563Z"
   },
   {
    "duration": 82,
    "start_time": "2021-07-11T09:54:20.323Z"
   },
   {
    "duration": 8,
    "start_time": "2021-07-11T09:54:20.408Z"
   },
   {
    "duration": 9,
    "start_time": "2021-07-11T09:54:20.418Z"
   },
   {
    "duration": 73,
    "start_time": "2021-07-11T09:54:20.428Z"
   },
   {
    "duration": 21,
    "start_time": "2021-07-11T09:54:20.502Z"
   },
   {
    "duration": 15,
    "start_time": "2021-07-11T09:54:20.525Z"
   },
   {
    "duration": 103,
    "start_time": "2021-07-11T09:54:20.542Z"
   },
   {
    "duration": 22,
    "start_time": "2021-07-11T09:54:20.647Z"
   },
   {
    "duration": 39,
    "start_time": "2021-07-11T09:54:20.671Z"
   },
   {
    "duration": 8,
    "start_time": "2021-07-11T09:54:20.711Z"
   },
   {
    "duration": 64,
    "start_time": "2021-07-11T09:54:20.721Z"
   },
   {
    "duration": 403,
    "start_time": "2021-07-11T09:54:20.787Z"
   },
   {
    "duration": 42,
    "start_time": "2021-07-11T09:54:21.192Z"
   },
   {
    "duration": 13,
    "start_time": "2021-07-11T09:54:21.236Z"
   },
   {
    "duration": 315,
    "start_time": "2021-07-11T09:54:21.250Z"
   },
   {
    "duration": 271,
    "start_time": "2021-07-11T09:54:21.567Z"
   },
   {
    "duration": 264,
    "start_time": "2021-07-11T09:54:21.840Z"
   },
   {
    "duration": 257,
    "start_time": "2021-07-11T09:54:22.106Z"
   },
   {
    "duration": 262,
    "start_time": "2021-07-11T09:54:22.365Z"
   },
   {
    "duration": 5,
    "start_time": "2021-07-11T09:54:22.629Z"
   },
   {
    "duration": 23,
    "start_time": "2021-07-11T09:54:22.635Z"
   },
   {
    "duration": 36,
    "start_time": "2021-07-11T09:54:22.659Z"
   },
   {
    "duration": 248,
    "start_time": "2021-07-11T09:54:22.696Z"
   },
   {
    "duration": -116,
    "start_time": "2021-07-11T09:54:23.062Z"
   },
   {
    "duration": -142,
    "start_time": "2021-07-11T09:54:23.089Z"
   },
   {
    "duration": -144,
    "start_time": "2021-07-11T09:54:23.092Z"
   },
   {
    "duration": -147,
    "start_time": "2021-07-11T09:54:23.096Z"
   },
   {
    "duration": -149,
    "start_time": "2021-07-11T09:54:23.099Z"
   },
   {
    "duration": -151,
    "start_time": "2021-07-11T09:54:23.102Z"
   },
   {
    "duration": -163,
    "start_time": "2021-07-11T09:54:23.115Z"
   },
   {
    "duration": -165,
    "start_time": "2021-07-11T09:54:23.118Z"
   },
   {
    "duration": -209,
    "start_time": "2021-07-11T09:54:23.162Z"
   },
   {
    "duration": -211,
    "start_time": "2021-07-11T09:54:23.165Z"
   },
   {
    "duration": 177,
    "start_time": "2021-07-11T09:57:42.864Z"
   },
   {
    "duration": 65,
    "start_time": "2021-07-11T09:57:48.364Z"
   },
   {
    "duration": 177,
    "start_time": "2021-07-11T09:57:53.904Z"
   },
   {
    "duration": 719,
    "start_time": "2021-07-11T09:58:00.424Z"
   },
   {
    "duration": 89,
    "start_time": "2021-07-11T09:58:01.145Z"
   },
   {
    "duration": 8,
    "start_time": "2021-07-11T09:58:01.236Z"
   },
   {
    "duration": 8,
    "start_time": "2021-07-11T09:58:01.246Z"
   },
   {
    "duration": 68,
    "start_time": "2021-07-11T09:58:01.256Z"
   },
   {
    "duration": 21,
    "start_time": "2021-07-11T09:58:01.326Z"
   },
   {
    "duration": 44,
    "start_time": "2021-07-11T09:58:01.348Z"
   },
   {
    "duration": 71,
    "start_time": "2021-07-11T09:58:01.394Z"
   },
   {
    "duration": 33,
    "start_time": "2021-07-11T09:58:01.467Z"
   },
   {
    "duration": 29,
    "start_time": "2021-07-11T09:58:01.502Z"
   },
   {
    "duration": 10,
    "start_time": "2021-07-11T09:58:01.532Z"
   },
   {
    "duration": 85,
    "start_time": "2021-07-11T09:58:01.544Z"
   },
   {
    "duration": 420,
    "start_time": "2021-07-11T09:58:01.631Z"
   },
   {
    "duration": 50,
    "start_time": "2021-07-11T09:58:02.052Z"
   },
   {
    "duration": 13,
    "start_time": "2021-07-11T09:58:02.104Z"
   },
   {
    "duration": 310,
    "start_time": "2021-07-11T09:58:02.118Z"
   },
   {
    "duration": 279,
    "start_time": "2021-07-11T09:58:02.429Z"
   },
   {
    "duration": 268,
    "start_time": "2021-07-11T09:58:02.710Z"
   },
   {
    "duration": 256,
    "start_time": "2021-07-11T09:58:02.980Z"
   },
   {
    "duration": 259,
    "start_time": "2021-07-11T09:58:03.238Z"
   },
   {
    "duration": 5,
    "start_time": "2021-07-11T09:58:03.499Z"
   },
   {
    "duration": 32,
    "start_time": "2021-07-11T09:58:03.506Z"
   },
   {
    "duration": 14,
    "start_time": "2021-07-11T09:58:03.540Z"
   },
   {
    "duration": 8,
    "start_time": "2021-07-11T09:58:03.555Z"
   },
   {
    "duration": 482,
    "start_time": "2021-07-11T09:58:03.585Z"
   },
   {
    "duration": 487,
    "start_time": "2021-07-11T09:58:04.069Z"
   },
   {
    "duration": 492,
    "start_time": "2021-07-11T09:58:04.560Z"
   },
   {
    "duration": 476,
    "start_time": "2021-07-11T09:58:05.054Z"
   },
   {
    "duration": 534,
    "start_time": "2021-07-11T09:58:05.532Z"
   },
   {
    "duration": 496,
    "start_time": "2021-07-11T09:58:06.068Z"
   },
   {
    "duration": 493,
    "start_time": "2021-07-11T09:58:06.566Z"
   },
   {
    "duration": 7,
    "start_time": "2021-07-11T09:58:07.061Z"
   },
   {
    "duration": 18,
    "start_time": "2021-07-11T09:58:07.070Z"
   },
   {
    "duration": 9,
    "start_time": "2021-07-11T09:58:07.090Z"
   },
   {
    "duration": 20,
    "start_time": "2021-07-11T09:58:27.943Z"
   },
   {
    "duration": 723,
    "start_time": "2021-07-11T09:58:36.285Z"
   },
   {
    "duration": 78,
    "start_time": "2021-07-11T09:58:37.010Z"
   },
   {
    "duration": 9,
    "start_time": "2021-07-11T09:58:37.090Z"
   },
   {
    "duration": 8,
    "start_time": "2021-07-11T09:58:37.101Z"
   },
   {
    "duration": 43,
    "start_time": "2021-07-11T09:58:37.110Z"
   },
   {
    "duration": 49,
    "start_time": "2021-07-11T09:58:37.154Z"
   },
   {
    "duration": 16,
    "start_time": "2021-07-11T09:58:37.205Z"
   },
   {
    "duration": 97,
    "start_time": "2021-07-11T09:58:37.222Z"
   },
   {
    "duration": 21,
    "start_time": "2021-07-11T09:58:37.322Z"
   },
   {
    "duration": 43,
    "start_time": "2021-07-11T09:58:37.345Z"
   },
   {
    "duration": 8,
    "start_time": "2021-07-11T09:58:37.390Z"
   },
   {
    "duration": 47,
    "start_time": "2021-07-11T09:58:37.400Z"
   },
   {
    "duration": 419,
    "start_time": "2021-07-11T09:58:37.449Z"
   },
   {
    "duration": 46,
    "start_time": "2021-07-11T09:58:37.869Z"
   },
   {
    "duration": 13,
    "start_time": "2021-07-11T09:58:37.917Z"
   },
   {
    "duration": 318,
    "start_time": "2021-07-11T09:58:37.932Z"
   },
   {
    "duration": 285,
    "start_time": "2021-07-11T09:58:38.252Z"
   },
   {
    "duration": 267,
    "start_time": "2021-07-11T09:58:38.538Z"
   },
   {
    "duration": 266,
    "start_time": "2021-07-11T09:58:38.807Z"
   },
   {
    "duration": 266,
    "start_time": "2021-07-11T09:58:39.075Z"
   },
   {
    "duration": 6,
    "start_time": "2021-07-11T09:58:39.343Z"
   },
   {
    "duration": 45,
    "start_time": "2021-07-11T09:58:39.351Z"
   },
   {
    "duration": 17,
    "start_time": "2021-07-11T09:58:39.398Z"
   },
   {
    "duration": 7,
    "start_time": "2021-07-11T09:58:39.417Z"
   },
   {
    "duration": 530,
    "start_time": "2021-07-11T09:58:39.425Z"
   },
   {
    "duration": 491,
    "start_time": "2021-07-11T09:58:39.956Z"
   },
   {
    "duration": 485,
    "start_time": "2021-07-11T09:58:40.450Z"
   },
   {
    "duration": 487,
    "start_time": "2021-07-11T09:58:40.937Z"
   },
   {
    "duration": 536,
    "start_time": "2021-07-11T09:58:41.425Z"
   },
   {
    "duration": 509,
    "start_time": "2021-07-11T09:58:41.963Z"
   },
   {
    "duration": 486,
    "start_time": "2021-07-11T09:58:42.474Z"
   },
   {
    "duration": 7,
    "start_time": "2021-07-11T09:58:42.962Z"
   },
   {
    "duration": 20,
    "start_time": "2021-07-11T09:58:42.970Z"
   },
   {
    "duration": 9,
    "start_time": "2021-07-11T09:58:42.991Z"
   },
   {
    "duration": 21,
    "start_time": "2021-07-11T09:59:26.685Z"
   },
   {
    "duration": 21,
    "start_time": "2021-07-11T09:59:36.587Z"
   },
   {
    "duration": 22,
    "start_time": "2021-07-11T09:59:45.524Z"
   },
   {
    "duration": 21,
    "start_time": "2021-07-11T09:59:55.765Z"
   },
   {
    "duration": 786,
    "start_time": "2021-07-11T10:00:10.073Z"
   },
   {
    "duration": 82,
    "start_time": "2021-07-11T10:00:10.860Z"
   },
   {
    "duration": 9,
    "start_time": "2021-07-11T10:00:10.944Z"
   },
   {
    "duration": 8,
    "start_time": "2021-07-11T10:00:10.955Z"
   },
   {
    "duration": 63,
    "start_time": "2021-07-11T10:00:10.965Z"
   },
   {
    "duration": 20,
    "start_time": "2021-07-11T10:00:11.029Z"
   },
   {
    "duration": 48,
    "start_time": "2021-07-11T10:00:11.051Z"
   },
   {
    "duration": 69,
    "start_time": "2021-07-11T10:00:11.102Z"
   },
   {
    "duration": 31,
    "start_time": "2021-07-11T10:00:11.173Z"
   },
   {
    "duration": 28,
    "start_time": "2021-07-11T10:00:11.206Z"
   },
   {
    "duration": 10,
    "start_time": "2021-07-11T10:00:11.236Z"
   },
   {
    "duration": 73,
    "start_time": "2021-07-11T10:00:11.248Z"
   },
   {
    "duration": 416,
    "start_time": "2021-07-11T10:00:11.323Z"
   },
   {
    "duration": 47,
    "start_time": "2021-07-11T10:00:11.741Z"
   },
   {
    "duration": 14,
    "start_time": "2021-07-11T10:00:11.789Z"
   },
   {
    "duration": 305,
    "start_time": "2021-07-11T10:00:11.805Z"
   },
   {
    "duration": 281,
    "start_time": "2021-07-11T10:00:12.111Z"
   },
   {
    "duration": 281,
    "start_time": "2021-07-11T10:00:12.394Z"
   },
   {
    "duration": 275,
    "start_time": "2021-07-11T10:00:12.677Z"
   },
   {
    "duration": 265,
    "start_time": "2021-07-11T10:00:12.954Z"
   },
   {
    "duration": 5,
    "start_time": "2021-07-11T10:00:13.220Z"
   },
   {
    "duration": 25,
    "start_time": "2021-07-11T10:00:13.227Z"
   },
   {
    "duration": 40,
    "start_time": "2021-07-11T10:00:13.255Z"
   },
   {
    "duration": 10,
    "start_time": "2021-07-11T10:00:13.297Z"
   },
   {
    "duration": 567,
    "start_time": "2021-07-11T10:00:13.310Z"
   },
   {
    "duration": 488,
    "start_time": "2021-07-11T10:00:13.879Z"
   },
   {
    "duration": 501,
    "start_time": "2021-07-11T10:00:14.369Z"
   },
   {
    "duration": 475,
    "start_time": "2021-07-11T10:00:14.871Z"
   },
   {
    "duration": 515,
    "start_time": "2021-07-11T10:00:15.347Z"
   },
   {
    "duration": 499,
    "start_time": "2021-07-11T10:00:15.864Z"
   },
   {
    "duration": 498,
    "start_time": "2021-07-11T10:00:16.365Z"
   },
   {
    "duration": 6,
    "start_time": "2021-07-11T10:00:16.864Z"
   },
   {
    "duration": 19,
    "start_time": "2021-07-11T10:00:16.872Z"
   },
   {
    "duration": 14,
    "start_time": "2021-07-11T10:00:16.893Z"
   },
   {
    "duration": 24,
    "start_time": "2021-07-11T10:57:39.893Z"
   },
   {
    "duration": 732,
    "start_time": "2021-07-11T10:57:45.794Z"
   },
   {
    "duration": 86,
    "start_time": "2021-07-11T10:57:46.528Z"
   },
   {
    "duration": 8,
    "start_time": "2021-07-11T10:57:46.616Z"
   },
   {
    "duration": 8,
    "start_time": "2021-07-11T10:57:46.626Z"
   },
   {
    "duration": 61,
    "start_time": "2021-07-11T10:57:46.636Z"
   },
   {
    "duration": 20,
    "start_time": "2021-07-11T10:57:46.698Z"
   },
   {
    "duration": 14,
    "start_time": "2021-07-11T10:57:46.720Z"
   },
   {
    "duration": 94,
    "start_time": "2021-07-11T10:57:46.736Z"
   },
   {
    "duration": 22,
    "start_time": "2021-07-11T10:57:46.832Z"
   },
   {
    "duration": 43,
    "start_time": "2021-07-11T10:57:46.856Z"
   },
   {
    "duration": 10,
    "start_time": "2021-07-11T10:57:46.901Z"
   },
   {
    "duration": 49,
    "start_time": "2021-07-11T10:57:46.912Z"
   },
   {
    "duration": 418,
    "start_time": "2021-07-11T10:57:46.963Z"
   },
   {
    "duration": 38,
    "start_time": "2021-07-11T10:57:47.385Z"
   },
   {
    "duration": 13,
    "start_time": "2021-07-11T10:57:47.425Z"
   },
   {
    "duration": 309,
    "start_time": "2021-07-11T10:57:47.440Z"
   },
   {
    "duration": 272,
    "start_time": "2021-07-11T10:57:47.751Z"
   },
   {
    "duration": 275,
    "start_time": "2021-07-11T10:57:48.025Z"
   },
   {
    "duration": 248,
    "start_time": "2021-07-11T10:57:48.301Z"
   },
   {
    "duration": 261,
    "start_time": "2021-07-11T10:57:48.551Z"
   },
   {
    "duration": 5,
    "start_time": "2021-07-11T10:57:48.813Z"
   },
   {
    "duration": 25,
    "start_time": "2021-07-11T10:57:48.820Z"
   },
   {
    "duration": 39,
    "start_time": "2021-07-11T10:57:48.846Z"
   },
   {
    "duration": 6,
    "start_time": "2021-07-11T10:57:48.887Z"
   },
   {
    "duration": 527,
    "start_time": "2021-07-11T10:57:48.895Z"
   },
   {
    "duration": 547,
    "start_time": "2021-07-11T10:57:49.424Z"
   },
   {
    "duration": 555,
    "start_time": "2021-07-11T10:57:49.973Z"
   },
   {
    "duration": 492,
    "start_time": "2021-07-11T10:57:50.530Z"
   },
   {
    "duration": 474,
    "start_time": "2021-07-11T10:57:51.024Z"
   },
   {
    "duration": 458,
    "start_time": "2021-07-11T10:57:51.500Z"
   },
   {
    "duration": 487,
    "start_time": "2021-07-11T10:57:51.959Z"
   },
   {
    "duration": 6,
    "start_time": "2021-07-11T10:57:52.448Z"
   },
   {
    "duration": 8,
    "start_time": "2021-07-11T10:57:52.455Z"
   },
   {
    "duration": 24,
    "start_time": "2021-07-11T10:57:52.465Z"
   },
   {
    "duration": 25,
    "start_time": "2021-07-11T10:58:51.784Z"
   },
   {
    "duration": 694,
    "start_time": "2021-07-11T10:58:56.619Z"
   },
   {
    "duration": 81,
    "start_time": "2021-07-11T10:58:57.314Z"
   },
   {
    "duration": 8,
    "start_time": "2021-07-11T10:58:57.396Z"
   },
   {
    "duration": 9,
    "start_time": "2021-07-11T10:58:57.405Z"
   },
   {
    "duration": 69,
    "start_time": "2021-07-11T10:58:57.416Z"
   },
   {
    "duration": 21,
    "start_time": "2021-07-11T10:58:57.487Z"
   },
   {
    "duration": 16,
    "start_time": "2021-07-11T10:58:57.510Z"
   },
   {
    "duration": 98,
    "start_time": "2021-07-11T10:58:57.527Z"
   },
   {
    "duration": 21,
    "start_time": "2021-07-11T10:58:57.628Z"
   },
   {
    "duration": 43,
    "start_time": "2021-07-11T10:58:57.651Z"
   },
   {
    "duration": 8,
    "start_time": "2021-07-11T10:58:57.696Z"
   },
   {
    "duration": 47,
    "start_time": "2021-07-11T10:58:57.706Z"
   },
   {
    "duration": 414,
    "start_time": "2021-07-11T10:58:57.754Z"
   },
   {
    "duration": 45,
    "start_time": "2021-07-11T10:58:58.169Z"
   },
   {
    "duration": 12,
    "start_time": "2021-07-11T10:58:58.216Z"
   },
   {
    "duration": 311,
    "start_time": "2021-07-11T10:58:58.230Z"
   },
   {
    "duration": 271,
    "start_time": "2021-07-11T10:58:58.543Z"
   },
   {
    "duration": 271,
    "start_time": "2021-07-11T10:58:58.815Z"
   },
   {
    "duration": 260,
    "start_time": "2021-07-11T10:58:59.088Z"
   },
   {
    "duration": 267,
    "start_time": "2021-07-11T10:58:59.351Z"
   },
   {
    "duration": 6,
    "start_time": "2021-07-11T10:58:59.620Z"
   },
   {
    "duration": 25,
    "start_time": "2021-07-11T10:58:59.628Z"
   },
   {
    "duration": 43,
    "start_time": "2021-07-11T10:58:59.655Z"
   },
   {
    "duration": 8,
    "start_time": "2021-07-11T10:58:59.700Z"
   },
   {
    "duration": 532,
    "start_time": "2021-07-11T10:58:59.710Z"
   },
   {
    "duration": 516,
    "start_time": "2021-07-11T10:59:00.243Z"
   },
   {
    "duration": 493,
    "start_time": "2021-07-11T10:59:00.764Z"
   },
   {
    "duration": 532,
    "start_time": "2021-07-11T10:59:01.259Z"
   },
   {
    "duration": 481,
    "start_time": "2021-07-11T10:59:01.793Z"
   },
   {
    "duration": 475,
    "start_time": "2021-07-11T10:59:02.276Z"
   },
   {
    "duration": 506,
    "start_time": "2021-07-11T10:59:02.753Z"
   },
   {
    "duration": 7,
    "start_time": "2021-07-11T10:59:03.261Z"
   },
   {
    "duration": 15,
    "start_time": "2021-07-11T10:59:03.270Z"
   },
   {
    "duration": 9,
    "start_time": "2021-07-11T10:59:03.287Z"
   },
   {
    "duration": 26,
    "start_time": "2021-07-11T11:00:46.739Z"
   },
   {
    "duration": 28,
    "start_time": "2021-07-11T11:00:56.199Z"
   },
   {
    "duration": 25,
    "start_time": "2021-07-11T11:03:18.496Z"
   },
   {
    "duration": 699,
    "start_time": "2021-07-11T11:03:25.637Z"
   },
   {
    "duration": 84,
    "start_time": "2021-07-11T11:03:26.338Z"
   },
   {
    "duration": 8,
    "start_time": "2021-07-11T11:03:26.424Z"
   },
   {
    "duration": 9,
    "start_time": "2021-07-11T11:03:26.434Z"
   },
   {
    "duration": 63,
    "start_time": "2021-07-11T11:03:26.445Z"
   },
   {
    "duration": 22,
    "start_time": "2021-07-11T11:03:26.511Z"
   },
   {
    "duration": 17,
    "start_time": "2021-07-11T11:03:26.535Z"
   },
   {
    "duration": 72,
    "start_time": "2021-07-11T11:03:26.585Z"
   },
   {
    "duration": 35,
    "start_time": "2021-07-11T11:03:26.661Z"
   },
   {
    "duration": 28,
    "start_time": "2021-07-11T11:03:26.698Z"
   },
   {
    "duration": 8,
    "start_time": "2021-07-11T11:03:26.728Z"
   },
   {
    "duration": 72,
    "start_time": "2021-07-11T11:03:26.738Z"
   },
   {
    "duration": 423,
    "start_time": "2021-07-11T11:03:26.812Z"
   },
   {
    "duration": 48,
    "start_time": "2021-07-11T11:03:27.237Z"
   },
   {
    "duration": 13,
    "start_time": "2021-07-11T11:03:27.287Z"
   },
   {
    "duration": 312,
    "start_time": "2021-07-11T11:03:27.301Z"
   },
   {
    "duration": 282,
    "start_time": "2021-07-11T11:03:27.615Z"
   },
   {
    "duration": 261,
    "start_time": "2021-07-11T11:03:27.898Z"
   },
   {
    "duration": 252,
    "start_time": "2021-07-11T11:03:28.160Z"
   },
   {
    "duration": 251,
    "start_time": "2021-07-11T11:03:28.413Z"
   },
   {
    "duration": 5,
    "start_time": "2021-07-11T11:03:28.665Z"
   },
   {
    "duration": 34,
    "start_time": "2021-07-11T11:03:28.672Z"
   },
   {
    "duration": 18,
    "start_time": "2021-07-11T11:03:28.707Z"
   },
   {
    "duration": 8,
    "start_time": "2021-07-11T11:03:28.727Z"
   },
   {
    "duration": 512,
    "start_time": "2021-07-11T11:03:28.736Z"
   },
   {
    "duration": 528,
    "start_time": "2021-07-11T11:03:29.250Z"
   },
   {
    "duration": 506,
    "start_time": "2021-07-11T11:03:29.781Z"
   },
   {
    "duration": 463,
    "start_time": "2021-07-11T11:03:30.289Z"
   },
   {
    "duration": 496,
    "start_time": "2021-07-11T11:03:30.754Z"
   },
   {
    "duration": 499,
    "start_time": "2021-07-11T11:03:31.253Z"
   },
   {
    "duration": 506,
    "start_time": "2021-07-11T11:03:31.754Z"
   },
   {
    "duration": 7,
    "start_time": "2021-07-11T11:03:32.261Z"
   },
   {
    "duration": 20,
    "start_time": "2021-07-11T11:03:32.270Z"
   },
   {
    "duration": 10,
    "start_time": "2021-07-11T11:03:32.292Z"
   },
   {
    "duration": 62,
    "start_time": "2021-07-11T11:05:09.537Z"
   },
   {
    "duration": 68,
    "start_time": "2021-07-11T11:05:24.579Z"
   },
   {
    "duration": 24,
    "start_time": "2021-07-11T11:05:49.046Z"
   },
   {
    "duration": 24,
    "start_time": "2021-07-11T11:05:57.565Z"
   },
   {
    "duration": 26,
    "start_time": "2021-07-11T11:06:21.938Z"
   },
   {
    "duration": 25,
    "start_time": "2021-07-11T11:06:28.700Z"
   },
   {
    "duration": 25,
    "start_time": "2021-07-11T11:07:00.179Z"
   },
   {
    "duration": 24,
    "start_time": "2021-07-11T11:07:09.381Z"
   },
   {
    "duration": 27,
    "start_time": "2021-07-11T11:07:20.564Z"
   },
   {
    "duration": 63,
    "start_time": "2021-07-11T11:07:51.024Z"
   },
   {
    "duration": 26,
    "start_time": "2021-07-11T11:08:14.354Z"
   },
   {
    "duration": 717,
    "start_time": "2021-07-11T11:08:21.396Z"
   },
   {
    "duration": 86,
    "start_time": "2021-07-11T11:08:22.115Z"
   },
   {
    "duration": 8,
    "start_time": "2021-07-11T11:08:22.203Z"
   },
   {
    "duration": 7,
    "start_time": "2021-07-11T11:08:22.213Z"
   },
   {
    "duration": 67,
    "start_time": "2021-07-11T11:08:22.222Z"
   },
   {
    "duration": 22,
    "start_time": "2021-07-11T11:08:22.290Z"
   },
   {
    "duration": 16,
    "start_time": "2021-07-11T11:08:22.314Z"
   },
   {
    "duration": 104,
    "start_time": "2021-07-11T11:08:22.332Z"
   },
   {
    "duration": 21,
    "start_time": "2021-07-11T11:08:22.439Z"
   },
   {
    "duration": 43,
    "start_time": "2021-07-11T11:08:22.462Z"
   },
   {
    "duration": 9,
    "start_time": "2021-07-11T11:08:22.507Z"
   },
   {
    "duration": 46,
    "start_time": "2021-07-11T11:08:22.518Z"
   },
   {
    "duration": 421,
    "start_time": "2021-07-11T11:08:22.566Z"
   },
   {
    "duration": 39,
    "start_time": "2021-07-11T11:08:22.988Z"
   },
   {
    "duration": 13,
    "start_time": "2021-07-11T11:08:23.029Z"
   },
   {
    "duration": 360,
    "start_time": "2021-07-11T11:08:23.044Z"
   },
   {
    "duration": 268,
    "start_time": "2021-07-11T11:08:23.406Z"
   },
   {
    "duration": 288,
    "start_time": "2021-07-11T11:08:23.676Z"
   },
   {
    "duration": 284,
    "start_time": "2021-07-11T11:08:23.966Z"
   },
   {
    "duration": 280,
    "start_time": "2021-07-11T11:08:24.251Z"
   },
   {
    "duration": 5,
    "start_time": "2021-07-11T11:08:24.532Z"
   },
   {
    "duration": 35,
    "start_time": "2021-07-11T11:08:24.539Z"
   },
   {
    "duration": 25,
    "start_time": "2021-07-11T11:08:24.576Z"
   },
   {
    "duration": 8,
    "start_time": "2021-07-11T11:08:24.603Z"
   },
   {
    "duration": 526,
    "start_time": "2021-07-11T11:08:24.613Z"
   },
   {
    "duration": 511,
    "start_time": "2021-07-11T11:08:25.141Z"
   },
   {
    "duration": 503,
    "start_time": "2021-07-11T11:08:25.655Z"
   },
   {
    "duration": 461,
    "start_time": "2021-07-11T11:08:26.160Z"
   },
   {
    "duration": 471,
    "start_time": "2021-07-11T11:08:26.622Z"
   },
   {
    "duration": 462,
    "start_time": "2021-07-11T11:08:27.095Z"
   },
   {
    "duration": 480,
    "start_time": "2021-07-11T11:08:27.559Z"
   },
   {
    "duration": 6,
    "start_time": "2021-07-11T11:08:28.041Z"
   },
   {
    "duration": 16,
    "start_time": "2021-07-11T11:08:28.048Z"
   },
   {
    "duration": 18,
    "start_time": "2021-07-11T11:08:28.066Z"
   },
   {
    "duration": 258,
    "start_time": "2021-07-11T11:10:39.101Z"
   },
   {
    "duration": 196,
    "start_time": "2021-07-11T11:10:52.824Z"
   },
   {
    "duration": 738,
    "start_time": "2021-07-11T11:10:59.696Z"
   },
   {
    "duration": 84,
    "start_time": "2021-07-11T11:11:00.436Z"
   },
   {
    "duration": 9,
    "start_time": "2021-07-11T11:11:00.522Z"
   },
   {
    "duration": 10,
    "start_time": "2021-07-11T11:11:00.533Z"
   },
   {
    "duration": 63,
    "start_time": "2021-07-11T11:11:00.545Z"
   },
   {
    "duration": 22,
    "start_time": "2021-07-11T11:11:00.610Z"
   },
   {
    "duration": 15,
    "start_time": "2021-07-11T11:11:00.634Z"
   },
   {
    "duration": 99,
    "start_time": "2021-07-11T11:11:00.651Z"
   },
   {
    "duration": 37,
    "start_time": "2021-07-11T11:11:00.753Z"
   },
   {
    "duration": 28,
    "start_time": "2021-07-11T11:11:00.792Z"
   },
   {
    "duration": 8,
    "start_time": "2021-07-11T11:11:00.821Z"
   },
   {
    "duration": 64,
    "start_time": "2021-07-11T11:11:00.831Z"
   },
   {
    "duration": 407,
    "start_time": "2021-07-11T11:11:00.896Z"
   },
   {
    "duration": 39,
    "start_time": "2021-07-11T11:11:01.305Z"
   },
   {
    "duration": 14,
    "start_time": "2021-07-11T11:11:01.345Z"
   },
   {
    "duration": 318,
    "start_time": "2021-07-11T11:11:01.361Z"
   },
   {
    "duration": 271,
    "start_time": "2021-07-11T11:11:01.680Z"
   },
   {
    "duration": 310,
    "start_time": "2021-07-11T11:11:01.953Z"
   },
   {
    "duration": 247,
    "start_time": "2021-07-11T11:11:02.265Z"
   },
   {
    "duration": 253,
    "start_time": "2021-07-11T11:11:02.513Z"
   },
   {
    "duration": 17,
    "start_time": "2021-07-11T11:11:02.768Z"
   },
   {
    "duration": 3,
    "start_time": "2021-07-11T11:11:02.787Z"
   },
   {
    "duration": 30,
    "start_time": "2021-07-11T11:11:02.792Z"
   },
   {
    "duration": 19,
    "start_time": "2021-07-11T11:11:02.823Z"
   },
   {
    "duration": 5,
    "start_time": "2021-07-11T11:11:02.844Z"
   },
   {
    "duration": 492,
    "start_time": "2021-07-11T11:11:02.853Z"
   },
   {
    "duration": 493,
    "start_time": "2021-07-11T11:11:03.347Z"
   },
   {
    "duration": 510,
    "start_time": "2021-07-11T11:11:03.842Z"
   },
   {
    "duration": 462,
    "start_time": "2021-07-11T11:11:04.354Z"
   },
   {
    "duration": 469,
    "start_time": "2021-07-11T11:11:04.818Z"
   },
   {
    "duration": 466,
    "start_time": "2021-07-11T11:11:05.288Z"
   },
   {
    "duration": 496,
    "start_time": "2021-07-11T11:11:05.756Z"
   },
   {
    "duration": 6,
    "start_time": "2021-07-11T11:11:06.253Z"
   },
   {
    "duration": 7,
    "start_time": "2021-07-11T11:11:06.261Z"
   },
   {
    "duration": 9,
    "start_time": "2021-07-11T11:11:06.284Z"
   },
   {
    "duration": 27,
    "start_time": "2021-07-11T11:11:21.041Z"
   },
   {
    "duration": 26,
    "start_time": "2021-07-11T11:11:43.834Z"
   },
   {
    "duration": 26,
    "start_time": "2021-07-11T11:11:59.691Z"
   },
   {
    "duration": 744,
    "start_time": "2021-07-11T11:12:04.758Z"
   },
   {
    "duration": 83,
    "start_time": "2021-07-11T11:12:05.504Z"
   },
   {
    "duration": 8,
    "start_time": "2021-07-11T11:12:05.589Z"
   },
   {
    "duration": 9,
    "start_time": "2021-07-11T11:12:05.598Z"
   },
   {
    "duration": 44,
    "start_time": "2021-07-11T11:12:05.609Z"
   },
   {
    "duration": 52,
    "start_time": "2021-07-11T11:12:05.655Z"
   },
   {
    "duration": 16,
    "start_time": "2021-07-11T11:12:05.708Z"
   },
   {
    "duration": 95,
    "start_time": "2021-07-11T11:12:05.727Z"
   },
   {
    "duration": 20,
    "start_time": "2021-07-11T11:12:05.824Z"
   },
   {
    "duration": 44,
    "start_time": "2021-07-11T11:12:05.846Z"
   },
   {
    "duration": 11,
    "start_time": "2021-07-11T11:12:05.893Z"
   },
   {
    "duration": 47,
    "start_time": "2021-07-11T11:12:05.906Z"
   },
   {
    "duration": 445,
    "start_time": "2021-07-11T11:12:05.955Z"
   },
   {
    "duration": 39,
    "start_time": "2021-07-11T11:12:06.402Z"
   },
   {
    "duration": 15,
    "start_time": "2021-07-11T11:12:06.443Z"
   },
   {
    "duration": 309,
    "start_time": "2021-07-11T11:12:06.460Z"
   },
   {
    "duration": 267,
    "start_time": "2021-07-11T11:12:06.771Z"
   },
   {
    "duration": 266,
    "start_time": "2021-07-11T11:12:07.040Z"
   },
   {
    "duration": 261,
    "start_time": "2021-07-11T11:12:07.308Z"
   },
   {
    "duration": 248,
    "start_time": "2021-07-11T11:12:07.570Z"
   },
   {
    "duration": 5,
    "start_time": "2021-07-11T11:12:07.819Z"
   },
   {
    "duration": 5,
    "start_time": "2021-07-11T11:12:07.826Z"
   },
   {
    "duration": 24,
    "start_time": "2021-07-11T11:12:07.833Z"
   },
   {
    "duration": 38,
    "start_time": "2021-07-11T11:12:07.858Z"
   },
   {
    "duration": 6,
    "start_time": "2021-07-11T11:12:07.898Z"
   },
   {
    "duration": 522,
    "start_time": "2021-07-11T11:12:07.907Z"
   },
   {
    "duration": 504,
    "start_time": "2021-07-11T11:12:08.431Z"
   },
   {
    "duration": 525,
    "start_time": "2021-07-11T11:12:08.937Z"
   },
   {
    "duration": 462,
    "start_time": "2021-07-11T11:12:09.463Z"
   },
   {
    "duration": 502,
    "start_time": "2021-07-11T11:12:09.927Z"
   },
   {
    "duration": 501,
    "start_time": "2021-07-11T11:12:10.431Z"
   },
   {
    "duration": 509,
    "start_time": "2021-07-11T11:12:10.934Z"
   },
   {
    "duration": 6,
    "start_time": "2021-07-11T11:12:11.445Z"
   },
   {
    "duration": 23,
    "start_time": "2021-07-11T11:12:11.452Z"
   },
   {
    "duration": 20,
    "start_time": "2021-07-11T11:12:11.477Z"
   },
   {
    "duration": 24,
    "start_time": "2021-07-11T11:15:33.145Z"
   },
   {
    "duration": 737,
    "start_time": "2021-07-11T11:16:04.825Z"
   },
   {
    "duration": 90,
    "start_time": "2021-07-11T11:16:05.565Z"
   },
   {
    "duration": 28,
    "start_time": "2021-07-11T11:16:05.658Z"
   },
   {
    "duration": 11,
    "start_time": "2021-07-11T11:16:05.688Z"
   },
   {
    "duration": 44,
    "start_time": "2021-07-11T11:16:05.700Z"
   },
   {
    "duration": 49,
    "start_time": "2021-07-11T11:16:05.747Z"
   },
   {
    "duration": 17,
    "start_time": "2021-07-11T11:16:05.798Z"
   },
   {
    "duration": 96,
    "start_time": "2021-07-11T11:16:05.817Z"
   },
   {
    "duration": 23,
    "start_time": "2021-07-11T11:16:05.915Z"
   },
   {
    "duration": 49,
    "start_time": "2021-07-11T11:16:05.940Z"
   },
   {
    "duration": 9,
    "start_time": "2021-07-11T11:16:05.991Z"
   },
   {
    "duration": 51,
    "start_time": "2021-07-11T11:16:06.002Z"
   },
   {
    "duration": 437,
    "start_time": "2021-07-11T11:16:06.055Z"
   },
   {
    "duration": 38,
    "start_time": "2021-07-11T11:16:06.493Z"
   },
   {
    "duration": 13,
    "start_time": "2021-07-11T11:16:06.532Z"
   },
   {
    "duration": 326,
    "start_time": "2021-07-11T11:16:06.547Z"
   },
   {
    "duration": 276,
    "start_time": "2021-07-11T11:16:06.875Z"
   },
   {
    "duration": 278,
    "start_time": "2021-07-11T11:16:07.153Z"
   },
   {
    "duration": 266,
    "start_time": "2021-07-11T11:16:07.433Z"
   },
   {
    "duration": 253,
    "start_time": "2021-07-11T11:16:07.700Z"
   },
   {
    "duration": 5,
    "start_time": "2021-07-11T11:16:07.955Z"
   },
   {
    "duration": 3,
    "start_time": "2021-07-11T11:16:07.961Z"
   },
   {
    "duration": 24,
    "start_time": "2021-07-11T11:16:07.985Z"
   },
   {
    "duration": 19,
    "start_time": "2021-07-11T11:16:08.011Z"
   },
   {
    "duration": 6,
    "start_time": "2021-07-11T11:16:08.032Z"
   },
   {
    "duration": 535,
    "start_time": "2021-07-11T11:16:08.040Z"
   },
   {
    "duration": 488,
    "start_time": "2021-07-11T11:16:08.579Z"
   },
   {
    "duration": 493,
    "start_time": "2021-07-11T11:16:09.069Z"
   },
   {
    "duration": 468,
    "start_time": "2021-07-11T11:16:09.563Z"
   },
   {
    "duration": 514,
    "start_time": "2021-07-11T11:16:10.033Z"
   },
   {
    "duration": 499,
    "start_time": "2021-07-11T11:16:10.549Z"
   },
   {
    "duration": 493,
    "start_time": "2021-07-11T11:16:11.050Z"
   },
   {
    "duration": 7,
    "start_time": "2021-07-11T11:16:11.545Z"
   },
   {
    "duration": 9,
    "start_time": "2021-07-11T11:16:11.554Z"
   },
   {
    "duration": 26,
    "start_time": "2021-07-11T11:16:11.565Z"
   },
   {
    "duration": 736,
    "start_time": "2021-07-11T11:18:03.013Z"
   },
   {
    "duration": 88,
    "start_time": "2021-07-11T11:18:03.751Z"
   },
   {
    "duration": 8,
    "start_time": "2021-07-11T11:18:03.842Z"
   },
   {
    "duration": 13,
    "start_time": "2021-07-11T11:18:03.851Z"
   },
   {
    "duration": 59,
    "start_time": "2021-07-11T11:18:03.865Z"
   },
   {
    "duration": 21,
    "start_time": "2021-07-11T11:18:03.926Z"
   },
   {
    "duration": 41,
    "start_time": "2021-07-11T11:18:03.949Z"
   },
   {
    "duration": 71,
    "start_time": "2021-07-11T11:18:03.993Z"
   },
   {
    "duration": 41,
    "start_time": "2021-07-11T11:18:04.066Z"
   },
   {
    "duration": 29,
    "start_time": "2021-07-11T11:18:04.109Z"
   },
   {
    "duration": 10,
    "start_time": "2021-07-11T11:18:04.140Z"
   },
   {
    "duration": 95,
    "start_time": "2021-07-11T11:18:04.152Z"
   },
   {
    "duration": 454,
    "start_time": "2021-07-11T11:18:04.248Z"
   },
   {
    "duration": 38,
    "start_time": "2021-07-11T11:18:04.704Z"
   },
   {
    "duration": 15,
    "start_time": "2021-07-11T11:18:04.743Z"
   },
   {
    "duration": 350,
    "start_time": "2021-07-11T11:18:04.759Z"
   },
   {
    "duration": 280,
    "start_time": "2021-07-11T11:18:05.110Z"
   },
   {
    "duration": 286,
    "start_time": "2021-07-11T11:18:05.392Z"
   },
   {
    "duration": 268,
    "start_time": "2021-07-11T11:18:05.680Z"
   },
   {
    "duration": 279,
    "start_time": "2021-07-11T11:18:05.950Z"
   },
   {
    "duration": 5,
    "start_time": "2021-07-11T11:18:06.231Z"
   },
   {
    "duration": 5,
    "start_time": "2021-07-11T11:18:06.237Z"
   },
   {
    "duration": 45,
    "start_time": "2021-07-11T11:18:06.246Z"
   },
   {
    "duration": 23,
    "start_time": "2021-07-11T11:18:06.293Z"
   },
   {
    "duration": 9,
    "start_time": "2021-07-11T11:18:06.318Z"
   },
   {
    "duration": 533,
    "start_time": "2021-07-11T11:18:06.329Z"
   },
   {
    "duration": 509,
    "start_time": "2021-07-11T11:18:06.864Z"
   },
   {
    "duration": 495,
    "start_time": "2021-07-11T11:18:07.375Z"
   },
   {
    "duration": 478,
    "start_time": "2021-07-11T11:18:07.872Z"
   },
   {
    "duration": 525,
    "start_time": "2021-07-11T11:18:08.352Z"
   },
   {
    "duration": 513,
    "start_time": "2021-07-11T11:18:08.879Z"
   },
   {
    "duration": 548,
    "start_time": "2021-07-11T11:18:09.394Z"
   },
   {
    "duration": 7,
    "start_time": "2021-07-11T11:18:09.944Z"
   },
   {
    "duration": 8,
    "start_time": "2021-07-11T11:18:09.952Z"
   },
   {
    "duration": 32,
    "start_time": "2021-07-11T11:18:09.962Z"
   },
   {
    "duration": 21,
    "start_time": "2021-07-11T11:18:15.342Z"
   },
   {
    "duration": 4381,
    "start_time": "2021-07-11T11:20:25.060Z"
   },
   {
    "duration": 189,
    "start_time": "2021-07-11T11:20:51.250Z"
   },
   {
    "duration": 715,
    "start_time": "2021-07-11T11:21:04.497Z"
   },
   {
    "duration": 87,
    "start_time": "2021-07-11T11:21:05.214Z"
   },
   {
    "duration": 8,
    "start_time": "2021-07-11T11:21:05.303Z"
   },
   {
    "duration": 8,
    "start_time": "2021-07-11T11:21:05.313Z"
   },
   {
    "duration": 65,
    "start_time": "2021-07-11T11:21:05.322Z"
   },
   {
    "duration": 19,
    "start_time": "2021-07-11T11:21:05.389Z"
   },
   {
    "duration": 15,
    "start_time": "2021-07-11T11:21:05.410Z"
   },
   {
    "duration": 91,
    "start_time": "2021-07-11T11:21:05.427Z"
   },
   {
    "duration": 20,
    "start_time": "2021-07-11T11:21:05.520Z"
   },
   {
    "duration": 44,
    "start_time": "2021-07-11T11:21:05.541Z"
   },
   {
    "duration": 11,
    "start_time": "2021-07-11T11:21:05.586Z"
   },
   {
    "duration": 48,
    "start_time": "2021-07-11T11:21:05.598Z"
   },
   {
    "duration": 423,
    "start_time": "2021-07-11T11:21:05.648Z"
   },
   {
    "duration": 47,
    "start_time": "2021-07-11T11:21:06.073Z"
   },
   {
    "duration": 14,
    "start_time": "2021-07-11T11:21:06.122Z"
   },
   {
    "duration": 311,
    "start_time": "2021-07-11T11:21:06.138Z"
   },
   {
    "duration": 261,
    "start_time": "2021-07-11T11:21:06.451Z"
   },
   {
    "duration": 259,
    "start_time": "2021-07-11T11:21:06.713Z"
   },
   {
    "duration": 256,
    "start_time": "2021-07-11T11:21:06.973Z"
   },
   {
    "duration": 274,
    "start_time": "2021-07-11T11:21:07.230Z"
   },
   {
    "duration": 5,
    "start_time": "2021-07-11T11:21:07.506Z"
   },
   {
    "duration": 4,
    "start_time": "2021-07-11T11:21:07.512Z"
   },
   {
    "duration": 31,
    "start_time": "2021-07-11T11:21:07.519Z"
   },
   {
    "duration": 34,
    "start_time": "2021-07-11T11:21:07.552Z"
   },
   {
    "duration": 240,
    "start_time": "2021-07-11T11:21:07.588Z"
   },
   {
    "duration": -204,
    "start_time": "2021-07-11T11:21:08.034Z"
   },
   {
    "duration": -206,
    "start_time": "2021-07-11T11:21:08.037Z"
   },
   {
    "duration": -208,
    "start_time": "2021-07-11T11:21:08.040Z"
   },
   {
    "duration": -210,
    "start_time": "2021-07-11T11:21:08.042Z"
   },
   {
    "duration": -212,
    "start_time": "2021-07-11T11:21:08.045Z"
   },
   {
    "duration": -215,
    "start_time": "2021-07-11T11:21:08.049Z"
   },
   {
    "duration": -217,
    "start_time": "2021-07-11T11:21:08.052Z"
   },
   {
    "duration": -219,
    "start_time": "2021-07-11T11:21:08.055Z"
   },
   {
    "duration": -222,
    "start_time": "2021-07-11T11:21:08.058Z"
   },
   {
    "duration": -224,
    "start_time": "2021-07-11T11:21:08.061Z"
   },
   {
    "duration": 177,
    "start_time": "2021-07-11T11:21:17.487Z"
   },
   {
    "duration": 704,
    "start_time": "2021-07-11T11:22:01.427Z"
   },
   {
    "duration": 80,
    "start_time": "2021-07-11T11:22:02.133Z"
   },
   {
    "duration": 9,
    "start_time": "2021-07-11T11:22:02.215Z"
   },
   {
    "duration": 8,
    "start_time": "2021-07-11T11:22:02.225Z"
   },
   {
    "duration": 69,
    "start_time": "2021-07-11T11:22:02.235Z"
   },
   {
    "duration": 22,
    "start_time": "2021-07-11T11:22:02.306Z"
   },
   {
    "duration": 14,
    "start_time": "2021-07-11T11:22:02.330Z"
   },
   {
    "duration": 88,
    "start_time": "2021-07-11T11:22:02.346Z"
   },
   {
    "duration": 20,
    "start_time": "2021-07-11T11:22:02.436Z"
   },
   {
    "duration": 43,
    "start_time": "2021-07-11T11:22:02.458Z"
   },
   {
    "duration": 8,
    "start_time": "2021-07-11T11:22:02.503Z"
   },
   {
    "duration": 46,
    "start_time": "2021-07-11T11:22:02.513Z"
   },
   {
    "duration": 414,
    "start_time": "2021-07-11T11:22:02.560Z"
   },
   {
    "duration": 43,
    "start_time": "2021-07-11T11:22:02.975Z"
   },
   {
    "duration": 12,
    "start_time": "2021-07-11T11:22:03.020Z"
   },
   {
    "duration": 310,
    "start_time": "2021-07-11T11:22:03.034Z"
   },
   {
    "duration": 259,
    "start_time": "2021-07-11T11:22:03.346Z"
   },
   {
    "duration": 266,
    "start_time": "2021-07-11T11:22:03.607Z"
   },
   {
    "duration": 253,
    "start_time": "2021-07-11T11:22:03.874Z"
   },
   {
    "duration": 266,
    "start_time": "2021-07-11T11:22:04.129Z"
   },
   {
    "duration": 5,
    "start_time": "2021-07-11T11:22:04.397Z"
   },
   {
    "duration": 10,
    "start_time": "2021-07-11T11:22:04.404Z"
   },
   {
    "duration": 27,
    "start_time": "2021-07-11T11:22:04.416Z"
   },
   {
    "duration": 18,
    "start_time": "2021-07-11T11:22:04.445Z"
   },
   {
    "duration": 27,
    "start_time": "2021-07-11T11:22:04.465Z"
   },
   {
    "duration": 521,
    "start_time": "2021-07-11T11:22:04.494Z"
   },
   {
    "duration": 519,
    "start_time": "2021-07-11T11:22:05.019Z"
   },
   {
    "duration": 505,
    "start_time": "2021-07-11T11:22:05.540Z"
   },
   {
    "duration": 462,
    "start_time": "2021-07-11T11:22:06.048Z"
   },
   {
    "duration": 449,
    "start_time": "2021-07-11T11:22:06.512Z"
   },
   {
    "duration": 492,
    "start_time": "2021-07-11T11:22:06.963Z"
   },
   {
    "duration": 493,
    "start_time": "2021-07-11T11:22:07.457Z"
   },
   {
    "duration": 7,
    "start_time": "2021-07-11T11:22:07.952Z"
   },
   {
    "duration": 13,
    "start_time": "2021-07-11T11:22:07.960Z"
   },
   {
    "duration": 16,
    "start_time": "2021-07-11T11:22:07.975Z"
   },
   {
    "duration": 10,
    "start_time": "2021-07-11T11:22:23.747Z"
   },
   {
    "duration": 10,
    "start_time": "2021-07-11T11:23:00.547Z"
   },
   {
    "duration": 8,
    "start_time": "2021-07-11T11:23:37.456Z"
   },
   {
    "duration": 68,
    "start_time": "2021-07-11T11:29:57.891Z"
   },
   {
    "duration": 736,
    "start_time": "2021-07-11T11:30:02.686Z"
   },
   {
    "duration": 91,
    "start_time": "2021-07-11T11:30:03.425Z"
   },
   {
    "duration": 9,
    "start_time": "2021-07-11T11:30:03.519Z"
   },
   {
    "duration": 10,
    "start_time": "2021-07-11T11:30:03.530Z"
   },
   {
    "duration": 72,
    "start_time": "2021-07-11T11:30:03.542Z"
   },
   {
    "duration": 22,
    "start_time": "2021-07-11T11:30:03.616Z"
   },
   {
    "duration": 46,
    "start_time": "2021-07-11T11:30:03.640Z"
   },
   {
    "duration": 59,
    "start_time": "2021-07-11T11:30:03.689Z"
   },
   {
    "duration": -110,
    "start_time": "2021-07-11T11:30:03.860Z"
   },
   {
    "duration": -127,
    "start_time": "2021-07-11T11:30:03.878Z"
   },
   {
    "duration": -159,
    "start_time": "2021-07-11T11:30:03.911Z"
   },
   {
    "duration": -161,
    "start_time": "2021-07-11T11:30:03.914Z"
   },
   {
    "duration": -162,
    "start_time": "2021-07-11T11:30:03.916Z"
   },
   {
    "duration": -163,
    "start_time": "2021-07-11T11:30:03.918Z"
   },
   {
    "duration": -165,
    "start_time": "2021-07-11T11:30:03.921Z"
   },
   {
    "duration": -166,
    "start_time": "2021-07-11T11:30:03.923Z"
   },
   {
    "duration": -170,
    "start_time": "2021-07-11T11:30:03.928Z"
   },
   {
    "duration": -172,
    "start_time": "2021-07-11T11:30:03.931Z"
   },
   {
    "duration": -173,
    "start_time": "2021-07-11T11:30:03.933Z"
   },
   {
    "duration": -175,
    "start_time": "2021-07-11T11:30:03.936Z"
   },
   {
    "duration": -176,
    "start_time": "2021-07-11T11:30:03.938Z"
   },
   {
    "duration": -178,
    "start_time": "2021-07-11T11:30:03.941Z"
   },
   {
    "duration": -179,
    "start_time": "2021-07-11T11:30:03.943Z"
   },
   {
    "duration": -180,
    "start_time": "2021-07-11T11:30:03.945Z"
   },
   {
    "duration": -181,
    "start_time": "2021-07-11T11:30:03.947Z"
   },
   {
    "duration": -248,
    "start_time": "2021-07-11T11:30:04.015Z"
   },
   {
    "duration": -252,
    "start_time": "2021-07-11T11:30:04.020Z"
   },
   {
    "duration": -254,
    "start_time": "2021-07-11T11:30:04.023Z"
   },
   {
    "duration": -256,
    "start_time": "2021-07-11T11:30:04.026Z"
   },
   {
    "duration": -257,
    "start_time": "2021-07-11T11:30:04.028Z"
   },
   {
    "duration": -259,
    "start_time": "2021-07-11T11:30:04.031Z"
   },
   {
    "duration": -261,
    "start_time": "2021-07-11T11:30:04.034Z"
   },
   {
    "duration": -263,
    "start_time": "2021-07-11T11:30:04.037Z"
   },
   {
    "duration": -265,
    "start_time": "2021-07-11T11:30:04.040Z"
   },
   {
    "duration": -266,
    "start_time": "2021-07-11T11:30:04.042Z"
   },
   {
    "duration": 248,
    "start_time": "2021-07-11T11:30:25.806Z"
   },
   {
    "duration": 206,
    "start_time": "2021-07-11T11:31:14.067Z"
   },
   {
    "duration": 211,
    "start_time": "2021-07-11T11:33:13.126Z"
   },
   {
    "duration": 208,
    "start_time": "2021-07-11T11:33:22.447Z"
   },
   {
    "duration": 224,
    "start_time": "2021-07-11T11:33:39.826Z"
   },
   {
    "duration": 723,
    "start_time": "2021-07-11T11:33:49.306Z"
   },
   {
    "duration": 82,
    "start_time": "2021-07-11T11:33:50.031Z"
   },
   {
    "duration": 8,
    "start_time": "2021-07-11T11:33:50.115Z"
   },
   {
    "duration": 10,
    "start_time": "2021-07-11T11:33:50.124Z"
   },
   {
    "duration": 65,
    "start_time": "2021-07-11T11:33:50.135Z"
   },
   {
    "duration": 21,
    "start_time": "2021-07-11T11:33:50.202Z"
   },
   {
    "duration": 16,
    "start_time": "2021-07-11T11:33:50.225Z"
   },
   {
    "duration": 285,
    "start_time": "2021-07-11T11:33:50.243Z"
   },
   {
    "duration": -222,
    "start_time": "2021-07-11T11:33:50.753Z"
   },
   {
    "duration": -222,
    "start_time": "2021-07-11T11:33:50.755Z"
   },
   {
    "duration": -224,
    "start_time": "2021-07-11T11:33:50.758Z"
   },
   {
    "duration": -226,
    "start_time": "2021-07-11T11:33:50.761Z"
   },
   {
    "duration": -226,
    "start_time": "2021-07-11T11:33:50.763Z"
   },
   {
    "duration": -227,
    "start_time": "2021-07-11T11:33:50.765Z"
   },
   {
    "duration": -228,
    "start_time": "2021-07-11T11:33:50.767Z"
   },
   {
    "duration": -229,
    "start_time": "2021-07-11T11:33:50.770Z"
   },
   {
    "duration": -230,
    "start_time": "2021-07-11T11:33:50.772Z"
   },
   {
    "duration": -232,
    "start_time": "2021-07-11T11:33:50.775Z"
   },
   {
    "duration": -233,
    "start_time": "2021-07-11T11:33:50.777Z"
   },
   {
    "duration": -234,
    "start_time": "2021-07-11T11:33:50.780Z"
   },
   {
    "duration": -235,
    "start_time": "2021-07-11T11:33:50.782Z"
   },
   {
    "duration": -235,
    "start_time": "2021-07-11T11:33:50.784Z"
   },
   {
    "duration": -236,
    "start_time": "2021-07-11T11:33:50.786Z"
   },
   {
    "duration": -238,
    "start_time": "2021-07-11T11:33:50.789Z"
   },
   {
    "duration": -239,
    "start_time": "2021-07-11T11:33:50.792Z"
   },
   {
    "duration": -240,
    "start_time": "2021-07-11T11:33:50.794Z"
   },
   {
    "duration": -241,
    "start_time": "2021-07-11T11:33:50.796Z"
   },
   {
    "duration": -242,
    "start_time": "2021-07-11T11:33:50.799Z"
   },
   {
    "duration": -243,
    "start_time": "2021-07-11T11:33:50.801Z"
   },
   {
    "duration": -245,
    "start_time": "2021-07-11T11:33:50.804Z"
   },
   {
    "duration": -245,
    "start_time": "2021-07-11T11:33:50.806Z"
   },
   {
    "duration": -246,
    "start_time": "2021-07-11T11:33:50.808Z"
   },
   {
    "duration": -246,
    "start_time": "2021-07-11T11:33:50.810Z"
   },
   {
    "duration": -248,
    "start_time": "2021-07-11T11:33:50.813Z"
   },
   {
    "duration": -249,
    "start_time": "2021-07-11T11:33:50.815Z"
   },
   {
    "duration": 202,
    "start_time": "2021-07-11T11:36:10.590Z"
   },
   {
    "duration": 70,
    "start_time": "2021-07-11T11:36:39.596Z"
   },
   {
    "duration": 709,
    "start_time": "2021-07-11T11:37:09.721Z"
   },
   {
    "duration": 83,
    "start_time": "2021-07-11T11:37:10.433Z"
   },
   {
    "duration": 9,
    "start_time": "2021-07-11T11:37:10.518Z"
   },
   {
    "duration": 8,
    "start_time": "2021-07-11T11:37:10.528Z"
   },
   {
    "duration": 67,
    "start_time": "2021-07-11T11:37:10.538Z"
   },
   {
    "duration": 20,
    "start_time": "2021-07-11T11:37:10.607Z"
   },
   {
    "duration": 21,
    "start_time": "2021-07-11T11:37:10.629Z"
   },
   {
    "duration": 107,
    "start_time": "2021-07-11T11:37:10.653Z"
   },
   {
    "duration": 33,
    "start_time": "2021-07-11T11:37:10.762Z"
   },
   {
    "duration": 25,
    "start_time": "2021-07-11T11:37:10.796Z"
   },
   {
    "duration": 7,
    "start_time": "2021-07-11T11:37:10.822Z"
   },
   {
    "duration": 59,
    "start_time": "2021-07-11T11:37:10.831Z"
   },
   {
    "duration": 390,
    "start_time": "2021-07-11T11:37:10.892Z"
   },
   {
    "duration": 37,
    "start_time": "2021-07-11T11:37:11.285Z"
   },
   {
    "duration": 12,
    "start_time": "2021-07-11T11:37:11.324Z"
   },
   {
    "duration": 305,
    "start_time": "2021-07-11T11:37:11.338Z"
   },
   {
    "duration": 277,
    "start_time": "2021-07-11T11:37:11.644Z"
   },
   {
    "duration": 269,
    "start_time": "2021-07-11T11:37:11.923Z"
   },
   {
    "duration": 254,
    "start_time": "2021-07-11T11:37:12.193Z"
   },
   {
    "duration": 257,
    "start_time": "2021-07-11T11:37:12.448Z"
   },
   {
    "duration": 5,
    "start_time": "2021-07-11T11:37:12.706Z"
   },
   {
    "duration": 3,
    "start_time": "2021-07-11T11:37:12.714Z"
   },
   {
    "duration": 26,
    "start_time": "2021-07-11T11:37:12.718Z"
   },
   {
    "duration": 41,
    "start_time": "2021-07-11T11:37:12.746Z"
   },
   {
    "duration": 7,
    "start_time": "2021-07-11T11:37:12.789Z"
   },
   {
    "duration": 523,
    "start_time": "2021-07-11T11:37:12.798Z"
   },
   {
    "duration": 526,
    "start_time": "2021-07-11T11:37:13.323Z"
   },
   {
    "duration": 502,
    "start_time": "2021-07-11T11:37:13.850Z"
   },
   {
    "duration": 468,
    "start_time": "2021-07-11T11:37:14.353Z"
   },
   {
    "duration": 485,
    "start_time": "2021-07-11T11:37:14.822Z"
   },
   {
    "duration": 472,
    "start_time": "2021-07-11T11:37:15.308Z"
   },
   {
    "duration": 496,
    "start_time": "2021-07-11T11:37:15.782Z"
   },
   {
    "duration": 6,
    "start_time": "2021-07-11T11:37:16.280Z"
   },
   {
    "duration": 25,
    "start_time": "2021-07-11T11:37:16.288Z"
   },
   {
    "duration": 15,
    "start_time": "2021-07-11T11:37:16.315Z"
   },
   {
    "duration": 11,
    "start_time": "2021-07-11T11:37:38.298Z"
   },
   {
    "duration": 700,
    "start_time": "2021-07-11T11:37:49.640Z"
   },
   {
    "duration": 82,
    "start_time": "2021-07-11T11:37:50.342Z"
   },
   {
    "duration": 9,
    "start_time": "2021-07-11T11:37:50.427Z"
   },
   {
    "duration": 9,
    "start_time": "2021-07-11T11:37:50.438Z"
   },
   {
    "duration": 72,
    "start_time": "2021-07-11T11:37:50.449Z"
   },
   {
    "duration": 23,
    "start_time": "2021-07-11T11:37:50.523Z"
   },
   {
    "duration": 46,
    "start_time": "2021-07-11T11:37:50.548Z"
   },
   {
    "duration": 93,
    "start_time": "2021-07-11T11:37:50.598Z"
   },
   {
    "duration": 22,
    "start_time": "2021-07-11T11:37:50.694Z"
   },
   {
    "duration": 29,
    "start_time": "2021-07-11T11:37:50.717Z"
   },
   {
    "duration": 9,
    "start_time": "2021-07-11T11:37:50.747Z"
   },
   {
    "duration": 70,
    "start_time": "2021-07-11T11:37:50.757Z"
   },
   {
    "duration": 399,
    "start_time": "2021-07-11T11:37:50.829Z"
   },
   {
    "duration": 40,
    "start_time": "2021-07-11T11:37:51.229Z"
   },
   {
    "duration": 23,
    "start_time": "2021-07-11T11:37:51.271Z"
   },
   {
    "duration": 293,
    "start_time": "2021-07-11T11:37:51.296Z"
   },
   {
    "duration": 268,
    "start_time": "2021-07-11T11:37:51.591Z"
   },
   {
    "duration": 267,
    "start_time": "2021-07-11T11:37:51.861Z"
   },
   {
    "duration": 243,
    "start_time": "2021-07-11T11:37:52.130Z"
   },
   {
    "duration": 262,
    "start_time": "2021-07-11T11:37:52.375Z"
   },
   {
    "duration": 6,
    "start_time": "2021-07-11T11:37:52.639Z"
   },
   {
    "duration": 6,
    "start_time": "2021-07-11T11:37:52.647Z"
   },
   {
    "duration": 43,
    "start_time": "2021-07-11T11:37:52.656Z"
   },
   {
    "duration": 18,
    "start_time": "2021-07-11T11:37:52.701Z"
   },
   {
    "duration": 7,
    "start_time": "2021-07-11T11:37:52.721Z"
   },
   {
    "duration": 513,
    "start_time": "2021-07-11T11:37:52.729Z"
   },
   {
    "duration": 518,
    "start_time": "2021-07-11T11:37:53.245Z"
   },
   {
    "duration": 506,
    "start_time": "2021-07-11T11:37:53.764Z"
   },
   {
    "duration": 459,
    "start_time": "2021-07-11T11:37:54.272Z"
   },
   {
    "duration": 509,
    "start_time": "2021-07-11T11:37:54.733Z"
   },
   {
    "duration": 489,
    "start_time": "2021-07-11T11:37:55.243Z"
   },
   {
    "duration": 511,
    "start_time": "2021-07-11T11:37:55.733Z"
   },
   {
    "duration": 6,
    "start_time": "2021-07-11T11:37:56.246Z"
   },
   {
    "duration": 8,
    "start_time": "2021-07-11T11:37:56.253Z"
   },
   {
    "duration": 26,
    "start_time": "2021-07-11T11:37:56.263Z"
   },
   {
    "duration": 6,
    "start_time": "2021-07-11T11:38:01.380Z"
   },
   {
    "duration": 4423,
    "start_time": "2021-07-11T11:39:57.561Z"
   },
   {
    "duration": 694,
    "start_time": "2021-07-11T11:40:05.636Z"
   },
   {
    "duration": 78,
    "start_time": "2021-07-11T11:40:06.331Z"
   },
   {
    "duration": 8,
    "start_time": "2021-07-11T11:40:06.411Z"
   },
   {
    "duration": 7,
    "start_time": "2021-07-11T11:40:06.421Z"
   },
   {
    "duration": 66,
    "start_time": "2021-07-11T11:40:06.430Z"
   },
   {
    "duration": 20,
    "start_time": "2021-07-11T11:40:06.497Z"
   },
   {
    "duration": 15,
    "start_time": "2021-07-11T11:40:06.519Z"
   },
   {
    "duration": 4873,
    "start_time": "2021-07-11T11:40:06.535Z"
   },
   {
    "duration": -163,
    "start_time": "2021-07-11T11:40:11.573Z"
   },
   {
    "duration": -165,
    "start_time": "2021-07-11T11:40:11.576Z"
   },
   {
    "duration": -167,
    "start_time": "2021-07-11T11:40:11.579Z"
   },
   {
    "duration": -169,
    "start_time": "2021-07-11T11:40:11.582Z"
   },
   {
    "duration": -172,
    "start_time": "2021-07-11T11:40:11.585Z"
   },
   {
    "duration": -174,
    "start_time": "2021-07-11T11:40:11.588Z"
   },
   {
    "duration": -176,
    "start_time": "2021-07-11T11:40:11.591Z"
   },
   {
    "duration": -183,
    "start_time": "2021-07-11T11:40:11.599Z"
   },
   {
    "duration": -187,
    "start_time": "2021-07-11T11:40:11.604Z"
   },
   {
    "duration": -189,
    "start_time": "2021-07-11T11:40:11.607Z"
   },
   {
    "duration": -192,
    "start_time": "2021-07-11T11:40:11.610Z"
   },
   {
    "duration": -194,
    "start_time": "2021-07-11T11:40:11.613Z"
   },
   {
    "duration": -196,
    "start_time": "2021-07-11T11:40:11.616Z"
   },
   {
    "duration": -199,
    "start_time": "2021-07-11T11:40:11.620Z"
   },
   {
    "duration": -201,
    "start_time": "2021-07-11T11:40:11.623Z"
   },
   {
    "duration": -208,
    "start_time": "2021-07-11T11:40:11.631Z"
   },
   {
    "duration": -210,
    "start_time": "2021-07-11T11:40:11.634Z"
   },
   {
    "duration": -213,
    "start_time": "2021-07-11T11:40:11.637Z"
   },
   {
    "duration": -215,
    "start_time": "2021-07-11T11:40:11.640Z"
   },
   {
    "duration": -217,
    "start_time": "2021-07-11T11:40:11.643Z"
   },
   {
    "duration": -219,
    "start_time": "2021-07-11T11:40:11.646Z"
   },
   {
    "duration": -221,
    "start_time": "2021-07-11T11:40:11.649Z"
   },
   {
    "duration": -223,
    "start_time": "2021-07-11T11:40:11.652Z"
   },
   {
    "duration": -225,
    "start_time": "2021-07-11T11:40:11.655Z"
   },
   {
    "duration": -228,
    "start_time": "2021-07-11T11:40:11.658Z"
   },
   {
    "duration": -229,
    "start_time": "2021-07-11T11:40:11.661Z"
   },
   {
    "duration": -231,
    "start_time": "2021-07-11T11:40:11.664Z"
   },
   {
    "duration": 744,
    "start_time": "2021-07-11T11:41:36.762Z"
   },
   {
    "duration": 80,
    "start_time": "2021-07-11T11:41:37.508Z"
   },
   {
    "duration": 7,
    "start_time": "2021-07-11T11:41:37.591Z"
   },
   {
    "duration": 11,
    "start_time": "2021-07-11T11:41:37.600Z"
   },
   {
    "duration": 43,
    "start_time": "2021-07-11T11:41:37.612Z"
   },
   {
    "duration": 23,
    "start_time": "2021-07-11T11:41:37.685Z"
   },
   {
    "duration": 17,
    "start_time": "2021-07-11T11:41:37.709Z"
   },
   {
    "duration": 112,
    "start_time": "2021-07-11T11:41:37.727Z"
   },
   {
    "duration": 19,
    "start_time": "2021-07-11T11:41:37.842Z"
   },
   {
    "duration": 40,
    "start_time": "2021-07-11T11:41:37.863Z"
   },
   {
    "duration": 8,
    "start_time": "2021-07-11T11:41:37.905Z"
   },
   {
    "duration": 44,
    "start_time": "2021-07-11T11:41:37.915Z"
   },
   {
    "duration": 411,
    "start_time": "2021-07-11T11:41:37.960Z"
   },
   {
    "duration": 41,
    "start_time": "2021-07-11T11:41:38.373Z"
   },
   {
    "duration": 12,
    "start_time": "2021-07-11T11:41:38.416Z"
   },
   {
    "duration": 307,
    "start_time": "2021-07-11T11:41:38.429Z"
   },
   {
    "duration": 265,
    "start_time": "2021-07-11T11:41:38.737Z"
   },
   {
    "duration": 267,
    "start_time": "2021-07-11T11:41:39.004Z"
   },
   {
    "duration": 265,
    "start_time": "2021-07-11T11:41:39.273Z"
   },
   {
    "duration": 267,
    "start_time": "2021-07-11T11:41:39.539Z"
   },
   {
    "duration": 5,
    "start_time": "2021-07-11T11:41:39.807Z"
   },
   {
    "duration": 6,
    "start_time": "2021-07-11T11:41:39.813Z"
   },
   {
    "duration": 26,
    "start_time": "2021-07-11T11:41:39.820Z"
   },
   {
    "duration": 39,
    "start_time": "2021-07-11T11:41:39.847Z"
   },
   {
    "duration": 6,
    "start_time": "2021-07-11T11:41:39.888Z"
   },
   {
    "duration": 516,
    "start_time": "2021-07-11T11:41:39.895Z"
   },
   {
    "duration": 517,
    "start_time": "2021-07-11T11:41:40.414Z"
   },
   {
    "duration": 504,
    "start_time": "2021-07-11T11:41:40.933Z"
   },
   {
    "duration": 475,
    "start_time": "2021-07-11T11:41:41.438Z"
   },
   {
    "duration": 466,
    "start_time": "2021-07-11T11:41:41.915Z"
   },
   {
    "duration": 468,
    "start_time": "2021-07-11T11:41:42.383Z"
   },
   {
    "duration": 490,
    "start_time": "2021-07-11T11:41:42.853Z"
   },
   {
    "duration": 6,
    "start_time": "2021-07-11T11:41:43.344Z"
   },
   {
    "duration": 8,
    "start_time": "2021-07-11T11:41:43.351Z"
   },
   {
    "duration": 24,
    "start_time": "2021-07-11T11:41:43.361Z"
   },
   {
    "duration": 7,
    "start_time": "2021-07-11T11:42:08.362Z"
   },
   {
    "duration": 757,
    "start_time": "2021-07-11T11:43:48.966Z"
   },
   {
    "duration": 91,
    "start_time": "2021-07-11T11:43:49.726Z"
   },
   {
    "duration": 10,
    "start_time": "2021-07-11T11:43:49.819Z"
   },
   {
    "duration": 9,
    "start_time": "2021-07-11T11:43:49.832Z"
   },
   {
    "duration": 71,
    "start_time": "2021-07-11T11:43:49.843Z"
   },
   {
    "duration": 20,
    "start_time": "2021-07-11T11:43:49.916Z"
   },
   {
    "duration": 15,
    "start_time": "2021-07-11T11:43:49.938Z"
   },
   {
    "duration": 107,
    "start_time": "2021-07-11T11:43:49.954Z"
   },
   {
    "duration": 31,
    "start_time": "2021-07-11T11:43:50.064Z"
   },
   {
    "duration": 24,
    "start_time": "2021-07-11T11:43:50.097Z"
   },
   {
    "duration": 8,
    "start_time": "2021-07-11T11:43:50.122Z"
   },
   {
    "duration": 62,
    "start_time": "2021-07-11T11:43:50.131Z"
   },
   {
    "duration": 403,
    "start_time": "2021-07-11T11:43:50.195Z"
   },
   {
    "duration": 38,
    "start_time": "2021-07-11T11:43:50.600Z"
   },
   {
    "duration": 13,
    "start_time": "2021-07-11T11:43:50.640Z"
   },
   {
    "duration": 314,
    "start_time": "2021-07-11T11:43:50.654Z"
   },
   {
    "duration": 272,
    "start_time": "2021-07-11T11:43:50.970Z"
   },
   {
    "duration": 271,
    "start_time": "2021-07-11T11:43:51.243Z"
   },
   {
    "duration": 254,
    "start_time": "2021-07-11T11:43:51.515Z"
   },
   {
    "duration": 252,
    "start_time": "2021-07-11T11:43:51.771Z"
   },
   {
    "duration": 5,
    "start_time": "2021-07-11T11:43:52.024Z"
   },
   {
    "duration": 3,
    "start_time": "2021-07-11T11:43:52.030Z"
   },
   {
    "duration": 25,
    "start_time": "2021-07-11T11:43:52.035Z"
   },
   {
    "duration": 39,
    "start_time": "2021-07-11T11:43:52.062Z"
   },
   {
    "duration": 7,
    "start_time": "2021-07-11T11:43:52.102Z"
   },
   {
    "duration": 517,
    "start_time": "2021-07-11T11:43:52.111Z"
   },
   {
    "duration": 513,
    "start_time": "2021-07-11T11:43:52.631Z"
   },
   {
    "duration": 509,
    "start_time": "2021-07-11T11:43:53.146Z"
   },
   {
    "duration": 468,
    "start_time": "2021-07-11T11:43:53.657Z"
   },
   {
    "duration": 483,
    "start_time": "2021-07-11T11:43:54.127Z"
   },
   {
    "duration": 464,
    "start_time": "2021-07-11T11:43:54.611Z"
   },
   {
    "duration": 487,
    "start_time": "2021-07-11T11:43:55.077Z"
   },
   {
    "duration": 6,
    "start_time": "2021-07-11T11:43:55.566Z"
   },
   {
    "duration": 14,
    "start_time": "2021-07-11T11:43:55.573Z"
   },
   {
    "duration": 12,
    "start_time": "2021-07-11T11:43:55.589Z"
   },
   {
    "duration": 18,
    "start_time": "2021-07-11T11:45:05.487Z"
   },
   {
    "duration": 19,
    "start_time": "2021-07-11T11:45:13.130Z"
   },
   {
    "duration": 751,
    "start_time": "2021-07-11T11:45:18.773Z"
   },
   {
    "duration": 82,
    "start_time": "2021-07-11T11:45:19.525Z"
   },
   {
    "duration": 8,
    "start_time": "2021-07-11T11:45:19.609Z"
   },
   {
    "duration": 7,
    "start_time": "2021-07-11T11:45:19.619Z"
   },
   {
    "duration": 64,
    "start_time": "2021-07-11T11:45:19.628Z"
   },
   {
    "duration": 20,
    "start_time": "2021-07-11T11:45:19.693Z"
   },
   {
    "duration": 14,
    "start_time": "2021-07-11T11:45:19.714Z"
   },
   {
    "duration": 108,
    "start_time": "2021-07-11T11:45:19.730Z"
   },
   {
    "duration": 19,
    "start_time": "2021-07-11T11:45:19.840Z"
   },
   {
    "duration": 41,
    "start_time": "2021-07-11T11:45:19.861Z"
   },
   {
    "duration": 7,
    "start_time": "2021-07-11T11:45:19.904Z"
   },
   {
    "duration": 47,
    "start_time": "2021-07-11T11:45:19.913Z"
   },
   {
    "duration": 419,
    "start_time": "2021-07-11T11:45:19.962Z"
   },
   {
    "duration": 38,
    "start_time": "2021-07-11T11:45:20.385Z"
   },
   {
    "duration": 12,
    "start_time": "2021-07-11T11:45:20.425Z"
   },
   {
    "duration": 311,
    "start_time": "2021-07-11T11:45:20.439Z"
   },
   {
    "duration": 266,
    "start_time": "2021-07-11T11:45:20.752Z"
   },
   {
    "duration": 265,
    "start_time": "2021-07-11T11:45:21.019Z"
   },
   {
    "duration": 254,
    "start_time": "2021-07-11T11:45:21.286Z"
   },
   {
    "duration": 264,
    "start_time": "2021-07-11T11:45:21.542Z"
   },
   {
    "duration": 4,
    "start_time": "2021-07-11T11:45:21.808Z"
   },
   {
    "duration": 16,
    "start_time": "2021-07-11T11:45:21.814Z"
   },
   {
    "duration": 37,
    "start_time": "2021-07-11T11:45:21.832Z"
   },
   {
    "duration": 14,
    "start_time": "2021-07-11T11:45:21.870Z"
   },
   {
    "duration": 224,
    "start_time": "2021-07-11T11:45:21.886Z"
   },
   {
    "duration": -116,
    "start_time": "2021-07-11T11:45:22.228Z"
   },
   {
    "duration": -118,
    "start_time": "2021-07-11T11:45:22.232Z"
   },
   {
    "duration": -121,
    "start_time": "2021-07-11T11:45:22.236Z"
   },
   {
    "duration": -123,
    "start_time": "2021-07-11T11:45:22.239Z"
   },
   {
    "duration": -124,
    "start_time": "2021-07-11T11:45:22.242Z"
   },
   {
    "duration": -126,
    "start_time": "2021-07-11T11:45:22.245Z"
   },
   {
    "duration": -127,
    "start_time": "2021-07-11T11:45:22.248Z"
   },
   {
    "duration": -128,
    "start_time": "2021-07-11T11:45:22.250Z"
   },
   {
    "duration": -130,
    "start_time": "2021-07-11T11:45:22.253Z"
   },
   {
    "duration": -131,
    "start_time": "2021-07-11T11:45:22.256Z"
   },
   {
    "duration": 7,
    "start_time": "2021-07-11T11:48:03.696Z"
   },
   {
    "duration": 7,
    "start_time": "2021-07-11T19:42:42.417Z"
   },
   {
    "duration": 730,
    "start_time": "2021-07-11T19:45:24.882Z"
   },
   {
    "duration": 79,
    "start_time": "2021-07-11T19:45:25.614Z"
   },
   {
    "duration": 8,
    "start_time": "2021-07-11T19:45:25.695Z"
   },
   {
    "duration": 8,
    "start_time": "2021-07-11T19:45:25.705Z"
   },
   {
    "duration": 72,
    "start_time": "2021-07-11T19:45:25.714Z"
   },
   {
    "duration": 21,
    "start_time": "2021-07-11T19:45:25.788Z"
   },
   {
    "duration": 16,
    "start_time": "2021-07-11T19:45:25.811Z"
   },
   {
    "duration": 111,
    "start_time": "2021-07-11T19:45:25.830Z"
   },
   {
    "duration": 20,
    "start_time": "2021-07-11T19:45:25.943Z"
   },
   {
    "duration": 42,
    "start_time": "2021-07-11T19:45:25.965Z"
   },
   {
    "duration": 9,
    "start_time": "2021-07-11T19:45:26.009Z"
   },
   {
    "duration": 65,
    "start_time": "2021-07-11T19:45:26.020Z"
   },
   {
    "duration": 405,
    "start_time": "2021-07-11T19:45:26.086Z"
   },
   {
    "duration": 39,
    "start_time": "2021-07-11T19:45:26.493Z"
   },
   {
    "duration": 14,
    "start_time": "2021-07-11T19:45:26.533Z"
   },
   {
    "duration": 314,
    "start_time": "2021-07-11T19:45:26.548Z"
   },
   {
    "duration": 261,
    "start_time": "2021-07-11T19:45:26.863Z"
   },
   {
    "duration": 274,
    "start_time": "2021-07-11T19:45:27.126Z"
   },
   {
    "duration": 244,
    "start_time": "2021-07-11T19:45:27.401Z"
   },
   {
    "duration": 259,
    "start_time": "2021-07-11T19:45:27.646Z"
   },
   {
    "duration": 5,
    "start_time": "2021-07-11T19:45:27.906Z"
   },
   {
    "duration": 4,
    "start_time": "2021-07-11T19:45:27.913Z"
   },
   {
    "duration": 24,
    "start_time": "2021-07-11T19:45:27.920Z"
   },
   {
    "duration": 39,
    "start_time": "2021-07-11T19:45:27.946Z"
   },
   {
    "duration": 7,
    "start_time": "2021-07-11T19:45:27.986Z"
   },
   {
    "duration": 8,
    "start_time": "2021-07-11T19:45:27.994Z"
   },
   {
    "duration": 510,
    "start_time": "2021-07-11T19:45:28.003Z"
   },
   {
    "duration": 512,
    "start_time": "2021-07-11T19:45:28.515Z"
   },
   {
    "duration": 501,
    "start_time": "2021-07-11T19:45:29.029Z"
   },
   {
    "duration": 470,
    "start_time": "2021-07-11T19:45:29.532Z"
   },
   {
    "duration": 457,
    "start_time": "2021-07-11T19:45:30.004Z"
   },
   {
    "duration": 480,
    "start_time": "2021-07-11T19:45:30.463Z"
   },
   {
    "duration": 497,
    "start_time": "2021-07-11T19:45:30.945Z"
   },
   {
    "duration": 6,
    "start_time": "2021-07-11T19:45:31.444Z"
   },
   {
    "duration": 7,
    "start_time": "2021-07-11T19:45:31.452Z"
   },
   {
    "duration": 26,
    "start_time": "2021-07-11T19:45:31.461Z"
   },
   {
    "duration": 26,
    "start_time": "2021-07-12T08:24:41.032Z"
   },
   {
    "duration": 701,
    "start_time": "2021-07-12T08:24:56.914Z"
   },
   {
    "duration": 86,
    "start_time": "2021-07-12T08:24:57.617Z"
   },
   {
    "duration": 8,
    "start_time": "2021-07-12T08:24:57.705Z"
   },
   {
    "duration": 8,
    "start_time": "2021-07-12T08:24:57.715Z"
   },
   {
    "duration": 73,
    "start_time": "2021-07-12T08:24:57.724Z"
   },
   {
    "duration": 25,
    "start_time": "2021-07-12T08:24:57.799Z"
   },
   {
    "duration": 18,
    "start_time": "2021-07-12T08:24:57.825Z"
   },
   {
    "duration": 116,
    "start_time": "2021-07-12T08:24:57.846Z"
   },
   {
    "duration": 30,
    "start_time": "2021-07-12T08:24:57.964Z"
   },
   {
    "duration": 27,
    "start_time": "2021-07-12T08:24:57.996Z"
   },
   {
    "duration": 8,
    "start_time": "2021-07-12T08:24:58.025Z"
   },
   {
    "duration": 76,
    "start_time": "2021-07-12T08:24:58.035Z"
   },
   {
    "duration": 402,
    "start_time": "2021-07-12T08:24:58.113Z"
   },
   {
    "duration": 39,
    "start_time": "2021-07-12T08:24:58.517Z"
   },
   {
    "duration": 33,
    "start_time": "2021-07-12T08:24:58.558Z"
   },
   {
    "duration": 294,
    "start_time": "2021-07-12T08:24:58.592Z"
   },
   {
    "duration": 273,
    "start_time": "2021-07-12T08:24:58.888Z"
   },
   {
    "duration": 269,
    "start_time": "2021-07-12T08:24:59.163Z"
   },
   {
    "duration": 264,
    "start_time": "2021-07-12T08:24:59.434Z"
   },
   {
    "duration": 268,
    "start_time": "2021-07-12T08:24:59.699Z"
   },
   {
    "duration": 14,
    "start_time": "2021-07-12T08:24:59.970Z"
   },
   {
    "duration": 3,
    "start_time": "2021-07-12T08:24:59.986Z"
   },
   {
    "duration": 31,
    "start_time": "2021-07-12T08:24:59.992Z"
   },
   {
    "duration": 15,
    "start_time": "2021-07-12T08:25:00.025Z"
   },
   {
    "duration": 6,
    "start_time": "2021-07-12T08:25:00.042Z"
   },
   {
    "duration": 7,
    "start_time": "2021-07-12T08:25:00.085Z"
   },
   {
    "duration": 517,
    "start_time": "2021-07-12T08:25:00.094Z"
   },
   {
    "duration": 519,
    "start_time": "2021-07-12T08:25:00.613Z"
   },
   {
    "duration": 515,
    "start_time": "2021-07-12T08:25:01.134Z"
   },
   {
    "duration": 462,
    "start_time": "2021-07-12T08:25:01.651Z"
   },
   {
    "duration": 471,
    "start_time": "2021-07-12T08:25:02.115Z"
   },
   {
    "duration": 467,
    "start_time": "2021-07-12T08:25:02.589Z"
   },
   {
    "duration": 486,
    "start_time": "2021-07-12T08:25:03.059Z"
   },
   {
    "duration": 6,
    "start_time": "2021-07-12T08:25:03.547Z"
   },
   {
    "duration": 20,
    "start_time": "2021-07-12T08:25:03.555Z"
   },
   {
    "duration": 14,
    "start_time": "2021-07-12T08:25:03.577Z"
   },
   {
    "duration": 14,
    "start_time": "2021-07-12T08:32:13.496Z"
   },
   {
    "duration": 29,
    "start_time": "2021-07-12T08:32:27.686Z"
   },
   {
    "duration": 20,
    "start_time": "2021-07-12T08:34:28.468Z"
   },
   {
    "duration": 242,
    "start_time": "2021-07-12T08:34:56.259Z"
   },
   {
    "duration": 21,
    "start_time": "2021-07-12T08:35:07.274Z"
   },
   {
    "duration": 21,
    "start_time": "2021-07-12T08:35:25.723Z"
   },
   {
    "duration": 22,
    "start_time": "2021-07-12T08:36:07.778Z"
   },
   {
    "duration": 21,
    "start_time": "2021-07-12T08:37:15.673Z"
   },
   {
    "duration": 223,
    "start_time": "2021-07-12T08:45:13.578Z"
   },
   {
    "duration": 707,
    "start_time": "2021-07-12T08:45:22.928Z"
   },
   {
    "duration": 81,
    "start_time": "2021-07-12T08:45:23.637Z"
   },
   {
    "duration": 8,
    "start_time": "2021-07-12T08:45:23.721Z"
   },
   {
    "duration": 10,
    "start_time": "2021-07-12T08:45:23.731Z"
   },
   {
    "duration": 70,
    "start_time": "2021-07-12T08:45:23.742Z"
   },
   {
    "duration": 24,
    "start_time": "2021-07-12T08:45:23.814Z"
   },
   {
    "duration": 14,
    "start_time": "2021-07-12T08:45:23.840Z"
   },
   {
    "duration": 314,
    "start_time": "2021-07-12T08:45:23.855Z"
   },
   {
    "duration": -140,
    "start_time": "2021-07-12T08:45:24.312Z"
   },
   {
    "duration": -142,
    "start_time": "2021-07-12T08:45:24.315Z"
   },
   {
    "duration": -143,
    "start_time": "2021-07-12T08:45:24.317Z"
   },
   {
    "duration": -146,
    "start_time": "2021-07-12T08:45:24.321Z"
   },
   {
    "duration": -151,
    "start_time": "2021-07-12T08:45:24.327Z"
   },
   {
    "duration": -154,
    "start_time": "2021-07-12T08:45:24.331Z"
   },
   {
    "duration": -154,
    "start_time": "2021-07-12T08:45:24.332Z"
   },
   {
    "duration": -156,
    "start_time": "2021-07-12T08:45:24.335Z"
   },
   {
    "duration": -157,
    "start_time": "2021-07-12T08:45:24.337Z"
   },
   {
    "duration": -163,
    "start_time": "2021-07-12T08:45:24.344Z"
   },
   {
    "duration": -164,
    "start_time": "2021-07-12T08:45:24.346Z"
   },
   {
    "duration": -185,
    "start_time": "2021-07-12T08:45:24.368Z"
   },
   {
    "duration": -203,
    "start_time": "2021-07-12T08:45:24.387Z"
   },
   {
    "duration": -204,
    "start_time": "2021-07-12T08:45:24.390Z"
   },
   {
    "duration": -207,
    "start_time": "2021-07-12T08:45:24.394Z"
   },
   {
    "duration": -209,
    "start_time": "2021-07-12T08:45:24.397Z"
   },
   {
    "duration": -224,
    "start_time": "2021-07-12T08:45:24.413Z"
   },
   {
    "duration": -230,
    "start_time": "2021-07-12T08:45:24.420Z"
   },
   {
    "duration": -233,
    "start_time": "2021-07-12T08:45:24.424Z"
   },
   {
    "duration": -243,
    "start_time": "2021-07-12T08:45:24.435Z"
   },
   {
    "duration": -246,
    "start_time": "2021-07-12T08:45:24.439Z"
   },
   {
    "duration": -249,
    "start_time": "2021-07-12T08:45:24.443Z"
   },
   {
    "duration": -258,
    "start_time": "2021-07-12T08:45:24.453Z"
   },
   {
    "duration": -275,
    "start_time": "2021-07-12T08:45:24.471Z"
   },
   {
    "duration": -275,
    "start_time": "2021-07-12T08:45:24.473Z"
   },
   {
    "duration": -280,
    "start_time": "2021-07-12T08:45:24.479Z"
   },
   {
    "duration": -287,
    "start_time": "2021-07-12T08:45:24.487Z"
   },
   {
    "duration": -290,
    "start_time": "2021-07-12T08:45:24.491Z"
   },
   {
    "duration": 216,
    "start_time": "2021-07-12T08:45:37.078Z"
   },
   {
    "duration": 706,
    "start_time": "2021-07-12T08:45:40.904Z"
   },
   {
    "duration": 80,
    "start_time": "2021-07-12T08:45:41.612Z"
   },
   {
    "duration": 8,
    "start_time": "2021-07-12T08:45:41.694Z"
   },
   {
    "duration": 8,
    "start_time": "2021-07-12T08:45:41.704Z"
   },
   {
    "duration": 71,
    "start_time": "2021-07-12T08:45:41.714Z"
   },
   {
    "duration": 24,
    "start_time": "2021-07-12T08:45:41.787Z"
   },
   {
    "duration": 16,
    "start_time": "2021-07-12T08:45:41.813Z"
   },
   {
    "duration": 114,
    "start_time": "2021-07-12T08:45:41.831Z"
   },
   {
    "duration": 18,
    "start_time": "2021-07-12T08:45:41.947Z"
   },
   {
    "duration": 38,
    "start_time": "2021-07-12T08:45:41.967Z"
   },
   {
    "duration": 8,
    "start_time": "2021-07-12T08:45:42.006Z"
   },
   {
    "duration": 48,
    "start_time": "2021-07-12T08:45:42.016Z"
   },
   {
    "duration": 407,
    "start_time": "2021-07-12T08:45:42.066Z"
   },
   {
    "duration": 46,
    "start_time": "2021-07-12T08:45:42.475Z"
   },
   {
    "duration": 13,
    "start_time": "2021-07-12T08:45:42.522Z"
   },
   {
    "duration": 297,
    "start_time": "2021-07-12T08:45:42.537Z"
   },
   {
    "duration": 264,
    "start_time": "2021-07-12T08:45:42.836Z"
   },
   {
    "duration": 273,
    "start_time": "2021-07-12T08:45:43.102Z"
   },
   {
    "duration": 252,
    "start_time": "2021-07-12T08:45:43.376Z"
   },
   {
    "duration": 267,
    "start_time": "2021-07-12T08:45:43.630Z"
   },
   {
    "duration": 4,
    "start_time": "2021-07-12T08:45:43.899Z"
   },
   {
    "duration": 4,
    "start_time": "2021-07-12T08:45:43.905Z"
   },
   {
    "duration": 28,
    "start_time": "2021-07-12T08:45:43.911Z"
   },
   {
    "duration": 15,
    "start_time": "2021-07-12T08:45:43.941Z"
   },
   {
    "duration": 33,
    "start_time": "2021-07-12T08:45:43.957Z"
   },
   {
    "duration": 8,
    "start_time": "2021-07-12T08:45:43.992Z"
   },
   {
    "duration": 513,
    "start_time": "2021-07-12T08:45:44.002Z"
   },
   {
    "duration": 520,
    "start_time": "2021-07-12T08:45:44.517Z"
   },
   {
    "duration": 485,
    "start_time": "2021-07-12T08:45:45.039Z"
   },
   {
    "duration": 460,
    "start_time": "2021-07-12T08:45:45.526Z"
   },
   {
    "duration": 458,
    "start_time": "2021-07-12T08:45:45.988Z"
   },
   {
    "duration": 476,
    "start_time": "2021-07-12T08:45:46.448Z"
   },
   {
    "duration": 492,
    "start_time": "2021-07-12T08:45:46.926Z"
   },
   {
    "duration": 7,
    "start_time": "2021-07-12T08:45:47.420Z"
   },
   {
    "duration": 8,
    "start_time": "2021-07-12T08:45:47.429Z"
   },
   {
    "duration": 46,
    "start_time": "2021-07-12T08:45:47.439Z"
   },
   {
    "duration": 769,
    "start_time": "2021-07-12T08:46:42.948Z"
   },
   {
    "duration": 94,
    "start_time": "2021-07-12T08:46:43.719Z"
   },
   {
    "duration": 8,
    "start_time": "2021-07-12T08:46:43.815Z"
   },
   {
    "duration": 9,
    "start_time": "2021-07-12T08:46:43.824Z"
   },
   {
    "duration": 65,
    "start_time": "2021-07-12T08:46:43.834Z"
   },
   {
    "duration": 26,
    "start_time": "2021-07-12T08:46:43.901Z"
   },
   {
    "duration": 14,
    "start_time": "2021-07-12T08:46:43.929Z"
   },
   {
    "duration": 119,
    "start_time": "2021-07-12T08:46:43.945Z"
   },
   {
    "duration": 28,
    "start_time": "2021-07-12T08:46:44.067Z"
   },
   {
    "duration": 28,
    "start_time": "2021-07-12T08:46:44.097Z"
   },
   {
    "duration": 7,
    "start_time": "2021-07-12T08:46:44.127Z"
   },
   {
    "duration": 68,
    "start_time": "2021-07-12T08:46:44.136Z"
   },
   {
    "duration": 436,
    "start_time": "2021-07-12T08:46:44.205Z"
   },
   {
    "duration": 45,
    "start_time": "2021-07-12T08:46:44.643Z"
   },
   {
    "duration": 13,
    "start_time": "2021-07-12T08:46:44.690Z"
   },
   {
    "duration": 325,
    "start_time": "2021-07-12T08:46:44.706Z"
   },
   {
    "duration": 289,
    "start_time": "2021-07-12T08:46:45.033Z"
   },
   {
    "duration": 261,
    "start_time": "2021-07-12T08:46:45.324Z"
   },
   {
    "duration": 262,
    "start_time": "2021-07-12T08:46:45.587Z"
   },
   {
    "duration": 270,
    "start_time": "2021-07-12T08:46:45.851Z"
   },
   {
    "duration": 6,
    "start_time": "2021-07-12T08:46:46.123Z"
   },
   {
    "duration": 6,
    "start_time": "2021-07-12T08:46:46.130Z"
   },
   {
    "duration": 48,
    "start_time": "2021-07-12T08:46:46.137Z"
   },
   {
    "duration": 26,
    "start_time": "2021-07-12T08:46:46.188Z"
   },
   {
    "duration": 7,
    "start_time": "2021-07-12T08:46:46.215Z"
   },
   {
    "duration": 10,
    "start_time": "2021-07-12T08:46:46.223Z"
   },
   {
    "duration": 505,
    "start_time": "2021-07-12T08:46:46.236Z"
   },
   {
    "duration": 500,
    "start_time": "2021-07-12T08:46:46.743Z"
   },
   {
    "duration": 513,
    "start_time": "2021-07-12T08:46:47.245Z"
   },
   {
    "duration": 462,
    "start_time": "2021-07-12T08:46:47.760Z"
   },
   {
    "duration": 475,
    "start_time": "2021-07-12T08:46:48.224Z"
   },
   {
    "duration": 459,
    "start_time": "2021-07-12T08:46:48.701Z"
   },
   {
    "duration": 524,
    "start_time": "2021-07-12T08:46:49.162Z"
   },
   {
    "duration": 6,
    "start_time": "2021-07-12T08:46:49.688Z"
   },
   {
    "duration": 7,
    "start_time": "2021-07-12T08:46:49.696Z"
   },
   {
    "duration": 24,
    "start_time": "2021-07-12T08:46:49.704Z"
   },
   {
    "duration": 694,
    "start_time": "2021-07-12T08:47:10.031Z"
   },
   {
    "duration": 84,
    "start_time": "2021-07-12T08:47:10.727Z"
   },
   {
    "duration": 8,
    "start_time": "2021-07-12T08:47:10.813Z"
   },
   {
    "duration": 11,
    "start_time": "2021-07-12T08:47:10.822Z"
   },
   {
    "duration": 64,
    "start_time": "2021-07-12T08:47:10.835Z"
   },
   {
    "duration": 25,
    "start_time": "2021-07-12T08:47:10.900Z"
   },
   {
    "duration": 16,
    "start_time": "2021-07-12T08:47:10.927Z"
   },
   {
    "duration": 115,
    "start_time": "2021-07-12T08:47:10.945Z"
   },
   {
    "duration": 30,
    "start_time": "2021-07-12T08:47:11.063Z"
   },
   {
    "duration": 24,
    "start_time": "2021-07-12T08:47:11.095Z"
   },
   {
    "duration": 8,
    "start_time": "2021-07-12T08:47:11.120Z"
   },
   {
    "duration": 62,
    "start_time": "2021-07-12T08:47:11.129Z"
   },
   {
    "duration": 390,
    "start_time": "2021-07-12T08:47:11.193Z"
   },
   {
    "duration": 38,
    "start_time": "2021-07-12T08:47:11.585Z"
   },
   {
    "duration": 12,
    "start_time": "2021-07-12T08:47:11.625Z"
   },
   {
    "duration": 315,
    "start_time": "2021-07-12T08:47:11.638Z"
   },
   {
    "duration": 265,
    "start_time": "2021-07-12T08:47:11.954Z"
   },
   {
    "duration": 262,
    "start_time": "2021-07-12T08:47:12.220Z"
   },
   {
    "duration": 245,
    "start_time": "2021-07-12T08:47:12.484Z"
   },
   {
    "duration": 256,
    "start_time": "2021-07-12T08:47:12.731Z"
   },
   {
    "duration": 5,
    "start_time": "2021-07-12T08:47:12.989Z"
   },
   {
    "duration": 12,
    "start_time": "2021-07-12T08:47:12.996Z"
   },
   {
    "duration": 39,
    "start_time": "2021-07-12T08:47:13.010Z"
   },
   {
    "duration": 20,
    "start_time": "2021-07-12T08:47:13.051Z"
   },
   {
    "duration": 6,
    "start_time": "2021-07-12T08:47:13.073Z"
   },
   {
    "duration": 27,
    "start_time": "2021-07-12T08:47:13.080Z"
   },
   {
    "duration": 519,
    "start_time": "2021-07-12T08:47:13.110Z"
   },
   {
    "duration": 506,
    "start_time": "2021-07-12T08:47:13.631Z"
   },
   {
    "duration": 518,
    "start_time": "2021-07-12T08:47:14.139Z"
   },
   {
    "duration": 450,
    "start_time": "2021-07-12T08:47:14.659Z"
   },
   {
    "duration": 442,
    "start_time": "2021-07-12T08:47:15.111Z"
   },
   {
    "duration": 495,
    "start_time": "2021-07-12T08:47:15.555Z"
   },
   {
    "duration": 478,
    "start_time": "2021-07-12T08:47:16.052Z"
   },
   {
    "duration": 7,
    "start_time": "2021-07-12T08:47:16.531Z"
   },
   {
    "duration": 7,
    "start_time": "2021-07-12T08:47:16.539Z"
   },
   {
    "duration": 39,
    "start_time": "2021-07-12T08:47:16.548Z"
   },
   {
    "duration": 312,
    "start_time": "2021-07-12T08:47:43.792Z"
   },
   {
    "duration": 671,
    "start_time": "2021-07-12T08:47:48.344Z"
   },
   {
    "duration": 76,
    "start_time": "2021-07-12T08:47:49.017Z"
   },
   {
    "duration": 8,
    "start_time": "2021-07-12T08:47:49.095Z"
   },
   {
    "duration": 8,
    "start_time": "2021-07-12T08:47:49.105Z"
   },
   {
    "duration": 41,
    "start_time": "2021-07-12T08:47:49.114Z"
   },
   {
    "duration": 25,
    "start_time": "2021-07-12T08:47:49.184Z"
   },
   {
    "duration": 14,
    "start_time": "2021-07-12T08:47:49.211Z"
   },
   {
    "duration": 116,
    "start_time": "2021-07-12T08:47:49.227Z"
   },
   {
    "duration": 18,
    "start_time": "2021-07-12T08:47:49.345Z"
   },
   {
    "duration": 39,
    "start_time": "2021-07-12T08:47:49.364Z"
   },
   {
    "duration": 8,
    "start_time": "2021-07-12T08:47:49.405Z"
   },
   {
    "duration": 48,
    "start_time": "2021-07-12T08:47:49.414Z"
   },
   {
    "duration": 417,
    "start_time": "2021-07-12T08:47:49.464Z"
   },
   {
    "duration": 39,
    "start_time": "2021-07-12T08:47:49.885Z"
   },
   {
    "duration": 14,
    "start_time": "2021-07-12T08:47:49.926Z"
   },
   {
    "duration": 316,
    "start_time": "2021-07-12T08:47:49.942Z"
   },
   {
    "duration": 269,
    "start_time": "2021-07-12T08:47:50.259Z"
   },
   {
    "duration": 262,
    "start_time": "2021-07-12T08:47:50.529Z"
   },
   {
    "duration": 250,
    "start_time": "2021-07-12T08:47:50.793Z"
   },
   {
    "duration": 266,
    "start_time": "2021-07-12T08:47:51.044Z"
   },
   {
    "duration": 5,
    "start_time": "2021-07-12T08:47:51.311Z"
   },
   {
    "duration": 4,
    "start_time": "2021-07-12T08:47:51.318Z"
   },
   {
    "duration": 28,
    "start_time": "2021-07-12T08:47:51.323Z"
   },
   {
    "duration": 40,
    "start_time": "2021-07-12T08:47:51.352Z"
   },
   {
    "duration": 7,
    "start_time": "2021-07-12T08:47:51.394Z"
   },
   {
    "duration": 8,
    "start_time": "2021-07-12T08:47:51.402Z"
   },
   {
    "duration": 506,
    "start_time": "2021-07-12T08:47:51.413Z"
   },
   {
    "duration": 507,
    "start_time": "2021-07-12T08:47:51.922Z"
   },
   {
    "duration": 521,
    "start_time": "2021-07-12T08:47:52.430Z"
   },
   {
    "duration": 468,
    "start_time": "2021-07-12T08:47:52.952Z"
   },
   {
    "duration": 464,
    "start_time": "2021-07-12T08:47:53.422Z"
   },
   {
    "duration": 474,
    "start_time": "2021-07-12T08:47:53.888Z"
   },
   {
    "duration": 480,
    "start_time": "2021-07-12T08:47:54.364Z"
   },
   {
    "duration": 6,
    "start_time": "2021-07-12T08:47:54.846Z"
   },
   {
    "duration": 7,
    "start_time": "2021-07-12T08:47:54.854Z"
   },
   {
    "duration": 35,
    "start_time": "2021-07-12T08:47:54.863Z"
   },
   {
    "duration": 693,
    "start_time": "2021-07-12T08:54:37.826Z"
   },
   {
    "duration": 79,
    "start_time": "2021-07-12T08:54:38.521Z"
   },
   {
    "duration": 8,
    "start_time": "2021-07-12T08:54:38.602Z"
   },
   {
    "duration": 10,
    "start_time": "2021-07-12T08:54:38.612Z"
   },
   {
    "duration": 64,
    "start_time": "2021-07-12T08:54:38.623Z"
   },
   {
    "duration": 23,
    "start_time": "2021-07-12T08:54:38.689Z"
   },
   {
    "duration": 14,
    "start_time": "2021-07-12T08:54:38.713Z"
   },
   {
    "duration": 117,
    "start_time": "2021-07-12T08:54:38.728Z"
   },
   {
    "duration": 16,
    "start_time": "2021-07-12T08:54:38.848Z"
   },
   {
    "duration": 35,
    "start_time": "2021-07-12T08:54:38.867Z"
   },
   {
    "duration": 7,
    "start_time": "2021-07-12T08:54:38.903Z"
   },
   {
    "duration": 63,
    "start_time": "2021-07-12T08:54:38.912Z"
   },
   {
    "duration": 403,
    "start_time": "2021-07-12T08:54:38.977Z"
   },
   {
    "duration": 39,
    "start_time": "2021-07-12T08:54:39.382Z"
   },
   {
    "duration": 13,
    "start_time": "2021-07-12T08:54:39.422Z"
   },
   {
    "duration": 308,
    "start_time": "2021-07-12T08:54:39.437Z"
   },
   {
    "duration": 276,
    "start_time": "2021-07-12T08:54:39.746Z"
   },
   {
    "duration": 272,
    "start_time": "2021-07-12T08:54:40.023Z"
   },
   {
    "duration": 252,
    "start_time": "2021-07-12T08:54:40.297Z"
   },
   {
    "duration": 258,
    "start_time": "2021-07-12T08:54:40.551Z"
   },
   {
    "duration": 5,
    "start_time": "2021-07-12T08:54:40.811Z"
   },
   {
    "duration": 5,
    "start_time": "2021-07-12T08:54:40.817Z"
   },
   {
    "duration": 28,
    "start_time": "2021-07-12T08:54:40.823Z"
   },
   {
    "duration": 44,
    "start_time": "2021-07-12T08:54:40.852Z"
   },
   {
    "duration": 7,
    "start_time": "2021-07-12T08:54:40.898Z"
   },
   {
    "duration": 8,
    "start_time": "2021-07-12T08:54:40.907Z"
   },
   {
    "duration": 499,
    "start_time": "2021-07-12T08:54:40.919Z"
   },
   {
    "duration": 518,
    "start_time": "2021-07-12T08:54:41.421Z"
   },
   {
    "duration": 499,
    "start_time": "2021-07-12T08:54:41.941Z"
   },
   {
    "duration": 482,
    "start_time": "2021-07-12T08:54:42.442Z"
   },
   {
    "duration": 488,
    "start_time": "2021-07-12T08:54:42.926Z"
   },
   {
    "duration": 453,
    "start_time": "2021-07-12T08:54:43.416Z"
   },
   {
    "duration": 475,
    "start_time": "2021-07-12T08:54:43.871Z"
   },
   {
    "duration": 6,
    "start_time": "2021-07-12T08:54:44.348Z"
   },
   {
    "duration": 7,
    "start_time": "2021-07-12T08:54:44.356Z"
   },
   {
    "duration": 39,
    "start_time": "2021-07-12T08:54:44.365Z"
   },
   {
    "duration": 9,
    "start_time": "2021-07-12T08:58:38.773Z"
   },
   {
    "duration": 76,
    "start_time": "2021-07-12T09:35:23.351Z"
   },
   {
    "duration": 57,
    "start_time": "2021-07-12T09:35:36.099Z"
   },
   {
    "duration": 16,
    "start_time": "2021-07-12T09:36:28.642Z"
   },
   {
    "duration": 730,
    "start_time": "2021-07-12T09:36:33.477Z"
   },
   {
    "duration": 85,
    "start_time": "2021-07-12T09:36:34.209Z"
   },
   {
    "duration": 8,
    "start_time": "2021-07-12T09:36:34.296Z"
   },
   {
    "duration": 20,
    "start_time": "2021-07-12T09:36:34.306Z"
   },
   {
    "duration": 58,
    "start_time": "2021-07-12T09:36:34.327Z"
   },
   {
    "duration": 25,
    "start_time": "2021-07-12T09:36:34.386Z"
   },
   {
    "duration": 15,
    "start_time": "2021-07-12T09:36:34.412Z"
   },
   {
    "duration": 121,
    "start_time": "2021-07-12T09:36:34.430Z"
   },
   {
    "duration": 18,
    "start_time": "2021-07-12T09:36:34.553Z"
   },
   {
    "duration": 25,
    "start_time": "2021-07-12T09:36:34.584Z"
   },
   {
    "duration": 7,
    "start_time": "2021-07-12T09:36:34.611Z"
   },
   {
    "duration": 66,
    "start_time": "2021-07-12T09:36:34.619Z"
   },
   {
    "duration": 399,
    "start_time": "2021-07-12T09:36:34.686Z"
   },
   {
    "duration": 37,
    "start_time": "2021-07-12T09:36:35.087Z"
   },
   {
    "duration": 12,
    "start_time": "2021-07-12T09:36:35.126Z"
   },
   {
    "duration": 350,
    "start_time": "2021-07-12T09:36:35.139Z"
   },
   {
    "duration": 268,
    "start_time": "2021-07-12T09:36:35.491Z"
   },
   {
    "duration": 269,
    "start_time": "2021-07-12T09:36:35.761Z"
   },
   {
    "duration": 404,
    "start_time": "2021-07-12T09:36:36.031Z"
   },
   {
    "duration": 303,
    "start_time": "2021-07-12T09:36:36.437Z"
   },
   {
    "duration": 4,
    "start_time": "2021-07-12T09:36:36.742Z"
   },
   {
    "duration": 15,
    "start_time": "2021-07-12T09:36:36.748Z"
   },
   {
    "duration": 48,
    "start_time": "2021-07-12T09:36:36.766Z"
   },
   {
    "duration": 14,
    "start_time": "2021-07-12T09:36:36.816Z"
   },
   {
    "duration": 22,
    "start_time": "2021-07-12T09:36:36.832Z"
   },
   {
    "duration": 18,
    "start_time": "2021-07-12T09:36:36.856Z"
   },
   {
    "duration": 517,
    "start_time": "2021-07-12T09:36:36.876Z"
   },
   {
    "duration": 479,
    "start_time": "2021-07-12T09:36:37.395Z"
   },
   {
    "duration": 494,
    "start_time": "2021-07-12T09:36:37.876Z"
   },
   {
    "duration": 490,
    "start_time": "2021-07-12T09:36:38.372Z"
   },
   {
    "duration": 488,
    "start_time": "2021-07-12T09:36:38.864Z"
   },
   {
    "duration": 501,
    "start_time": "2021-07-12T09:36:39.354Z"
   },
   {
    "duration": 485,
    "start_time": "2021-07-12T09:36:39.857Z"
   },
   {
    "duration": 7,
    "start_time": "2021-07-12T09:36:40.343Z"
   },
   {
    "duration": 27,
    "start_time": "2021-07-12T09:36:40.351Z"
   },
   {
    "duration": 32,
    "start_time": "2021-07-12T09:36:40.380Z"
   },
   {
    "duration": 15,
    "start_time": "2021-07-12T09:36:40.413Z"
   },
   {
    "duration": 12,
    "start_time": "2021-07-12T09:37:29.223Z"
   },
   {
    "duration": 730,
    "start_time": "2021-07-12T09:37:34.660Z"
   },
   {
    "duration": 72,
    "start_time": "2021-07-12T09:37:35.391Z"
   },
   {
    "duration": 23,
    "start_time": "2021-07-12T09:37:35.467Z"
   },
   {
    "duration": 8,
    "start_time": "2021-07-12T09:37:35.491Z"
   },
   {
    "duration": 51,
    "start_time": "2021-07-12T09:37:35.500Z"
   },
   {
    "duration": 47,
    "start_time": "2021-07-12T09:37:35.552Z"
   },
   {
    "duration": 15,
    "start_time": "2021-07-12T09:37:35.602Z"
   },
   {
    "duration": 115,
    "start_time": "2021-07-12T09:37:35.619Z"
   },
   {
    "duration": 18,
    "start_time": "2021-07-12T09:37:35.736Z"
   },
   {
    "duration": 41,
    "start_time": "2021-07-12T09:37:35.757Z"
   },
   {
    "duration": 9,
    "start_time": "2021-07-12T09:37:35.800Z"
   },
   {
    "duration": 50,
    "start_time": "2021-07-12T09:37:35.811Z"
   },
   {
    "duration": 426,
    "start_time": "2021-07-12T09:37:35.863Z"
   },
   {
    "duration": 41,
    "start_time": "2021-07-12T09:37:36.292Z"
   },
   {
    "duration": 15,
    "start_time": "2021-07-12T09:37:36.335Z"
   },
   {
    "duration": 318,
    "start_time": "2021-07-12T09:37:36.352Z"
   },
   {
    "duration": 262,
    "start_time": "2021-07-12T09:37:36.672Z"
   },
   {
    "duration": 264,
    "start_time": "2021-07-12T09:37:36.936Z"
   },
   {
    "duration": 268,
    "start_time": "2021-07-12T09:37:37.202Z"
   },
   {
    "duration": 262,
    "start_time": "2021-07-12T09:37:37.472Z"
   },
   {
    "duration": 7,
    "start_time": "2021-07-12T09:37:37.735Z"
   },
   {
    "duration": 2,
    "start_time": "2021-07-12T09:37:37.746Z"
   },
   {
    "duration": 51,
    "start_time": "2021-07-12T09:37:37.751Z"
   },
   {
    "duration": 16,
    "start_time": "2021-07-12T09:37:37.804Z"
   },
   {
    "duration": 8,
    "start_time": "2021-07-12T09:37:37.822Z"
   },
   {
    "duration": 10,
    "start_time": "2021-07-12T09:37:37.832Z"
   },
   {
    "duration": 511,
    "start_time": "2021-07-12T09:37:37.843Z"
   },
   {
    "duration": 487,
    "start_time": "2021-07-12T09:37:38.356Z"
   },
   {
    "duration": 488,
    "start_time": "2021-07-12T09:37:38.844Z"
   },
   {
    "duration": 459,
    "start_time": "2021-07-12T09:37:39.334Z"
   },
   {
    "duration": 468,
    "start_time": "2021-07-12T09:37:39.795Z"
   },
   {
    "duration": 469,
    "start_time": "2021-07-12T09:37:40.265Z"
   },
   {
    "duration": 503,
    "start_time": "2021-07-12T09:37:40.735Z"
   },
   {
    "duration": 8,
    "start_time": "2021-07-12T09:37:41.240Z"
   },
   {
    "duration": 10,
    "start_time": "2021-07-12T09:37:41.251Z"
   },
   {
    "duration": 27,
    "start_time": "2021-07-12T09:37:41.285Z"
   },
   {
    "duration": 13,
    "start_time": "2021-07-12T09:37:41.314Z"
   },
   {
    "duration": 31,
    "start_time": "2021-07-12T09:38:22.068Z"
   },
   {
    "duration": 723,
    "start_time": "2021-07-12T09:38:26.987Z"
   },
   {
    "duration": 82,
    "start_time": "2021-07-12T09:38:27.712Z"
   },
   {
    "duration": 9,
    "start_time": "2021-07-12T09:38:27.796Z"
   },
   {
    "duration": 13,
    "start_time": "2021-07-12T09:38:27.807Z"
   },
   {
    "duration": 65,
    "start_time": "2021-07-12T09:38:27.821Z"
   },
   {
    "duration": 24,
    "start_time": "2021-07-12T09:38:27.887Z"
   },
   {
    "duration": 15,
    "start_time": "2021-07-12T09:38:27.912Z"
   },
   {
    "duration": 124,
    "start_time": "2021-07-12T09:38:27.930Z"
   },
   {
    "duration": 17,
    "start_time": "2021-07-12T09:38:28.056Z"
   },
   {
    "duration": 30,
    "start_time": "2021-07-12T09:38:28.074Z"
   },
   {
    "duration": 7,
    "start_time": "2021-07-12T09:38:28.106Z"
   },
   {
    "duration": 45,
    "start_time": "2021-07-12T09:38:28.114Z"
   },
   {
    "duration": 411,
    "start_time": "2021-07-12T09:38:28.161Z"
   },
   {
    "duration": 42,
    "start_time": "2021-07-12T09:38:28.574Z"
   },
   {
    "duration": 13,
    "start_time": "2021-07-12T09:38:28.618Z"
   },
   {
    "duration": 306,
    "start_time": "2021-07-12T09:38:28.632Z"
   },
   {
    "duration": 261,
    "start_time": "2021-07-12T09:38:28.939Z"
   },
   {
    "duration": 283,
    "start_time": "2021-07-12T09:38:29.201Z"
   },
   {
    "duration": 258,
    "start_time": "2021-07-12T09:38:29.486Z"
   },
   {
    "duration": 260,
    "start_time": "2021-07-12T09:38:29.746Z"
   },
   {
    "duration": 5,
    "start_time": "2021-07-12T09:38:30.008Z"
   },
   {
    "duration": 6,
    "start_time": "2021-07-12T09:38:30.015Z"
   },
   {
    "duration": 31,
    "start_time": "2021-07-12T09:38:30.024Z"
   },
   {
    "duration": 33,
    "start_time": "2021-07-12T09:38:30.061Z"
   },
   {
    "duration": 6,
    "start_time": "2021-07-12T09:38:30.096Z"
   },
   {
    "duration": 14,
    "start_time": "2021-07-12T09:38:30.103Z"
   },
   {
    "duration": 505,
    "start_time": "2021-07-12T09:38:30.119Z"
   },
   {
    "duration": 494,
    "start_time": "2021-07-12T09:38:30.626Z"
   },
   {
    "duration": 512,
    "start_time": "2021-07-12T09:38:31.122Z"
   },
   {
    "duration": 461,
    "start_time": "2021-07-12T09:38:31.636Z"
   },
   {
    "duration": 457,
    "start_time": "2021-07-12T09:38:32.099Z"
   },
   {
    "duration": 473,
    "start_time": "2021-07-12T09:38:32.557Z"
   },
   {
    "duration": 493,
    "start_time": "2021-07-12T09:38:33.031Z"
   },
   {
    "duration": 6,
    "start_time": "2021-07-12T09:38:33.526Z"
   },
   {
    "duration": 8,
    "start_time": "2021-07-12T09:38:33.534Z"
   },
   {
    "duration": 42,
    "start_time": "2021-07-12T09:38:33.543Z"
   },
   {
    "duration": 26,
    "start_time": "2021-07-12T09:38:33.587Z"
   },
   {
    "duration": 4457,
    "start_time": "2021-07-12T09:40:56.981Z"
   },
   {
    "duration": 198,
    "start_time": "2021-07-12T09:43:32.398Z"
   },
   {
    "duration": 739,
    "start_time": "2021-07-12T09:43:37.700Z"
   },
   {
    "duration": 84,
    "start_time": "2021-07-12T09:43:38.440Z"
   },
   {
    "duration": 9,
    "start_time": "2021-07-12T09:43:38.526Z"
   },
   {
    "duration": 12,
    "start_time": "2021-07-12T09:43:38.536Z"
   },
   {
    "duration": 67,
    "start_time": "2021-07-12T09:43:38.549Z"
   },
   {
    "duration": 23,
    "start_time": "2021-07-12T09:43:38.618Z"
   },
   {
    "duration": 44,
    "start_time": "2021-07-12T09:43:38.643Z"
   },
   {
    "duration": 103,
    "start_time": "2021-07-12T09:43:38.689Z"
   },
   {
    "duration": 18,
    "start_time": "2021-07-12T09:43:38.794Z"
   },
   {
    "duration": 25,
    "start_time": "2021-07-12T09:43:38.814Z"
   },
   {
    "duration": 8,
    "start_time": "2021-07-12T09:43:38.840Z"
   },
   {
    "duration": 74,
    "start_time": "2021-07-12T09:43:38.850Z"
   },
   {
    "duration": 414,
    "start_time": "2021-07-12T09:43:38.925Z"
   },
   {
    "duration": 45,
    "start_time": "2021-07-12T09:43:39.341Z"
   },
   {
    "duration": 13,
    "start_time": "2021-07-12T09:43:39.387Z"
   },
   {
    "duration": 309,
    "start_time": "2021-07-12T09:43:39.401Z"
   },
   {
    "duration": 276,
    "start_time": "2021-07-12T09:43:39.712Z"
   },
   {
    "duration": 267,
    "start_time": "2021-07-12T09:43:39.990Z"
   },
   {
    "duration": 250,
    "start_time": "2021-07-12T09:43:40.259Z"
   },
   {
    "duration": 263,
    "start_time": "2021-07-12T09:43:40.510Z"
   },
   {
    "duration": 5,
    "start_time": "2021-07-12T09:43:40.775Z"
   },
   {
    "duration": 4,
    "start_time": "2021-07-12T09:43:40.784Z"
   },
   {
    "duration": 26,
    "start_time": "2021-07-12T09:43:40.791Z"
   },
   {
    "duration": 14,
    "start_time": "2021-07-12T09:43:40.818Z"
   },
   {
    "duration": 7,
    "start_time": "2021-07-12T09:43:40.834Z"
   },
   {
    "duration": 48,
    "start_time": "2021-07-12T09:43:40.842Z"
   },
   {
    "duration": 493,
    "start_time": "2021-07-12T09:43:40.891Z"
   },
   {
    "duration": 464,
    "start_time": "2021-07-12T09:43:41.386Z"
   },
   {
    "duration": 490,
    "start_time": "2021-07-12T09:43:41.851Z"
   },
   {
    "duration": 464,
    "start_time": "2021-07-12T09:43:42.343Z"
   },
   {
    "duration": 466,
    "start_time": "2021-07-12T09:43:42.809Z"
   },
   {
    "duration": 463,
    "start_time": "2021-07-12T09:43:43.277Z"
   },
   {
    "duration": 494,
    "start_time": "2021-07-12T09:43:43.742Z"
   },
   {
    "duration": 9,
    "start_time": "2021-07-12T09:43:44.238Z"
   },
   {
    "duration": 8,
    "start_time": "2021-07-12T09:43:44.249Z"
   },
   {
    "duration": 51,
    "start_time": "2021-07-12T09:43:44.259Z"
   },
   {
    "duration": -19,
    "start_time": "2021-07-12T09:43:44.590Z"
   },
   {
    "duration": 60,
    "start_time": "2021-07-12T09:43:48.738Z"
   },
   {
    "duration": 228,
    "start_time": "2021-07-12T09:43:53.873Z"
   },
   {
    "duration": 43,
    "start_time": "2021-07-12T09:44:57.171Z"
   },
   {
    "duration": 32,
    "start_time": "2021-07-12T09:46:04.206Z"
   },
   {
    "duration": 34,
    "start_time": "2021-07-12T09:46:13.939Z"
   },
   {
    "duration": 38,
    "start_time": "2021-07-12T09:46:46.860Z"
   },
   {
    "duration": 4595,
    "start_time": "2021-07-12T10:13:59.475Z"
   },
   {
    "duration": 40,
    "start_time": "2021-07-12T10:14:59.218Z"
   },
   {
    "duration": 4508,
    "start_time": "2021-07-12T10:43:37.736Z"
   },
   {
    "duration": 4841,
    "start_time": "2021-07-12T10:44:15.600Z"
   },
   {
    "duration": 200,
    "start_time": "2021-07-12T10:47:01.776Z"
   },
   {
    "duration": 715,
    "start_time": "2021-07-12T10:48:03.806Z"
   },
   {
    "duration": 80,
    "start_time": "2021-07-12T10:48:04.523Z"
   },
   {
    "duration": 8,
    "start_time": "2021-07-12T10:48:04.606Z"
   },
   {
    "duration": 8,
    "start_time": "2021-07-12T10:48:04.616Z"
   },
   {
    "duration": 65,
    "start_time": "2021-07-12T10:48:04.625Z"
   },
   {
    "duration": 22,
    "start_time": "2021-07-12T10:48:04.692Z"
   },
   {
    "duration": 15,
    "start_time": "2021-07-12T10:48:04.716Z"
   },
   {
    "duration": 115,
    "start_time": "2021-07-12T10:48:04.734Z"
   },
   {
    "duration": 17,
    "start_time": "2021-07-12T10:48:04.851Z"
   },
   {
    "duration": 45,
    "start_time": "2021-07-12T10:48:04.870Z"
   },
   {
    "duration": 9,
    "start_time": "2021-07-12T10:48:04.916Z"
   },
   {
    "duration": 66,
    "start_time": "2021-07-12T10:48:04.927Z"
   },
   {
    "duration": 427,
    "start_time": "2021-07-12T10:48:04.995Z"
   },
   {
    "duration": 39,
    "start_time": "2021-07-12T10:48:05.423Z"
   },
   {
    "duration": 26,
    "start_time": "2021-07-12T10:48:05.464Z"
   },
   {
    "duration": 295,
    "start_time": "2021-07-12T10:48:05.491Z"
   },
   {
    "duration": 277,
    "start_time": "2021-07-12T10:48:05.788Z"
   },
   {
    "duration": 325,
    "start_time": "2021-07-12T10:48:06.066Z"
   },
   {
    "duration": 256,
    "start_time": "2021-07-12T10:48:06.393Z"
   },
   {
    "duration": 273,
    "start_time": "2021-07-12T10:48:06.651Z"
   },
   {
    "duration": 6,
    "start_time": "2021-07-12T10:48:06.926Z"
   },
   {
    "duration": 6,
    "start_time": "2021-07-12T10:48:06.933Z"
   },
   {
    "duration": 26,
    "start_time": "2021-07-12T10:48:06.942Z"
   },
   {
    "duration": 18,
    "start_time": "2021-07-12T10:48:06.970Z"
   },
   {
    "duration": 6,
    "start_time": "2021-07-12T10:48:06.990Z"
   },
   {
    "duration": 8,
    "start_time": "2021-07-12T10:48:06.998Z"
   },
   {
    "duration": 601,
    "start_time": "2021-07-12T10:48:07.008Z"
   },
   {
    "duration": 520,
    "start_time": "2021-07-12T10:48:07.611Z"
   },
   {
    "duration": 517,
    "start_time": "2021-07-12T10:48:08.132Z"
   },
   {
    "duration": 457,
    "start_time": "2021-07-12T10:48:08.651Z"
   },
   {
    "duration": 468,
    "start_time": "2021-07-12T10:48:09.110Z"
   },
   {
    "duration": 466,
    "start_time": "2021-07-12T10:48:09.580Z"
   },
   {
    "duration": 484,
    "start_time": "2021-07-12T10:48:10.048Z"
   },
   {
    "duration": 7,
    "start_time": "2021-07-12T10:48:10.534Z"
   },
   {
    "duration": 14,
    "start_time": "2021-07-12T10:48:10.542Z"
   },
   {
    "duration": 37,
    "start_time": "2021-07-12T10:48:10.557Z"
   },
   {
    "duration": 4716,
    "start_time": "2021-07-12T10:48:10.596Z"
   },
   {
    "duration": -561,
    "start_time": "2021-07-12T10:48:15.875Z"
   },
   {
    "duration": 6682,
    "start_time": "2021-07-12T10:49:22.533Z"
   },
   {
    "duration": 5124,
    "start_time": "2021-07-12T10:50:06.017Z"
   },
   {
    "duration": 40,
    "start_time": "2021-07-12T10:53:37.282Z"
   },
   {
    "duration": 43,
    "start_time": "2021-07-12T11:04:24.222Z"
   },
   {
    "duration": 41,
    "start_time": "2021-07-12T11:04:30.674Z"
   },
   {
    "duration": 37,
    "start_time": "2021-07-12T11:05:50.090Z"
   },
   {
    "duration": 185,
    "start_time": "2021-07-12T11:07:54.456Z"
   },
   {
    "duration": 7,
    "start_time": "2021-07-12T11:08:20.785Z"
   },
   {
    "duration": 463,
    "start_time": "2021-07-12T11:09:23.856Z"
   },
   {
    "duration": 153,
    "start_time": "2021-07-12T11:10:11.233Z"
   },
   {
    "duration": 153,
    "start_time": "2021-07-12T11:11:01.727Z"
   },
   {
    "duration": 551,
    "start_time": "2021-07-12T11:11:29.887Z"
   },
   {
    "duration": 308,
    "start_time": "2021-07-12T11:11:40.351Z"
   },
   {
    "duration": 160,
    "start_time": "2021-07-12T11:12:09.402Z"
   },
   {
    "duration": 347,
    "start_time": "2021-07-12T11:12:57.472Z"
   },
   {
    "duration": 404,
    "start_time": "2021-07-12T11:16:06.294Z"
   },
   {
    "duration": 313,
    "start_time": "2021-07-12T11:16:46.433Z"
   },
   {
    "duration": 157,
    "start_time": "2021-07-12T11:17:10.087Z"
   },
   {
    "duration": 149,
    "start_time": "2021-07-12T11:17:14.839Z"
   },
   {
    "duration": 161,
    "start_time": "2021-07-12T11:17:20.671Z"
   },
   {
    "duration": 157,
    "start_time": "2021-07-12T11:17:26.472Z"
   },
   {
    "duration": 149,
    "start_time": "2021-07-12T11:17:34.601Z"
   },
   {
    "duration": 75,
    "start_time": "2021-07-12T11:17:49.559Z"
   },
   {
    "duration": 56,
    "start_time": "2021-07-12T11:18:02.871Z"
   },
   {
    "duration": 58,
    "start_time": "2021-07-12T11:18:07.577Z"
   },
   {
    "duration": 159,
    "start_time": "2021-07-12T11:18:16.191Z"
   },
   {
    "duration": 2426,
    "start_time": "2021-07-12T11:18:37.928Z"
   },
   {
    "duration": 228,
    "start_time": "2021-07-12T11:18:50.959Z"
   },
   {
    "duration": 264,
    "start_time": "2021-07-12T11:18:58.263Z"
   },
   {
    "duration": 297,
    "start_time": "2021-07-12T11:19:43.175Z"
   },
   {
    "duration": 252,
    "start_time": "2021-07-12T11:19:51.184Z"
   },
   {
    "duration": 262,
    "start_time": "2021-07-12T11:20:11.687Z"
   },
   {
    "duration": 271,
    "start_time": "2021-07-12T11:20:49.304Z"
   },
   {
    "duration": 206,
    "start_time": "2021-07-12T11:20:56.936Z"
   },
   {
    "duration": 166,
    "start_time": "2021-07-12T11:30:40.271Z"
   },
   {
    "duration": 162,
    "start_time": "2021-07-12T11:31:25.110Z"
   },
   {
    "duration": 5,
    "start_time": "2021-07-12T11:32:04.520Z"
   },
   {
    "duration": 151,
    "start_time": "2021-07-12T11:32:05.512Z"
   },
   {
    "duration": 8,
    "start_time": "2021-07-12T11:32:22.542Z"
   },
   {
    "duration": 167,
    "start_time": "2021-07-12T11:36:02.871Z"
   },
   {
    "duration": 157,
    "start_time": "2021-07-12T11:36:42.078Z"
   },
   {
    "duration": 259,
    "start_time": "2021-07-12T11:46:04.227Z"
   },
   {
    "duration": 154,
    "start_time": "2021-07-12T11:46:14.599Z"
   },
   {
    "duration": 192,
    "start_time": "2021-07-12T12:24:12.612Z"
   },
   {
    "duration": 210,
    "start_time": "2021-07-12T12:25:35.790Z"
   },
   {
    "duration": 183,
    "start_time": "2021-07-12T12:26:06.500Z"
   },
   {
    "duration": 24,
    "start_time": "2021-07-12T12:26:34.325Z"
   },
   {
    "duration": 10,
    "start_time": "2021-07-12T12:27:07.037Z"
   },
   {
    "duration": 8,
    "start_time": "2021-07-12T12:27:20.349Z"
   },
   {
    "duration": 9,
    "start_time": "2021-07-12T12:28:11.669Z"
   },
   {
    "duration": 9,
    "start_time": "2021-07-12T12:29:30.405Z"
   },
   {
    "duration": 11,
    "start_time": "2021-07-12T12:32:46.404Z"
   },
   {
    "duration": 188,
    "start_time": "2021-07-12T12:34:30.508Z"
   },
   {
    "duration": 15,
    "start_time": "2021-07-12T12:34:34.557Z"
   },
   {
    "duration": 5,
    "start_time": "2021-07-12T12:34:36.132Z"
   },
   {
    "duration": 7,
    "start_time": "2021-07-12T12:34:50.443Z"
   },
   {
    "duration": 6,
    "start_time": "2021-07-12T12:35:21.492Z"
   },
   {
    "duration": 7,
    "start_time": "2021-07-12T12:36:51.316Z"
   },
   {
    "duration": 6,
    "start_time": "2021-07-12T12:37:03.275Z"
   },
   {
    "duration": 8,
    "start_time": "2021-07-12T12:37:58.476Z"
   },
   {
    "duration": 66,
    "start_time": "2021-07-12T12:39:43.109Z"
   },
   {
    "duration": 375,
    "start_time": "2021-07-12T12:39:58.875Z"
   },
   {
    "duration": 68,
    "start_time": "2021-07-12T12:40:09.112Z"
   },
   {
    "duration": 197,
    "start_time": "2021-07-12T12:40:36.204Z"
   },
   {
    "duration": 9,
    "start_time": "2021-07-12T12:41:39.693Z"
   },
   {
    "duration": 9,
    "start_time": "2021-07-12T12:41:55.979Z"
   },
   {
    "duration": 57,
    "start_time": "2021-07-12T12:42:39.739Z"
   },
   {
    "duration": 8,
    "start_time": "2021-07-12T12:42:46.811Z"
   },
   {
    "duration": 10,
    "start_time": "2021-07-12T12:44:01.788Z"
   },
   {
    "duration": 11,
    "start_time": "2021-07-12T12:45:09.348Z"
   },
   {
    "duration": 13,
    "start_time": "2021-07-12T12:46:24.343Z"
   },
   {
    "duration": 206,
    "start_time": "2021-07-12T12:48:07.896Z"
   },
   {
    "duration": 11,
    "start_time": "2021-07-12T12:48:29.133Z"
   },
   {
    "duration": 16,
    "start_time": "2021-07-12T12:48:44.884Z"
   },
   {
    "duration": 262,
    "start_time": "2021-07-12T12:48:50.948Z"
   },
   {
    "duration": 16,
    "start_time": "2021-07-12T12:53:14.843Z"
   },
   {
    "duration": 16,
    "start_time": "2021-07-12T12:54:07.732Z"
   },
   {
    "duration": 207,
    "start_time": "2021-07-12T12:56:26.277Z"
   },
   {
    "duration": 60,
    "start_time": "2021-07-12T12:57:07.653Z"
   },
   {
    "duration": 194,
    "start_time": "2021-07-12T12:57:15.972Z"
   },
   {
    "duration": 481,
    "start_time": "2021-07-12T12:57:39.803Z"
   },
   {
    "duration": 1520,
    "start_time": "2021-07-12T12:57:44.103Z"
   },
   {
    "duration": 81,
    "start_time": "2021-07-12T12:57:45.625Z"
   },
   {
    "duration": 9,
    "start_time": "2021-07-12T12:57:45.708Z"
   },
   {
    "duration": 9,
    "start_time": "2021-07-12T12:57:45.718Z"
   },
   {
    "duration": 59,
    "start_time": "2021-07-12T12:57:45.728Z"
   },
   {
    "duration": 32,
    "start_time": "2021-07-12T12:57:45.789Z"
   },
   {
    "duration": 15,
    "start_time": "2021-07-12T12:57:45.823Z"
   },
   {
    "duration": 103,
    "start_time": "2021-07-12T12:57:45.839Z"
   },
   {
    "duration": 17,
    "start_time": "2021-07-12T12:57:45.945Z"
   },
   {
    "duration": 33,
    "start_time": "2021-07-12T12:57:45.964Z"
   },
   {
    "duration": 8,
    "start_time": "2021-07-12T12:57:45.999Z"
   },
   {
    "duration": 48,
    "start_time": "2021-07-12T12:57:46.008Z"
   },
   {
    "duration": 460,
    "start_time": "2021-07-12T12:57:46.058Z"
   },
   {
    "duration": 38,
    "start_time": "2021-07-12T12:57:46.520Z"
   },
   {
    "duration": 30,
    "start_time": "2021-07-12T12:57:46.561Z"
   },
   {
    "duration": 307,
    "start_time": "2021-07-12T12:57:46.593Z"
   },
   {
    "duration": 269,
    "start_time": "2021-07-12T12:57:46.902Z"
   },
   {
    "duration": 225,
    "start_time": "2021-07-12T12:57:47.173Z"
   },
   {
    "duration": 254,
    "start_time": "2021-07-12T12:57:47.400Z"
   },
   {
    "duration": 262,
    "start_time": "2021-07-12T12:57:47.656Z"
   },
   {
    "duration": 6,
    "start_time": "2021-07-12T12:57:47.920Z"
   },
   {
    "duration": 5,
    "start_time": "2021-07-12T12:57:47.928Z"
   },
   {
    "duration": 26,
    "start_time": "2021-07-12T12:57:47.934Z"
   },
   {
    "duration": 35,
    "start_time": "2021-07-12T12:57:47.961Z"
   },
   {
    "duration": 7,
    "start_time": "2021-07-12T12:57:47.998Z"
   },
   {
    "duration": 8,
    "start_time": "2021-07-12T12:57:48.007Z"
   },
   {
    "duration": 511,
    "start_time": "2021-07-12T12:57:48.019Z"
   },
   {
    "duration": 569,
    "start_time": "2021-07-12T12:57:48.532Z"
   },
   {
    "duration": 489,
    "start_time": "2021-07-12T12:57:49.102Z"
   },
   {
    "duration": 437,
    "start_time": "2021-07-12T12:57:49.592Z"
   },
   {
    "duration": 495,
    "start_time": "2021-07-12T12:57:50.031Z"
   },
   {
    "duration": 508,
    "start_time": "2021-07-12T12:57:50.528Z"
   },
   {
    "duration": 490,
    "start_time": "2021-07-12T12:57:51.039Z"
   },
   {
    "duration": 8,
    "start_time": "2021-07-12T12:57:51.531Z"
   },
   {
    "duration": 9,
    "start_time": "2021-07-12T12:57:51.540Z"
   },
   {
    "duration": 50,
    "start_time": "2021-07-12T12:57:51.551Z"
   },
   {
    "duration": 218,
    "start_time": "2021-07-12T12:57:51.604Z"
   },
   {
    "duration": 39,
    "start_time": "2021-07-12T12:57:51.823Z"
   },
   {
    "duration": 22,
    "start_time": "2021-07-12T12:57:51.863Z"
   },
   {
    "duration": 156,
    "start_time": "2021-07-12T12:57:51.887Z"
   },
   {
    "duration": 15,
    "start_time": "2021-07-12T12:57:52.045Z"
   },
   {
    "duration": 300,
    "start_time": "2021-07-12T12:57:52.061Z"
   },
   {
    "duration": 300,
    "start_time": "2021-07-12T12:59:02.184Z"
   },
   {
    "duration": 204,
    "start_time": "2021-07-12T12:59:17.816Z"
   },
   {
    "duration": 192,
    "start_time": "2021-07-12T13:00:03.879Z"
   },
   {
    "duration": 292,
    "start_time": "2021-07-12T13:03:53.984Z"
   },
   {
    "duration": 65,
    "start_time": "2021-07-12T13:04:45.810Z"
   },
   {
    "duration": 22,
    "start_time": "2021-07-12T13:04:51.000Z"
   },
   {
    "duration": 14,
    "start_time": "2021-07-12T13:06:59.118Z"
   },
   {
    "duration": 19,
    "start_time": "2021-07-12T13:06:59.879Z"
   },
   {
    "duration": 104,
    "start_time": "2021-07-12T13:12:41.894Z"
   },
   {
    "duration": 14,
    "start_time": "2021-07-12T13:14:02.030Z"
   },
   {
    "duration": 13,
    "start_time": "2021-07-12T13:15:17.710Z"
   },
   {
    "duration": 64,
    "start_time": "2021-07-12T13:20:14.806Z"
   },
   {
    "duration": 13,
    "start_time": "2021-07-12T13:21:34.494Z"
   },
   {
    "duration": 15,
    "start_time": "2021-07-12T13:22:23.174Z"
   },
   {
    "duration": 25,
    "start_time": "2021-07-12T13:23:46.150Z"
   },
   {
    "duration": 16,
    "start_time": "2021-07-12T13:26:48.013Z"
   },
   {
    "duration": 1204,
    "start_time": "2021-07-12T13:26:59.937Z"
   },
   {
    "duration": 83,
    "start_time": "2021-07-12T13:27:01.143Z"
   },
   {
    "duration": 14,
    "start_time": "2021-07-12T13:27:01.229Z"
   },
   {
    "duration": 71,
    "start_time": "2021-07-12T13:27:01.245Z"
   },
   {
    "duration": 25,
    "start_time": "2021-07-12T13:27:01.318Z"
   },
   {
    "duration": 13,
    "start_time": "2021-07-12T13:27:01.345Z"
   },
   {
    "duration": 133,
    "start_time": "2021-07-12T13:27:01.360Z"
   },
   {
    "duration": 21,
    "start_time": "2021-07-12T13:27:01.497Z"
   },
   {
    "duration": 28,
    "start_time": "2021-07-12T13:27:01.520Z"
   },
   {
    "duration": 42,
    "start_time": "2021-07-12T13:27:01.550Z"
   },
   {
    "duration": 55,
    "start_time": "2021-07-12T13:27:01.594Z"
   },
   {
    "duration": 423,
    "start_time": "2021-07-12T13:27:01.651Z"
   },
   {
    "duration": 48,
    "start_time": "2021-07-12T13:27:02.075Z"
   },
   {
    "duration": 13,
    "start_time": "2021-07-12T13:27:02.125Z"
   },
   {
    "duration": 326,
    "start_time": "2021-07-12T13:27:02.139Z"
   },
   {
    "duration": 289,
    "start_time": "2021-07-12T13:27:02.467Z"
   },
   {
    "duration": 239,
    "start_time": "2021-07-12T13:27:02.758Z"
   },
   {
    "duration": 276,
    "start_time": "2021-07-12T13:27:02.999Z"
   },
   {
    "duration": 269,
    "start_time": "2021-07-12T13:27:03.284Z"
   },
   {
    "duration": 6,
    "start_time": "2021-07-12T13:27:03.555Z"
   },
   {
    "duration": 10,
    "start_time": "2021-07-12T13:27:03.562Z"
   },
   {
    "duration": 40,
    "start_time": "2021-07-12T13:27:03.574Z"
   },
   {
    "duration": 15,
    "start_time": "2021-07-12T13:27:03.617Z"
   },
   {
    "duration": 6,
    "start_time": "2021-07-12T13:27:03.634Z"
   },
   {
    "duration": 9,
    "start_time": "2021-07-12T13:27:03.642Z"
   },
   {
    "duration": 506,
    "start_time": "2021-07-12T13:27:03.652Z"
   },
   {
    "duration": 598,
    "start_time": "2021-07-12T13:27:04.160Z"
   },
   {
    "duration": 507,
    "start_time": "2021-07-12T13:27:04.760Z"
   },
   {
    "duration": 471,
    "start_time": "2021-07-12T13:27:05.269Z"
   },
   {
    "duration": 524,
    "start_time": "2021-07-12T13:27:05.743Z"
   },
   {
    "duration": 503,
    "start_time": "2021-07-12T13:27:06.270Z"
   },
   {
    "duration": 490,
    "start_time": "2021-07-12T13:27:06.776Z"
   },
   {
    "duration": 25,
    "start_time": "2021-07-12T13:27:07.268Z"
   },
   {
    "duration": 8,
    "start_time": "2021-07-12T13:27:07.295Z"
   },
   {
    "duration": 23,
    "start_time": "2021-07-12T13:27:07.305Z"
   },
   {
    "duration": 221,
    "start_time": "2021-07-12T13:27:07.329Z"
   },
   {
    "duration": 48,
    "start_time": "2021-07-12T13:27:07.552Z"
   },
   {
    "duration": 6,
    "start_time": "2021-07-12T13:27:07.602Z"
   },
   {
    "duration": 184,
    "start_time": "2021-07-12T13:27:07.609Z"
   },
   {
    "duration": 10,
    "start_time": "2021-07-12T13:27:07.795Z"
   },
   {
    "duration": 329,
    "start_time": "2021-07-12T13:27:07.807Z"
   },
   {
    "duration": 27,
    "start_time": "2021-07-12T13:27:45.549Z"
   },
   {
    "duration": 1158,
    "start_time": "2021-07-12T13:29:26.577Z"
   },
   {
    "duration": 86,
    "start_time": "2021-07-12T13:29:27.737Z"
   },
   {
    "duration": 15,
    "start_time": "2021-07-12T13:29:27.825Z"
   },
   {
    "duration": 63,
    "start_time": "2021-07-12T13:29:27.842Z"
   },
   {
    "duration": 25,
    "start_time": "2021-07-12T13:29:27.907Z"
   },
   {
    "duration": 14,
    "start_time": "2021-07-12T13:29:27.934Z"
   },
   {
    "duration": 117,
    "start_time": "2021-07-12T13:29:27.949Z"
   },
   {
    "duration": 25,
    "start_time": "2021-07-12T13:29:28.067Z"
   },
   {
    "duration": 26,
    "start_time": "2021-07-12T13:29:28.095Z"
   },
   {
    "duration": 7,
    "start_time": "2021-07-12T13:29:28.123Z"
   },
   {
    "duration": 66,
    "start_time": "2021-07-12T13:29:28.132Z"
   },
   {
    "duration": 417,
    "start_time": "2021-07-12T13:29:28.200Z"
   },
   {
    "duration": 39,
    "start_time": "2021-07-12T13:29:28.618Z"
   },
   {
    "duration": 28,
    "start_time": "2021-07-12T13:29:28.659Z"
   },
   {
    "duration": 295,
    "start_time": "2021-07-12T13:29:28.689Z"
   },
   {
    "duration": 269,
    "start_time": "2021-07-12T13:29:28.986Z"
   },
   {
    "duration": 245,
    "start_time": "2021-07-12T13:29:29.257Z"
   },
   {
    "duration": 264,
    "start_time": "2021-07-12T13:29:29.503Z"
   },
   {
    "duration": 273,
    "start_time": "2021-07-12T13:29:29.769Z"
   },
   {
    "duration": 5,
    "start_time": "2021-07-12T13:29:30.043Z"
   },
   {
    "duration": 15,
    "start_time": "2021-07-12T13:29:30.050Z"
   },
   {
    "duration": 107,
    "start_time": "2021-07-12T13:29:30.067Z"
   },
   {
    "duration": 24,
    "start_time": "2021-07-12T13:29:30.176Z"
   },
   {
    "duration": 6,
    "start_time": "2021-07-12T13:29:30.202Z"
   },
   {
    "duration": 14,
    "start_time": "2021-07-12T13:29:30.210Z"
   },
   {
    "duration": 528,
    "start_time": "2021-07-12T13:29:30.226Z"
   },
   {
    "duration": 484,
    "start_time": "2021-07-12T13:29:30.757Z"
   },
   {
    "duration": 516,
    "start_time": "2021-07-12T13:29:31.243Z"
   },
   {
    "duration": 444,
    "start_time": "2021-07-12T13:29:31.761Z"
   },
   {
    "duration": 442,
    "start_time": "2021-07-12T13:29:32.207Z"
   },
   {
    "duration": 480,
    "start_time": "2021-07-12T13:29:32.651Z"
   },
   {
    "duration": 505,
    "start_time": "2021-07-12T13:29:33.133Z"
   },
   {
    "duration": 6,
    "start_time": "2021-07-12T13:29:33.640Z"
   },
   {
    "duration": 8,
    "start_time": "2021-07-12T13:29:33.648Z"
   },
   {
    "duration": 45,
    "start_time": "2021-07-12T13:29:33.657Z"
   },
   {
    "duration": 212,
    "start_time": "2021-07-12T13:29:33.703Z"
   },
   {
    "duration": 37,
    "start_time": "2021-07-12T13:29:33.916Z"
   },
   {
    "duration": 5,
    "start_time": "2021-07-12T13:29:33.955Z"
   },
   {
    "duration": 167,
    "start_time": "2021-07-12T13:29:33.984Z"
   },
   {
    "duration": 10,
    "start_time": "2021-07-12T13:29:34.152Z"
   },
   {
    "duration": 301,
    "start_time": "2021-07-12T13:29:34.164Z"
   },
   {
    "duration": 42,
    "start_time": "2021-07-12T13:33:45.763Z"
   },
   {
    "duration": 37,
    "start_time": "2021-07-12T13:34:03.614Z"
   },
   {
    "duration": 36,
    "start_time": "2021-07-12T13:41:14.021Z"
   },
   {
    "duration": 498,
    "start_time": "2021-07-12T13:55:18.340Z"
   },
   {
    "duration": 474,
    "start_time": "2021-07-12T13:55:34.306Z"
   },
   {
    "duration": 2143,
    "start_time": "2021-07-12T13:55:47.931Z"
   },
   {
    "duration": 536,
    "start_time": "2021-07-12T13:55:56.553Z"
   },
   {
    "duration": 387,
    "start_time": "2021-07-13T06:44:02.986Z"
   },
   {
    "duration": 327,
    "start_time": "2021-07-13T06:44:11.947Z"
   },
   {
    "duration": 1626,
    "start_time": "2021-07-13T06:44:20.647Z"
   },
   {
    "duration": 129,
    "start_time": "2021-07-13T06:44:22.276Z"
   },
   {
    "duration": 17,
    "start_time": "2021-07-13T06:44:22.412Z"
   },
   {
    "duration": 95,
    "start_time": "2021-07-13T06:44:22.432Z"
   },
   {
    "duration": 68,
    "start_time": "2021-07-13T06:44:22.529Z"
   },
   {
    "duration": 23,
    "start_time": "2021-07-13T06:44:22.600Z"
   },
   {
    "duration": 173,
    "start_time": "2021-07-13T06:44:22.627Z"
   },
   {
    "duration": 28,
    "start_time": "2021-07-13T06:44:22.803Z"
   },
   {
    "duration": 66,
    "start_time": "2021-07-13T06:44:22.833Z"
   },
   {
    "duration": 11,
    "start_time": "2021-07-13T06:44:22.902Z"
   },
   {
    "duration": 96,
    "start_time": "2021-07-13T06:44:22.916Z"
   },
   {
    "duration": 711,
    "start_time": "2021-07-13T06:44:23.015Z"
   },
   {
    "duration": 81,
    "start_time": "2021-07-13T06:44:23.729Z"
   },
   {
    "duration": 23,
    "start_time": "2021-07-13T06:44:23.813Z"
   },
   {
    "duration": 518,
    "start_time": "2021-07-13T06:44:23.839Z"
   },
   {
    "duration": 449,
    "start_time": "2021-07-13T06:44:24.368Z"
   },
   {
    "duration": 388,
    "start_time": "2021-07-13T06:44:24.820Z"
   },
   {
    "duration": 443,
    "start_time": "2021-07-13T06:44:25.210Z"
   },
   {
    "duration": 445,
    "start_time": "2021-07-13T06:44:25.656Z"
   },
   {
    "duration": 7,
    "start_time": "2021-07-13T06:44:26.103Z"
   },
   {
    "duration": 4,
    "start_time": "2021-07-13T06:44:26.112Z"
   },
   {
    "duration": 138,
    "start_time": "2021-07-13T06:44:26.120Z"
   },
   {
    "duration": 26,
    "start_time": "2021-07-13T06:44:26.261Z"
   },
   {
    "duration": 10,
    "start_time": "2021-07-13T06:44:26.289Z"
   },
   {
    "duration": 12,
    "start_time": "2021-07-13T06:44:26.301Z"
   },
   {
    "duration": 759,
    "start_time": "2021-07-13T06:44:26.315Z"
   },
   {
    "duration": 722,
    "start_time": "2021-07-13T06:44:27.077Z"
   },
   {
    "duration": 714,
    "start_time": "2021-07-13T06:44:27.802Z"
   },
   {
    "duration": 650,
    "start_time": "2021-07-13T06:44:28.519Z"
   },
   {
    "duration": 727,
    "start_time": "2021-07-13T06:44:29.172Z"
   },
   {
    "duration": 710,
    "start_time": "2021-07-13T06:44:29.901Z"
   },
   {
    "duration": 719,
    "start_time": "2021-07-13T06:44:30.614Z"
   },
   {
    "duration": 8,
    "start_time": "2021-07-13T06:44:31.336Z"
   },
   {
    "duration": 28,
    "start_time": "2021-07-13T06:44:31.346Z"
   },
   {
    "duration": 49,
    "start_time": "2021-07-13T06:44:31.376Z"
   },
   {
    "duration": 367,
    "start_time": "2021-07-13T06:44:31.427Z"
   },
   {
    "duration": 53,
    "start_time": "2021-07-13T06:44:31.796Z"
   },
   {
    "duration": 15,
    "start_time": "2021-07-13T06:44:31.868Z"
   },
   {
    "duration": 308,
    "start_time": "2021-07-13T06:44:31.886Z"
   },
   {
    "duration": 15,
    "start_time": "2021-07-13T06:44:32.196Z"
   },
   {
    "duration": 670,
    "start_time": "2021-07-13T06:44:32.213Z"
   },
   {
    "duration": 41,
    "start_time": "2021-07-13T06:44:58.159Z"
   },
   {
    "duration": 1612,
    "start_time": "2021-07-13T06:45:03.085Z"
   },
   {
    "duration": 122,
    "start_time": "2021-07-13T06:45:04.699Z"
   },
   {
    "duration": 18,
    "start_time": "2021-07-13T06:45:04.823Z"
   },
   {
    "duration": 85,
    "start_time": "2021-07-13T06:45:04.843Z"
   },
   {
    "duration": 71,
    "start_time": "2021-07-13T06:45:04.930Z"
   },
   {
    "duration": 22,
    "start_time": "2021-07-13T06:45:05.003Z"
   },
   {
    "duration": 176,
    "start_time": "2021-07-13T06:45:05.028Z"
   },
   {
    "duration": 26,
    "start_time": "2021-07-13T06:45:05.208Z"
   },
   {
    "duration": 61,
    "start_time": "2021-07-13T06:45:05.237Z"
   },
   {
    "duration": 11,
    "start_time": "2021-07-13T06:45:05.300Z"
   },
   {
    "duration": 93,
    "start_time": "2021-07-13T06:45:05.313Z"
   },
   {
    "duration": 709,
    "start_time": "2021-07-13T06:45:05.408Z"
   },
   {
    "duration": 79,
    "start_time": "2021-07-13T06:45:06.120Z"
   },
   {
    "duration": 20,
    "start_time": "2021-07-13T06:45:06.201Z"
   },
   {
    "duration": 514,
    "start_time": "2021-07-13T06:45:06.224Z"
   },
   {
    "duration": 449,
    "start_time": "2021-07-13T06:45:06.740Z"
   },
   {
    "duration": 375,
    "start_time": "2021-07-13T06:45:07.192Z"
   },
   {
    "duration": 429,
    "start_time": "2021-07-13T06:45:07.569Z"
   },
   {
    "duration": 429,
    "start_time": "2021-07-13T06:45:08.001Z"
   },
   {
    "duration": 7,
    "start_time": "2021-07-13T06:45:08.432Z"
   },
   {
    "duration": 4,
    "start_time": "2021-07-13T06:45:08.442Z"
   },
   {
    "duration": 41,
    "start_time": "2021-07-13T06:45:08.468Z"
   },
   {
    "duration": 23,
    "start_time": "2021-07-13T06:45:08.514Z"
   },
   {
    "duration": 11,
    "start_time": "2021-07-13T06:45:08.569Z"
   },
   {
    "duration": 14,
    "start_time": "2021-07-13T06:45:08.583Z"
   },
   {
    "duration": 750,
    "start_time": "2021-07-13T06:45:08.600Z"
   },
   {
    "duration": 805,
    "start_time": "2021-07-13T06:45:09.352Z"
   },
   {
    "duration": 735,
    "start_time": "2021-07-13T06:45:10.159Z"
   },
   {
    "duration": 656,
    "start_time": "2021-07-13T06:45:10.897Z"
   },
   {
    "duration": 717,
    "start_time": "2021-07-13T06:45:11.556Z"
   },
   {
    "duration": 715,
    "start_time": "2021-07-13T06:45:12.275Z"
   },
   {
    "duration": 704,
    "start_time": "2021-07-13T06:45:12.992Z"
   },
   {
    "duration": 9,
    "start_time": "2021-07-13T06:45:13.698Z"
   },
   {
    "duration": 14,
    "start_time": "2021-07-13T06:45:13.709Z"
   },
   {
    "duration": 61,
    "start_time": "2021-07-13T06:45:13.725Z"
   },
   {
    "duration": 353,
    "start_time": "2021-07-13T06:45:13.788Z"
   },
   {
    "duration": 63,
    "start_time": "2021-07-13T06:45:14.143Z"
   },
   {
    "duration": 14,
    "start_time": "2021-07-13T06:45:14.208Z"
   },
   {
    "duration": 305,
    "start_time": "2021-07-13T06:45:14.224Z"
   },
   {
    "duration": 14,
    "start_time": "2021-07-13T06:45:14.531Z"
   },
   {
    "duration": 706,
    "start_time": "2021-07-13T06:45:14.548Z"
   },
   {
    "duration": 40,
    "start_time": "2021-07-13T06:45:27.421Z"
   },
   {
    "duration": 702,
    "start_time": "2021-07-13T06:46:07.236Z"
   },
   {
    "duration": 1637,
    "start_time": "2021-07-13T06:46:38.330Z"
   },
   {
    "duration": 122,
    "start_time": "2021-07-13T06:46:39.969Z"
   },
   {
    "duration": 18,
    "start_time": "2021-07-13T06:46:40.094Z"
   },
   {
    "duration": 92,
    "start_time": "2021-07-13T06:46:40.115Z"
   },
   {
    "duration": 59,
    "start_time": "2021-07-13T06:46:40.209Z"
   },
   {
    "duration": 23,
    "start_time": "2021-07-13T06:46:40.271Z"
   },
   {
    "duration": 183,
    "start_time": "2021-07-13T06:46:40.297Z"
   },
   {
    "duration": 29,
    "start_time": "2021-07-13T06:46:40.483Z"
   },
   {
    "duration": 76,
    "start_time": "2021-07-13T06:46:40.518Z"
   },
   {
    "duration": 12,
    "start_time": "2021-07-13T06:46:40.599Z"
   },
   {
    "duration": 99,
    "start_time": "2021-07-13T06:46:40.614Z"
   },
   {
    "duration": 737,
    "start_time": "2021-07-13T06:46:40.715Z"
   },
   {
    "duration": 72,
    "start_time": "2021-07-13T06:46:41.455Z"
   },
   {
    "duration": 47,
    "start_time": "2021-07-13T06:46:41.530Z"
   },
   {
    "duration": 496,
    "start_time": "2021-07-13T06:46:41.581Z"
   },
   {
    "duration": 440,
    "start_time": "2021-07-13T06:46:42.080Z"
   },
   {
    "duration": 398,
    "start_time": "2021-07-13T06:46:42.523Z"
   },
   {
    "duration": 421,
    "start_time": "2021-07-13T06:46:42.924Z"
   },
   {
    "duration": 427,
    "start_time": "2021-07-13T06:46:43.347Z"
   },
   {
    "duration": 8,
    "start_time": "2021-07-13T06:46:43.776Z"
   },
   {
    "duration": 5,
    "start_time": "2021-07-13T06:46:43.787Z"
   },
   {
    "duration": 136,
    "start_time": "2021-07-13T06:46:43.795Z"
   },
   {
    "duration": 39,
    "start_time": "2021-07-13T06:46:43.934Z"
   },
   {
    "duration": 10,
    "start_time": "2021-07-13T06:46:43.976Z"
   },
   {
    "duration": 16,
    "start_time": "2021-07-13T06:46:43.989Z"
   },
   {
    "duration": 781,
    "start_time": "2021-07-13T06:46:44.008Z"
   },
   {
    "duration": 713,
    "start_time": "2021-07-13T06:46:44.794Z"
   },
   {
    "duration": 733,
    "start_time": "2021-07-13T06:46:45.510Z"
   },
   {
    "duration": 768,
    "start_time": "2021-07-13T06:46:46.245Z"
   },
   {
    "duration": 711,
    "start_time": "2021-07-13T06:46:47.016Z"
   },
   {
    "duration": 762,
    "start_time": "2021-07-13T06:46:47.729Z"
   },
   {
    "duration": 732,
    "start_time": "2021-07-13T06:46:48.493Z"
   },
   {
    "duration": 9,
    "start_time": "2021-07-13T06:46:49.227Z"
   },
   {
    "duration": 61,
    "start_time": "2021-07-13T06:46:49.238Z"
   },
   {
    "duration": 44,
    "start_time": "2021-07-13T06:46:49.302Z"
   },
   {
    "duration": 365,
    "start_time": "2021-07-13T06:46:49.348Z"
   },
   {
    "duration": 70,
    "start_time": "2021-07-13T06:46:49.716Z"
   },
   {
    "duration": 20,
    "start_time": "2021-07-13T06:46:49.790Z"
   },
   {
    "duration": 314,
    "start_time": "2021-07-13T06:46:49.812Z"
   },
   {
    "duration": 14,
    "start_time": "2021-07-13T06:46:50.129Z"
   },
   {
    "duration": 805,
    "start_time": "2021-07-13T06:46:50.146Z"
   },
   {
    "duration": 1774,
    "start_time": "2021-07-13T07:06:12.631Z"
   },
   {
    "duration": 133,
    "start_time": "2021-07-13T07:06:14.408Z"
   },
   {
    "duration": 27,
    "start_time": "2021-07-13T07:06:14.544Z"
   },
   {
    "duration": 66,
    "start_time": "2021-07-13T07:06:14.574Z"
   },
   {
    "duration": 64,
    "start_time": "2021-07-13T07:06:14.642Z"
   },
   {
    "duration": 23,
    "start_time": "2021-07-13T07:06:14.708Z"
   },
   {
    "duration": 196,
    "start_time": "2021-07-13T07:06:14.733Z"
   },
   {
    "duration": 44,
    "start_time": "2021-07-13T07:06:14.933Z"
   },
   {
    "duration": 51,
    "start_time": "2021-07-13T07:06:14.981Z"
   },
   {
    "duration": 33,
    "start_time": "2021-07-13T07:06:15.034Z"
   },
   {
    "duration": 75,
    "start_time": "2021-07-13T07:06:15.069Z"
   },
   {
    "duration": 732,
    "start_time": "2021-07-13T07:06:15.147Z"
   },
   {
    "duration": 63,
    "start_time": "2021-07-13T07:06:15.881Z"
   },
   {
    "duration": 37,
    "start_time": "2021-07-13T07:06:15.946Z"
   },
   {
    "duration": 505,
    "start_time": "2021-07-13T07:06:15.985Z"
   },
   {
    "duration": 449,
    "start_time": "2021-07-13T07:06:16.492Z"
   },
   {
    "duration": 480,
    "start_time": "2021-07-13T07:06:16.944Z"
   },
   {
    "duration": 437,
    "start_time": "2021-07-13T07:06:17.426Z"
   },
   {
    "duration": 429,
    "start_time": "2021-07-13T07:06:17.868Z"
   },
   {
    "duration": 7,
    "start_time": "2021-07-13T07:06:18.299Z"
   },
   {
    "duration": 20,
    "start_time": "2021-07-13T07:06:18.309Z"
   },
   {
    "duration": 65,
    "start_time": "2021-07-13T07:06:18.331Z"
   },
   {
    "duration": 30,
    "start_time": "2021-07-13T07:06:18.404Z"
   },
   {
    "duration": 31,
    "start_time": "2021-07-13T07:06:18.438Z"
   },
   {
    "duration": 22,
    "start_time": "2021-07-13T07:06:18.472Z"
   },
   {
    "duration": 717,
    "start_time": "2021-07-13T07:06:18.497Z"
   },
   {
    "duration": 816,
    "start_time": "2021-07-13T07:06:19.216Z"
   },
   {
    "duration": 761,
    "start_time": "2021-07-13T07:06:20.034Z"
   },
   {
    "duration": 664,
    "start_time": "2021-07-13T07:06:20.798Z"
   },
   {
    "duration": 707,
    "start_time": "2021-07-13T07:06:21.467Z"
   },
   {
    "duration": 763,
    "start_time": "2021-07-13T07:06:22.177Z"
   },
   {
    "duration": 689,
    "start_time": "2021-07-13T07:06:22.943Z"
   },
   {
    "duration": 11,
    "start_time": "2021-07-13T07:06:23.635Z"
   },
   {
    "duration": 12,
    "start_time": "2021-07-13T07:06:23.668Z"
   },
   {
    "duration": 37,
    "start_time": "2021-07-13T07:06:23.683Z"
   },
   {
    "duration": 374,
    "start_time": "2021-07-13T07:06:23.723Z"
   },
   {
    "duration": 71,
    "start_time": "2021-07-13T07:06:24.100Z"
   },
   {
    "duration": 20,
    "start_time": "2021-07-13T07:06:24.174Z"
   },
   {
    "duration": 299,
    "start_time": "2021-07-13T07:06:24.197Z"
   },
   {
    "duration": 17,
    "start_time": "2021-07-13T07:06:24.500Z"
   },
   {
    "duration": 708,
    "start_time": "2021-07-13T07:06:24.519Z"
   },
   {
    "duration": 1087,
    "start_time": "2021-07-13T14:05:11.236Z"
   },
   {
    "duration": 79,
    "start_time": "2021-07-13T14:05:12.325Z"
   },
   {
    "duration": 12,
    "start_time": "2021-07-13T14:05:12.406Z"
   },
   {
    "duration": 42,
    "start_time": "2021-07-13T14:05:12.420Z"
   },
   {
    "duration": 26,
    "start_time": "2021-07-13T14:05:12.484Z"
   },
   {
    "duration": 14,
    "start_time": "2021-07-13T14:05:12.512Z"
   },
   {
    "duration": 113,
    "start_time": "2021-07-13T14:05:12.527Z"
   },
   {
    "duration": 17,
    "start_time": "2021-07-13T14:05:12.643Z"
   },
   {
    "duration": 41,
    "start_time": "2021-07-13T14:05:12.662Z"
   },
   {
    "duration": 8,
    "start_time": "2021-07-13T14:05:12.704Z"
   },
   {
    "duration": 46,
    "start_time": "2021-07-13T14:05:12.713Z"
   },
   {
    "duration": 413,
    "start_time": "2021-07-13T14:05:12.760Z"
   },
   {
    "duration": 43,
    "start_time": "2021-07-13T14:05:13.174Z"
   },
   {
    "duration": 12,
    "start_time": "2021-07-13T14:05:13.219Z"
   },
   {
    "duration": 305,
    "start_time": "2021-07-13T14:05:13.233Z"
   },
   {
    "duration": 265,
    "start_time": "2021-07-13T14:05:13.540Z"
   },
   {
    "duration": 222,
    "start_time": "2021-07-13T14:05:13.807Z"
   },
   {
    "duration": 266,
    "start_time": "2021-07-13T14:05:14.031Z"
   },
   {
    "duration": 279,
    "start_time": "2021-07-13T14:05:14.299Z"
   },
   {
    "duration": 7,
    "start_time": "2021-07-13T14:05:14.580Z"
   },
   {
    "duration": 4,
    "start_time": "2021-07-13T14:05:14.588Z"
   },
   {
    "duration": 26,
    "start_time": "2021-07-13T14:05:14.593Z"
   },
   {
    "duration": 14,
    "start_time": "2021-07-13T14:05:14.622Z"
   },
   {
    "duration": 6,
    "start_time": "2021-07-13T14:05:14.638Z"
   },
   {
    "duration": 40,
    "start_time": "2021-07-13T14:05:14.646Z"
   },
   {
    "duration": 479,
    "start_time": "2021-07-13T14:05:14.687Z"
   },
   {
    "duration": 558,
    "start_time": "2021-07-13T14:05:15.168Z"
   },
   {
    "duration": 523,
    "start_time": "2021-07-13T14:05:15.728Z"
   },
   {
    "duration": 448,
    "start_time": "2021-07-13T14:05:16.253Z"
   },
   {
    "duration": 494,
    "start_time": "2021-07-13T14:05:16.703Z"
   },
   {
    "duration": 655,
    "start_time": "2021-07-13T14:05:17.198Z"
   },
   {
    "duration": 533,
    "start_time": "2021-07-13T14:05:17.854Z"
   },
   {
    "duration": 6,
    "start_time": "2021-07-13T14:05:18.389Z"
   },
   {
    "duration": 10,
    "start_time": "2021-07-13T14:05:18.396Z"
   },
   {
    "duration": 29,
    "start_time": "2021-07-13T14:05:18.407Z"
   },
   {
    "duration": 196,
    "start_time": "2021-07-13T14:05:18.438Z"
   },
   {
    "duration": 33,
    "start_time": "2021-07-13T14:05:18.635Z"
   },
   {
    "duration": 289,
    "start_time": "2021-07-13T14:05:18.669Z"
   },
   {
    "duration": 169,
    "start_time": "2021-07-13T14:05:18.960Z"
   },
   {
    "duration": 10,
    "start_time": "2021-07-13T14:05:19.131Z"
   },
   {
    "duration": 3663,
    "start_time": "2021-07-13T14:05:19.143Z"
   }
  ],
  "hide_input": false,
  "kernelspec": {
   "display_name": "Python 3",
   "language": "python",
   "name": "python3"
  },
  "language_info": {
   "codemirror_mode": {
    "name": "ipython",
    "version": 3
   },
   "file_extension": ".py",
   "mimetype": "text/x-python",
   "name": "python",
   "nbconvert_exporter": "python",
   "pygments_lexer": "ipython3",
   "version": "3.7.4"
  },
  "toc": {
   "base_numbering": 1,
   "nav_menu": {},
   "number_sections": true,
   "sideBar": true,
   "skip_h1_title": true,
   "title_cell": "Содержание",
   "title_sidebar": "Contents",
   "toc_cell": true,
   "toc_position": {},
   "toc_section_display": true,
   "toc_window_display": true
  },
  "varInspector": {
   "cols": {
    "lenName": 16,
    "lenType": 16,
    "lenVar": 40
   },
   "kernels_config": {
    "python": {
     "delete_cmd_postfix": "",
     "delete_cmd_prefix": "del ",
     "library": "var_list.py",
     "varRefreshCmd": "print(var_dic_list())"
    },
    "r": {
     "delete_cmd_postfix": ") ",
     "delete_cmd_prefix": "rm(",
     "library": "var_list.r",
     "varRefreshCmd": "cat(var_dic_list()) "
    }
   },
   "types_to_exclude": [
    "module",
    "function",
    "builtin_function_or_method",
    "instance",
    "_Feature"
   ],
   "window_display": false
  }
 },
 "nbformat": 4,
 "nbformat_minor": 2
}
