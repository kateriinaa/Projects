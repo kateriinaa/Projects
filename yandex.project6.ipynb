{
 "cells": [
  {
   "cell_type": "markdown",
   "metadata": {
    "toc": true
   },
   "source": [
    "<h1>Содержание<span class=\"tocSkip\"></span></h1>\n",
    "<div class=\"toc\"><ul class=\"toc-item\"><li><span><a href=\"#Подготовка-данных\" data-toc-modified-id=\"Подготовка-данных-1\"><span class=\"toc-item-num\">1&nbsp;&nbsp;</span>Подготовка данных</a></span></li><li><span><a href=\"#Исследование-задачи\" data-toc-modified-id=\"Исследование-задачи-2\"><span class=\"toc-item-num\">2&nbsp;&nbsp;</span>Исследование задачи</a></span></li><li><span><a href=\"#Борьба-с-дисбалансом\" data-toc-modified-id=\"Борьба-с-дисбалансом-3\"><span class=\"toc-item-num\">3&nbsp;&nbsp;</span>Борьба с дисбалансом</a></span></li><li><span><a href=\"#Тестирование-модели\" data-toc-modified-id=\"Тестирование-модели-4\"><span class=\"toc-item-num\">4&nbsp;&nbsp;</span>Тестирование модели</a></span></li><li><span><a href=\"#Чек-лист-готовности-проекта\" data-toc-modified-id=\"Чек-лист-готовности-проекта-5\"><span class=\"toc-item-num\">5&nbsp;&nbsp;</span>Чек-лист готовности проекта</a></span></li></ul></div>"
   ]
  },
  {
   "cell_type": "markdown",
   "metadata": {},
   "source": [
    "# Отток клиентов"
   ]
  },
  {
   "cell_type": "markdown",
   "metadata": {},
   "source": [
    "Из «Бета-Банка» стали уходить клиенты. Каждый месяц. Немного, но заметно. Банковские маркетологи посчитали: сохранять текущих клиентов дешевле, чем привлекать новых.\n",
    "\n",
    "Нужно спрогнозировать, уйдёт клиент из банка в ближайшее время или нет. Вам предоставлены исторические данные о поведении клиентов и расторжении договоров с банком. \n",
    "\n",
    "Постройте модель с предельно большим значением *F1*-меры. Чтобы сдать проект успешно, нужно довести метрику до 0.59. Проверьте *F1*-меру на тестовой выборке самостоятельно.\n",
    "\n",
    "Дополнительно измеряйте *AUC-ROC*, сравнивайте её значение с *F1*-мерой.\n",
    "\n",
    "Источник данных: [https://www.kaggle.com/barelydedicated/bank-customer-churn-modeling](https://www.kaggle.com/barelydedicated/bank-customer-churn-modeling)\n",
    "\n",
    "Инструкция по выполнению проекта\n",
    "- Загрузите и подготовьте данные. Поясните порядок действий.\n",
    "- Исследуйте баланс классов, обучите модель без учёта дисбаланса. Кратко опишите выводы.\n",
    "- Улучшите качество модели, учитывая дисбаланс классов. Обучите разные модели и найдите лучшую. - Кратко опишите выводы.\n",
    "- Проведите финальное тестирование.\n",
    "\n",
    "Описание данных\n",
    "\n",
    "Данные находятся в файле /datasets/Churn.csv (англ. «отток клиентов»). Скачать датасет\n",
    "Признаки\n",
    "- RowNumber — индекс строки в данных\n",
    "- CustomerId — уникальный идентификатор клиента\n",
    "- Surname — фамилия\n",
    "- CreditScore — кредитный рейтинг\n",
    "- Geography — страна проживания\n",
    "- Gender — пол\n",
    "- Age — возраст\n",
    "- Tenure — сколько лет человек является клиентом банка\n",
    "- Balance — баланс на счёте\n",
    "- NumOfProducts — количество продуктов банка, используемых клиентом\n",
    "- HasCrCard — наличие кредитной карты\n",
    "- IsActiveMember — активность клиента\n",
    "- EstimatedSalary — предполагаемая зарплата\n",
    "\n",
    "Целевой признак\n",
    "- Exited — факт ухода клиента"
   ]
  },
  {
   "cell_type": "markdown",
   "metadata": {},
   "source": [
    "## Подготовка данных"
   ]
  },
  {
   "cell_type": "code",
   "execution_count": 1,
   "metadata": {},
   "outputs": [],
   "source": [
    "import pandas as pd\n",
    "import numpy as np\n",
    "import seaborn as sns\n",
    "from sklearn.model_selection import train_test_split\n",
    "import matplotlib.pyplot as plt\n",
    "from sklearn.preprocessing import StandardScaler "
   ]
  },
  {
   "cell_type": "code",
   "execution_count": 2,
   "metadata": {},
   "outputs": [
    {
     "data": {
      "text/html": [
       "<div>\n",
       "<style scoped>\n",
       "    .dataframe tbody tr th:only-of-type {\n",
       "        vertical-align: middle;\n",
       "    }\n",
       "\n",
       "    .dataframe tbody tr th {\n",
       "        vertical-align: top;\n",
       "    }\n",
       "\n",
       "    .dataframe thead th {\n",
       "        text-align: right;\n",
       "    }\n",
       "</style>\n",
       "<table border=\"1\" class=\"dataframe\">\n",
       "  <thead>\n",
       "    <tr style=\"text-align: right;\">\n",
       "      <th></th>\n",
       "      <th>RowNumber</th>\n",
       "      <th>CustomerId</th>\n",
       "      <th>Surname</th>\n",
       "      <th>CreditScore</th>\n",
       "      <th>Geography</th>\n",
       "      <th>Gender</th>\n",
       "      <th>Age</th>\n",
       "      <th>Tenure</th>\n",
       "      <th>Balance</th>\n",
       "      <th>NumOfProducts</th>\n",
       "      <th>HasCrCard</th>\n",
       "      <th>IsActiveMember</th>\n",
       "      <th>EstimatedSalary</th>\n",
       "      <th>Exited</th>\n",
       "    </tr>\n",
       "  </thead>\n",
       "  <tbody>\n",
       "    <tr>\n",
       "      <td>0</td>\n",
       "      <td>1</td>\n",
       "      <td>15634602</td>\n",
       "      <td>Hargrave</td>\n",
       "      <td>619</td>\n",
       "      <td>France</td>\n",
       "      <td>Female</td>\n",
       "      <td>42</td>\n",
       "      <td>2.0</td>\n",
       "      <td>0.00</td>\n",
       "      <td>1</td>\n",
       "      <td>1</td>\n",
       "      <td>1</td>\n",
       "      <td>101348.88</td>\n",
       "      <td>1</td>\n",
       "    </tr>\n",
       "    <tr>\n",
       "      <td>1</td>\n",
       "      <td>2</td>\n",
       "      <td>15647311</td>\n",
       "      <td>Hill</td>\n",
       "      <td>608</td>\n",
       "      <td>Spain</td>\n",
       "      <td>Female</td>\n",
       "      <td>41</td>\n",
       "      <td>1.0</td>\n",
       "      <td>83807.86</td>\n",
       "      <td>1</td>\n",
       "      <td>0</td>\n",
       "      <td>1</td>\n",
       "      <td>112542.58</td>\n",
       "      <td>0</td>\n",
       "    </tr>\n",
       "    <tr>\n",
       "      <td>2</td>\n",
       "      <td>3</td>\n",
       "      <td>15619304</td>\n",
       "      <td>Onio</td>\n",
       "      <td>502</td>\n",
       "      <td>France</td>\n",
       "      <td>Female</td>\n",
       "      <td>42</td>\n",
       "      <td>8.0</td>\n",
       "      <td>159660.80</td>\n",
       "      <td>3</td>\n",
       "      <td>1</td>\n",
       "      <td>0</td>\n",
       "      <td>113931.57</td>\n",
       "      <td>1</td>\n",
       "    </tr>\n",
       "    <tr>\n",
       "      <td>3</td>\n",
       "      <td>4</td>\n",
       "      <td>15701354</td>\n",
       "      <td>Boni</td>\n",
       "      <td>699</td>\n",
       "      <td>France</td>\n",
       "      <td>Female</td>\n",
       "      <td>39</td>\n",
       "      <td>1.0</td>\n",
       "      <td>0.00</td>\n",
       "      <td>2</td>\n",
       "      <td>0</td>\n",
       "      <td>0</td>\n",
       "      <td>93826.63</td>\n",
       "      <td>0</td>\n",
       "    </tr>\n",
       "    <tr>\n",
       "      <td>4</td>\n",
       "      <td>5</td>\n",
       "      <td>15737888</td>\n",
       "      <td>Mitchell</td>\n",
       "      <td>850</td>\n",
       "      <td>Spain</td>\n",
       "      <td>Female</td>\n",
       "      <td>43</td>\n",
       "      <td>2.0</td>\n",
       "      <td>125510.82</td>\n",
       "      <td>1</td>\n",
       "      <td>1</td>\n",
       "      <td>1</td>\n",
       "      <td>79084.10</td>\n",
       "      <td>0</td>\n",
       "    </tr>\n",
       "    <tr>\n",
       "      <td>...</td>\n",
       "      <td>...</td>\n",
       "      <td>...</td>\n",
       "      <td>...</td>\n",
       "      <td>...</td>\n",
       "      <td>...</td>\n",
       "      <td>...</td>\n",
       "      <td>...</td>\n",
       "      <td>...</td>\n",
       "      <td>...</td>\n",
       "      <td>...</td>\n",
       "      <td>...</td>\n",
       "      <td>...</td>\n",
       "      <td>...</td>\n",
       "      <td>...</td>\n",
       "    </tr>\n",
       "    <tr>\n",
       "      <td>9995</td>\n",
       "      <td>9996</td>\n",
       "      <td>15606229</td>\n",
       "      <td>Obijiaku</td>\n",
       "      <td>771</td>\n",
       "      <td>France</td>\n",
       "      <td>Male</td>\n",
       "      <td>39</td>\n",
       "      <td>5.0</td>\n",
       "      <td>0.00</td>\n",
       "      <td>2</td>\n",
       "      <td>1</td>\n",
       "      <td>0</td>\n",
       "      <td>96270.64</td>\n",
       "      <td>0</td>\n",
       "    </tr>\n",
       "    <tr>\n",
       "      <td>9996</td>\n",
       "      <td>9997</td>\n",
       "      <td>15569892</td>\n",
       "      <td>Johnstone</td>\n",
       "      <td>516</td>\n",
       "      <td>France</td>\n",
       "      <td>Male</td>\n",
       "      <td>35</td>\n",
       "      <td>10.0</td>\n",
       "      <td>57369.61</td>\n",
       "      <td>1</td>\n",
       "      <td>1</td>\n",
       "      <td>1</td>\n",
       "      <td>101699.77</td>\n",
       "      <td>0</td>\n",
       "    </tr>\n",
       "    <tr>\n",
       "      <td>9997</td>\n",
       "      <td>9998</td>\n",
       "      <td>15584532</td>\n",
       "      <td>Liu</td>\n",
       "      <td>709</td>\n",
       "      <td>France</td>\n",
       "      <td>Female</td>\n",
       "      <td>36</td>\n",
       "      <td>7.0</td>\n",
       "      <td>0.00</td>\n",
       "      <td>1</td>\n",
       "      <td>0</td>\n",
       "      <td>1</td>\n",
       "      <td>42085.58</td>\n",
       "      <td>1</td>\n",
       "    </tr>\n",
       "    <tr>\n",
       "      <td>9998</td>\n",
       "      <td>9999</td>\n",
       "      <td>15682355</td>\n",
       "      <td>Sabbatini</td>\n",
       "      <td>772</td>\n",
       "      <td>Germany</td>\n",
       "      <td>Male</td>\n",
       "      <td>42</td>\n",
       "      <td>3.0</td>\n",
       "      <td>75075.31</td>\n",
       "      <td>2</td>\n",
       "      <td>1</td>\n",
       "      <td>0</td>\n",
       "      <td>92888.52</td>\n",
       "      <td>1</td>\n",
       "    </tr>\n",
       "    <tr>\n",
       "      <td>9999</td>\n",
       "      <td>10000</td>\n",
       "      <td>15628319</td>\n",
       "      <td>Walker</td>\n",
       "      <td>792</td>\n",
       "      <td>France</td>\n",
       "      <td>Female</td>\n",
       "      <td>28</td>\n",
       "      <td>NaN</td>\n",
       "      <td>130142.79</td>\n",
       "      <td>1</td>\n",
       "      <td>1</td>\n",
       "      <td>0</td>\n",
       "      <td>38190.78</td>\n",
       "      <td>0</td>\n",
       "    </tr>\n",
       "  </tbody>\n",
       "</table>\n",
       "<p>10000 rows × 14 columns</p>\n",
       "</div>"
      ],
      "text/plain": [
       "      RowNumber  CustomerId    Surname  CreditScore Geography  Gender  Age  \\\n",
       "0             1    15634602   Hargrave          619    France  Female   42   \n",
       "1             2    15647311       Hill          608     Spain  Female   41   \n",
       "2             3    15619304       Onio          502    France  Female   42   \n",
       "3             4    15701354       Boni          699    France  Female   39   \n",
       "4             5    15737888   Mitchell          850     Spain  Female   43   \n",
       "...         ...         ...        ...          ...       ...     ...  ...   \n",
       "9995       9996    15606229   Obijiaku          771    France    Male   39   \n",
       "9996       9997    15569892  Johnstone          516    France    Male   35   \n",
       "9997       9998    15584532        Liu          709    France  Female   36   \n",
       "9998       9999    15682355  Sabbatini          772   Germany    Male   42   \n",
       "9999      10000    15628319     Walker          792    France  Female   28   \n",
       "\n",
       "      Tenure    Balance  NumOfProducts  HasCrCard  IsActiveMember  \\\n",
       "0        2.0       0.00              1          1               1   \n",
       "1        1.0   83807.86              1          0               1   \n",
       "2        8.0  159660.80              3          1               0   \n",
       "3        1.0       0.00              2          0               0   \n",
       "4        2.0  125510.82              1          1               1   \n",
       "...      ...        ...            ...        ...             ...   \n",
       "9995     5.0       0.00              2          1               0   \n",
       "9996    10.0   57369.61              1          1               1   \n",
       "9997     7.0       0.00              1          0               1   \n",
       "9998     3.0   75075.31              2          1               0   \n",
       "9999     NaN  130142.79              1          1               0   \n",
       "\n",
       "      EstimatedSalary  Exited  \n",
       "0           101348.88       1  \n",
       "1           112542.58       0  \n",
       "2           113931.57       1  \n",
       "3            93826.63       0  \n",
       "4            79084.10       0  \n",
       "...               ...     ...  \n",
       "9995         96270.64       0  \n",
       "9996        101699.77       0  \n",
       "9997         42085.58       1  \n",
       "9998         92888.52       1  \n",
       "9999         38190.78       0  \n",
       "\n",
       "[10000 rows x 14 columns]"
      ]
     },
     "execution_count": 2,
     "metadata": {},
     "output_type": "execute_result"
    }
   ],
   "source": [
    "data = pd.read_csv('/datasets/Churn.csv')\n",
    "data"
   ]
  },
  {
   "cell_type": "markdown",
   "metadata": {},
   "source": [
    "<div style=\"background: #cceeaa; padding: 5px; border: 1px solid green; border-radius: 5px;\">\n",
    "    <font color='green'> <b><u>КОММЕНТАРИЙ РЕВЬЮЕРА</u></b>\n",
    "</font>\n",
    "<font color='green'><br> ОК, данные на базе)"
   ]
  },
  {
   "cell_type": "code",
   "execution_count": 3,
   "metadata": {},
   "outputs": [
    {
     "name": "stdout",
     "output_type": "stream",
     "text": [
      "<class 'pandas.core.frame.DataFrame'>\n",
      "RangeIndex: 10000 entries, 0 to 9999\n",
      "Data columns (total 14 columns):\n",
      "RowNumber          10000 non-null int64\n",
      "CustomerId         10000 non-null int64\n",
      "Surname            10000 non-null object\n",
      "CreditScore        10000 non-null int64\n",
      "Geography          10000 non-null object\n",
      "Gender             10000 non-null object\n",
      "Age                10000 non-null int64\n",
      "Tenure             9091 non-null float64\n",
      "Balance            10000 non-null float64\n",
      "NumOfProducts      10000 non-null int64\n",
      "HasCrCard          10000 non-null int64\n",
      "IsActiveMember     10000 non-null int64\n",
      "EstimatedSalary    10000 non-null float64\n",
      "Exited             10000 non-null int64\n",
      "dtypes: float64(3), int64(8), object(3)\n",
      "memory usage: 1.1+ MB\n"
     ]
    }
   ],
   "source": [
    "data.info()"
   ]
  },
  {
   "cell_type": "code",
   "execution_count": 4,
   "metadata": {},
   "outputs": [
    {
     "data": {
      "text/plain": [
       "array(['France', 'Spain', 'Germany'], dtype=object)"
      ]
     },
     "execution_count": 4,
     "metadata": {},
     "output_type": "execute_result"
    }
   ],
   "source": [
    "data['Geography'].unique()"
   ]
  },
  {
   "cell_type": "code",
   "execution_count": 5,
   "metadata": {},
   "outputs": [],
   "source": [
    "data['Tenure'] = data['Tenure'].fillna(0)\n",
    "data = data.drop(['CustomerId', 'Surname', 'RowNumber'], axis = 1)"
   ]
  },
  {
   "cell_type": "markdown",
   "metadata": {},
   "source": [
    "<div style=\"background: #cceeaa; padding: 5px; border: 1px solid green; border-radius: 5px;\">\n",
    "    <font color='green'> <b><u>КОММЕНТАРИЙ РЕВЬЮЕРА</u></b>\n",
    "</font>\n",
    "<font color='green'><br>Категорически..... согласен с дропом.<br>\n",
    "    \n",
    "По tenure:<br>\n",
    "решение понятно, но обоснования ему нет, кроме предположения( Почему именно так решили заполнить? как это повлияет на результат моделирования? <br>\n",
    "<br> Возможно, что групповая (например по географии) медиана также не принесла бы большой ошибки. А может взять и удалить, чтобы не \"искушаться\"..Тут понятно, что однозначного решения нет, как и алгоритма. Правило только одно (как в медицине) - НЕ нарведи. Т.е. принимаемое решение должно соотноситься с возможным ущербом на конечный результат. В нашем случае ущерб от медианного заполнения ниже от ущерба удалить данные?. Причём выше/ниже - это только на чуйке/жизенном опыте смого аналитика.<br>\n",
    "Интересная это работа - быть DS-аналитиком)<br><br>\n",
    "    \n",
    "В данном случае, спарведливости ради, если построить распределение ДО и ПОСЛЕ заполнения пропусков, то увидим, что оно изменится. Т.е. данный подход несколько исказит инфо, а значит и результат моделирования будет уже не очень.<br> Тут лучшим способом будет - заполнение случайным числом.<br>\n",
    "    \n",
    "Ещё вараинт:<br> удалить пропущенные строки. А по окнчании построения модели, вывести важность факторов самой модели. И если фактор tenure окажется не значим, то как в принципе удалить его из моделирования, а первоначально удалённые строки - вернуть."
   ]
  },
  {
   "cell_type": "code",
   "execution_count": null,
   "metadata": {},
   "outputs": [],
   "source": []
  },
  {
   "cell_type": "code",
   "execution_count": 6,
   "metadata": {},
   "outputs": [],
   "source": [
    "data = pd.get_dummies(data, drop_first = True) \n",
    "#data = data.drop(['Gender_Female'], axis = 1)"
   ]
  },
  {
   "cell_type": "markdown",
   "metadata": {},
   "source": [
    "<div style=\"background: #cceeaa; padding: 5px; border: 1px solid green; border-radius: 5px;\">\n",
    "    <font color='green'> <b><u>КОММЕНТАРИЙ РЕВЬЮЕРА</u></b>\n",
    "</font>\n",
    "<font color='red'><br>Есть параметр drop_first=True - он как раз удаляет лишние столбцы. И вот в географии сейчас они остались( Тут такое правило: новых столбцов по категоризируемому фактору должно быть на 1 меньше, чем категорий у фактора. Например, возьмём фактор пол: 0 - это мужчины, а 1 - женщины. У нас один стообец - а описали 2 состояния пола. ОК. Возьмём географию - есть 3 состояния фактора. И тут кодируется так: 2 столбца появились - Германия и Испания. Рассмотрим по строкам: Германия =0, Испания=1 - тут понятно в модели будет работать Испния. Если Германия =1, а Испания=0 - В модели будет работать Германия. А если Германия=Испания=0, то в этотой строке, по умолчанию Франция = 1. Т.е. в модели будет работать Франция. Итого, у нас есть 3 состояния фаткора, значит на достаточно будет только 2-х столбцов. В общем-то это и есть правило: столбцов дамми-переменных на один меньше, чем состояний фатора."
   ]
  },
  {
   "cell_type": "code",
   "execution_count": 7,
   "metadata": {},
   "outputs": [
    {
     "data": {
      "text/plain": [
       "Text(0.5, 1, 'Triangle Correlation Heatmap')"
      ]
     },
     "execution_count": 7,
     "metadata": {},
     "output_type": "execute_result"
    },
    {
     "data": {
      "image/png": "[encoded data removed]",
      "text/plain": [
       "<Figure size 648x432 with 2 Axes>"
      ]
     },
     "metadata": {
      "needs_background": "light"
     },
     "output_type": "display_data"
    }
   ],
   "source": [
    "mask = np.triu(np.ones_like(data.corr(), dtype=np.bool)) \n",
    "plt.figure(figsize = (9,6))\n",
    "heatmap = sns.heatmap(data.corr(), annot = True,fmt = '.1g',linewidth = 0.5, mask=mask, cmap=\"YlGnBu\",vmin=-1, vmax=1 )\n",
    "heatmap.set_title('Triangle Correlation Heatmap', fontdict={'fontsize':12}, pad=6)"
   ]
  },
  {
   "cell_type": "markdown",
   "metadata": {},
   "source": [
    "<div style=\"background: #cceeaa; padding: 5px; border: 1px solid green; border-radius: 5px;\">\n",
    "<font color='green'><u><b>КОММЕНТАРИЙ РЕВЬЮЕРА</b></u>\n",
    "<font color='green'><br>\n",
    "ВАЖНО!!! по использованию корреляций<br>\n",
    "0) Этот инструмент - исключительно для данных в количественной шкале!!!!<br>\n",
    "Т.е. Exited и Вораст, например, - корреляцию не посмотреть. Т.к. Одна величина - номинальная (в виде 0 и 1, т.е. да/нет можно сказать), другая количественная. Поэтому для таких ситуаций подойдёт другая техника - сравнение групп (из темы \"проверка гипотез\" спринт 4).<br><br>\n",
    "1) Наряду с силой связи, есть ещё характертеристика уровня значимости. Т.е. на сколько выявленной связи можно доверять (это теория р-уровня значений. Ещё будете изучать. Советую (если не очень пока знаете что это) попытать наставника по этому вопросу) <br>\n",
    "\n",
    "2) Данные имеют склонность быть нормальными и ненормальными (вот ёлки, всё как у людей:)))<br>\n",
    "Этот факт важен при использовании расчётов коэффициента корреляции:<br>\n",
    "Если данные нормальные - используют критерий Пирсона. если ненормальный - критерий Спирмена)<br>  \n",
    "Есть ли последствия от \"ложного\" использования методов? Да - ложные управленческие выводы!!!!   <br><br>\n",
    "3) И ещё: корреляция - очень подвержена выбросам!!! Если в данных они есть - вывод буде ложный <br>\n",
    "4) Так же, очень важно соблюдать однородность выборки.  Если прорустить этот момент, то вывод может быть ложным<br>\n",
    "5) Возможно, что на разных участках - разная зависимоость. Тут важно, вместе с расчётами выводить график. И вместе всё глядеть.\n",
    "<br>\n",
    "    \n",
    "<font color='green'>\n",
    "Поэтому к данной матрице я бы пока сдержанно отнёсся)<br>\n",
    "Вот, например, сслучаи ложной корреляции (вторые три картинки):. \"ВЫБРОСЫ\": линия (по ней считается корреляция) смещена к отдельной точке, а должна проходить по скоплению точек. Отсюда имеем заниженный к-т корреляции."
   ]
  },
  {
   "attachments": {
    "image.png": {
     "image/png": "[encoded data removed]"
    }
   },
   "cell_type": "markdown",
   "metadata": {},
   "source": [
    "![image.png](attachment:image.png)"
   ]
  },
  {
   "cell_type": "code",
   "execution_count": 8,
   "metadata": {},
   "outputs": [],
   "source": [
    "#numeric = ['Balance', 'EstimatedSalary', 'Age', 'Tenure']\n",
    "#scaler = StandardScaler()\n",
    "#data[numeric] = scaler.fit_transform(data[numeric]) \n",
    "#data"
   ]
  },
  {
   "cell_type": "markdown",
   "metadata": {},
   "source": [
    "<div style=\"background: #cceeaa; padding: 5px; border: 1px solid green; border-radius: 5px;\">\n",
    "<font color='green'><u><b>КОММЕНТАРИЙ РЕВЬЮЕРА</b></u>\n",
    "<font color='green'><br>Идейно - понятно. И важно, что взяты только количественные данные.<font color='red'> <br>Но есть такой момент: масштабирование лучше проводить на трайн и на тест раздельно. Посмотри этот момент ещё раз, пожалуйста."
   ]
  },
  {
   "cell_type": "code",
   "execution_count": null,
   "metadata": {},
   "outputs": [],
   "source": []
  },
  {
   "cell_type": "code",
   "execution_count": 9,
   "metadata": {},
   "outputs": [
    {
     "name": "stdout",
     "output_type": "stream",
     "text": [
      "(6000, 11) (6000,)\n",
      "(2000, 11) (2000,)\n",
      "(2000, 11) (2000,)\n"
     ]
    },
    {
     "name": "stderr",
     "output_type": "stream",
     "text": [
      "/opt/conda/lib/python3.7/site-packages/ipykernel_launcher.py:9: SettingWithCopyWarning: \n",
      "A value is trying to be set on a copy of a slice from a DataFrame.\n",
      "Try using .loc[row_indexer,col_indexer] = value instead\n",
      "\n",
      "See the caveats in the documentation: http://pandas.pydata.org/pandas-docs/stable/user_guide/indexing.html#returning-a-view-versus-a-copy\n",
      "  if __name__ == '__main__':\n",
      "/opt/conda/lib/python3.7/site-packages/pandas/core/indexing.py:494: SettingWithCopyWarning: \n",
      "A value is trying to be set on a copy of a slice from a DataFrame.\n",
      "Try using .loc[row_indexer,col_indexer] = value instead\n",
      "\n",
      "See the caveats in the documentation: http://pandas.pydata.org/pandas-docs/stable/user_guide/indexing.html#returning-a-view-versus-a-copy\n",
      "  self.obj[item] = s\n",
      "/opt/conda/lib/python3.7/site-packages/ipykernel_launcher.py:10: SettingWithCopyWarning: \n",
      "A value is trying to be set on a copy of a slice from a DataFrame.\n",
      "Try using .loc[row_indexer,col_indexer] = value instead\n",
      "\n",
      "See the caveats in the documentation: http://pandas.pydata.org/pandas-docs/stable/user_guide/indexing.html#returning-a-view-versus-a-copy\n",
      "  # Remove the CWD from sys.path while we load stuff.\n",
      "/opt/conda/lib/python3.7/site-packages/pandas/core/indexing.py:494: SettingWithCopyWarning: \n",
      "A value is trying to be set on a copy of a slice from a DataFrame.\n",
      "Try using .loc[row_indexer,col_indexer] = value instead\n",
      "\n",
      "See the caveats in the documentation: http://pandas.pydata.org/pandas-docs/stable/user_guide/indexing.html#returning-a-view-versus-a-copy\n",
      "  self.obj[item] = s\n",
      "/opt/conda/lib/python3.7/site-packages/ipykernel_launcher.py:11: SettingWithCopyWarning: \n",
      "A value is trying to be set on a copy of a slice from a DataFrame.\n",
      "Try using .loc[row_indexer,col_indexer] = value instead\n",
      "\n",
      "See the caveats in the documentation: http://pandas.pydata.org/pandas-docs/stable/user_guide/indexing.html#returning-a-view-versus-a-copy\n",
      "  # This is added back by InteractiveShellApp.init_path()\n",
      "/opt/conda/lib/python3.7/site-packages/pandas/core/indexing.py:494: SettingWithCopyWarning: \n",
      "A value is trying to be set on a copy of a slice from a DataFrame.\n",
      "Try using .loc[row_indexer,col_indexer] = value instead\n",
      "\n",
      "See the caveats in the documentation: http://pandas.pydata.org/pandas-docs/stable/user_guide/indexing.html#returning-a-view-versus-a-copy\n",
      "  self.obj[item] = s\n"
     ]
    }
   ],
   "source": [
    "features = data.drop(['Exited'], axis = 1)\n",
    "target = data['Exited']\n",
    "\n",
    "features_train1, features_valid = train_test_split(features, test_size=0.2, random_state=12345) \n",
    "features_train, features_test = train_test_split(features_train1, test_size=0.25, random_state=12345) \n",
    "\n",
    "numeric = ['Balance', 'EstimatedSalary', 'Age', 'Tenure']\n",
    "scaler = StandardScaler()\n",
    "features_train[numeric] = scaler.fit_transform(features_train[numeric]) \n",
    "features_valid[numeric] = scaler.fit_transform(features_valid[numeric]) \n",
    "features_test[numeric] = scaler.fit_transform(features_test[numeric]) \n",
    "import warnings\n",
    "warnings.filterwarnings('ignore')\n",
    "\n",
    "target_train1, target_valid = train_test_split(target, test_size=0.2, random_state=12345) \n",
    "target_train, target_test = train_test_split(target_train1, test_size=0.25, random_state=12345)\n",
    "\n",
    "print(features_train.shape, target_train.shape)\n",
    "print(features_valid.shape, target_valid.shape)\n",
    "print(features_test.shape, target_test.shape)\n"
   ]
  },
  {
   "cell_type": "markdown",
   "metadata": {},
   "source": [
    "<div style=\"background: #cceeaa; padding: 5px; border: 1px solid green; border-radius: 5px;\">\n",
    "<font color='green'><u><b>КОММЕНТАРИЙ РЕВЬЮЕРА</b></u>\n",
    "<font color='green'><br>Хорошо, и есть проверка новых выборок. Вот сейчас самое время масштабировать)"
   ]
  },
  {
   "cell_type": "markdown",
   "metadata": {},
   "source": [
    "**Вывод 1**\n",
    "\n",
    "- данные загружены \n",
    "- заполнены пропуски\n",
    "- произведено прямое кодирование признака Gender, удалось избежать дамми-ловушку\n",
    "- произведено масштабирование признаков\n",
    "- данные разделены на тренировочную, валидационную и тестовую выборку\n",
    "- по корреляции получается, что: \n",
    " - больше вероятность ухода клиентов из Германии\n",
    " - чем старше клиент, тем больше вероятность его ухода\n",
    " - более состоятельные клиенты из Германии"
   ]
  },
  {
   "cell_type": "code",
   "execution_count": null,
   "metadata": {},
   "outputs": [],
   "source": []
  },
  {
   "cell_type": "markdown",
   "metadata": {},
   "source": [
    "## Исследование задачи"
   ]
  },
  {
   "cell_type": "code",
   "execution_count": 10,
   "metadata": {},
   "outputs": [],
   "source": [
    "from sklearn.ensemble import RandomForestClassifier\n",
    "from sklearn.tree import DecisionTreeClassifier\n",
    "from sklearn.linear_model import LogisticRegression\n",
    "from sklearn.model_selection import GridSearchCV\n",
    "from sklearn.metrics import f1_score, recall_score, precision_score\n",
    "from sklearn.metrics import roc_curve, roc_auc_score\n",
    "from sklearn.utils import shuffle\n"
   ]
  },
  {
   "cell_type": "code",
   "execution_count": 11,
   "metadata": {},
   "outputs": [
    {
     "name": "stdout",
     "output_type": "stream",
     "text": [
      "DecisionTreeClassifier(class_weight=None, criterion='gini', max_depth=None,\n",
      "                       max_features=None, max_leaf_nodes=None,\n",
      "                       min_impurity_decrease=0.0, min_impurity_split=None,\n",
      "                       min_samples_leaf=1, min_samples_split=2,\n",
      "                       min_weight_fraction_leaf=0.0, presort=False,\n",
      "                       random_state=12345, splitter='best')\n",
      "{'max_depth': 6} \n",
      " score:  0.857\n",
      "f1 score:  0.5112\n",
      "\n",
      "RandomForestClassifier(bootstrap=True, class_weight=None, criterion='gini',\n",
      "                       max_depth=None, max_features='auto', max_leaf_nodes=None,\n",
      "                       min_impurity_decrease=0.0, min_impurity_split=None,\n",
      "                       min_samples_leaf=1, min_samples_split=2,\n",
      "                       min_weight_fraction_leaf=0.0, n_estimators='warn',\n",
      "                       n_jobs=None, oob_score=False, random_state=12345,\n",
      "                       verbose=0, warm_start=False)\n",
      "{'max_depth': 9, 'min_samples_leaf': 1, 'min_samples_split': 8, 'n_estimators': 41} \n",
      " score:  0.868\n",
      "f1 score:  0.5631\n",
      "\n",
      "LogisticRegression(C=1.0, class_weight=None, dual=False, fit_intercept=True,\n",
      "                   intercept_scaling=1, l1_ratio=None, max_iter=100,\n",
      "                   multi_class='warn', n_jobs=None, penalty='l2',\n",
      "                   random_state=12345, solver='warn', tol=0.0001, verbose=0,\n",
      "                   warm_start=False)\n",
      "{'solver': 'lbfgs'} \n",
      " score:  0.8125\n",
      "f1 score:  0.2882\n",
      "\n"
     ]
    }
   ],
   "source": [
    "def grid(model, parametrs):\n",
    "    grid = GridSearchCV(model, parametrs, cv=5)\n",
    "    grid.fit(features_train, target_train)\n",
    "    predicted_valid = grid.predict(features_valid)\n",
    "    print(model)\n",
    "    print(grid.best_params_, '\\n', 'score: ', grid.best_score_.round(4) )\n",
    "    print('f1 score: ', f1_score(target_valid,predicted_valid).round(4))\n",
    "    print()\n",
    "    warnings.filterwarnings('ignore')\n",
    "grid(DecisionTreeClassifier(random_state = 12345),{ \n",
    "              'max_depth': range (1,13, 1),\n",
    "              } )\n",
    "\n",
    "grid(RandomForestClassifier(random_state = 12345),{ \n",
    "              'n_estimators': range (1, 51, 5),\n",
    "              'max_depth': range (1,13, 2),\n",
    "              'min_samples_leaf': range (1,8),\n",
    "              'min_samples_split': range (2,10,2) } )\n",
    "\n",
    "grid(LogisticRegression(random_state = 12345), {\n",
    "    'solver':['newton-cg', 'lbfgs', 'liblinear', 'sag', 'saga']})"
   ]
  },
  {
   "cell_type": "markdown",
   "metadata": {},
   "source": [
    "**Вывод 2**\n",
    "\n",
    "- с помощью метода grid были получены оптимальные гиперпараметры для дерева, случайного леса и логистической регрессии\n",
    "- дерево решений и случайный лес показали лучшие результаты по score и f1 score"
   ]
  },
  {
   "cell_type": "markdown",
   "metadata": {},
   "source": [
    "<div style=\"background: #cceeaa; padding: 5px; border: 1px solid green; border-radius: 5px;\">\n",
    "<font color='green'><u><b>КОММЕНТАРИЙ РЕВЬЮЕРА</b></u>\n",
    "<font color='green'><br>интересное решение)"
   ]
  },
  {
   "cell_type": "code",
   "execution_count": null,
   "metadata": {},
   "outputs": [],
   "source": []
  },
  {
   "cell_type": "markdown",
   "metadata": {},
   "source": [
    "## Борьба с дисбалансом"
   ]
  },
  {
   "cell_type": "code",
   "execution_count": 18,
   "metadata": {},
   "outputs": [
    {
     "name": "stdout",
     "output_type": "stream",
     "text": [
      "LogisticRegression(C=1.0, class_weight='balanced', dual=False,\n",
      "                   fit_intercept=True, intercept_scaling=1, l1_ratio=None,\n",
      "                   max_iter=100, multi_class='warn', n_jobs=None, penalty='l2',\n",
      "                   random_state=12345, solver='newton-cg', tol=0.0001,\n",
      "                   verbose=0, warm_start=False) \n",
      " score:  0.7085\n",
      "f1 score:  0.5038\n",
      "\n",
      "DecisionTreeClassifier(class_weight='balanced', criterion='gini', max_depth=6,\n",
      "                       max_features=None, max_leaf_nodes=None,\n",
      "                       min_impurity_decrease=0.0, min_impurity_split=None,\n",
      "                       min_samples_leaf=1, min_samples_split=2,\n",
      "                       min_weight_fraction_leaf=0.0, presort=False,\n",
      "                       random_state=12345, splitter='best') \n",
      " score:  0.791\n",
      "f1 score:  0.5934\n",
      "\n",
      "RandomForestClassifier(bootstrap=True, class_weight='balanced',\n",
      "                       criterion='gini', max_depth=9, max_features='auto',\n",
      "                       max_leaf_nodes=None, min_impurity_decrease=0.0,\n",
      "                       min_impurity_split=None, min_samples_leaf=1,\n",
      "                       min_samples_split=8, min_weight_fraction_leaf=0.0,\n",
      "                       n_estimators=41, n_jobs=None, oob_score=False,\n",
      "                       random_state=12345, verbose=0, warm_start=False) \n",
      " score:  0.843\n",
      "f1 score:  0.6519\n",
      "\n"
     ]
    }
   ],
   "source": [
    "def mdl(model):\n",
    "    model.fit(features_train, target_train)\n",
    "    predicted_valid = model.predict(features_valid)\n",
    "    print(model, '\\n', 'score: ', model.score(features_valid, target_valid).round(4))\n",
    "    print('f1 score: ', f1_score(target_valid,predicted_valid).round(4))\n",
    "    print()\n",
    "    \n",
    "mdl(LogisticRegression(random_state=12345,solver = 'newton-cg', \n",
    "                       class_weight='balanced'))\n",
    "\n",
    "mdl(DecisionTreeClassifier(random_state=12345, class_weight='balanced',max_depth = 6 \n",
    "                          ))\n",
    "\n",
    "mdl(RandomForestClassifier(random_state=12345, class_weight='balanced', \n",
    "                          max_depth = 9, n_estimators = 41,min_samples_leaf = 1,\n",
    "                          min_samples_split = 8))\n"
   ]
  },
  {
   "cell_type": "markdown",
   "metadata": {},
   "source": [
    "<div style=\"background: #cceeaa; padding: 5px; border: 1px solid green; border-radius: 5px;\">\n",
    "<font color='green'><u><b>КОММЕНТАРИЙ РЕВЬЮЕРА</b></u>\n",
    "<font color='green'><br>понятно."
   ]
  },
  {
   "cell_type": "code",
   "execution_count": 19,
   "metadata": {},
   "outputs": [
    {
     "name": "stdout",
     "output_type": "stream",
     "text": [
      "auc_roc:  0.8694\n"
     ]
    },
    {
     "data": {
      "image/png": "[encoded data removed]",
      "text/plain": [
       "<Figure size 432x288 with 1 Axes>"
      ]
     },
     "metadata": {
      "needs_background": "light"
     },
     "output_type": "display_data"
    }
   ],
   "source": [
    "model = RandomForestClassifier(random_state=12345, class_weight='balanced', \n",
    "                          max_depth = 9, n_estimators = 41,min_samples_leaf = 1,\n",
    "                          min_samples_split = 8)\n",
    "model.fit(features_train, target_train)\n",
    "probabilities_valid = model.predict_proba(features_valid)\n",
    "probabilities_one_valid = probabilities_valid[:, 1]\n",
    "print('auc_roc: ', roc_auc_score(target_valid, probabilities_one_valid).round(4))\n",
    "fpr, tpr, thresholds = roc_curve(target_valid,probabilities_one_valid)\n",
    "\n",
    "def graphic(fpr, tpr):\n",
    "    plt.figure()\n",
    "    plt.plot([0, 1], [0, 1], linestyle='--')\n",
    "    plt.plot(fpr, tpr)\n",
    "    plt.xlim([0,1]) \n",
    "    plt.ylim([0,1])\n",
    "    plt.xlabel('False Positive Rate')\n",
    "    plt.ylabel('True Positive Rate')\n",
    "    plt.title('ROC-кривая')\n",
    "    plt.show()\n",
    "    \n",
    "graphic(fpr, tpr)"
   ]
  },
  {
   "cell_type": "markdown",
   "metadata": {},
   "source": [
    "**Вывод 3.1**\n",
    "\n",
    "- путем использования class_weight='balanced' получилось, что наилучший результат показала модель случайного леса\n",
    "- площадь под roc curve 0.8694, линия выше случайной модели, что говорит о том, что модель достаточно качественная"
   ]
  },
  {
   "cell_type": "code",
   "execution_count": 20,
   "metadata": {},
   "outputs": [
    {
     "data": {
      "text/plain": [
       "0    4781\n",
       "1    1219\n",
       "Name: Exited, dtype: int64"
      ]
     },
     "execution_count": 20,
     "metadata": {},
     "output_type": "execute_result"
    }
   ],
   "source": [
    "target_train.value_counts()"
   ]
  },
  {
   "cell_type": "code",
   "execution_count": 21,
   "metadata": {
    "scrolled": true
   },
   "outputs": [
    {
     "name": "stdout",
     "output_type": "stream",
     "text": [
      "1    4876\n",
      "0    4781\n",
      "Name: Exited, dtype: int64\n",
      "RandomForestClassifier(bootstrap=True, class_weight='balanced',\n",
      "                       criterion='gini', max_depth=9, max_features='auto',\n",
      "                       max_leaf_nodes=None, min_impurity_decrease=0.0,\n",
      "                       min_impurity_split=None, min_samples_leaf=1,\n",
      "                       min_samples_split=8, min_weight_fraction_leaf=0.0,\n",
      "                       n_estimators=41, n_jobs=None, oob_score=False,\n",
      "                       random_state=12345, verbose=0, warm_start=False) \n",
      " score:  0.827\n",
      "f1 score:  0.6381 \n",
      " recall:  0.7143 \n",
      " precision:  0.5766\n",
      "\n",
      "auc_roc:  0.8685\n"
     ]
    },
    {
     "data": {
      "image/png": "[encoded data removed]",
      "text/plain": [
       "<Figure size 432x288 with 1 Axes>"
      ]
     },
     "metadata": {
      "needs_background": "light"
     },
     "output_type": "display_data"
    }
   ],
   "source": [
    "def upsample(features, target, repeat):\n",
    "    features_zeros = features[target == 0]\n",
    "    features_ones = features[target == 1]\n",
    "    target_zeros = target[target == 0]\n",
    "    target_ones = target[target == 1]\n",
    "\n",
    "    features_upsampled = pd.concat([features_zeros] + [features_ones] * repeat)\n",
    "    target_upsampled = pd.concat([target_zeros] + [target_ones] * repeat)\n",
    "    \n",
    "    features_upsampled, target_upsampled = shuffle(\n",
    "        features_upsampled, target_upsampled, random_state=12345)\n",
    "    \n",
    "    return features_upsampled, target_upsampled\n",
    "\n",
    "features_upsampled, target_upsampled = upsample(features_train, target_train, 4)\n",
    "\n",
    "print(target_upsampled.value_counts())\n",
    "\n",
    "model = RandomForestClassifier(random_state=12345, class_weight='balanced', \n",
    "                          max_depth = 9, n_estimators = 41,min_samples_leaf = 1,\n",
    "                          min_samples_split = 8)\n",
    "model.fit(features_upsampled, target_upsampled)\n",
    "predicted_valid = model.predict(features_valid)\n",
    "\n",
    "print(model, '\\n', 'score: ', model.score(features_valid, target_valid).round(4))\n",
    "print('f1 score: ', f1_score(target_valid,predicted_valid).round(4), '\\n',\n",
    "     'recall: ', recall_score(target_valid,predicted_valid).round(4), '\\n',\n",
    "     'precision: ', precision_score(target_valid,predicted_valid).round(4))\n",
    "print()\n",
    "probabilities_valid = model.predict_proba(features_valid)\n",
    "probabilities_one_valid = probabilities_valid[:, 1]\n",
    "print('auc_roc: ', roc_auc_score(target_valid, probabilities_one_valid).round(4))\n",
    "fpr, tpr, thresholds = roc_curve(target_valid,probabilities_one_valid)\n",
    "graphic(fpr, tpr)"
   ]
  },
  {
   "cell_type": "markdown",
   "metadata": {},
   "source": [
    "<div style=\"background: #cceeaa; padding: 5px; border: 1px solid green; border-radius: 5px;\">\n",
    "<font color='green'><u><b>КОММЕНТАРИЙ РЕВЬЮЕРА</b></u>\n",
    "<font color='green'><br>ок, балансируем только трайн."
   ]
  },
  {
   "cell_type": "markdown",
   "metadata": {},
   "source": [
    "**Вывод 3.2**\n",
    "\n",
    "- было произведен upsampling, увеличение выборки\n",
    "- площадь под roc curve 0.8685, линия выше случайной модели, что говорит о том, что модель достаточно качественная\n",
    "- f1 score = 0.6381"
   ]
  },
  {
   "cell_type": "markdown",
   "metadata": {},
   "source": [
    "## Тестирование модели"
   ]
  },
  {
   "cell_type": "code",
   "execution_count": 22,
   "metadata": {},
   "outputs": [
    {
     "name": "stdout",
     "output_type": "stream",
     "text": [
      "RandomForestClassifier(bootstrap=True, class_weight='balanced',\n",
      "                       criterion='gini', max_depth=9, max_features='auto',\n",
      "                       max_leaf_nodes=None, min_impurity_decrease=0.0,\n",
      "                       min_impurity_split=None, min_samples_leaf=1,\n",
      "                       min_samples_split=8, min_weight_fraction_leaf=0.0,\n",
      "                       n_estimators=41, n_jobs=None, oob_score=False,\n",
      "                       random_state=12345, verbose=0, warm_start=False) \n",
      " score:  0.827\n",
      "f1 score:  0.5871 \n",
      " recall:  0.6292 \n",
      " precision:  0.5503\n",
      "\n",
      "auc_roc:  0.8575\n"
     ]
    },
    {
     "data": {
      "image/png": "[encoded data removed]",
      "text/plain": [
       "<Figure size 432x288 with 1 Axes>"
      ]
     },
     "metadata": {
      "needs_background": "light"
     },
     "output_type": "display_data"
    }
   ],
   "source": [
    "model = RandomForestClassifier(random_state=12345, class_weight='balanced', \n",
    "                          max_depth = 9, n_estimators = 41,min_samples_leaf = 1,\n",
    "                          min_samples_split = 8)\n",
    "model.fit(features_train, target_train)\n",
    "predicted_test = model.predict(features_test)\n",
    "print(model, '\\n', 'score: ', model.score(features_test, target_test).round(4))\n",
    "print('f1 score: ', f1_score(target_test,predicted_test).round(4), '\\n',\n",
    "     'recall: ', recall_score(target_test,predicted_test).round(4), '\\n',\n",
    "     'precision: ', precision_score(target_test,predicted_test).round(4))\n",
    "print()\n",
    "probabilities_test = model.predict_proba(features_test)\n",
    "probabilities_one_test = probabilities_test[:, 1]\n",
    "print('auc_roc: ', roc_auc_score(target_test, probabilities_one_test).round(4))\n",
    "fpr, tpr, thresholds = roc_curve(target_test,probabilities_one_test)\n",
    "\n",
    "\n",
    "graphic(fpr, tpr)"
   ]
  },
  {
   "cell_type": "code",
   "execution_count": 23,
   "metadata": {},
   "outputs": [
    {
     "name": "stdout",
     "output_type": "stream",
     "text": [
      "RandomForestClassifier(bootstrap=True, class_weight=None, criterion='gini',\n",
      "                       max_depth=9, max_features='auto', max_leaf_nodes=None,\n",
      "                       min_impurity_decrease=0.0, min_impurity_split=None,\n",
      "                       min_samples_leaf=1, min_samples_split=8,\n",
      "                       min_weight_fraction_leaf=0.0, n_estimators=41,\n",
      "                       n_jobs=None, oob_score=False, random_state=12345,\n",
      "                       verbose=0, warm_start=False) \n",
      " score:  0.804\n",
      "f1 score:  0.573 \n",
      " recall:  0.6726 \n",
      " precision:  0.4991\n",
      "\n",
      "auc_roc:  0.8528\n"
     ]
    },
    {
     "data": {
      "image/png": "[encoded data removed]",
      "text/plain": [
       "<Figure size 432x288 with 1 Axes>"
      ]
     },
     "metadata": {
      "needs_background": "light"
     },
     "output_type": "display_data"
    }
   ],
   "source": [
    "model = RandomForestClassifier(random_state=12345, \n",
    "                          max_depth = 9, n_estimators = 41,min_samples_leaf = 1,\n",
    "                          min_samples_split = 8)\n",
    "model.fit(features_upsampled, target_upsampled)\n",
    "predicted_test = model.predict(features_test)\n",
    "\n",
    "print(model, '\\n', 'score: ', model.score(features_test, target_test).round(4))\n",
    "print('f1 score: ', f1_score(target_test,predicted_test).round(4), '\\n',\n",
    "     'recall: ', recall_score(target_test,predicted_test).round(4), '\\n',\n",
    "     'precision: ', precision_score(target_test,predicted_test).round(4))\n",
    "print()\n",
    "probabilities_test = model.predict_proba(features_test)\n",
    "probabilities_one_test = probabilities_test[:, 1]\n",
    "print('auc_roc: ', roc_auc_score(target_test, probabilities_one_test).round(4))\n",
    "fpr, tpr, thresholds = roc_curve(target_test,probabilities_one_test)\n",
    "\n",
    "\n",
    "graphic(fpr, tpr)"
   ]
  },
  {
   "cell_type": "markdown",
   "metadata": {},
   "source": [
    "**Вывод 4**\n",
    "\n",
    "- модель случайного леса с гиперпараметрами \n",
    "                          random_state=12345, \n",
    "                          max_depth = 9, n_estimators = 41,min_samples_leaf = 1,\n",
    "                          min_samples_split = 8\n",
    "                          \n",
    "                          \n",
    "      с  class_weight='balanced'  и без него была запущена на тестовой выборке\n",
    "- более качественная модель получилась c балансировкjq\n",
    "- f1 = 0.5871, auc roc = 0.8575, что выше случайной модели, это говорит о том, что модель качественная"
   ]
  },
  {
   "cell_type": "markdown",
   "metadata": {},
   "source": [
    "<div style=\"background: #cceeaa; padding: 5px; border: 1px solid green; border-radius: 5px;\">\n",
    "<font color='green'> \n",
    "    <b><u>КОММЕНТАРИЙ РЕВЬЮЕРА</u></b>\n",
    "<font color='green'><br>\n",
    "ОК, хорошо. Здесь ещё так можно: параметры модели подобраны на валидационной выборке и уже известны нам. Теперь можгно объединить трайн+валид для обучения и проверять на тесте. А параметры использовать подобранные. "
   ]
  },
  {
   "cell_type": "markdown",
   "metadata": {},
   "source": [
    "<div style=\"background: #cceeaa; padding: 5px; border: 1px solid green; border-radius: 5px;\">\n",
    "<font color='green'><u><b>КОММЕНТАРИЙ РЕВЬЮЕРА</b></u>\n",
    "<font color='green'><br>\n",
    "<br/> Екатерина, добротная и качественная работа! <br>\n",
    "Подготовка данных, разносторонняя работа с диссбалансом и исследование моделей и поиск парамтров для них - ничего не забыто <br>\n",
    "И видно, что проделана рабочая аналитическая работа: результативно и с выводами.<br>  \n",
    "\n",
    "<font color='green'>\n",
    "Если говорить, что можно ещё улучшить в подобных проектах, то я бы выделили такие моменты:<br>\n",
    "1) После подбора параметров модели, когда уже настаёт этап тестировани. Можно обучить на обобщённой выборке (трайн + валидация) ну и тестировать потом. Это может ещё прибавить точности.(если не использовать кросс-валидации)<br>\n",
    "    \n",
    "2) Для понимания, а какие в итоге факторы важны при моделировании, можно выводить их важность, использую feature_importances_, ну и график заодно. Это будет смотреться очнь здорово: результативная метрика и график важности факторов)))<br> Очень ВАЖНАЯ для аналитики штука. Ведь нам не просто модель с метрикой нужна, а ещё и причины понять высокой/низкой метрики. Т.е. понять с какой силой сами факторы влияют на целевую.<br>\n",
    "    \n",
    "3) Ты используешь матрицу, поэтому просто акцетрирую ещё раз: F1 и AUC - отличные метрики, но нужно держать в голове, что это лишь бобщённые характеристики. А в реальной практике бизнесу часто важно знать детали самой ошибки - из каких ошибок/успехов она складывается. И в этом случае очень кстати будут меры полноты и точности. Рассмотри возможность их использования для своих проектов. Только через них можно выйти на финансовые возможности модели. Ведь перед запуском её в бой, будет сравнение стоимости создания и поддержки модели со стомостью \"оставить как есть\" <br>   \n",
    "\n",
    "<font color='red'>\n",
    "Что ещё лучше сделать в этой работе:<br>\n",
    "1) Есть вопрос по использование ohe-категоризации - посмотри, пожалуйста.<br>\n",
    "2) масштабирование - лучше делать для выборок раздельно..<br>\n",
    "<font color='green'>    \n",
    "    \n",
    "<br><br>\n",
    "Спасибо) БУДУ ЖДАТЬ КОММЕНТАРИЕВ!"
   ]
  },
  {
   "cell_type": "markdown",
   "metadata": {},
   "source": [
    "<font color='purple'>\n",
    "исправила:<br>\n",
    "1)  ohe-категоризации <br>\n",
    "2) масштабирование после разделения на выборки<br>\n",
    "    \n",
    "спасибо за советы, очень ценно<br>"
   ]
  },
  {
   "cell_type": "markdown",
   "metadata": {},
   "source": [
    "<div style=\"background: #cceeaa; padding: 5px; border: 1px solid green; border-radius: 5px;\">\n",
    "<font color='green'><u><b>КОММЕНТАРИЙ РЕВЬЮЕРА 2</b></u>\n",
    "<font color='green'><br>Привет, Екатерина!<br>\n",
    "Увидел доработки. ОК, вроде всё в точку теперь) <br>\n",
    "СПАСИБО за отклик. рад, то смог помочь подразобраться) УСПЕШНОГО ДАЛЬНЕЙШЕГО ОБУЧЕНИЯ!"
   ]
  },
  {
   "cell_type": "code",
   "execution_count": null,
   "metadata": {},
   "outputs": [],
   "source": []
  },
  {
   "cell_type": "markdown",
   "metadata": {},
   "source": [
    "## Чек-лист готовности проекта"
   ]
  },
  {
   "cell_type": "markdown",
   "metadata": {},
   "source": [
    "Поставьте 'x' в выполненных пунктах. Далее нажмите Shift+Enter."
   ]
  },
  {
   "cell_type": "markdown",
   "metadata": {},
   "source": [
    "- [x]  Jupyter Notebook открыт\n",
    "- [x]  Весь код выполняется без ошибок\n",
    "- [x]  Ячейки с кодом расположены в порядке исполнения\n",
    "- [x]  Выполнен шаг 1: данные подготовлены\n",
    "- [x]  Выполнен шаг 2: задача исследована\n",
    "    - [x]  Исследован баланс классов\n",
    "    - [x]  Изучены модели без учёта дисбаланса\n",
    "    - [x]  Написаны выводы по результатам исследования\n",
    "- [x]  Выполнен шаг 3: учтён дисбаланс\n",
    "    - [x]  Применено несколько способов борьбы с дисбалансом\n",
    "    - [x]  Написаны выводы по результатам исследования\n",
    "- [x]  Выполнен шаг 4: проведено тестирование\n",
    "- [x]  Удалось достичь *F1*-меры не менее 0.59\n",
    "- [x]  Исследована метрика *AUC-ROC*"
   ]
  },
  {
   "cell_type": "code",
   "execution_count": null,
   "metadata": {},
   "outputs": [],
   "source": []
  }
 ],
 "metadata": {
  "ExecuteTimeLog": [
   {
    "duration": 282,
    "start_time": "2021-09-04T10:54:06.212Z"
   },
   {
    "duration": 743,
    "start_time": "2021-09-04T10:54:09.538Z"
   },
   {
    "duration": 78,
    "start_time": "2021-09-04T10:54:10.284Z"
   },
   {
    "duration": 1410,
    "start_time": "2021-09-04T14:05:42.123Z"
   },
   {
    "duration": 543,
    "start_time": "2021-09-04T14:08:13.626Z"
   },
   {
    "duration": 342,
    "start_time": "2021-09-04T14:09:14.542Z"
   },
   {
    "duration": 4,
    "start_time": "2021-09-04T14:09:19.651Z"
   },
   {
    "duration": 456,
    "start_time": "2021-09-04T14:09:19.894Z"
   },
   {
    "duration": 13,
    "start_time": "2021-09-04T14:09:20.574Z"
   },
   {
    "duration": 14,
    "start_time": "2021-09-04T14:09:50.879Z"
   },
   {
    "duration": 305,
    "start_time": "2021-09-05T09:50:57.652Z"
   },
   {
    "duration": 1118,
    "start_time": "2021-09-05T09:51:03.345Z"
   },
   {
    "duration": 56,
    "start_time": "2021-09-05T09:51:04.465Z"
   },
   {
    "duration": 9,
    "start_time": "2021-09-05T09:51:04.523Z"
   },
   {
    "duration": 16,
    "start_time": "2021-09-05T09:51:04.534Z"
   },
   {
    "duration": 383,
    "start_time": "2021-09-05T09:53:28.424Z"
   },
   {
    "duration": 1063,
    "start_time": "2021-09-05T09:53:42.901Z"
   },
   {
    "duration": 54,
    "start_time": "2021-09-05T09:53:43.966Z"
   },
   {
    "duration": 10,
    "start_time": "2021-09-05T09:53:44.023Z"
   },
   {
    "duration": 369,
    "start_time": "2021-09-05T09:53:44.041Z"
   },
   {
    "duration": 10,
    "start_time": "2021-09-05T09:53:53.788Z"
   },
   {
    "duration": 338,
    "start_time": "2021-09-05T09:55:59.691Z"
   },
   {
    "duration": 294,
    "start_time": "2021-09-05T09:56:39.184Z"
   },
   {
    "duration": 758,
    "start_time": "2021-09-05T09:56:48.374Z"
   },
   {
    "duration": 468,
    "start_time": "2021-09-05T09:57:02.444Z"
   },
   {
    "duration": 1999,
    "start_time": "2021-09-05T09:57:31.156Z"
   },
   {
    "duration": 363,
    "start_time": "2021-09-05T09:57:42.088Z"
   },
   {
    "duration": 420,
    "start_time": "2021-09-05T09:58:04.645Z"
   },
   {
    "duration": 343,
    "start_time": "2021-09-05T09:58:31.568Z"
   },
   {
    "duration": 12,
    "start_time": "2021-09-05T09:59:28.776Z"
   },
   {
    "duration": 309,
    "start_time": "2021-09-05T10:09:48.930Z"
   },
   {
    "duration": 63,
    "start_time": "2021-09-05T10:10:10.128Z"
   },
   {
    "duration": 1185,
    "start_time": "2021-09-05T10:10:16.086Z"
   },
   {
    "duration": 53,
    "start_time": "2021-09-05T10:10:17.273Z"
   },
   {
    "duration": 408,
    "start_time": "2021-09-05T10:10:17.328Z"
   },
   {
    "duration": 610,
    "start_time": "2021-09-05T10:10:17.740Z"
   },
   {
    "duration": 9,
    "start_time": "2021-09-05T10:10:18.352Z"
   },
   {
    "duration": 10,
    "start_time": "2021-09-05T10:10:18.363Z"
   },
   {
    "duration": 636,
    "start_time": "2021-09-05T10:10:50.889Z"
   },
   {
    "duration": 571,
    "start_time": "2021-09-05T10:11:00.976Z"
   },
   {
    "duration": 644,
    "start_time": "2021-09-05T10:11:10.580Z"
   },
   {
    "duration": 392,
    "start_time": "2021-09-05T10:12:16.930Z"
   },
   {
    "duration": 8231,
    "start_time": "2021-09-05T10:16:00.907Z"
   },
   {
    "duration": 13,
    "start_time": "2021-09-05T10:16:23.369Z"
   },
   {
    "duration": 24,
    "start_time": "2021-09-05T10:16:32.908Z"
   },
   {
    "duration": 23,
    "start_time": "2021-09-05T10:16:48.372Z"
   },
   {
    "duration": 434,
    "start_time": "2021-09-06T15:41:33.590Z"
   },
   {
    "duration": 1506,
    "start_time": "2021-09-06T15:41:40.273Z"
   },
   {
    "duration": 68,
    "start_time": "2021-09-06T15:41:41.782Z"
   },
   {
    "duration": 39808,
    "start_time": "2021-09-06T15:41:41.853Z"
   },
   {
    "duration": 867,
    "start_time": "2021-09-06T15:42:21.664Z"
   },
   {
    "duration": 12,
    "start_time": "2021-09-06T15:42:22.534Z"
   },
   {
    "duration": 41,
    "start_time": "2021-09-06T15:42:22.549Z"
   },
   {
    "duration": 15,
    "start_time": "2021-09-06T15:42:22.617Z"
   },
   {
    "duration": 37919,
    "start_time": "2021-09-06T15:42:55.472Z"
   },
   {
    "duration": 34,
    "start_time": "2021-09-06T15:46:29.774Z"
   },
   {
    "duration": 13,
    "start_time": "2021-09-06T15:46:33.931Z"
   },
   {
    "duration": 37,
    "start_time": "2021-09-06T15:47:18.202Z"
   },
   {
    "duration": 13,
    "start_time": "2021-09-06T15:47:24.170Z"
   },
   {
    "duration": 142,
    "start_time": "2021-09-06T15:53:34.590Z"
   },
   {
    "duration": 893,
    "start_time": "2021-09-06T15:53:39.130Z"
   },
   {
    "duration": 922,
    "start_time": "2021-09-06T15:54:21.042Z"
   },
   {
    "duration": 811,
    "start_time": "2021-09-06T15:54:59.526Z"
   },
   {
    "duration": 532,
    "start_time": "2021-09-06T15:55:45.494Z"
   },
   {
    "duration": 420,
    "start_time": "2021-09-06T15:55:52.107Z"
   },
   {
    "duration": 386,
    "start_time": "2021-09-06T15:55:57.552Z"
   },
   {
    "duration": 5,
    "start_time": "2021-09-06T15:56:28.434Z"
   },
   {
    "duration": 933,
    "start_time": "2021-09-06T15:56:36.326Z"
   },
   {
    "duration": 1109,
    "start_time": "2021-09-06T15:56:47.759Z"
   },
   {
    "duration": 947,
    "start_time": "2021-09-06T15:56:57.001Z"
   },
   {
    "duration": 1175,
    "start_time": "2021-09-06T15:57:08.108Z"
   },
   {
    "duration": 30,
    "start_time": "2021-09-06T15:58:38.329Z"
   },
   {
    "duration": 323,
    "start_time": "2021-09-06T15:59:36.708Z"
   },
   {
    "duration": 1813,
    "start_time": "2021-09-06T15:59:43.668Z"
   },
   {
    "duration": 426,
    "start_time": "2021-09-06T16:00:47.645Z"
   },
   {
    "duration": 396,
    "start_time": "2021-09-06T16:01:07.828Z"
   },
   {
    "duration": 1495,
    "start_time": "2021-09-06T16:01:16.553Z"
   },
   {
    "duration": 70,
    "start_time": "2021-09-06T16:01:18.051Z"
   },
   {
    "duration": 920,
    "start_time": "2021-09-06T16:01:18.126Z"
   },
   {
    "duration": 12,
    "start_time": "2021-09-06T16:01:19.049Z"
   },
   {
    "duration": 23,
    "start_time": "2021-09-06T16:01:19.063Z"
   },
   {
    "duration": 46,
    "start_time": "2021-09-06T16:01:19.088Z"
   },
   {
    "duration": 47,
    "start_time": "2021-09-06T16:01:19.136Z"
   },
   {
    "duration": 713,
    "start_time": "2021-09-06T16:01:19.193Z"
   },
   {
    "duration": 14,
    "start_time": "2021-09-06T16:02:30.452Z"
   },
   {
    "duration": 409,
    "start_time": "2021-09-06T16:02:58.448Z"
   },
   {
    "duration": 1495,
    "start_time": "2021-09-06T16:03:05.755Z"
   },
   {
    "duration": 68,
    "start_time": "2021-09-06T16:03:07.253Z"
   },
   {
    "duration": 881,
    "start_time": "2021-09-06T16:03:07.324Z"
   },
   {
    "duration": 14,
    "start_time": "2021-09-06T16:03:08.216Z"
   },
   {
    "duration": 20,
    "start_time": "2021-09-06T16:03:08.232Z"
   },
   {
    "duration": 66,
    "start_time": "2021-09-06T16:03:08.254Z"
   },
   {
    "duration": 16,
    "start_time": "2021-09-06T16:03:08.323Z"
   },
   {
    "duration": 538,
    "start_time": "2021-09-06T16:03:08.342Z"
   },
   {
    "duration": 1535,
    "start_time": "2021-09-06T16:03:24.400Z"
   },
   {
    "duration": 69,
    "start_time": "2021-09-06T16:03:25.939Z"
   },
   {
    "duration": 876,
    "start_time": "2021-09-06T16:03:26.011Z"
   },
   {
    "duration": 27,
    "start_time": "2021-09-06T16:03:26.890Z"
   },
   {
    "duration": 21,
    "start_time": "2021-09-06T16:03:26.919Z"
   },
   {
    "duration": 34,
    "start_time": "2021-09-06T16:03:26.942Z"
   },
   {
    "duration": 59,
    "start_time": "2021-09-06T16:03:26.979Z"
   },
   {
    "duration": 13,
    "start_time": "2021-09-06T16:03:27.040Z"
   },
   {
    "duration": 556,
    "start_time": "2021-09-06T16:03:51.591Z"
   },
   {
    "duration": 1478,
    "start_time": "2021-09-06T16:03:56.671Z"
   },
   {
    "duration": 71,
    "start_time": "2021-09-06T16:03:58.152Z"
   },
   {
    "duration": 892,
    "start_time": "2021-09-06T16:03:58.227Z"
   },
   {
    "duration": 13,
    "start_time": "2021-09-06T16:03:59.123Z"
   },
   {
    "duration": 22,
    "start_time": "2021-09-06T16:03:59.138Z"
   },
   {
    "duration": 74,
    "start_time": "2021-09-06T16:03:59.162Z"
   },
   {
    "duration": 31,
    "start_time": "2021-09-06T16:03:59.238Z"
   },
   {
    "duration": 14,
    "start_time": "2021-09-06T16:03:59.272Z"
   },
   {
    "duration": 1510,
    "start_time": "2021-09-06T16:04:33.335Z"
   },
   {
    "duration": 68,
    "start_time": "2021-09-06T16:04:34.848Z"
   },
   {
    "duration": 875,
    "start_time": "2021-09-06T16:04:34.919Z"
   },
   {
    "duration": 26,
    "start_time": "2021-09-06T16:04:35.796Z"
   },
   {
    "duration": 21,
    "start_time": "2021-09-06T16:04:35.824Z"
   },
   {
    "duration": 33,
    "start_time": "2021-09-06T16:04:35.847Z"
   },
   {
    "duration": 75,
    "start_time": "2021-09-06T16:04:35.883Z"
   },
   {
    "duration": 13,
    "start_time": "2021-09-06T16:04:35.961Z"
   },
   {
    "duration": 1543,
    "start_time": "2021-09-06T16:05:11.410Z"
   },
   {
    "duration": 69,
    "start_time": "2021-09-06T16:05:12.956Z"
   },
   {
    "duration": 891,
    "start_time": "2021-09-06T16:05:13.028Z"
   },
   {
    "duration": 12,
    "start_time": "2021-09-06T16:05:13.922Z"
   },
   {
    "duration": 31,
    "start_time": "2021-09-06T16:05:13.937Z"
   },
   {
    "duration": 63,
    "start_time": "2021-09-06T16:05:13.971Z"
   },
   {
    "duration": 47,
    "start_time": "2021-09-06T16:05:14.036Z"
   },
   {
    "duration": 35,
    "start_time": "2021-09-06T16:05:14.086Z"
   },
   {
    "duration": 1551,
    "start_time": "2021-09-06T16:05:52.993Z"
   },
   {
    "duration": 69,
    "start_time": "2021-09-06T16:05:54.547Z"
   },
   {
    "duration": 900,
    "start_time": "2021-09-06T16:05:54.619Z"
   },
   {
    "duration": 11,
    "start_time": "2021-09-06T16:05:55.522Z"
   },
   {
    "duration": 23,
    "start_time": "2021-09-06T16:05:55.536Z"
   },
   {
    "duration": 65,
    "start_time": "2021-09-06T16:05:55.561Z"
   },
   {
    "duration": 24,
    "start_time": "2021-09-06T16:05:55.629Z"
   },
   {
    "duration": 11,
    "start_time": "2021-09-06T16:05:55.656Z"
   },
   {
    "duration": 1153,
    "start_time": "2021-09-06T16:06:29.068Z"
   },
   {
    "duration": 5,
    "start_time": "2021-09-06T16:13:20.126Z"
   },
   {
    "duration": 546,
    "start_time": "2021-09-06T16:17:17.825Z"
   },
   {
    "duration": 40,
    "start_time": "2021-09-06T16:17:27.409Z"
   },
   {
    "duration": 1485,
    "start_time": "2021-09-06T16:17:52.469Z"
   },
   {
    "duration": 67,
    "start_time": "2021-09-06T16:17:53.957Z"
   },
   {
    "duration": 875,
    "start_time": "2021-09-06T16:17:54.027Z"
   },
   {
    "duration": 20,
    "start_time": "2021-09-06T16:17:54.905Z"
   },
   {
    "duration": 22,
    "start_time": "2021-09-06T16:17:54.927Z"
   },
   {
    "duration": 64,
    "start_time": "2021-09-06T16:17:54.952Z"
   },
   {
    "duration": 27,
    "start_time": "2021-09-06T16:17:55.020Z"
   },
   {
    "duration": 1101,
    "start_time": "2021-09-06T16:17:55.052Z"
   },
   {
    "duration": 39,
    "start_time": "2021-09-06T16:17:56.155Z"
   },
   {
    "duration": 77,
    "start_time": "2021-09-06T16:17:56.197Z"
   },
   {
    "duration": 19,
    "start_time": "2021-09-06T16:23:52.543Z"
   },
   {
    "duration": 19,
    "start_time": "2021-09-06T16:24:05.811Z"
   },
   {
    "duration": 19,
    "start_time": "2021-09-06T16:24:22.285Z"
   },
   {
    "duration": 17,
    "start_time": "2021-09-06T16:24:32.401Z"
   },
   {
    "duration": 20,
    "start_time": "2021-09-06T16:25:09.018Z"
   },
   {
    "duration": 615,
    "start_time": "2021-09-06T16:38:29.358Z"
   },
   {
    "duration": 49,
    "start_time": "2021-09-06T16:38:33.362Z"
   },
   {
    "duration": 6,
    "start_time": "2021-09-06T16:38:33.786Z"
   },
   {
    "duration": 499,
    "start_time": "2021-09-06T16:38:34.142Z"
   },
   {
    "duration": 1660,
    "start_time": "2021-09-06T16:38:47.688Z"
   },
   {
    "duration": 88,
    "start_time": "2021-09-06T16:38:49.352Z"
   },
   {
    "duration": 963,
    "start_time": "2021-09-06T16:38:49.443Z"
   },
   {
    "duration": 17,
    "start_time": "2021-09-06T16:38:50.408Z"
   },
   {
    "duration": 50,
    "start_time": "2021-09-06T16:38:50.427Z"
   },
   {
    "duration": 49,
    "start_time": "2021-09-06T16:38:50.480Z"
   },
   {
    "duration": 25,
    "start_time": "2021-09-06T16:38:50.534Z"
   },
   {
    "duration": 1086,
    "start_time": "2021-09-06T16:38:50.563Z"
   },
   {
    "duration": 42,
    "start_time": "2021-09-06T16:38:51.652Z"
   },
   {
    "duration": 29,
    "start_time": "2021-09-06T16:38:51.718Z"
   },
   {
    "duration": 47,
    "start_time": "2021-09-06T16:38:51.749Z"
   },
   {
    "duration": 5,
    "start_time": "2021-09-06T16:38:51.817Z"
   },
   {
    "duration": 589,
    "start_time": "2021-09-06T16:38:51.824Z"
   },
   {
    "duration": 453,
    "start_time": "2021-09-06T16:39:02.676Z"
   },
   {
    "duration": 438,
    "start_time": "2021-09-06T16:39:10.260Z"
   },
   {
    "duration": 392,
    "start_time": "2021-09-06T16:41:38.588Z"
   },
   {
    "duration": 1726,
    "start_time": "2021-09-06T16:41:48.597Z"
   },
   {
    "duration": 74,
    "start_time": "2021-09-06T16:41:50.326Z"
   },
   {
    "duration": 895,
    "start_time": "2021-09-06T16:41:50.404Z"
   },
   {
    "duration": 21,
    "start_time": "2021-09-06T16:41:51.302Z"
   },
   {
    "duration": 21,
    "start_time": "2021-09-06T16:41:51.326Z"
   },
   {
    "duration": 69,
    "start_time": "2021-09-06T16:41:51.349Z"
   },
   {
    "duration": 26,
    "start_time": "2021-09-06T16:41:51.421Z"
   },
   {
    "duration": 1122,
    "start_time": "2021-09-06T16:41:51.450Z"
   },
   {
    "duration": 54,
    "start_time": "2021-09-06T16:41:52.575Z"
   },
   {
    "duration": 22,
    "start_time": "2021-09-06T16:41:52.632Z"
   },
   {
    "duration": 74,
    "start_time": "2021-09-06T16:41:52.656Z"
   },
   {
    "duration": 4,
    "start_time": "2021-09-06T16:41:52.733Z"
   },
   {
    "duration": 594,
    "start_time": "2021-09-06T16:41:52.740Z"
   },
   {
    "duration": 406,
    "start_time": "2021-09-06T16:42:08.645Z"
   },
   {
    "duration": 5,
    "start_time": "2021-09-06T16:42:10.917Z"
   },
   {
    "duration": 384,
    "start_time": "2021-09-06T16:42:11.305Z"
   },
   {
    "duration": 5,
    "start_time": "2021-09-06T16:42:49.767Z"
   },
   {
    "duration": 1085618,
    "start_time": "2021-09-06T16:42:49.971Z"
   },
   {
    "duration": 1041,
    "start_time": "2021-09-06T17:00:55.593Z"
   },
   {
    "duration": -85,
    "start_time": "2021-09-06T17:00:56.721Z"
   },
   {
    "duration": 5,
    "start_time": "2021-09-06T17:03:42.313Z"
   },
   {
    "duration": 5,
    "start_time": "2021-09-06T17:03:44.757Z"
   },
   {
    "duration": 748,
    "start_time": "2021-09-06T17:03:45.033Z"
   },
   {
    "duration": 4,
    "start_time": "2021-09-06T17:14:26.117Z"
   },
   {
    "duration": 421,
    "start_time": "2021-09-06T17:14:26.328Z"
   },
   {
    "duration": 4,
    "start_time": "2021-09-06T17:14:40.908Z"
   },
   {
    "duration": 737,
    "start_time": "2021-09-06T17:14:41.340Z"
   },
   {
    "duration": 623,
    "start_time": "2021-09-06T17:15:57.476Z"
   },
   {
    "duration": 691,
    "start_time": "2021-09-06T17:18:19.060Z"
   },
   {
    "duration": 1303,
    "start_time": "2021-09-06T17:27:50.316Z"
   },
   {
    "duration": 665,
    "start_time": "2021-09-06T17:28:01.327Z"
   },
   {
    "duration": 691,
    "start_time": "2021-09-06T17:28:14.068Z"
   },
   {
    "duration": 1828,
    "start_time": "2021-09-06T17:47:23.407Z"
   },
   {
    "duration": 1309,
    "start_time": "2021-09-06T17:47:36.077Z"
   },
   {
    "duration": 662,
    "start_time": "2021-09-06T17:47:41.768Z"
   },
   {
    "duration": 1370,
    "start_time": "2021-09-06T17:50:12.465Z"
   },
   {
    "duration": 1095074,
    "start_time": "2021-09-06T17:57:03.959Z"
   },
   {
    "duration": 4,
    "start_time": "2021-09-06T18:28:07.595Z"
   },
   {
    "duration": 1642,
    "start_time": "2021-09-06T18:28:42.099Z"
   },
   {
    "duration": 69,
    "start_time": "2021-09-06T18:28:43.744Z"
   },
   {
    "duration": 889,
    "start_time": "2021-09-06T18:28:43.816Z"
   },
   {
    "duration": 16,
    "start_time": "2021-09-06T18:28:44.708Z"
   },
   {
    "duration": 20,
    "start_time": "2021-09-06T18:28:44.726Z"
   },
   {
    "duration": 68,
    "start_time": "2021-09-06T18:28:44.748Z"
   },
   {
    "duration": 24,
    "start_time": "2021-09-06T18:28:44.818Z"
   },
   {
    "duration": 1111,
    "start_time": "2021-09-06T18:28:44.845Z"
   },
   {
    "duration": 42,
    "start_time": "2021-09-06T18:28:45.959Z"
   },
   {
    "duration": 20,
    "start_time": "2021-09-06T18:28:46.016Z"
   },
   {
    "duration": 47,
    "start_time": "2021-09-06T18:28:46.039Z"
   },
   {
    "duration": 1480,
    "start_time": "2021-09-06T18:29:44.165Z"
   },
   {
    "duration": 69,
    "start_time": "2021-09-06T18:29:45.648Z"
   },
   {
    "duration": 900,
    "start_time": "2021-09-06T18:29:45.720Z"
   },
   {
    "duration": 11,
    "start_time": "2021-09-06T18:29:46.623Z"
   },
   {
    "duration": 32,
    "start_time": "2021-09-06T18:29:46.637Z"
   },
   {
    "duration": 33,
    "start_time": "2021-09-06T18:29:46.671Z"
   },
   {
    "duration": 24,
    "start_time": "2021-09-06T18:29:46.706Z"
   },
   {
    "duration": 1151,
    "start_time": "2021-09-06T18:29:46.733Z"
   },
   {
    "duration": 55,
    "start_time": "2021-09-06T18:29:47.887Z"
   },
   {
    "duration": 21,
    "start_time": "2021-09-06T18:29:47.944Z"
   },
   {
    "duration": 75,
    "start_time": "2021-09-06T18:29:47.969Z"
   },
   {
    "duration": 1578,
    "start_time": "2021-09-06T18:32:32.661Z"
   },
   {
    "duration": 69,
    "start_time": "2021-09-06T18:32:34.242Z"
   },
   {
    "duration": 881,
    "start_time": "2021-09-06T18:32:34.316Z"
   },
   {
    "duration": 21,
    "start_time": "2021-09-06T18:32:35.199Z"
   },
   {
    "duration": 21,
    "start_time": "2021-09-06T18:32:35.223Z"
   },
   {
    "duration": 32,
    "start_time": "2021-09-06T18:32:35.246Z"
   },
   {
    "duration": 56,
    "start_time": "2021-09-06T18:32:35.281Z"
   },
   {
    "duration": 1082,
    "start_time": "2021-09-06T18:32:35.339Z"
   },
   {
    "duration": 42,
    "start_time": "2021-09-06T18:32:36.424Z"
   },
   {
    "duration": 19,
    "start_time": "2021-09-06T18:32:36.469Z"
   },
   {
    "duration": 47,
    "start_time": "2021-09-06T18:32:36.516Z"
   },
   {
    "duration": 1463,
    "start_time": "2021-09-06T18:33:57.671Z"
   },
   {
    "duration": 69,
    "start_time": "2021-09-06T18:33:59.136Z"
   },
   {
    "duration": 919,
    "start_time": "2021-09-06T18:33:59.208Z"
   },
   {
    "duration": 12,
    "start_time": "2021-09-06T18:34:00.130Z"
   },
   {
    "duration": 26,
    "start_time": "2021-09-06T18:34:00.145Z"
   },
   {
    "duration": 65,
    "start_time": "2021-09-06T18:34:00.174Z"
   },
   {
    "duration": 25,
    "start_time": "2021-09-06T18:34:00.241Z"
   },
   {
    "duration": 1121,
    "start_time": "2021-09-06T18:34:00.269Z"
   },
   {
    "duration": 59,
    "start_time": "2021-09-06T18:34:01.395Z"
   },
   {
    "duration": 24,
    "start_time": "2021-09-06T18:34:01.458Z"
   },
   {
    "duration": 78,
    "start_time": "2021-09-06T18:34:01.485Z"
   },
   {
    "duration": 1051,
    "start_time": "2021-09-06T18:34:01.566Z"
   },
   {
    "duration": 896,
    "start_time": "2021-09-06T18:35:02.490Z"
   },
   {
    "duration": 1102525,
    "start_time": "2021-09-06T18:35:26.100Z"
   },
   {
    "duration": 98,
    "start_time": "2021-09-06T18:53:48.718Z"
   },
   {
    "duration": 40,
    "start_time": "2021-09-06T18:54:24.735Z"
   },
   {
    "duration": 825,
    "start_time": "2021-09-06T18:55:33.409Z"
   },
   {
    "duration": 141,
    "start_time": "2021-09-06T18:56:04.062Z"
   },
   {
    "duration": 156,
    "start_time": "2021-09-06T18:56:13.811Z"
   },
   {
    "duration": 508,
    "start_time": "2021-09-06T18:56:30.671Z"
   },
   {
    "duration": 1347,
    "start_time": "2021-09-06T18:56:42.677Z"
   },
   {
    "duration": 160,
    "start_time": "2021-09-06T18:59:29.710Z"
   },
   {
    "duration": 397,
    "start_time": "2021-09-06T18:59:36.690Z"
   },
   {
    "duration": 126,
    "start_time": "2021-09-06T19:00:03.571Z"
   },
   {
    "duration": 2285,
    "start_time": "2021-09-06T19:00:20.947Z"
   },
   {
    "duration": 2082,
    "start_time": "2021-09-06T19:01:19.090Z"
   },
   {
    "duration": 592,
    "start_time": "2021-09-06T19:02:04.266Z"
   },
   {
    "duration": 1994,
    "start_time": "2021-09-06T19:02:06.557Z"
   },
   {
    "duration": 1478,
    "start_time": "2021-09-06T19:04:57.860Z"
   },
   {
    "duration": 1235,
    "start_time": "2021-09-06T19:05:22.901Z"
   },
   {
    "duration": 729,
    "start_time": "2021-09-06T19:05:29.896Z"
   },
   {
    "duration": 949,
    "start_time": "2021-09-06T19:05:51.570Z"
   },
   {
    "duration": 1246,
    "start_time": "2021-09-06T19:05:59.271Z"
   },
   {
    "duration": 1008,
    "start_time": "2021-09-06T19:06:55.838Z"
   },
   {
    "duration": 975,
    "start_time": "2021-09-06T19:07:08.666Z"
   },
   {
    "duration": 1336,
    "start_time": "2021-09-06T19:08:26.365Z"
   },
   {
    "duration": 1244,
    "start_time": "2021-09-06T19:09:11.376Z"
   },
   {
    "duration": 4,
    "start_time": "2021-09-06T19:10:38.340Z"
   },
   {
    "duration": 418,
    "start_time": "2021-09-06T19:13:19.858Z"
   },
   {
    "duration": 572,
    "start_time": "2021-09-06T19:13:42.755Z"
   },
   {
    "duration": 917,
    "start_time": "2021-09-06T19:14:05.173Z"
   },
   {
    "duration": 884,
    "start_time": "2021-09-06T19:14:31.304Z"
   },
   {
    "duration": 5,
    "start_time": "2021-09-06T19:15:25.358Z"
   },
   {
    "duration": 153,
    "start_time": "2021-09-06T19:16:12.537Z"
   },
   {
    "duration": 909,
    "start_time": "2021-09-06T19:16:27.437Z"
   },
   {
    "duration": 879,
    "start_time": "2021-09-06T19:16:39.892Z"
   },
   {
    "duration": 154,
    "start_time": "2021-09-06T19:19:23.017Z"
   },
   {
    "duration": 772,
    "start_time": "2021-09-06T19:19:30.638Z"
   },
   {
    "duration": 800,
    "start_time": "2021-09-06T19:20:29.379Z"
   },
   {
    "duration": 7,
    "start_time": "2021-09-06T19:33:08.491Z"
   },
   {
    "duration": 4,
    "start_time": "2021-09-06T19:33:20.832Z"
   },
   {
    "duration": 5,
    "start_time": "2021-09-06T19:33:41.342Z"
   },
   {
    "duration": 666,
    "start_time": "2021-09-06T19:34:18.133Z"
   },
   {
    "duration": 687,
    "start_time": "2021-09-06T19:35:00.579Z"
   },
   {
    "duration": 770,
    "start_time": "2021-09-06T19:37:34.936Z"
   },
   {
    "duration": 5,
    "start_time": "2021-09-06T19:38:53.248Z"
   },
   {
    "duration": 174,
    "start_time": "2021-09-06T19:38:56.448Z"
   },
   {
    "duration": 808,
    "start_time": "2021-09-06T19:39:32.453Z"
   },
   {
    "duration": 847,
    "start_time": "2021-09-06T19:40:48.655Z"
   },
   {
    "duration": 1200,
    "start_time": "2021-09-06T19:41:14.041Z"
   },
   {
    "duration": 1140,
    "start_time": "2021-09-06T19:42:48.206Z"
   },
   {
    "duration": 1111,
    "start_time": "2021-09-06T19:43:07.759Z"
   },
   {
    "duration": 1118,
    "start_time": "2021-09-06T19:43:56.735Z"
   },
   {
    "duration": 27,
    "start_time": "2021-09-06T19:47:33.327Z"
   },
   {
    "duration": -96,
    "start_time": "2021-09-06T19:48:22.825Z"
   },
   {
    "duration": 29,
    "start_time": "2021-09-06T19:48:30.121Z"
   },
   {
    "duration": 10455,
    "start_time": "2021-09-06T19:49:16.538Z"
   },
   {
    "duration": 10590,
    "start_time": "2021-09-06T19:50:42.862Z"
   },
   {
    "duration": 8,
    "start_time": "2021-09-06T19:53:32.317Z"
   },
   {
    "duration": 9,
    "start_time": "2021-09-06T19:54:06.231Z"
   },
   {
    "duration": 8,
    "start_time": "2021-09-06T19:54:35.169Z"
   },
   {
    "duration": 1236,
    "start_time": "2021-09-06T19:56:08.111Z"
   },
   {
    "duration": 8,
    "start_time": "2021-09-06T20:00:32.883Z"
   },
   {
    "duration": 1107,
    "start_time": "2021-09-06T20:00:56.294Z"
   },
   {
    "duration": 1127,
    "start_time": "2021-09-06T20:02:05.196Z"
   },
   {
    "duration": 841,
    "start_time": "2021-09-06T20:03:59.105Z"
   },
   {
    "duration": 8,
    "start_time": "2021-09-06T20:04:04.913Z"
   },
   {
    "duration": 820,
    "start_time": "2021-09-06T20:04:57.437Z"
   },
   {
    "duration": 1524,
    "start_time": "2021-09-06T20:05:45.012Z"
   },
   {
    "duration": 66,
    "start_time": "2021-09-06T20:05:46.539Z"
   },
   {
    "duration": 915,
    "start_time": "2021-09-06T20:05:46.608Z"
   },
   {
    "duration": 15,
    "start_time": "2021-09-06T20:05:47.527Z"
   },
   {
    "duration": 19,
    "start_time": "2021-09-06T20:05:47.544Z"
   },
   {
    "duration": 14,
    "start_time": "2021-09-06T20:05:47.566Z"
   },
   {
    "duration": 46,
    "start_time": "2021-09-06T20:05:47.582Z"
   },
   {
    "duration": 1068,
    "start_time": "2021-09-06T20:05:47.631Z"
   },
   {
    "duration": 49,
    "start_time": "2021-09-06T20:05:48.702Z"
   },
   {
    "duration": 20,
    "start_time": "2021-09-06T20:05:48.753Z"
   },
   {
    "duration": 79,
    "start_time": "2021-09-06T20:05:48.775Z"
   },
   {
    "duration": 1149868,
    "start_time": "2021-09-06T20:05:48.857Z"
   },
   {
    "duration": 1590,
    "start_time": "2021-09-06T20:24:58.728Z"
   },
   {
    "duration": 1269,
    "start_time": "2021-09-06T20:25:00.321Z"
   },
   {
    "duration": -87,
    "start_time": "2021-09-06T20:25:01.681Z"
   },
   {
    "duration": -88,
    "start_time": "2021-09-06T20:25:01.685Z"
   },
   {
    "duration": -98,
    "start_time": "2021-09-06T20:25:01.697Z"
   },
   {
    "duration": -99,
    "start_time": "2021-09-06T20:25:01.699Z"
   },
   {
    "duration": 787,
    "start_time": "2021-09-06T20:44:20.245Z"
   },
   {
    "duration": 8,
    "start_time": "2021-09-06T20:44:38.507Z"
   },
   {
    "duration": 845,
    "start_time": "2021-09-06T20:44:38.753Z"
   },
   {
    "duration": 1270,
    "start_time": "2021-09-07T15:38:25.730Z"
   },
   {
    "duration": 1473,
    "start_time": "2021-09-07T15:38:38.691Z"
   },
   {
    "duration": 63,
    "start_time": "2021-09-07T15:38:40.167Z"
   },
   {
    "duration": 901,
    "start_time": "2021-09-07T15:38:40.232Z"
   },
   {
    "duration": 12,
    "start_time": "2021-09-07T15:38:41.135Z"
   },
   {
    "duration": 5,
    "start_time": "2021-09-07T15:38:41.163Z"
   },
   {
    "duration": 10,
    "start_time": "2021-09-07T15:38:41.171Z"
   },
   {
    "duration": 22,
    "start_time": "2021-09-07T15:38:41.184Z"
   },
   {
    "duration": 1083,
    "start_time": "2021-09-07T15:38:41.210Z"
   },
   {
    "duration": 37,
    "start_time": "2021-09-07T15:38:42.296Z"
   },
   {
    "duration": 44,
    "start_time": "2021-09-07T15:38:42.335Z"
   },
   {
    "duration": 54,
    "start_time": "2021-09-07T15:38:42.381Z"
   },
   {
    "duration": 1668,
    "start_time": "2021-09-07T15:40:45.242Z"
   },
   {
    "duration": 61,
    "start_time": "2021-09-07T15:40:46.913Z"
   },
   {
    "duration": 861,
    "start_time": "2021-09-07T15:40:46.977Z"
   },
   {
    "duration": 24,
    "start_time": "2021-09-07T15:40:47.841Z"
   },
   {
    "duration": 6,
    "start_time": "2021-09-07T15:40:47.867Z"
   },
   {
    "duration": 11,
    "start_time": "2021-09-07T15:40:47.876Z"
   },
   {
    "duration": 22,
    "start_time": "2021-09-07T15:40:47.889Z"
   },
   {
    "duration": 1094,
    "start_time": "2021-09-07T15:40:47.914Z"
   },
   {
    "duration": 50,
    "start_time": "2021-09-07T15:40:49.011Z"
   },
   {
    "duration": 20,
    "start_time": "2021-09-07T15:40:49.063Z"
   },
   {
    "duration": 46,
    "start_time": "2021-09-07T15:40:49.085Z"
   },
   {
    "duration": 1506,
    "start_time": "2021-09-07T15:49:19.539Z"
   },
   {
    "duration": 64,
    "start_time": "2021-09-07T15:49:21.049Z"
   },
   {
    "duration": 12,
    "start_time": "2021-09-07T15:49:21.116Z"
   },
   {
    "duration": 10,
    "start_time": "2021-09-07T15:49:21.131Z"
   },
   {
    "duration": 7,
    "start_time": "2021-09-07T15:49:21.163Z"
   },
   {
    "duration": 27,
    "start_time": "2021-09-07T15:49:21.173Z"
   },
   {
    "duration": 1065,
    "start_time": "2021-09-07T15:49:21.203Z"
   },
   {
    "duration": 38,
    "start_time": "2021-09-07T15:49:22.271Z"
   },
   {
    "duration": 20,
    "start_time": "2021-09-07T15:49:22.313Z"
   },
   {
    "duration": 45,
    "start_time": "2021-09-07T15:49:22.362Z"
   },
   {
    "duration": 985761,
    "start_time": "2021-09-07T15:49:22.410Z"
   },
   {
    "duration": 1464,
    "start_time": "2021-09-07T16:05:48.264Z"
   },
   {
    "duration": 579,
    "start_time": "2021-09-07T16:05:49.730Z"
   },
   {
    "duration": 9,
    "start_time": "2021-09-07T16:05:50.312Z"
   },
   {
    "duration": 797,
    "start_time": "2021-09-07T16:05:50.324Z"
   },
   {
    "duration": 648,
    "start_time": "2021-09-07T16:05:51.123Z"
   },
   {
    "duration": 776,
    "start_time": "2021-09-07T16:05:51.773Z"
   },
   {
    "duration": 780,
    "start_time": "2021-09-07T16:06:47.652Z"
   },
   {
    "duration": 611,
    "start_time": "2021-09-07T16:06:54.016Z"
   },
   {
    "duration": 768,
    "start_time": "2021-09-07T16:06:58.925Z"
   },
   {
    "duration": 1246,
    "start_time": "2021-09-09T08:18:59.498Z"
   },
   {
    "duration": 48,
    "start_time": "2021-09-09T08:19:00.745Z"
   },
   {
    "duration": 8,
    "start_time": "2021-09-09T08:19:00.795Z"
   },
   {
    "duration": 5,
    "start_time": "2021-09-09T08:19:00.805Z"
   },
   {
    "duration": 12,
    "start_time": "2021-09-09T08:19:00.812Z"
   },
   {
    "duration": 18,
    "start_time": "2021-09-09T08:19:00.827Z"
   },
   {
    "duration": 770,
    "start_time": "2021-09-09T08:19:00.847Z"
   },
   {
    "duration": 26,
    "start_time": "2021-09-09T08:19:01.619Z"
   },
   {
    "duration": 13,
    "start_time": "2021-09-09T08:19:01.647Z"
   },
   {
    "duration": 57,
    "start_time": "2021-09-09T08:19:01.662Z"
   },
   {
    "duration": 666977,
    "start_time": "2021-09-09T08:19:01.721Z"
   },
   {
    "duration": 1159,
    "start_time": "2021-09-09T08:30:08.701Z"
   },
   {
    "duration": 377,
    "start_time": "2021-09-09T08:30:09.862Z"
   },
   {
    "duration": 6,
    "start_time": "2021-09-09T08:30:10.241Z"
   },
   {
    "duration": 531,
    "start_time": "2021-09-09T08:30:10.249Z"
   },
   {
    "duration": 406,
    "start_time": "2021-09-09T08:30:10.790Z"
   },
   {
    "duration": 532,
    "start_time": "2021-09-09T08:30:11.198Z"
   },
   {
    "duration": 1462,
    "start_time": "2021-09-09T10:00:18.394Z"
   },
   {
    "duration": 59,
    "start_time": "2021-09-09T10:00:19.860Z"
   },
   {
    "duration": 12,
    "start_time": "2021-09-09T10:00:47.890Z"
   },
   {
    "duration": 8,
    "start_time": "2021-09-09T10:00:48.891Z"
   },
   {
    "duration": 8,
    "start_time": "2021-09-09T10:00:49.785Z"
   },
   {
    "duration": 25,
    "start_time": "2021-09-09T10:00:49.993Z"
   },
   {
    "duration": 1046,
    "start_time": "2021-09-09T10:00:50.209Z"
   },
   {
    "duration": 51,
    "start_time": "2021-09-09T10:00:51.258Z"
   },
   {
    "duration": 20,
    "start_time": "2021-09-09T10:00:51.458Z"
   },
   {
    "duration": 45,
    "start_time": "2021-09-09T10:10:21.121Z"
   },
   {
    "duration": 1005163,
    "start_time": "2021-09-09T10:10:21.821Z"
   },
   {
    "duration": 1656,
    "start_time": "2021-09-09T10:27:06.988Z"
   },
   {
    "duration": 539,
    "start_time": "2021-09-09T10:27:08.647Z"
   },
   {
    "duration": 8,
    "start_time": "2021-09-09T10:27:09.189Z"
   },
   {
    "duration": 768,
    "start_time": "2021-09-09T10:27:09.199Z"
   },
   {
    "duration": 619,
    "start_time": "2021-09-09T10:27:09.982Z"
   },
   {
    "duration": 732,
    "start_time": "2021-09-09T10:27:10.603Z"
   },
   {
    "duration": 1639,
    "start_time": "2021-09-09T15:47:35.415Z"
   },
   {
    "duration": 65,
    "start_time": "2021-09-09T15:47:37.058Z"
   },
   {
    "duration": 12,
    "start_time": "2021-09-09T15:47:39.762Z"
   },
   {
    "duration": 7,
    "start_time": "2021-09-09T15:47:41.074Z"
   },
   {
    "duration": 8,
    "start_time": "2021-09-09T15:47:44.090Z"
   },
   {
    "duration": 22,
    "start_time": "2021-09-09T15:47:48.366Z"
   },
   {
    "duration": 1100,
    "start_time": "2021-09-09T15:47:51.322Z"
   },
   {
    "duration": 16,
    "start_time": "2021-09-09T15:48:30.522Z"
   },
   {
    "duration": 1080,
    "start_time": "2021-09-09T15:48:37.074Z"
   },
   {
    "duration": 1499,
    "start_time": "2021-09-09T15:48:48.259Z"
   },
   {
    "duration": 64,
    "start_time": "2021-09-09T15:48:49.761Z"
   },
   {
    "duration": 11,
    "start_time": "2021-09-09T15:48:49.828Z"
   },
   {
    "duration": 16,
    "start_time": "2021-09-09T15:48:49.842Z"
   },
   {
    "duration": 7,
    "start_time": "2021-09-09T15:48:49.860Z"
   },
   {
    "duration": 21,
    "start_time": "2021-09-09T15:48:49.869Z"
   },
   {
    "duration": 977,
    "start_time": "2021-09-09T15:48:49.892Z"
   },
   {
    "duration": 40,
    "start_time": "2021-09-09T15:48:50.872Z"
   },
   {
    "duration": 48,
    "start_time": "2021-09-09T15:48:50.916Z"
   },
   {
    "duration": 49,
    "start_time": "2021-09-09T15:48:50.967Z"
   },
   {
    "duration": 1535,
    "start_time": "2021-09-09T15:51:45.923Z"
   },
   {
    "duration": 66,
    "start_time": "2021-09-09T15:51:47.461Z"
   },
   {
    "duration": 11,
    "start_time": "2021-09-09T15:51:47.530Z"
   },
   {
    "duration": 7,
    "start_time": "2021-09-09T15:51:47.555Z"
   },
   {
    "duration": 9,
    "start_time": "2021-09-09T15:51:47.564Z"
   },
   {
    "duration": 20,
    "start_time": "2021-09-09T15:51:47.576Z"
   },
   {
    "duration": 982,
    "start_time": "2021-09-09T15:51:47.598Z"
   },
   {
    "duration": 4,
    "start_time": "2021-09-09T15:51:48.583Z"
   },
   {
    "duration": 69,
    "start_time": "2021-09-09T15:51:48.591Z"
   },
   {
    "duration": 45,
    "start_time": "2021-09-09T15:51:48.663Z"
   },
   {
    "duration": 1519,
    "start_time": "2021-09-09T15:53:21.746Z"
   },
   {
    "duration": 66,
    "start_time": "2021-09-09T15:53:23.268Z"
   },
   {
    "duration": 20,
    "start_time": "2021-09-09T15:53:23.337Z"
   },
   {
    "duration": 7,
    "start_time": "2021-09-09T15:53:23.360Z"
   },
   {
    "duration": 13,
    "start_time": "2021-09-09T15:53:23.369Z"
   },
   {
    "duration": 33,
    "start_time": "2021-09-09T15:53:23.385Z"
   },
   {
    "duration": 1061,
    "start_time": "2021-09-09T15:53:23.421Z"
   },
   {
    "duration": 3,
    "start_time": "2021-09-09T15:53:24.488Z"
   },
   {
    "duration": 75,
    "start_time": "2021-09-09T15:53:24.495Z"
   },
   {
    "duration": 50,
    "start_time": "2021-09-09T15:53:24.574Z"
   },
   {
    "duration": 1491,
    "start_time": "2021-09-09T15:54:00.359Z"
   },
   {
    "duration": 70,
    "start_time": "2021-09-09T15:54:01.854Z"
   },
   {
    "duration": 12,
    "start_time": "2021-09-09T15:54:01.927Z"
   },
   {
    "duration": 26,
    "start_time": "2021-09-09T15:54:01.941Z"
   },
   {
    "duration": 25,
    "start_time": "2021-09-09T15:54:01.969Z"
   },
   {
    "duration": 42,
    "start_time": "2021-09-09T15:54:01.997Z"
   },
   {
    "duration": 963,
    "start_time": "2021-09-09T15:54:02.041Z"
   },
   {
    "duration": 3,
    "start_time": "2021-09-09T15:54:03.008Z"
   },
   {
    "duration": 68,
    "start_time": "2021-09-09T15:54:03.014Z"
   },
   {
    "duration": 47,
    "start_time": "2021-09-09T15:54:03.085Z"
   },
   {
    "duration": 1042923,
    "start_time": "2021-09-09T15:54:03.134Z"
   },
   {
    "duration": 1488,
    "start_time": "2021-09-09T16:11:26.060Z"
   },
   {
    "duration": 603,
    "start_time": "2021-09-09T16:11:27.551Z"
   },
   {
    "duration": 8,
    "start_time": "2021-09-09T16:11:28.156Z"
   },
   {
    "duration": 852,
    "start_time": "2021-09-09T16:11:28.167Z"
   },
   {
    "duration": 783,
    "start_time": "2021-09-09T16:11:29.021Z"
   },
   {
    "duration": 847,
    "start_time": "2021-09-09T16:11:29.807Z"
   },
   {
    "duration": 1331,
    "start_time": "2021-09-09T16:19:27.988Z"
   },
   {
    "duration": 557,
    "start_time": "2021-09-09T16:20:35.860Z"
   },
   {
    "duration": 9,
    "start_time": "2021-09-09T16:20:50.408Z"
   },
   {
    "duration": 783,
    "start_time": "2021-09-09T16:20:51.412Z"
   },
   {
    "duration": 606,
    "start_time": "2021-09-09T16:21:15.108Z"
   },
   {
    "duration": 764,
    "start_time": "2021-09-09T16:21:16.204Z"
   }
  ],
  "hide_input": false,
  "kernelspec": {
   "display_name": "Python 3",
   "language": "python",
   "name": "python3"
  },
  "language_info": {
   "codemirror_mode": {
    "name": "ipython",
    "version": 3
   },
   "file_extension": ".py",
   "mimetype": "text/x-python",
   "name": "python",
   "nbconvert_exporter": "python",
   "pygments_lexer": "ipython3",
   "version": "3.7.4"
  },
  "toc": {
   "base_numbering": 1,
   "nav_menu": {},
   "number_sections": true,
   "sideBar": true,
   "skip_h1_title": true,
   "title_cell": "Содержание",
   "title_sidebar": "Contents",
   "toc_cell": true,
   "toc_position": {
    "height": "calc(100% - 180px)",
    "left": "10px",
    "top": "150px",
    "width": "203.391px"
   },
   "toc_section_display": true,
   "toc_window_display": true
  },
  "varInspector": {
   "cols": {
    "lenName": 16,
    "lenType": 16,
    "lenVar": 40
   },
   "kernels_config": {
    "python": {
     "delete_cmd_postfix": "",
     "delete_cmd_prefix": "del ",
     "library": "var_list.py",
     "varRefreshCmd": "print(var_dic_list())"
    },
    "r": {
     "delete_cmd_postfix": ") ",
     "delete_cmd_prefix": "rm(",
     "library": "var_list.r",
     "varRefreshCmd": "cat(var_dic_list()) "
    }
   },
   "types_to_exclude": [
    "module",
    "function",
    "builtin_function_or_method",
    "instance",
    "_Feature"
   ],
   "window_display": false
  }
 },
 "nbformat": 4,
 "nbformat_minor": 2
}
